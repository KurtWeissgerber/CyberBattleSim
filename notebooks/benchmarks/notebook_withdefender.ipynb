{
 "cells": [
  {
   "cell_type": "code",
   "execution_count": 1,
   "id": "c09c524c",
   "metadata": {
    "execution": {
     "iopub.execute_input": "2024-08-08T07:07:03.071837Z",
     "iopub.status.busy": "2024-08-08T07:07:03.071385Z",
     "iopub.status.idle": "2024-08-08T07:07:03.085743Z",
     "shell.execute_reply": "2024-08-08T07:07:03.084320Z"
    },
    "papermill": {
     "duration": 0.020843,
     "end_time": "2024-08-08T07:07:03.088064",
     "exception": false,
     "start_time": "2024-08-08T07:07:03.067221",
     "status": "completed"
    },
    "tags": []
   },
   "outputs": [
    {
     "data": {
      "text/plain": [
       "'Attacker agent benchmark comparison in presence of a basic defender\\n\\nThis notebooks can be run directly from VSCode, to generate a\\ntraditional Jupyter Notebook to open in your browser\\n you can run the VSCode command `Export Currenty Python File As Jupyter Notebook`.\\n'"
      ]
     },
     "execution_count": 1,
     "metadata": {},
     "output_type": "execute_result"
    }
   ],
   "source": [
    "# Copyright (c) Microsoft Corporation.\n",
    "# Licensed under the MIT License.\n",
    "\n",
    "\"\"\"Attacker agent benchmark comparison in presence of a basic defender\n",
    "\n",
    "This notebooks can be run directly from VSCode, to generate a\n",
    "traditional Jupyter Notebook to open in your browser\n",
    " you can run the VSCode command `Export Currenty Python File As Jupyter Notebook`.\n",
    "\"\"\""
   ]
  },
  {
   "cell_type": "code",
   "execution_count": 2,
   "id": "d0a8b943",
   "metadata": {
    "execution": {
     "iopub.execute_input": "2024-08-08T07:07:03.096332Z",
     "iopub.status.busy": "2024-08-08T07:07:03.095848Z",
     "iopub.status.idle": "2024-08-08T07:07:05.143437Z",
     "shell.execute_reply": "2024-08-08T07:07:05.142271Z"
    },
    "lines_to_next_cell": 2,
    "papermill": {
     "duration": 2.05392,
     "end_time": "2024-08-08T07:07:05.145694",
     "exception": false,
     "start_time": "2024-08-08T07:07:03.091774",
     "status": "completed"
    },
    "tags": []
   },
   "outputs": [],
   "source": [
    "import sys\n",
    "import os\n",
    "import logging\n",
    "import gymnasium as gym\n",
    "import importlib\n",
    "import cyberbattle.agents.baseline.learner as learner\n",
    "import cyberbattle.agents.baseline.plotting as p\n",
    "import cyberbattle.agents.baseline.agent_wrapper as w\n",
    "import cyberbattle.agents.baseline.agent_dql as dqla\n",
    "import cyberbattle.agents.baseline.agent_randomcredlookup as rca\n",
    "from cyberbattle.agents.baseline.agent_wrapper import Verbosity\n",
    "from cyberbattle._env.defender import ScanAndReimageCompromisedMachines\n",
    "from cyberbattle._env.cyberbattle_env import AttackerGoal, DefenderConstraint, CyberBattleEnv\n",
    "\n",
    "importlib.reload(learner)\n",
    "importlib.reload(p)\n",
    "importlib.reload(p)\n",
    "\n",
    "logging.basicConfig(stream=sys.stdout, level=logging.ERROR, format=\"%(levelname)s: %(message)s\")\n",
    "%matplotlib inline"
   ]
  },
  {
   "cell_type": "code",
   "execution_count": 3,
   "id": "891c3ac4",
   "metadata": {
    "execution": {
     "iopub.execute_input": "2024-08-08T07:07:05.151777Z",
     "iopub.status.busy": "2024-08-08T07:07:05.151068Z",
     "iopub.status.idle": "2024-08-08T07:07:05.156157Z",
     "shell.execute_reply": "2024-08-08T07:07:05.155180Z"
    },
    "papermill": {
     "duration": 0.009595,
     "end_time": "2024-08-08T07:07:05.157855",
     "exception": false,
     "start_time": "2024-08-08T07:07:05.148260",
     "status": "completed"
    },
    "tags": [
     "parameters"
    ]
   },
   "outputs": [],
   "source": [
    "iteration_count = 600\n",
    "training_episode_count = 10\n",
    "plots_dir = \"output/plots\""
   ]
  },
  {
   "cell_type": "code",
   "execution_count": 4,
   "id": "effe4acf",
   "metadata": {
    "execution": {
     "iopub.execute_input": "2024-08-08T07:07:05.162966Z",
     "iopub.status.busy": "2024-08-08T07:07:05.162268Z",
     "iopub.status.idle": "2024-08-08T07:07:05.177119Z",
     "shell.execute_reply": "2024-08-08T07:07:05.176126Z"
    },
    "papermill": {
     "duration": 0.01912,
     "end_time": "2024-08-08T07:07:05.178718",
     "exception": false,
     "start_time": "2024-08-08T07:07:05.159598",
     "status": "completed"
    },
    "tags": [
     "injected-parameters"
    ]
   },
   "outputs": [],
   "source": [
    "# Parameters\n",
    "plots_dir = \"notebooks/output/benchmark/plots\"\n"
   ]
  },
  {
   "cell_type": "code",
   "execution_count": 5,
   "id": "147b87f5",
   "metadata": {
    "execution": {
     "iopub.execute_input": "2024-08-08T07:07:05.183640Z",
     "iopub.status.busy": "2024-08-08T07:07:05.183263Z",
     "iopub.status.idle": "2024-08-08T07:07:05.211255Z",
     "shell.execute_reply": "2024-08-08T07:07:05.210306Z"
    },
    "papermill": {
     "duration": 0.031952,
     "end_time": "2024-08-08T07:07:05.212599",
     "exception": false,
     "start_time": "2024-08-08T07:07:05.180647",
     "status": "completed"
    },
    "tags": []
   },
   "outputs": [
    {
     "name": "stderr",
     "output_type": "stream",
     "text": [
      "/home/wblum/miniconda3/envs/cybersim/lib/python3.9/site-packages/gymnasium/envs/registration.py:481: UserWarning: \u001b[33mWARN: The environment creator metadata doesn't include `render_modes`, contains: ['render.modes']\u001b[0m\n",
      "  logger.warn(\n"
     ]
    }
   ],
   "source": [
    "gym_env = gym.make(\n",
    "    \"CyberBattleChain-v0\",\n",
    "    size=10,\n",
    "    attacker_goal=AttackerGoal(own_atleast=0, own_atleast_percent=1.0),\n",
    "    defender_constraint=DefenderConstraint(maintain_sla=0.80),\n",
    "    defender_agent=ScanAndReimageCompromisedMachines(probability=0.6, scan_capacity=2, scan_frequency=5),\n",
    ").unwrapped\n",
    "\n",
    "cyberbattlechain_defender = gym_env.unwrapped\n",
    "assert isinstance(cyberbattlechain_defender, CyberBattleEnv)\n",
    "\n",
    "\n",
    "ep = w.EnvironmentBounds.of_identifiers(maximum_total_credentials=22, maximum_node_count=22, identifiers=cyberbattlechain_defender.identifiers)"
   ]
  },
  {
   "cell_type": "code",
   "execution_count": 6,
   "id": "8b4888bc",
   "metadata": {
    "execution": {
     "iopub.execute_input": "2024-08-08T07:07:05.217912Z",
     "iopub.status.busy": "2024-08-08T07:07:05.217399Z",
     "iopub.status.idle": "2024-08-08T07:07:37.431485Z",
     "shell.execute_reply": "2024-08-08T07:07:37.430415Z"
    },
    "lines_to_next_cell": 2,
    "papermill": {
     "duration": 32.218511,
     "end_time": "2024-08-08T07:07:37.433346",
     "exception": false,
     "start_time": "2024-08-08T07:07:05.214835",
     "status": "completed"
    },
    "tags": []
   },
   "outputs": [
    {
     "name": "stdout",
     "output_type": "stream",
     "text": [
      "###### DQL\n",
      "Learning with: episode_count=10,iteration_count=600,ϵ=0.9,ϵ_min=0.1, ϵ_expdecay=5000,γ=0.15, lr=0.01, replaymemory=10000,\n",
      "batch=256, target_update=5\n",
      "  ## Episode: 1/10 'DQL' ϵ=0.9000, γ=0.15, lr=0.01, replaymemory=10000,\n",
      "batch=256, target_update=5\n"
     ]
    },
    {
     "name": "stderr",
     "output_type": "stream",
     "text": [
      "\r",
      "Episode 1|Iteration 0|reward: ------|last_reward_at: ----|Elapsed Time: 0:00:00||"
     ]
    },
    {
     "name": "stderr",
     "output_type": "stream",
     "text": [
      "\r",
      "Episode 1|Iteration 1|reward:    0.0|last_reward_at: ----|Elapsed Time: 0:00:00||"
     ]
    },
    {
     "name": "stderr",
     "output_type": "stream",
     "text": [
      "/home/wblum/CyberBattleSim/cyberbattle/agents/baseline/agent_dql.py:408: UserWarning: Creating a tensor from a list of numpy.ndarrays is extremely slow. Please consider converting the list to a single numpy.ndarray with numpy.array() before converting to a tensor. (Triggered internally at ../torch/csrc/utils/tensor_new.cpp:275.)\n",
      "  state_batch = torch.tensor(states_to_consider).to(device)\n",
      "\r",
      "Episode 1|Iteration 10|reward:   14.0|last_reward_at: ----|Elapsed Time: 0:00:00||"
     ]
    },
    {
     "name": "stderr",
     "output_type": "stream",
     "text": [
      "\r",
      "Episode 1|Iteration 10|reward:   14.0|last_reward_at:   10|Elapsed Time: 0:00:00||"
     ]
    },
    {
     "name": "stderr",
     "output_type": "stream",
     "text": [
      "\r",
      "Episode 1|Iteration 13|reward:  114.0|last_reward_at:   10|Elapsed Time: 0:00:00||"
     ]
    },
    {
     "name": "stderr",
     "output_type": "stream",
     "text": [
      "\r",
      "Episode 1|Iteration 13|reward:  114.0|last_reward_at:   13|Elapsed Time: 0:00:00||"
     ]
    },
    {
     "name": "stderr",
     "output_type": "stream",
     "text": [
      "\r",
      "Episode 1|Iteration 15|reward:  125.0|last_reward_at:   13|Elapsed Time: 0:00:00||"
     ]
    },
    {
     "name": "stderr",
     "output_type": "stream",
     "text": [
      "\r",
      "Episode 1|Iteration 15|reward:  125.0|last_reward_at:   15|Elapsed Time: 0:00:00||"
     ]
    },
    {
     "name": "stderr",
     "output_type": "stream",
     "text": [
      "\r",
      "Episode 1|Iteration 16|reward:  131.0|last_reward_at:   15|Elapsed Time: 0:00:00||"
     ]
    },
    {
     "name": "stderr",
     "output_type": "stream",
     "text": [
      "\r",
      "Episode 1|Iteration 16|reward:  131.0|last_reward_at:   16|Elapsed Time: 0:00:00||"
     ]
    },
    {
     "name": "stderr",
     "output_type": "stream",
     "text": [
      "\r",
      "Episode 1|Iteration 37|reward:  133.0|last_reward_at:   16|Elapsed Time: 0:00:00||"
     ]
    },
    {
     "name": "stderr",
     "output_type": "stream",
     "text": [
      "\r",
      "Episode 1|Iteration 37|reward:  133.0|last_reward_at:   37|Elapsed Time: 0:00:00||"
     ]
    },
    {
     "name": "stderr",
     "output_type": "stream",
     "text": [
      "\r",
      "Episode 1|Iteration 51|reward:  141.0|last_reward_at:   37|Elapsed Time: 0:00:00||"
     ]
    },
    {
     "name": "stderr",
     "output_type": "stream",
     "text": [
      "\r",
      "Episode 1|Iteration 51|reward:  141.0|last_reward_at:   51|Elapsed Time: 0:00:00||"
     ]
    },
    {
     "name": "stderr",
     "output_type": "stream",
     "text": [
      "\r",
      "Episode 1|Iteration 53|reward:  143.0|last_reward_at:   51|Elapsed Time: 0:00:00||"
     ]
    },
    {
     "name": "stderr",
     "output_type": "stream",
     "text": [
      "\r",
      "Episode 1|Iteration 53|reward:  143.0|last_reward_at:   53|Elapsed Time: 0:00:00||"
     ]
    },
    {
     "name": "stderr",
     "output_type": "stream",
     "text": [
      "\r",
      "Episode 1|Iteration 84|reward:  143.0|last_reward_at:   53|Elapsed Time: 0:00:00||"
     ]
    },
    {
     "name": "stderr",
     "output_type": "stream",
     "text": [
      "\r",
      "Episode 1|Iteration 95|reward:  152.0|last_reward_at:   53|Elapsed Time: 0:00:00||"
     ]
    },
    {
     "name": "stderr",
     "output_type": "stream",
     "text": [
      "\r",
      "Episode 1|Iteration 95|reward:  152.0|last_reward_at:   95|Elapsed Time: 0:00:00||"
     ]
    },
    {
     "name": "stderr",
     "output_type": "stream",
     "text": [
      "\r",
      "Episode 1|Iteration 130|reward:  152.0|last_reward_at:   95|Elapsed Time: 0:00:00||"
     ]
    },
    {
     "name": "stderr",
     "output_type": "stream",
     "text": [
      "\r",
      "Episode 1|Iteration 175|reward:  152.0|last_reward_at:   95|Elapsed Time: 0:00:00||"
     ]
    },
    {
     "name": "stderr",
     "output_type": "stream",
     "text": [
      "\r",
      "Episode 1|Iteration 213|reward:  152.0|last_reward_at:   95|Elapsed Time: 0:00:00||"
     ]
    },
    {
     "name": "stderr",
     "output_type": "stream",
     "text": [
      "\r",
      "Episode 1|Iteration 251|reward:  152.0|last_reward_at:   95|Elapsed Time: 0:00:00||"
     ]
    },
    {
     "name": "stderr",
     "output_type": "stream",
     "text": [
      "\r",
      "Episode 1|Iteration 259|reward:  152.0|last_reward_at:   95|Elapsed Time: 0:00:00||"
     ]
    },
    {
     "name": "stderr",
     "output_type": "stream",
     "text": [
      "\r",
      "Episode 1|Iteration 266|reward:  152.0|last_reward_at:   95|Elapsed Time: 0:00:00||"
     ]
    },
    {
     "name": "stderr",
     "output_type": "stream",
     "text": [
      "\r",
      "Episode 1|Iteration 273|reward:  152.0|last_reward_at:   95|Elapsed Time: 0:00:00||"
     ]
    },
    {
     "name": "stderr",
     "output_type": "stream",
     "text": [
      "\r",
      "Episode 1|Iteration 282|reward:  152.0|last_reward_at:   95|Elapsed Time: 0:00:00||"
     ]
    },
    {
     "name": "stderr",
     "output_type": "stream",
     "text": [
      "\r",
      "Episode 1|Iteration 289|reward:  152.0|last_reward_at:   95|Elapsed Time: 0:00:00||"
     ]
    },
    {
     "name": "stderr",
     "output_type": "stream",
     "text": [
      "\r",
      "Episode 1|Iteration 297|reward:  152.0|last_reward_at:   95|Elapsed Time: 0:00:00||"
     ]
    },
    {
     "name": "stderr",
     "output_type": "stream",
     "text": [
      "\r",
      "Episode 1|Iteration 304|reward:  152.0|last_reward_at:   95|Elapsed Time: 0:00:01||"
     ]
    },
    {
     "name": "stderr",
     "output_type": "stream",
     "text": [
      "\r",
      "Episode 1|Iteration 312|reward:  152.0|last_reward_at:   95|Elapsed Time: 0:00:01||"
     ]
    },
    {
     "name": "stderr",
     "output_type": "stream",
     "text": [
      "\r",
      "Episode 1|Iteration 318|reward:  252.0|last_reward_at:   95|Elapsed Time: 0:00:01||"
     ]
    },
    {
     "name": "stderr",
     "output_type": "stream",
     "text": [
      "\r",
      "Episode 1|Iteration 318|reward:  252.0|last_reward_at:  318|Elapsed Time: 0:00:01||"
     ]
    },
    {
     "name": "stderr",
     "output_type": "stream",
     "text": [
      "\r",
      "Episode 1|Iteration 327|reward:  252.0|last_reward_at:  318|Elapsed Time: 0:00:01||"
     ]
    },
    {
     "name": "stderr",
     "output_type": "stream",
     "text": [
      "\r",
      "Episode 1|Iteration 328|reward:  263.0|last_reward_at:  318|Elapsed Time: 0:00:01||"
     ]
    },
    {
     "name": "stderr",
     "output_type": "stream",
     "text": [
      "\r",
      "Episode 1|Iteration 328|reward:  263.0|last_reward_at:  328|Elapsed Time: 0:00:01||"
     ]
    },
    {
     "name": "stderr",
     "output_type": "stream",
     "text": [
      "\r",
      "Episode 1|Iteration 335|reward:  263.0|last_reward_at:  328|Elapsed Time: 0:00:01||"
     ]
    },
    {
     "name": "stderr",
     "output_type": "stream",
     "text": [
      "\r",
      "Episode 1|Iteration 340|reward:  265.0|last_reward_at:  328|Elapsed Time: 0:00:01||"
     ]
    },
    {
     "name": "stderr",
     "output_type": "stream",
     "text": [
      "\r",
      "Episode 1|Iteration 340|reward:  265.0|last_reward_at:  340|Elapsed Time: 0:00:01||"
     ]
    },
    {
     "name": "stderr",
     "output_type": "stream",
     "text": [
      "\r",
      "Episode 1|Iteration 346|reward:  269.0|last_reward_at:  340|Elapsed Time: 0:00:01||"
     ]
    },
    {
     "name": "stderr",
     "output_type": "stream",
     "text": [
      "\r",
      "Episode 1|Iteration 346|reward:  269.0|last_reward_at:  346|Elapsed Time: 0:00:01||"
     ]
    },
    {
     "name": "stderr",
     "output_type": "stream",
     "text": [
      "\r",
      "Episode 1|Iteration 356|reward:  269.0|last_reward_at:  346|Elapsed Time: 0:00:01||"
     ]
    },
    {
     "name": "stderr",
     "output_type": "stream",
     "text": [
      "\r",
      "Episode 1|Iteration 365|reward:  269.0|last_reward_at:  346|Elapsed Time: 0:00:01||"
     ]
    },
    {
     "name": "stderr",
     "output_type": "stream",
     "text": [
      "\r",
      "Episode 1|Iteration 373|reward:  269.0|last_reward_at:  346|Elapsed Time: 0:00:01||"
     ]
    },
    {
     "name": "stderr",
     "output_type": "stream",
     "text": [
      "\r",
      "Episode 1|Iteration 380|reward:  269.0|last_reward_at:  346|Elapsed Time: 0:00:01||"
     ]
    },
    {
     "name": "stderr",
     "output_type": "stream",
     "text": [
      "\r",
      "Episode 1|Iteration 388|reward:  269.0|last_reward_at:  346|Elapsed Time: 0:00:02||"
     ]
    },
    {
     "name": "stderr",
     "output_type": "stream",
     "text": [
      "\r",
      "Episode 1|Iteration 395|reward:  269.0|last_reward_at:  346|Elapsed Time: 0:00:02||"
     ]
    },
    {
     "name": "stderr",
     "output_type": "stream",
     "text": [
      "\r",
      "Episode 1|Iteration 403|reward:  269.0|last_reward_at:  346|Elapsed Time: 0:00:02||"
     ]
    },
    {
     "name": "stderr",
     "output_type": "stream",
     "text": [
      "\r",
      "Episode 1|Iteration 411|reward:  269.0|last_reward_at:  346|Elapsed Time: 0:00:02||"
     ]
    },
    {
     "name": "stderr",
     "output_type": "stream",
     "text": [
      "\r",
      "Episode 1|Iteration 418|reward:  269.0|last_reward_at:  346|Elapsed Time: 0:00:02||"
     ]
    },
    {
     "name": "stderr",
     "output_type": "stream",
     "text": [
      "\r",
      "Episode 1|Iteration 426|reward:  269.0|last_reward_at:  346|Elapsed Time: 0:00:02||"
     ]
    },
    {
     "name": "stderr",
     "output_type": "stream",
     "text": [
      "\r",
      "Episode 1|Iteration 433|reward:  269.0|last_reward_at:  346|Elapsed Time: 0:00:02||"
     ]
    },
    {
     "name": "stderr",
     "output_type": "stream",
     "text": [
      "\r",
      "Episode 1|Iteration 437|reward:  278.0|last_reward_at:  346|Elapsed Time: 0:00:02||"
     ]
    },
    {
     "name": "stderr",
     "output_type": "stream",
     "text": [
      "\r",
      "Episode 1|Iteration 437|reward:  278.0|last_reward_at:  437|Elapsed Time: 0:00:02||"
     ]
    },
    {
     "name": "stderr",
     "output_type": "stream",
     "text": [
      "\r",
      "Episode 1|Iteration 441|reward:  378.0|last_reward_at:  437|Elapsed Time: 0:00:02||"
     ]
    },
    {
     "name": "stderr",
     "output_type": "stream",
     "text": [
      "\r",
      "Episode 1|Iteration 441|reward:  378.0|last_reward_at:  441|Elapsed Time: 0:00:02||"
     ]
    },
    {
     "name": "stderr",
     "output_type": "stream",
     "text": [
      "\r",
      "Episode 1|Iteration 444|reward:  392.0|last_reward_at:  441|Elapsed Time: 0:00:02||"
     ]
    },
    {
     "name": "stderr",
     "output_type": "stream",
     "text": [
      "\r",
      "Episode 1|Iteration 444|reward:  392.0|last_reward_at:  444|Elapsed Time: 0:00:02||"
     ]
    },
    {
     "name": "stderr",
     "output_type": "stream",
     "text": [
      "\r",
      "Episode 1|Iteration 445|reward:  398.0|last_reward_at:  444|Elapsed Time: 0:00:02||"
     ]
    },
    {
     "name": "stderr",
     "output_type": "stream",
     "text": [
      "\r",
      "Episode 1|Iteration 445|reward:  398.0|last_reward_at:  445|Elapsed Time: 0:00:02||"
     ]
    },
    {
     "name": "stderr",
     "output_type": "stream",
     "text": [
      "\r",
      "Episode 1|Iteration 446|reward:  406.0|last_reward_at:  445|Elapsed Time: 0:00:02||"
     ]
    },
    {
     "name": "stderr",
     "output_type": "stream",
     "text": [
      "\r",
      "Episode 1|Iteration 446|reward:  406.0|last_reward_at:  446|Elapsed Time: 0:00:02||"
     ]
    },
    {
     "name": "stderr",
     "output_type": "stream",
     "text": [
      "\r",
      "Episode 1|Iteration 456|reward:  406.0|last_reward_at:  446|Elapsed Time: 0:00:02||"
     ]
    },
    {
     "name": "stderr",
     "output_type": "stream",
     "text": [
      "\r",
      "Episode 1|Iteration 464|reward:  406.0|last_reward_at:  446|Elapsed Time: 0:00:02||"
     ]
    },
    {
     "name": "stderr",
     "output_type": "stream",
     "text": [
      "\r",
      "Episode 1|Iteration 471|reward:  406.0|last_reward_at:  446|Elapsed Time: 0:00:02||"
     ]
    },
    {
     "name": "stderr",
     "output_type": "stream",
     "text": [
      "\r",
      "Episode 1|Iteration 478|reward:  406.0|last_reward_at:  446|Elapsed Time: 0:00:03||"
     ]
    },
    {
     "name": "stderr",
     "output_type": "stream",
     "text": [
      "\r",
      "Episode 1|Iteration 487|reward:  406.0|last_reward_at:  446|Elapsed Time: 0:00:03||"
     ]
    },
    {
     "name": "stderr",
     "output_type": "stream",
     "text": [
      "\r",
      "Episode 1|Iteration 494|reward:  406.0|last_reward_at:  446|Elapsed Time: 0:00:03||"
     ]
    },
    {
     "name": "stderr",
     "output_type": "stream",
     "text": [
      "\r",
      "Episode 1|Iteration 502|reward:  406.0|last_reward_at:  446|Elapsed Time: 0:00:03||"
     ]
    },
    {
     "name": "stderr",
     "output_type": "stream",
     "text": [
      "\r",
      "Episode 1|Iteration 509|reward:  406.0|last_reward_at:  446|Elapsed Time: 0:00:03||"
     ]
    },
    {
     "name": "stderr",
     "output_type": "stream",
     "text": [
      "\r",
      "Episode 1|Iteration 514|reward:  506.0|last_reward_at:  446|Elapsed Time: 0:00:03||"
     ]
    },
    {
     "name": "stderr",
     "output_type": "stream",
     "text": [
      "\r",
      "Episode 1|Iteration 514|reward:  506.0|last_reward_at:  514|Elapsed Time: 0:00:03||"
     ]
    },
    {
     "name": "stderr",
     "output_type": "stream",
     "text": [
      "\r",
      "Episode 1|Iteration 519|reward:  517.0|last_reward_at:  514|Elapsed Time: 0:00:03||"
     ]
    },
    {
     "name": "stderr",
     "output_type": "stream",
     "text": [
      "\r",
      "Episode 1|Iteration 519|reward:  517.0|last_reward_at:  519|Elapsed Time: 0:00:03||"
     ]
    },
    {
     "name": "stderr",
     "output_type": "stream",
     "text": [
      "\r",
      "Episode 1|Iteration 522|reward:  526.0|last_reward_at:  519|Elapsed Time: 0:00:03||"
     ]
    },
    {
     "name": "stderr",
     "output_type": "stream",
     "text": [
      "\r",
      "Episode 1|Iteration 522|reward:  526.0|last_reward_at:  522|Elapsed Time: 0:00:03||"
     ]
    },
    {
     "name": "stderr",
     "output_type": "stream",
     "text": [
      "\r",
      "Episode 1|Iteration 528|reward:  528.0|last_reward_at:  522|Elapsed Time: 0:00:03||"
     ]
    },
    {
     "name": "stderr",
     "output_type": "stream",
     "text": [
      "\r",
      "Episode 1|Iteration 528|reward:  528.0|last_reward_at:  528|Elapsed Time: 0:00:03||"
     ]
    },
    {
     "name": "stderr",
     "output_type": "stream",
     "text": [
      "\r",
      "Episode 1|Iteration 537|reward:  528.0|last_reward_at:  528|Elapsed Time: 0:00:03||"
     ]
    },
    {
     "name": "stderr",
     "output_type": "stream",
     "text": [
      "\r",
      "Episode 1|Iteration 540|reward:  532.0|last_reward_at:  528|Elapsed Time: 0:00:03||"
     ]
    },
    {
     "name": "stderr",
     "output_type": "stream",
     "text": [
      "\r",
      "Episode 1|Iteration 540|reward:  532.0|last_reward_at:  540|Elapsed Time: 0:00:03||"
     ]
    },
    {
     "name": "stderr",
     "output_type": "stream",
     "text": [
      "\r",
      "Episode 1|Iteration 547|reward:  532.0|last_reward_at:  540|Elapsed Time: 0:00:03||"
     ]
    },
    {
     "name": "stderr",
     "output_type": "stream",
     "text": [
      "\r",
      "Episode 1|Iteration 555|reward:  532.0|last_reward_at:  540|Elapsed Time: 0:00:03||"
     ]
    },
    {
     "name": "stderr",
     "output_type": "stream",
     "text": [
      "\r",
      "Episode 1|Iteration 562|reward:  532.0|last_reward_at:  540|Elapsed Time: 0:00:04||"
     ]
    },
    {
     "name": "stderr",
     "output_type": "stream",
     "text": [
      "\r",
      "Episode 1|Iteration 570|reward:  532.0|last_reward_at:  540|Elapsed Time: 0:00:04||"
     ]
    },
    {
     "name": "stderr",
     "output_type": "stream",
     "text": [
      "\r",
      "Episode 1|Iteration 578|reward:  532.0|last_reward_at:  540|Elapsed Time: 0:00:04||"
     ]
    },
    {
     "name": "stderr",
     "output_type": "stream",
     "text": [
      "\r",
      "Episode 1|Iteration 585|reward:  532.0|last_reward_at:  540|Elapsed Time: 0:00:04||"
     ]
    },
    {
     "name": "stderr",
     "output_type": "stream",
     "text": [
      "\r",
      "Episode 1|Iteration 593|reward:  532.0|last_reward_at:  540|Elapsed Time: 0:00:04||"
     ]
    },
    {
     "name": "stderr",
     "output_type": "stream",
     "text": [
      "\r",
      "Episode 1|Iteration 600|reward:  532.0|last_reward_at:  540|Elapsed Time: 0:00:04||"
     ]
    },
    {
     "name": "stderr",
     "output_type": "stream",
     "text": [
      "\r",
      "Episode 1|Iteration 600|reward:  532.0|last_reward_at:  540|Elapsed Time: 0:00:04||"
     ]
    },
    {
     "name": "stderr",
     "output_type": "stream",
     "text": [
      "\n"
     ]
    },
    {
     "name": "stdout",
     "output_type": "stream",
     "text": [
      "  Episode 1 stopped at t=600 \n",
      "  Breakdown [Reward/NoReward (Success rate)]\n",
      "    explore-local: 5/80 (0.06)\n",
      "    explore-remote: 9/213 (0.04)\n",
      "    explore-connect: 3/218 (0.01)\n",
      "    exploit-local: 3/19 (0.14)\n",
      "    exploit-remote: 1/20 (0.05)\n",
      "    exploit-connect: 1/28 (0.03)\n",
      "  exploit deflected to exploration: 14\n",
      "  ## Episode: 2/10 'DQL' ϵ=0.8097, γ=0.15, lr=0.01, replaymemory=10000,\n",
      "batch=256, target_update=5\n"
     ]
    },
    {
     "name": "stderr",
     "output_type": "stream",
     "text": [
      "\r",
      "Episode 2|Iteration 0|reward: ------|last_reward_at: ----|Elapsed Time: 0:00:00||"
     ]
    },
    {
     "name": "stderr",
     "output_type": "stream",
     "text": [
      "\r",
      "Episode 2|Iteration 1|reward:    0.0|last_reward_at: ----|Elapsed Time: 0:00:00||"
     ]
    },
    {
     "name": "stderr",
     "output_type": "stream",
     "text": [
      "\r",
      "Episode 2|Iteration 2|reward:   14.0|last_reward_at: ----|Elapsed Time: 0:00:00||"
     ]
    },
    {
     "name": "stderr",
     "output_type": "stream",
     "text": [
      "\r",
      "Episode 2|Iteration 2|reward:   14.0|last_reward_at:    2|Elapsed Time: 0:00:00||"
     ]
    },
    {
     "name": "stderr",
     "output_type": "stream",
     "text": [
      "\r",
      "Episode 2|Iteration 5|reward:   18.0|last_reward_at:    2|Elapsed Time: 0:00:00||"
     ]
    },
    {
     "name": "stderr",
     "output_type": "stream",
     "text": [
      "\r",
      "Episode 2|Iteration 5|reward:   18.0|last_reward_at:    5|Elapsed Time: 0:00:00||"
     ]
    },
    {
     "name": "stderr",
     "output_type": "stream",
     "text": [
      "\r",
      "Episode 2|Iteration 7|reward:  118.0|last_reward_at:    5|Elapsed Time: 0:00:00||"
     ]
    },
    {
     "name": "stderr",
     "output_type": "stream",
     "text": [
      "\r",
      "Episode 2|Iteration 7|reward:  118.0|last_reward_at:    7|Elapsed Time: 0:00:00||"
     ]
    },
    {
     "name": "stderr",
     "output_type": "stream",
     "text": [
      "\r",
      "Episode 2|Iteration 8|reward:  132.0|last_reward_at:    7|Elapsed Time: 0:00:00||"
     ]
    },
    {
     "name": "stderr",
     "output_type": "stream",
     "text": [
      "\r",
      "Episode 2|Iteration 8|reward:  132.0|last_reward_at:    8|Elapsed Time: 0:00:00||"
     ]
    },
    {
     "name": "stderr",
     "output_type": "stream",
     "text": [
      "\r",
      "Episode 2|Iteration 12|reward:  232.0|last_reward_at:    8|Elapsed Time: 0:00:00||"
     ]
    },
    {
     "name": "stderr",
     "output_type": "stream",
     "text": [
      "\r",
      "Episode 2|Iteration 12|reward:  232.0|last_reward_at:   12|Elapsed Time: 0:00:00||"
     ]
    },
    {
     "name": "stderr",
     "output_type": "stream",
     "text": [
      "\r",
      "Episode 2|Iteration 13|reward:  238.0|last_reward_at:   12|Elapsed Time: 0:00:00||"
     ]
    },
    {
     "name": "stderr",
     "output_type": "stream",
     "text": [
      "\r",
      "Episode 2|Iteration 13|reward:  238.0|last_reward_at:   13|Elapsed Time: 0:00:00||"
     ]
    },
    {
     "name": "stderr",
     "output_type": "stream",
     "text": [
      "\r",
      "Episode 2|Iteration 14|reward:  252.0|last_reward_at:   13|Elapsed Time: 0:00:00||"
     ]
    },
    {
     "name": "stderr",
     "output_type": "stream",
     "text": [
      "\r",
      "Episode 2|Iteration 14|reward:  252.0|last_reward_at:   14|Elapsed Time: 0:00:00||"
     ]
    },
    {
     "name": "stderr",
     "output_type": "stream",
     "text": [
      "\r",
      "Episode 2|Iteration 23|reward:  252.0|last_reward_at:   14|Elapsed Time: 0:00:00||"
     ]
    },
    {
     "name": "stderr",
     "output_type": "stream",
     "text": [
      "\r",
      "Episode 2|Iteration 31|reward:  252.0|last_reward_at:   14|Elapsed Time: 0:00:00||"
     ]
    },
    {
     "name": "stderr",
     "output_type": "stream",
     "text": [
      "\r",
      "Episode 2|Iteration 38|reward:  252.0|last_reward_at:   14|Elapsed Time: 0:00:00||"
     ]
    },
    {
     "name": "stderr",
     "output_type": "stream",
     "text": [
      "\r",
      "Episode 2|Iteration 46|reward:  252.0|last_reward_at:   14|Elapsed Time: 0:00:00||"
     ]
    },
    {
     "name": "stderr",
     "output_type": "stream",
     "text": [
      "\r",
      "Episode 2|Iteration 54|reward:  252.0|last_reward_at:   14|Elapsed Time: 0:00:00||"
     ]
    },
    {
     "name": "stderr",
     "output_type": "stream",
     "text": [
      "\r",
      "Episode 2|Iteration 54|reward:  254.0|last_reward_at:   14|Elapsed Time: 0:00:00||"
     ]
    },
    {
     "name": "stderr",
     "output_type": "stream",
     "text": [
      "\r",
      "Episode 2|Iteration 54|reward:  254.0|last_reward_at:   54|Elapsed Time: 0:00:00||"
     ]
    },
    {
     "name": "stderr",
     "output_type": "stream",
     "text": [
      "\r",
      "Episode 2|Iteration 61|reward:  254.0|last_reward_at:   54|Elapsed Time: 0:00:00||"
     ]
    },
    {
     "name": "stderr",
     "output_type": "stream",
     "text": [
      "\r",
      "Episode 2|Iteration 69|reward:  254.0|last_reward_at:   54|Elapsed Time: 0:00:00||"
     ]
    },
    {
     "name": "stderr",
     "output_type": "stream",
     "text": [
      "\r",
      "Episode 2|Iteration 71|reward:  260.0|last_reward_at:   54|Elapsed Time: 0:00:00||"
     ]
    },
    {
     "name": "stderr",
     "output_type": "stream",
     "text": [
      "\r",
      "Episode 2|Iteration 71|reward:  260.0|last_reward_at:   71|Elapsed Time: 0:00:00||"
     ]
    },
    {
     "name": "stderr",
     "output_type": "stream",
     "text": [
      "\r",
      "Episode 2|Iteration 72|reward:  262.0|last_reward_at:   71|Elapsed Time: 0:00:00||"
     ]
    },
    {
     "name": "stderr",
     "output_type": "stream",
     "text": [
      "\r",
      "Episode 2|Iteration 72|reward:  262.0|last_reward_at:   72|Elapsed Time: 0:00:00||"
     ]
    },
    {
     "name": "stderr",
     "output_type": "stream",
     "text": [
      "\r",
      "Episode 2|Iteration 81|reward:  262.0|last_reward_at:   72|Elapsed Time: 0:00:00||"
     ]
    },
    {
     "name": "stderr",
     "output_type": "stream",
     "text": [
      "\r",
      "Episode 2|Iteration 90|reward:  262.0|last_reward_at:   72|Elapsed Time: 0:00:01||"
     ]
    },
    {
     "name": "stderr",
     "output_type": "stream",
     "text": [
      "\r",
      "Episode 2|Iteration 99|reward:  262.0|last_reward_at:   72|Elapsed Time: 0:00:01||"
     ]
    },
    {
     "name": "stderr",
     "output_type": "stream",
     "text": [
      "\r",
      "Episode 2|Iteration 106|reward:  262.0|last_reward_at:   72|Elapsed Time: 0:00:01||"
     ]
    },
    {
     "name": "stderr",
     "output_type": "stream",
     "text": [
      "\r",
      "Episode 2|Iteration 114|reward:  262.0|last_reward_at:   72|Elapsed Time: 0:00:01||"
     ]
    },
    {
     "name": "stderr",
     "output_type": "stream",
     "text": [
      "\r",
      "Episode 2|Iteration 122|reward:  262.0|last_reward_at:   72|Elapsed Time: 0:00:01||"
     ]
    },
    {
     "name": "stderr",
     "output_type": "stream",
     "text": [
      "\r",
      "Episode 2|Iteration 125|reward:  268.0|last_reward_at:   72|Elapsed Time: 0:00:01||"
     ]
    },
    {
     "name": "stderr",
     "output_type": "stream",
     "text": [
      "\r",
      "Episode 2|Iteration 125|reward:  268.0|last_reward_at:  125|Elapsed Time: 0:00:01||"
     ]
    },
    {
     "name": "stderr",
     "output_type": "stream",
     "text": [
      "\r",
      "Episode 2|Iteration 130|reward:  268.0|last_reward_at:  125|Elapsed Time: 0:00:01||"
     ]
    },
    {
     "name": "stderr",
     "output_type": "stream",
     "text": [
      "\r",
      "Episode 2|Iteration 137|reward:  268.0|last_reward_at:  125|Elapsed Time: 0:00:01||"
     ]
    },
    {
     "name": "stderr",
     "output_type": "stream",
     "text": [
      "\r",
      "Episode 2|Iteration 137|reward:  272.0|last_reward_at:  125|Elapsed Time: 0:00:01||"
     ]
    },
    {
     "name": "stderr",
     "output_type": "stream",
     "text": [
      "\r",
      "Episode 2|Iteration 137|reward:  272.0|last_reward_at:  137|Elapsed Time: 0:00:01||"
     ]
    },
    {
     "name": "stderr",
     "output_type": "stream",
     "text": [
      "\r",
      "Episode 2|Iteration 145|reward:  272.0|last_reward_at:  137|Elapsed Time: 0:00:01||"
     ]
    },
    {
     "name": "stderr",
     "output_type": "stream",
     "text": [
      "\r",
      "Episode 2|Iteration 152|reward:  272.0|last_reward_at:  137|Elapsed Time: 0:00:01||"
     ]
    },
    {
     "name": "stderr",
     "output_type": "stream",
     "text": [
      "\r",
      "Episode 2|Iteration 160|reward:  272.0|last_reward_at:  137|Elapsed Time: 0:00:01||"
     ]
    },
    {
     "name": "stderr",
     "output_type": "stream",
     "text": [
      "\r",
      "Episode 2|Iteration 167|reward:  272.0|last_reward_at:  137|Elapsed Time: 0:00:02||"
     ]
    },
    {
     "name": "stderr",
     "output_type": "stream",
     "text": [
      "\r",
      "Episode 2|Iteration 175|reward:  272.0|last_reward_at:  137|Elapsed Time: 0:00:02||"
     ]
    },
    {
     "name": "stderr",
     "output_type": "stream",
     "text": [
      "\r",
      "Episode 2|Iteration 182|reward:  272.0|last_reward_at:  137|Elapsed Time: 0:00:02||"
     ]
    },
    {
     "name": "stderr",
     "output_type": "stream",
     "text": [
      "\r",
      "Episode 2|Iteration 190|reward:  272.0|last_reward_at:  137|Elapsed Time: 0:00:02||"
     ]
    },
    {
     "name": "stderr",
     "output_type": "stream",
     "text": [
      "\r",
      "Episode 2|Iteration 198|reward:  272.0|last_reward_at:  137|Elapsed Time: 0:00:02||"
     ]
    },
    {
     "name": "stderr",
     "output_type": "stream",
     "text": [
      "\r",
      "Episode 2|Iteration 206|reward:  272.0|last_reward_at:  137|Elapsed Time: 0:00:02||"
     ]
    },
    {
     "name": "stderr",
     "output_type": "stream",
     "text": [
      "\r",
      "Episode 2|Iteration 213|reward:  272.0|last_reward_at:  137|Elapsed Time: 0:00:02||"
     ]
    },
    {
     "name": "stderr",
     "output_type": "stream",
     "text": [
      "\r",
      "Episode 2|Iteration 221|reward:  272.0|last_reward_at:  137|Elapsed Time: 0:00:02||"
     ]
    },
    {
     "name": "stderr",
     "output_type": "stream",
     "text": [
      "\r",
      "Episode 2|Iteration 227|reward:  272.0|last_reward_at:  137|Elapsed Time: 0:00:02||"
     ]
    },
    {
     "name": "stderr",
     "output_type": "stream",
     "text": [
      "\r",
      "Episode 2|Iteration 236|reward:  272.0|last_reward_at:  137|Elapsed Time: 0:00:02||"
     ]
    },
    {
     "name": "stderr",
     "output_type": "stream",
     "text": [
      "\r",
      "Episode 2|Iteration 244|reward:  272.0|last_reward_at:  137|Elapsed Time: 0:00:02||"
     ]
    },
    {
     "name": "stderr",
     "output_type": "stream",
     "text": [
      "\r",
      "Episode 2|Iteration 251|reward:  272.0|last_reward_at:  137|Elapsed Time: 0:00:03||"
     ]
    },
    {
     "name": "stderr",
     "output_type": "stream",
     "text": [
      "\r",
      "Episode 2|Iteration 258|reward:  272.0|last_reward_at:  137|Elapsed Time: 0:00:03||"
     ]
    },
    {
     "name": "stderr",
     "output_type": "stream",
     "text": [
      "\r",
      "Episode 2|Iteration 265|reward:  278.0|last_reward_at:  137|Elapsed Time: 0:00:03||"
     ]
    },
    {
     "name": "stderr",
     "output_type": "stream",
     "text": [
      "\r",
      "Episode 2|Iteration 265|reward:  278.0|last_reward_at:  265|Elapsed Time: 0:00:03||"
     ]
    },
    {
     "name": "stderr",
     "output_type": "stream",
     "text": [
      "\r",
      "Episode 2|Iteration 266|reward:  378.0|last_reward_at:  265|Elapsed Time: 0:00:03||"
     ]
    },
    {
     "name": "stderr",
     "output_type": "stream",
     "text": [
      "\r",
      "Episode 2|Iteration 266|reward:  378.0|last_reward_at:  266|Elapsed Time: 0:00:03||"
     ]
    },
    {
     "name": "stderr",
     "output_type": "stream",
     "text": [
      "\r",
      "Episode 2|Iteration 271|reward:  389.0|last_reward_at:  266|Elapsed Time: 0:00:03||"
     ]
    },
    {
     "name": "stderr",
     "output_type": "stream",
     "text": [
      "\r",
      "Episode 2|Iteration 271|reward:  389.0|last_reward_at:  271|Elapsed Time: 0:00:03||"
     ]
    },
    {
     "name": "stderr",
     "output_type": "stream",
     "text": [
      "\r",
      "Episode 2|Iteration 280|reward:  395.0|last_reward_at:  271|Elapsed Time: 0:00:03||"
     ]
    },
    {
     "name": "stderr",
     "output_type": "stream",
     "text": [
      "\r",
      "Episode 2|Iteration 280|reward:  395.0|last_reward_at:  280|Elapsed Time: 0:00:03||"
     ]
    },
    {
     "name": "stderr",
     "output_type": "stream",
     "text": [
      "\r",
      "Episode 2|Iteration 281|reward:  403.0|last_reward_at:  280|Elapsed Time: 0:00:03||"
     ]
    },
    {
     "name": "stderr",
     "output_type": "stream",
     "text": [
      "\r",
      "Episode 2|Iteration 281|reward:  403.0|last_reward_at:  281|Elapsed Time: 0:00:03||"
     ]
    },
    {
     "name": "stderr",
     "output_type": "stream",
     "text": [
      "\r",
      "Episode 2|Iteration 289|reward:  403.0|last_reward_at:  281|Elapsed Time: 0:00:03||"
     ]
    },
    {
     "name": "stderr",
     "output_type": "stream",
     "text": [
      "\r",
      "Episode 2|Iteration 297|reward:  403.0|last_reward_at:  281|Elapsed Time: 0:00:03||"
     ]
    },
    {
     "name": "stderr",
     "output_type": "stream",
     "text": [
      "\r",
      "Episode 2|Iteration 304|reward:  403.0|last_reward_at:  281|Elapsed Time: 0:00:03||"
     ]
    },
    {
     "name": "stderr",
     "output_type": "stream",
     "text": [
      "\r",
      "Episode 2|Iteration 312|reward:  403.0|last_reward_at:  281|Elapsed Time: 0:00:03||"
     ]
    },
    {
     "name": "stderr",
     "output_type": "stream",
     "text": [
      "\r",
      "Episode 2|Iteration 318|reward:  412.0|last_reward_at:  281|Elapsed Time: 0:00:03||"
     ]
    },
    {
     "name": "stderr",
     "output_type": "stream",
     "text": [
      "\r",
      "Episode 2|Iteration 318|reward:  412.0|last_reward_at:  318|Elapsed Time: 0:00:03||"
     ]
    },
    {
     "name": "stderr",
     "output_type": "stream",
     "text": [
      "\r",
      "Episode 2|Iteration 326|reward:  412.0|last_reward_at:  318|Elapsed Time: 0:00:03||"
     ]
    },
    {
     "name": "stderr",
     "output_type": "stream",
     "text": [
      "\r",
      "Episode 2|Iteration 329|reward:  512.0|last_reward_at:  318|Elapsed Time: 0:00:03||"
     ]
    },
    {
     "name": "stderr",
     "output_type": "stream",
     "text": [
      "\r",
      "Episode 2|Iteration 329|reward:  512.0|last_reward_at:  329|Elapsed Time: 0:00:03||"
     ]
    },
    {
     "name": "stderr",
     "output_type": "stream",
     "text": [
      "\r",
      "Episode 2|Iteration 330|reward:  526.0|last_reward_at:  329|Elapsed Time: 0:00:03||"
     ]
    },
    {
     "name": "stderr",
     "output_type": "stream",
     "text": [
      "\r",
      "Episode 2|Iteration 330|reward:  526.0|last_reward_at:  330|Elapsed Time: 0:00:03||"
     ]
    },
    {
     "name": "stderr",
     "output_type": "stream",
     "text": [
      "\r",
      "Episode 2|Iteration 335|reward:  528.0|last_reward_at:  330|Elapsed Time: 0:00:04||"
     ]
    },
    {
     "name": "stderr",
     "output_type": "stream",
     "text": [
      "\r",
      "Episode 2|Iteration 335|reward:  528.0|last_reward_at:  335|Elapsed Time: 0:00:04||"
     ]
    },
    {
     "name": "stderr",
     "output_type": "stream",
     "text": [
      "\r",
      "Episode 2|Iteration 342|reward:  528.0|last_reward_at:  335|Elapsed Time: 0:00:04||"
     ]
    },
    {
     "name": "stderr",
     "output_type": "stream",
     "text": [
      "\r",
      "Episode 2|Iteration 347|reward:  532.0|last_reward_at:  335|Elapsed Time: 0:00:04||"
     ]
    },
    {
     "name": "stderr",
     "output_type": "stream",
     "text": [
      "\r",
      "Episode 2|Iteration 347|reward:  532.0|last_reward_at:  347|Elapsed Time: 0:00:04||"
     ]
    },
    {
     "name": "stderr",
     "output_type": "stream",
     "text": [
      "\r",
      "Episode 2|Iteration 356|reward:  532.0|last_reward_at:  347|Elapsed Time: 0:00:04||"
     ]
    },
    {
     "name": "stderr",
     "output_type": "stream",
     "text": [
      "\r",
      "Episode 2|Iteration 365|reward:  532.0|last_reward_at:  347|Elapsed Time: 0:00:04||"
     ]
    },
    {
     "name": "stderr",
     "output_type": "stream",
     "text": [
      "\r",
      "Episode 2|Iteration 372|reward:  532.0|last_reward_at:  347|Elapsed Time: 0:00:04||"
     ]
    },
    {
     "name": "stderr",
     "output_type": "stream",
     "text": [
      "\r",
      "Episode 2|Iteration 373|reward:  632.0|last_reward_at:  347|Elapsed Time: 0:00:04||"
     ]
    },
    {
     "name": "stderr",
     "output_type": "stream",
     "text": [
      "\r",
      "Episode 2|Iteration 373|reward:  632.0|last_reward_at:  373|Elapsed Time: 0:00:04||"
     ]
    },
    {
     "name": "stderr",
     "output_type": "stream",
     "text": [
      "\r",
      "Episode 2|Iteration 374|reward:  638.0|last_reward_at:  373|Elapsed Time: 0:00:04||"
     ]
    },
    {
     "name": "stderr",
     "output_type": "stream",
     "text": [
      "\r",
      "Episode 2|Iteration 374|reward:  638.0|last_reward_at:  374|Elapsed Time: 0:00:04||"
     ]
    },
    {
     "name": "stderr",
     "output_type": "stream",
     "text": [
      "\r",
      "Episode 2|Iteration 380|reward:  638.0|last_reward_at:  374|Elapsed Time: 0:00:04||"
     ]
    },
    {
     "name": "stderr",
     "output_type": "stream",
     "text": [
      "\r",
      "Episode 2|Iteration 381|reward:  652.0|last_reward_at:  374|Elapsed Time: 0:00:04||"
     ]
    },
    {
     "name": "stderr",
     "output_type": "stream",
     "text": [
      "\r",
      "Episode 2|Iteration 381|reward:  652.0|last_reward_at:  381|Elapsed Time: 0:00:04||"
     ]
    },
    {
     "name": "stderr",
     "output_type": "stream",
     "text": [
      "\r",
      "Episode 2|Iteration 382|reward:  660.0|last_reward_at:  381|Elapsed Time: 0:00:04||"
     ]
    },
    {
     "name": "stderr",
     "output_type": "stream",
     "text": [
      "\r",
      "Episode 2|Iteration 382|reward:  660.0|last_reward_at:  382|Elapsed Time: 0:00:04||"
     ]
    },
    {
     "name": "stderr",
     "output_type": "stream",
     "text": [
      "\r",
      "Episode 2|Iteration 384|reward:  666.0|last_reward_at:  382|Elapsed Time: 0:00:04||"
     ]
    },
    {
     "name": "stderr",
     "output_type": "stream",
     "text": [
      "\r",
      "Episode 2|Iteration 384|reward:  666.0|last_reward_at:  384|Elapsed Time: 0:00:04||"
     ]
    },
    {
     "name": "stderr",
     "output_type": "stream",
     "text": [
      "\r",
      "Episode 2|Iteration 391|reward: 5666.0|last_reward_at:  384|Elapsed Time: 0:00:04||"
     ]
    },
    {
     "name": "stderr",
     "output_type": "stream",
     "text": [
      "\r",
      "Episode 2|Iteration 391|reward: 5666.0|last_reward_at:  391|Elapsed Time: 0:00:04||"
     ]
    },
    {
     "name": "stderr",
     "output_type": "stream",
     "text": [
      "\n"
     ]
    },
    {
     "name": "stdout",
     "output_type": "stream",
     "text": [
      "  Episode 2 ended at t=391 \n",
      "  Breakdown [Reward/NoReward (Success rate)]\n",
      "    explore-local: 6/47 (0.11)\n",
      "    explore-remote: 11/106 (0.09)\n",
      "    explore-connect: 5/130 (0.04)\n",
      "    exploit-local: 5/15 (0.25)\n",
      "    exploit-remote: 0/39 (0.00)\n",
      "    exploit-connect: 1/26 (0.04)\n",
      "  exploit deflected to exploration: 4\n",
      "  ## Episode: 3/10 'DQL' ϵ=0.7563, γ=0.15, lr=0.01, replaymemory=10000,\n",
      "batch=256, target_update=5\n"
     ]
    },
    {
     "name": "stderr",
     "output_type": "stream",
     "text": [
      "\r",
      "Episode 3|Iteration 0|reward: ------|last_reward_at: ----|Elapsed Time: 0:00:00||"
     ]
    },
    {
     "name": "stderr",
     "output_type": "stream",
     "text": [
      "\r",
      "Episode 3|Iteration 1|reward:    0.0|last_reward_at: ----|Elapsed Time: 0:00:00||"
     ]
    },
    {
     "name": "stderr",
     "output_type": "stream",
     "text": [
      "\r",
      "Episode 3|Iteration 7|reward:   14.0|last_reward_at: ----|Elapsed Time: 0:00:00||"
     ]
    },
    {
     "name": "stderr",
     "output_type": "stream",
     "text": [
      "\r",
      "Episode 3|Iteration 7|reward:   14.0|last_reward_at:    7|Elapsed Time: 0:00:00||"
     ]
    },
    {
     "name": "stderr",
     "output_type": "stream",
     "text": [
      "\r",
      "Episode 3|Iteration 12|reward:   16.0|last_reward_at:    7|Elapsed Time: 0:00:00||"
     ]
    },
    {
     "name": "stderr",
     "output_type": "stream",
     "text": [
      "\r",
      "Episode 3|Iteration 12|reward:   16.0|last_reward_at:   12|Elapsed Time: 0:00:00||"
     ]
    },
    {
     "name": "stderr",
     "output_type": "stream",
     "text": [
      "\r",
      "Episode 3|Iteration 15|reward:  116.0|last_reward_at:   12|Elapsed Time: 0:00:00||"
     ]
    },
    {
     "name": "stderr",
     "output_type": "stream",
     "text": [
      "\r",
      "Episode 3|Iteration 15|reward:  116.0|last_reward_at:   15|Elapsed Time: 0:00:00||"
     ]
    },
    {
     "name": "stderr",
     "output_type": "stream",
     "text": [
      "\r",
      "Episode 3|Iteration 23|reward:  116.0|last_reward_at:   15|Elapsed Time: 0:00:00||"
     ]
    },
    {
     "name": "stderr",
     "output_type": "stream",
     "text": [
      "\r",
      "Episode 3|Iteration 31|reward:  116.0|last_reward_at:   15|Elapsed Time: 0:00:00||"
     ]
    },
    {
     "name": "stderr",
     "output_type": "stream",
     "text": [
      "\r",
      "Episode 3|Iteration 38|reward:  116.0|last_reward_at:   15|Elapsed Time: 0:00:00||"
     ]
    },
    {
     "name": "stderr",
     "output_type": "stream",
     "text": [
      "\r",
      "Episode 3|Iteration 42|reward:  130.0|last_reward_at:   15|Elapsed Time: 0:00:00||"
     ]
    },
    {
     "name": "stderr",
     "output_type": "stream",
     "text": [
      "\r",
      "Episode 3|Iteration 42|reward:  130.0|last_reward_at:   42|Elapsed Time: 0:00:00||"
     ]
    },
    {
     "name": "stderr",
     "output_type": "stream",
     "text": [
      "\r",
      "Episode 3|Iteration 43|reward:  230.0|last_reward_at:   42|Elapsed Time: 0:00:00||"
     ]
    },
    {
     "name": "stderr",
     "output_type": "stream",
     "text": [
      "\r",
      "Episode 3|Iteration 43|reward:  230.0|last_reward_at:   43|Elapsed Time: 0:00:00||"
     ]
    },
    {
     "name": "stderr",
     "output_type": "stream",
     "text": [
      "\r",
      "Episode 3|Iteration 46|reward:  236.0|last_reward_at:   43|Elapsed Time: 0:00:00||"
     ]
    },
    {
     "name": "stderr",
     "output_type": "stream",
     "text": [
      "\r",
      "Episode 3|Iteration 46|reward:  236.0|last_reward_at:   46|Elapsed Time: 0:00:00||"
     ]
    },
    {
     "name": "stderr",
     "output_type": "stream",
     "text": [
      "\r",
      "Episode 3|Iteration 49|reward:  250.0|last_reward_at:   46|Elapsed Time: 0:00:00||"
     ]
    },
    {
     "name": "stderr",
     "output_type": "stream",
     "text": [
      "\r",
      "Episode 3|Iteration 49|reward:  250.0|last_reward_at:   49|Elapsed Time: 0:00:00||"
     ]
    },
    {
     "name": "stderr",
     "output_type": "stream",
     "text": [
      "\r",
      "Episode 3|Iteration 52|reward:  350.0|last_reward_at:   49|Elapsed Time: 0:00:00||"
     ]
    },
    {
     "name": "stderr",
     "output_type": "stream",
     "text": [
      "\r",
      "Episode 3|Iteration 52|reward:  350.0|last_reward_at:   52|Elapsed Time: 0:00:00||"
     ]
    },
    {
     "name": "stderr",
     "output_type": "stream",
     "text": [
      "\r",
      "Episode 3|Iteration 56|reward:  352.0|last_reward_at:   52|Elapsed Time: 0:00:00||"
     ]
    },
    {
     "name": "stderr",
     "output_type": "stream",
     "text": [
      "\r",
      "Episode 3|Iteration 56|reward:  352.0|last_reward_at:   56|Elapsed Time: 0:00:00||"
     ]
    },
    {
     "name": "stderr",
     "output_type": "stream",
     "text": [
      "\r",
      "Episode 3|Iteration 57|reward:  358.0|last_reward_at:   56|Elapsed Time: 0:00:00||"
     ]
    },
    {
     "name": "stderr",
     "output_type": "stream",
     "text": [
      "\r",
      "Episode 3|Iteration 57|reward:  358.0|last_reward_at:   57|Elapsed Time: 0:00:00||"
     ]
    },
    {
     "name": "stderr",
     "output_type": "stream",
     "text": [
      "\r",
      "Episode 3|Iteration 63|reward:  372.0|last_reward_at:   57|Elapsed Time: 0:00:00||"
     ]
    },
    {
     "name": "stderr",
     "output_type": "stream",
     "text": [
      "\r",
      "Episode 3|Iteration 63|reward:  372.0|last_reward_at:   63|Elapsed Time: 0:00:00||"
     ]
    },
    {
     "name": "stderr",
     "output_type": "stream",
     "text": [
      "\r",
      "Episode 3|Iteration 67|reward:  374.0|last_reward_at:   63|Elapsed Time: 0:00:00||"
     ]
    },
    {
     "name": "stderr",
     "output_type": "stream",
     "text": [
      "\r",
      "Episode 3|Iteration 67|reward:  374.0|last_reward_at:   67|Elapsed Time: 0:00:00||"
     ]
    },
    {
     "name": "stderr",
     "output_type": "stream",
     "text": [
      "\r",
      "Episode 3|Iteration 70|reward:  474.0|last_reward_at:   67|Elapsed Time: 0:00:00||"
     ]
    },
    {
     "name": "stderr",
     "output_type": "stream",
     "text": [
      "\r",
      "Episode 3|Iteration 70|reward:  474.0|last_reward_at:   70|Elapsed Time: 0:00:00||"
     ]
    },
    {
     "name": "stderr",
     "output_type": "stream",
     "text": [
      "\r",
      "Episode 3|Iteration 71|reward:  488.0|last_reward_at:   70|Elapsed Time: 0:00:00||"
     ]
    },
    {
     "name": "stderr",
     "output_type": "stream",
     "text": [
      "\r",
      "Episode 3|Iteration 71|reward:  488.0|last_reward_at:   71|Elapsed Time: 0:00:00||"
     ]
    },
    {
     "name": "stderr",
     "output_type": "stream",
     "text": [
      "\r",
      "Episode 3|Iteration 72|reward:  588.0|last_reward_at:   71|Elapsed Time: 0:00:00||"
     ]
    },
    {
     "name": "stderr",
     "output_type": "stream",
     "text": [
      "\r",
      "Episode 3|Iteration 72|reward:  588.0|last_reward_at:   72|Elapsed Time: 0:00:00||"
     ]
    },
    {
     "name": "stderr",
     "output_type": "stream",
     "text": [
      "\r",
      "Episode 3|Iteration 74|reward:  602.0|last_reward_at:   72|Elapsed Time: 0:00:00||"
     ]
    },
    {
     "name": "stderr",
     "output_type": "stream",
     "text": [
      "\r",
      "Episode 3|Iteration 74|reward:  602.0|last_reward_at:   74|Elapsed Time: 0:00:00||"
     ]
    },
    {
     "name": "stderr",
     "output_type": "stream",
     "text": [
      "\r",
      "Episode 3|Iteration 80|reward:  702.0|last_reward_at:   74|Elapsed Time: 0:00:01||"
     ]
    },
    {
     "name": "stderr",
     "output_type": "stream",
     "text": [
      "\r",
      "Episode 3|Iteration 80|reward:  702.0|last_reward_at:   80|Elapsed Time: 0:00:01||"
     ]
    },
    {
     "name": "stderr",
     "output_type": "stream",
     "text": [
      "\r",
      "Episode 3|Iteration 86|reward:  708.0|last_reward_at:   80|Elapsed Time: 0:00:01||"
     ]
    },
    {
     "name": "stderr",
     "output_type": "stream",
     "text": [
      "\r",
      "Episode 3|Iteration 86|reward:  708.0|last_reward_at:   86|Elapsed Time: 0:00:01||"
     ]
    },
    {
     "name": "stderr",
     "output_type": "stream",
     "text": [
      "\r",
      "Episode 3|Iteration 87|reward:  722.0|last_reward_at:   86|Elapsed Time: 0:00:01||"
     ]
    },
    {
     "name": "stderr",
     "output_type": "stream",
     "text": [
      "\r",
      "Episode 3|Iteration 87|reward:  722.0|last_reward_at:   87|Elapsed Time: 0:00:01||"
     ]
    },
    {
     "name": "stderr",
     "output_type": "stream",
     "text": [
      "\r",
      "Episode 3|Iteration 90|reward:  822.0|last_reward_at:   87|Elapsed Time: 0:00:01||"
     ]
    },
    {
     "name": "stderr",
     "output_type": "stream",
     "text": [
      "\r",
      "Episode 3|Iteration 90|reward:  822.0|last_reward_at:   90|Elapsed Time: 0:00:01||"
     ]
    },
    {
     "name": "stderr",
     "output_type": "stream",
     "text": [
      "\r",
      "Episode 3|Iteration 91|reward: 5822.0|last_reward_at:   90|Elapsed Time: 0:00:01||"
     ]
    },
    {
     "name": "stderr",
     "output_type": "stream",
     "text": [
      "\r",
      "Episode 3|Iteration 91|reward: 5822.0|last_reward_at:   91|Elapsed Time: 0:00:01||"
     ]
    },
    {
     "name": "stderr",
     "output_type": "stream",
     "text": [
      "\n"
     ]
    },
    {
     "name": "stdout",
     "output_type": "stream",
     "text": [
      "  Episode 3 ended at t=91 \n",
      "  Breakdown [Reward/NoReward (Success rate)]\n",
      "    explore-local: 1/10 (0.09)\n",
      "    explore-remote: 5/27 (0.16)\n",
      "    explore-connect: 1/24 (0.04)\n",
      "    exploit-local: 7/3 (0.70)\n",
      "    exploit-remote: 0/2 (0.00)\n",
      "    exploit-connect: 7/4 (0.64)\n",
      "  exploit deflected to exploration: 1\n",
      "  ## Episode: 4/10 'DQL' ϵ=0.7445, γ=0.15, lr=0.01, replaymemory=10000,\n",
      "batch=256, target_update=5\n"
     ]
    },
    {
     "name": "stderr",
     "output_type": "stream",
     "text": [
      "\r",
      "Episode 4|Iteration 0|reward: ------|last_reward_at: ----|Elapsed Time: 0:00:00||"
     ]
    },
    {
     "name": "stderr",
     "output_type": "stream",
     "text": [
      "\r",
      "Episode 4|Iteration 1|reward:    0.0|last_reward_at: ----|Elapsed Time: 0:00:00||"
     ]
    },
    {
     "name": "stderr",
     "output_type": "stream",
     "text": [
      "\r",
      "Episode 4|Iteration 2|reward:   14.0|last_reward_at: ----|Elapsed Time: 0:00:00||"
     ]
    },
    {
     "name": "stderr",
     "output_type": "stream",
     "text": [
      "\r",
      "Episode 4|Iteration 2|reward:   14.0|last_reward_at:    2|Elapsed Time: 0:00:00||"
     ]
    },
    {
     "name": "stderr",
     "output_type": "stream",
     "text": [
      "\r",
      "Episode 4|Iteration 4|reward:   18.0|last_reward_at:    2|Elapsed Time: 0:00:00||"
     ]
    },
    {
     "name": "stderr",
     "output_type": "stream",
     "text": [
      "\r",
      "Episode 4|Iteration 4|reward:   18.0|last_reward_at:    4|Elapsed Time: 0:00:00||"
     ]
    },
    {
     "name": "stderr",
     "output_type": "stream",
     "text": [
      "\r",
      "Episode 4|Iteration 12|reward:   20.0|last_reward_at:    4|Elapsed Time: 0:00:00||"
     ]
    },
    {
     "name": "stderr",
     "output_type": "stream",
     "text": [
      "\r",
      "Episode 4|Iteration 12|reward:   20.0|last_reward_at:   12|Elapsed Time: 0:00:00||"
     ]
    },
    {
     "name": "stderr",
     "output_type": "stream",
     "text": [
      "\r",
      "Episode 4|Iteration 22|reward:   20.0|last_reward_at:   12|Elapsed Time: 0:00:00||"
     ]
    },
    {
     "name": "stderr",
     "output_type": "stream",
     "text": [
      "\r",
      "Episode 4|Iteration 31|reward:   20.0|last_reward_at:   12|Elapsed Time: 0:00:00||"
     ]
    },
    {
     "name": "stderr",
     "output_type": "stream",
     "text": [
      "\r",
      "Episode 4|Iteration 35|reward:  120.0|last_reward_at:   12|Elapsed Time: 0:00:00||"
     ]
    },
    {
     "name": "stderr",
     "output_type": "stream",
     "text": [
      "\r",
      "Episode 4|Iteration 35|reward:  120.0|last_reward_at:   35|Elapsed Time: 0:00:00||"
     ]
    },
    {
     "name": "stderr",
     "output_type": "stream",
     "text": [
      "\r",
      "Episode 4|Iteration 39|reward:  131.0|last_reward_at:   35|Elapsed Time: 0:00:00||"
     ]
    },
    {
     "name": "stderr",
     "output_type": "stream",
     "text": [
      "\r",
      "Episode 4|Iteration 39|reward:  131.0|last_reward_at:   39|Elapsed Time: 0:00:00||"
     ]
    },
    {
     "name": "stderr",
     "output_type": "stream",
     "text": [
      "\r",
      "Episode 4|Iteration 45|reward:  137.0|last_reward_at:   39|Elapsed Time: 0:00:00||"
     ]
    },
    {
     "name": "stderr",
     "output_type": "stream",
     "text": [
      "\r",
      "Episode 4|Iteration 45|reward:  137.0|last_reward_at:   45|Elapsed Time: 0:00:00||"
     ]
    },
    {
     "name": "stderr",
     "output_type": "stream",
     "text": [
      "\r",
      "Episode 4|Iteration 54|reward:  137.0|last_reward_at:   45|Elapsed Time: 0:00:00||"
     ]
    },
    {
     "name": "stderr",
     "output_type": "stream",
     "text": [
      "\r",
      "Episode 4|Iteration 61|reward:  137.0|last_reward_at:   45|Elapsed Time: 0:00:00||"
     ]
    },
    {
     "name": "stderr",
     "output_type": "stream",
     "text": [
      "\r",
      "Episode 4|Iteration 67|reward:  137.0|last_reward_at:   45|Elapsed Time: 0:00:00||"
     ]
    },
    {
     "name": "stderr",
     "output_type": "stream",
     "text": [
      "\r",
      "Episode 4|Iteration 74|reward:  137.0|last_reward_at:   45|Elapsed Time: 0:00:00||"
     ]
    },
    {
     "name": "stderr",
     "output_type": "stream",
     "text": [
      "\r",
      "Episode 4|Iteration 83|reward:  137.0|last_reward_at:   45|Elapsed Time: 0:00:00||"
     ]
    },
    {
     "name": "stderr",
     "output_type": "stream",
     "text": [
      "\r",
      "Episode 4|Iteration 92|reward:  137.0|last_reward_at:   45|Elapsed Time: 0:00:01||"
     ]
    },
    {
     "name": "stderr",
     "output_type": "stream",
     "text": [
      "\r",
      "Episode 4|Iteration 99|reward:  137.0|last_reward_at:   45|Elapsed Time: 0:00:01||"
     ]
    },
    {
     "name": "stderr",
     "output_type": "stream",
     "text": [
      "\r",
      "Episode 4|Iteration 103|reward:  146.0|last_reward_at:   45|Elapsed Time: 0:00:01||"
     ]
    },
    {
     "name": "stderr",
     "output_type": "stream",
     "text": [
      "\r",
      "Episode 4|Iteration 103|reward:  146.0|last_reward_at:  103|Elapsed Time: 0:00:01||"
     ]
    },
    {
     "name": "stderr",
     "output_type": "stream",
     "text": [
      "\r",
      "Episode 4|Iteration 107|reward:  246.0|last_reward_at:  103|Elapsed Time: 0:00:01||"
     ]
    },
    {
     "name": "stderr",
     "output_type": "stream",
     "text": [
      "\r",
      "Episode 4|Iteration 107|reward:  246.0|last_reward_at:  107|Elapsed Time: 0:00:01||"
     ]
    },
    {
     "name": "stderr",
     "output_type": "stream",
     "text": [
      "\r",
      "Episode 4|Iteration 112|reward:  260.0|last_reward_at:  107|Elapsed Time: 0:00:01||"
     ]
    },
    {
     "name": "stderr",
     "output_type": "stream",
     "text": [
      "\r",
      "Episode 4|Iteration 112|reward:  260.0|last_reward_at:  112|Elapsed Time: 0:00:01||"
     ]
    },
    {
     "name": "stderr",
     "output_type": "stream",
     "text": [
      "\r",
      "Episode 4|Iteration 113|reward:  360.0|last_reward_at:  112|Elapsed Time: 0:00:01||"
     ]
    },
    {
     "name": "stderr",
     "output_type": "stream",
     "text": [
      "\r",
      "Episode 4|Iteration 113|reward:  360.0|last_reward_at:  113|Elapsed Time: 0:00:01||"
     ]
    },
    {
     "name": "stderr",
     "output_type": "stream",
     "text": [
      "\r",
      "Episode 4|Iteration 114|reward:  374.0|last_reward_at:  113|Elapsed Time: 0:00:01||"
     ]
    },
    {
     "name": "stderr",
     "output_type": "stream",
     "text": [
      "\r",
      "Episode 4|Iteration 114|reward:  374.0|last_reward_at:  114|Elapsed Time: 0:00:01||"
     ]
    },
    {
     "name": "stderr",
     "output_type": "stream",
     "text": [
      "\r",
      "Episode 4|Iteration 115|reward:  380.0|last_reward_at:  114|Elapsed Time: 0:00:01||"
     ]
    },
    {
     "name": "stderr",
     "output_type": "stream",
     "text": [
      "\r",
      "Episode 4|Iteration 115|reward:  380.0|last_reward_at:  115|Elapsed Time: 0:00:01||"
     ]
    },
    {
     "name": "stderr",
     "output_type": "stream",
     "text": [
      "\r",
      "Episode 4|Iteration 118|reward:  480.0|last_reward_at:  115|Elapsed Time: 0:00:01||"
     ]
    },
    {
     "name": "stderr",
     "output_type": "stream",
     "text": [
      "\r",
      "Episode 4|Iteration 118|reward:  480.0|last_reward_at:  118|Elapsed Time: 0:00:01||"
     ]
    },
    {
     "name": "stderr",
     "output_type": "stream",
     "text": [
      "\r",
      "Episode 4|Iteration 123|reward:  494.0|last_reward_at:  118|Elapsed Time: 0:00:01||"
     ]
    },
    {
     "name": "stderr",
     "output_type": "stream",
     "text": [
      "\r",
      "Episode 4|Iteration 123|reward:  494.0|last_reward_at:  123|Elapsed Time: 0:00:01||"
     ]
    },
    {
     "name": "stderr",
     "output_type": "stream",
     "text": [
      "\r",
      "Episode 4|Iteration 130|reward:  494.0|last_reward_at:  123|Elapsed Time: 0:00:01||"
     ]
    },
    {
     "name": "stderr",
     "output_type": "stream",
     "text": [
      "\r",
      "Episode 4|Iteration 136|reward:  594.0|last_reward_at:  123|Elapsed Time: 0:00:01||"
     ]
    },
    {
     "name": "stderr",
     "output_type": "stream",
     "text": [
      "\r",
      "Episode 4|Iteration 136|reward:  594.0|last_reward_at:  136|Elapsed Time: 0:00:01||"
     ]
    },
    {
     "name": "stderr",
     "output_type": "stream",
     "text": [
      "\r",
      "Episode 4|Iteration 137|reward:  608.0|last_reward_at:  136|Elapsed Time: 0:00:01||"
     ]
    },
    {
     "name": "stderr",
     "output_type": "stream",
     "text": [
      "\r",
      "Episode 4|Iteration 137|reward:  608.0|last_reward_at:  137|Elapsed Time: 0:00:01||"
     ]
    },
    {
     "name": "stderr",
     "output_type": "stream",
     "text": [
      "\r",
      "Episode 4|Iteration 139|reward:  708.0|last_reward_at:  137|Elapsed Time: 0:00:01||"
     ]
    },
    {
     "name": "stderr",
     "output_type": "stream",
     "text": [
      "\r",
      "Episode 4|Iteration 139|reward:  708.0|last_reward_at:  139|Elapsed Time: 0:00:01||"
     ]
    },
    {
     "name": "stderr",
     "output_type": "stream",
     "text": [
      "\r",
      "Episode 4|Iteration 143|reward:  722.0|last_reward_at:  139|Elapsed Time: 0:00:01||"
     ]
    },
    {
     "name": "stderr",
     "output_type": "stream",
     "text": [
      "\r",
      "Episode 4|Iteration 143|reward:  722.0|last_reward_at:  143|Elapsed Time: 0:00:01||"
     ]
    },
    {
     "name": "stderr",
     "output_type": "stream",
     "text": [
      "\r",
      "Episode 4|Iteration 144|reward:  822.0|last_reward_at:  143|Elapsed Time: 0:00:01||"
     ]
    },
    {
     "name": "stderr",
     "output_type": "stream",
     "text": [
      "\r",
      "Episode 4|Iteration 144|reward:  822.0|last_reward_at:  144|Elapsed Time: 0:00:01||"
     ]
    },
    {
     "name": "stderr",
     "output_type": "stream",
     "text": [
      "\r",
      "Episode 4|Iteration 149|reward:  828.0|last_reward_at:  144|Elapsed Time: 0:00:01||"
     ]
    },
    {
     "name": "stderr",
     "output_type": "stream",
     "text": [
      "\r",
      "Episode 4|Iteration 149|reward:  828.0|last_reward_at:  149|Elapsed Time: 0:00:01||"
     ]
    },
    {
     "name": "stderr",
     "output_type": "stream",
     "text": [
      "\r",
      "Episode 4|Iteration 150|reward:  842.0|last_reward_at:  149|Elapsed Time: 0:00:01||"
     ]
    },
    {
     "name": "stderr",
     "output_type": "stream",
     "text": [
      "\r",
      "Episode 4|Iteration 150|reward:  842.0|last_reward_at:  150|Elapsed Time: 0:00:01||"
     ]
    },
    {
     "name": "stderr",
     "output_type": "stream",
     "text": [
      "\r",
      "Episode 4|Iteration 153|reward:  848.0|last_reward_at:  150|Elapsed Time: 0:00:01||"
     ]
    },
    {
     "name": "stderr",
     "output_type": "stream",
     "text": [
      "\r",
      "Episode 4|Iteration 153|reward:  848.0|last_reward_at:  153|Elapsed Time: 0:00:01||"
     ]
    },
    {
     "name": "stderr",
     "output_type": "stream",
     "text": [
      "\r",
      "Episode 4|Iteration 159|reward:  850.0|last_reward_at:  153|Elapsed Time: 0:00:01||"
     ]
    },
    {
     "name": "stderr",
     "output_type": "stream",
     "text": [
      "\r",
      "Episode 4|Iteration 159|reward:  850.0|last_reward_at:  159|Elapsed Time: 0:00:01||"
     ]
    },
    {
     "name": "stderr",
     "output_type": "stream",
     "text": [
      "\r",
      "Episode 4|Iteration 168|reward:  850.0|last_reward_at:  159|Elapsed Time: 0:00:02||"
     ]
    },
    {
     "name": "stderr",
     "output_type": "stream",
     "text": [
      "\r",
      "Episode 4|Iteration 171|reward:  856.0|last_reward_at:  159|Elapsed Time: 0:00:02||"
     ]
    },
    {
     "name": "stderr",
     "output_type": "stream",
     "text": [
      "\r",
      "Episode 4|Iteration 171|reward:  856.0|last_reward_at:  171|Elapsed Time: 0:00:02||"
     ]
    },
    {
     "name": "stderr",
     "output_type": "stream",
     "text": [
      "\r",
      "Episode 4|Iteration 173|reward:  858.0|last_reward_at:  171|Elapsed Time: 0:00:02||"
     ]
    },
    {
     "name": "stderr",
     "output_type": "stream",
     "text": [
      "\r",
      "Episode 4|Iteration 173|reward:  858.0|last_reward_at:  173|Elapsed Time: 0:00:02||"
     ]
    },
    {
     "name": "stderr",
     "output_type": "stream",
     "text": [
      "\r",
      "Episode 4|Iteration 174|reward:  860.0|last_reward_at:  173|Elapsed Time: 0:00:02||"
     ]
    },
    {
     "name": "stderr",
     "output_type": "stream",
     "text": [
      "\r",
      "Episode 4|Iteration 174|reward:  860.0|last_reward_at:  174|Elapsed Time: 0:00:02||"
     ]
    },
    {
     "name": "stderr",
     "output_type": "stream",
     "text": [
      "\r",
      "Episode 4|Iteration 176|reward:  866.0|last_reward_at:  174|Elapsed Time: 0:00:02||"
     ]
    },
    {
     "name": "stderr",
     "output_type": "stream",
     "text": [
      "\r",
      "Episode 4|Iteration 176|reward:  866.0|last_reward_at:  176|Elapsed Time: 0:00:02||"
     ]
    },
    {
     "name": "stderr",
     "output_type": "stream",
     "text": [
      "\r",
      "Episode 4|Iteration 181|reward:  868.0|last_reward_at:  176|Elapsed Time: 0:00:02||"
     ]
    },
    {
     "name": "stderr",
     "output_type": "stream",
     "text": [
      "\r",
      "Episode 4|Iteration 181|reward:  868.0|last_reward_at:  181|Elapsed Time: 0:00:02||"
     ]
    },
    {
     "name": "stderr",
     "output_type": "stream",
     "text": [
      "\r",
      "Episode 4|Iteration 182|reward:  874.0|last_reward_at:  181|Elapsed Time: 0:00:02||"
     ]
    },
    {
     "name": "stderr",
     "output_type": "stream",
     "text": [
      "\r",
      "Episode 4|Iteration 182|reward:  874.0|last_reward_at:  182|Elapsed Time: 0:00:02||"
     ]
    },
    {
     "name": "stderr",
     "output_type": "stream",
     "text": [
      "\r",
      "Episode 4|Iteration 186|reward:  880.0|last_reward_at:  182|Elapsed Time: 0:00:02||"
     ]
    },
    {
     "name": "stderr",
     "output_type": "stream",
     "text": [
      "\r",
      "Episode 4|Iteration 186|reward:  880.0|last_reward_at:  186|Elapsed Time: 0:00:02||"
     ]
    },
    {
     "name": "stderr",
     "output_type": "stream",
     "text": [
      "\r",
      "Episode 4|Iteration 195|reward:  880.0|last_reward_at:  186|Elapsed Time: 0:00:02||"
     ]
    },
    {
     "name": "stderr",
     "output_type": "stream",
     "text": [
      "\r",
      "Episode 4|Iteration 197|reward:  882.0|last_reward_at:  186|Elapsed Time: 0:00:02||"
     ]
    },
    {
     "name": "stderr",
     "output_type": "stream",
     "text": [
      "\r",
      "Episode 4|Iteration 197|reward:  882.0|last_reward_at:  197|Elapsed Time: 0:00:02||"
     ]
    },
    {
     "name": "stderr",
     "output_type": "stream",
     "text": [
      "\r",
      "Episode 4|Iteration 201|reward:  890.0|last_reward_at:  197|Elapsed Time: 0:00:02||"
     ]
    },
    {
     "name": "stderr",
     "output_type": "stream",
     "text": [
      "\r",
      "Episode 4|Iteration 201|reward:  890.0|last_reward_at:  201|Elapsed Time: 0:00:02||"
     ]
    },
    {
     "name": "stderr",
     "output_type": "stream",
     "text": [
      "\r",
      "Episode 4|Iteration 205|reward:  896.0|last_reward_at:  201|Elapsed Time: 0:00:02||"
     ]
    },
    {
     "name": "stderr",
     "output_type": "stream",
     "text": [
      "\r",
      "Episode 4|Iteration 205|reward:  896.0|last_reward_at:  205|Elapsed Time: 0:00:02||"
     ]
    },
    {
     "name": "stderr",
     "output_type": "stream",
     "text": [
      "\r",
      "Episode 4|Iteration 212|reward:  902.0|last_reward_at:  205|Elapsed Time: 0:00:02||"
     ]
    },
    {
     "name": "stderr",
     "output_type": "stream",
     "text": [
      "\r",
      "Episode 4|Iteration 212|reward:  902.0|last_reward_at:  212|Elapsed Time: 0:00:02||"
     ]
    },
    {
     "name": "stderr",
     "output_type": "stream",
     "text": [
      "\r",
      "Episode 4|Iteration 220|reward:  902.0|last_reward_at:  212|Elapsed Time: 0:00:02||"
     ]
    },
    {
     "name": "stderr",
     "output_type": "stream",
     "text": [
      "\r",
      "Episode 4|Iteration 226|reward: 1002.0|last_reward_at:  212|Elapsed Time: 0:00:02||"
     ]
    },
    {
     "name": "stderr",
     "output_type": "stream",
     "text": [
      "\r",
      "Episode 4|Iteration 226|reward: 1002.0|last_reward_at:  226|Elapsed Time: 0:00:02||"
     ]
    },
    {
     "name": "stderr",
     "output_type": "stream",
     "text": [
      "\r",
      "Episode 4|Iteration 229|reward: 1016.0|last_reward_at:  226|Elapsed Time: 0:00:02||"
     ]
    },
    {
     "name": "stderr",
     "output_type": "stream",
     "text": [
      "\r",
      "Episode 4|Iteration 229|reward: 1016.0|last_reward_at:  229|Elapsed Time: 0:00:02||"
     ]
    },
    {
     "name": "stderr",
     "output_type": "stream",
     "text": [
      "\r",
      "Episode 4|Iteration 232|reward: 1018.0|last_reward_at:  229|Elapsed Time: 0:00:02||"
     ]
    },
    {
     "name": "stderr",
     "output_type": "stream",
     "text": [
      "\r",
      "Episode 4|Iteration 232|reward: 1018.0|last_reward_at:  232|Elapsed Time: 0:00:02||"
     ]
    },
    {
     "name": "stderr",
     "output_type": "stream",
     "text": [
      "\r",
      "Episode 4|Iteration 233|reward: 1020.0|last_reward_at:  232|Elapsed Time: 0:00:02||"
     ]
    },
    {
     "name": "stderr",
     "output_type": "stream",
     "text": [
      "\r",
      "Episode 4|Iteration 233|reward: 1020.0|last_reward_at:  233|Elapsed Time: 0:00:02||"
     ]
    },
    {
     "name": "stderr",
     "output_type": "stream",
     "text": [
      "\r",
      "Episode 4|Iteration 242|reward: 1026.0|last_reward_at:  233|Elapsed Time: 0:00:03||"
     ]
    },
    {
     "name": "stderr",
     "output_type": "stream",
     "text": [
      "\r",
      "Episode 4|Iteration 242|reward: 1026.0|last_reward_at:  242|Elapsed Time: 0:00:03||"
     ]
    },
    {
     "name": "stderr",
     "output_type": "stream",
     "text": [
      "\r",
      "Episode 4|Iteration 244|reward: 1126.0|last_reward_at:  242|Elapsed Time: 0:00:03||"
     ]
    },
    {
     "name": "stderr",
     "output_type": "stream",
     "text": [
      "\r",
      "Episode 4|Iteration 244|reward: 1126.0|last_reward_at:  244|Elapsed Time: 0:00:03||"
     ]
    },
    {
     "name": "stderr",
     "output_type": "stream",
     "text": [
      "\r",
      "Episode 4|Iteration 245|reward: 1140.0|last_reward_at:  244|Elapsed Time: 0:00:03||"
     ]
    },
    {
     "name": "stderr",
     "output_type": "stream",
     "text": [
      "\r",
      "Episode 4|Iteration 245|reward: 1140.0|last_reward_at:  245|Elapsed Time: 0:00:03||"
     ]
    },
    {
     "name": "stderr",
     "output_type": "stream",
     "text": [
      "\r",
      "Episode 4|Iteration 248|reward: 1142.0|last_reward_at:  245|Elapsed Time: 0:00:03||"
     ]
    },
    {
     "name": "stderr",
     "output_type": "stream",
     "text": [
      "\r",
      "Episode 4|Iteration 248|reward: 1142.0|last_reward_at:  248|Elapsed Time: 0:00:03||"
     ]
    },
    {
     "name": "stderr",
     "output_type": "stream",
     "text": [
      "\r",
      "Episode 4|Iteration 256|reward: 1142.0|last_reward_at:  248|Elapsed Time: 0:00:03||"
     ]
    },
    {
     "name": "stderr",
     "output_type": "stream",
     "text": [
      "\r",
      "Episode 4|Iteration 257|reward: 1242.0|last_reward_at:  248|Elapsed Time: 0:00:03||"
     ]
    },
    {
     "name": "stderr",
     "output_type": "stream",
     "text": [
      "\r",
      "Episode 4|Iteration 257|reward: 1242.0|last_reward_at:  257|Elapsed Time: 0:00:03||"
     ]
    },
    {
     "name": "stderr",
     "output_type": "stream",
     "text": [
      "\r",
      "Episode 4|Iteration 258|reward: 1256.0|last_reward_at:  257|Elapsed Time: 0:00:03||"
     ]
    },
    {
     "name": "stderr",
     "output_type": "stream",
     "text": [
      "\r",
      "Episode 4|Iteration 258|reward: 1256.0|last_reward_at:  258|Elapsed Time: 0:00:03||"
     ]
    },
    {
     "name": "stderr",
     "output_type": "stream",
     "text": [
      "\r",
      "Episode 4|Iteration 262|reward: 2256.0|last_reward_at:  258|Elapsed Time: 0:00:03||"
     ]
    },
    {
     "name": "stderr",
     "output_type": "stream",
     "text": [
      "\r",
      "Episode 4|Iteration 262|reward: 2256.0|last_reward_at:  262|Elapsed Time: 0:00:03||"
     ]
    },
    {
     "name": "stderr",
     "output_type": "stream",
     "text": [
      "\r",
      "Episode 4|Iteration 268|reward: 2262.0|last_reward_at:  262|Elapsed Time: 0:00:03||"
     ]
    },
    {
     "name": "stderr",
     "output_type": "stream",
     "text": [
      "\r",
      "Episode 4|Iteration 268|reward: 2262.0|last_reward_at:  268|Elapsed Time: 0:00:03||"
     ]
    },
    {
     "name": "stderr",
     "output_type": "stream",
     "text": [
      "\r",
      "Episode 4|Iteration 274|reward: 2262.0|last_reward_at:  268|Elapsed Time: 0:00:03||"
     ]
    },
    {
     "name": "stderr",
     "output_type": "stream",
     "text": [
      "\r",
      "Episode 4|Iteration 279|reward: 2262.0|last_reward_at:  268|Elapsed Time: 0:00:03||"
     ]
    },
    {
     "name": "stderr",
     "output_type": "stream",
     "text": [
      "\r",
      "Episode 4|Iteration 287|reward: 2262.0|last_reward_at:  268|Elapsed Time: 0:00:03||"
     ]
    },
    {
     "name": "stderr",
     "output_type": "stream",
     "text": [
      "\r",
      "Episode 4|Iteration 293|reward: 2262.0|last_reward_at:  268|Elapsed Time: 0:00:03||"
     ]
    },
    {
     "name": "stderr",
     "output_type": "stream",
     "text": [
      "\r",
      "Episode 4|Iteration 295|reward: 2268.0|last_reward_at:  268|Elapsed Time: 0:00:03||"
     ]
    },
    {
     "name": "stderr",
     "output_type": "stream",
     "text": [
      "\r",
      "Episode 4|Iteration 295|reward: 2268.0|last_reward_at:  295|Elapsed Time: 0:00:03||"
     ]
    },
    {
     "name": "stderr",
     "output_type": "stream",
     "text": [
      "\r",
      "Episode 4|Iteration 302|reward: 2268.0|last_reward_at:  295|Elapsed Time: 0:00:03||"
     ]
    },
    {
     "name": "stderr",
     "output_type": "stream",
     "text": [
      "\r",
      "Episode 4|Iteration 306|reward: 7268.0|last_reward_at:  295|Elapsed Time: 0:00:04||"
     ]
    },
    {
     "name": "stderr",
     "output_type": "stream",
     "text": [
      "\r",
      "Episode 4|Iteration 306|reward: 7268.0|last_reward_at:  306|Elapsed Time: 0:00:04||"
     ]
    },
    {
     "name": "stderr",
     "output_type": "stream",
     "text": [
      "\n"
     ]
    },
    {
     "name": "stdout",
     "output_type": "stream",
     "text": [
      "  Episode 4 ended at t=306 \n",
      "  Breakdown [Reward/NoReward (Success rate)]\n",
      "    explore-local: 6/40 (0.13)\n",
      "    explore-remote: 15/86 (0.15)\n",
      "    explore-connect: 0/86 (0.00)\n",
      "    exploit-local: 11/16 (0.41)\n",
      "    exploit-remote: 5/11 (0.31)\n",
      "    exploit-connect: 11/19 (0.37)\n",
      "  exploit deflected to exploration: 4\n",
      "  ## Episode: 5/10 'DQL' ϵ=0.7062, γ=0.15, lr=0.01, replaymemory=10000,\n",
      "batch=256, target_update=5\n"
     ]
    },
    {
     "name": "stderr",
     "output_type": "stream",
     "text": [
      "\r",
      "Episode 5|Iteration 0|reward: ------|last_reward_at: ----|Elapsed Time: 0:00:00||"
     ]
    },
    {
     "name": "stderr",
     "output_type": "stream",
     "text": [
      "\r",
      "Episode 5|Iteration 1|reward:   14.0|last_reward_at: ----|Elapsed Time: 0:00:00||"
     ]
    },
    {
     "name": "stderr",
     "output_type": "stream",
     "text": [
      "\r",
      "Episode 5|Iteration 1|reward:   14.0|last_reward_at:    1|Elapsed Time: 0:00:00||"
     ]
    },
    {
     "name": "stderr",
     "output_type": "stream",
     "text": [
      "\r",
      "Episode 5|Iteration 5|reward:   16.0|last_reward_at:    1|Elapsed Time: 0:00:00||"
     ]
    },
    {
     "name": "stderr",
     "output_type": "stream",
     "text": [
      "\r",
      "Episode 5|Iteration 5|reward:   16.0|last_reward_at:    5|Elapsed Time: 0:00:00||"
     ]
    },
    {
     "name": "stderr",
     "output_type": "stream",
     "text": [
      "\r",
      "Episode 5|Iteration 8|reward:   20.0|last_reward_at:    5|Elapsed Time: 0:00:00||"
     ]
    },
    {
     "name": "stderr",
     "output_type": "stream",
     "text": [
      "\r",
      "Episode 5|Iteration 8|reward:   20.0|last_reward_at:    8|Elapsed Time: 0:00:00||"
     ]
    },
    {
     "name": "stderr",
     "output_type": "stream",
     "text": [
      "\r",
      "Episode 5|Iteration 11|reward:  120.0|last_reward_at:    8|Elapsed Time: 0:00:00||"
     ]
    },
    {
     "name": "stderr",
     "output_type": "stream",
     "text": [
      "\r",
      "Episode 5|Iteration 11|reward:  120.0|last_reward_at:   11|Elapsed Time: 0:00:00||"
     ]
    },
    {
     "name": "stderr",
     "output_type": "stream",
     "text": [
      "\r",
      "Episode 5|Iteration 14|reward:  134.0|last_reward_at:   11|Elapsed Time: 0:00:00||"
     ]
    },
    {
     "name": "stderr",
     "output_type": "stream",
     "text": [
      "\r",
      "Episode 5|Iteration 14|reward:  134.0|last_reward_at:   14|Elapsed Time: 0:00:00||"
     ]
    },
    {
     "name": "stderr",
     "output_type": "stream",
     "text": [
      "\r",
      "Episode 5|Iteration 18|reward:  234.0|last_reward_at:   14|Elapsed Time: 0:00:00||"
     ]
    },
    {
     "name": "stderr",
     "output_type": "stream",
     "text": [
      "\r",
      "Episode 5|Iteration 18|reward:  234.0|last_reward_at:   18|Elapsed Time: 0:00:00||"
     ]
    },
    {
     "name": "stderr",
     "output_type": "stream",
     "text": [
      "\r",
      "Episode 5|Iteration 20|reward:  240.0|last_reward_at:   18|Elapsed Time: 0:00:00||"
     ]
    },
    {
     "name": "stderr",
     "output_type": "stream",
     "text": [
      "\r",
      "Episode 5|Iteration 20|reward:  240.0|last_reward_at:   20|Elapsed Time: 0:00:00||"
     ]
    },
    {
     "name": "stderr",
     "output_type": "stream",
     "text": [
      "\r",
      "Episode 5|Iteration 21|reward:  254.0|last_reward_at:   20|Elapsed Time: 0:00:00||"
     ]
    },
    {
     "name": "stderr",
     "output_type": "stream",
     "text": [
      "\r",
      "Episode 5|Iteration 21|reward:  254.0|last_reward_at:   21|Elapsed Time: 0:00:00||"
     ]
    },
    {
     "name": "stderr",
     "output_type": "stream",
     "text": [
      "\r",
      "Episode 5|Iteration 22|reward:  354.0|last_reward_at:   21|Elapsed Time: 0:00:00||"
     ]
    },
    {
     "name": "stderr",
     "output_type": "stream",
     "text": [
      "\r",
      "Episode 5|Iteration 22|reward:  354.0|last_reward_at:   22|Elapsed Time: 0:00:00||"
     ]
    },
    {
     "name": "stderr",
     "output_type": "stream",
     "text": [
      "\r",
      "Episode 5|Iteration 23|reward:  368.0|last_reward_at:   22|Elapsed Time: 0:00:00||"
     ]
    },
    {
     "name": "stderr",
     "output_type": "stream",
     "text": [
      "\r",
      "Episode 5|Iteration 23|reward:  368.0|last_reward_at:   23|Elapsed Time: 0:00:00||"
     ]
    },
    {
     "name": "stderr",
     "output_type": "stream",
     "text": [
      "\r",
      "Episode 5|Iteration 25|reward:  374.0|last_reward_at:   23|Elapsed Time: 0:00:00||"
     ]
    },
    {
     "name": "stderr",
     "output_type": "stream",
     "text": [
      "\r",
      "Episode 5|Iteration 25|reward:  374.0|last_reward_at:   25|Elapsed Time: 0:00:00||"
     ]
    },
    {
     "name": "stderr",
     "output_type": "stream",
     "text": [
      "\r",
      "Episode 5|Iteration 30|reward:  474.0|last_reward_at:   25|Elapsed Time: 0:00:00||"
     ]
    },
    {
     "name": "stderr",
     "output_type": "stream",
     "text": [
      "\r",
      "Episode 5|Iteration 30|reward:  474.0|last_reward_at:   30|Elapsed Time: 0:00:00||"
     ]
    },
    {
     "name": "stderr",
     "output_type": "stream",
     "text": [
      "\r",
      "Episode 5|Iteration 35|reward:  488.0|last_reward_at:   30|Elapsed Time: 0:00:00||"
     ]
    },
    {
     "name": "stderr",
     "output_type": "stream",
     "text": [
      "\r",
      "Episode 5|Iteration 35|reward:  488.0|last_reward_at:   35|Elapsed Time: 0:00:00||"
     ]
    },
    {
     "name": "stderr",
     "output_type": "stream",
     "text": [
      "\r",
      "Episode 5|Iteration 37|reward:  588.0|last_reward_at:   35|Elapsed Time: 0:00:00||"
     ]
    },
    {
     "name": "stderr",
     "output_type": "stream",
     "text": [
      "\r",
      "Episode 5|Iteration 37|reward:  588.0|last_reward_at:   37|Elapsed Time: 0:00:00||"
     ]
    },
    {
     "name": "stderr",
     "output_type": "stream",
     "text": [
      "\r",
      "Episode 5|Iteration 40|reward:  599.0|last_reward_at:   37|Elapsed Time: 0:00:00||"
     ]
    },
    {
     "name": "stderr",
     "output_type": "stream",
     "text": [
      "\r",
      "Episode 5|Iteration 40|reward:  599.0|last_reward_at:   40|Elapsed Time: 0:00:00||"
     ]
    },
    {
     "name": "stderr",
     "output_type": "stream",
     "text": [
      "\r",
      "Episode 5|Iteration 43|reward:  601.0|last_reward_at:   40|Elapsed Time: 0:00:00||"
     ]
    },
    {
     "name": "stderr",
     "output_type": "stream",
     "text": [
      "\r",
      "Episode 5|Iteration 43|reward:  601.0|last_reward_at:   43|Elapsed Time: 0:00:00||"
     ]
    },
    {
     "name": "stderr",
     "output_type": "stream",
     "text": [
      "\r",
      "Episode 5|Iteration 52|reward:  601.0|last_reward_at:   43|Elapsed Time: 0:00:00||"
     ]
    },
    {
     "name": "stderr",
     "output_type": "stream",
     "text": [
      "\r",
      "Episode 5|Iteration 55|reward:  607.0|last_reward_at:   43|Elapsed Time: 0:00:00||"
     ]
    },
    {
     "name": "stderr",
     "output_type": "stream",
     "text": [
      "\r",
      "Episode 5|Iteration 55|reward:  607.0|last_reward_at:   55|Elapsed Time: 0:00:00||"
     ]
    },
    {
     "name": "stderr",
     "output_type": "stream",
     "text": [
      "\r",
      "Episode 5|Iteration 58|reward:  609.0|last_reward_at:   55|Elapsed Time: 0:00:00||"
     ]
    },
    {
     "name": "stderr",
     "output_type": "stream",
     "text": [
      "\r",
      "Episode 5|Iteration 58|reward:  609.0|last_reward_at:   58|Elapsed Time: 0:00:00||"
     ]
    },
    {
     "name": "stderr",
     "output_type": "stream",
     "text": [
      "\r",
      "Episode 5|Iteration 60|reward:  615.0|last_reward_at:   58|Elapsed Time: 0:00:00||"
     ]
    },
    {
     "name": "stderr",
     "output_type": "stream",
     "text": [
      "\r",
      "Episode 5|Iteration 60|reward:  615.0|last_reward_at:   60|Elapsed Time: 0:00:00||"
     ]
    },
    {
     "name": "stderr",
     "output_type": "stream",
     "text": [
      "\r",
      "Episode 5|Iteration 69|reward:  615.0|last_reward_at:   60|Elapsed Time: 0:00:00||"
     ]
    },
    {
     "name": "stderr",
     "output_type": "stream",
     "text": [
      "\r",
      "Episode 5|Iteration 74|reward:  623.0|last_reward_at:   60|Elapsed Time: 0:00:00||"
     ]
    },
    {
     "name": "stderr",
     "output_type": "stream",
     "text": [
      "\r",
      "Episode 5|Iteration 74|reward:  623.0|last_reward_at:   74|Elapsed Time: 0:00:00||"
     ]
    },
    {
     "name": "stderr",
     "output_type": "stream",
     "text": [
      "\r",
      "Episode 5|Iteration 78|reward:  629.0|last_reward_at:   74|Elapsed Time: 0:00:01||"
     ]
    },
    {
     "name": "stderr",
     "output_type": "stream",
     "text": [
      "\r",
      "Episode 5|Iteration 78|reward:  629.0|last_reward_at:   78|Elapsed Time: 0:00:01||"
     ]
    },
    {
     "name": "stderr",
     "output_type": "stream",
     "text": [
      "\r",
      "Episode 5|Iteration 84|reward:  629.0|last_reward_at:   78|Elapsed Time: 0:00:01||"
     ]
    },
    {
     "name": "stderr",
     "output_type": "stream",
     "text": [
      "\r",
      "Episode 5|Iteration 92|reward:  629.0|last_reward_at:   78|Elapsed Time: 0:00:01||"
     ]
    },
    {
     "name": "stderr",
     "output_type": "stream",
     "text": [
      "\r",
      "Episode 5|Iteration 96|reward:  631.0|last_reward_at:   78|Elapsed Time: 0:00:01||"
     ]
    },
    {
     "name": "stderr",
     "output_type": "stream",
     "text": [
      "\r",
      "Episode 5|Iteration 96|reward:  631.0|last_reward_at:   96|Elapsed Time: 0:00:01||"
     ]
    },
    {
     "name": "stderr",
     "output_type": "stream",
     "text": [
      "\r",
      "Episode 5|Iteration 104|reward:  631.0|last_reward_at:   96|Elapsed Time: 0:00:01||"
     ]
    },
    {
     "name": "stderr",
     "output_type": "stream",
     "text": [
      "\r",
      "Episode 5|Iteration 112|reward:  631.0|last_reward_at:   96|Elapsed Time: 0:00:01||"
     ]
    },
    {
     "name": "stderr",
     "output_type": "stream",
     "text": [
      "\r",
      "Episode 5|Iteration 115|reward:  633.0|last_reward_at:   96|Elapsed Time: 0:00:01||"
     ]
    },
    {
     "name": "stderr",
     "output_type": "stream",
     "text": [
      "\r",
      "Episode 5|Iteration 115|reward:  633.0|last_reward_at:  115|Elapsed Time: 0:00:01||"
     ]
    },
    {
     "name": "stderr",
     "output_type": "stream",
     "text": [
      "\r",
      "Episode 5|Iteration 122|reward:  633.0|last_reward_at:  115|Elapsed Time: 0:00:01||"
     ]
    },
    {
     "name": "stderr",
     "output_type": "stream",
     "text": [
      "\r",
      "Episode 5|Iteration 124|reward:  639.0|last_reward_at:  115|Elapsed Time: 0:00:01||"
     ]
    },
    {
     "name": "stderr",
     "output_type": "stream",
     "text": [
      "\r",
      "Episode 5|Iteration 124|reward:  639.0|last_reward_at:  124|Elapsed Time: 0:00:01||"
     ]
    },
    {
     "name": "stderr",
     "output_type": "stream",
     "text": [
      "\r",
      "Episode 5|Iteration 130|reward:  639.0|last_reward_at:  124|Elapsed Time: 0:00:01||"
     ]
    },
    {
     "name": "stderr",
     "output_type": "stream",
     "text": [
      "\r",
      "Episode 5|Iteration 131|reward:  645.0|last_reward_at:  124|Elapsed Time: 0:00:01||"
     ]
    },
    {
     "name": "stderr",
     "output_type": "stream",
     "text": [
      "\r",
      "Episode 5|Iteration 131|reward:  645.0|last_reward_at:  131|Elapsed Time: 0:00:01||"
     ]
    },
    {
     "name": "stderr",
     "output_type": "stream",
     "text": [
      "\r",
      "Episode 5|Iteration 137|reward:  645.0|last_reward_at:  131|Elapsed Time: 0:00:01||"
     ]
    },
    {
     "name": "stderr",
     "output_type": "stream",
     "text": [
      "\r",
      "Episode 5|Iteration 139|reward:  651.0|last_reward_at:  131|Elapsed Time: 0:00:01||"
     ]
    },
    {
     "name": "stderr",
     "output_type": "stream",
     "text": [
      "\r",
      "Episode 5|Iteration 139|reward:  651.0|last_reward_at:  139|Elapsed Time: 0:00:01||"
     ]
    },
    {
     "name": "stderr",
     "output_type": "stream",
     "text": [
      "\r",
      "Episode 5|Iteration 145|reward:  651.0|last_reward_at:  139|Elapsed Time: 0:00:01||"
     ]
    },
    {
     "name": "stderr",
     "output_type": "stream",
     "text": [
      "\r",
      "Episode 5|Iteration 148|reward:  657.0|last_reward_at:  139|Elapsed Time: 0:00:01||"
     ]
    },
    {
     "name": "stderr",
     "output_type": "stream",
     "text": [
      "\r",
      "Episode 5|Iteration 148|reward:  657.0|last_reward_at:  148|Elapsed Time: 0:00:01||"
     ]
    },
    {
     "name": "stderr",
     "output_type": "stream",
     "text": [
      "\r",
      "Episode 5|Iteration 157|reward:  657.0|last_reward_at:  148|Elapsed Time: 0:00:02||"
     ]
    },
    {
     "name": "stderr",
     "output_type": "stream",
     "text": [
      "\r",
      "Episode 5|Iteration 166|reward:  657.0|last_reward_at:  148|Elapsed Time: 0:00:02||"
     ]
    },
    {
     "name": "stderr",
     "output_type": "stream",
     "text": [
      "\r",
      "Episode 5|Iteration 175|reward:  657.0|last_reward_at:  148|Elapsed Time: 0:00:02||"
     ]
    },
    {
     "name": "stderr",
     "output_type": "stream",
     "text": [
      "\r",
      "Episode 5|Iteration 183|reward:  657.0|last_reward_at:  148|Elapsed Time: 0:00:02||"
     ]
    },
    {
     "name": "stderr",
     "output_type": "stream",
     "text": [
      "\r",
      "Episode 5|Iteration 190|reward:  657.0|last_reward_at:  148|Elapsed Time: 0:00:02||"
     ]
    },
    {
     "name": "stderr",
     "output_type": "stream",
     "text": [
      "\r",
      "Episode 5|Iteration 198|reward:  657.0|last_reward_at:  148|Elapsed Time: 0:00:02||"
     ]
    },
    {
     "name": "stderr",
     "output_type": "stream",
     "text": [
      "\r",
      "Episode 5|Iteration 206|reward:  657.0|last_reward_at:  148|Elapsed Time: 0:00:02||"
     ]
    },
    {
     "name": "stderr",
     "output_type": "stream",
     "text": [
      "\r",
      "Episode 5|Iteration 213|reward:  657.0|last_reward_at:  148|Elapsed Time: 0:00:02||"
     ]
    },
    {
     "name": "stderr",
     "output_type": "stream",
     "text": [
      "\r",
      "Episode 5|Iteration 220|reward:  657.0|last_reward_at:  148|Elapsed Time: 0:00:02||"
     ]
    },
    {
     "name": "stderr",
     "output_type": "stream",
     "text": [
      "\r",
      "Episode 5|Iteration 228|reward:  657.0|last_reward_at:  148|Elapsed Time: 0:00:02||"
     ]
    },
    {
     "name": "stderr",
     "output_type": "stream",
     "text": [
      "\r",
      "Episode 5|Iteration 236|reward:  657.0|last_reward_at:  148|Elapsed Time: 0:00:02||"
     ]
    },
    {
     "name": "stderr",
     "output_type": "stream",
     "text": [
      "\r",
      "Episode 5|Iteration 244|reward:  657.0|last_reward_at:  148|Elapsed Time: 0:00:03||"
     ]
    },
    {
     "name": "stderr",
     "output_type": "stream",
     "text": [
      "\r",
      "Episode 5|Iteration 251|reward:  657.0|last_reward_at:  148|Elapsed Time: 0:00:03||"
     ]
    },
    {
     "name": "stderr",
     "output_type": "stream",
     "text": [
      "\r",
      "Episode 5|Iteration 259|reward:  657.0|last_reward_at:  148|Elapsed Time: 0:00:03||"
     ]
    },
    {
     "name": "stderr",
     "output_type": "stream",
     "text": [
      "\r",
      "Episode 5|Iteration 266|reward:  657.0|last_reward_at:  148|Elapsed Time: 0:00:03||"
     ]
    },
    {
     "name": "stderr",
     "output_type": "stream",
     "text": [
      "\r",
      "Episode 5|Iteration 274|reward:  657.0|last_reward_at:  148|Elapsed Time: 0:00:03||"
     ]
    },
    {
     "name": "stderr",
     "output_type": "stream",
     "text": [
      "\r",
      "Episode 5|Iteration 282|reward:  657.0|last_reward_at:  148|Elapsed Time: 0:00:03||"
     ]
    },
    {
     "name": "stderr",
     "output_type": "stream",
     "text": [
      "\r",
      "Episode 5|Iteration 289|reward:  657.0|last_reward_at:  148|Elapsed Time: 0:00:03||"
     ]
    },
    {
     "name": "stderr",
     "output_type": "stream",
     "text": [
      "\r",
      "Episode 5|Iteration 297|reward:  657.0|last_reward_at:  148|Elapsed Time: 0:00:03||"
     ]
    },
    {
     "name": "stderr",
     "output_type": "stream",
     "text": [
      "\r",
      "Episode 5|Iteration 304|reward:  657.0|last_reward_at:  148|Elapsed Time: 0:00:03||"
     ]
    },
    {
     "name": "stderr",
     "output_type": "stream",
     "text": [
      "\r",
      "Episode 5|Iteration 311|reward:  657.0|last_reward_at:  148|Elapsed Time: 0:00:03||"
     ]
    },
    {
     "name": "stderr",
     "output_type": "stream",
     "text": [
      "\r",
      "Episode 5|Iteration 319|reward:  657.0|last_reward_at:  148|Elapsed Time: 0:00:03||"
     ]
    },
    {
     "name": "stderr",
     "output_type": "stream",
     "text": [
      "\r",
      "Episode 5|Iteration 322|reward:  666.0|last_reward_at:  148|Elapsed Time: 0:00:04||"
     ]
    },
    {
     "name": "stderr",
     "output_type": "stream",
     "text": [
      "\r",
      "Episode 5|Iteration 322|reward:  666.0|last_reward_at:  322|Elapsed Time: 0:00:04||"
     ]
    },
    {
     "name": "stderr",
     "output_type": "stream",
     "text": [
      "\r",
      "Episode 5|Iteration 327|reward:  666.0|last_reward_at:  322|Elapsed Time: 0:00:04||"
     ]
    },
    {
     "name": "stderr",
     "output_type": "stream",
     "text": [
      "\r",
      "Episode 5|Iteration 333|reward:  666.0|last_reward_at:  322|Elapsed Time: 0:00:04||"
     ]
    },
    {
     "name": "stderr",
     "output_type": "stream",
     "text": [
      "\r",
      "Episode 5|Iteration 342|reward:  666.0|last_reward_at:  322|Elapsed Time: 0:00:04||"
     ]
    },
    {
     "name": "stderr",
     "output_type": "stream",
     "text": [
      "\r",
      "Episode 5|Iteration 350|reward:  666.0|last_reward_at:  322|Elapsed Time: 0:00:04||"
     ]
    },
    {
     "name": "stderr",
     "output_type": "stream",
     "text": [
      "\r",
      "Episode 5|Iteration 357|reward:  666.0|last_reward_at:  322|Elapsed Time: 0:00:04||"
     ]
    },
    {
     "name": "stderr",
     "output_type": "stream",
     "text": [
      "\r",
      "Episode 5|Iteration 364|reward:  666.0|last_reward_at:  322|Elapsed Time: 0:00:04||"
     ]
    },
    {
     "name": "stderr",
     "output_type": "stream",
     "text": [
      "\r",
      "Episode 5|Iteration 373|reward:  666.0|last_reward_at:  322|Elapsed Time: 0:00:04||"
     ]
    },
    {
     "name": "stderr",
     "output_type": "stream",
     "text": [
      "\r",
      "Episode 5|Iteration 380|reward:  666.0|last_reward_at:  322|Elapsed Time: 0:00:04||"
     ]
    },
    {
     "name": "stderr",
     "output_type": "stream",
     "text": [
      "\r",
      "Episode 5|Iteration 387|reward:  666.0|last_reward_at:  322|Elapsed Time: 0:00:04||"
     ]
    },
    {
     "name": "stderr",
     "output_type": "stream",
     "text": [
      "\r",
      "Episode 5|Iteration 395|reward:  666.0|last_reward_at:  322|Elapsed Time: 0:00:04||"
     ]
    },
    {
     "name": "stderr",
     "output_type": "stream",
     "text": [
      "\r",
      "Episode 5|Iteration 403|reward:  666.0|last_reward_at:  322|Elapsed Time: 0:00:05||"
     ]
    },
    {
     "name": "stderr",
     "output_type": "stream",
     "text": [
      "\r",
      "Episode 5|Iteration 410|reward:  666.0|last_reward_at:  322|Elapsed Time: 0:00:05||"
     ]
    },
    {
     "name": "stderr",
     "output_type": "stream",
     "text": [
      "\r",
      "Episode 5|Iteration 418|reward:  666.0|last_reward_at:  322|Elapsed Time: 0:00:05||"
     ]
    },
    {
     "name": "stderr",
     "output_type": "stream",
     "text": [
      "\r",
      "Episode 5|Iteration 425|reward:  666.0|last_reward_at:  322|Elapsed Time: 0:00:05||"
     ]
    },
    {
     "name": "stderr",
     "output_type": "stream",
     "text": [
      "\r",
      "Episode 5|Iteration 433|reward:  666.0|last_reward_at:  322|Elapsed Time: 0:00:05||"
     ]
    },
    {
     "name": "stderr",
     "output_type": "stream",
     "text": [
      "\r",
      "Episode 5|Iteration 440|reward:  666.0|last_reward_at:  322|Elapsed Time: 0:00:05||"
     ]
    },
    {
     "name": "stderr",
     "output_type": "stream",
     "text": [
      "\r",
      "Episode 5|Iteration 449|reward:  666.0|last_reward_at:  322|Elapsed Time: 0:00:05||"
     ]
    },
    {
     "name": "stderr",
     "output_type": "stream",
     "text": [
      "\r",
      "Episode 5|Iteration 456|reward:  666.0|last_reward_at:  322|Elapsed Time: 0:00:05||"
     ]
    },
    {
     "name": "stderr",
     "output_type": "stream",
     "text": [
      "\r",
      "Episode 5|Iteration 462|reward:  666.0|last_reward_at:  322|Elapsed Time: 0:00:05||"
     ]
    },
    {
     "name": "stderr",
     "output_type": "stream",
     "text": [
      "\r",
      "Episode 5|Iteration 471|reward:  666.0|last_reward_at:  322|Elapsed Time: 0:00:05||"
     ]
    },
    {
     "name": "stderr",
     "output_type": "stream",
     "text": [
      "\r",
      "Episode 5|Iteration 479|reward:  666.0|last_reward_at:  322|Elapsed Time: 0:00:05||"
     ]
    },
    {
     "name": "stderr",
     "output_type": "stream",
     "text": [
      "\r",
      "Episode 5|Iteration 487|reward:  666.0|last_reward_at:  322|Elapsed Time: 0:00:06||"
     ]
    },
    {
     "name": "stderr",
     "output_type": "stream",
     "text": [
      "\r",
      "Episode 5|Iteration 494|reward:  666.0|last_reward_at:  322|Elapsed Time: 0:00:06||"
     ]
    },
    {
     "name": "stderr",
     "output_type": "stream",
     "text": [
      "\r",
      "Episode 5|Iteration 501|reward:  666.0|last_reward_at:  322|Elapsed Time: 0:00:06||"
     ]
    },
    {
     "name": "stderr",
     "output_type": "stream",
     "text": [
      "\r",
      "Episode 5|Iteration 509|reward:  666.0|last_reward_at:  322|Elapsed Time: 0:00:06||"
     ]
    },
    {
     "name": "stderr",
     "output_type": "stream",
     "text": [
      "\r",
      "Episode 5|Iteration 516|reward:  666.0|last_reward_at:  322|Elapsed Time: 0:00:06||"
     ]
    },
    {
     "name": "stderr",
     "output_type": "stream",
     "text": [
      "\r",
      "Episode 5|Iteration 519|reward:  766.0|last_reward_at:  322|Elapsed Time: 0:00:06||"
     ]
    },
    {
     "name": "stderr",
     "output_type": "stream",
     "text": [
      "\r",
      "Episode 5|Iteration 519|reward:  766.0|last_reward_at:  519|Elapsed Time: 0:00:06||"
     ]
    },
    {
     "name": "stderr",
     "output_type": "stream",
     "text": [
      "\r",
      "Episode 5|Iteration 523|reward:  780.0|last_reward_at:  519|Elapsed Time: 0:00:06||"
     ]
    },
    {
     "name": "stderr",
     "output_type": "stream",
     "text": [
      "\r",
      "Episode 5|Iteration 523|reward:  780.0|last_reward_at:  523|Elapsed Time: 0:00:06||"
     ]
    },
    {
     "name": "stderr",
     "output_type": "stream",
     "text": [
      "\r",
      "Episode 5|Iteration 527|reward:  880.0|last_reward_at:  523|Elapsed Time: 0:00:06||"
     ]
    },
    {
     "name": "stderr",
     "output_type": "stream",
     "text": [
      "\r",
      "Episode 5|Iteration 527|reward:  880.0|last_reward_at:  527|Elapsed Time: 0:00:06||"
     ]
    },
    {
     "name": "stderr",
     "output_type": "stream",
     "text": [
      "\r",
      "Episode 5|Iteration 528|reward:  894.0|last_reward_at:  527|Elapsed Time: 0:00:06||"
     ]
    },
    {
     "name": "stderr",
     "output_type": "stream",
     "text": [
      "\r",
      "Episode 5|Iteration 528|reward:  894.0|last_reward_at:  528|Elapsed Time: 0:00:06||"
     ]
    },
    {
     "name": "stderr",
     "output_type": "stream",
     "text": [
      "\r",
      "Episode 5|Iteration 536|reward:  894.0|last_reward_at:  528|Elapsed Time: 0:00:06||"
     ]
    },
    {
     "name": "stderr",
     "output_type": "stream",
     "text": [
      "\r",
      "Episode 5|Iteration 537|reward:  900.0|last_reward_at:  528|Elapsed Time: 0:00:06||"
     ]
    },
    {
     "name": "stderr",
     "output_type": "stream",
     "text": [
      "\r",
      "Episode 5|Iteration 537|reward:  900.0|last_reward_at:  537|Elapsed Time: 0:00:06||"
     ]
    },
    {
     "name": "stderr",
     "output_type": "stream",
     "text": [
      "\r",
      "Episode 5|Iteration 538|reward:  908.0|last_reward_at:  537|Elapsed Time: 0:00:06||"
     ]
    },
    {
     "name": "stderr",
     "output_type": "stream",
     "text": [
      "\r",
      "Episode 5|Iteration 538|reward:  908.0|last_reward_at:  538|Elapsed Time: 0:00:06||"
     ]
    },
    {
     "name": "stderr",
     "output_type": "stream",
     "text": [
      "\r",
      "Episode 5|Iteration 542|reward:  914.0|last_reward_at:  538|Elapsed Time: 0:00:06||"
     ]
    },
    {
     "name": "stderr",
     "output_type": "stream",
     "text": [
      "\r",
      "Episode 5|Iteration 542|reward:  914.0|last_reward_at:  542|Elapsed Time: 0:00:06||"
     ]
    },
    {
     "name": "stderr",
     "output_type": "stream",
     "text": [
      "\r",
      "Episode 5|Iteration 552|reward:  920.0|last_reward_at:  542|Elapsed Time: 0:00:06||"
     ]
    },
    {
     "name": "stderr",
     "output_type": "stream",
     "text": [
      "\r",
      "Episode 5|Iteration 552|reward:  920.0|last_reward_at:  552|Elapsed Time: 0:00:06||"
     ]
    },
    {
     "name": "stderr",
     "output_type": "stream",
     "text": [
      "\r",
      "Episode 5|Iteration 561|reward:  920.0|last_reward_at:  552|Elapsed Time: 0:00:07||"
     ]
    },
    {
     "name": "stderr",
     "output_type": "stream",
     "text": [
      "\r",
      "Episode 5|Iteration 565|reward:  922.0|last_reward_at:  552|Elapsed Time: 0:00:07||"
     ]
    },
    {
     "name": "stderr",
     "output_type": "stream",
     "text": [
      "\r",
      "Episode 5|Iteration 565|reward:  922.0|last_reward_at:  565|Elapsed Time: 0:00:07||"
     ]
    },
    {
     "name": "stderr",
     "output_type": "stream",
     "text": [
      "\r",
      "Episode 5|Iteration 574|reward:  922.0|last_reward_at:  565|Elapsed Time: 0:00:07||"
     ]
    },
    {
     "name": "stderr",
     "output_type": "stream",
     "text": [
      "\r",
      "Episode 5|Iteration 577|reward: 1022.0|last_reward_at:  565|Elapsed Time: 0:00:07||"
     ]
    },
    {
     "name": "stderr",
     "output_type": "stream",
     "text": [
      "\r",
      "Episode 5|Iteration 577|reward: 1022.0|last_reward_at:  577|Elapsed Time: 0:00:07||"
     ]
    },
    {
     "name": "stderr",
     "output_type": "stream",
     "text": [
      "\r",
      "Episode 5|Iteration 578|reward: 1036.0|last_reward_at:  577|Elapsed Time: 0:00:07||"
     ]
    },
    {
     "name": "stderr",
     "output_type": "stream",
     "text": [
      "\r",
      "Episode 5|Iteration 578|reward: 1036.0|last_reward_at:  578|Elapsed Time: 0:00:07||"
     ]
    },
    {
     "name": "stderr",
     "output_type": "stream",
     "text": [
      "\r",
      "Episode 5|Iteration 580|reward: 1136.0|last_reward_at:  578|Elapsed Time: 0:00:07||"
     ]
    },
    {
     "name": "stderr",
     "output_type": "stream",
     "text": [
      "\r",
      "Episode 5|Iteration 580|reward: 1136.0|last_reward_at:  580|Elapsed Time: 0:00:07||"
     ]
    },
    {
     "name": "stderr",
     "output_type": "stream",
     "text": [
      "\r",
      "Episode 5|Iteration 581|reward: 6136.0|last_reward_at:  580|Elapsed Time: 0:00:07||"
     ]
    },
    {
     "name": "stderr",
     "output_type": "stream",
     "text": [
      "\r",
      "Episode 5|Iteration 581|reward: 6136.0|last_reward_at:  581|Elapsed Time: 0:00:07||"
     ]
    },
    {
     "name": "stderr",
     "output_type": "stream",
     "text": [
      "\n"
     ]
    },
    {
     "name": "stdout",
     "output_type": "stream",
     "text": [
      "  Episode 5 ended at t=581 \n",
      "  Breakdown [Reward/NoReward (Success rate)]\n",
      "    explore-local: 7/73 (0.09)\n",
      "    explore-remote: 13/143 (0.08)\n",
      "    explore-connect: 2/166 (0.01)\n",
      "    exploit-local: 9/7 (0.56)\n",
      "    exploit-remote: 3/109 (0.03)\n",
      "    exploit-connect: 7/42 (0.14)\n",
      "  exploit deflected to exploration: 2\n",
      "  ## Episode: 6/10 'DQL' ϵ=0.6397, γ=0.15, lr=0.01, replaymemory=10000,\n",
      "batch=256, target_update=5\n"
     ]
    },
    {
     "name": "stderr",
     "output_type": "stream",
     "text": [
      "\r",
      "Episode 6|Iteration 0|reward: ------|last_reward_at: ----|Elapsed Time: 0:00:00||"
     ]
    },
    {
     "name": "stderr",
     "output_type": "stream",
     "text": [
      "\r",
      "Episode 6|Iteration 1|reward:    0.0|last_reward_at: ----|Elapsed Time: 0:00:00||"
     ]
    },
    {
     "name": "stderr",
     "output_type": "stream",
     "text": [
      "\r",
      "Episode 6|Iteration 2|reward:   14.0|last_reward_at: ----|Elapsed Time: 0:00:00||"
     ]
    },
    {
     "name": "stderr",
     "output_type": "stream",
     "text": [
      "\r",
      "Episode 6|Iteration 2|reward:   14.0|last_reward_at:    2|Elapsed Time: 0:00:00||"
     ]
    },
    {
     "name": "stderr",
     "output_type": "stream",
     "text": [
      "\r",
      "Episode 6|Iteration 3|reward:   16.0|last_reward_at:    2|Elapsed Time: 0:00:00||"
     ]
    },
    {
     "name": "stderr",
     "output_type": "stream",
     "text": [
      "\r",
      "Episode 6|Iteration 3|reward:   16.0|last_reward_at:    3|Elapsed Time: 0:00:00||"
     ]
    },
    {
     "name": "stderr",
     "output_type": "stream",
     "text": [
      "\r",
      "Episode 6|Iteration 4|reward:  116.0|last_reward_at:    3|Elapsed Time: 0:00:00||"
     ]
    },
    {
     "name": "stderr",
     "output_type": "stream",
     "text": [
      "\r",
      "Episode 6|Iteration 4|reward:  116.0|last_reward_at:    4|Elapsed Time: 0:00:00||"
     ]
    },
    {
     "name": "stderr",
     "output_type": "stream",
     "text": [
      "\r",
      "Episode 6|Iteration 7|reward:  130.0|last_reward_at:    4|Elapsed Time: 0:00:00||"
     ]
    },
    {
     "name": "stderr",
     "output_type": "stream",
     "text": [
      "\r",
      "Episode 6|Iteration 7|reward:  130.0|last_reward_at:    7|Elapsed Time: 0:00:00||"
     ]
    },
    {
     "name": "stderr",
     "output_type": "stream",
     "text": [
      "\r",
      "Episode 6|Iteration 11|reward:  230.0|last_reward_at:    7|Elapsed Time: 0:00:00||"
     ]
    },
    {
     "name": "stderr",
     "output_type": "stream",
     "text": [
      "\r",
      "Episode 6|Iteration 11|reward:  230.0|last_reward_at:   11|Elapsed Time: 0:00:00||"
     ]
    },
    {
     "name": "stderr",
     "output_type": "stream",
     "text": [
      "\r",
      "Episode 6|Iteration 12|reward:  244.0|last_reward_at:   11|Elapsed Time: 0:00:00||"
     ]
    },
    {
     "name": "stderr",
     "output_type": "stream",
     "text": [
      "\r",
      "Episode 6|Iteration 12|reward:  244.0|last_reward_at:   12|Elapsed Time: 0:00:00||"
     ]
    },
    {
     "name": "stderr",
     "output_type": "stream",
     "text": [
      "\r",
      "Episode 6|Iteration 14|reward:  246.0|last_reward_at:   12|Elapsed Time: 0:00:00||"
     ]
    },
    {
     "name": "stderr",
     "output_type": "stream",
     "text": [
      "\r",
      "Episode 6|Iteration 14|reward:  246.0|last_reward_at:   14|Elapsed Time: 0:00:00||"
     ]
    },
    {
     "name": "stderr",
     "output_type": "stream",
     "text": [
      "\r",
      "Episode 6|Iteration 16|reward:  346.0|last_reward_at:   14|Elapsed Time: 0:00:00||"
     ]
    },
    {
     "name": "stderr",
     "output_type": "stream",
     "text": [
      "\r",
      "Episode 6|Iteration 16|reward:  346.0|last_reward_at:   16|Elapsed Time: 0:00:00||"
     ]
    },
    {
     "name": "stderr",
     "output_type": "stream",
     "text": [
      "\r",
      "Episode 6|Iteration 17|reward:  360.0|last_reward_at:   16|Elapsed Time: 0:00:00||"
     ]
    },
    {
     "name": "stderr",
     "output_type": "stream",
     "text": [
      "\r",
      "Episode 6|Iteration 17|reward:  360.0|last_reward_at:   17|Elapsed Time: 0:00:00||"
     ]
    },
    {
     "name": "stderr",
     "output_type": "stream",
     "text": [
      "\r",
      "Episode 6|Iteration 18|reward:  460.0|last_reward_at:   17|Elapsed Time: 0:00:00||"
     ]
    },
    {
     "name": "stderr",
     "output_type": "stream",
     "text": [
      "\r",
      "Episode 6|Iteration 18|reward:  460.0|last_reward_at:   18|Elapsed Time: 0:00:00||"
     ]
    },
    {
     "name": "stderr",
     "output_type": "stream",
     "text": [
      "\r",
      "Episode 6|Iteration 19|reward:  466.0|last_reward_at:   18|Elapsed Time: 0:00:00||"
     ]
    },
    {
     "name": "stderr",
     "output_type": "stream",
     "text": [
      "\r",
      "Episode 6|Iteration 19|reward:  466.0|last_reward_at:   19|Elapsed Time: 0:00:00||"
     ]
    },
    {
     "name": "stderr",
     "output_type": "stream",
     "text": [
      "\r",
      "Episode 6|Iteration 20|reward:  468.0|last_reward_at:   19|Elapsed Time: 0:00:00||"
     ]
    },
    {
     "name": "stderr",
     "output_type": "stream",
     "text": [
      "\r",
      "Episode 6|Iteration 20|reward:  468.0|last_reward_at:   20|Elapsed Time: 0:00:00||"
     ]
    },
    {
     "name": "stderr",
     "output_type": "stream",
     "text": [
      "\r",
      "Episode 6|Iteration 21|reward:  479.0|last_reward_at:   20|Elapsed Time: 0:00:00||"
     ]
    },
    {
     "name": "stderr",
     "output_type": "stream",
     "text": [
      "\r",
      "Episode 6|Iteration 21|reward:  479.0|last_reward_at:   21|Elapsed Time: 0:00:00||"
     ]
    },
    {
     "name": "stderr",
     "output_type": "stream",
     "text": [
      "\r",
      "Episode 6|Iteration 23|reward:  485.0|last_reward_at:   21|Elapsed Time: 0:00:00||"
     ]
    },
    {
     "name": "stderr",
     "output_type": "stream",
     "text": [
      "\r",
      "Episode 6|Iteration 23|reward:  485.0|last_reward_at:   23|Elapsed Time: 0:00:00||"
     ]
    },
    {
     "name": "stderr",
     "output_type": "stream",
     "text": [
      "\r",
      "Episode 6|Iteration 25|reward:  491.0|last_reward_at:   23|Elapsed Time: 0:00:00||"
     ]
    },
    {
     "name": "stderr",
     "output_type": "stream",
     "text": [
      "\r",
      "Episode 6|Iteration 25|reward:  491.0|last_reward_at:   25|Elapsed Time: 0:00:00||"
     ]
    },
    {
     "name": "stderr",
     "output_type": "stream",
     "text": [
      "\r",
      "Episode 6|Iteration 26|reward:  500.0|last_reward_at:   25|Elapsed Time: 0:00:00||"
     ]
    },
    {
     "name": "stderr",
     "output_type": "stream",
     "text": [
      "\r",
      "Episode 6|Iteration 26|reward:  500.0|last_reward_at:   26|Elapsed Time: 0:00:00||"
     ]
    },
    {
     "name": "stderr",
     "output_type": "stream",
     "text": [
      "\r",
      "Episode 6|Iteration 27|reward:  600.0|last_reward_at:   26|Elapsed Time: 0:00:00||"
     ]
    },
    {
     "name": "stderr",
     "output_type": "stream",
     "text": [
      "\r",
      "Episode 6|Iteration 27|reward:  600.0|last_reward_at:   27|Elapsed Time: 0:00:00||"
     ]
    },
    {
     "name": "stderr",
     "output_type": "stream",
     "text": [
      "\r",
      "Episode 6|Iteration 28|reward:  614.0|last_reward_at:   27|Elapsed Time: 0:00:00||"
     ]
    },
    {
     "name": "stderr",
     "output_type": "stream",
     "text": [
      "\r",
      "Episode 6|Iteration 28|reward:  614.0|last_reward_at:   28|Elapsed Time: 0:00:00||"
     ]
    },
    {
     "name": "stderr",
     "output_type": "stream",
     "text": [
      "\r",
      "Episode 6|Iteration 29|reward:  714.0|last_reward_at:   28|Elapsed Time: 0:00:00||"
     ]
    },
    {
     "name": "stderr",
     "output_type": "stream",
     "text": [
      "\r",
      "Episode 6|Iteration 29|reward:  714.0|last_reward_at:   29|Elapsed Time: 0:00:00||"
     ]
    },
    {
     "name": "stderr",
     "output_type": "stream",
     "text": [
      "\r",
      "Episode 6|Iteration 31|reward:  728.0|last_reward_at:   29|Elapsed Time: 0:00:00||"
     ]
    },
    {
     "name": "stderr",
     "output_type": "stream",
     "text": [
      "\r",
      "Episode 6|Iteration 31|reward:  728.0|last_reward_at:   31|Elapsed Time: 0:00:00||"
     ]
    },
    {
     "name": "stderr",
     "output_type": "stream",
     "text": [
      "\r",
      "Episode 6|Iteration 32|reward:  828.0|last_reward_at:   31|Elapsed Time: 0:00:00||"
     ]
    },
    {
     "name": "stderr",
     "output_type": "stream",
     "text": [
      "\r",
      "Episode 6|Iteration 32|reward:  828.0|last_reward_at:   32|Elapsed Time: 0:00:00||"
     ]
    },
    {
     "name": "stderr",
     "output_type": "stream",
     "text": [
      "\r",
      "Episode 6|Iteration 34|reward:  842.0|last_reward_at:   32|Elapsed Time: 0:00:00||"
     ]
    },
    {
     "name": "stderr",
     "output_type": "stream",
     "text": [
      "\r",
      "Episode 6|Iteration 34|reward:  842.0|last_reward_at:   34|Elapsed Time: 0:00:00||"
     ]
    },
    {
     "name": "stderr",
     "output_type": "stream",
     "text": [
      "\r",
      "Episode 6|Iteration 35|reward:  942.0|last_reward_at:   34|Elapsed Time: 0:00:00||"
     ]
    },
    {
     "name": "stderr",
     "output_type": "stream",
     "text": [
      "\r",
      "Episode 6|Iteration 35|reward:  942.0|last_reward_at:   35|Elapsed Time: 0:00:00||"
     ]
    },
    {
     "name": "stderr",
     "output_type": "stream",
     "text": [
      "\r",
      "Episode 6|Iteration 38|reward:  956.0|last_reward_at:   35|Elapsed Time: 0:00:00||"
     ]
    },
    {
     "name": "stderr",
     "output_type": "stream",
     "text": [
      "\r",
      "Episode 6|Iteration 38|reward:  956.0|last_reward_at:   38|Elapsed Time: 0:00:00||"
     ]
    },
    {
     "name": "stderr",
     "output_type": "stream",
     "text": [
      "\r",
      "Episode 6|Iteration 40|reward:  958.0|last_reward_at:   38|Elapsed Time: 0:00:00||"
     ]
    },
    {
     "name": "stderr",
     "output_type": "stream",
     "text": [
      "\r",
      "Episode 6|Iteration 40|reward:  958.0|last_reward_at:   40|Elapsed Time: 0:00:00||"
     ]
    },
    {
     "name": "stderr",
     "output_type": "stream",
     "text": [
      "\r",
      "Episode 6|Iteration 41|reward: 5958.0|last_reward_at:   40|Elapsed Time: 0:00:00||"
     ]
    },
    {
     "name": "stderr",
     "output_type": "stream",
     "text": [
      "\r",
      "Episode 6|Iteration 41|reward: 5958.0|last_reward_at:   41|Elapsed Time: 0:00:00||"
     ]
    },
    {
     "name": "stderr",
     "output_type": "stream",
     "text": [
      "\n"
     ]
    },
    {
     "name": "stdout",
     "output_type": "stream",
     "text": [
      "  Episode 6 ended at t=41 \n",
      "  Breakdown [Reward/NoReward (Success rate)]\n",
      "    explore-local: 3/4 (0.43)\n",
      "    explore-remote: 6/2 (0.75)\n",
      "    explore-connect: 1/9 (0.10)\n",
      "    exploit-local: 8/0 (1.00)\n",
      "    exploit-remote: 0/0 (NaN)\n",
      "    exploit-connect: 8/0 (1.00)\n",
      "  exploit deflected to exploration: 2\n",
      "  ## Episode: 7/10 'DQL' ϵ=0.6353, γ=0.15, lr=0.01, replaymemory=10000,\n",
      "batch=256, target_update=5\n"
     ]
    },
    {
     "name": "stderr",
     "output_type": "stream",
     "text": [
      "\r",
      "Episode 7|Iteration 0|reward: ------|last_reward_at: ----|Elapsed Time: 0:00:00||"
     ]
    },
    {
     "name": "stderr",
     "output_type": "stream",
     "text": [
      "\r",
      "Episode 7|Iteration 1|reward:    0.0|last_reward_at: ----|Elapsed Time: 0:00:00||"
     ]
    },
    {
     "name": "stderr",
     "output_type": "stream",
     "text": [
      "\r",
      "Episode 7|Iteration 8|reward:    0.0|last_reward_at: ----|Elapsed Time: 0:00:00||"
     ]
    },
    {
     "name": "stderr",
     "output_type": "stream",
     "text": [
      "\r",
      "Episode 7|Iteration 8|reward:   14.0|last_reward_at: ----|Elapsed Time: 0:00:00||"
     ]
    },
    {
     "name": "stderr",
     "output_type": "stream",
     "text": [
      "\r",
      "Episode 7|Iteration 8|reward:   14.0|last_reward_at:    8|Elapsed Time: 0:00:00||"
     ]
    },
    {
     "name": "stderr",
     "output_type": "stream",
     "text": [
      "\r",
      "Episode 7|Iteration 10|reward:  114.0|last_reward_at:    8|Elapsed Time: 0:00:00||"
     ]
    },
    {
     "name": "stderr",
     "output_type": "stream",
     "text": [
      "\r",
      "Episode 7|Iteration 10|reward:  114.0|last_reward_at:   10|Elapsed Time: 0:00:00||"
     ]
    },
    {
     "name": "stderr",
     "output_type": "stream",
     "text": [
      "\r",
      "Episode 7|Iteration 12|reward:  116.0|last_reward_at:   10|Elapsed Time: 0:00:00||"
     ]
    },
    {
     "name": "stderr",
     "output_type": "stream",
     "text": [
      "\r",
      "Episode 7|Iteration 12|reward:  116.0|last_reward_at:   12|Elapsed Time: 0:00:00||"
     ]
    },
    {
     "name": "stderr",
     "output_type": "stream",
     "text": [
      "\r",
      "Episode 7|Iteration 16|reward:  130.0|last_reward_at:   12|Elapsed Time: 0:00:00||"
     ]
    },
    {
     "name": "stderr",
     "output_type": "stream",
     "text": [
      "\r",
      "Episode 7|Iteration 16|reward:  130.0|last_reward_at:   16|Elapsed Time: 0:00:00||"
     ]
    },
    {
     "name": "stderr",
     "output_type": "stream",
     "text": [
      "\r",
      "Episode 7|Iteration 23|reward:  130.0|last_reward_at:   16|Elapsed Time: 0:00:00||"
     ]
    },
    {
     "name": "stderr",
     "output_type": "stream",
     "text": [
      "\r",
      "Episode 7|Iteration 25|reward:  230.0|last_reward_at:   16|Elapsed Time: 0:00:00||"
     ]
    },
    {
     "name": "stderr",
     "output_type": "stream",
     "text": [
      "\r",
      "Episode 7|Iteration 25|reward:  230.0|last_reward_at:   25|Elapsed Time: 0:00:00||"
     ]
    },
    {
     "name": "stderr",
     "output_type": "stream",
     "text": [
      "\r",
      "Episode 7|Iteration 31|reward:  230.0|last_reward_at:   25|Elapsed Time: 0:00:00||"
     ]
    },
    {
     "name": "stderr",
     "output_type": "stream",
     "text": [
      "\r",
      "Episode 7|Iteration 38|reward:  230.0|last_reward_at:   25|Elapsed Time: 0:00:00||"
     ]
    },
    {
     "name": "stderr",
     "output_type": "stream",
     "text": [
      "\r",
      "Episode 7|Iteration 40|reward:  236.0|last_reward_at:   25|Elapsed Time: 0:00:00||"
     ]
    },
    {
     "name": "stderr",
     "output_type": "stream",
     "text": [
      "\r",
      "Episode 7|Iteration 40|reward:  236.0|last_reward_at:   40|Elapsed Time: 0:00:00||"
     ]
    },
    {
     "name": "stderr",
     "output_type": "stream",
     "text": [
      "\r",
      "Episode 7|Iteration 45|reward:  250.0|last_reward_at:   40|Elapsed Time: 0:00:00||"
     ]
    },
    {
     "name": "stderr",
     "output_type": "stream",
     "text": [
      "\r",
      "Episode 7|Iteration 45|reward:  250.0|last_reward_at:   45|Elapsed Time: 0:00:00||"
     ]
    },
    {
     "name": "stderr",
     "output_type": "stream",
     "text": [
      "\r",
      "Episode 7|Iteration 46|reward:  350.0|last_reward_at:   45|Elapsed Time: 0:00:00||"
     ]
    },
    {
     "name": "stderr",
     "output_type": "stream",
     "text": [
      "\r",
      "Episode 7|Iteration 46|reward:  350.0|last_reward_at:   46|Elapsed Time: 0:00:00||"
     ]
    },
    {
     "name": "stderr",
     "output_type": "stream",
     "text": [
      "\r",
      "Episode 7|Iteration 48|reward:  364.0|last_reward_at:   46|Elapsed Time: 0:00:00||"
     ]
    },
    {
     "name": "stderr",
     "output_type": "stream",
     "text": [
      "\r",
      "Episode 7|Iteration 48|reward:  364.0|last_reward_at:   48|Elapsed Time: 0:00:00||"
     ]
    },
    {
     "name": "stderr",
     "output_type": "stream",
     "text": [
      "\r",
      "Episode 7|Iteration 51|reward:  464.0|last_reward_at:   48|Elapsed Time: 0:00:00||"
     ]
    },
    {
     "name": "stderr",
     "output_type": "stream",
     "text": [
      "\r",
      "Episode 7|Iteration 51|reward:  464.0|last_reward_at:   51|Elapsed Time: 0:00:00||"
     ]
    },
    {
     "name": "stderr",
     "output_type": "stream",
     "text": [
      "\r",
      "Episode 7|Iteration 54|reward:  470.0|last_reward_at:   51|Elapsed Time: 0:00:00||"
     ]
    },
    {
     "name": "stderr",
     "output_type": "stream",
     "text": [
      "\r",
      "Episode 7|Iteration 54|reward:  470.0|last_reward_at:   54|Elapsed Time: 0:00:00||"
     ]
    },
    {
     "name": "stderr",
     "output_type": "stream",
     "text": [
      "\r",
      "Episode 7|Iteration 56|reward:  484.0|last_reward_at:   54|Elapsed Time: 0:00:00||"
     ]
    },
    {
     "name": "stderr",
     "output_type": "stream",
     "text": [
      "\r",
      "Episode 7|Iteration 56|reward:  484.0|last_reward_at:   56|Elapsed Time: 0:00:00||"
     ]
    },
    {
     "name": "stderr",
     "output_type": "stream",
     "text": [
      "\r",
      "Episode 7|Iteration 57|reward:  584.0|last_reward_at:   56|Elapsed Time: 0:00:00||"
     ]
    },
    {
     "name": "stderr",
     "output_type": "stream",
     "text": [
      "\r",
      "Episode 7|Iteration 57|reward:  584.0|last_reward_at:   57|Elapsed Time: 0:00:00||"
     ]
    },
    {
     "name": "stderr",
     "output_type": "stream",
     "text": [
      "\r",
      "Episode 7|Iteration 61|reward:  586.0|last_reward_at:   57|Elapsed Time: 0:00:00||"
     ]
    },
    {
     "name": "stderr",
     "output_type": "stream",
     "text": [
      "\r",
      "Episode 7|Iteration 61|reward:  586.0|last_reward_at:   61|Elapsed Time: 0:00:00||"
     ]
    },
    {
     "name": "stderr",
     "output_type": "stream",
     "text": [
      "\r",
      "Episode 7|Iteration 62|reward:  600.0|last_reward_at:   61|Elapsed Time: 0:00:00||"
     ]
    },
    {
     "name": "stderr",
     "output_type": "stream",
     "text": [
      "\r",
      "Episode 7|Iteration 62|reward:  600.0|last_reward_at:   62|Elapsed Time: 0:00:00||"
     ]
    },
    {
     "name": "stderr",
     "output_type": "stream",
     "text": [
      "\r",
      "Episode 7|Iteration 65|reward:  608.0|last_reward_at:   62|Elapsed Time: 0:00:00||"
     ]
    },
    {
     "name": "stderr",
     "output_type": "stream",
     "text": [
      "\r",
      "Episode 7|Iteration 65|reward:  608.0|last_reward_at:   65|Elapsed Time: 0:00:00||"
     ]
    },
    {
     "name": "stderr",
     "output_type": "stream",
     "text": [
      "\r",
      "Episode 7|Iteration 67|reward:  708.0|last_reward_at:   65|Elapsed Time: 0:00:00||"
     ]
    },
    {
     "name": "stderr",
     "output_type": "stream",
     "text": [
      "\r",
      "Episode 7|Iteration 67|reward:  708.0|last_reward_at:   67|Elapsed Time: 0:00:00||"
     ]
    },
    {
     "name": "stderr",
     "output_type": "stream",
     "text": [
      "\r",
      "Episode 7|Iteration 69|reward:  722.0|last_reward_at:   67|Elapsed Time: 0:00:00||"
     ]
    },
    {
     "name": "stderr",
     "output_type": "stream",
     "text": [
      "\r",
      "Episode 7|Iteration 69|reward:  722.0|last_reward_at:   69|Elapsed Time: 0:00:00||"
     ]
    },
    {
     "name": "stderr",
     "output_type": "stream",
     "text": [
      "\r",
      "Episode 7|Iteration 73|reward:  822.0|last_reward_at:   69|Elapsed Time: 0:00:00||"
     ]
    },
    {
     "name": "stderr",
     "output_type": "stream",
     "text": [
      "\r",
      "Episode 7|Iteration 73|reward:  822.0|last_reward_at:   73|Elapsed Time: 0:00:00||"
     ]
    },
    {
     "name": "stderr",
     "output_type": "stream",
     "text": [
      "\r",
      "Episode 7|Iteration 74|reward:  836.0|last_reward_at:   73|Elapsed Time: 0:00:00||"
     ]
    },
    {
     "name": "stderr",
     "output_type": "stream",
     "text": [
      "\r",
      "Episode 7|Iteration 74|reward:  836.0|last_reward_at:   74|Elapsed Time: 0:00:00||"
     ]
    },
    {
     "name": "stderr",
     "output_type": "stream",
     "text": [
      "\r",
      "Episode 7|Iteration 77|reward:  838.0|last_reward_at:   74|Elapsed Time: 0:00:00||"
     ]
    },
    {
     "name": "stderr",
     "output_type": "stream",
     "text": [
      "\r",
      "Episode 7|Iteration 77|reward:  838.0|last_reward_at:   77|Elapsed Time: 0:00:00||"
     ]
    },
    {
     "name": "stderr",
     "output_type": "stream",
     "text": [
      "\r",
      "Episode 7|Iteration 81|reward: 5838.0|last_reward_at:   77|Elapsed Time: 0:00:01||"
     ]
    },
    {
     "name": "stderr",
     "output_type": "stream",
     "text": [
      "\r",
      "Episode 7|Iteration 81|reward: 5838.0|last_reward_at:   81|Elapsed Time: 0:00:01||"
     ]
    },
    {
     "name": "stderr",
     "output_type": "stream",
     "text": [
      "\n"
     ]
    },
    {
     "name": "stdout",
     "output_type": "stream",
     "text": [
      "  Episode 7 ended at t=81 \n",
      "  Breakdown [Reward/NoReward (Success rate)]\n",
      "    explore-local: 2/7 (0.22)\n",
      "    explore-remote: 5/18 (0.22)\n",
      "    explore-connect: 0/21 (0.00)\n",
      "    exploit-local: 7/1 (0.88)\n",
      "    exploit-remote: 0/0 (NaN)\n",
      "    exploit-connect: 8/12 (0.40)\n",
      "  exploit deflected to exploration: 3\n",
      "  ## Episode: 8/10 'DQL' ϵ=0.6267, γ=0.15, lr=0.01, replaymemory=10000,\n",
      "batch=256, target_update=5\n"
     ]
    },
    {
     "name": "stderr",
     "output_type": "stream",
     "text": [
      "\r",
      "Episode 8|Iteration 0|reward: ------|last_reward_at: ----|Elapsed Time: 0:00:00||"
     ]
    },
    {
     "name": "stderr",
     "output_type": "stream",
     "text": [
      "\r",
      "Episode 8|Iteration 1|reward:    0.0|last_reward_at: ----|Elapsed Time: 0:00:00||"
     ]
    },
    {
     "name": "stderr",
     "output_type": "stream",
     "text": [
      "\r",
      "Episode 8|Iteration 2|reward:   14.0|last_reward_at: ----|Elapsed Time: 0:00:00||"
     ]
    },
    {
     "name": "stderr",
     "output_type": "stream",
     "text": [
      "\r",
      "Episode 8|Iteration 2|reward:   14.0|last_reward_at:    2|Elapsed Time: 0:00:00||"
     ]
    },
    {
     "name": "stderr",
     "output_type": "stream",
     "text": [
      "\r",
      "Episode 8|Iteration 5|reward:   18.0|last_reward_at:    2|Elapsed Time: 0:00:00||"
     ]
    },
    {
     "name": "stderr",
     "output_type": "stream",
     "text": [
      "\r",
      "Episode 8|Iteration 5|reward:   18.0|last_reward_at:    5|Elapsed Time: 0:00:00||"
     ]
    },
    {
     "name": "stderr",
     "output_type": "stream",
     "text": [
      "\r",
      "Episode 8|Iteration 8|reward:   20.0|last_reward_at:    5|Elapsed Time: 0:00:00||"
     ]
    },
    {
     "name": "stderr",
     "output_type": "stream",
     "text": [
      "\r",
      "Episode 8|Iteration 8|reward:   20.0|last_reward_at:    8|Elapsed Time: 0:00:00||"
     ]
    },
    {
     "name": "stderr",
     "output_type": "stream",
     "text": [
      "\r",
      "Episode 8|Iteration 16|reward:   20.0|last_reward_at:    8|Elapsed Time: 0:00:00||"
     ]
    },
    {
     "name": "stderr",
     "output_type": "stream",
     "text": [
      "\r",
      "Episode 8|Iteration 22|reward:   20.0|last_reward_at:    8|Elapsed Time: 0:00:00||"
     ]
    },
    {
     "name": "stderr",
     "output_type": "stream",
     "text": [
      "\r",
      "Episode 8|Iteration 30|reward:   20.0|last_reward_at:    8|Elapsed Time: 0:00:00||"
     ]
    },
    {
     "name": "stderr",
     "output_type": "stream",
     "text": [
      "\r",
      "Episode 8|Iteration 37|reward:   20.0|last_reward_at:    8|Elapsed Time: 0:00:00||"
     ]
    },
    {
     "name": "stderr",
     "output_type": "stream",
     "text": [
      "\r",
      "Episode 8|Iteration 45|reward:   20.0|last_reward_at:    8|Elapsed Time: 0:00:00||"
     ]
    },
    {
     "name": "stderr",
     "output_type": "stream",
     "text": [
      "\r",
      "Episode 8|Iteration 53|reward:   20.0|last_reward_at:    8|Elapsed Time: 0:00:00||"
     ]
    },
    {
     "name": "stderr",
     "output_type": "stream",
     "text": [
      "\r",
      "Episode 8|Iteration 60|reward:   20.0|last_reward_at:    8|Elapsed Time: 0:00:00||"
     ]
    },
    {
     "name": "stderr",
     "output_type": "stream",
     "text": [
      "\r",
      "Episode 8|Iteration 65|reward:  120.0|last_reward_at:    8|Elapsed Time: 0:00:00||"
     ]
    },
    {
     "name": "stderr",
     "output_type": "stream",
     "text": [
      "\r",
      "Episode 8|Iteration 65|reward:  120.0|last_reward_at:   65|Elapsed Time: 0:00:00||"
     ]
    },
    {
     "name": "stderr",
     "output_type": "stream",
     "text": [
      "\r",
      "Episode 8|Iteration 68|reward:  134.0|last_reward_at:   65|Elapsed Time: 0:00:00||"
     ]
    },
    {
     "name": "stderr",
     "output_type": "stream",
     "text": [
      "\r",
      "Episode 8|Iteration 68|reward:  134.0|last_reward_at:   68|Elapsed Time: 0:00:00||"
     ]
    },
    {
     "name": "stderr",
     "output_type": "stream",
     "text": [
      "\r",
      "Episode 8|Iteration 69|reward:  234.0|last_reward_at:   68|Elapsed Time: 0:00:00||"
     ]
    },
    {
     "name": "stderr",
     "output_type": "stream",
     "text": [
      "\r",
      "Episode 8|Iteration 69|reward:  234.0|last_reward_at:   69|Elapsed Time: 0:00:00||"
     ]
    },
    {
     "name": "stderr",
     "output_type": "stream",
     "text": [
      "\r",
      "Episode 8|Iteration 72|reward:  248.0|last_reward_at:   69|Elapsed Time: 0:00:00||"
     ]
    },
    {
     "name": "stderr",
     "output_type": "stream",
     "text": [
      "\r",
      "Episode 8|Iteration 72|reward:  248.0|last_reward_at:   72|Elapsed Time: 0:00:00||"
     ]
    },
    {
     "name": "stderr",
     "output_type": "stream",
     "text": [
      "\r",
      "Episode 8|Iteration 74|reward:  348.0|last_reward_at:   72|Elapsed Time: 0:00:00||"
     ]
    },
    {
     "name": "stderr",
     "output_type": "stream",
     "text": [
      "\r",
      "Episode 8|Iteration 74|reward:  348.0|last_reward_at:   74|Elapsed Time: 0:00:00||"
     ]
    },
    {
     "name": "stderr",
     "output_type": "stream",
     "text": [
      "\r",
      "Episode 8|Iteration 75|reward:  362.0|last_reward_at:   74|Elapsed Time: 0:00:01||"
     ]
    },
    {
     "name": "stderr",
     "output_type": "stream",
     "text": [
      "\r",
      "Episode 8|Iteration 75|reward:  362.0|last_reward_at:   75|Elapsed Time: 0:00:01||"
     ]
    },
    {
     "name": "stderr",
     "output_type": "stream",
     "text": [
      "\r",
      "Episode 8|Iteration 78|reward:  364.0|last_reward_at:   75|Elapsed Time: 0:00:01||"
     ]
    },
    {
     "name": "stderr",
     "output_type": "stream",
     "text": [
      "\r",
      "Episode 8|Iteration 78|reward:  364.0|last_reward_at:   78|Elapsed Time: 0:00:01||"
     ]
    },
    {
     "name": "stderr",
     "output_type": "stream",
     "text": [
      "\r",
      "Episode 8|Iteration 84|reward:  364.0|last_reward_at:   78|Elapsed Time: 0:00:01||"
     ]
    },
    {
     "name": "stderr",
     "output_type": "stream",
     "text": [
      "\r",
      "Episode 8|Iteration 87|reward:  370.0|last_reward_at:   78|Elapsed Time: 0:00:01||"
     ]
    },
    {
     "name": "stderr",
     "output_type": "stream",
     "text": [
      "\r",
      "Episode 8|Iteration 87|reward:  370.0|last_reward_at:   87|Elapsed Time: 0:00:01||"
     ]
    },
    {
     "name": "stderr",
     "output_type": "stream",
     "text": [
      "\r",
      "Episode 8|Iteration 89|reward:  376.0|last_reward_at:   87|Elapsed Time: 0:00:01||"
     ]
    },
    {
     "name": "stderr",
     "output_type": "stream",
     "text": [
      "\r",
      "Episode 8|Iteration 89|reward:  376.0|last_reward_at:   89|Elapsed Time: 0:00:01||"
     ]
    },
    {
     "name": "stderr",
     "output_type": "stream",
     "text": [
      "\r",
      "Episode 8|Iteration 97|reward:  376.0|last_reward_at:   89|Elapsed Time: 0:00:01||"
     ]
    },
    {
     "name": "stderr",
     "output_type": "stream",
     "text": [
      "\r",
      "Episode 8|Iteration 104|reward:  382.0|last_reward_at:   89|Elapsed Time: 0:00:01||"
     ]
    },
    {
     "name": "stderr",
     "output_type": "stream",
     "text": [
      "\r",
      "Episode 8|Iteration 104|reward:  382.0|last_reward_at:  104|Elapsed Time: 0:00:01||"
     ]
    },
    {
     "name": "stderr",
     "output_type": "stream",
     "text": [
      "\r",
      "Episode 8|Iteration 105|reward:  384.0|last_reward_at:  104|Elapsed Time: 0:00:01||"
     ]
    },
    {
     "name": "stderr",
     "output_type": "stream",
     "text": [
      "\r",
      "Episode 8|Iteration 105|reward:  384.0|last_reward_at:  105|Elapsed Time: 0:00:01||"
     ]
    },
    {
     "name": "stderr",
     "output_type": "stream",
     "text": [
      "\r",
      "Episode 8|Iteration 109|reward:  390.0|last_reward_at:  105|Elapsed Time: 0:00:01||"
     ]
    },
    {
     "name": "stderr",
     "output_type": "stream",
     "text": [
      "\r",
      "Episode 8|Iteration 109|reward:  390.0|last_reward_at:  109|Elapsed Time: 0:00:01||"
     ]
    },
    {
     "name": "stderr",
     "output_type": "stream",
     "text": [
      "\r",
      "Episode 8|Iteration 117|reward:  390.0|last_reward_at:  109|Elapsed Time: 0:00:01||"
     ]
    },
    {
     "name": "stderr",
     "output_type": "stream",
     "text": [
      "\r",
      "Episode 8|Iteration 122|reward:  390.0|last_reward_at:  109|Elapsed Time: 0:00:01||"
     ]
    },
    {
     "name": "stderr",
     "output_type": "stream",
     "text": [
      "\r",
      "Episode 8|Iteration 128|reward:  390.0|last_reward_at:  109|Elapsed Time: 0:00:01||"
     ]
    },
    {
     "name": "stderr",
     "output_type": "stream",
     "text": [
      "\r",
      "Episode 8|Iteration 134|reward:  390.0|last_reward_at:  109|Elapsed Time: 0:00:01||"
     ]
    },
    {
     "name": "stderr",
     "output_type": "stream",
     "text": [
      "\r",
      "Episode 8|Iteration 142|reward:  390.0|last_reward_at:  109|Elapsed Time: 0:00:01||"
     ]
    },
    {
     "name": "stderr",
     "output_type": "stream",
     "text": [
      "\r",
      "Episode 8|Iteration 152|reward:  390.0|last_reward_at:  109|Elapsed Time: 0:00:02||"
     ]
    },
    {
     "name": "stderr",
     "output_type": "stream",
     "text": [
      "\r",
      "Episode 8|Iteration 154|reward:  396.0|last_reward_at:  109|Elapsed Time: 0:00:02||"
     ]
    },
    {
     "name": "stderr",
     "output_type": "stream",
     "text": [
      "\r",
      "Episode 8|Iteration 154|reward:  396.0|last_reward_at:  154|Elapsed Time: 0:00:02||"
     ]
    },
    {
     "name": "stderr",
     "output_type": "stream",
     "text": [
      "\r",
      "Episode 8|Iteration 158|reward:  402.0|last_reward_at:  154|Elapsed Time: 0:00:02||"
     ]
    },
    {
     "name": "stderr",
     "output_type": "stream",
     "text": [
      "\r",
      "Episode 8|Iteration 158|reward:  402.0|last_reward_at:  158|Elapsed Time: 0:00:02||"
     ]
    },
    {
     "name": "stderr",
     "output_type": "stream",
     "text": [
      "\r",
      "Episode 8|Iteration 166|reward:  402.0|last_reward_at:  158|Elapsed Time: 0:00:02||"
     ]
    },
    {
     "name": "stderr",
     "output_type": "stream",
     "text": [
      "\r",
      "Episode 8|Iteration 172|reward:  502.0|last_reward_at:  158|Elapsed Time: 0:00:02||"
     ]
    },
    {
     "name": "stderr",
     "output_type": "stream",
     "text": [
      "\r",
      "Episode 8|Iteration 172|reward:  502.0|last_reward_at:  172|Elapsed Time: 0:00:02||"
     ]
    },
    {
     "name": "stderr",
     "output_type": "stream",
     "text": [
      "\r",
      "Episode 8|Iteration 173|reward:  516.0|last_reward_at:  172|Elapsed Time: 0:00:02||"
     ]
    },
    {
     "name": "stderr",
     "output_type": "stream",
     "text": [
      "\r",
      "Episode 8|Iteration 173|reward:  516.0|last_reward_at:  173|Elapsed Time: 0:00:02||"
     ]
    },
    {
     "name": "stderr",
     "output_type": "stream",
     "text": [
      "\r",
      "Episode 8|Iteration 177|reward:  616.0|last_reward_at:  173|Elapsed Time: 0:00:02||"
     ]
    },
    {
     "name": "stderr",
     "output_type": "stream",
     "text": [
      "\r",
      "Episode 8|Iteration 177|reward:  616.0|last_reward_at:  177|Elapsed Time: 0:00:02||"
     ]
    },
    {
     "name": "stderr",
     "output_type": "stream",
     "text": [
      "\r",
      "Episode 8|Iteration 178|reward:  630.0|last_reward_at:  177|Elapsed Time: 0:00:02||"
     ]
    },
    {
     "name": "stderr",
     "output_type": "stream",
     "text": [
      "\r",
      "Episode 8|Iteration 178|reward:  630.0|last_reward_at:  178|Elapsed Time: 0:00:02||"
     ]
    },
    {
     "name": "stderr",
     "output_type": "stream",
     "text": [
      "\r",
      "Episode 8|Iteration 180|reward:  730.0|last_reward_at:  178|Elapsed Time: 0:00:02||"
     ]
    },
    {
     "name": "stderr",
     "output_type": "stream",
     "text": [
      "\r",
      "Episode 8|Iteration 180|reward:  730.0|last_reward_at:  180|Elapsed Time: 0:00:02||"
     ]
    },
    {
     "name": "stderr",
     "output_type": "stream",
     "text": [
      "\r",
      "Episode 8|Iteration 181|reward:  744.0|last_reward_at:  180|Elapsed Time: 0:00:02||"
     ]
    },
    {
     "name": "stderr",
     "output_type": "stream",
     "text": [
      "\r",
      "Episode 8|Iteration 181|reward:  744.0|last_reward_at:  181|Elapsed Time: 0:00:02||"
     ]
    },
    {
     "name": "stderr",
     "output_type": "stream",
     "text": [
      "\r",
      "Episode 8|Iteration 182|reward:  844.0|last_reward_at:  181|Elapsed Time: 0:00:02||"
     ]
    },
    {
     "name": "stderr",
     "output_type": "stream",
     "text": [
      "\r",
      "Episode 8|Iteration 182|reward:  844.0|last_reward_at:  182|Elapsed Time: 0:00:02||"
     ]
    },
    {
     "name": "stderr",
     "output_type": "stream",
     "text": [
      "\r",
      "Episode 8|Iteration 184|reward:  850.0|last_reward_at:  182|Elapsed Time: 0:00:02||"
     ]
    },
    {
     "name": "stderr",
     "output_type": "stream",
     "text": [
      "\r",
      "Episode 8|Iteration 184|reward:  850.0|last_reward_at:  184|Elapsed Time: 0:00:02||"
     ]
    },
    {
     "name": "stderr",
     "output_type": "stream",
     "text": [
      "\r",
      "Episode 8|Iteration 186|reward:  864.0|last_reward_at:  184|Elapsed Time: 0:00:02||"
     ]
    },
    {
     "name": "stderr",
     "output_type": "stream",
     "text": [
      "\r",
      "Episode 8|Iteration 186|reward:  864.0|last_reward_at:  186|Elapsed Time: 0:00:02||"
     ]
    },
    {
     "name": "stderr",
     "output_type": "stream",
     "text": [
      "\r",
      "Episode 8|Iteration 187|reward:  870.0|last_reward_at:  186|Elapsed Time: 0:00:02||"
     ]
    },
    {
     "name": "stderr",
     "output_type": "stream",
     "text": [
      "\r",
      "Episode 8|Iteration 187|reward:  870.0|last_reward_at:  187|Elapsed Time: 0:00:02||"
     ]
    },
    {
     "name": "stderr",
     "output_type": "stream",
     "text": [
      "\r",
      "Episode 8|Iteration 188|reward:  970.0|last_reward_at:  187|Elapsed Time: 0:00:02||"
     ]
    },
    {
     "name": "stderr",
     "output_type": "stream",
     "text": [
      "\r",
      "Episode 8|Iteration 188|reward:  970.0|last_reward_at:  188|Elapsed Time: 0:00:02||"
     ]
    },
    {
     "name": "stderr",
     "output_type": "stream",
     "text": [
      "\r",
      "Episode 8|Iteration 191|reward:  984.0|last_reward_at:  188|Elapsed Time: 0:00:02||"
     ]
    },
    {
     "name": "stderr",
     "output_type": "stream",
     "text": [
      "\r",
      "Episode 8|Iteration 191|reward:  984.0|last_reward_at:  191|Elapsed Time: 0:00:02||"
     ]
    },
    {
     "name": "stderr",
     "output_type": "stream",
     "text": [
      "\r",
      "Episode 8|Iteration 194|reward:  988.0|last_reward_at:  191|Elapsed Time: 0:00:02||"
     ]
    },
    {
     "name": "stderr",
     "output_type": "stream",
     "text": [
      "\r",
      "Episode 8|Iteration 194|reward:  988.0|last_reward_at:  194|Elapsed Time: 0:00:02||"
     ]
    },
    {
     "name": "stderr",
     "output_type": "stream",
     "text": [
      "\r",
      "Episode 8|Iteration 199|reward: 1088.0|last_reward_at:  194|Elapsed Time: 0:00:02||"
     ]
    },
    {
     "name": "stderr",
     "output_type": "stream",
     "text": [
      "\r",
      "Episode 8|Iteration 199|reward: 1088.0|last_reward_at:  199|Elapsed Time: 0:00:02||"
     ]
    },
    {
     "name": "stderr",
     "output_type": "stream",
     "text": [
      "\r",
      "Episode 8|Iteration 200|reward: 1094.0|last_reward_at:  199|Elapsed Time: 0:00:02||"
     ]
    },
    {
     "name": "stderr",
     "output_type": "stream",
     "text": [
      "\r",
      "Episode 8|Iteration 200|reward: 1094.0|last_reward_at:  200|Elapsed Time: 0:00:02||"
     ]
    },
    {
     "name": "stderr",
     "output_type": "stream",
     "text": [
      "\r",
      "Episode 8|Iteration 201|reward: 1108.0|last_reward_at:  200|Elapsed Time: 0:00:02||"
     ]
    },
    {
     "name": "stderr",
     "output_type": "stream",
     "text": [
      "\r",
      "Episode 8|Iteration 201|reward: 1108.0|last_reward_at:  201|Elapsed Time: 0:00:02||"
     ]
    },
    {
     "name": "stderr",
     "output_type": "stream",
     "text": [
      "\r",
      "Episode 8|Iteration 204|reward: 1114.0|last_reward_at:  201|Elapsed Time: 0:00:02||"
     ]
    },
    {
     "name": "stderr",
     "output_type": "stream",
     "text": [
      "\r",
      "Episode 8|Iteration 204|reward: 1114.0|last_reward_at:  204|Elapsed Time: 0:00:02||"
     ]
    },
    {
     "name": "stderr",
     "output_type": "stream",
     "text": [
      "\r",
      "Episode 8|Iteration 205|reward: 1122.0|last_reward_at:  204|Elapsed Time: 0:00:02||"
     ]
    },
    {
     "name": "stderr",
     "output_type": "stream",
     "text": [
      "\r",
      "Episode 8|Iteration 205|reward: 1122.0|last_reward_at:  205|Elapsed Time: 0:00:02||"
     ]
    },
    {
     "name": "stderr",
     "output_type": "stream",
     "text": [
      "\r",
      "Episode 8|Iteration 206|reward: 1124.0|last_reward_at:  205|Elapsed Time: 0:00:02||"
     ]
    },
    {
     "name": "stderr",
     "output_type": "stream",
     "text": [
      "\r",
      "Episode 8|Iteration 206|reward: 1124.0|last_reward_at:  206|Elapsed Time: 0:00:02||"
     ]
    },
    {
     "name": "stderr",
     "output_type": "stream",
     "text": [
      "\r",
      "Episode 8|Iteration 207|reward: 1130.0|last_reward_at:  206|Elapsed Time: 0:00:02||"
     ]
    },
    {
     "name": "stderr",
     "output_type": "stream",
     "text": [
      "\r",
      "Episode 8|Iteration 207|reward: 1130.0|last_reward_at:  207|Elapsed Time: 0:00:02||"
     ]
    },
    {
     "name": "stderr",
     "output_type": "stream",
     "text": [
      "\r",
      "Episode 8|Iteration 211|reward: 1230.0|last_reward_at:  207|Elapsed Time: 0:00:02||"
     ]
    },
    {
     "name": "stderr",
     "output_type": "stream",
     "text": [
      "\r",
      "Episode 8|Iteration 211|reward: 1230.0|last_reward_at:  211|Elapsed Time: 0:00:02||"
     ]
    },
    {
     "name": "stderr",
     "output_type": "stream",
     "text": [
      "\r",
      "Episode 8|Iteration 213|reward: 1244.0|last_reward_at:  211|Elapsed Time: 0:00:02||"
     ]
    },
    {
     "name": "stderr",
     "output_type": "stream",
     "text": [
      "\r",
      "Episode 8|Iteration 213|reward: 1244.0|last_reward_at:  213|Elapsed Time: 0:00:02||"
     ]
    },
    {
     "name": "stderr",
     "output_type": "stream",
     "text": [
      "\r",
      "Episode 8|Iteration 217|reward: 1250.0|last_reward_at:  213|Elapsed Time: 0:00:02||"
     ]
    },
    {
     "name": "stderr",
     "output_type": "stream",
     "text": [
      "\r",
      "Episode 8|Iteration 217|reward: 1250.0|last_reward_at:  217|Elapsed Time: 0:00:02||"
     ]
    },
    {
     "name": "stderr",
     "output_type": "stream",
     "text": [
      "\r",
      "Episode 8|Iteration 218|reward: 1256.0|last_reward_at:  217|Elapsed Time: 0:00:03||"
     ]
    },
    {
     "name": "stderr",
     "output_type": "stream",
     "text": [
      "\r",
      "Episode 8|Iteration 218|reward: 1256.0|last_reward_at:  218|Elapsed Time: 0:00:03||"
     ]
    },
    {
     "name": "stderr",
     "output_type": "stream",
     "text": [
      "\r",
      "Episode 8|Iteration 222|reward: 1262.0|last_reward_at:  218|Elapsed Time: 0:00:03||"
     ]
    },
    {
     "name": "stderr",
     "output_type": "stream",
     "text": [
      "\r",
      "Episode 8|Iteration 222|reward: 1262.0|last_reward_at:  222|Elapsed Time: 0:00:03||"
     ]
    },
    {
     "name": "stderr",
     "output_type": "stream",
     "text": [
      "\r",
      "Episode 8|Iteration 228|reward: 1262.0|last_reward_at:  222|Elapsed Time: 0:00:03||"
     ]
    },
    {
     "name": "stderr",
     "output_type": "stream",
     "text": [
      "\r",
      "Episode 8|Iteration 228|reward: 1264.0|last_reward_at:  222|Elapsed Time: 0:00:03||"
     ]
    },
    {
     "name": "stderr",
     "output_type": "stream",
     "text": [
      "\r",
      "Episode 8|Iteration 228|reward: 1264.0|last_reward_at:  228|Elapsed Time: 0:00:03||"
     ]
    },
    {
     "name": "stderr",
     "output_type": "stream",
     "text": [
      "\r",
      "Episode 8|Iteration 235|reward: 2264.0|last_reward_at:  228|Elapsed Time: 0:00:03||"
     ]
    },
    {
     "name": "stderr",
     "output_type": "stream",
     "text": [
      "\r",
      "Episode 8|Iteration 235|reward: 2264.0|last_reward_at:  235|Elapsed Time: 0:00:03||"
     ]
    },
    {
     "name": "stderr",
     "output_type": "stream",
     "text": [
      "\r",
      "Episode 8|Iteration 244|reward: 2264.0|last_reward_at:  235|Elapsed Time: 0:00:03||"
     ]
    },
    {
     "name": "stderr",
     "output_type": "stream",
     "text": [
      "\r",
      "Episode 8|Iteration 247|reward: 2270.0|last_reward_at:  235|Elapsed Time: 0:00:03||"
     ]
    },
    {
     "name": "stderr",
     "output_type": "stream",
     "text": [
      "\r",
      "Episode 8|Iteration 247|reward: 2270.0|last_reward_at:  247|Elapsed Time: 0:00:03||"
     ]
    },
    {
     "name": "stderr",
     "output_type": "stream",
     "text": [
      "\r",
      "Episode 8|Iteration 250|reward: 2276.0|last_reward_at:  247|Elapsed Time: 0:00:03||"
     ]
    },
    {
     "name": "stderr",
     "output_type": "stream",
     "text": [
      "\r",
      "Episode 8|Iteration 250|reward: 2276.0|last_reward_at:  250|Elapsed Time: 0:00:03||"
     ]
    },
    {
     "name": "stderr",
     "output_type": "stream",
     "text": [
      "\r",
      "Episode 8|Iteration 259|reward: 2276.0|last_reward_at:  250|Elapsed Time: 0:00:03||"
     ]
    },
    {
     "name": "stderr",
     "output_type": "stream",
     "text": [
      "\r",
      "Episode 8|Iteration 266|reward: 2276.0|last_reward_at:  250|Elapsed Time: 0:00:03||"
     ]
    },
    {
     "name": "stderr",
     "output_type": "stream",
     "text": [
      "\r",
      "Episode 8|Iteration 273|reward: 2276.0|last_reward_at:  250|Elapsed Time: 0:00:03||"
     ]
    },
    {
     "name": "stderr",
     "output_type": "stream",
     "text": [
      "\r",
      "Episode 8|Iteration 280|reward: 2276.0|last_reward_at:  250|Elapsed Time: 0:00:03||"
     ]
    },
    {
     "name": "stderr",
     "output_type": "stream",
     "text": [
      "\r",
      "Episode 8|Iteration 281|reward: 7276.0|last_reward_at:  250|Elapsed Time: 0:00:03||"
     ]
    },
    {
     "name": "stderr",
     "output_type": "stream",
     "text": [
      "\r",
      "Episode 8|Iteration 281|reward: 7276.0|last_reward_at:  281|Elapsed Time: 0:00:03||"
     ]
    },
    {
     "name": "stderr",
     "output_type": "stream",
     "text": [
      "\n"
     ]
    },
    {
     "name": "stdout",
     "output_type": "stream",
     "text": [
      "  Episode 8 ended at t=281 \n",
      "  Breakdown [Reward/NoReward (Success rate)]\n",
      "    explore-local: 2/36 (0.05)\n",
      "    explore-remote: 14/55 (0.20)\n",
      "    explore-connect: 0/60 (0.00)\n",
      "    exploit-local: 17/36 (0.32)\n",
      "    exploit-remote: 3/23 (0.12)\n",
      "    exploit-connect: 11/24 (0.31)\n",
      "  exploit deflected to exploration: 12\n",
      "  ## Episode: 9/10 'DQL' ϵ=0.5979, γ=0.15, lr=0.01, replaymemory=10000,\n",
      "batch=256, target_update=5\n"
     ]
    },
    {
     "name": "stderr",
     "output_type": "stream",
     "text": [
      "\r",
      "Episode 9|Iteration 0|reward: ------|last_reward_at: ----|Elapsed Time: 0:00:00||"
     ]
    },
    {
     "name": "stderr",
     "output_type": "stream",
     "text": [
      "\r",
      "Episode 9|Iteration 1|reward:    0.0|last_reward_at: ----|Elapsed Time: 0:00:00||"
     ]
    },
    {
     "name": "stderr",
     "output_type": "stream",
     "text": [
      "\r",
      "Episode 9|Iteration 2|reward:   14.0|last_reward_at: ----|Elapsed Time: 0:00:00||"
     ]
    },
    {
     "name": "stderr",
     "output_type": "stream",
     "text": [
      "\r",
      "Episode 9|Iteration 2|reward:   14.0|last_reward_at:    2|Elapsed Time: 0:00:00||"
     ]
    },
    {
     "name": "stderr",
     "output_type": "stream",
     "text": [
      "\r",
      "Episode 9|Iteration 4|reward:  114.0|last_reward_at:    2|Elapsed Time: 0:00:00||"
     ]
    },
    {
     "name": "stderr",
     "output_type": "stream",
     "text": [
      "\r",
      "Episode 9|Iteration 4|reward:  114.0|last_reward_at:    4|Elapsed Time: 0:00:00||"
     ]
    },
    {
     "name": "stderr",
     "output_type": "stream",
     "text": [
      "\r",
      "Episode 9|Iteration 5|reward:  128.0|last_reward_at:    4|Elapsed Time: 0:00:00||"
     ]
    },
    {
     "name": "stderr",
     "output_type": "stream",
     "text": [
      "\r",
      "Episode 9|Iteration 5|reward:  128.0|last_reward_at:    5|Elapsed Time: 0:00:00||"
     ]
    },
    {
     "name": "stderr",
     "output_type": "stream",
     "text": [
      "\r",
      "Episode 9|Iteration 13|reward:  134.0|last_reward_at:    5|Elapsed Time: 0:00:00||"
     ]
    },
    {
     "name": "stderr",
     "output_type": "stream",
     "text": [
      "\r",
      "Episode 9|Iteration 13|reward:  134.0|last_reward_at:   13|Elapsed Time: 0:00:00||"
     ]
    },
    {
     "name": "stderr",
     "output_type": "stream",
     "text": [
      "\r",
      "Episode 9|Iteration 23|reward:  134.0|last_reward_at:   13|Elapsed Time: 0:00:00||"
     ]
    },
    {
     "name": "stderr",
     "output_type": "stream",
     "text": [
      "\r",
      "Episode 9|Iteration 24|reward:  234.0|last_reward_at:   13|Elapsed Time: 0:00:00||"
     ]
    },
    {
     "name": "stderr",
     "output_type": "stream",
     "text": [
      "\r",
      "Episode 9|Iteration 24|reward:  234.0|last_reward_at:   24|Elapsed Time: 0:00:00||"
     ]
    },
    {
     "name": "stderr",
     "output_type": "stream",
     "text": [
      "\r",
      "Episode 9|Iteration 26|reward:  240.0|last_reward_at:   24|Elapsed Time: 0:00:00||"
     ]
    },
    {
     "name": "stderr",
     "output_type": "stream",
     "text": [
      "\r",
      "Episode 9|Iteration 26|reward:  240.0|last_reward_at:   26|Elapsed Time: 0:00:00||"
     ]
    },
    {
     "name": "stderr",
     "output_type": "stream",
     "text": [
      "\r",
      "Episode 9|Iteration 27|reward:  246.0|last_reward_at:   26|Elapsed Time: 0:00:00||"
     ]
    },
    {
     "name": "stderr",
     "output_type": "stream",
     "text": [
      "\r",
      "Episode 9|Iteration 27|reward:  246.0|last_reward_at:   27|Elapsed Time: 0:00:00||"
     ]
    },
    {
     "name": "stderr",
     "output_type": "stream",
     "text": [
      "\r",
      "Episode 9|Iteration 28|reward:  248.0|last_reward_at:   27|Elapsed Time: 0:00:00||"
     ]
    },
    {
     "name": "stderr",
     "output_type": "stream",
     "text": [
      "\r",
      "Episode 9|Iteration 28|reward:  248.0|last_reward_at:   28|Elapsed Time: 0:00:00||"
     ]
    },
    {
     "name": "stderr",
     "output_type": "stream",
     "text": [
      "\r",
      "Episode 9|Iteration 31|reward:  262.0|last_reward_at:   28|Elapsed Time: 0:00:00||"
     ]
    },
    {
     "name": "stderr",
     "output_type": "stream",
     "text": [
      "\r",
      "Episode 9|Iteration 31|reward:  262.0|last_reward_at:   31|Elapsed Time: 0:00:00||"
     ]
    },
    {
     "name": "stderr",
     "output_type": "stream",
     "text": [
      "\r",
      "Episode 9|Iteration 32|reward:  264.0|last_reward_at:   31|Elapsed Time: 0:00:00||"
     ]
    },
    {
     "name": "stderr",
     "output_type": "stream",
     "text": [
      "\r",
      "Episode 9|Iteration 32|reward:  264.0|last_reward_at:   32|Elapsed Time: 0:00:00||"
     ]
    },
    {
     "name": "stderr",
     "output_type": "stream",
     "text": [
      "\r",
      "Episode 9|Iteration 33|reward:  364.0|last_reward_at:   32|Elapsed Time: 0:00:00||"
     ]
    },
    {
     "name": "stderr",
     "output_type": "stream",
     "text": [
      "\r",
      "Episode 9|Iteration 33|reward:  364.0|last_reward_at:   33|Elapsed Time: 0:00:00||"
     ]
    },
    {
     "name": "stderr",
     "output_type": "stream",
     "text": [
      "\r",
      "Episode 9|Iteration 35|reward:  378.0|last_reward_at:   33|Elapsed Time: 0:00:00||"
     ]
    },
    {
     "name": "stderr",
     "output_type": "stream",
     "text": [
      "\r",
      "Episode 9|Iteration 35|reward:  378.0|last_reward_at:   35|Elapsed Time: 0:00:00||"
     ]
    },
    {
     "name": "stderr",
     "output_type": "stream",
     "text": [
      "\r",
      "Episode 9|Iteration 37|reward:  478.0|last_reward_at:   35|Elapsed Time: 0:00:00||"
     ]
    },
    {
     "name": "stderr",
     "output_type": "stream",
     "text": [
      "\r",
      "Episode 9|Iteration 37|reward:  478.0|last_reward_at:   37|Elapsed Time: 0:00:00||"
     ]
    },
    {
     "name": "stderr",
     "output_type": "stream",
     "text": [
      "\r",
      "Episode 9|Iteration 38|reward:  492.0|last_reward_at:   37|Elapsed Time: 0:00:00||"
     ]
    },
    {
     "name": "stderr",
     "output_type": "stream",
     "text": [
      "\r",
      "Episode 9|Iteration 38|reward:  492.0|last_reward_at:   38|Elapsed Time: 0:00:00||"
     ]
    },
    {
     "name": "stderr",
     "output_type": "stream",
     "text": [
      "\r",
      "Episode 9|Iteration 40|reward:  592.0|last_reward_at:   38|Elapsed Time: 0:00:00||"
     ]
    },
    {
     "name": "stderr",
     "output_type": "stream",
     "text": [
      "\r",
      "Episode 9|Iteration 40|reward:  592.0|last_reward_at:   40|Elapsed Time: 0:00:00||"
     ]
    },
    {
     "name": "stderr",
     "output_type": "stream",
     "text": [
      "\r",
      "Episode 9|Iteration 41|reward:  594.0|last_reward_at:   40|Elapsed Time: 0:00:00||"
     ]
    },
    {
     "name": "stderr",
     "output_type": "stream",
     "text": [
      "\r",
      "Episode 9|Iteration 41|reward:  594.0|last_reward_at:   41|Elapsed Time: 0:00:00||"
     ]
    },
    {
     "name": "stderr",
     "output_type": "stream",
     "text": [
      "\r",
      "Episode 9|Iteration 42|reward:  608.0|last_reward_at:   41|Elapsed Time: 0:00:00||"
     ]
    },
    {
     "name": "stderr",
     "output_type": "stream",
     "text": [
      "\r",
      "Episode 9|Iteration 42|reward:  608.0|last_reward_at:   42|Elapsed Time: 0:00:00||"
     ]
    },
    {
     "name": "stderr",
     "output_type": "stream",
     "text": [
      "\r",
      "Episode 9|Iteration 45|reward:  614.0|last_reward_at:   42|Elapsed Time: 0:00:00||"
     ]
    },
    {
     "name": "stderr",
     "output_type": "stream",
     "text": [
      "\r",
      "Episode 9|Iteration 45|reward:  614.0|last_reward_at:   45|Elapsed Time: 0:00:00||"
     ]
    },
    {
     "name": "stderr",
     "output_type": "stream",
     "text": [
      "\r",
      "Episode 9|Iteration 49|reward:  616.0|last_reward_at:   45|Elapsed Time: 0:00:00||"
     ]
    },
    {
     "name": "stderr",
     "output_type": "stream",
     "text": [
      "\r",
      "Episode 9|Iteration 49|reward:  616.0|last_reward_at:   49|Elapsed Time: 0:00:00||"
     ]
    },
    {
     "name": "stderr",
     "output_type": "stream",
     "text": [
      "\r",
      "Episode 9|Iteration 56|reward:  716.0|last_reward_at:   49|Elapsed Time: 0:00:00||"
     ]
    },
    {
     "name": "stderr",
     "output_type": "stream",
     "text": [
      "\r",
      "Episode 9|Iteration 56|reward:  716.0|last_reward_at:   56|Elapsed Time: 0:00:00||"
     ]
    },
    {
     "name": "stderr",
     "output_type": "stream",
     "text": [
      "\r",
      "Episode 9|Iteration 58|reward:  730.0|last_reward_at:   56|Elapsed Time: 0:00:00||"
     ]
    },
    {
     "name": "stderr",
     "output_type": "stream",
     "text": [
      "\r",
      "Episode 9|Iteration 58|reward:  730.0|last_reward_at:   58|Elapsed Time: 0:00:00||"
     ]
    },
    {
     "name": "stderr",
     "output_type": "stream",
     "text": [
      "\r",
      "Episode 9|Iteration 59|reward:  830.0|last_reward_at:   58|Elapsed Time: 0:00:00||"
     ]
    },
    {
     "name": "stderr",
     "output_type": "stream",
     "text": [
      "\r",
      "Episode 9|Iteration 59|reward:  830.0|last_reward_at:   59|Elapsed Time: 0:00:00||"
     ]
    },
    {
     "name": "stderr",
     "output_type": "stream",
     "text": [
      "\r",
      "Episode 9|Iteration 60|reward:  836.0|last_reward_at:   59|Elapsed Time: 0:00:00||"
     ]
    },
    {
     "name": "stderr",
     "output_type": "stream",
     "text": [
      "\r",
      "Episode 9|Iteration 60|reward:  836.0|last_reward_at:   60|Elapsed Time: 0:00:00||"
     ]
    },
    {
     "name": "stderr",
     "output_type": "stream",
     "text": [
      "\r",
      "Episode 9|Iteration 63|reward:  850.0|last_reward_at:   60|Elapsed Time: 0:00:00||"
     ]
    },
    {
     "name": "stderr",
     "output_type": "stream",
     "text": [
      "\r",
      "Episode 9|Iteration 63|reward:  850.0|last_reward_at:   63|Elapsed Time: 0:00:00||"
     ]
    },
    {
     "name": "stderr",
     "output_type": "stream",
     "text": [
      "\r",
      "Episode 9|Iteration 64|reward:  950.0|last_reward_at:   63|Elapsed Time: 0:00:00||"
     ]
    },
    {
     "name": "stderr",
     "output_type": "stream",
     "text": [
      "\r",
      "Episode 9|Iteration 64|reward:  950.0|last_reward_at:   64|Elapsed Time: 0:00:00||"
     ]
    },
    {
     "name": "stderr",
     "output_type": "stream",
     "text": [
      "\r",
      "Episode 9|Iteration 66|reward:  952.0|last_reward_at:   64|Elapsed Time: 0:00:00||"
     ]
    },
    {
     "name": "stderr",
     "output_type": "stream",
     "text": [
      "\r",
      "Episode 9|Iteration 66|reward:  952.0|last_reward_at:   66|Elapsed Time: 0:00:00||"
     ]
    },
    {
     "name": "stderr",
     "output_type": "stream",
     "text": [
      "\r",
      "Episode 9|Iteration 67|reward:  966.0|last_reward_at:   66|Elapsed Time: 0:00:00||"
     ]
    },
    {
     "name": "stderr",
     "output_type": "stream",
     "text": [
      "\r",
      "Episode 9|Iteration 67|reward:  966.0|last_reward_at:   67|Elapsed Time: 0:00:00||"
     ]
    },
    {
     "name": "stderr",
     "output_type": "stream",
     "text": [
      "\r",
      "Episode 9|Iteration 68|reward: 1066.0|last_reward_at:   67|Elapsed Time: 0:00:00||"
     ]
    },
    {
     "name": "stderr",
     "output_type": "stream",
     "text": [
      "\r",
      "Episode 9|Iteration 68|reward: 1066.0|last_reward_at:   68|Elapsed Time: 0:00:00||"
     ]
    },
    {
     "name": "stderr",
     "output_type": "stream",
     "text": [
      "\r",
      "Episode 9|Iteration 69|reward: 1080.0|last_reward_at:   68|Elapsed Time: 0:00:00||"
     ]
    },
    {
     "name": "stderr",
     "output_type": "stream",
     "text": [
      "\r",
      "Episode 9|Iteration 69|reward: 1080.0|last_reward_at:   69|Elapsed Time: 0:00:00||"
     ]
    },
    {
     "name": "stderr",
     "output_type": "stream",
     "text": [
      "\r",
      "Episode 9|Iteration 71|reward: 1180.0|last_reward_at:   69|Elapsed Time: 0:00:00||"
     ]
    },
    {
     "name": "stderr",
     "output_type": "stream",
     "text": [
      "\r",
      "Episode 9|Iteration 71|reward: 1180.0|last_reward_at:   71|Elapsed Time: 0:00:00||"
     ]
    },
    {
     "name": "stderr",
     "output_type": "stream",
     "text": [
      "\r",
      "Episode 9|Iteration 72|reward: 1194.0|last_reward_at:   71|Elapsed Time: 0:00:00||"
     ]
    },
    {
     "name": "stderr",
     "output_type": "stream",
     "text": [
      "\r",
      "Episode 9|Iteration 72|reward: 1194.0|last_reward_at:   72|Elapsed Time: 0:00:00||"
     ]
    },
    {
     "name": "stderr",
     "output_type": "stream",
     "text": [
      "\r",
      "Episode 9|Iteration 78|reward: 2194.0|last_reward_at:   72|Elapsed Time: 0:00:00||"
     ]
    },
    {
     "name": "stderr",
     "output_type": "stream",
     "text": [
      "\r",
      "Episode 9|Iteration 78|reward: 2194.0|last_reward_at:   78|Elapsed Time: 0:00:00||"
     ]
    },
    {
     "name": "stderr",
     "output_type": "stream",
     "text": [
      "\r",
      "Episode 9|Iteration 81|reward: 7194.0|last_reward_at:   78|Elapsed Time: 0:00:01||"
     ]
    },
    {
     "name": "stderr",
     "output_type": "stream",
     "text": [
      "\r",
      "Episode 9|Iteration 81|reward: 7194.0|last_reward_at:   81|Elapsed Time: 0:00:01||"
     ]
    },
    {
     "name": "stderr",
     "output_type": "stream",
     "text": [
      "\n"
     ]
    },
    {
     "name": "stdout",
     "output_type": "stream",
     "text": [
      "  Episode 9 ended at t=81 \n",
      "  Breakdown [Reward/NoReward (Success rate)]\n",
      "    explore-local: 2/9 (0.18)\n",
      "    explore-remote: 7/11 (0.39)\n",
      "    explore-connect: 1/17 (0.06)\n",
      "    exploit-local: 11/0 (1.00)\n",
      "    exploit-remote: 1/6 (0.14)\n",
      "    exploit-connect: 11/5 (0.69)\n",
      "  exploit deflected to exploration: 0\n",
      "  ## Episode: 10/10 'DQL' ϵ=0.5899, γ=0.15, lr=0.01, replaymemory=10000,\n",
      "batch=256, target_update=5\n"
     ]
    },
    {
     "name": "stderr",
     "output_type": "stream",
     "text": [
      "\r",
      "Episode 10|Iteration 0|reward: ------|last_reward_at: ----|Elapsed Time: 0:00:00||"
     ]
    },
    {
     "name": "stderr",
     "output_type": "stream",
     "text": [
      "\r",
      "Episode 10|Iteration 1|reward:    0.0|last_reward_at: ----|Elapsed Time: 0:00:00||"
     ]
    },
    {
     "name": "stderr",
     "output_type": "stream",
     "text": [
      "\r",
      "Episode 10|Iteration 3|reward:   14.0|last_reward_at: ----|Elapsed Time: 0:00:00||"
     ]
    },
    {
     "name": "stderr",
     "output_type": "stream",
     "text": [
      "\r",
      "Episode 10|Iteration 3|reward:   14.0|last_reward_at:    3|Elapsed Time: 0:00:00||"
     ]
    },
    {
     "name": "stderr",
     "output_type": "stream",
     "text": [
      "\r",
      "Episode 10|Iteration 4|reward:   18.0|last_reward_at:    3|Elapsed Time: 0:00:00||"
     ]
    },
    {
     "name": "stderr",
     "output_type": "stream",
     "text": [
      "\r",
      "Episode 10|Iteration 4|reward:   18.0|last_reward_at:    4|Elapsed Time: 0:00:00||"
     ]
    },
    {
     "name": "stderr",
     "output_type": "stream",
     "text": [
      "\r",
      "Episode 10|Iteration 12|reward:  118.0|last_reward_at:    4|Elapsed Time: 0:00:00||"
     ]
    },
    {
     "name": "stderr",
     "output_type": "stream",
     "text": [
      "\r",
      "Episode 10|Iteration 12|reward:  118.0|last_reward_at:   12|Elapsed Time: 0:00:00||"
     ]
    },
    {
     "name": "stderr",
     "output_type": "stream",
     "text": [
      "\r",
      "Episode 10|Iteration 13|reward:  132.0|last_reward_at:   12|Elapsed Time: 0:00:00||"
     ]
    },
    {
     "name": "stderr",
     "output_type": "stream",
     "text": [
      "\r",
      "Episode 10|Iteration 13|reward:  132.0|last_reward_at:   13|Elapsed Time: 0:00:00||"
     ]
    },
    {
     "name": "stderr",
     "output_type": "stream",
     "text": [
      "\r",
      "Episode 10|Iteration 14|reward:  232.0|last_reward_at:   13|Elapsed Time: 0:00:00||"
     ]
    },
    {
     "name": "stderr",
     "output_type": "stream",
     "text": [
      "\r",
      "Episode 10|Iteration 14|reward:  232.0|last_reward_at:   14|Elapsed Time: 0:00:00||"
     ]
    },
    {
     "name": "stderr",
     "output_type": "stream",
     "text": [
      "\r",
      "Episode 10|Iteration 15|reward:  234.0|last_reward_at:   14|Elapsed Time: 0:00:00||"
     ]
    },
    {
     "name": "stderr",
     "output_type": "stream",
     "text": [
      "\r",
      "Episode 10|Iteration 15|reward:  234.0|last_reward_at:   15|Elapsed Time: 0:00:00||"
     ]
    },
    {
     "name": "stderr",
     "output_type": "stream",
     "text": [
      "\r",
      "Episode 10|Iteration 17|reward:  240.0|last_reward_at:   15|Elapsed Time: 0:00:00||"
     ]
    },
    {
     "name": "stderr",
     "output_type": "stream",
     "text": [
      "\r",
      "Episode 10|Iteration 17|reward:  240.0|last_reward_at:   17|Elapsed Time: 0:00:00||"
     ]
    },
    {
     "name": "stderr",
     "output_type": "stream",
     "text": [
      "\r",
      "Episode 10|Iteration 21|reward:  254.0|last_reward_at:   17|Elapsed Time: 0:00:00||"
     ]
    },
    {
     "name": "stderr",
     "output_type": "stream",
     "text": [
      "\r",
      "Episode 10|Iteration 21|reward:  254.0|last_reward_at:   21|Elapsed Time: 0:00:00||"
     ]
    },
    {
     "name": "stderr",
     "output_type": "stream",
     "text": [
      "\r",
      "Episode 10|Iteration 23|reward:  354.0|last_reward_at:   21|Elapsed Time: 0:00:00||"
     ]
    },
    {
     "name": "stderr",
     "output_type": "stream",
     "text": [
      "\r",
      "Episode 10|Iteration 23|reward:  354.0|last_reward_at:   23|Elapsed Time: 0:00:00||"
     ]
    },
    {
     "name": "stderr",
     "output_type": "stream",
     "text": [
      "\r",
      "Episode 10|Iteration 24|reward:  368.0|last_reward_at:   23|Elapsed Time: 0:00:00||"
     ]
    },
    {
     "name": "stderr",
     "output_type": "stream",
     "text": [
      "\r",
      "Episode 10|Iteration 24|reward:  368.0|last_reward_at:   24|Elapsed Time: 0:00:00||"
     ]
    },
    {
     "name": "stderr",
     "output_type": "stream",
     "text": [
      "\r",
      "Episode 10|Iteration 27|reward:  468.0|last_reward_at:   24|Elapsed Time: 0:00:00||"
     ]
    },
    {
     "name": "stderr",
     "output_type": "stream",
     "text": [
      "\r",
      "Episode 10|Iteration 27|reward:  468.0|last_reward_at:   27|Elapsed Time: 0:00:00||"
     ]
    },
    {
     "name": "stderr",
     "output_type": "stream",
     "text": [
      "\r",
      "Episode 10|Iteration 31|reward:  482.0|last_reward_at:   27|Elapsed Time: 0:00:00||"
     ]
    },
    {
     "name": "stderr",
     "output_type": "stream",
     "text": [
      "\r",
      "Episode 10|Iteration 31|reward:  482.0|last_reward_at:   31|Elapsed Time: 0:00:00||"
     ]
    },
    {
     "name": "stderr",
     "output_type": "stream",
     "text": [
      "\r",
      "Episode 10|Iteration 35|reward:  486.0|last_reward_at:   31|Elapsed Time: 0:00:00||"
     ]
    },
    {
     "name": "stderr",
     "output_type": "stream",
     "text": [
      "\r",
      "Episode 10|Iteration 35|reward:  486.0|last_reward_at:   35|Elapsed Time: 0:00:00||"
     ]
    },
    {
     "name": "stderr",
     "output_type": "stream",
     "text": [
      "\r",
      "Episode 10|Iteration 43|reward:  492.0|last_reward_at:   35|Elapsed Time: 0:00:00||"
     ]
    },
    {
     "name": "stderr",
     "output_type": "stream",
     "text": [
      "\r",
      "Episode 10|Iteration 43|reward:  492.0|last_reward_at:   43|Elapsed Time: 0:00:00||"
     ]
    },
    {
     "name": "stderr",
     "output_type": "stream",
     "text": [
      "\r",
      "Episode 10|Iteration 49|reward:  592.0|last_reward_at:   43|Elapsed Time: 0:00:00||"
     ]
    },
    {
     "name": "stderr",
     "output_type": "stream",
     "text": [
      "\r",
      "Episode 10|Iteration 49|reward:  592.0|last_reward_at:   49|Elapsed Time: 0:00:00||"
     ]
    },
    {
     "name": "stderr",
     "output_type": "stream",
     "text": [
      "\r",
      "Episode 10|Iteration 55|reward:  606.0|last_reward_at:   49|Elapsed Time: 0:00:00||"
     ]
    },
    {
     "name": "stderr",
     "output_type": "stream",
     "text": [
      "\r",
      "Episode 10|Iteration 55|reward:  606.0|last_reward_at:   55|Elapsed Time: 0:00:00||"
     ]
    },
    {
     "name": "stderr",
     "output_type": "stream",
     "text": [
      "\r",
      "Episode 10|Iteration 61|reward:  606.0|last_reward_at:   55|Elapsed Time: 0:00:00||"
     ]
    },
    {
     "name": "stderr",
     "output_type": "stream",
     "text": [
      "\r",
      "Episode 10|Iteration 61|reward:  706.0|last_reward_at:   55|Elapsed Time: 0:00:00||"
     ]
    },
    {
     "name": "stderr",
     "output_type": "stream",
     "text": [
      "\r",
      "Episode 10|Iteration 61|reward:  706.0|last_reward_at:   61|Elapsed Time: 0:00:00||"
     ]
    },
    {
     "name": "stderr",
     "output_type": "stream",
     "text": [
      "\r",
      "Episode 10|Iteration 62|reward:  720.0|last_reward_at:   61|Elapsed Time: 0:00:00||"
     ]
    },
    {
     "name": "stderr",
     "output_type": "stream",
     "text": [
      "\r",
      "Episode 10|Iteration 62|reward:  720.0|last_reward_at:   62|Elapsed Time: 0:00:00||"
     ]
    },
    {
     "name": "stderr",
     "output_type": "stream",
     "text": [
      "\r",
      "Episode 10|Iteration 64|reward:  820.0|last_reward_at:   62|Elapsed Time: 0:00:00||"
     ]
    },
    {
     "name": "stderr",
     "output_type": "stream",
     "text": [
      "\r",
      "Episode 10|Iteration 64|reward:  820.0|last_reward_at:   64|Elapsed Time: 0:00:00||"
     ]
    },
    {
     "name": "stderr",
     "output_type": "stream",
     "text": [
      "\r",
      "Episode 10|Iteration 65|reward:  826.0|last_reward_at:   64|Elapsed Time: 0:00:00||"
     ]
    },
    {
     "name": "stderr",
     "output_type": "stream",
     "text": [
      "\r",
      "Episode 10|Iteration 65|reward:  826.0|last_reward_at:   65|Elapsed Time: 0:00:00||"
     ]
    },
    {
     "name": "stderr",
     "output_type": "stream",
     "text": [
      "\r",
      "Episode 10|Iteration 67|reward:  840.0|last_reward_at:   65|Elapsed Time: 0:00:00||"
     ]
    },
    {
     "name": "stderr",
     "output_type": "stream",
     "text": [
      "\r",
      "Episode 10|Iteration 67|reward:  840.0|last_reward_at:   67|Elapsed Time: 0:00:00||"
     ]
    },
    {
     "name": "stderr",
     "output_type": "stream",
     "text": [
      "\r",
      "Episode 10|Iteration 75|reward:  840.0|last_reward_at:   67|Elapsed Time: 0:00:00||"
     ]
    },
    {
     "name": "stderr",
     "output_type": "stream",
     "text": [
      "\r",
      "Episode 10|Iteration 78|reward:  846.0|last_reward_at:   67|Elapsed Time: 0:00:01||"
     ]
    },
    {
     "name": "stderr",
     "output_type": "stream",
     "text": [
      "\r",
      "Episode 10|Iteration 78|reward:  846.0|last_reward_at:   78|Elapsed Time: 0:00:01||"
     ]
    },
    {
     "name": "stderr",
     "output_type": "stream",
     "text": [
      "\r",
      "Episode 10|Iteration 79|reward:  848.0|last_reward_at:   78|Elapsed Time: 0:00:01||"
     ]
    },
    {
     "name": "stderr",
     "output_type": "stream",
     "text": [
      "\r",
      "Episode 10|Iteration 79|reward:  848.0|last_reward_at:   79|Elapsed Time: 0:00:01||"
     ]
    },
    {
     "name": "stderr",
     "output_type": "stream",
     "text": [
      "\r",
      "Episode 10|Iteration 82|reward:  854.0|last_reward_at:   79|Elapsed Time: 0:00:01||"
     ]
    },
    {
     "name": "stderr",
     "output_type": "stream",
     "text": [
      "\r",
      "Episode 10|Iteration 82|reward:  854.0|last_reward_at:   82|Elapsed Time: 0:00:01||"
     ]
    },
    {
     "name": "stderr",
     "output_type": "stream",
     "text": [
      "\r",
      "Episode 10|Iteration 85|reward:  860.0|last_reward_at:   82|Elapsed Time: 0:00:01||"
     ]
    },
    {
     "name": "stderr",
     "output_type": "stream",
     "text": [
      "\r",
      "Episode 10|Iteration 85|reward:  860.0|last_reward_at:   85|Elapsed Time: 0:00:01||"
     ]
    },
    {
     "name": "stderr",
     "output_type": "stream",
     "text": [
      "\r",
      "Episode 10|Iteration 87|reward:  866.0|last_reward_at:   85|Elapsed Time: 0:00:01||"
     ]
    },
    {
     "name": "stderr",
     "output_type": "stream",
     "text": [
      "\r",
      "Episode 10|Iteration 87|reward:  866.0|last_reward_at:   87|Elapsed Time: 0:00:01||"
     ]
    },
    {
     "name": "stderr",
     "output_type": "stream",
     "text": [
      "\r",
      "Episode 10|Iteration 90|reward:  872.0|last_reward_at:   87|Elapsed Time: 0:00:01||"
     ]
    },
    {
     "name": "stderr",
     "output_type": "stream",
     "text": [
      "\r",
      "Episode 10|Iteration 90|reward:  872.0|last_reward_at:   90|Elapsed Time: 0:00:01||"
     ]
    },
    {
     "name": "stderr",
     "output_type": "stream",
     "text": [
      "\r",
      "Episode 10|Iteration 92|reward:  878.0|last_reward_at:   90|Elapsed Time: 0:00:01||"
     ]
    },
    {
     "name": "stderr",
     "output_type": "stream",
     "text": [
      "\r",
      "Episode 10|Iteration 92|reward:  878.0|last_reward_at:   92|Elapsed Time: 0:00:01||"
     ]
    },
    {
     "name": "stderr",
     "output_type": "stream",
     "text": [
      "\r",
      "Episode 10|Iteration 95|reward:  884.0|last_reward_at:   92|Elapsed Time: 0:00:01||"
     ]
    },
    {
     "name": "stderr",
     "output_type": "stream",
     "text": [
      "\r",
      "Episode 10|Iteration 95|reward:  884.0|last_reward_at:   95|Elapsed Time: 0:00:01||"
     ]
    },
    {
     "name": "stderr",
     "output_type": "stream",
     "text": [
      "\r",
      "Episode 10|Iteration 101|reward:  890.0|last_reward_at:   95|Elapsed Time: 0:00:01||"
     ]
    },
    {
     "name": "stderr",
     "output_type": "stream",
     "text": [
      "\r",
      "Episode 10|Iteration 101|reward:  890.0|last_reward_at:  101|Elapsed Time: 0:00:01||"
     ]
    },
    {
     "name": "stderr",
     "output_type": "stream",
     "text": [
      "\r",
      "Episode 10|Iteration 107|reward:  890.0|last_reward_at:  101|Elapsed Time: 0:00:01||"
     ]
    },
    {
     "name": "stderr",
     "output_type": "stream",
     "text": [
      "\r",
      "Episode 10|Iteration 112|reward:  898.0|last_reward_at:  101|Elapsed Time: 0:00:01||"
     ]
    },
    {
     "name": "stderr",
     "output_type": "stream",
     "text": [
      "\r",
      "Episode 10|Iteration 112|reward:  898.0|last_reward_at:  112|Elapsed Time: 0:00:01||"
     ]
    },
    {
     "name": "stderr",
     "output_type": "stream",
     "text": [
      "\r",
      "Episode 10|Iteration 120|reward:  898.0|last_reward_at:  112|Elapsed Time: 0:00:01||"
     ]
    },
    {
     "name": "stderr",
     "output_type": "stream",
     "text": [
      "\r",
      "Episode 10|Iteration 122|reward:  900.0|last_reward_at:  112|Elapsed Time: 0:00:01||"
     ]
    },
    {
     "name": "stderr",
     "output_type": "stream",
     "text": [
      "\r",
      "Episode 10|Iteration 122|reward:  900.0|last_reward_at:  122|Elapsed Time: 0:00:01||"
     ]
    },
    {
     "name": "stderr",
     "output_type": "stream",
     "text": [
      "\r",
      "Episode 10|Iteration 129|reward:  902.0|last_reward_at:  122|Elapsed Time: 0:00:01||"
     ]
    },
    {
     "name": "stderr",
     "output_type": "stream",
     "text": [
      "\r",
      "Episode 10|Iteration 129|reward:  902.0|last_reward_at:  129|Elapsed Time: 0:00:01||"
     ]
    },
    {
     "name": "stderr",
     "output_type": "stream",
     "text": [
      "\r",
      "Episode 10|Iteration 137|reward:  902.0|last_reward_at:  129|Elapsed Time: 0:00:01||"
     ]
    },
    {
     "name": "stderr",
     "output_type": "stream",
     "text": [
      "\r",
      "Episode 10|Iteration 144|reward:  902.0|last_reward_at:  129|Elapsed Time: 0:00:01||"
     ]
    },
    {
     "name": "stderr",
     "output_type": "stream",
     "text": [
      "\r",
      "Episode 10|Iteration 152|reward:  902.0|last_reward_at:  129|Elapsed Time: 0:00:01||"
     ]
    },
    {
     "name": "stderr",
     "output_type": "stream",
     "text": [
      "\r",
      "Episode 10|Iteration 159|reward:  902.0|last_reward_at:  129|Elapsed Time: 0:00:02||"
     ]
    },
    {
     "name": "stderr",
     "output_type": "stream",
     "text": [
      "\r",
      "Episode 10|Iteration 167|reward:  902.0|last_reward_at:  129|Elapsed Time: 0:00:02||"
     ]
    },
    {
     "name": "stderr",
     "output_type": "stream",
     "text": [
      "\r",
      "Episode 10|Iteration 175|reward:  902.0|last_reward_at:  129|Elapsed Time: 0:00:02||"
     ]
    },
    {
     "name": "stderr",
     "output_type": "stream",
     "text": [
      "\r",
      "Episode 10|Iteration 183|reward:  902.0|last_reward_at:  129|Elapsed Time: 0:00:02||"
     ]
    },
    {
     "name": "stderr",
     "output_type": "stream",
     "text": [
      "\r",
      "Episode 10|Iteration 190|reward:  902.0|last_reward_at:  129|Elapsed Time: 0:00:02||"
     ]
    },
    {
     "name": "stderr",
     "output_type": "stream",
     "text": [
      "\r",
      "Episode 10|Iteration 197|reward:  902.0|last_reward_at:  129|Elapsed Time: 0:00:02||"
     ]
    },
    {
     "name": "stderr",
     "output_type": "stream",
     "text": [
      "\r",
      "Episode 10|Iteration 205|reward:  902.0|last_reward_at:  129|Elapsed Time: 0:00:02||"
     ]
    },
    {
     "name": "stderr",
     "output_type": "stream",
     "text": [
      "\r",
      "Episode 10|Iteration 213|reward:  902.0|last_reward_at:  129|Elapsed Time: 0:00:02||"
     ]
    },
    {
     "name": "stderr",
     "output_type": "stream",
     "text": [
      "\r",
      "Episode 10|Iteration 221|reward:  902.0|last_reward_at:  129|Elapsed Time: 0:00:02||"
     ]
    },
    {
     "name": "stderr",
     "output_type": "stream",
     "text": [
      "\r",
      "Episode 10|Iteration 227|reward:  902.0|last_reward_at:  129|Elapsed Time: 0:00:02||"
     ]
    },
    {
     "name": "stderr",
     "output_type": "stream",
     "text": [
      "\r",
      "Episode 10|Iteration 231|reward: 5902.0|last_reward_at:  129|Elapsed Time: 0:00:03||"
     ]
    },
    {
     "name": "stderr",
     "output_type": "stream",
     "text": [
      "\r",
      "Episode 10|Iteration 231|reward: 5902.0|last_reward_at:  231|Elapsed Time: 0:00:03||"
     ]
    },
    {
     "name": "stderr",
     "output_type": "stream",
     "text": [
      "\n"
     ]
    },
    {
     "name": "stdout",
     "output_type": "stream",
     "text": [
      "  Episode 10 ended at t=231 \n",
      "  Breakdown [Reward/NoReward (Success rate)]\n",
      "    explore-local: 0/31 (0.00)\n",
      "    explore-remote: 10/42 (0.19)\n",
      "    explore-connect: 1/44 (0.02)\n",
      "    exploit-local: 12/5 (0.71)\n",
      "    exploit-remote: 4/54 (0.07)\n",
      "    exploit-connect: 7/21 (0.25)\n",
      "  exploit deflected to exploration: 1\n",
      "simulation ended\n"
     ]
    },
    {
     "data": {
      "image/png": "[encoded data removed]",
      "text/plain": [
       "<Figure size 640x480 with 1 Axes>"
      ]
     },
     "metadata": {},
     "output_type": "display_data"
    }
   ],
   "source": [
    "dqn_with_defender = learner.epsilon_greedy_search(\n",
    "    cyberbattle_gym_env=cyberbattlechain_defender,\n",
    "    environment_properties=ep,\n",
    "    learner=dqla.DeepQLearnerPolicy(ep=ep, gamma=0.15, replay_memory_size=10000, target_update=5, batch_size=256, learning_rate=0.01),\n",
    "    episode_count=training_episode_count,\n",
    "    iteration_count=iteration_count,\n",
    "    epsilon=0.90,\n",
    "    render=False,\n",
    "    epsilon_exponential_decay=5000,\n",
    "    epsilon_minimum=0.10,\n",
    "    verbosity=Verbosity.Quiet,\n",
    "    title=\"DQL\",\n",
    ")"
   ]
  },
  {
   "cell_type": "code",
   "execution_count": 7,
   "id": "439ff376",
   "metadata": {
    "execution": {
     "iopub.execute_input": "2024-08-08T07:07:37.502037Z",
     "iopub.status.busy": "2024-08-08T07:07:37.501278Z",
     "iopub.status.idle": "2024-08-08T07:07:54.378609Z",
     "shell.execute_reply": "2024-08-08T07:07:54.377654Z"
    },
    "papermill": {
     "duration": 16.913281,
     "end_time": "2024-08-08T07:07:54.380192",
     "exception": false,
     "start_time": "2024-08-08T07:07:37.466911",
     "status": "completed"
    },
    "tags": []
   },
   "outputs": [
    {
     "name": "stdout",
     "output_type": "stream",
     "text": [
      "###### Exploiting DQL\n",
      "Learning with: episode_count=10,iteration_count=600,ϵ=0.0,ϵ_min=0.0, γ=0.15, lr=0.01, replaymemory=10000,\n",
      "batch=256, target_update=5\n",
      "  ## Episode: 1/10 'Exploiting DQL' ϵ=0.0000, γ=0.15, lr=0.01, replaymemory=10000,\n",
      "batch=256, target_update=5\n"
     ]
    },
    {
     "name": "stderr",
     "output_type": "stream",
     "text": [
      "\r",
      "Episode 1|Iteration 0|reward: ------|last_reward_at: ----|Elapsed Time: 0:00:00||"
     ]
    },
    {
     "name": "stderr",
     "output_type": "stream",
     "text": [
      "\r",
      "Episode 1|Iteration 1|reward:   14.0|last_reward_at: ----|Elapsed Time: 0:00:00||"
     ]
    },
    {
     "name": "stderr",
     "output_type": "stream",
     "text": [
      "\r",
      "Episode 1|Iteration 1|reward:   14.0|last_reward_at:    1|Elapsed Time: 0:00:00||"
     ]
    },
    {
     "name": "stderr",
     "output_type": "stream",
     "text": [
      "\r",
      "Episode 1|Iteration 2|reward:  114.0|last_reward_at:    1|Elapsed Time: 0:00:00||"
     ]
    },
    {
     "name": "stderr",
     "output_type": "stream",
     "text": [
      "\r",
      "Episode 1|Iteration 2|reward:  114.0|last_reward_at:    2|Elapsed Time: 0:00:00||"
     ]
    },
    {
     "name": "stderr",
     "output_type": "stream",
     "text": [
      "\r",
      "Episode 1|Iteration 3|reward:  128.0|last_reward_at:    2|Elapsed Time: 0:00:00||"
     ]
    },
    {
     "name": "stderr",
     "output_type": "stream",
     "text": [
      "\r",
      "Episode 1|Iteration 3|reward:  128.0|last_reward_at:    3|Elapsed Time: 0:00:00||"
     ]
    },
    {
     "name": "stderr",
     "output_type": "stream",
     "text": [
      "\r",
      "Episode 1|Iteration 4|reward:  228.0|last_reward_at:    3|Elapsed Time: 0:00:00||"
     ]
    },
    {
     "name": "stderr",
     "output_type": "stream",
     "text": [
      "\r",
      "Episode 1|Iteration 4|reward:  228.0|last_reward_at:    4|Elapsed Time: 0:00:00||"
     ]
    },
    {
     "name": "stderr",
     "output_type": "stream",
     "text": [
      "\r",
      "Episode 1|Iteration 5|reward:  242.0|last_reward_at:    4|Elapsed Time: 0:00:00||"
     ]
    },
    {
     "name": "stderr",
     "output_type": "stream",
     "text": [
      "\r",
      "Episode 1|Iteration 5|reward:  242.0|last_reward_at:    5|Elapsed Time: 0:00:00||"
     ]
    },
    {
     "name": "stderr",
     "output_type": "stream",
     "text": [
      "\r",
      "Episode 1|Iteration 6|reward:  342.0|last_reward_at:    5|Elapsed Time: 0:00:00||"
     ]
    },
    {
     "name": "stderr",
     "output_type": "stream",
     "text": [
      "\r",
      "Episode 1|Iteration 6|reward:  342.0|last_reward_at:    6|Elapsed Time: 0:00:00||"
     ]
    },
    {
     "name": "stderr",
     "output_type": "stream",
     "text": [
      "\r",
      "Episode 1|Iteration 7|reward:  356.0|last_reward_at:    6|Elapsed Time: 0:00:00||"
     ]
    },
    {
     "name": "stderr",
     "output_type": "stream",
     "text": [
      "\r",
      "Episode 1|Iteration 7|reward:  356.0|last_reward_at:    7|Elapsed Time: 0:00:00||"
     ]
    },
    {
     "name": "stderr",
     "output_type": "stream",
     "text": [
      "\r",
      "Episode 1|Iteration 8|reward:  456.0|last_reward_at:    7|Elapsed Time: 0:00:00||"
     ]
    },
    {
     "name": "stderr",
     "output_type": "stream",
     "text": [
      "\r",
      "Episode 1|Iteration 8|reward:  456.0|last_reward_at:    8|Elapsed Time: 0:00:00||"
     ]
    },
    {
     "name": "stderr",
     "output_type": "stream",
     "text": [
      "\r",
      "Episode 1|Iteration 9|reward:  470.0|last_reward_at:    8|Elapsed Time: 0:00:00||"
     ]
    },
    {
     "name": "stderr",
     "output_type": "stream",
     "text": [
      "\r",
      "Episode 1|Iteration 9|reward:  470.0|last_reward_at:    9|Elapsed Time: 0:00:00||"
     ]
    },
    {
     "name": "stderr",
     "output_type": "stream",
     "text": [
      "\r",
      "Episode 1|Iteration 10|reward:  570.0|last_reward_at:    9|Elapsed Time: 0:00:00||"
     ]
    },
    {
     "name": "stderr",
     "output_type": "stream",
     "text": [
      "\r",
      "Episode 1|Iteration 10|reward:  570.0|last_reward_at:   10|Elapsed Time: 0:00:00||"
     ]
    },
    {
     "name": "stderr",
     "output_type": "stream",
     "text": [
      "\r",
      "Episode 1|Iteration 11|reward:  584.0|last_reward_at:   10|Elapsed Time: 0:00:00||"
     ]
    },
    {
     "name": "stderr",
     "output_type": "stream",
     "text": [
      "\r",
      "Episode 1|Iteration 11|reward:  584.0|last_reward_at:   11|Elapsed Time: 0:00:00||"
     ]
    },
    {
     "name": "stderr",
     "output_type": "stream",
     "text": [
      "\r",
      "Episode 1|Iteration 12|reward:  684.0|last_reward_at:   11|Elapsed Time: 0:00:00||"
     ]
    },
    {
     "name": "stderr",
     "output_type": "stream",
     "text": [
      "\r",
      "Episode 1|Iteration 12|reward:  684.0|last_reward_at:   12|Elapsed Time: 0:00:00||"
     ]
    },
    {
     "name": "stderr",
     "output_type": "stream",
     "text": [
      "\r",
      "Episode 1|Iteration 13|reward:  698.0|last_reward_at:   12|Elapsed Time: 0:00:00||"
     ]
    },
    {
     "name": "stderr",
     "output_type": "stream",
     "text": [
      "\r",
      "Episode 1|Iteration 13|reward:  698.0|last_reward_at:   13|Elapsed Time: 0:00:00||"
     ]
    },
    {
     "name": "stderr",
     "output_type": "stream",
     "text": [
      "\r",
      "Episode 1|Iteration 14|reward:  798.0|last_reward_at:   13|Elapsed Time: 0:00:00||"
     ]
    },
    {
     "name": "stderr",
     "output_type": "stream",
     "text": [
      "\r",
      "Episode 1|Iteration 14|reward:  798.0|last_reward_at:   14|Elapsed Time: 0:00:00||"
     ]
    },
    {
     "name": "stderr",
     "output_type": "stream",
     "text": [
      "\r",
      "Episode 1|Iteration 15|reward:  812.0|last_reward_at:   14|Elapsed Time: 0:00:00||"
     ]
    },
    {
     "name": "stderr",
     "output_type": "stream",
     "text": [
      "\r",
      "Episode 1|Iteration 15|reward:  812.0|last_reward_at:   15|Elapsed Time: 0:00:00||"
     ]
    },
    {
     "name": "stderr",
     "output_type": "stream",
     "text": [
      "\r",
      "Episode 1|Iteration 16|reward:  912.0|last_reward_at:   15|Elapsed Time: 0:00:00||"
     ]
    },
    {
     "name": "stderr",
     "output_type": "stream",
     "text": [
      "\r",
      "Episode 1|Iteration 16|reward:  912.0|last_reward_at:   16|Elapsed Time: 0:00:00||"
     ]
    },
    {
     "name": "stderr",
     "output_type": "stream",
     "text": [
      "\r",
      "Episode 1|Iteration 17|reward:  926.0|last_reward_at:   16|Elapsed Time: 0:00:00||"
     ]
    },
    {
     "name": "stderr",
     "output_type": "stream",
     "text": [
      "\r",
      "Episode 1|Iteration 17|reward:  926.0|last_reward_at:   17|Elapsed Time: 0:00:00||"
     ]
    },
    {
     "name": "stderr",
     "output_type": "stream",
     "text": [
      "\r",
      "Episode 1|Iteration 18|reward: 1026.0|last_reward_at:   17|Elapsed Time: 0:00:00||"
     ]
    },
    {
     "name": "stderr",
     "output_type": "stream",
     "text": [
      "\r",
      "Episode 1|Iteration 18|reward: 1026.0|last_reward_at:   18|Elapsed Time: 0:00:00||"
     ]
    },
    {
     "name": "stderr",
     "output_type": "stream",
     "text": [
      "\r",
      "Episode 1|Iteration 19|reward: 1040.0|last_reward_at:   18|Elapsed Time: 0:00:00||"
     ]
    },
    {
     "name": "stderr",
     "output_type": "stream",
     "text": [
      "\r",
      "Episode 1|Iteration 19|reward: 1040.0|last_reward_at:   19|Elapsed Time: 0:00:00||"
     ]
    },
    {
     "name": "stderr",
     "output_type": "stream",
     "text": [
      "\r",
      "Episode 1|Iteration 20|reward: 1140.0|last_reward_at:   19|Elapsed Time: 0:00:00||"
     ]
    },
    {
     "name": "stderr",
     "output_type": "stream",
     "text": [
      "\r",
      "Episode 1|Iteration 20|reward: 1140.0|last_reward_at:   20|Elapsed Time: 0:00:00||"
     ]
    },
    {
     "name": "stderr",
     "output_type": "stream",
     "text": [
      "\r",
      "Episode 1|Iteration 21|reward: 1146.0|last_reward_at:   20|Elapsed Time: 0:00:00||"
     ]
    },
    {
     "name": "stderr",
     "output_type": "stream",
     "text": [
      "\r",
      "Episode 1|Iteration 21|reward: 1146.0|last_reward_at:   21|Elapsed Time: 0:00:00||"
     ]
    },
    {
     "name": "stderr",
     "output_type": "stream",
     "text": [
      "\r",
      "Episode 1|Iteration 22|reward: 1152.0|last_reward_at:   21|Elapsed Time: 0:00:00||"
     ]
    },
    {
     "name": "stderr",
     "output_type": "stream",
     "text": [
      "\r",
      "Episode 1|Iteration 22|reward: 1152.0|last_reward_at:   22|Elapsed Time: 0:00:00||"
     ]
    },
    {
     "name": "stderr",
     "output_type": "stream",
     "text": [
      "\r",
      "Episode 1|Iteration 23|reward: 1158.0|last_reward_at:   22|Elapsed Time: 0:00:00||"
     ]
    },
    {
     "name": "stderr",
     "output_type": "stream",
     "text": [
      "\r",
      "Episode 1|Iteration 23|reward: 1158.0|last_reward_at:   23|Elapsed Time: 0:00:00||"
     ]
    },
    {
     "name": "stderr",
     "output_type": "stream",
     "text": [
      "\r",
      "Episode 1|Iteration 24|reward: 1164.0|last_reward_at:   23|Elapsed Time: 0:00:00||"
     ]
    },
    {
     "name": "stderr",
     "output_type": "stream",
     "text": [
      "\r",
      "Episode 1|Iteration 24|reward: 1164.0|last_reward_at:   24|Elapsed Time: 0:00:00||"
     ]
    },
    {
     "name": "stderr",
     "output_type": "stream",
     "text": [
      "\r",
      "Episode 1|Iteration 25|reward: 1166.0|last_reward_at:   24|Elapsed Time: 0:00:00||"
     ]
    },
    {
     "name": "stderr",
     "output_type": "stream",
     "text": [
      "\r",
      "Episode 1|Iteration 25|reward: 1166.0|last_reward_at:   25|Elapsed Time: 0:00:00||"
     ]
    },
    {
     "name": "stderr",
     "output_type": "stream",
     "text": [
      "\r",
      "Episode 1|Iteration 26|reward: 6166.0|last_reward_at:   25|Elapsed Time: 0:00:00||"
     ]
    },
    {
     "name": "stderr",
     "output_type": "stream",
     "text": [
      "\r",
      "Episode 1|Iteration 26|reward: 6166.0|last_reward_at:   26|Elapsed Time: 0:00:00||"
     ]
    },
    {
     "name": "stderr",
     "output_type": "stream",
     "text": [
      "\n"
     ]
    },
    {
     "name": "stdout",
     "output_type": "stream",
     "text": [
      "  Episode 1 ended at t=26 \n",
      "  Breakdown [Reward/NoReward (Success rate)]\n",
      "    explore-local: 0/0 (NaN)\n",
      "    explore-remote: 0/0 (NaN)\n",
      "    explore-connect: 0/0 (NaN)\n",
      "    exploit-local: 15/0 (1.00)\n",
      "    exploit-remote: 1/0 (1.00)\n",
      "    exploit-connect: 10/0 (1.00)\n",
      "  exploit deflected to exploration: 0\n",
      "  ## Episode: 2/10 'Exploiting DQL' ϵ=0.0000, γ=0.15, lr=0.01, replaymemory=10000,\n",
      "batch=256, target_update=5\n"
     ]
    },
    {
     "name": "stderr",
     "output_type": "stream",
     "text": [
      "\r",
      "Episode 2|Iteration 0|reward: ------|last_reward_at: ----|Elapsed Time: 0:00:00||"
     ]
    },
    {
     "name": "stderr",
     "output_type": "stream",
     "text": [
      "\r",
      "Episode 2|Iteration 1|reward:   14.0|last_reward_at: ----|Elapsed Time: 0:00:00||"
     ]
    },
    {
     "name": "stderr",
     "output_type": "stream",
     "text": [
      "\r",
      "Episode 2|Iteration 1|reward:   14.0|last_reward_at:    1|Elapsed Time: 0:00:00||"
     ]
    },
    {
     "name": "stderr",
     "output_type": "stream",
     "text": [
      "\r",
      "Episode 2|Iteration 2|reward:  114.0|last_reward_at:    1|Elapsed Time: 0:00:00||"
     ]
    },
    {
     "name": "stderr",
     "output_type": "stream",
     "text": [
      "\r",
      "Episode 2|Iteration 2|reward:  114.0|last_reward_at:    2|Elapsed Time: 0:00:00||"
     ]
    },
    {
     "name": "stderr",
     "output_type": "stream",
     "text": [
      "\r",
      "Episode 2|Iteration 3|reward:  128.0|last_reward_at:    2|Elapsed Time: 0:00:00||"
     ]
    },
    {
     "name": "stderr",
     "output_type": "stream",
     "text": [
      "\r",
      "Episode 2|Iteration 3|reward:  128.0|last_reward_at:    3|Elapsed Time: 0:00:00||"
     ]
    },
    {
     "name": "stderr",
     "output_type": "stream",
     "text": [
      "\r",
      "Episode 2|Iteration 4|reward:  228.0|last_reward_at:    3|Elapsed Time: 0:00:00||"
     ]
    },
    {
     "name": "stderr",
     "output_type": "stream",
     "text": [
      "\r",
      "Episode 2|Iteration 4|reward:  228.0|last_reward_at:    4|Elapsed Time: 0:00:00||"
     ]
    },
    {
     "name": "stderr",
     "output_type": "stream",
     "text": [
      "\r",
      "Episode 2|Iteration 5|reward:  242.0|last_reward_at:    4|Elapsed Time: 0:00:00||"
     ]
    },
    {
     "name": "stderr",
     "output_type": "stream",
     "text": [
      "\r",
      "Episode 2|Iteration 5|reward:  242.0|last_reward_at:    5|Elapsed Time: 0:00:00||"
     ]
    },
    {
     "name": "stderr",
     "output_type": "stream",
     "text": [
      "\r",
      "Episode 2|Iteration 6|reward:  342.0|last_reward_at:    5|Elapsed Time: 0:00:00||"
     ]
    },
    {
     "name": "stderr",
     "output_type": "stream",
     "text": [
      "\r",
      "Episode 2|Iteration 6|reward:  342.0|last_reward_at:    6|Elapsed Time: 0:00:00||"
     ]
    },
    {
     "name": "stderr",
     "output_type": "stream",
     "text": [
      "\r",
      "Episode 2|Iteration 7|reward:  356.0|last_reward_at:    6|Elapsed Time: 0:00:00||"
     ]
    },
    {
     "name": "stderr",
     "output_type": "stream",
     "text": [
      "\r",
      "Episode 2|Iteration 7|reward:  356.0|last_reward_at:    7|Elapsed Time: 0:00:00||"
     ]
    },
    {
     "name": "stderr",
     "output_type": "stream",
     "text": [
      "\r",
      "Episode 2|Iteration 8|reward:  456.0|last_reward_at:    7|Elapsed Time: 0:00:00||"
     ]
    },
    {
     "name": "stderr",
     "output_type": "stream",
     "text": [
      "\r",
      "Episode 2|Iteration 8|reward:  456.0|last_reward_at:    8|Elapsed Time: 0:00:00||"
     ]
    },
    {
     "name": "stderr",
     "output_type": "stream",
     "text": [
      "\r",
      "Episode 2|Iteration 9|reward:  470.0|last_reward_at:    8|Elapsed Time: 0:00:00||"
     ]
    },
    {
     "name": "stderr",
     "output_type": "stream",
     "text": [
      "\r",
      "Episode 2|Iteration 9|reward:  470.0|last_reward_at:    9|Elapsed Time: 0:00:00||"
     ]
    },
    {
     "name": "stderr",
     "output_type": "stream",
     "text": [
      "\r",
      "Episode 2|Iteration 10|reward:  570.0|last_reward_at:    9|Elapsed Time: 0:00:00||"
     ]
    },
    {
     "name": "stderr",
     "output_type": "stream",
     "text": [
      "\r",
      "Episode 2|Iteration 10|reward:  570.0|last_reward_at:   10|Elapsed Time: 0:00:00||"
     ]
    },
    {
     "name": "stderr",
     "output_type": "stream",
     "text": [
      "\r",
      "Episode 2|Iteration 11|reward:  584.0|last_reward_at:   10|Elapsed Time: 0:00:00||"
     ]
    },
    {
     "name": "stderr",
     "output_type": "stream",
     "text": [
      "\r",
      "Episode 2|Iteration 11|reward:  584.0|last_reward_at:   11|Elapsed Time: 0:00:00||"
     ]
    },
    {
     "name": "stderr",
     "output_type": "stream",
     "text": [
      "\r",
      "Episode 2|Iteration 12|reward:  684.0|last_reward_at:   11|Elapsed Time: 0:00:00||"
     ]
    },
    {
     "name": "stderr",
     "output_type": "stream",
     "text": [
      "\r",
      "Episode 2|Iteration 12|reward:  684.0|last_reward_at:   12|Elapsed Time: 0:00:00||"
     ]
    },
    {
     "name": "stderr",
     "output_type": "stream",
     "text": [
      "\r",
      "Episode 2|Iteration 13|reward:  698.0|last_reward_at:   12|Elapsed Time: 0:00:00||"
     ]
    },
    {
     "name": "stderr",
     "output_type": "stream",
     "text": [
      "\r",
      "Episode 2|Iteration 13|reward:  698.0|last_reward_at:   13|Elapsed Time: 0:00:00||"
     ]
    },
    {
     "name": "stderr",
     "output_type": "stream",
     "text": [
      "\r",
      "Episode 2|Iteration 14|reward:  798.0|last_reward_at:   13|Elapsed Time: 0:00:00||"
     ]
    },
    {
     "name": "stderr",
     "output_type": "stream",
     "text": [
      "\r",
      "Episode 2|Iteration 14|reward:  798.0|last_reward_at:   14|Elapsed Time: 0:00:00||"
     ]
    },
    {
     "name": "stderr",
     "output_type": "stream",
     "text": [
      "\r",
      "Episode 2|Iteration 15|reward:  812.0|last_reward_at:   14|Elapsed Time: 0:00:00||"
     ]
    },
    {
     "name": "stderr",
     "output_type": "stream",
     "text": [
      "\r",
      "Episode 2|Iteration 15|reward:  812.0|last_reward_at:   15|Elapsed Time: 0:00:00||"
     ]
    },
    {
     "name": "stderr",
     "output_type": "stream",
     "text": [
      "\r",
      "Episode 2|Iteration 16|reward:  912.0|last_reward_at:   15|Elapsed Time: 0:00:00||"
     ]
    },
    {
     "name": "stderr",
     "output_type": "stream",
     "text": [
      "\r",
      "Episode 2|Iteration 16|reward:  912.0|last_reward_at:   16|Elapsed Time: 0:00:00||"
     ]
    },
    {
     "name": "stderr",
     "output_type": "stream",
     "text": [
      "\r",
      "Episode 2|Iteration 17|reward:  926.0|last_reward_at:   16|Elapsed Time: 0:00:00||"
     ]
    },
    {
     "name": "stderr",
     "output_type": "stream",
     "text": [
      "\r",
      "Episode 2|Iteration 17|reward:  926.0|last_reward_at:   17|Elapsed Time: 0:00:00||"
     ]
    },
    {
     "name": "stderr",
     "output_type": "stream",
     "text": [
      "\r",
      "Episode 2|Iteration 18|reward: 1026.0|last_reward_at:   17|Elapsed Time: 0:00:00||"
     ]
    },
    {
     "name": "stderr",
     "output_type": "stream",
     "text": [
      "\r",
      "Episode 2|Iteration 18|reward: 1026.0|last_reward_at:   18|Elapsed Time: 0:00:00||"
     ]
    },
    {
     "name": "stderr",
     "output_type": "stream",
     "text": [
      "\r",
      "Episode 2|Iteration 19|reward: 1040.0|last_reward_at:   18|Elapsed Time: 0:00:00||"
     ]
    },
    {
     "name": "stderr",
     "output_type": "stream",
     "text": [
      "\r",
      "Episode 2|Iteration 19|reward: 1040.0|last_reward_at:   19|Elapsed Time: 0:00:00||"
     ]
    },
    {
     "name": "stderr",
     "output_type": "stream",
     "text": [
      "\r",
      "Episode 2|Iteration 20|reward: 1140.0|last_reward_at:   19|Elapsed Time: 0:00:00||"
     ]
    },
    {
     "name": "stderr",
     "output_type": "stream",
     "text": [
      "\r",
      "Episode 2|Iteration 20|reward: 1140.0|last_reward_at:   20|Elapsed Time: 0:00:00||"
     ]
    },
    {
     "name": "stderr",
     "output_type": "stream",
     "text": [
      "\r",
      "Episode 2|Iteration 21|reward: 1154.0|last_reward_at:   20|Elapsed Time: 0:00:00||"
     ]
    },
    {
     "name": "stderr",
     "output_type": "stream",
     "text": [
      "\r",
      "Episode 2|Iteration 21|reward: 1154.0|last_reward_at:   21|Elapsed Time: 0:00:00||"
     ]
    },
    {
     "name": "stderr",
     "output_type": "stream",
     "text": [
      "\r",
      "Episode 2|Iteration 22|reward: 2154.0|last_reward_at:   21|Elapsed Time: 0:00:00||"
     ]
    },
    {
     "name": "stderr",
     "output_type": "stream",
     "text": [
      "\r",
      "Episode 2|Iteration 22|reward: 2154.0|last_reward_at:   22|Elapsed Time: 0:00:00||"
     ]
    },
    {
     "name": "stderr",
     "output_type": "stream",
     "text": [
      "\r",
      "Episode 2|Iteration 23|reward: 2160.0|last_reward_at:   22|Elapsed Time: 0:00:00||"
     ]
    },
    {
     "name": "stderr",
     "output_type": "stream",
     "text": [
      "\r",
      "Episode 2|Iteration 23|reward: 2160.0|last_reward_at:   23|Elapsed Time: 0:00:00||"
     ]
    },
    {
     "name": "stderr",
     "output_type": "stream",
     "text": [
      "\r",
      "Episode 2|Iteration 24|reward: 2166.0|last_reward_at:   23|Elapsed Time: 0:00:00||"
     ]
    },
    {
     "name": "stderr",
     "output_type": "stream",
     "text": [
      "\r",
      "Episode 2|Iteration 24|reward: 2166.0|last_reward_at:   24|Elapsed Time: 0:00:00||"
     ]
    },
    {
     "name": "stderr",
     "output_type": "stream",
     "text": [
      "\r",
      "Episode 2|Iteration 25|reward: 2172.0|last_reward_at:   24|Elapsed Time: 0:00:00||"
     ]
    },
    {
     "name": "stderr",
     "output_type": "stream",
     "text": [
      "\r",
      "Episode 2|Iteration 25|reward: 2172.0|last_reward_at:   25|Elapsed Time: 0:00:00||"
     ]
    },
    {
     "name": "stderr",
     "output_type": "stream",
     "text": [
      "\r",
      "Episode 2|Iteration 26|reward: 7172.0|last_reward_at:   25|Elapsed Time: 0:00:00||"
     ]
    },
    {
     "name": "stderr",
     "output_type": "stream",
     "text": [
      "\r",
      "Episode 2|Iteration 26|reward: 7172.0|last_reward_at:   26|Elapsed Time: 0:00:00||"
     ]
    },
    {
     "name": "stderr",
     "output_type": "stream",
     "text": [
      "\n"
     ]
    },
    {
     "name": "stdout",
     "output_type": "stream",
     "text": [
      "  Episode 2 ended at t=26 \n",
      "  Breakdown [Reward/NoReward (Success rate)]\n",
      "    explore-local: 0/0 (NaN)\n",
      "    explore-remote: 0/0 (NaN)\n",
      "    explore-connect: 0/0 (NaN)\n",
      "    exploit-local: 15/0 (1.00)\n",
      "    exploit-remote: 0/0 (NaN)\n",
      "    exploit-connect: 11/0 (1.00)\n",
      "  exploit deflected to exploration: 0\n",
      "  ## Episode: 3/10 'Exploiting DQL' ϵ=0.0000, γ=0.15, lr=0.01, replaymemory=10000,\n",
      "batch=256, target_update=5\n"
     ]
    },
    {
     "name": "stderr",
     "output_type": "stream",
     "text": [
      "\r",
      "Episode 3|Iteration 0|reward: ------|last_reward_at: ----|Elapsed Time: 0:00:00||"
     ]
    },
    {
     "name": "stderr",
     "output_type": "stream",
     "text": [
      "\r",
      "Episode 3|Iteration 1|reward:   14.0|last_reward_at: ----|Elapsed Time: 0:00:00||"
     ]
    },
    {
     "name": "stderr",
     "output_type": "stream",
     "text": [
      "\r",
      "Episode 3|Iteration 1|reward:   14.0|last_reward_at:    1|Elapsed Time: 0:00:00||"
     ]
    },
    {
     "name": "stderr",
     "output_type": "stream",
     "text": [
      "\r",
      "Episode 3|Iteration 2|reward:  114.0|last_reward_at:    1|Elapsed Time: 0:00:00||"
     ]
    },
    {
     "name": "stderr",
     "output_type": "stream",
     "text": [
      "\r",
      "Episode 3|Iteration 2|reward:  114.0|last_reward_at:    2|Elapsed Time: 0:00:00||"
     ]
    },
    {
     "name": "stderr",
     "output_type": "stream",
     "text": [
      "\r",
      "Episode 3|Iteration 3|reward:  128.0|last_reward_at:    2|Elapsed Time: 0:00:00||"
     ]
    },
    {
     "name": "stderr",
     "output_type": "stream",
     "text": [
      "\r",
      "Episode 3|Iteration 3|reward:  128.0|last_reward_at:    3|Elapsed Time: 0:00:00||"
     ]
    },
    {
     "name": "stderr",
     "output_type": "stream",
     "text": [
      "\r",
      "Episode 3|Iteration 4|reward:  228.0|last_reward_at:    3|Elapsed Time: 0:00:00||"
     ]
    },
    {
     "name": "stderr",
     "output_type": "stream",
     "text": [
      "\r",
      "Episode 3|Iteration 4|reward:  228.0|last_reward_at:    4|Elapsed Time: 0:00:00||"
     ]
    },
    {
     "name": "stderr",
     "output_type": "stream",
     "text": [
      "\r",
      "Episode 3|Iteration 5|reward:  242.0|last_reward_at:    4|Elapsed Time: 0:00:00||"
     ]
    },
    {
     "name": "stderr",
     "output_type": "stream",
     "text": [
      "\r",
      "Episode 3|Iteration 5|reward:  242.0|last_reward_at:    5|Elapsed Time: 0:00:00||"
     ]
    },
    {
     "name": "stderr",
     "output_type": "stream",
     "text": [
      "\r",
      "Episode 3|Iteration 6|reward:  342.0|last_reward_at:    5|Elapsed Time: 0:00:00||"
     ]
    },
    {
     "name": "stderr",
     "output_type": "stream",
     "text": [
      "\r",
      "Episode 3|Iteration 6|reward:  342.0|last_reward_at:    6|Elapsed Time: 0:00:00||"
     ]
    },
    {
     "name": "stderr",
     "output_type": "stream",
     "text": [
      "\r",
      "Episode 3|Iteration 7|reward:  356.0|last_reward_at:    6|Elapsed Time: 0:00:00||"
     ]
    },
    {
     "name": "stderr",
     "output_type": "stream",
     "text": [
      "\r",
      "Episode 3|Iteration 7|reward:  356.0|last_reward_at:    7|Elapsed Time: 0:00:00||"
     ]
    },
    {
     "name": "stderr",
     "output_type": "stream",
     "text": [
      "\r",
      "Episode 3|Iteration 8|reward:  456.0|last_reward_at:    7|Elapsed Time: 0:00:00||"
     ]
    },
    {
     "name": "stderr",
     "output_type": "stream",
     "text": [
      "\r",
      "Episode 3|Iteration 8|reward:  456.0|last_reward_at:    8|Elapsed Time: 0:00:00||"
     ]
    },
    {
     "name": "stderr",
     "output_type": "stream",
     "text": [
      "\r",
      "Episode 3|Iteration 9|reward:  470.0|last_reward_at:    8|Elapsed Time: 0:00:00||"
     ]
    },
    {
     "name": "stderr",
     "output_type": "stream",
     "text": [
      "\r",
      "Episode 3|Iteration 9|reward:  470.0|last_reward_at:    9|Elapsed Time: 0:00:00||"
     ]
    },
    {
     "name": "stderr",
     "output_type": "stream",
     "text": [
      "\r",
      "Episode 3|Iteration 10|reward:  570.0|last_reward_at:    9|Elapsed Time: 0:00:00||"
     ]
    },
    {
     "name": "stderr",
     "output_type": "stream",
     "text": [
      "\r",
      "Episode 3|Iteration 10|reward:  570.0|last_reward_at:   10|Elapsed Time: 0:00:00||"
     ]
    },
    {
     "name": "stderr",
     "output_type": "stream",
     "text": [
      "\r",
      "Episode 3|Iteration 11|reward:  576.0|last_reward_at:   10|Elapsed Time: 0:00:00||"
     ]
    },
    {
     "name": "stderr",
     "output_type": "stream",
     "text": [
      "\r",
      "Episode 3|Iteration 11|reward:  576.0|last_reward_at:   11|Elapsed Time: 0:00:00||"
     ]
    },
    {
     "name": "stderr",
     "output_type": "stream",
     "text": [
      "\r",
      "Episode 3|Iteration 12|reward:  582.0|last_reward_at:   11|Elapsed Time: 0:00:00||"
     ]
    },
    {
     "name": "stderr",
     "output_type": "stream",
     "text": [
      "\r",
      "Episode 3|Iteration 12|reward:  582.0|last_reward_at:   12|Elapsed Time: 0:00:00||"
     ]
    },
    {
     "name": "stderr",
     "output_type": "stream",
     "text": [
      "\r",
      "Episode 3|Iteration 16|reward:  588.0|last_reward_at:   12|Elapsed Time: 0:00:00||"
     ]
    },
    {
     "name": "stderr",
     "output_type": "stream",
     "text": [
      "\r",
      "Episode 3|Iteration 16|reward:  588.0|last_reward_at:   16|Elapsed Time: 0:00:00||"
     ]
    },
    {
     "name": "stderr",
     "output_type": "stream",
     "text": [
      "\r",
      "Episode 3|Iteration 19|reward:  590.0|last_reward_at:   16|Elapsed Time: 0:00:00||"
     ]
    },
    {
     "name": "stderr",
     "output_type": "stream",
     "text": [
      "\r",
      "Episode 3|Iteration 19|reward:  590.0|last_reward_at:   19|Elapsed Time: 0:00:00||"
     ]
    },
    {
     "name": "stderr",
     "output_type": "stream",
     "text": [
      "\r",
      "Episode 3|Iteration 27|reward:  590.0|last_reward_at:   19|Elapsed Time: 0:00:00||"
     ]
    },
    {
     "name": "stderr",
     "output_type": "stream",
     "text": [
      "\r",
      "Episode 3|Iteration 30|reward:  596.0|last_reward_at:   19|Elapsed Time: 0:00:00||"
     ]
    },
    {
     "name": "stderr",
     "output_type": "stream",
     "text": [
      "\r",
      "Episode 3|Iteration 30|reward:  596.0|last_reward_at:   30|Elapsed Time: 0:00:00||"
     ]
    },
    {
     "name": "stderr",
     "output_type": "stream",
     "text": [
      "\r",
      "Episode 3|Iteration 32|reward:  598.0|last_reward_at:   30|Elapsed Time: 0:00:00||"
     ]
    },
    {
     "name": "stderr",
     "output_type": "stream",
     "text": [
      "\r",
      "Episode 3|Iteration 32|reward:  598.0|last_reward_at:   32|Elapsed Time: 0:00:00||"
     ]
    },
    {
     "name": "stderr",
     "output_type": "stream",
     "text": [
      "\r",
      "Episode 3|Iteration 33|reward:  600.0|last_reward_at:   32|Elapsed Time: 0:00:00||"
     ]
    },
    {
     "name": "stderr",
     "output_type": "stream",
     "text": [
      "\r",
      "Episode 3|Iteration 33|reward:  600.0|last_reward_at:   33|Elapsed Time: 0:00:00||"
     ]
    },
    {
     "name": "stderr",
     "output_type": "stream",
     "text": [
      "\r",
      "Episode 3|Iteration 38|reward:  600.0|last_reward_at:   33|Elapsed Time: 0:00:00||"
     ]
    },
    {
     "name": "stderr",
     "output_type": "stream",
     "text": [
      "\r",
      "Episode 3|Iteration 44|reward:  600.0|last_reward_at:   33|Elapsed Time: 0:00:00||"
     ]
    },
    {
     "name": "stderr",
     "output_type": "stream",
     "text": [
      "\r",
      "Episode 3|Iteration 50|reward:  600.0|last_reward_at:   33|Elapsed Time: 0:00:00||"
     ]
    },
    {
     "name": "stderr",
     "output_type": "stream",
     "text": [
      "\r",
      "Episode 3|Iteration 57|reward:  600.0|last_reward_at:   33|Elapsed Time: 0:00:00||"
     ]
    },
    {
     "name": "stderr",
     "output_type": "stream",
     "text": [
      "\r",
      "Episode 3|Iteration 66|reward:  600.0|last_reward_at:   33|Elapsed Time: 0:00:00||"
     ]
    },
    {
     "name": "stderr",
     "output_type": "stream",
     "text": [
      "\r",
      "Episode 3|Iteration 73|reward:  606.0|last_reward_at:   33|Elapsed Time: 0:00:01||"
     ]
    },
    {
     "name": "stderr",
     "output_type": "stream",
     "text": [
      "\r",
      "Episode 3|Iteration 73|reward:  606.0|last_reward_at:   73|Elapsed Time: 0:00:01||"
     ]
    },
    {
     "name": "stderr",
     "output_type": "stream",
     "text": [
      "\r",
      "Episode 3|Iteration 81|reward:  606.0|last_reward_at:   73|Elapsed Time: 0:00:01||"
     ]
    },
    {
     "name": "stderr",
     "output_type": "stream",
     "text": [
      "\r",
      "Episode 3|Iteration 89|reward:  606.0|last_reward_at:   73|Elapsed Time: 0:00:01||"
     ]
    },
    {
     "name": "stderr",
     "output_type": "stream",
     "text": [
      "\r",
      "Episode 3|Iteration 98|reward:  606.0|last_reward_at:   73|Elapsed Time: 0:00:01||"
     ]
    },
    {
     "name": "stderr",
     "output_type": "stream",
     "text": [
      "\r",
      "Episode 3|Iteration 106|reward:  606.0|last_reward_at:   73|Elapsed Time: 0:00:01||"
     ]
    },
    {
     "name": "stderr",
     "output_type": "stream",
     "text": [
      "\r",
      "Episode 3|Iteration 109|reward:  608.0|last_reward_at:   73|Elapsed Time: 0:00:01||"
     ]
    },
    {
     "name": "stderr",
     "output_type": "stream",
     "text": [
      "\r",
      "Episode 3|Iteration 109|reward:  608.0|last_reward_at:  109|Elapsed Time: 0:00:01||"
     ]
    },
    {
     "name": "stderr",
     "output_type": "stream",
     "text": [
      "\r",
      "Episode 3|Iteration 118|reward:  608.0|last_reward_at:  109|Elapsed Time: 0:00:01||"
     ]
    },
    {
     "name": "stderr",
     "output_type": "stream",
     "text": [
      "\r",
      "Episode 3|Iteration 122|reward:  608.0|last_reward_at:  109|Elapsed Time: 0:00:01||"
     ]
    },
    {
     "name": "stderr",
     "output_type": "stream",
     "text": [
      "\r",
      "Episode 3|Iteration 122|reward:  614.0|last_reward_at:  109|Elapsed Time: 0:00:01||"
     ]
    },
    {
     "name": "stderr",
     "output_type": "stream",
     "text": [
      "\r",
      "Episode 3|Iteration 122|reward:  614.0|last_reward_at:  122|Elapsed Time: 0:00:01||"
     ]
    },
    {
     "name": "stderr",
     "output_type": "stream",
     "text": [
      "\r",
      "Episode 3|Iteration 127|reward:  614.0|last_reward_at:  122|Elapsed Time: 0:00:01||"
     ]
    },
    {
     "name": "stderr",
     "output_type": "stream",
     "text": [
      "\r",
      "Episode 3|Iteration 132|reward:  614.0|last_reward_at:  122|Elapsed Time: 0:00:01||"
     ]
    },
    {
     "name": "stderr",
     "output_type": "stream",
     "text": [
      "\r",
      "Episode 3|Iteration 133|reward:  616.0|last_reward_at:  122|Elapsed Time: 0:00:01||"
     ]
    },
    {
     "name": "stderr",
     "output_type": "stream",
     "text": [
      "\r",
      "Episode 3|Iteration 133|reward:  616.0|last_reward_at:  133|Elapsed Time: 0:00:01||"
     ]
    },
    {
     "name": "stderr",
     "output_type": "stream",
     "text": [
      "\r",
      "Episode 3|Iteration 137|reward:  616.0|last_reward_at:  133|Elapsed Time: 0:00:02||"
     ]
    },
    {
     "name": "stderr",
     "output_type": "stream",
     "text": [
      "\r",
      "Episode 3|Iteration 140|reward:  622.0|last_reward_at:  133|Elapsed Time: 0:00:02||"
     ]
    },
    {
     "name": "stderr",
     "output_type": "stream",
     "text": [
      "\r",
      "Episode 3|Iteration 140|reward:  622.0|last_reward_at:  140|Elapsed Time: 0:00:02||"
     ]
    },
    {
     "name": "stderr",
     "output_type": "stream",
     "text": [
      "\r",
      "Episode 3|Iteration 145|reward:  622.0|last_reward_at:  140|Elapsed Time: 0:00:02||"
     ]
    },
    {
     "name": "stderr",
     "output_type": "stream",
     "text": [
      "\r",
      "Episode 3|Iteration 148|reward:  622.0|last_reward_at:  140|Elapsed Time: 0:00:02||"
     ]
    },
    {
     "name": "stderr",
     "output_type": "stream",
     "text": [
      "\r",
      "Episode 3|Iteration 152|reward:  622.0|last_reward_at:  140|Elapsed Time: 0:00:02||"
     ]
    },
    {
     "name": "stderr",
     "output_type": "stream",
     "text": [
      "\r",
      "Episode 3|Iteration 156|reward:  622.0|last_reward_at:  140|Elapsed Time: 0:00:02||"
     ]
    },
    {
     "name": "stderr",
     "output_type": "stream",
     "text": [
      "\r",
      "Episode 3|Iteration 160|reward:  622.0|last_reward_at:  140|Elapsed Time: 0:00:02||"
     ]
    },
    {
     "name": "stderr",
     "output_type": "stream",
     "text": [
      "\r",
      "Episode 3|Iteration 160|reward:  624.0|last_reward_at:  140|Elapsed Time: 0:00:02||"
     ]
    },
    {
     "name": "stderr",
     "output_type": "stream",
     "text": [
      "\r",
      "Episode 3|Iteration 160|reward:  624.0|last_reward_at:  160|Elapsed Time: 0:00:02||"
     ]
    },
    {
     "name": "stderr",
     "output_type": "stream",
     "text": [
      "\r",
      "Episode 3|Iteration 165|reward:  624.0|last_reward_at:  160|Elapsed Time: 0:00:02||"
     ]
    },
    {
     "name": "stderr",
     "output_type": "stream",
     "text": [
      "\r",
      "Episode 3|Iteration 170|reward:  624.0|last_reward_at:  160|Elapsed Time: 0:00:02||"
     ]
    },
    {
     "name": "stderr",
     "output_type": "stream",
     "text": [
      "\r",
      "Episode 3|Iteration 175|reward:  624.0|last_reward_at:  160|Elapsed Time: 0:00:02||"
     ]
    },
    {
     "name": "stderr",
     "output_type": "stream",
     "text": [
      "\r",
      "Episode 3|Iteration 179|reward:  624.0|last_reward_at:  160|Elapsed Time: 0:00:03||"
     ]
    },
    {
     "name": "stderr",
     "output_type": "stream",
     "text": [
      "\r",
      "Episode 3|Iteration 182|reward:  630.0|last_reward_at:  160|Elapsed Time: 0:00:03||"
     ]
    },
    {
     "name": "stderr",
     "output_type": "stream",
     "text": [
      "\r",
      "Episode 3|Iteration 182|reward:  630.0|last_reward_at:  182|Elapsed Time: 0:00:03||"
     ]
    },
    {
     "name": "stderr",
     "output_type": "stream",
     "text": [
      "\r",
      "Episode 3|Iteration 190|reward:  630.0|last_reward_at:  182|Elapsed Time: 0:00:03||"
     ]
    },
    {
     "name": "stderr",
     "output_type": "stream",
     "text": [
      "\r",
      "Episode 3|Iteration 196|reward:  630.0|last_reward_at:  182|Elapsed Time: 0:00:03||"
     ]
    },
    {
     "name": "stderr",
     "output_type": "stream",
     "text": [
      "\r",
      "Episode 3|Iteration 202|reward:  630.0|last_reward_at:  182|Elapsed Time: 0:00:03||"
     ]
    },
    {
     "name": "stderr",
     "output_type": "stream",
     "text": [
      "\r",
      "Episode 3|Iteration 210|reward:  630.0|last_reward_at:  182|Elapsed Time: 0:00:03||"
     ]
    },
    {
     "name": "stderr",
     "output_type": "stream",
     "text": [
      "\r",
      "Episode 3|Iteration 219|reward:  630.0|last_reward_at:  182|Elapsed Time: 0:00:03||"
     ]
    },
    {
     "name": "stderr",
     "output_type": "stream",
     "text": [
      "\r",
      "Episode 3|Iteration 227|reward:  630.0|last_reward_at:  182|Elapsed Time: 0:00:03||"
     ]
    },
    {
     "name": "stderr",
     "output_type": "stream",
     "text": [
      "\r",
      "Episode 3|Iteration 234|reward:  630.0|last_reward_at:  182|Elapsed Time: 0:00:03||"
     ]
    },
    {
     "name": "stderr",
     "output_type": "stream",
     "text": [
      "\r",
      "Episode 3|Iteration 241|reward:  630.0|last_reward_at:  182|Elapsed Time: 0:00:04||"
     ]
    },
    {
     "name": "stderr",
     "output_type": "stream",
     "text": [
      "\r",
      "Episode 3|Iteration 247|reward:  630.0|last_reward_at:  182|Elapsed Time: 0:00:04||"
     ]
    },
    {
     "name": "stderr",
     "output_type": "stream",
     "text": [
      "\r",
      "Episode 3|Iteration 251|reward:  630.0|last_reward_at:  182|Elapsed Time: 0:00:04||"
     ]
    },
    {
     "name": "stderr",
     "output_type": "stream",
     "text": [
      "\r",
      "Episode 3|Iteration 255|reward:  630.0|last_reward_at:  182|Elapsed Time: 0:00:04||"
     ]
    },
    {
     "name": "stderr",
     "output_type": "stream",
     "text": [
      "\r",
      "Episode 3|Iteration 259|reward:  630.0|last_reward_at:  182|Elapsed Time: 0:00:04||"
     ]
    },
    {
     "name": "stderr",
     "output_type": "stream",
     "text": [
      "\r",
      "Episode 3|Iteration 264|reward:  630.0|last_reward_at:  182|Elapsed Time: 0:00:04||"
     ]
    },
    {
     "name": "stderr",
     "output_type": "stream",
     "text": [
      "\r",
      "Episode 3|Iteration 269|reward:  630.0|last_reward_at:  182|Elapsed Time: 0:00:04||"
     ]
    },
    {
     "name": "stderr",
     "output_type": "stream",
     "text": [
      "\r",
      "Episode 3|Iteration 274|reward:  630.0|last_reward_at:  182|Elapsed Time: 0:00:04||"
     ]
    },
    {
     "name": "stderr",
     "output_type": "stream",
     "text": [
      "\r",
      "Episode 3|Iteration 278|reward:  630.0|last_reward_at:  182|Elapsed Time: 0:00:04||"
     ]
    },
    {
     "name": "stderr",
     "output_type": "stream",
     "text": [
      "\r",
      "Episode 3|Iteration 282|reward:  630.0|last_reward_at:  182|Elapsed Time: 0:00:04||"
     ]
    },
    {
     "name": "stderr",
     "output_type": "stream",
     "text": [
      "\r",
      "Episode 3|Iteration 287|reward:  630.0|last_reward_at:  182|Elapsed Time: 0:00:04||"
     ]
    },
    {
     "name": "stderr",
     "output_type": "stream",
     "text": [
      "\r",
      "Episode 3|Iteration 292|reward:  630.0|last_reward_at:  182|Elapsed Time: 0:00:05||"
     ]
    },
    {
     "name": "stderr",
     "output_type": "stream",
     "text": [
      "\r",
      "Episode 3|Iteration 297|reward:  630.0|last_reward_at:  182|Elapsed Time: 0:00:05||"
     ]
    },
    {
     "name": "stderr",
     "output_type": "stream",
     "text": [
      "\r",
      "Episode 3|Iteration 301|reward:  630.0|last_reward_at:  182|Elapsed Time: 0:00:05||"
     ]
    },
    {
     "name": "stderr",
     "output_type": "stream",
     "text": [
      "\r",
      "Episode 3|Iteration 306|reward:  630.0|last_reward_at:  182|Elapsed Time: 0:00:05||"
     ]
    },
    {
     "name": "stderr",
     "output_type": "stream",
     "text": [
      "\r",
      "Episode 3|Iteration 311|reward:  630.0|last_reward_at:  182|Elapsed Time: 0:00:05||"
     ]
    },
    {
     "name": "stderr",
     "output_type": "stream",
     "text": [
      "\r",
      "Episode 3|Iteration 316|reward:  630.0|last_reward_at:  182|Elapsed Time: 0:00:05||"
     ]
    },
    {
     "name": "stderr",
     "output_type": "stream",
     "text": [
      "\r",
      "Episode 3|Iteration 322|reward:  630.0|last_reward_at:  182|Elapsed Time: 0:00:05||"
     ]
    },
    {
     "name": "stderr",
     "output_type": "stream",
     "text": [
      "\r",
      "Episode 3|Iteration 327|reward:  630.0|last_reward_at:  182|Elapsed Time: 0:00:05||"
     ]
    },
    {
     "name": "stderr",
     "output_type": "stream",
     "text": [
      "\r",
      "Episode 3|Iteration 332|reward:  630.0|last_reward_at:  182|Elapsed Time: 0:00:05||"
     ]
    },
    {
     "name": "stderr",
     "output_type": "stream",
     "text": [
      "\r",
      "Episode 3|Iteration 338|reward:  630.0|last_reward_at:  182|Elapsed Time: 0:00:05||"
     ]
    },
    {
     "name": "stderr",
     "output_type": "stream",
     "text": [
      "\r",
      "Episode 3|Iteration 342|reward:  630.0|last_reward_at:  182|Elapsed Time: 0:00:06||"
     ]
    },
    {
     "name": "stderr",
     "output_type": "stream",
     "text": [
      "\r",
      "Episode 3|Iteration 346|reward:  630.0|last_reward_at:  182|Elapsed Time: 0:00:06||"
     ]
    },
    {
     "name": "stderr",
     "output_type": "stream",
     "text": [
      "\r",
      "Episode 3|Iteration 350|reward:  630.0|last_reward_at:  182|Elapsed Time: 0:00:06||"
     ]
    },
    {
     "name": "stderr",
     "output_type": "stream",
     "text": [
      "\r",
      "Episode 3|Iteration 355|reward:  630.0|last_reward_at:  182|Elapsed Time: 0:00:06||"
     ]
    },
    {
     "name": "stderr",
     "output_type": "stream",
     "text": [
      "\r",
      "Episode 3|Iteration 360|reward:  630.0|last_reward_at:  182|Elapsed Time: 0:00:06||"
     ]
    },
    {
     "name": "stderr",
     "output_type": "stream",
     "text": [
      "\r",
      "Episode 3|Iteration 365|reward:  630.0|last_reward_at:  182|Elapsed Time: 0:00:06||"
     ]
    },
    {
     "name": "stderr",
     "output_type": "stream",
     "text": [
      "\r",
      "Episode 3|Iteration 369|reward:  630.0|last_reward_at:  182|Elapsed Time: 0:00:06||"
     ]
    },
    {
     "name": "stderr",
     "output_type": "stream",
     "text": [
      "\r",
      "Episode 3|Iteration 373|reward:  630.0|last_reward_at:  182|Elapsed Time: 0:00:06||"
     ]
    },
    {
     "name": "stderr",
     "output_type": "stream",
     "text": [
      "\r",
      "Episode 3|Iteration 378|reward:  630.0|last_reward_at:  182|Elapsed Time: 0:00:06||"
     ]
    },
    {
     "name": "stderr",
     "output_type": "stream",
     "text": [
      "\r",
      "Episode 3|Iteration 383|reward:  630.0|last_reward_at:  182|Elapsed Time: 0:00:06||"
     ]
    },
    {
     "name": "stderr",
     "output_type": "stream",
     "text": [
      "\r",
      "Episode 3|Iteration 388|reward:  630.0|last_reward_at:  182|Elapsed Time: 0:00:06||"
     ]
    },
    {
     "name": "stderr",
     "output_type": "stream",
     "text": [
      "\r",
      "Episode 3|Iteration 393|reward:  630.0|last_reward_at:  182|Elapsed Time: 0:00:07||"
     ]
    },
    {
     "name": "stderr",
     "output_type": "stream",
     "text": [
      "\r",
      "Episode 3|Iteration 399|reward:  630.0|last_reward_at:  182|Elapsed Time: 0:00:07||"
     ]
    },
    {
     "name": "stderr",
     "output_type": "stream",
     "text": [
      "\r",
      "Episode 3|Iteration 403|reward:  630.0|last_reward_at:  182|Elapsed Time: 0:00:07||"
     ]
    },
    {
     "name": "stderr",
     "output_type": "stream",
     "text": [
      "\r",
      "Episode 3|Iteration 408|reward:  630.0|last_reward_at:  182|Elapsed Time: 0:00:07||"
     ]
    },
    {
     "name": "stderr",
     "output_type": "stream",
     "text": [
      "\r",
      "Episode 3|Iteration 415|reward:  630.0|last_reward_at:  182|Elapsed Time: 0:00:07||"
     ]
    },
    {
     "name": "stderr",
     "output_type": "stream",
     "text": [
      "\r",
      "Episode 3|Iteration 422|reward:  630.0|last_reward_at:  182|Elapsed Time: 0:00:07||"
     ]
    },
    {
     "name": "stderr",
     "output_type": "stream",
     "text": [
      "\r",
      "Episode 3|Iteration 426|reward:  630.0|last_reward_at:  182|Elapsed Time: 0:00:07||"
     ]
    },
    {
     "name": "stderr",
     "output_type": "stream",
     "text": [
      "\r",
      "Episode 3|Iteration 433|reward:  630.0|last_reward_at:  182|Elapsed Time: 0:00:07||"
     ]
    },
    {
     "name": "stderr",
     "output_type": "stream",
     "text": [
      "\r",
      "Episode 3|Iteration 437|reward:  630.0|last_reward_at:  182|Elapsed Time: 0:00:07||"
     ]
    },
    {
     "name": "stderr",
     "output_type": "stream",
     "text": [
      "\r",
      "Episode 3|Iteration 441|reward:  630.0|last_reward_at:  182|Elapsed Time: 0:00:07||"
     ]
    },
    {
     "name": "stderr",
     "output_type": "stream",
     "text": [
      "\r",
      "Episode 3|Iteration 445|reward:  630.0|last_reward_at:  182|Elapsed Time: 0:00:08||"
     ]
    },
    {
     "name": "stderr",
     "output_type": "stream",
     "text": [
      "\r",
      "Episode 3|Iteration 449|reward:  630.0|last_reward_at:  182|Elapsed Time: 0:00:08||"
     ]
    },
    {
     "name": "stderr",
     "output_type": "stream",
     "text": [
      "\r",
      "Episode 3|Iteration 453|reward:  630.0|last_reward_at:  182|Elapsed Time: 0:00:08||"
     ]
    },
    {
     "name": "stderr",
     "output_type": "stream",
     "text": [
      "\r",
      "Episode 3|Iteration 458|reward:  630.0|last_reward_at:  182|Elapsed Time: 0:00:08||"
     ]
    },
    {
     "name": "stderr",
     "output_type": "stream",
     "text": [
      "\r",
      "Episode 3|Iteration 463|reward:  630.0|last_reward_at:  182|Elapsed Time: 0:00:08||"
     ]
    },
    {
     "name": "stderr",
     "output_type": "stream",
     "text": [
      "\r",
      "Episode 3|Iteration 468|reward:  630.0|last_reward_at:  182|Elapsed Time: 0:00:08||"
     ]
    },
    {
     "name": "stderr",
     "output_type": "stream",
     "text": [
      "\r",
      "Episode 3|Iteration 471|reward:  630.0|last_reward_at:  182|Elapsed Time: 0:00:08||"
     ]
    },
    {
     "name": "stderr",
     "output_type": "stream",
     "text": [
      "\r",
      "Episode 3|Iteration 474|reward:  630.0|last_reward_at:  182|Elapsed Time: 0:00:08||"
     ]
    },
    {
     "name": "stderr",
     "output_type": "stream",
     "text": [
      "\r",
      "Episode 3|Iteration 479|reward:  630.0|last_reward_at:  182|Elapsed Time: 0:00:08||"
     ]
    },
    {
     "name": "stderr",
     "output_type": "stream",
     "text": [
      "\r",
      "Episode 3|Iteration 483|reward:  630.0|last_reward_at:  182|Elapsed Time: 0:00:08||"
     ]
    },
    {
     "name": "stderr",
     "output_type": "stream",
     "text": [
      "\r",
      "Episode 3|Iteration 487|reward:  630.0|last_reward_at:  182|Elapsed Time: 0:00:08||"
     ]
    },
    {
     "name": "stderr",
     "output_type": "stream",
     "text": [
      "\r",
      "Episode 3|Iteration 491|reward:  630.0|last_reward_at:  182|Elapsed Time: 0:00:08||"
     ]
    },
    {
     "name": "stderr",
     "output_type": "stream",
     "text": [
      "\r",
      "Episode 3|Iteration 497|reward:  630.0|last_reward_at:  182|Elapsed Time: 0:00:09||"
     ]
    },
    {
     "name": "stderr",
     "output_type": "stream",
     "text": [
      "\r",
      "Episode 3|Iteration 502|reward:  630.0|last_reward_at:  182|Elapsed Time: 0:00:09||"
     ]
    },
    {
     "name": "stderr",
     "output_type": "stream",
     "text": [
      "\r",
      "Episode 3|Iteration 508|reward:  630.0|last_reward_at:  182|Elapsed Time: 0:00:09||"
     ]
    },
    {
     "name": "stderr",
     "output_type": "stream",
     "text": [
      "\r",
      "Episode 3|Iteration 515|reward:  630.0|last_reward_at:  182|Elapsed Time: 0:00:09||"
     ]
    },
    {
     "name": "stderr",
     "output_type": "stream",
     "text": [
      "\r",
      "Episode 3|Iteration 522|reward:  630.0|last_reward_at:  182|Elapsed Time: 0:00:09||"
     ]
    },
    {
     "name": "stderr",
     "output_type": "stream",
     "text": [
      "\r",
      "Episode 3|Iteration 529|reward:  630.0|last_reward_at:  182|Elapsed Time: 0:00:09||"
     ]
    },
    {
     "name": "stderr",
     "output_type": "stream",
     "text": [
      "\r",
      "Episode 3|Iteration 535|reward:  630.0|last_reward_at:  182|Elapsed Time: 0:00:09||"
     ]
    },
    {
     "name": "stderr",
     "output_type": "stream",
     "text": [
      "\r",
      "Episode 3|Iteration 540|reward:  630.0|last_reward_at:  182|Elapsed Time: 0:00:09||"
     ]
    },
    {
     "name": "stderr",
     "output_type": "stream",
     "text": [
      "\r",
      "Episode 3|Iteration 545|reward:  630.0|last_reward_at:  182|Elapsed Time: 0:00:09||"
     ]
    },
    {
     "name": "stderr",
     "output_type": "stream",
     "text": [
      "\r",
      "Episode 3|Iteration 553|reward:  630.0|last_reward_at:  182|Elapsed Time: 0:00:10||"
     ]
    },
    {
     "name": "stderr",
     "output_type": "stream",
     "text": [
      "\r",
      "Episode 3|Iteration 559|reward:  630.0|last_reward_at:  182|Elapsed Time: 0:00:10||"
     ]
    },
    {
     "name": "stderr",
     "output_type": "stream",
     "text": [
      "\r",
      "Episode 3|Iteration 563|reward:  630.0|last_reward_at:  182|Elapsed Time: 0:00:10||"
     ]
    },
    {
     "name": "stderr",
     "output_type": "stream",
     "text": [
      "\r",
      "Episode 3|Iteration 568|reward:  630.0|last_reward_at:  182|Elapsed Time: 0:00:10||"
     ]
    },
    {
     "name": "stderr",
     "output_type": "stream",
     "text": [
      "\r",
      "Episode 3|Iteration 574|reward:  630.0|last_reward_at:  182|Elapsed Time: 0:00:10||"
     ]
    },
    {
     "name": "stderr",
     "output_type": "stream",
     "text": [
      "\r",
      "Episode 3|Iteration 578|reward:  630.0|last_reward_at:  182|Elapsed Time: 0:00:10||"
     ]
    },
    {
     "name": "stderr",
     "output_type": "stream",
     "text": [
      "\r",
      "Episode 3|Iteration 582|reward:  630.0|last_reward_at:  182|Elapsed Time: 0:00:10||"
     ]
    },
    {
     "name": "stderr",
     "output_type": "stream",
     "text": [
      "\r",
      "Episode 3|Iteration 587|reward:  630.0|last_reward_at:  182|Elapsed Time: 0:00:10||"
     ]
    },
    {
     "name": "stderr",
     "output_type": "stream",
     "text": [
      "\r",
      "Episode 3|Iteration 592|reward:  630.0|last_reward_at:  182|Elapsed Time: 0:00:10||"
     ]
    },
    {
     "name": "stderr",
     "output_type": "stream",
     "text": [
      "\r",
      "Episode 3|Iteration 598|reward:  630.0|last_reward_at:  182|Elapsed Time: 0:00:10||"
     ]
    },
    {
     "name": "stderr",
     "output_type": "stream",
     "text": [
      "\r",
      "Episode 3|Iteration 600|reward:  630.0|last_reward_at:  182|Elapsed Time: 0:00:10||"
     ]
    },
    {
     "name": "stderr",
     "output_type": "stream",
     "text": [
      "\n"
     ]
    },
    {
     "name": "stdout",
     "output_type": "stream",
     "text": [
      "  Episode 3 stopped at t=600 \n",
      "  Breakdown [Reward/NoReward (Success rate)]\n",
      "    explore-local: 0/27 (0.00)\n",
      "    explore-remote: 5/131 (0.04)\n",
      "    explore-connect: 0/120 (0.00)\n",
      "    exploit-local: 9/193 (0.04)\n",
      "    exploit-remote: 5/43 (0.10)\n",
      "    exploit-connect: 5/62 (0.07)\n",
      "  exploit deflected to exploration: 283\n",
      "  ## Episode: 4/10 'Exploiting DQL' ϵ=0.0000, γ=0.15, lr=0.01, replaymemory=10000,\n",
      "batch=256, target_update=5\n"
     ]
    },
    {
     "name": "stderr",
     "output_type": "stream",
     "text": [
      "\r",
      "Episode 4|Iteration 0|reward: ------|last_reward_at: ----|Elapsed Time: 0:00:00||"
     ]
    },
    {
     "name": "stderr",
     "output_type": "stream",
     "text": [
      "\r",
      "Episode 4|Iteration 1|reward:   14.0|last_reward_at: ----|Elapsed Time: 0:00:00||"
     ]
    },
    {
     "name": "stderr",
     "output_type": "stream",
     "text": [
      "\r",
      "Episode 4|Iteration 1|reward:   14.0|last_reward_at:    1|Elapsed Time: 0:00:00||"
     ]
    },
    {
     "name": "stderr",
     "output_type": "stream",
     "text": [
      "\r",
      "Episode 4|Iteration 2|reward:  114.0|last_reward_at:    1|Elapsed Time: 0:00:00||"
     ]
    },
    {
     "name": "stderr",
     "output_type": "stream",
     "text": [
      "\r",
      "Episode 4|Iteration 2|reward:  114.0|last_reward_at:    2|Elapsed Time: 0:00:00||"
     ]
    },
    {
     "name": "stderr",
     "output_type": "stream",
     "text": [
      "\r",
      "Episode 4|Iteration 3|reward:  128.0|last_reward_at:    2|Elapsed Time: 0:00:00||"
     ]
    },
    {
     "name": "stderr",
     "output_type": "stream",
     "text": [
      "\r",
      "Episode 4|Iteration 3|reward:  128.0|last_reward_at:    3|Elapsed Time: 0:00:00||"
     ]
    },
    {
     "name": "stderr",
     "output_type": "stream",
     "text": [
      "\r",
      "Episode 4|Iteration 4|reward:  228.0|last_reward_at:    3|Elapsed Time: 0:00:00||"
     ]
    },
    {
     "name": "stderr",
     "output_type": "stream",
     "text": [
      "\r",
      "Episode 4|Iteration 4|reward:  228.0|last_reward_at:    4|Elapsed Time: 0:00:00||"
     ]
    },
    {
     "name": "stderr",
     "output_type": "stream",
     "text": [
      "\r",
      "Episode 4|Iteration 5|reward:  242.0|last_reward_at:    4|Elapsed Time: 0:00:00||"
     ]
    },
    {
     "name": "stderr",
     "output_type": "stream",
     "text": [
      "\r",
      "Episode 4|Iteration 5|reward:  242.0|last_reward_at:    5|Elapsed Time: 0:00:00||"
     ]
    },
    {
     "name": "stderr",
     "output_type": "stream",
     "text": [
      "\r",
      "Episode 4|Iteration 6|reward:  342.0|last_reward_at:    5|Elapsed Time: 0:00:00||"
     ]
    },
    {
     "name": "stderr",
     "output_type": "stream",
     "text": [
      "\r",
      "Episode 4|Iteration 6|reward:  342.0|last_reward_at:    6|Elapsed Time: 0:00:00||"
     ]
    },
    {
     "name": "stderr",
     "output_type": "stream",
     "text": [
      "\r",
      "Episode 4|Iteration 7|reward:  356.0|last_reward_at:    6|Elapsed Time: 0:00:00||"
     ]
    },
    {
     "name": "stderr",
     "output_type": "stream",
     "text": [
      "\r",
      "Episode 4|Iteration 7|reward:  356.0|last_reward_at:    7|Elapsed Time: 0:00:00||"
     ]
    },
    {
     "name": "stderr",
     "output_type": "stream",
     "text": [
      "\r",
      "Episode 4|Iteration 8|reward:  456.0|last_reward_at:    7|Elapsed Time: 0:00:00||"
     ]
    },
    {
     "name": "stderr",
     "output_type": "stream",
     "text": [
      "\r",
      "Episode 4|Iteration 8|reward:  456.0|last_reward_at:    8|Elapsed Time: 0:00:00||"
     ]
    },
    {
     "name": "stderr",
     "output_type": "stream",
     "text": [
      "\r",
      "Episode 4|Iteration 9|reward:  470.0|last_reward_at:    8|Elapsed Time: 0:00:00||"
     ]
    },
    {
     "name": "stderr",
     "output_type": "stream",
     "text": [
      "\r",
      "Episode 4|Iteration 9|reward:  470.0|last_reward_at:    9|Elapsed Time: 0:00:00||"
     ]
    },
    {
     "name": "stderr",
     "output_type": "stream",
     "text": [
      "\r",
      "Episode 4|Iteration 10|reward:  570.0|last_reward_at:    9|Elapsed Time: 0:00:00||"
     ]
    },
    {
     "name": "stderr",
     "output_type": "stream",
     "text": [
      "\r",
      "Episode 4|Iteration 10|reward:  570.0|last_reward_at:   10|Elapsed Time: 0:00:00||"
     ]
    },
    {
     "name": "stderr",
     "output_type": "stream",
     "text": [
      "\r",
      "Episode 4|Iteration 11|reward:  584.0|last_reward_at:   10|Elapsed Time: 0:00:00||"
     ]
    },
    {
     "name": "stderr",
     "output_type": "stream",
     "text": [
      "\r",
      "Episode 4|Iteration 11|reward:  584.0|last_reward_at:   11|Elapsed Time: 0:00:00||"
     ]
    },
    {
     "name": "stderr",
     "output_type": "stream",
     "text": [
      "\r",
      "Episode 4|Iteration 14|reward:  684.0|last_reward_at:   11|Elapsed Time: 0:00:00||"
     ]
    },
    {
     "name": "stderr",
     "output_type": "stream",
     "text": [
      "\r",
      "Episode 4|Iteration 14|reward:  684.0|last_reward_at:   14|Elapsed Time: 0:00:00||"
     ]
    },
    {
     "name": "stderr",
     "output_type": "stream",
     "text": [
      "\r",
      "Episode 4|Iteration 15|reward:  698.0|last_reward_at:   14|Elapsed Time: 0:00:00||"
     ]
    },
    {
     "name": "stderr",
     "output_type": "stream",
     "text": [
      "\r",
      "Episode 4|Iteration 15|reward:  698.0|last_reward_at:   15|Elapsed Time: 0:00:00||"
     ]
    },
    {
     "name": "stderr",
     "output_type": "stream",
     "text": [
      "\r",
      "Episode 4|Iteration 16|reward:  798.0|last_reward_at:   15|Elapsed Time: 0:00:00||"
     ]
    },
    {
     "name": "stderr",
     "output_type": "stream",
     "text": [
      "\r",
      "Episode 4|Iteration 16|reward:  798.0|last_reward_at:   16|Elapsed Time: 0:00:00||"
     ]
    },
    {
     "name": "stderr",
     "output_type": "stream",
     "text": [
      "\r",
      "Episode 4|Iteration 17|reward:  812.0|last_reward_at:   16|Elapsed Time: 0:00:00||"
     ]
    },
    {
     "name": "stderr",
     "output_type": "stream",
     "text": [
      "\r",
      "Episode 4|Iteration 17|reward:  812.0|last_reward_at:   17|Elapsed Time: 0:00:00||"
     ]
    },
    {
     "name": "stderr",
     "output_type": "stream",
     "text": [
      "\r",
      "Episode 4|Iteration 20|reward:  912.0|last_reward_at:   17|Elapsed Time: 0:00:00||"
     ]
    },
    {
     "name": "stderr",
     "output_type": "stream",
     "text": [
      "\r",
      "Episode 4|Iteration 20|reward:  912.0|last_reward_at:   20|Elapsed Time: 0:00:00||"
     ]
    },
    {
     "name": "stderr",
     "output_type": "stream",
     "text": [
      "\r",
      "Episode 4|Iteration 21|reward: 5912.0|last_reward_at:   20|Elapsed Time: 0:00:00||"
     ]
    },
    {
     "name": "stderr",
     "output_type": "stream",
     "text": [
      "\r",
      "Episode 4|Iteration 21|reward: 5912.0|last_reward_at:   21|Elapsed Time: 0:00:00||"
     ]
    },
    {
     "name": "stderr",
     "output_type": "stream",
     "text": [
      "\n"
     ]
    },
    {
     "name": "stdout",
     "output_type": "stream",
     "text": [
      "  Episode 4 ended at t=21 \n",
      "  Breakdown [Reward/NoReward (Success rate)]\n",
      "    explore-local: 0/0 (NaN)\n",
      "    explore-remote: 0/0 (NaN)\n",
      "    explore-connect: 0/0 (NaN)\n",
      "    exploit-local: 8/0 (1.00)\n",
      "    exploit-remote: 1/0 (1.00)\n",
      "    exploit-connect: 8/4 (0.67)\n",
      "  exploit deflected to exploration: 0\n",
      "  ## Episode: 5/10 'Exploiting DQL' ϵ=0.0000, γ=0.15, lr=0.01, replaymemory=10000,\n",
      "batch=256, target_update=5\n"
     ]
    },
    {
     "name": "stderr",
     "output_type": "stream",
     "text": [
      "\r",
      "Episode 5|Iteration 0|reward: ------|last_reward_at: ----|Elapsed Time: 0:00:00||"
     ]
    },
    {
     "name": "stderr",
     "output_type": "stream",
     "text": [
      "\r",
      "Episode 5|Iteration 1|reward:   14.0|last_reward_at: ----|Elapsed Time: 0:00:00||"
     ]
    },
    {
     "name": "stderr",
     "output_type": "stream",
     "text": [
      "\r",
      "Episode 5|Iteration 1|reward:   14.0|last_reward_at:    1|Elapsed Time: 0:00:00||"
     ]
    },
    {
     "name": "stderr",
     "output_type": "stream",
     "text": [
      "\r",
      "Episode 5|Iteration 2|reward:  114.0|last_reward_at:    1|Elapsed Time: 0:00:00||"
     ]
    },
    {
     "name": "stderr",
     "output_type": "stream",
     "text": [
      "\r",
      "Episode 5|Iteration 2|reward:  114.0|last_reward_at:    2|Elapsed Time: 0:00:00||"
     ]
    },
    {
     "name": "stderr",
     "output_type": "stream",
     "text": [
      "\r",
      "Episode 5|Iteration 3|reward:  128.0|last_reward_at:    2|Elapsed Time: 0:00:00||"
     ]
    },
    {
     "name": "stderr",
     "output_type": "stream",
     "text": [
      "\r",
      "Episode 5|Iteration 3|reward:  128.0|last_reward_at:    3|Elapsed Time: 0:00:00||"
     ]
    },
    {
     "name": "stderr",
     "output_type": "stream",
     "text": [
      "\r",
      "Episode 5|Iteration 4|reward:  228.0|last_reward_at:    3|Elapsed Time: 0:00:00||"
     ]
    },
    {
     "name": "stderr",
     "output_type": "stream",
     "text": [
      "\r",
      "Episode 5|Iteration 4|reward:  228.0|last_reward_at:    4|Elapsed Time: 0:00:00||"
     ]
    },
    {
     "name": "stderr",
     "output_type": "stream",
     "text": [
      "\r",
      "Episode 5|Iteration 5|reward:  242.0|last_reward_at:    4|Elapsed Time: 0:00:00||"
     ]
    },
    {
     "name": "stderr",
     "output_type": "stream",
     "text": [
      "\r",
      "Episode 5|Iteration 5|reward:  242.0|last_reward_at:    5|Elapsed Time: 0:00:00||"
     ]
    },
    {
     "name": "stderr",
     "output_type": "stream",
     "text": [
      "\r",
      "Episode 5|Iteration 6|reward:  342.0|last_reward_at:    5|Elapsed Time: 0:00:00||"
     ]
    },
    {
     "name": "stderr",
     "output_type": "stream",
     "text": [
      "\r",
      "Episode 5|Iteration 6|reward:  342.0|last_reward_at:    6|Elapsed Time: 0:00:00||"
     ]
    },
    {
     "name": "stderr",
     "output_type": "stream",
     "text": [
      "\r",
      "Episode 5|Iteration 7|reward:  356.0|last_reward_at:    6|Elapsed Time: 0:00:00||"
     ]
    },
    {
     "name": "stderr",
     "output_type": "stream",
     "text": [
      "\r",
      "Episode 5|Iteration 7|reward:  356.0|last_reward_at:    7|Elapsed Time: 0:00:00||"
     ]
    },
    {
     "name": "stderr",
     "output_type": "stream",
     "text": [
      "\r",
      "Episode 5|Iteration 8|reward:  456.0|last_reward_at:    7|Elapsed Time: 0:00:00||"
     ]
    },
    {
     "name": "stderr",
     "output_type": "stream",
     "text": [
      "\r",
      "Episode 5|Iteration 8|reward:  456.0|last_reward_at:    8|Elapsed Time: 0:00:00||"
     ]
    },
    {
     "name": "stderr",
     "output_type": "stream",
     "text": [
      "\r",
      "Episode 5|Iteration 9|reward:  470.0|last_reward_at:    8|Elapsed Time: 0:00:00||"
     ]
    },
    {
     "name": "stderr",
     "output_type": "stream",
     "text": [
      "\r",
      "Episode 5|Iteration 9|reward:  470.0|last_reward_at:    9|Elapsed Time: 0:00:00||"
     ]
    },
    {
     "name": "stderr",
     "output_type": "stream",
     "text": [
      "\r",
      "Episode 5|Iteration 12|reward:  570.0|last_reward_at:    9|Elapsed Time: 0:00:00||"
     ]
    },
    {
     "name": "stderr",
     "output_type": "stream",
     "text": [
      "\r",
      "Episode 5|Iteration 12|reward:  570.0|last_reward_at:   12|Elapsed Time: 0:00:00||"
     ]
    },
    {
     "name": "stderr",
     "output_type": "stream",
     "text": [
      "\r",
      "Episode 5|Iteration 13|reward:  584.0|last_reward_at:   12|Elapsed Time: 0:00:00||"
     ]
    },
    {
     "name": "stderr",
     "output_type": "stream",
     "text": [
      "\r",
      "Episode 5|Iteration 13|reward:  584.0|last_reward_at:   13|Elapsed Time: 0:00:00||"
     ]
    },
    {
     "name": "stderr",
     "output_type": "stream",
     "text": [
      "\r",
      "Episode 5|Iteration 14|reward:  684.0|last_reward_at:   13|Elapsed Time: 0:00:00||"
     ]
    },
    {
     "name": "stderr",
     "output_type": "stream",
     "text": [
      "\r",
      "Episode 5|Iteration 14|reward:  684.0|last_reward_at:   14|Elapsed Time: 0:00:00||"
     ]
    },
    {
     "name": "stderr",
     "output_type": "stream",
     "text": [
      "\r",
      "Episode 5|Iteration 15|reward:  698.0|last_reward_at:   14|Elapsed Time: 0:00:00||"
     ]
    },
    {
     "name": "stderr",
     "output_type": "stream",
     "text": [
      "\r",
      "Episode 5|Iteration 15|reward:  698.0|last_reward_at:   15|Elapsed Time: 0:00:00||"
     ]
    },
    {
     "name": "stderr",
     "output_type": "stream",
     "text": [
      "\r",
      "Episode 5|Iteration 17|reward:  798.0|last_reward_at:   15|Elapsed Time: 0:00:00||"
     ]
    },
    {
     "name": "stderr",
     "output_type": "stream",
     "text": [
      "\r",
      "Episode 5|Iteration 17|reward:  798.0|last_reward_at:   17|Elapsed Time: 0:00:00||"
     ]
    },
    {
     "name": "stderr",
     "output_type": "stream",
     "text": [
      "\r",
      "Episode 5|Iteration 18|reward:  812.0|last_reward_at:   17|Elapsed Time: 0:00:00||"
     ]
    },
    {
     "name": "stderr",
     "output_type": "stream",
     "text": [
      "\r",
      "Episode 5|Iteration 18|reward:  812.0|last_reward_at:   18|Elapsed Time: 0:00:00||"
     ]
    },
    {
     "name": "stderr",
     "output_type": "stream",
     "text": [
      "\r",
      "Episode 5|Iteration 19|reward:  912.0|last_reward_at:   18|Elapsed Time: 0:00:00||"
     ]
    },
    {
     "name": "stderr",
     "output_type": "stream",
     "text": [
      "\r",
      "Episode 5|Iteration 19|reward:  912.0|last_reward_at:   19|Elapsed Time: 0:00:00||"
     ]
    },
    {
     "name": "stderr",
     "output_type": "stream",
     "text": [
      "\r",
      "Episode 5|Iteration 20|reward:  926.0|last_reward_at:   19|Elapsed Time: 0:00:00||"
     ]
    },
    {
     "name": "stderr",
     "output_type": "stream",
     "text": [
      "\r",
      "Episode 5|Iteration 20|reward:  926.0|last_reward_at:   20|Elapsed Time: 0:00:00||"
     ]
    },
    {
     "name": "stderr",
     "output_type": "stream",
     "text": [
      "\r",
      "Episode 5|Iteration 22|reward: 1026.0|last_reward_at:   20|Elapsed Time: 0:00:00||"
     ]
    },
    {
     "name": "stderr",
     "output_type": "stream",
     "text": [
      "\r",
      "Episode 5|Iteration 22|reward: 1026.0|last_reward_at:   22|Elapsed Time: 0:00:00||"
     ]
    },
    {
     "name": "stderr",
     "output_type": "stream",
     "text": [
      "\r",
      "Episode 5|Iteration 23|reward: 1040.0|last_reward_at:   22|Elapsed Time: 0:00:00||"
     ]
    },
    {
     "name": "stderr",
     "output_type": "stream",
     "text": [
      "\r",
      "Episode 5|Iteration 23|reward: 1040.0|last_reward_at:   23|Elapsed Time: 0:00:00||"
     ]
    },
    {
     "name": "stderr",
     "output_type": "stream",
     "text": [
      "\r",
      "Episode 5|Iteration 24|reward: 1140.0|last_reward_at:   23|Elapsed Time: 0:00:00||"
     ]
    },
    {
     "name": "stderr",
     "output_type": "stream",
     "text": [
      "\r",
      "Episode 5|Iteration 24|reward: 1140.0|last_reward_at:   24|Elapsed Time: 0:00:00||"
     ]
    },
    {
     "name": "stderr",
     "output_type": "stream",
     "text": [
      "\r",
      "Episode 5|Iteration 25|reward: 1154.0|last_reward_at:   24|Elapsed Time: 0:00:00||"
     ]
    },
    {
     "name": "stderr",
     "output_type": "stream",
     "text": [
      "\r",
      "Episode 5|Iteration 25|reward: 1154.0|last_reward_at:   25|Elapsed Time: 0:00:00||"
     ]
    },
    {
     "name": "stderr",
     "output_type": "stream",
     "text": [
      "\r",
      "Episode 5|Iteration 26|reward: 2154.0|last_reward_at:   25|Elapsed Time: 0:00:00||"
     ]
    },
    {
     "name": "stderr",
     "output_type": "stream",
     "text": [
      "\r",
      "Episode 5|Iteration 26|reward: 2154.0|last_reward_at:   26|Elapsed Time: 0:00:00||"
     ]
    },
    {
     "name": "stderr",
     "output_type": "stream",
     "text": [
      "\r",
      "Episode 5|Iteration 28|reward: 2160.0|last_reward_at:   26|Elapsed Time: 0:00:00||"
     ]
    },
    {
     "name": "stderr",
     "output_type": "stream",
     "text": [
      "\r",
      "Episode 5|Iteration 28|reward: 2160.0|last_reward_at:   28|Elapsed Time: 0:00:00||"
     ]
    },
    {
     "name": "stderr",
     "output_type": "stream",
     "text": [
      "\r",
      "Episode 5|Iteration 30|reward: 2166.0|last_reward_at:   28|Elapsed Time: 0:00:00||"
     ]
    },
    {
     "name": "stderr",
     "output_type": "stream",
     "text": [
      "\r",
      "Episode 5|Iteration 30|reward: 2166.0|last_reward_at:   30|Elapsed Time: 0:00:00||"
     ]
    },
    {
     "name": "stderr",
     "output_type": "stream",
     "text": [
      "\r",
      "Episode 5|Iteration 31|reward: 2172.0|last_reward_at:   30|Elapsed Time: 0:00:00||"
     ]
    },
    {
     "name": "stderr",
     "output_type": "stream",
     "text": [
      "\r",
      "Episode 5|Iteration 31|reward: 2172.0|last_reward_at:   31|Elapsed Time: 0:00:00||"
     ]
    },
    {
     "name": "stderr",
     "output_type": "stream",
     "text": [
      "\r",
      "Episode 5|Iteration 32|reward: 2178.0|last_reward_at:   31|Elapsed Time: 0:00:00||"
     ]
    },
    {
     "name": "stderr",
     "output_type": "stream",
     "text": [
      "\r",
      "Episode 5|Iteration 32|reward: 2178.0|last_reward_at:   32|Elapsed Time: 0:00:00||"
     ]
    },
    {
     "name": "stderr",
     "output_type": "stream",
     "text": [
      "\r",
      "Episode 5|Iteration 33|reward: 2184.0|last_reward_at:   32|Elapsed Time: 0:00:00||"
     ]
    },
    {
     "name": "stderr",
     "output_type": "stream",
     "text": [
      "\r",
      "Episode 5|Iteration 33|reward: 2184.0|last_reward_at:   33|Elapsed Time: 0:00:00||"
     ]
    },
    {
     "name": "stderr",
     "output_type": "stream",
     "text": [
      "\r",
      "Episode 5|Iteration 38|reward: 2184.0|last_reward_at:   33|Elapsed Time: 0:00:00||"
     ]
    },
    {
     "name": "stderr",
     "output_type": "stream",
     "text": [
      "\r",
      "Episode 5|Iteration 41|reward: 7184.0|last_reward_at:   33|Elapsed Time: 0:00:00||"
     ]
    },
    {
     "name": "stderr",
     "output_type": "stream",
     "text": [
      "\r",
      "Episode 5|Iteration 41|reward: 7184.0|last_reward_at:   41|Elapsed Time: 0:00:00||"
     ]
    },
    {
     "name": "stderr",
     "output_type": "stream",
     "text": [
      "\n"
     ]
    },
    {
     "name": "stdout",
     "output_type": "stream",
     "text": [
      "  Episode 5 ended at t=41 \n",
      "  Breakdown [Reward/NoReward (Success rate)]\n",
      "    explore-local: 0/0 (NaN)\n",
      "    explore-remote: 0/0 (NaN)\n",
      "    explore-connect: 0/0 (NaN)\n",
      "    exploit-local: 16/6 (0.73)\n",
      "    exploit-remote: 1/1 (0.50)\n",
      "    exploit-connect: 11/6 (0.65)\n",
      "  exploit deflected to exploration: 0\n",
      "  ## Episode: 6/10 'Exploiting DQL' ϵ=0.0000, γ=0.15, lr=0.01, replaymemory=10000,\n",
      "batch=256, target_update=5\n"
     ]
    },
    {
     "name": "stderr",
     "output_type": "stream",
     "text": [
      "\r",
      "Episode 6|Iteration 0|reward: ------|last_reward_at: ----|Elapsed Time: 0:00:00||"
     ]
    },
    {
     "name": "stderr",
     "output_type": "stream",
     "text": [
      "\r",
      "Episode 6|Iteration 1|reward:   14.0|last_reward_at: ----|Elapsed Time: 0:00:00||"
     ]
    },
    {
     "name": "stderr",
     "output_type": "stream",
     "text": [
      "\r",
      "Episode 6|Iteration 1|reward:   14.0|last_reward_at:    1|Elapsed Time: 0:00:00||"
     ]
    },
    {
     "name": "stderr",
     "output_type": "stream",
     "text": [
      "\r",
      "Episode 6|Iteration 2|reward:  114.0|last_reward_at:    1|Elapsed Time: 0:00:00||"
     ]
    },
    {
     "name": "stderr",
     "output_type": "stream",
     "text": [
      "\r",
      "Episode 6|Iteration 2|reward:  114.0|last_reward_at:    2|Elapsed Time: 0:00:00||"
     ]
    },
    {
     "name": "stderr",
     "output_type": "stream",
     "text": [
      "\r",
      "Episode 6|Iteration 3|reward:  128.0|last_reward_at:    2|Elapsed Time: 0:00:00||"
     ]
    },
    {
     "name": "stderr",
     "output_type": "stream",
     "text": [
      "\r",
      "Episode 6|Iteration 3|reward:  128.0|last_reward_at:    3|Elapsed Time: 0:00:00||"
     ]
    },
    {
     "name": "stderr",
     "output_type": "stream",
     "text": [
      "\r",
      "Episode 6|Iteration 4|reward:  228.0|last_reward_at:    3|Elapsed Time: 0:00:00||"
     ]
    },
    {
     "name": "stderr",
     "output_type": "stream",
     "text": [
      "\r",
      "Episode 6|Iteration 4|reward:  228.0|last_reward_at:    4|Elapsed Time: 0:00:00||"
     ]
    },
    {
     "name": "stderr",
     "output_type": "stream",
     "text": [
      "\r",
      "Episode 6|Iteration 5|reward:  242.0|last_reward_at:    4|Elapsed Time: 0:00:00||"
     ]
    },
    {
     "name": "stderr",
     "output_type": "stream",
     "text": [
      "\r",
      "Episode 6|Iteration 5|reward:  242.0|last_reward_at:    5|Elapsed Time: 0:00:00||"
     ]
    },
    {
     "name": "stderr",
     "output_type": "stream",
     "text": [
      "\r",
      "Episode 6|Iteration 6|reward:  342.0|last_reward_at:    5|Elapsed Time: 0:00:00||"
     ]
    },
    {
     "name": "stderr",
     "output_type": "stream",
     "text": [
      "\r",
      "Episode 6|Iteration 6|reward:  342.0|last_reward_at:    6|Elapsed Time: 0:00:00||"
     ]
    },
    {
     "name": "stderr",
     "output_type": "stream",
     "text": [
      "\r",
      "Episode 6|Iteration 7|reward:  356.0|last_reward_at:    6|Elapsed Time: 0:00:00||"
     ]
    },
    {
     "name": "stderr",
     "output_type": "stream",
     "text": [
      "\r",
      "Episode 6|Iteration 7|reward:  356.0|last_reward_at:    7|Elapsed Time: 0:00:00||"
     ]
    },
    {
     "name": "stderr",
     "output_type": "stream",
     "text": [
      "\r",
      "Episode 6|Iteration 8|reward:  456.0|last_reward_at:    7|Elapsed Time: 0:00:00||"
     ]
    },
    {
     "name": "stderr",
     "output_type": "stream",
     "text": [
      "\r",
      "Episode 6|Iteration 8|reward:  456.0|last_reward_at:    8|Elapsed Time: 0:00:00||"
     ]
    },
    {
     "name": "stderr",
     "output_type": "stream",
     "text": [
      "\r",
      "Episode 6|Iteration 9|reward:  470.0|last_reward_at:    8|Elapsed Time: 0:00:00||"
     ]
    },
    {
     "name": "stderr",
     "output_type": "stream",
     "text": [
      "\r",
      "Episode 6|Iteration 9|reward:  470.0|last_reward_at:    9|Elapsed Time: 0:00:00||"
     ]
    },
    {
     "name": "stderr",
     "output_type": "stream",
     "text": [
      "\r",
      "Episode 6|Iteration 10|reward:  570.0|last_reward_at:    9|Elapsed Time: 0:00:00||"
     ]
    },
    {
     "name": "stderr",
     "output_type": "stream",
     "text": [
      "\r",
      "Episode 6|Iteration 10|reward:  570.0|last_reward_at:   10|Elapsed Time: 0:00:00||"
     ]
    },
    {
     "name": "stderr",
     "output_type": "stream",
     "text": [
      "\r",
      "Episode 6|Iteration 11|reward:  584.0|last_reward_at:   10|Elapsed Time: 0:00:00||"
     ]
    },
    {
     "name": "stderr",
     "output_type": "stream",
     "text": [
      "\r",
      "Episode 6|Iteration 11|reward:  584.0|last_reward_at:   11|Elapsed Time: 0:00:00||"
     ]
    },
    {
     "name": "stderr",
     "output_type": "stream",
     "text": [
      "\r",
      "Episode 6|Iteration 12|reward:  684.0|last_reward_at:   11|Elapsed Time: 0:00:00||"
     ]
    },
    {
     "name": "stderr",
     "output_type": "stream",
     "text": [
      "\r",
      "Episode 6|Iteration 12|reward:  684.0|last_reward_at:   12|Elapsed Time: 0:00:00||"
     ]
    },
    {
     "name": "stderr",
     "output_type": "stream",
     "text": [
      "\r",
      "Episode 6|Iteration 13|reward:  698.0|last_reward_at:   12|Elapsed Time: 0:00:00||"
     ]
    },
    {
     "name": "stderr",
     "output_type": "stream",
     "text": [
      "\r",
      "Episode 6|Iteration 13|reward:  698.0|last_reward_at:   13|Elapsed Time: 0:00:00||"
     ]
    },
    {
     "name": "stderr",
     "output_type": "stream",
     "text": [
      "\r",
      "Episode 6|Iteration 14|reward:  798.0|last_reward_at:   13|Elapsed Time: 0:00:00||"
     ]
    },
    {
     "name": "stderr",
     "output_type": "stream",
     "text": [
      "\r",
      "Episode 6|Iteration 14|reward:  798.0|last_reward_at:   14|Elapsed Time: 0:00:00||"
     ]
    },
    {
     "name": "stderr",
     "output_type": "stream",
     "text": [
      "\r",
      "Episode 6|Iteration 15|reward:  812.0|last_reward_at:   14|Elapsed Time: 0:00:00||"
     ]
    },
    {
     "name": "stderr",
     "output_type": "stream",
     "text": [
      "\r",
      "Episode 6|Iteration 15|reward:  812.0|last_reward_at:   15|Elapsed Time: 0:00:00||"
     ]
    },
    {
     "name": "stderr",
     "output_type": "stream",
     "text": [
      "\r",
      "Episode 6|Iteration 16|reward:  912.0|last_reward_at:   15|Elapsed Time: 0:00:00||"
     ]
    },
    {
     "name": "stderr",
     "output_type": "stream",
     "text": [
      "\r",
      "Episode 6|Iteration 16|reward:  912.0|last_reward_at:   16|Elapsed Time: 0:00:00||"
     ]
    },
    {
     "name": "stderr",
     "output_type": "stream",
     "text": [
      "\r",
      "Episode 6|Iteration 17|reward:  926.0|last_reward_at:   16|Elapsed Time: 0:00:00||"
     ]
    },
    {
     "name": "stderr",
     "output_type": "stream",
     "text": [
      "\r",
      "Episode 6|Iteration 17|reward:  926.0|last_reward_at:   17|Elapsed Time: 0:00:00||"
     ]
    },
    {
     "name": "stderr",
     "output_type": "stream",
     "text": [
      "\r",
      "Episode 6|Iteration 19|reward: 1026.0|last_reward_at:   17|Elapsed Time: 0:00:00||"
     ]
    },
    {
     "name": "stderr",
     "output_type": "stream",
     "text": [
      "\r",
      "Episode 6|Iteration 19|reward: 1026.0|last_reward_at:   19|Elapsed Time: 0:00:00||"
     ]
    },
    {
     "name": "stderr",
     "output_type": "stream",
     "text": [
      "\r",
      "Episode 6|Iteration 20|reward: 1040.0|last_reward_at:   19|Elapsed Time: 0:00:00||"
     ]
    },
    {
     "name": "stderr",
     "output_type": "stream",
     "text": [
      "\r",
      "Episode 6|Iteration 20|reward: 1040.0|last_reward_at:   20|Elapsed Time: 0:00:00||"
     ]
    },
    {
     "name": "stderr",
     "output_type": "stream",
     "text": [
      "\r",
      "Episode 6|Iteration 21|reward: 1140.0|last_reward_at:   20|Elapsed Time: 0:00:00||"
     ]
    },
    {
     "name": "stderr",
     "output_type": "stream",
     "text": [
      "\r",
      "Episode 6|Iteration 21|reward: 1140.0|last_reward_at:   21|Elapsed Time: 0:00:00||"
     ]
    },
    {
     "name": "stderr",
     "output_type": "stream",
     "text": [
      "\r",
      "Episode 6|Iteration 22|reward: 1154.0|last_reward_at:   21|Elapsed Time: 0:00:00||"
     ]
    },
    {
     "name": "stderr",
     "output_type": "stream",
     "text": [
      "\r",
      "Episode 6|Iteration 22|reward: 1154.0|last_reward_at:   22|Elapsed Time: 0:00:00||"
     ]
    },
    {
     "name": "stderr",
     "output_type": "stream",
     "text": [
      "\r",
      "Episode 6|Iteration 24|reward: 2154.0|last_reward_at:   22|Elapsed Time: 0:00:00||"
     ]
    },
    {
     "name": "stderr",
     "output_type": "stream",
     "text": [
      "\r",
      "Episode 6|Iteration 24|reward: 2154.0|last_reward_at:   24|Elapsed Time: 0:00:00||"
     ]
    },
    {
     "name": "stderr",
     "output_type": "stream",
     "text": [
      "\r",
      "Episode 6|Iteration 25|reward: 2160.0|last_reward_at:   24|Elapsed Time: 0:00:00||"
     ]
    },
    {
     "name": "stderr",
     "output_type": "stream",
     "text": [
      "\r",
      "Episode 6|Iteration 25|reward: 2160.0|last_reward_at:   25|Elapsed Time: 0:00:00||"
     ]
    },
    {
     "name": "stderr",
     "output_type": "stream",
     "text": [
      "\r",
      "Episode 6|Iteration 26|reward: 2166.0|last_reward_at:   25|Elapsed Time: 0:00:00||"
     ]
    },
    {
     "name": "stderr",
     "output_type": "stream",
     "text": [
      "\r",
      "Episode 6|Iteration 26|reward: 2166.0|last_reward_at:   26|Elapsed Time: 0:00:00||"
     ]
    },
    {
     "name": "stderr",
     "output_type": "stream",
     "text": [
      "\r",
      "Episode 6|Iteration 27|reward: 2172.0|last_reward_at:   26|Elapsed Time: 0:00:00||"
     ]
    },
    {
     "name": "stderr",
     "output_type": "stream",
     "text": [
      "\r",
      "Episode 6|Iteration 27|reward: 2172.0|last_reward_at:   27|Elapsed Time: 0:00:00||"
     ]
    },
    {
     "name": "stderr",
     "output_type": "stream",
     "text": [
      "\r",
      "Episode 6|Iteration 34|reward: 2172.0|last_reward_at:   27|Elapsed Time: 0:00:00||"
     ]
    },
    {
     "name": "stderr",
     "output_type": "stream",
     "text": [
      "\r",
      "Episode 6|Iteration 41|reward: 2172.0|last_reward_at:   27|Elapsed Time: 0:00:00||"
     ]
    },
    {
     "name": "stderr",
     "output_type": "stream",
     "text": [
      "\r",
      "Episode 6|Iteration 44|reward: 2178.0|last_reward_at:   27|Elapsed Time: 0:00:00||"
     ]
    },
    {
     "name": "stderr",
     "output_type": "stream",
     "text": [
      "\r",
      "Episode 6|Iteration 44|reward: 2178.0|last_reward_at:   44|Elapsed Time: 0:00:00||"
     ]
    },
    {
     "name": "stderr",
     "output_type": "stream",
     "text": [
      "\r",
      "Episode 6|Iteration 46|reward: 7178.0|last_reward_at:   44|Elapsed Time: 0:00:00||"
     ]
    },
    {
     "name": "stderr",
     "output_type": "stream",
     "text": [
      "\r",
      "Episode 6|Iteration 46|reward: 7178.0|last_reward_at:   46|Elapsed Time: 0:00:00||"
     ]
    },
    {
     "name": "stderr",
     "output_type": "stream",
     "text": [
      "\n"
     ]
    },
    {
     "name": "stdout",
     "output_type": "stream",
     "text": [
      "  Episode 6 ended at t=46 \n",
      "  Breakdown [Reward/NoReward (Success rate)]\n",
      "    explore-local: 0/0 (NaN)\n",
      "    explore-remote: 0/0 (NaN)\n",
      "    explore-connect: 0/0 (NaN)\n",
      "    exploit-local: 15/2 (0.88)\n",
      "    exploit-remote: 0/0 (NaN)\n",
      "    exploit-connect: 12/17 (0.41)\n",
      "  exploit deflected to exploration: 0\n",
      "  ## Episode: 7/10 'Exploiting DQL' ϵ=0.0000, γ=0.15, lr=0.01, replaymemory=10000,\n",
      "batch=256, target_update=5\n"
     ]
    },
    {
     "name": "stderr",
     "output_type": "stream",
     "text": [
      "\r",
      "Episode 7|Iteration 0|reward: ------|last_reward_at: ----|Elapsed Time: 0:00:00||"
     ]
    },
    {
     "name": "stderr",
     "output_type": "stream",
     "text": [
      "\r",
      "Episode 7|Iteration 1|reward:   14.0|last_reward_at: ----|Elapsed Time: 0:00:00||"
     ]
    },
    {
     "name": "stderr",
     "output_type": "stream",
     "text": [
      "\r",
      "Episode 7|Iteration 1|reward:   14.0|last_reward_at:    1|Elapsed Time: 0:00:00||"
     ]
    },
    {
     "name": "stderr",
     "output_type": "stream",
     "text": [
      "\r",
      "Episode 7|Iteration 2|reward:  114.0|last_reward_at:    1|Elapsed Time: 0:00:00||"
     ]
    },
    {
     "name": "stderr",
     "output_type": "stream",
     "text": [
      "\r",
      "Episode 7|Iteration 2|reward:  114.0|last_reward_at:    2|Elapsed Time: 0:00:00||"
     ]
    },
    {
     "name": "stderr",
     "output_type": "stream",
     "text": [
      "\r",
      "Episode 7|Iteration 3|reward:  128.0|last_reward_at:    2|Elapsed Time: 0:00:00||"
     ]
    },
    {
     "name": "stderr",
     "output_type": "stream",
     "text": [
      "\r",
      "Episode 7|Iteration 3|reward:  128.0|last_reward_at:    3|Elapsed Time: 0:00:00||"
     ]
    },
    {
     "name": "stderr",
     "output_type": "stream",
     "text": [
      "\r",
      "Episode 7|Iteration 4|reward:  228.0|last_reward_at:    3|Elapsed Time: 0:00:00||"
     ]
    },
    {
     "name": "stderr",
     "output_type": "stream",
     "text": [
      "\r",
      "Episode 7|Iteration 4|reward:  228.0|last_reward_at:    4|Elapsed Time: 0:00:00||"
     ]
    },
    {
     "name": "stderr",
     "output_type": "stream",
     "text": [
      "\r",
      "Episode 7|Iteration 5|reward:  242.0|last_reward_at:    4|Elapsed Time: 0:00:00||"
     ]
    },
    {
     "name": "stderr",
     "output_type": "stream",
     "text": [
      "\r",
      "Episode 7|Iteration 5|reward:  242.0|last_reward_at:    5|Elapsed Time: 0:00:00||"
     ]
    },
    {
     "name": "stderr",
     "output_type": "stream",
     "text": [
      "\r",
      "Episode 7|Iteration 6|reward:  342.0|last_reward_at:    5|Elapsed Time: 0:00:00||"
     ]
    },
    {
     "name": "stderr",
     "output_type": "stream",
     "text": [
      "\r",
      "Episode 7|Iteration 6|reward:  342.0|last_reward_at:    6|Elapsed Time: 0:00:00||"
     ]
    },
    {
     "name": "stderr",
     "output_type": "stream",
     "text": [
      "\r",
      "Episode 7|Iteration 7|reward:  356.0|last_reward_at:    6|Elapsed Time: 0:00:00||"
     ]
    },
    {
     "name": "stderr",
     "output_type": "stream",
     "text": [
      "\r",
      "Episode 7|Iteration 7|reward:  356.0|last_reward_at:    7|Elapsed Time: 0:00:00||"
     ]
    },
    {
     "name": "stderr",
     "output_type": "stream",
     "text": [
      "\r",
      "Episode 7|Iteration 8|reward:  456.0|last_reward_at:    7|Elapsed Time: 0:00:00||"
     ]
    },
    {
     "name": "stderr",
     "output_type": "stream",
     "text": [
      "\r",
      "Episode 7|Iteration 8|reward:  456.0|last_reward_at:    8|Elapsed Time: 0:00:00||"
     ]
    },
    {
     "name": "stderr",
     "output_type": "stream",
     "text": [
      "\r",
      "Episode 7|Iteration 9|reward:  470.0|last_reward_at:    8|Elapsed Time: 0:00:00||"
     ]
    },
    {
     "name": "stderr",
     "output_type": "stream",
     "text": [
      "\r",
      "Episode 7|Iteration 9|reward:  470.0|last_reward_at:    9|Elapsed Time: 0:00:00||"
     ]
    },
    {
     "name": "stderr",
     "output_type": "stream",
     "text": [
      "\r",
      "Episode 7|Iteration 10|reward:  570.0|last_reward_at:    9|Elapsed Time: 0:00:00||"
     ]
    },
    {
     "name": "stderr",
     "output_type": "stream",
     "text": [
      "\r",
      "Episode 7|Iteration 10|reward:  570.0|last_reward_at:   10|Elapsed Time: 0:00:00||"
     ]
    },
    {
     "name": "stderr",
     "output_type": "stream",
     "text": [
      "\r",
      "Episode 7|Iteration 11|reward:  584.0|last_reward_at:   10|Elapsed Time: 0:00:00||"
     ]
    },
    {
     "name": "stderr",
     "output_type": "stream",
     "text": [
      "\r",
      "Episode 7|Iteration 11|reward:  584.0|last_reward_at:   11|Elapsed Time: 0:00:00||"
     ]
    },
    {
     "name": "stderr",
     "output_type": "stream",
     "text": [
      "\r",
      "Episode 7|Iteration 12|reward:  684.0|last_reward_at:   11|Elapsed Time: 0:00:00||"
     ]
    },
    {
     "name": "stderr",
     "output_type": "stream",
     "text": [
      "\r",
      "Episode 7|Iteration 12|reward:  684.0|last_reward_at:   12|Elapsed Time: 0:00:00||"
     ]
    },
    {
     "name": "stderr",
     "output_type": "stream",
     "text": [
      "\r",
      "Episode 7|Iteration 13|reward:  698.0|last_reward_at:   12|Elapsed Time: 0:00:00||"
     ]
    },
    {
     "name": "stderr",
     "output_type": "stream",
     "text": [
      "\r",
      "Episode 7|Iteration 13|reward:  698.0|last_reward_at:   13|Elapsed Time: 0:00:00||"
     ]
    },
    {
     "name": "stderr",
     "output_type": "stream",
     "text": [
      "\r",
      "Episode 7|Iteration 15|reward:  798.0|last_reward_at:   13|Elapsed Time: 0:00:00||"
     ]
    },
    {
     "name": "stderr",
     "output_type": "stream",
     "text": [
      "\r",
      "Episode 7|Iteration 15|reward:  798.0|last_reward_at:   15|Elapsed Time: 0:00:00||"
     ]
    },
    {
     "name": "stderr",
     "output_type": "stream",
     "text": [
      "\r",
      "Episode 7|Iteration 16|reward:  812.0|last_reward_at:   15|Elapsed Time: 0:00:00||"
     ]
    },
    {
     "name": "stderr",
     "output_type": "stream",
     "text": [
      "\r",
      "Episode 7|Iteration 16|reward:  812.0|last_reward_at:   16|Elapsed Time: 0:00:00||"
     ]
    },
    {
     "name": "stderr",
     "output_type": "stream",
     "text": [
      "\r",
      "Episode 7|Iteration 17|reward:  912.0|last_reward_at:   16|Elapsed Time: 0:00:00||"
     ]
    },
    {
     "name": "stderr",
     "output_type": "stream",
     "text": [
      "\r",
      "Episode 7|Iteration 17|reward:  912.0|last_reward_at:   17|Elapsed Time: 0:00:00||"
     ]
    },
    {
     "name": "stderr",
     "output_type": "stream",
     "text": [
      "\r",
      "Episode 7|Iteration 18|reward:  926.0|last_reward_at:   17|Elapsed Time: 0:00:00||"
     ]
    },
    {
     "name": "stderr",
     "output_type": "stream",
     "text": [
      "\r",
      "Episode 7|Iteration 18|reward:  926.0|last_reward_at:   18|Elapsed Time: 0:00:00||"
     ]
    },
    {
     "name": "stderr",
     "output_type": "stream",
     "text": [
      "\r",
      "Episode 7|Iteration 19|reward: 1026.0|last_reward_at:   18|Elapsed Time: 0:00:00||"
     ]
    },
    {
     "name": "stderr",
     "output_type": "stream",
     "text": [
      "\r",
      "Episode 7|Iteration 19|reward: 1026.0|last_reward_at:   19|Elapsed Time: 0:00:00||"
     ]
    },
    {
     "name": "stderr",
     "output_type": "stream",
     "text": [
      "\r",
      "Episode 7|Iteration 20|reward: 1040.0|last_reward_at:   19|Elapsed Time: 0:00:00||"
     ]
    },
    {
     "name": "stderr",
     "output_type": "stream",
     "text": [
      "\r",
      "Episode 7|Iteration 20|reward: 1040.0|last_reward_at:   20|Elapsed Time: 0:00:00||"
     ]
    },
    {
     "name": "stderr",
     "output_type": "stream",
     "text": [
      "\r",
      "Episode 7|Iteration 21|reward: 1140.0|last_reward_at:   20|Elapsed Time: 0:00:00||"
     ]
    },
    {
     "name": "stderr",
     "output_type": "stream",
     "text": [
      "\r",
      "Episode 7|Iteration 21|reward: 1140.0|last_reward_at:   21|Elapsed Time: 0:00:00||"
     ]
    },
    {
     "name": "stderr",
     "output_type": "stream",
     "text": [
      "\r",
      "Episode 7|Iteration 22|reward: 1154.0|last_reward_at:   21|Elapsed Time: 0:00:00||"
     ]
    },
    {
     "name": "stderr",
     "output_type": "stream",
     "text": [
      "\r",
      "Episode 7|Iteration 22|reward: 1154.0|last_reward_at:   22|Elapsed Time: 0:00:00||"
     ]
    },
    {
     "name": "stderr",
     "output_type": "stream",
     "text": [
      "\r",
      "Episode 7|Iteration 24|reward: 2154.0|last_reward_at:   22|Elapsed Time: 0:00:00||"
     ]
    },
    {
     "name": "stderr",
     "output_type": "stream",
     "text": [
      "\r",
      "Episode 7|Iteration 24|reward: 2154.0|last_reward_at:   24|Elapsed Time: 0:00:00||"
     ]
    },
    {
     "name": "stderr",
     "output_type": "stream",
     "text": [
      "\r",
      "Episode 7|Iteration 25|reward: 2160.0|last_reward_at:   24|Elapsed Time: 0:00:00||"
     ]
    },
    {
     "name": "stderr",
     "output_type": "stream",
     "text": [
      "\r",
      "Episode 7|Iteration 25|reward: 2160.0|last_reward_at:   25|Elapsed Time: 0:00:00||"
     ]
    },
    {
     "name": "stderr",
     "output_type": "stream",
     "text": [
      "\r",
      "Episode 7|Iteration 26|reward: 2166.0|last_reward_at:   25|Elapsed Time: 0:00:00||"
     ]
    },
    {
     "name": "stderr",
     "output_type": "stream",
     "text": [
      "\r",
      "Episode 7|Iteration 26|reward: 2166.0|last_reward_at:   26|Elapsed Time: 0:00:00||"
     ]
    },
    {
     "name": "stderr",
     "output_type": "stream",
     "text": [
      "\r",
      "Episode 7|Iteration 27|reward: 2172.0|last_reward_at:   26|Elapsed Time: 0:00:00||"
     ]
    },
    {
     "name": "stderr",
     "output_type": "stream",
     "text": [
      "\r",
      "Episode 7|Iteration 27|reward: 2172.0|last_reward_at:   27|Elapsed Time: 0:00:00||"
     ]
    },
    {
     "name": "stderr",
     "output_type": "stream",
     "text": [
      "\r",
      "Episode 7|Iteration 28|reward: 2178.0|last_reward_at:   27|Elapsed Time: 0:00:00||"
     ]
    },
    {
     "name": "stderr",
     "output_type": "stream",
     "text": [
      "\r",
      "Episode 7|Iteration 28|reward: 2178.0|last_reward_at:   28|Elapsed Time: 0:00:00||"
     ]
    },
    {
     "name": "stderr",
     "output_type": "stream",
     "text": [
      "\r",
      "Episode 7|Iteration 31|reward: 7178.0|last_reward_at:   28|Elapsed Time: 0:00:00||"
     ]
    },
    {
     "name": "stderr",
     "output_type": "stream",
     "text": [
      "\r",
      "Episode 7|Iteration 31|reward: 7178.0|last_reward_at:   31|Elapsed Time: 0:00:00||"
     ]
    },
    {
     "name": "stderr",
     "output_type": "stream",
     "text": [
      "\n"
     ]
    },
    {
     "name": "stdout",
     "output_type": "stream",
     "text": [
      "  Episode 7 ended at t=31 \n",
      "  Breakdown [Reward/NoReward (Success rate)]\n",
      "    explore-local: 0/0 (NaN)\n",
      "    explore-remote: 0/0 (NaN)\n",
      "    explore-connect: 0/0 (NaN)\n",
      "    exploit-local: 16/0 (1.00)\n",
      "    exploit-remote: 0/0 (NaN)\n",
      "    exploit-connect: 11/4 (0.73)\n",
      "  exploit deflected to exploration: 0\n",
      "  ## Episode: 8/10 'Exploiting DQL' ϵ=0.0000, γ=0.15, lr=0.01, replaymemory=10000,\n",
      "batch=256, target_update=5\n"
     ]
    },
    {
     "name": "stderr",
     "output_type": "stream",
     "text": [
      "\r",
      "Episode 8|Iteration 0|reward: ------|last_reward_at: ----|Elapsed Time: 0:00:00||"
     ]
    },
    {
     "name": "stderr",
     "output_type": "stream",
     "text": [
      "\r",
      "Episode 8|Iteration 1|reward:   14.0|last_reward_at: ----|Elapsed Time: 0:00:00||"
     ]
    },
    {
     "name": "stderr",
     "output_type": "stream",
     "text": [
      "\r",
      "Episode 8|Iteration 1|reward:   14.0|last_reward_at:    1|Elapsed Time: 0:00:00||"
     ]
    },
    {
     "name": "stderr",
     "output_type": "stream",
     "text": [
      "\r",
      "Episode 8|Iteration 2|reward:  114.0|last_reward_at:    1|Elapsed Time: 0:00:00||"
     ]
    },
    {
     "name": "stderr",
     "output_type": "stream",
     "text": [
      "\r",
      "Episode 8|Iteration 2|reward:  114.0|last_reward_at:    2|Elapsed Time: 0:00:00||"
     ]
    },
    {
     "name": "stderr",
     "output_type": "stream",
     "text": [
      "\r",
      "Episode 8|Iteration 3|reward:  128.0|last_reward_at:    2|Elapsed Time: 0:00:00||"
     ]
    },
    {
     "name": "stderr",
     "output_type": "stream",
     "text": [
      "\r",
      "Episode 8|Iteration 3|reward:  128.0|last_reward_at:    3|Elapsed Time: 0:00:00||"
     ]
    },
    {
     "name": "stderr",
     "output_type": "stream",
     "text": [
      "\r",
      "Episode 8|Iteration 4|reward:  228.0|last_reward_at:    3|Elapsed Time: 0:00:00||"
     ]
    },
    {
     "name": "stderr",
     "output_type": "stream",
     "text": [
      "\r",
      "Episode 8|Iteration 4|reward:  228.0|last_reward_at:    4|Elapsed Time: 0:00:00||"
     ]
    },
    {
     "name": "stderr",
     "output_type": "stream",
     "text": [
      "\r",
      "Episode 8|Iteration 5|reward:  242.0|last_reward_at:    4|Elapsed Time: 0:00:00||"
     ]
    },
    {
     "name": "stderr",
     "output_type": "stream",
     "text": [
      "\r",
      "Episode 8|Iteration 5|reward:  242.0|last_reward_at:    5|Elapsed Time: 0:00:00||"
     ]
    },
    {
     "name": "stderr",
     "output_type": "stream",
     "text": [
      "\r",
      "Episode 8|Iteration 13|reward:  242.0|last_reward_at:    5|Elapsed Time: 0:00:00||"
     ]
    },
    {
     "name": "stderr",
     "output_type": "stream",
     "text": [
      "\r",
      "Episode 8|Iteration 22|reward:  242.0|last_reward_at:    5|Elapsed Time: 0:00:00||"
     ]
    },
    {
     "name": "stderr",
     "output_type": "stream",
     "text": [
      "\r",
      "Episode 8|Iteration 28|reward:  244.0|last_reward_at:    5|Elapsed Time: 0:00:00||"
     ]
    },
    {
     "name": "stderr",
     "output_type": "stream",
     "text": [
      "\r",
      "Episode 8|Iteration 28|reward:  244.0|last_reward_at:   28|Elapsed Time: 0:00:00||"
     ]
    },
    {
     "name": "stderr",
     "output_type": "stream",
     "text": [
      "\r",
      "Episode 8|Iteration 32|reward:  246.0|last_reward_at:   28|Elapsed Time: 0:00:00||"
     ]
    },
    {
     "name": "stderr",
     "output_type": "stream",
     "text": [
      "\r",
      "Episode 8|Iteration 32|reward:  246.0|last_reward_at:   32|Elapsed Time: 0:00:00||"
     ]
    },
    {
     "name": "stderr",
     "output_type": "stream",
     "text": [
      "\r",
      "Episode 8|Iteration 38|reward:  246.0|last_reward_at:   32|Elapsed Time: 0:00:00||"
     ]
    },
    {
     "name": "stderr",
     "output_type": "stream",
     "text": [
      "\r",
      "Episode 8|Iteration 39|reward:  250.0|last_reward_at:   32|Elapsed Time: 0:00:00||"
     ]
    },
    {
     "name": "stderr",
     "output_type": "stream",
     "text": [
      "\r",
      "Episode 8|Iteration 39|reward:  250.0|last_reward_at:   39|Elapsed Time: 0:00:00||"
     ]
    },
    {
     "name": "stderr",
     "output_type": "stream",
     "text": [
      "\r",
      "Episode 8|Iteration 45|reward:  250.0|last_reward_at:   39|Elapsed Time: 0:00:00||"
     ]
    },
    {
     "name": "stderr",
     "output_type": "stream",
     "text": [
      "\r",
      "Episode 8|Iteration 50|reward:  250.0|last_reward_at:   39|Elapsed Time: 0:00:00||"
     ]
    },
    {
     "name": "stderr",
     "output_type": "stream",
     "text": [
      "\r",
      "Episode 8|Iteration 53|reward:  350.0|last_reward_at:   39|Elapsed Time: 0:00:00||"
     ]
    },
    {
     "name": "stderr",
     "output_type": "stream",
     "text": [
      "\r",
      "Episode 8|Iteration 53|reward:  350.0|last_reward_at:   53|Elapsed Time: 0:00:00||"
     ]
    },
    {
     "name": "stderr",
     "output_type": "stream",
     "text": [
      "\r",
      "Episode 8|Iteration 58|reward:  364.0|last_reward_at:   53|Elapsed Time: 0:00:00||"
     ]
    },
    {
     "name": "stderr",
     "output_type": "stream",
     "text": [
      "\r",
      "Episode 8|Iteration 58|reward:  364.0|last_reward_at:   58|Elapsed Time: 0:00:00||"
     ]
    },
    {
     "name": "stderr",
     "output_type": "stream",
     "text": [
      "\r",
      "Episode 8|Iteration 59|reward:  464.0|last_reward_at:   58|Elapsed Time: 0:00:00||"
     ]
    },
    {
     "name": "stderr",
     "output_type": "stream",
     "text": [
      "\r",
      "Episode 8|Iteration 59|reward:  464.0|last_reward_at:   59|Elapsed Time: 0:00:00||"
     ]
    },
    {
     "name": "stderr",
     "output_type": "stream",
     "text": [
      "\r",
      "Episode 8|Iteration 67|reward:  478.0|last_reward_at:   59|Elapsed Time: 0:00:01||"
     ]
    },
    {
     "name": "stderr",
     "output_type": "stream",
     "text": [
      "\r",
      "Episode 8|Iteration 67|reward:  478.0|last_reward_at:   67|Elapsed Time: 0:00:01||"
     ]
    },
    {
     "name": "stderr",
     "output_type": "stream",
     "text": [
      "\r",
      "Episode 8|Iteration 68|reward:  578.0|last_reward_at:   67|Elapsed Time: 0:00:01||"
     ]
    },
    {
     "name": "stderr",
     "output_type": "stream",
     "text": [
      "\r",
      "Episode 8|Iteration 68|reward:  578.0|last_reward_at:   68|Elapsed Time: 0:00:01||"
     ]
    },
    {
     "name": "stderr",
     "output_type": "stream",
     "text": [
      "\r",
      "Episode 8|Iteration 69|reward:  592.0|last_reward_at:   68|Elapsed Time: 0:00:01||"
     ]
    },
    {
     "name": "stderr",
     "output_type": "stream",
     "text": [
      "\r",
      "Episode 8|Iteration 69|reward:  592.0|last_reward_at:   69|Elapsed Time: 0:00:01||"
     ]
    },
    {
     "name": "stderr",
     "output_type": "stream",
     "text": [
      "\r",
      "Episode 8|Iteration 70|reward:  692.0|last_reward_at:   69|Elapsed Time: 0:00:01||"
     ]
    },
    {
     "name": "stderr",
     "output_type": "stream",
     "text": [
      "\r",
      "Episode 8|Iteration 70|reward:  692.0|last_reward_at:   70|Elapsed Time: 0:00:01||"
     ]
    },
    {
     "name": "stderr",
     "output_type": "stream",
     "text": [
      "\r",
      "Episode 8|Iteration 71|reward:  706.0|last_reward_at:   70|Elapsed Time: 0:00:01||"
     ]
    },
    {
     "name": "stderr",
     "output_type": "stream",
     "text": [
      "\r",
      "Episode 8|Iteration 71|reward:  706.0|last_reward_at:   71|Elapsed Time: 0:00:01||"
     ]
    },
    {
     "name": "stderr",
     "output_type": "stream",
     "text": [
      "\r",
      "Episode 8|Iteration 72|reward:  806.0|last_reward_at:   71|Elapsed Time: 0:00:01||"
     ]
    },
    {
     "name": "stderr",
     "output_type": "stream",
     "text": [
      "\r",
      "Episode 8|Iteration 72|reward:  806.0|last_reward_at:   72|Elapsed Time: 0:00:01||"
     ]
    },
    {
     "name": "stderr",
     "output_type": "stream",
     "text": [
      "\r",
      "Episode 8|Iteration 73|reward:  820.0|last_reward_at:   72|Elapsed Time: 0:00:01||"
     ]
    },
    {
     "name": "stderr",
     "output_type": "stream",
     "text": [
      "\r",
      "Episode 8|Iteration 73|reward:  820.0|last_reward_at:   73|Elapsed Time: 0:00:01||"
     ]
    },
    {
     "name": "stderr",
     "output_type": "stream",
     "text": [
      "\r",
      "Episode 8|Iteration 74|reward:  920.0|last_reward_at:   73|Elapsed Time: 0:00:01||"
     ]
    },
    {
     "name": "stderr",
     "output_type": "stream",
     "text": [
      "\r",
      "Episode 8|Iteration 74|reward:  920.0|last_reward_at:   74|Elapsed Time: 0:00:01||"
     ]
    },
    {
     "name": "stderr",
     "output_type": "stream",
     "text": [
      "\r",
      "Episode 8|Iteration 75|reward:  934.0|last_reward_at:   74|Elapsed Time: 0:00:01||"
     ]
    },
    {
     "name": "stderr",
     "output_type": "stream",
     "text": [
      "\r",
      "Episode 8|Iteration 75|reward:  934.0|last_reward_at:   75|Elapsed Time: 0:00:01||"
     ]
    },
    {
     "name": "stderr",
     "output_type": "stream",
     "text": [
      "\r",
      "Episode 8|Iteration 81|reward:  940.0|last_reward_at:   75|Elapsed Time: 0:00:01||"
     ]
    },
    {
     "name": "stderr",
     "output_type": "stream",
     "text": [
      "\r",
      "Episode 8|Iteration 81|reward:  940.0|last_reward_at:   81|Elapsed Time: 0:00:01||"
     ]
    },
    {
     "name": "stderr",
     "output_type": "stream",
     "text": [
      "\r",
      "Episode 8|Iteration 82|reward:  946.0|last_reward_at:   81|Elapsed Time: 0:00:01||"
     ]
    },
    {
     "name": "stderr",
     "output_type": "stream",
     "text": [
      "\r",
      "Episode 8|Iteration 82|reward:  946.0|last_reward_at:   82|Elapsed Time: 0:00:01||"
     ]
    },
    {
     "name": "stderr",
     "output_type": "stream",
     "text": [
      "\r",
      "Episode 8|Iteration 89|reward:  946.0|last_reward_at:   82|Elapsed Time: 0:00:01||"
     ]
    },
    {
     "name": "stderr",
     "output_type": "stream",
     "text": [
      "\r",
      "Episode 8|Iteration 97|reward:  946.0|last_reward_at:   82|Elapsed Time: 0:00:01||"
     ]
    },
    {
     "name": "stderr",
     "output_type": "stream",
     "text": [
      "\r",
      "Episode 8|Iteration 105|reward:  946.0|last_reward_at:   82|Elapsed Time: 0:00:01||"
     ]
    },
    {
     "name": "stderr",
     "output_type": "stream",
     "text": [
      "\r",
      "Episode 8|Iteration 113|reward:  946.0|last_reward_at:   82|Elapsed Time: 0:00:01||"
     ]
    },
    {
     "name": "stderr",
     "output_type": "stream",
     "text": [
      "\r",
      "Episode 8|Iteration 121|reward: 5946.0|last_reward_at:   82|Elapsed Time: 0:00:01||"
     ]
    },
    {
     "name": "stderr",
     "output_type": "stream",
     "text": [
      "\r",
      "Episode 8|Iteration 121|reward: 5946.0|last_reward_at:  121|Elapsed Time: 0:00:01||"
     ]
    },
    {
     "name": "stderr",
     "output_type": "stream",
     "text": [
      "\n"
     ]
    },
    {
     "name": "stdout",
     "output_type": "stream",
     "text": [
      "  Episode 8 ended at t=121 \n",
      "  Breakdown [Reward/NoReward (Success rate)]\n",
      "    explore-local: 0/0 (NaN)\n",
      "    explore-remote: 3/10 (0.23)\n",
      "    explore-connect: 1/11 (0.08)\n",
      "    exploit-local: 11/3 (0.79)\n",
      "    exploit-remote: 0/4 (0.00)\n",
      "    exploit-connect: 8/70 (0.10)\n",
      "  exploit deflected to exploration: 25\n",
      "  ## Episode: 9/10 'Exploiting DQL' ϵ=0.0000, γ=0.15, lr=0.01, replaymemory=10000,\n",
      "batch=256, target_update=5\n"
     ]
    },
    {
     "name": "stderr",
     "output_type": "stream",
     "text": [
      "\r",
      "Episode 9|Iteration 0|reward: ------|last_reward_at: ----|Elapsed Time: 0:00:00||"
     ]
    },
    {
     "name": "stderr",
     "output_type": "stream",
     "text": [
      "\r",
      "Episode 9|Iteration 1|reward:   14.0|last_reward_at: ----|Elapsed Time: 0:00:00||"
     ]
    },
    {
     "name": "stderr",
     "output_type": "stream",
     "text": [
      "\r",
      "Episode 9|Iteration 1|reward:   14.0|last_reward_at:    1|Elapsed Time: 0:00:00||"
     ]
    },
    {
     "name": "stderr",
     "output_type": "stream",
     "text": [
      "\r",
      "Episode 9|Iteration 2|reward:  114.0|last_reward_at:    1|Elapsed Time: 0:00:00||"
     ]
    },
    {
     "name": "stderr",
     "output_type": "stream",
     "text": [
      "\r",
      "Episode 9|Iteration 2|reward:  114.0|last_reward_at:    2|Elapsed Time: 0:00:00||"
     ]
    },
    {
     "name": "stderr",
     "output_type": "stream",
     "text": [
      "\r",
      "Episode 9|Iteration 3|reward:  128.0|last_reward_at:    2|Elapsed Time: 0:00:00||"
     ]
    },
    {
     "name": "stderr",
     "output_type": "stream",
     "text": [
      "\r",
      "Episode 9|Iteration 3|reward:  128.0|last_reward_at:    3|Elapsed Time: 0:00:00||"
     ]
    },
    {
     "name": "stderr",
     "output_type": "stream",
     "text": [
      "\r",
      "Episode 9|Iteration 4|reward:  228.0|last_reward_at:    3|Elapsed Time: 0:00:00||"
     ]
    },
    {
     "name": "stderr",
     "output_type": "stream",
     "text": [
      "\r",
      "Episode 9|Iteration 4|reward:  228.0|last_reward_at:    4|Elapsed Time: 0:00:00||"
     ]
    },
    {
     "name": "stderr",
     "output_type": "stream",
     "text": [
      "\r",
      "Episode 9|Iteration 5|reward:  242.0|last_reward_at:    4|Elapsed Time: 0:00:00||"
     ]
    },
    {
     "name": "stderr",
     "output_type": "stream",
     "text": [
      "\r",
      "Episode 9|Iteration 5|reward:  242.0|last_reward_at:    5|Elapsed Time: 0:00:00||"
     ]
    },
    {
     "name": "stderr",
     "output_type": "stream",
     "text": [
      "\r",
      "Episode 9|Iteration 6|reward:  342.0|last_reward_at:    5|Elapsed Time: 0:00:00||"
     ]
    },
    {
     "name": "stderr",
     "output_type": "stream",
     "text": [
      "\r",
      "Episode 9|Iteration 6|reward:  342.0|last_reward_at:    6|Elapsed Time: 0:00:00||"
     ]
    },
    {
     "name": "stderr",
     "output_type": "stream",
     "text": [
      "\r",
      "Episode 9|Iteration 7|reward:  356.0|last_reward_at:    6|Elapsed Time: 0:00:00||"
     ]
    },
    {
     "name": "stderr",
     "output_type": "stream",
     "text": [
      "\r",
      "Episode 9|Iteration 7|reward:  356.0|last_reward_at:    7|Elapsed Time: 0:00:00||"
     ]
    },
    {
     "name": "stderr",
     "output_type": "stream",
     "text": [
      "\r",
      "Episode 9|Iteration 8|reward:  456.0|last_reward_at:    7|Elapsed Time: 0:00:00||"
     ]
    },
    {
     "name": "stderr",
     "output_type": "stream",
     "text": [
      "\r",
      "Episode 9|Iteration 8|reward:  456.0|last_reward_at:    8|Elapsed Time: 0:00:00||"
     ]
    },
    {
     "name": "stderr",
     "output_type": "stream",
     "text": [
      "\r",
      "Episode 9|Iteration 9|reward:  470.0|last_reward_at:    8|Elapsed Time: 0:00:00||"
     ]
    },
    {
     "name": "stderr",
     "output_type": "stream",
     "text": [
      "\r",
      "Episode 9|Iteration 9|reward:  470.0|last_reward_at:    9|Elapsed Time: 0:00:00||"
     ]
    },
    {
     "name": "stderr",
     "output_type": "stream",
     "text": [
      "\r",
      "Episode 9|Iteration 10|reward:  570.0|last_reward_at:    9|Elapsed Time: 0:00:00||"
     ]
    },
    {
     "name": "stderr",
     "output_type": "stream",
     "text": [
      "\r",
      "Episode 9|Iteration 10|reward:  570.0|last_reward_at:   10|Elapsed Time: 0:00:00||"
     ]
    },
    {
     "name": "stderr",
     "output_type": "stream",
     "text": [
      "\r",
      "Episode 9|Iteration 11|reward:  584.0|last_reward_at:   10|Elapsed Time: 0:00:00||"
     ]
    },
    {
     "name": "stderr",
     "output_type": "stream",
     "text": [
      "\r",
      "Episode 9|Iteration 11|reward:  584.0|last_reward_at:   11|Elapsed Time: 0:00:00||"
     ]
    },
    {
     "name": "stderr",
     "output_type": "stream",
     "text": [
      "\r",
      "Episode 9|Iteration 12|reward:  684.0|last_reward_at:   11|Elapsed Time: 0:00:00||"
     ]
    },
    {
     "name": "stderr",
     "output_type": "stream",
     "text": [
      "\r",
      "Episode 9|Iteration 12|reward:  684.0|last_reward_at:   12|Elapsed Time: 0:00:00||"
     ]
    },
    {
     "name": "stderr",
     "output_type": "stream",
     "text": [
      "\r",
      "Episode 9|Iteration 13|reward:  698.0|last_reward_at:   12|Elapsed Time: 0:00:00||"
     ]
    },
    {
     "name": "stderr",
     "output_type": "stream",
     "text": [
      "\r",
      "Episode 9|Iteration 13|reward:  698.0|last_reward_at:   13|Elapsed Time: 0:00:00||"
     ]
    },
    {
     "name": "stderr",
     "output_type": "stream",
     "text": [
      "\r",
      "Episode 9|Iteration 14|reward:  798.0|last_reward_at:   13|Elapsed Time: 0:00:00||"
     ]
    },
    {
     "name": "stderr",
     "output_type": "stream",
     "text": [
      "\r",
      "Episode 9|Iteration 14|reward:  798.0|last_reward_at:   14|Elapsed Time: 0:00:00||"
     ]
    },
    {
     "name": "stderr",
     "output_type": "stream",
     "text": [
      "\r",
      "Episode 9|Iteration 15|reward:  812.0|last_reward_at:   14|Elapsed Time: 0:00:00||"
     ]
    },
    {
     "name": "stderr",
     "output_type": "stream",
     "text": [
      "\r",
      "Episode 9|Iteration 15|reward:  812.0|last_reward_at:   15|Elapsed Time: 0:00:00||"
     ]
    },
    {
     "name": "stderr",
     "output_type": "stream",
     "text": [
      "\r",
      "Episode 9|Iteration 16|reward:  912.0|last_reward_at:   15|Elapsed Time: 0:00:00||"
     ]
    },
    {
     "name": "stderr",
     "output_type": "stream",
     "text": [
      "\r",
      "Episode 9|Iteration 16|reward:  912.0|last_reward_at:   16|Elapsed Time: 0:00:00||"
     ]
    },
    {
     "name": "stderr",
     "output_type": "stream",
     "text": [
      "\r",
      "Episode 9|Iteration 17|reward:  926.0|last_reward_at:   16|Elapsed Time: 0:00:00||"
     ]
    },
    {
     "name": "stderr",
     "output_type": "stream",
     "text": [
      "\r",
      "Episode 9|Iteration 17|reward:  926.0|last_reward_at:   17|Elapsed Time: 0:00:00||"
     ]
    },
    {
     "name": "stderr",
     "output_type": "stream",
     "text": [
      "\r",
      "Episode 9|Iteration 20|reward: 1026.0|last_reward_at:   17|Elapsed Time: 0:00:00||"
     ]
    },
    {
     "name": "stderr",
     "output_type": "stream",
     "text": [
      "\r",
      "Episode 9|Iteration 20|reward: 1026.0|last_reward_at:   20|Elapsed Time: 0:00:00||"
     ]
    },
    {
     "name": "stderr",
     "output_type": "stream",
     "text": [
      "\r",
      "Episode 9|Iteration 21|reward: 1040.0|last_reward_at:   20|Elapsed Time: 0:00:00||"
     ]
    },
    {
     "name": "stderr",
     "output_type": "stream",
     "text": [
      "\r",
      "Episode 9|Iteration 21|reward: 1040.0|last_reward_at:   21|Elapsed Time: 0:00:00||"
     ]
    },
    {
     "name": "stderr",
     "output_type": "stream",
     "text": [
      "\r",
      "Episode 9|Iteration 22|reward: 1140.0|last_reward_at:   21|Elapsed Time: 0:00:00||"
     ]
    },
    {
     "name": "stderr",
     "output_type": "stream",
     "text": [
      "\r",
      "Episode 9|Iteration 22|reward: 1140.0|last_reward_at:   22|Elapsed Time: 0:00:00||"
     ]
    },
    {
     "name": "stderr",
     "output_type": "stream",
     "text": [
      "\r",
      "Episode 9|Iteration 23|reward: 1154.0|last_reward_at:   22|Elapsed Time: 0:00:00||"
     ]
    },
    {
     "name": "stderr",
     "output_type": "stream",
     "text": [
      "\r",
      "Episode 9|Iteration 23|reward: 1154.0|last_reward_at:   23|Elapsed Time: 0:00:00||"
     ]
    },
    {
     "name": "stderr",
     "output_type": "stream",
     "text": [
      "\r",
      "Episode 9|Iteration 24|reward: 2154.0|last_reward_at:   23|Elapsed Time: 0:00:00||"
     ]
    },
    {
     "name": "stderr",
     "output_type": "stream",
     "text": [
      "\r",
      "Episode 9|Iteration 24|reward: 2154.0|last_reward_at:   24|Elapsed Time: 0:00:00||"
     ]
    },
    {
     "name": "stderr",
     "output_type": "stream",
     "text": [
      "\r",
      "Episode 9|Iteration 25|reward: 2160.0|last_reward_at:   24|Elapsed Time: 0:00:00||"
     ]
    },
    {
     "name": "stderr",
     "output_type": "stream",
     "text": [
      "\r",
      "Episode 9|Iteration 25|reward: 2160.0|last_reward_at:   25|Elapsed Time: 0:00:00||"
     ]
    },
    {
     "name": "stderr",
     "output_type": "stream",
     "text": [
      "\r",
      "Episode 9|Iteration 26|reward: 7160.0|last_reward_at:   25|Elapsed Time: 0:00:00||"
     ]
    },
    {
     "name": "stderr",
     "output_type": "stream",
     "text": [
      "\r",
      "Episode 9|Iteration 26|reward: 7160.0|last_reward_at:   26|Elapsed Time: 0:00:00||"
     ]
    },
    {
     "name": "stderr",
     "output_type": "stream",
     "text": [
      "\n"
     ]
    },
    {
     "name": "stdout",
     "output_type": "stream",
     "text": [
      "  Episode 9 ended at t=26 \n",
      "  Breakdown [Reward/NoReward (Success rate)]\n",
      "    explore-local: 0/0 (NaN)\n",
      "    explore-remote: 0/0 (NaN)\n",
      "    explore-connect: 0/0 (NaN)\n",
      "    exploit-local: 13/0 (1.00)\n",
      "    exploit-remote: 0/0 (NaN)\n",
      "    exploit-connect: 11/2 (0.85)\n",
      "  exploit deflected to exploration: 0\n",
      "  ## Episode: 10/10 'Exploiting DQL' ϵ=0.0000, γ=0.15, lr=0.01, replaymemory=10000,\n",
      "batch=256, target_update=5\n"
     ]
    },
    {
     "name": "stderr",
     "output_type": "stream",
     "text": [
      "\r",
      "Episode 10|Iteration 0|reward: ------|last_reward_at: ----|Elapsed Time: 0:00:00||"
     ]
    },
    {
     "name": "stderr",
     "output_type": "stream",
     "text": [
      "\r",
      "Episode 10|Iteration 1|reward:   14.0|last_reward_at: ----|Elapsed Time: 0:00:00||"
     ]
    },
    {
     "name": "stderr",
     "output_type": "stream",
     "text": [
      "\r",
      "Episode 10|Iteration 1|reward:   14.0|last_reward_at:    1|Elapsed Time: 0:00:00||"
     ]
    },
    {
     "name": "stderr",
     "output_type": "stream",
     "text": [
      "\r",
      "Episode 10|Iteration 2|reward:  114.0|last_reward_at:    1|Elapsed Time: 0:00:00||"
     ]
    },
    {
     "name": "stderr",
     "output_type": "stream",
     "text": [
      "\r",
      "Episode 10|Iteration 2|reward:  114.0|last_reward_at:    2|Elapsed Time: 0:00:00||"
     ]
    },
    {
     "name": "stderr",
     "output_type": "stream",
     "text": [
      "\r",
      "Episode 10|Iteration 3|reward:  128.0|last_reward_at:    2|Elapsed Time: 0:00:00||"
     ]
    },
    {
     "name": "stderr",
     "output_type": "stream",
     "text": [
      "\r",
      "Episode 10|Iteration 3|reward:  128.0|last_reward_at:    3|Elapsed Time: 0:00:00||"
     ]
    },
    {
     "name": "stderr",
     "output_type": "stream",
     "text": [
      "\r",
      "Episode 10|Iteration 4|reward:  228.0|last_reward_at:    3|Elapsed Time: 0:00:00||"
     ]
    },
    {
     "name": "stderr",
     "output_type": "stream",
     "text": [
      "\r",
      "Episode 10|Iteration 4|reward:  228.0|last_reward_at:    4|Elapsed Time: 0:00:00||"
     ]
    },
    {
     "name": "stderr",
     "output_type": "stream",
     "text": [
      "\r",
      "Episode 10|Iteration 5|reward:  242.0|last_reward_at:    4|Elapsed Time: 0:00:00||"
     ]
    },
    {
     "name": "stderr",
     "output_type": "stream",
     "text": [
      "\r",
      "Episode 10|Iteration 5|reward:  242.0|last_reward_at:    5|Elapsed Time: 0:00:00||"
     ]
    },
    {
     "name": "stderr",
     "output_type": "stream",
     "text": [
      "\r",
      "Episode 10|Iteration 6|reward:  342.0|last_reward_at:    5|Elapsed Time: 0:00:00||"
     ]
    },
    {
     "name": "stderr",
     "output_type": "stream",
     "text": [
      "\r",
      "Episode 10|Iteration 6|reward:  342.0|last_reward_at:    6|Elapsed Time: 0:00:00||"
     ]
    },
    {
     "name": "stderr",
     "output_type": "stream",
     "text": [
      "\r",
      "Episode 10|Iteration 7|reward:  356.0|last_reward_at:    6|Elapsed Time: 0:00:00||"
     ]
    },
    {
     "name": "stderr",
     "output_type": "stream",
     "text": [
      "\r",
      "Episode 10|Iteration 7|reward:  356.0|last_reward_at:    7|Elapsed Time: 0:00:00||"
     ]
    },
    {
     "name": "stderr",
     "output_type": "stream",
     "text": [
      "\r",
      "Episode 10|Iteration 8|reward:  456.0|last_reward_at:    7|Elapsed Time: 0:00:00||"
     ]
    },
    {
     "name": "stderr",
     "output_type": "stream",
     "text": [
      "\r",
      "Episode 10|Iteration 8|reward:  456.0|last_reward_at:    8|Elapsed Time: 0:00:00||"
     ]
    },
    {
     "name": "stderr",
     "output_type": "stream",
     "text": [
      "\r",
      "Episode 10|Iteration 9|reward:  470.0|last_reward_at:    8|Elapsed Time: 0:00:00||"
     ]
    },
    {
     "name": "stderr",
     "output_type": "stream",
     "text": [
      "\r",
      "Episode 10|Iteration 9|reward:  470.0|last_reward_at:    9|Elapsed Time: 0:00:00||"
     ]
    },
    {
     "name": "stderr",
     "output_type": "stream",
     "text": [
      "\r",
      "Episode 10|Iteration 10|reward:  570.0|last_reward_at:    9|Elapsed Time: 0:00:00||"
     ]
    },
    {
     "name": "stderr",
     "output_type": "stream",
     "text": [
      "\r",
      "Episode 10|Iteration 10|reward:  570.0|last_reward_at:   10|Elapsed Time: 0:00:00||"
     ]
    },
    {
     "name": "stderr",
     "output_type": "stream",
     "text": [
      "\r",
      "Episode 10|Iteration 11|reward:  584.0|last_reward_at:   10|Elapsed Time: 0:00:00||"
     ]
    },
    {
     "name": "stderr",
     "output_type": "stream",
     "text": [
      "\r",
      "Episode 10|Iteration 11|reward:  584.0|last_reward_at:   11|Elapsed Time: 0:00:00||"
     ]
    },
    {
     "name": "stderr",
     "output_type": "stream",
     "text": [
      "\r",
      "Episode 10|Iteration 12|reward:  684.0|last_reward_at:   11|Elapsed Time: 0:00:00||"
     ]
    },
    {
     "name": "stderr",
     "output_type": "stream",
     "text": [
      "\r",
      "Episode 10|Iteration 12|reward:  684.0|last_reward_at:   12|Elapsed Time: 0:00:00||"
     ]
    },
    {
     "name": "stderr",
     "output_type": "stream",
     "text": [
      "\r",
      "Episode 10|Iteration 13|reward:  698.0|last_reward_at:   12|Elapsed Time: 0:00:00||"
     ]
    },
    {
     "name": "stderr",
     "output_type": "stream",
     "text": [
      "\r",
      "Episode 10|Iteration 13|reward:  698.0|last_reward_at:   13|Elapsed Time: 0:00:00||"
     ]
    },
    {
     "name": "stderr",
     "output_type": "stream",
     "text": [
      "\r",
      "Episode 10|Iteration 14|reward:  798.0|last_reward_at:   13|Elapsed Time: 0:00:00||"
     ]
    },
    {
     "name": "stderr",
     "output_type": "stream",
     "text": [
      "\r",
      "Episode 10|Iteration 14|reward:  798.0|last_reward_at:   14|Elapsed Time: 0:00:00||"
     ]
    },
    {
     "name": "stderr",
     "output_type": "stream",
     "text": [
      "\r",
      "Episode 10|Iteration 15|reward:  812.0|last_reward_at:   14|Elapsed Time: 0:00:00||"
     ]
    },
    {
     "name": "stderr",
     "output_type": "stream",
     "text": [
      "\r",
      "Episode 10|Iteration 15|reward:  812.0|last_reward_at:   15|Elapsed Time: 0:00:00||"
     ]
    },
    {
     "name": "stderr",
     "output_type": "stream",
     "text": [
      "\r",
      "Episode 10|Iteration 16|reward:  912.0|last_reward_at:   15|Elapsed Time: 0:00:00||"
     ]
    },
    {
     "name": "stderr",
     "output_type": "stream",
     "text": [
      "\r",
      "Episode 10|Iteration 16|reward:  912.0|last_reward_at:   16|Elapsed Time: 0:00:00||"
     ]
    },
    {
     "name": "stderr",
     "output_type": "stream",
     "text": [
      "\r",
      "Episode 10|Iteration 17|reward:  926.0|last_reward_at:   16|Elapsed Time: 0:00:00||"
     ]
    },
    {
     "name": "stderr",
     "output_type": "stream",
     "text": [
      "\r",
      "Episode 10|Iteration 17|reward:  926.0|last_reward_at:   17|Elapsed Time: 0:00:00||"
     ]
    },
    {
     "name": "stderr",
     "output_type": "stream",
     "text": [
      "\r",
      "Episode 10|Iteration 18|reward: 1026.0|last_reward_at:   17|Elapsed Time: 0:00:00||"
     ]
    },
    {
     "name": "stderr",
     "output_type": "stream",
     "text": [
      "\r",
      "Episode 10|Iteration 18|reward: 1026.0|last_reward_at:   18|Elapsed Time: 0:00:00||"
     ]
    },
    {
     "name": "stderr",
     "output_type": "stream",
     "text": [
      "\r",
      "Episode 10|Iteration 19|reward: 1040.0|last_reward_at:   18|Elapsed Time: 0:00:00||"
     ]
    },
    {
     "name": "stderr",
     "output_type": "stream",
     "text": [
      "\r",
      "Episode 10|Iteration 19|reward: 1040.0|last_reward_at:   19|Elapsed Time: 0:00:00||"
     ]
    },
    {
     "name": "stderr",
     "output_type": "stream",
     "text": [
      "\r",
      "Episode 10|Iteration 20|reward: 1140.0|last_reward_at:   19|Elapsed Time: 0:00:00||"
     ]
    },
    {
     "name": "stderr",
     "output_type": "stream",
     "text": [
      "\r",
      "Episode 10|Iteration 20|reward: 1140.0|last_reward_at:   20|Elapsed Time: 0:00:00||"
     ]
    },
    {
     "name": "stderr",
     "output_type": "stream",
     "text": [
      "\r",
      "Episode 10|Iteration 21|reward: 1154.0|last_reward_at:   20|Elapsed Time: 0:00:00||"
     ]
    },
    {
     "name": "stderr",
     "output_type": "stream",
     "text": [
      "\r",
      "Episode 10|Iteration 21|reward: 1154.0|last_reward_at:   21|Elapsed Time: 0:00:00||"
     ]
    },
    {
     "name": "stderr",
     "output_type": "stream",
     "text": [
      "\r",
      "Episode 10|Iteration 25|reward: 1160.0|last_reward_at:   21|Elapsed Time: 0:00:00||"
     ]
    },
    {
     "name": "stderr",
     "output_type": "stream",
     "text": [
      "\r",
      "Episode 10|Iteration 25|reward: 1160.0|last_reward_at:   25|Elapsed Time: 0:00:00||"
     ]
    },
    {
     "name": "stderr",
     "output_type": "stream",
     "text": [
      "\r",
      "Episode 10|Iteration 26|reward: 6160.0|last_reward_at:   25|Elapsed Time: 0:00:00||"
     ]
    },
    {
     "name": "stderr",
     "output_type": "stream",
     "text": [
      "\r",
      "Episode 10|Iteration 26|reward: 6160.0|last_reward_at:   26|Elapsed Time: 0:00:00||"
     ]
    },
    {
     "name": "stderr",
     "output_type": "stream",
     "text": [
      "\n"
     ]
    },
    {
     "name": "stdout",
     "output_type": "stream",
     "text": [
      "  Episode 10 ended at t=26 \n",
      "  Breakdown [Reward/NoReward (Success rate)]\n",
      "    explore-local: 0/0 (NaN)\n",
      "    explore-remote: 0/0 (NaN)\n",
      "    explore-connect: 0/0 (NaN)\n",
      "    exploit-local: 13/0 (1.00)\n",
      "    exploit-remote: 0/0 (NaN)\n",
      "    exploit-connect: 10/3 (0.77)\n",
      "  exploit deflected to exploration: 0\n",
      "simulation ended\n"
     ]
    },
    {
     "data": {
      "image/png": "[encoded data removed]",
      "text/plain": [
       "<Figure size 640x480 with 1 Axes>"
      ]
     },
     "metadata": {},
     "output_type": "display_data"
    }
   ],
   "source": [
    "dql_exploit_run = learner.epsilon_greedy_search(\n",
    "    cyberbattlechain_defender,\n",
    "    ep,\n",
    "    learner=dqn_with_defender[\"learner\"],\n",
    "    episode_count=training_episode_count,\n",
    "    iteration_count=iteration_count,\n",
    "    epsilon=0.0,  # 0.35,\n",
    "    render=False,\n",
    "    # render_last_episode_rewards_to='images/chain10',\n",
    "    verbosity=Verbosity.Quiet,\n",
    "    title=\"Exploiting DQL\",\n",
    ")"
   ]
  },
  {
   "cell_type": "code",
   "execution_count": 8,
   "id": "32dddb24",
   "metadata": {
    "execution": {
     "iopub.execute_input": "2024-08-08T07:07:54.548462Z",
     "iopub.status.busy": "2024-08-08T07:07:54.547754Z",
     "iopub.status.idle": "2024-08-08T07:07:59.455141Z",
     "shell.execute_reply": "2024-08-08T07:07:59.454226Z"
    },
    "lines_to_next_cell": 2,
    "papermill": {
     "duration": 4.966093,
     "end_time": "2024-08-08T07:07:59.456618",
     "exception": false,
     "start_time": "2024-08-08T07:07:54.490525",
     "status": "completed"
    },
    "tags": []
   },
   "outputs": [
    {
     "name": "stdout",
     "output_type": "stream",
     "text": [
      "###### Credential lookups (ϵ-greedy)\n",
      "Learning with: episode_count=10,iteration_count=600,ϵ=0.9,ϵ_min=0.1, ϵ_expdecay=10000,\n",
      "  ## Episode: 1/10 'Credential lookups (ϵ-greedy)' ϵ=0.9000, \n"
     ]
    },
    {
     "name": "stderr",
     "output_type": "stream",
     "text": [
      "\r",
      "Episode 1|Iteration 0|reward: ------|last_reward_at: ----|Elapsed Time: 0:00:00||"
     ]
    },
    {
     "name": "stderr",
     "output_type": "stream",
     "text": [
      "\r",
      "Episode 1|Iteration 1|reward:   14.0|last_reward_at: ----|Elapsed Time: 0:00:00||"
     ]
    },
    {
     "name": "stderr",
     "output_type": "stream",
     "text": [
      "\r",
      "Episode 1|Iteration 1|reward:   14.0|last_reward_at:    1|Elapsed Time: 0:00:00||"
     ]
    },
    {
     "name": "stderr",
     "output_type": "stream",
     "text": [
      "\r",
      "Episode 1|Iteration 2|reward:   16.0|last_reward_at:    1|Elapsed Time: 0:00:00||"
     ]
    },
    {
     "name": "stderr",
     "output_type": "stream",
     "text": [
      "\r",
      "Episode 1|Iteration 2|reward:   16.0|last_reward_at:    2|Elapsed Time: 0:00:00||"
     ]
    },
    {
     "name": "stderr",
     "output_type": "stream",
     "text": [
      "\r",
      "Episode 1|Iteration 4|reward:  116.0|last_reward_at:    2|Elapsed Time: 0:00:00||"
     ]
    },
    {
     "name": "stderr",
     "output_type": "stream",
     "text": [
      "\r",
      "Episode 1|Iteration 4|reward:  116.0|last_reward_at:    4|Elapsed Time: 0:00:00||"
     ]
    },
    {
     "name": "stderr",
     "output_type": "stream",
     "text": [
      "\r",
      "Episode 1|Iteration 6|reward:  130.0|last_reward_at:    4|Elapsed Time: 0:00:00||"
     ]
    },
    {
     "name": "stderr",
     "output_type": "stream",
     "text": [
      "\r",
      "Episode 1|Iteration 6|reward:  130.0|last_reward_at:    6|Elapsed Time: 0:00:00||"
     ]
    },
    {
     "name": "stderr",
     "output_type": "stream",
     "text": [
      "\r",
      "Episode 1|Iteration 11|reward:  138.0|last_reward_at:    6|Elapsed Time: 0:00:00||"
     ]
    },
    {
     "name": "stderr",
     "output_type": "stream",
     "text": [
      "\r",
      "Episode 1|Iteration 11|reward:  138.0|last_reward_at:   11|Elapsed Time: 0:00:00||"
     ]
    },
    {
     "name": "stderr",
     "output_type": "stream",
     "text": [
      "\r",
      "Episode 1|Iteration 14|reward:  238.0|last_reward_at:   11|Elapsed Time: 0:00:00||"
     ]
    },
    {
     "name": "stderr",
     "output_type": "stream",
     "text": [
      "\r",
      "Episode 1|Iteration 14|reward:  238.0|last_reward_at:   14|Elapsed Time: 0:00:00||"
     ]
    },
    {
     "name": "stderr",
     "output_type": "stream",
     "text": [
      "\r",
      "Episode 1|Iteration 15|reward:  244.0|last_reward_at:   14|Elapsed Time: 0:00:00||"
     ]
    },
    {
     "name": "stderr",
     "output_type": "stream",
     "text": [
      "\r",
      "Episode 1|Iteration 15|reward:  244.0|last_reward_at:   15|Elapsed Time: 0:00:00||"
     ]
    },
    {
     "name": "stderr",
     "output_type": "stream",
     "text": [
      "\r",
      "Episode 1|Iteration 16|reward:  255.0|last_reward_at:   15|Elapsed Time: 0:00:00||"
     ]
    },
    {
     "name": "stderr",
     "output_type": "stream",
     "text": [
      "\r",
      "Episode 1|Iteration 16|reward:  255.0|last_reward_at:   16|Elapsed Time: 0:00:00||"
     ]
    },
    {
     "name": "stderr",
     "output_type": "stream",
     "text": [
      "\r",
      "Episode 1|Iteration 21|reward:  259.0|last_reward_at:   16|Elapsed Time: 0:00:00||"
     ]
    },
    {
     "name": "stderr",
     "output_type": "stream",
     "text": [
      "\r",
      "Episode 1|Iteration 21|reward:  259.0|last_reward_at:   21|Elapsed Time: 0:00:00||"
     ]
    },
    {
     "name": "stderr",
     "output_type": "stream",
     "text": [
      "\r",
      "Episode 1|Iteration 28|reward:  261.0|last_reward_at:   21|Elapsed Time: 0:00:00||"
     ]
    },
    {
     "name": "stderr",
     "output_type": "stream",
     "text": [
      "\r",
      "Episode 1|Iteration 28|reward:  261.0|last_reward_at:   28|Elapsed Time: 0:00:00||"
     ]
    },
    {
     "name": "stderr",
     "output_type": "stream",
     "text": [
      "\r",
      "Episode 1|Iteration 29|reward:  263.0|last_reward_at:   28|Elapsed Time: 0:00:00||"
     ]
    },
    {
     "name": "stderr",
     "output_type": "stream",
     "text": [
      "\r",
      "Episode 1|Iteration 29|reward:  263.0|last_reward_at:   29|Elapsed Time: 0:00:00||"
     ]
    },
    {
     "name": "stderr",
     "output_type": "stream",
     "text": [
      "\r",
      "Episode 1|Iteration 56|reward:  272.0|last_reward_at:   29|Elapsed Time: 0:00:00||"
     ]
    },
    {
     "name": "stderr",
     "output_type": "stream",
     "text": [
      "\r",
      "Episode 1|Iteration 56|reward:  272.0|last_reward_at:   56|Elapsed Time: 0:00:00||"
     ]
    },
    {
     "name": "stderr",
     "output_type": "stream",
     "text": [
      "\r",
      "Episode 1|Iteration 64|reward:  372.0|last_reward_at:   56|Elapsed Time: 0:00:00||"
     ]
    },
    {
     "name": "stderr",
     "output_type": "stream",
     "text": [
      "\r",
      "Episode 1|Iteration 64|reward:  372.0|last_reward_at:   64|Elapsed Time: 0:00:00||"
     ]
    },
    {
     "name": "stderr",
     "output_type": "stream",
     "text": [
      "\r",
      "Episode 1|Iteration 82|reward:  383.0|last_reward_at:   64|Elapsed Time: 0:00:00||"
     ]
    },
    {
     "name": "stderr",
     "output_type": "stream",
     "text": [
      "\r",
      "Episode 1|Iteration 82|reward:  383.0|last_reward_at:   82|Elapsed Time: 0:00:00||"
     ]
    },
    {
     "name": "stderr",
     "output_type": "stream",
     "text": [
      "\r",
      "Episode 1|Iteration 107|reward:  391.0|last_reward_at:   82|Elapsed Time: 0:00:00||"
     ]
    },
    {
     "name": "stderr",
     "output_type": "stream",
     "text": [
      "\r",
      "Episode 1|Iteration 107|reward:  391.0|last_reward_at:  107|Elapsed Time: 0:00:00||"
     ]
    },
    {
     "name": "stderr",
     "output_type": "stream",
     "text": [
      "\r",
      "Episode 1|Iteration 119|reward:  397.0|last_reward_at:  107|Elapsed Time: 0:00:00||"
     ]
    },
    {
     "name": "stderr",
     "output_type": "stream",
     "text": [
      "\r",
      "Episode 1|Iteration 119|reward:  397.0|last_reward_at:  119|Elapsed Time: 0:00:00||"
     ]
    },
    {
     "name": "stderr",
     "output_type": "stream",
     "text": [
      "\r",
      "Episode 1|Iteration 121|reward: 5397.0|last_reward_at:  119|Elapsed Time: 0:00:00||"
     ]
    },
    {
     "name": "stderr",
     "output_type": "stream",
     "text": [
      "\r",
      "Episode 1|Iteration 121|reward: 5397.0|last_reward_at:  121|Elapsed Time: 0:00:00||"
     ]
    },
    {
     "name": "stderr",
     "output_type": "stream",
     "text": [
      "\n"
     ]
    },
    {
     "name": "stdout",
     "output_type": "stream",
     "text": [
      "  Episode 1 ended at t=121 \n",
      "  Breakdown [Reward/NoReward (Success rate)]\n",
      "    explore-local: 6/37 (0.14)\n",
      "    explore-remote: 8/66 (0.11)\n",
      "    explore-connect: 0/0 (NaN)\n",
      "    exploit-local: 0/0 (NaN)\n",
      "    exploit-remote: 0/0 (NaN)\n",
      "    exploit-connect: 3/1 (0.75)\n",
      "  exploit deflected to exploration: 14\n",
      "  ## Episode: 2/10 'Credential lookups (ϵ-greedy)' ϵ=0.8905, \n"
     ]
    },
    {
     "name": "stderr",
     "output_type": "stream",
     "text": [
      "\r",
      "Episode 2|Iteration 0|reward: ------|last_reward_at: ----|Elapsed Time: 0:00:00||"
     ]
    },
    {
     "name": "stderr",
     "output_type": "stream",
     "text": [
      "\r",
      "Episode 2|Iteration 1|reward:   14.0|last_reward_at: ----|Elapsed Time: 0:00:00||"
     ]
    },
    {
     "name": "stderr",
     "output_type": "stream",
     "text": [
      "\r",
      "Episode 2|Iteration 1|reward:   14.0|last_reward_at:    1|Elapsed Time: 0:00:00||"
     ]
    },
    {
     "name": "stderr",
     "output_type": "stream",
     "text": [
      "\r",
      "Episode 2|Iteration 7|reward:   16.0|last_reward_at:    1|Elapsed Time: 0:00:00||"
     ]
    },
    {
     "name": "stderr",
     "output_type": "stream",
     "text": [
      "\r",
      "Episode 2|Iteration 7|reward:   16.0|last_reward_at:    7|Elapsed Time: 0:00:00||"
     ]
    },
    {
     "name": "stderr",
     "output_type": "stream",
     "text": [
      "\r",
      "Episode 2|Iteration 9|reward:   20.0|last_reward_at:    7|Elapsed Time: 0:00:00||"
     ]
    },
    {
     "name": "stderr",
     "output_type": "stream",
     "text": [
      "\r",
      "Episode 2|Iteration 9|reward:   20.0|last_reward_at:    9|Elapsed Time: 0:00:00||"
     ]
    },
    {
     "name": "stderr",
     "output_type": "stream",
     "text": [
      "\r",
      "Episode 2|Iteration 14|reward:  120.0|last_reward_at:    9|Elapsed Time: 0:00:00||"
     ]
    },
    {
     "name": "stderr",
     "output_type": "stream",
     "text": [
      "\r",
      "Episode 2|Iteration 14|reward:  120.0|last_reward_at:   14|Elapsed Time: 0:00:00||"
     ]
    },
    {
     "name": "stderr",
     "output_type": "stream",
     "text": [
      "\r",
      "Episode 2|Iteration 22|reward:  131.0|last_reward_at:   14|Elapsed Time: 0:00:00||"
     ]
    },
    {
     "name": "stderr",
     "output_type": "stream",
     "text": [
      "\r",
      "Episode 2|Iteration 22|reward:  131.0|last_reward_at:   22|Elapsed Time: 0:00:00||"
     ]
    },
    {
     "name": "stderr",
     "output_type": "stream",
     "text": [
      "\r",
      "Episode 2|Iteration 23|reward:  139.0|last_reward_at:   22|Elapsed Time: 0:00:00||"
     ]
    },
    {
     "name": "stderr",
     "output_type": "stream",
     "text": [
      "\r",
      "Episode 2|Iteration 23|reward:  139.0|last_reward_at:   23|Elapsed Time: 0:00:00||"
     ]
    },
    {
     "name": "stderr",
     "output_type": "stream",
     "text": [
      "\r",
      "Episode 2|Iteration 27|reward:  148.0|last_reward_at:   23|Elapsed Time: 0:00:00||"
     ]
    },
    {
     "name": "stderr",
     "output_type": "stream",
     "text": [
      "\r",
      "Episode 2|Iteration 27|reward:  148.0|last_reward_at:   27|Elapsed Time: 0:00:00||"
     ]
    },
    {
     "name": "stderr",
     "output_type": "stream",
     "text": [
      "\r",
      "Episode 2|Iteration 28|reward:  248.0|last_reward_at:   27|Elapsed Time: 0:00:00||"
     ]
    },
    {
     "name": "stderr",
     "output_type": "stream",
     "text": [
      "\r",
      "Episode 2|Iteration 28|reward:  248.0|last_reward_at:   28|Elapsed Time: 0:00:00||"
     ]
    },
    {
     "name": "stderr",
     "output_type": "stream",
     "text": [
      "\r",
      "Episode 2|Iteration 40|reward:  254.0|last_reward_at:   28|Elapsed Time: 0:00:00||"
     ]
    },
    {
     "name": "stderr",
     "output_type": "stream",
     "text": [
      "\r",
      "Episode 2|Iteration 40|reward:  254.0|last_reward_at:   40|Elapsed Time: 0:00:00||"
     ]
    },
    {
     "name": "stderr",
     "output_type": "stream",
     "text": [
      "\r",
      "Episode 2|Iteration 45|reward:  268.0|last_reward_at:   40|Elapsed Time: 0:00:00||"
     ]
    },
    {
     "name": "stderr",
     "output_type": "stream",
     "text": [
      "\r",
      "Episode 2|Iteration 45|reward:  268.0|last_reward_at:   45|Elapsed Time: 0:00:00||"
     ]
    },
    {
     "name": "stderr",
     "output_type": "stream",
     "text": [
      "\r",
      "Episode 2|Iteration 46|reward:  368.0|last_reward_at:   45|Elapsed Time: 0:00:00||"
     ]
    },
    {
     "name": "stderr",
     "output_type": "stream",
     "text": [
      "\r",
      "Episode 2|Iteration 46|reward:  368.0|last_reward_at:   46|Elapsed Time: 0:00:00||"
     ]
    },
    {
     "name": "stderr",
     "output_type": "stream",
     "text": [
      "\r",
      "Episode 2|Iteration 48|reward:  370.0|last_reward_at:   46|Elapsed Time: 0:00:00||"
     ]
    },
    {
     "name": "stderr",
     "output_type": "stream",
     "text": [
      "\r",
      "Episode 2|Iteration 48|reward:  370.0|last_reward_at:   48|Elapsed Time: 0:00:00||"
     ]
    },
    {
     "name": "stderr",
     "output_type": "stream",
     "text": [
      "\r",
      "Episode 2|Iteration 65|reward:  372.0|last_reward_at:   48|Elapsed Time: 0:00:00||"
     ]
    },
    {
     "name": "stderr",
     "output_type": "stream",
     "text": [
      "\r",
      "Episode 2|Iteration 65|reward:  372.0|last_reward_at:   65|Elapsed Time: 0:00:00||"
     ]
    },
    {
     "name": "stderr",
     "output_type": "stream",
     "text": [
      "\r",
      "Episode 2|Iteration 69|reward:  378.0|last_reward_at:   65|Elapsed Time: 0:00:00||"
     ]
    },
    {
     "name": "stderr",
     "output_type": "stream",
     "text": [
      "\r",
      "Episode 2|Iteration 69|reward:  378.0|last_reward_at:   69|Elapsed Time: 0:00:00||"
     ]
    },
    {
     "name": "stderr",
     "output_type": "stream",
     "text": [
      "\r",
      "Episode 2|Iteration 74|reward:  389.0|last_reward_at:   69|Elapsed Time: 0:00:00||"
     ]
    },
    {
     "name": "stderr",
     "output_type": "stream",
     "text": [
      "\r",
      "Episode 2|Iteration 74|reward:  389.0|last_reward_at:   74|Elapsed Time: 0:00:00||"
     ]
    },
    {
     "name": "stderr",
     "output_type": "stream",
     "text": [
      "\r",
      "Episode 2|Iteration 77|reward:  395.0|last_reward_at:   74|Elapsed Time: 0:00:00||"
     ]
    },
    {
     "name": "stderr",
     "output_type": "stream",
     "text": [
      "\r",
      "Episode 2|Iteration 77|reward:  395.0|last_reward_at:   77|Elapsed Time: 0:00:00||"
     ]
    },
    {
     "name": "stderr",
     "output_type": "stream",
     "text": [
      "\r",
      "Episode 2|Iteration 84|reward:  403.0|last_reward_at:   77|Elapsed Time: 0:00:00||"
     ]
    },
    {
     "name": "stderr",
     "output_type": "stream",
     "text": [
      "\r",
      "Episode 2|Iteration 84|reward:  403.0|last_reward_at:   84|Elapsed Time: 0:00:00||"
     ]
    },
    {
     "name": "stderr",
     "output_type": "stream",
     "text": [
      "\r",
      "Episode 2|Iteration 122|reward:  403.0|last_reward_at:   84|Elapsed Time: 0:00:00||"
     ]
    },
    {
     "name": "stderr",
     "output_type": "stream",
     "text": [
      "\r",
      "Episode 2|Iteration 160|reward:  403.0|last_reward_at:   84|Elapsed Time: 0:00:00||"
     ]
    },
    {
     "name": "stderr",
     "output_type": "stream",
     "text": [
      "\r",
      "Episode 2|Iteration 198|reward:  403.0|last_reward_at:   84|Elapsed Time: 0:00:00||"
     ]
    },
    {
     "name": "stderr",
     "output_type": "stream",
     "text": [
      "\r",
      "Episode 2|Iteration 202|reward:  412.0|last_reward_at:   84|Elapsed Time: 0:00:00||"
     ]
    },
    {
     "name": "stderr",
     "output_type": "stream",
     "text": [
      "\r",
      "Episode 2|Iteration 202|reward:  412.0|last_reward_at:  202|Elapsed Time: 0:00:00||"
     ]
    },
    {
     "name": "stderr",
     "output_type": "stream",
     "text": [
      "\r",
      "Episode 2|Iteration 213|reward:  512.0|last_reward_at:  202|Elapsed Time: 0:00:00||"
     ]
    },
    {
     "name": "stderr",
     "output_type": "stream",
     "text": [
      "\r",
      "Episode 2|Iteration 213|reward:  512.0|last_reward_at:  213|Elapsed Time: 0:00:00||"
     ]
    },
    {
     "name": "stderr",
     "output_type": "stream",
     "text": [
      "\r",
      "Episode 2|Iteration 251|reward:  512.0|last_reward_at:  213|Elapsed Time: 0:00:00||"
     ]
    },
    {
     "name": "stderr",
     "output_type": "stream",
     "text": [
      "\r",
      "Episode 2|Iteration 272|reward:  526.0|last_reward_at:  213|Elapsed Time: 0:00:00||"
     ]
    },
    {
     "name": "stderr",
     "output_type": "stream",
     "text": [
      "\r",
      "Episode 2|Iteration 272|reward:  526.0|last_reward_at:  272|Elapsed Time: 0:00:00||"
     ]
    },
    {
     "name": "stderr",
     "output_type": "stream",
     "text": [
      "\r",
      "Episode 2|Iteration 280|reward:  626.0|last_reward_at:  272|Elapsed Time: 0:00:00||"
     ]
    },
    {
     "name": "stderr",
     "output_type": "stream",
     "text": [
      "\r",
      "Episode 2|Iteration 280|reward:  626.0|last_reward_at:  280|Elapsed Time: 0:00:00||"
     ]
    },
    {
     "name": "stderr",
     "output_type": "stream",
     "text": [
      "\r",
      "Episode 2|Iteration 283|reward:  628.0|last_reward_at:  280|Elapsed Time: 0:00:00||"
     ]
    },
    {
     "name": "stderr",
     "output_type": "stream",
     "text": [
      "\r",
      "Episode 2|Iteration 283|reward:  628.0|last_reward_at:  283|Elapsed Time: 0:00:00||"
     ]
    },
    {
     "name": "stderr",
     "output_type": "stream",
     "text": [
      "\r",
      "Episode 2|Iteration 316|reward: 5628.0|last_reward_at:  283|Elapsed Time: 0:00:00||"
     ]
    },
    {
     "name": "stderr",
     "output_type": "stream",
     "text": [
      "\r",
      "Episode 2|Iteration 316|reward: 5628.0|last_reward_at:  316|Elapsed Time: 0:00:00||"
     ]
    },
    {
     "name": "stderr",
     "output_type": "stream",
     "text": [
      "\n"
     ]
    },
    {
     "name": "stdout",
     "output_type": "stream",
     "text": [
      "  Episode 2 ended at t=316 \n",
      "  Breakdown [Reward/NoReward (Success rate)]\n",
      "    explore-local: 8/105 (0.07)\n",
      "    explore-remote: 9/163 (0.05)\n",
      "    explore-connect: 0/0 (NaN)\n",
      "    exploit-local: 0/0 (NaN)\n",
      "    exploit-remote: 0/0 (NaN)\n",
      "    exploit-connect: 6/25 (0.19)\n",
      "  exploit deflected to exploration: 12\n",
      "  ## Episode: 3/10 'Credential lookups (ϵ-greedy)' ϵ=0.8659, \n"
     ]
    },
    {
     "name": "stderr",
     "output_type": "stream",
     "text": [
      "\r",
      "Episode 3|Iteration 0|reward: ------|last_reward_at: ----|Elapsed Time: 0:00:00||"
     ]
    },
    {
     "name": "stderr",
     "output_type": "stream",
     "text": [
      "\r",
      "Episode 3|Iteration 1|reward:    0.0|last_reward_at: ----|Elapsed Time: 0:00:00||"
     ]
    },
    {
     "name": "stderr",
     "output_type": "stream",
     "text": [
      "\r",
      "Episode 3|Iteration 2|reward:   14.0|last_reward_at: ----|Elapsed Time: 0:00:00||"
     ]
    },
    {
     "name": "stderr",
     "output_type": "stream",
     "text": [
      "\r",
      "Episode 3|Iteration 2|reward:   14.0|last_reward_at:    2|Elapsed Time: 0:00:00||"
     ]
    },
    {
     "name": "stderr",
     "output_type": "stream",
     "text": [
      "\r",
      "Episode 3|Iteration 3|reward:   16.0|last_reward_at:    2|Elapsed Time: 0:00:00||"
     ]
    },
    {
     "name": "stderr",
     "output_type": "stream",
     "text": [
      "\r",
      "Episode 3|Iteration 3|reward:   16.0|last_reward_at:    3|Elapsed Time: 0:00:00||"
     ]
    },
    {
     "name": "stderr",
     "output_type": "stream",
     "text": [
      "\r",
      "Episode 3|Iteration 12|reward:  116.0|last_reward_at:    3|Elapsed Time: 0:00:00||"
     ]
    },
    {
     "name": "stderr",
     "output_type": "stream",
     "text": [
      "\r",
      "Episode 3|Iteration 12|reward:  116.0|last_reward_at:   12|Elapsed Time: 0:00:00||"
     ]
    },
    {
     "name": "stderr",
     "output_type": "stream",
     "text": [
      "\r",
      "Episode 3|Iteration 18|reward:  118.0|last_reward_at:   12|Elapsed Time: 0:00:00||"
     ]
    },
    {
     "name": "stderr",
     "output_type": "stream",
     "text": [
      "\r",
      "Episode 3|Iteration 18|reward:  118.0|last_reward_at:   18|Elapsed Time: 0:00:00||"
     ]
    },
    {
     "name": "stderr",
     "output_type": "stream",
     "text": [
      "\r",
      "Episode 3|Iteration 25|reward:  129.0|last_reward_at:   18|Elapsed Time: 0:00:00||"
     ]
    },
    {
     "name": "stderr",
     "output_type": "stream",
     "text": [
      "\r",
      "Episode 3|Iteration 25|reward:  129.0|last_reward_at:   25|Elapsed Time: 0:00:00||"
     ]
    },
    {
     "name": "stderr",
     "output_type": "stream",
     "text": [
      "\r",
      "Episode 3|Iteration 26|reward:  137.0|last_reward_at:   25|Elapsed Time: 0:00:00||"
     ]
    },
    {
     "name": "stderr",
     "output_type": "stream",
     "text": [
      "\r",
      "Episode 3|Iteration 26|reward:  137.0|last_reward_at:   26|Elapsed Time: 0:00:00||"
     ]
    },
    {
     "name": "stderr",
     "output_type": "stream",
     "text": [
      "\r",
      "Episode 3|Iteration 29|reward:  146.0|last_reward_at:   26|Elapsed Time: 0:00:00||"
     ]
    },
    {
     "name": "stderr",
     "output_type": "stream",
     "text": [
      "\r",
      "Episode 3|Iteration 29|reward:  146.0|last_reward_at:   29|Elapsed Time: 0:00:00||"
     ]
    },
    {
     "name": "stderr",
     "output_type": "stream",
     "text": [
      "\r",
      "Episode 3|Iteration 53|reward:  246.0|last_reward_at:   29|Elapsed Time: 0:00:00||"
     ]
    },
    {
     "name": "stderr",
     "output_type": "stream",
     "text": [
      "\r",
      "Episode 3|Iteration 53|reward:  246.0|last_reward_at:   53|Elapsed Time: 0:00:00||"
     ]
    },
    {
     "name": "stderr",
     "output_type": "stream",
     "text": [
      "\r",
      "Episode 3|Iteration 63|reward:  252.0|last_reward_at:   53|Elapsed Time: 0:00:00||"
     ]
    },
    {
     "name": "stderr",
     "output_type": "stream",
     "text": [
      "\r",
      "Episode 3|Iteration 63|reward:  252.0|last_reward_at:   63|Elapsed Time: 0:00:00||"
     ]
    },
    {
     "name": "stderr",
     "output_type": "stream",
     "text": [
      "\r",
      "Episode 3|Iteration 71|reward:  263.0|last_reward_at:   63|Elapsed Time: 0:00:00||"
     ]
    },
    {
     "name": "stderr",
     "output_type": "stream",
     "text": [
      "\r",
      "Episode 3|Iteration 71|reward:  263.0|last_reward_at:   71|Elapsed Time: 0:00:00||"
     ]
    },
    {
     "name": "stderr",
     "output_type": "stream",
     "text": [
      "\r",
      "Episode 3|Iteration 81|reward:  267.0|last_reward_at:   71|Elapsed Time: 0:00:00||"
     ]
    },
    {
     "name": "stderr",
     "output_type": "stream",
     "text": [
      "\r",
      "Episode 3|Iteration 81|reward:  267.0|last_reward_at:   81|Elapsed Time: 0:00:00||"
     ]
    },
    {
     "name": "stderr",
     "output_type": "stream",
     "text": [
      "\r",
      "Episode 3|Iteration 85|reward:  269.0|last_reward_at:   81|Elapsed Time: 0:00:00||"
     ]
    },
    {
     "name": "stderr",
     "output_type": "stream",
     "text": [
      "\r",
      "Episode 3|Iteration 85|reward:  269.0|last_reward_at:   85|Elapsed Time: 0:00:00||"
     ]
    },
    {
     "name": "stderr",
     "output_type": "stream",
     "text": [
      "\r",
      "Episode 3|Iteration 90|reward:  278.0|last_reward_at:   85|Elapsed Time: 0:00:00||"
     ]
    },
    {
     "name": "stderr",
     "output_type": "stream",
     "text": [
      "\r",
      "Episode 3|Iteration 90|reward:  278.0|last_reward_at:   90|Elapsed Time: 0:00:00||"
     ]
    },
    {
     "name": "stderr",
     "output_type": "stream",
     "text": [
      "\r",
      "Episode 3|Iteration 95|reward:  378.0|last_reward_at:   90|Elapsed Time: 0:00:00||"
     ]
    },
    {
     "name": "stderr",
     "output_type": "stream",
     "text": [
      "\r",
      "Episode 3|Iteration 95|reward:  378.0|last_reward_at:   95|Elapsed Time: 0:00:00||"
     ]
    },
    {
     "name": "stderr",
     "output_type": "stream",
     "text": [
      "\r",
      "Episode 3|Iteration 113|reward:  392.0|last_reward_at:   95|Elapsed Time: 0:00:00||"
     ]
    },
    {
     "name": "stderr",
     "output_type": "stream",
     "text": [
      "\r",
      "Episode 3|Iteration 113|reward:  392.0|last_reward_at:  113|Elapsed Time: 0:00:00||"
     ]
    },
    {
     "name": "stderr",
     "output_type": "stream",
     "text": [
      "\r",
      "Episode 3|Iteration 118|reward:  492.0|last_reward_at:  113|Elapsed Time: 0:00:00||"
     ]
    },
    {
     "name": "stderr",
     "output_type": "stream",
     "text": [
      "\r",
      "Episode 3|Iteration 118|reward:  492.0|last_reward_at:  118|Elapsed Time: 0:00:00||"
     ]
    },
    {
     "name": "stderr",
     "output_type": "stream",
     "text": [
      "\r",
      "Episode 3|Iteration 132|reward:  498.0|last_reward_at:  118|Elapsed Time: 0:00:00||"
     ]
    },
    {
     "name": "stderr",
     "output_type": "stream",
     "text": [
      "\r",
      "Episode 3|Iteration 132|reward:  498.0|last_reward_at:  132|Elapsed Time: 0:00:00||"
     ]
    },
    {
     "name": "stderr",
     "output_type": "stream",
     "text": [
      "\r",
      "Episode 3|Iteration 136|reward:  504.0|last_reward_at:  132|Elapsed Time: 0:00:00||"
     ]
    },
    {
     "name": "stderr",
     "output_type": "stream",
     "text": [
      "\r",
      "Episode 3|Iteration 136|reward:  504.0|last_reward_at:  136|Elapsed Time: 0:00:00||"
     ]
    },
    {
     "name": "stderr",
     "output_type": "stream",
     "text": [
      "\r",
      "Episode 3|Iteration 157|reward:  518.0|last_reward_at:  136|Elapsed Time: 0:00:00||"
     ]
    },
    {
     "name": "stderr",
     "output_type": "stream",
     "text": [
      "\r",
      "Episode 3|Iteration 157|reward:  518.0|last_reward_at:  157|Elapsed Time: 0:00:00||"
     ]
    },
    {
     "name": "stderr",
     "output_type": "stream",
     "text": [
      "\r",
      "Episode 3|Iteration 159|reward:  522.0|last_reward_at:  157|Elapsed Time: 0:00:00||"
     ]
    },
    {
     "name": "stderr",
     "output_type": "stream",
     "text": [
      "\r",
      "Episode 3|Iteration 159|reward:  522.0|last_reward_at:  159|Elapsed Time: 0:00:00||"
     ]
    },
    {
     "name": "stderr",
     "output_type": "stream",
     "text": [
      "\r",
      "Episode 3|Iteration 168|reward:  524.0|last_reward_at:  159|Elapsed Time: 0:00:00||"
     ]
    },
    {
     "name": "stderr",
     "output_type": "stream",
     "text": [
      "\r",
      "Episode 3|Iteration 168|reward:  524.0|last_reward_at:  168|Elapsed Time: 0:00:00||"
     ]
    },
    {
     "name": "stderr",
     "output_type": "stream",
     "text": [
      "\r",
      "Episode 3|Iteration 170|reward:  530.0|last_reward_at:  168|Elapsed Time: 0:00:00||"
     ]
    },
    {
     "name": "stderr",
     "output_type": "stream",
     "text": [
      "\r",
      "Episode 3|Iteration 170|reward:  530.0|last_reward_at:  170|Elapsed Time: 0:00:00||"
     ]
    },
    {
     "name": "stderr",
     "output_type": "stream",
     "text": [
      "\r",
      "Episode 3|Iteration 206|reward:  530.0|last_reward_at:  170|Elapsed Time: 0:00:00||"
     ]
    },
    {
     "name": "stderr",
     "output_type": "stream",
     "text": [
      "\r",
      "Episode 3|Iteration 209|reward:  630.0|last_reward_at:  170|Elapsed Time: 0:00:00||"
     ]
    },
    {
     "name": "stderr",
     "output_type": "stream",
     "text": [
      "\r",
      "Episode 3|Iteration 209|reward:  630.0|last_reward_at:  209|Elapsed Time: 0:00:00||"
     ]
    },
    {
     "name": "stderr",
     "output_type": "stream",
     "text": [
      "\r",
      "Episode 3|Iteration 213|reward:  644.0|last_reward_at:  209|Elapsed Time: 0:00:00||"
     ]
    },
    {
     "name": "stderr",
     "output_type": "stream",
     "text": [
      "\r",
      "Episode 3|Iteration 213|reward:  644.0|last_reward_at:  213|Elapsed Time: 0:00:00||"
     ]
    },
    {
     "name": "stderr",
     "output_type": "stream",
     "text": [
      "\r",
      "Episode 3|Iteration 220|reward:  744.0|last_reward_at:  213|Elapsed Time: 0:00:00||"
     ]
    },
    {
     "name": "stderr",
     "output_type": "stream",
     "text": [
      "\r",
      "Episode 3|Iteration 220|reward:  744.0|last_reward_at:  220|Elapsed Time: 0:00:00||"
     ]
    },
    {
     "name": "stderr",
     "output_type": "stream",
     "text": [
      "\r",
      "Episode 3|Iteration 237|reward:  755.0|last_reward_at:  220|Elapsed Time: 0:00:00||"
     ]
    },
    {
     "name": "stderr",
     "output_type": "stream",
     "text": [
      "\r",
      "Episode 3|Iteration 237|reward:  755.0|last_reward_at:  237|Elapsed Time: 0:00:00||"
     ]
    },
    {
     "name": "stderr",
     "output_type": "stream",
     "text": [
      "\r",
      "Episode 3|Iteration 238|reward:  757.0|last_reward_at:  237|Elapsed Time: 0:00:00||"
     ]
    },
    {
     "name": "stderr",
     "output_type": "stream",
     "text": [
      "\r",
      "Episode 3|Iteration 238|reward:  757.0|last_reward_at:  238|Elapsed Time: 0:00:00||"
     ]
    },
    {
     "name": "stderr",
     "output_type": "stream",
     "text": [
      "\r",
      "Episode 3|Iteration 243|reward:  763.0|last_reward_at:  238|Elapsed Time: 0:00:00||"
     ]
    },
    {
     "name": "stderr",
     "output_type": "stream",
     "text": [
      "\r",
      "Episode 3|Iteration 243|reward:  763.0|last_reward_at:  243|Elapsed Time: 0:00:00||"
     ]
    },
    {
     "name": "stderr",
     "output_type": "stream",
     "text": [
      "\r",
      "Episode 3|Iteration 247|reward:  767.0|last_reward_at:  243|Elapsed Time: 0:00:00||"
     ]
    },
    {
     "name": "stderr",
     "output_type": "stream",
     "text": [
      "\r",
      "Episode 3|Iteration 247|reward:  767.0|last_reward_at:  247|Elapsed Time: 0:00:00||"
     ]
    },
    {
     "name": "stderr",
     "output_type": "stream",
     "text": [
      "\r",
      "Episode 3|Iteration 274|reward:  767.0|last_reward_at:  247|Elapsed Time: 0:00:00||"
     ]
    },
    {
     "name": "stderr",
     "output_type": "stream",
     "text": [
      "\r",
      "Episode 3|Iteration 280|reward:  773.0|last_reward_at:  247|Elapsed Time: 0:00:00||"
     ]
    },
    {
     "name": "stderr",
     "output_type": "stream",
     "text": [
      "\r",
      "Episode 3|Iteration 280|reward:  773.0|last_reward_at:  280|Elapsed Time: 0:00:00||"
     ]
    },
    {
     "name": "stderr",
     "output_type": "stream",
     "text": [
      "\r",
      "Episode 3|Iteration 292|reward:  782.0|last_reward_at:  280|Elapsed Time: 0:00:00||"
     ]
    },
    {
     "name": "stderr",
     "output_type": "stream",
     "text": [
      "\r",
      "Episode 3|Iteration 292|reward:  782.0|last_reward_at:  292|Elapsed Time: 0:00:00||"
     ]
    },
    {
     "name": "stderr",
     "output_type": "stream",
     "text": [
      "\r",
      "Episode 3|Iteration 296|reward:  788.0|last_reward_at:  292|Elapsed Time: 0:00:00||"
     ]
    },
    {
     "name": "stderr",
     "output_type": "stream",
     "text": [
      "\r",
      "Episode 3|Iteration 296|reward:  788.0|last_reward_at:  296|Elapsed Time: 0:00:00||"
     ]
    },
    {
     "name": "stderr",
     "output_type": "stream",
     "text": [
      "\r",
      "Episode 3|Iteration 300|reward:  888.0|last_reward_at:  296|Elapsed Time: 0:00:00||"
     ]
    },
    {
     "name": "stderr",
     "output_type": "stream",
     "text": [
      "\r",
      "Episode 3|Iteration 300|reward:  888.0|last_reward_at:  300|Elapsed Time: 0:00:00||"
     ]
    },
    {
     "name": "stderr",
     "output_type": "stream",
     "text": [
      "\r",
      "Episode 3|Iteration 321|reward: 5888.0|last_reward_at:  300|Elapsed Time: 0:00:00||"
     ]
    },
    {
     "name": "stderr",
     "output_type": "stream",
     "text": [
      "\r",
      "Episode 3|Iteration 321|reward: 5888.0|last_reward_at:  321|Elapsed Time: 0:00:00||"
     ]
    },
    {
     "name": "stderr",
     "output_type": "stream",
     "text": [
      "\n"
     ]
    },
    {
     "name": "stdout",
     "output_type": "stream",
     "text": [
      "  Episode 3 ended at t=321 \n",
      "  Breakdown [Reward/NoReward (Success rate)]\n",
      "    explore-local: 12/94 (0.11)\n",
      "    explore-remote: 15/163 (0.08)\n",
      "    explore-connect: 0/0 (NaN)\n",
      "    exploit-local: 0/0 (NaN)\n",
      "    exploit-remote: 0/0 (NaN)\n",
      "    exploit-connect: 7/30 (0.19)\n",
      "  exploit deflected to exploration: 8\n",
      "  ## Episode: 4/10 'Credential lookups (ϵ-greedy)' ϵ=0.8417, \n"
     ]
    },
    {
     "name": "stderr",
     "output_type": "stream",
     "text": [
      "\r",
      "Episode 4|Iteration 0|reward: ------|last_reward_at: ----|Elapsed Time: 0:00:00||"
     ]
    },
    {
     "name": "stderr",
     "output_type": "stream",
     "text": [
      "\r",
      "Episode 4|Iteration 1|reward:    0.0|last_reward_at: ----|Elapsed Time: 0:00:00||"
     ]
    },
    {
     "name": "stderr",
     "output_type": "stream",
     "text": [
      "\r",
      "Episode 4|Iteration 5|reward:   14.0|last_reward_at: ----|Elapsed Time: 0:00:00||"
     ]
    },
    {
     "name": "stderr",
     "output_type": "stream",
     "text": [
      "\r",
      "Episode 4|Iteration 5|reward:   14.0|last_reward_at:    5|Elapsed Time: 0:00:00||"
     ]
    },
    {
     "name": "stderr",
     "output_type": "stream",
     "text": [
      "\r",
      "Episode 4|Iteration 6|reward:  114.0|last_reward_at:    5|Elapsed Time: 0:00:00||"
     ]
    },
    {
     "name": "stderr",
     "output_type": "stream",
     "text": [
      "\r",
      "Episode 4|Iteration 6|reward:  114.0|last_reward_at:    6|Elapsed Time: 0:00:00||"
     ]
    },
    {
     "name": "stderr",
     "output_type": "stream",
     "text": [
      "\r",
      "Episode 4|Iteration 7|reward:  116.0|last_reward_at:    6|Elapsed Time: 0:00:00||"
     ]
    },
    {
     "name": "stderr",
     "output_type": "stream",
     "text": [
      "\r",
      "Episode 4|Iteration 7|reward:  116.0|last_reward_at:    7|Elapsed Time: 0:00:00||"
     ]
    },
    {
     "name": "stderr",
     "output_type": "stream",
     "text": [
      "\r",
      "Episode 4|Iteration 9|reward:  118.0|last_reward_at:    7|Elapsed Time: 0:00:00||"
     ]
    },
    {
     "name": "stderr",
     "output_type": "stream",
     "text": [
      "\r",
      "Episode 4|Iteration 9|reward:  118.0|last_reward_at:    9|Elapsed Time: 0:00:00||"
     ]
    },
    {
     "name": "stderr",
     "output_type": "stream",
     "text": [
      "\r",
      "Episode 4|Iteration 34|reward:  132.0|last_reward_at:    9|Elapsed Time: 0:00:00||"
     ]
    },
    {
     "name": "stderr",
     "output_type": "stream",
     "text": [
      "\r",
      "Episode 4|Iteration 34|reward:  132.0|last_reward_at:   34|Elapsed Time: 0:00:00||"
     ]
    },
    {
     "name": "stderr",
     "output_type": "stream",
     "text": [
      "\r",
      "Episode 4|Iteration 38|reward:  140.0|last_reward_at:   34|Elapsed Time: 0:00:00||"
     ]
    },
    {
     "name": "stderr",
     "output_type": "stream",
     "text": [
      "\r",
      "Episode 4|Iteration 38|reward:  140.0|last_reward_at:   38|Elapsed Time: 0:00:00||"
     ]
    },
    {
     "name": "stderr",
     "output_type": "stream",
     "text": [
      "\r",
      "Episode 4|Iteration 40|reward:  240.0|last_reward_at:   38|Elapsed Time: 0:00:00||"
     ]
    },
    {
     "name": "stderr",
     "output_type": "stream",
     "text": [
      "\r",
      "Episode 4|Iteration 40|reward:  240.0|last_reward_at:   40|Elapsed Time: 0:00:00||"
     ]
    },
    {
     "name": "stderr",
     "output_type": "stream",
     "text": [
      "\r",
      "Episode 4|Iteration 48|reward:  246.0|last_reward_at:   40|Elapsed Time: 0:00:00||"
     ]
    },
    {
     "name": "stderr",
     "output_type": "stream",
     "text": [
      "\r",
      "Episode 4|Iteration 48|reward:  246.0|last_reward_at:   48|Elapsed Time: 0:00:00||"
     ]
    },
    {
     "name": "stderr",
     "output_type": "stream",
     "text": [
      "\r",
      "Episode 4|Iteration 51|reward:  260.0|last_reward_at:   48|Elapsed Time: 0:00:00||"
     ]
    },
    {
     "name": "stderr",
     "output_type": "stream",
     "text": [
      "\r",
      "Episode 4|Iteration 51|reward:  260.0|last_reward_at:   51|Elapsed Time: 0:00:00||"
     ]
    },
    {
     "name": "stderr",
     "output_type": "stream",
     "text": [
      "\r",
      "Episode 4|Iteration 54|reward:  266.0|last_reward_at:   51|Elapsed Time: 0:00:00||"
     ]
    },
    {
     "name": "stderr",
     "output_type": "stream",
     "text": [
      "\r",
      "Episode 4|Iteration 54|reward:  266.0|last_reward_at:   54|Elapsed Time: 0:00:00||"
     ]
    },
    {
     "name": "stderr",
     "output_type": "stream",
     "text": [
      "\r",
      "Episode 4|Iteration 55|reward:  366.0|last_reward_at:   54|Elapsed Time: 0:00:00||"
     ]
    },
    {
     "name": "stderr",
     "output_type": "stream",
     "text": [
      "\r",
      "Episode 4|Iteration 55|reward:  366.0|last_reward_at:   55|Elapsed Time: 0:00:00||"
     ]
    },
    {
     "name": "stderr",
     "output_type": "stream",
     "text": [
      "\r",
      "Episode 4|Iteration 56|reward:  368.0|last_reward_at:   55|Elapsed Time: 0:00:00||"
     ]
    },
    {
     "name": "stderr",
     "output_type": "stream",
     "text": [
      "\r",
      "Episode 4|Iteration 56|reward:  368.0|last_reward_at:   56|Elapsed Time: 0:00:00||"
     ]
    },
    {
     "name": "stderr",
     "output_type": "stream",
     "text": [
      "\r",
      "Episode 4|Iteration 59|reward:  374.0|last_reward_at:   56|Elapsed Time: 0:00:00||"
     ]
    },
    {
     "name": "stderr",
     "output_type": "stream",
     "text": [
      "\r",
      "Episode 4|Iteration 59|reward:  374.0|last_reward_at:   59|Elapsed Time: 0:00:00||"
     ]
    },
    {
     "name": "stderr",
     "output_type": "stream",
     "text": [
      "\r",
      "Episode 4|Iteration 71|reward:  376.0|last_reward_at:   59|Elapsed Time: 0:00:00||"
     ]
    },
    {
     "name": "stderr",
     "output_type": "stream",
     "text": [
      "\r",
      "Episode 4|Iteration 71|reward:  376.0|last_reward_at:   71|Elapsed Time: 0:00:00||"
     ]
    },
    {
     "name": "stderr",
     "output_type": "stream",
     "text": [
      "\r",
      "Episode 4|Iteration 77|reward:  387.0|last_reward_at:   71|Elapsed Time: 0:00:00||"
     ]
    },
    {
     "name": "stderr",
     "output_type": "stream",
     "text": [
      "\r",
      "Episode 4|Iteration 77|reward:  387.0|last_reward_at:   77|Elapsed Time: 0:00:00||"
     ]
    },
    {
     "name": "stderr",
     "output_type": "stream",
     "text": [
      "\r",
      "Episode 4|Iteration 78|reward:  395.0|last_reward_at:   77|Elapsed Time: 0:00:00||"
     ]
    },
    {
     "name": "stderr",
     "output_type": "stream",
     "text": [
      "\r",
      "Episode 4|Iteration 78|reward:  395.0|last_reward_at:   78|Elapsed Time: 0:00:00||"
     ]
    },
    {
     "name": "stderr",
     "output_type": "stream",
     "text": [
      "\r",
      "Episode 4|Iteration 89|reward:  401.0|last_reward_at:   78|Elapsed Time: 0:00:00||"
     ]
    },
    {
     "name": "stderr",
     "output_type": "stream",
     "text": [
      "\r",
      "Episode 4|Iteration 89|reward:  401.0|last_reward_at:   89|Elapsed Time: 0:00:00||"
     ]
    },
    {
     "name": "stderr",
     "output_type": "stream",
     "text": [
      "\r",
      "Episode 4|Iteration 92|reward:  410.0|last_reward_at:   89|Elapsed Time: 0:00:00||"
     ]
    },
    {
     "name": "stderr",
     "output_type": "stream",
     "text": [
      "\r",
      "Episode 4|Iteration 92|reward:  410.0|last_reward_at:   92|Elapsed Time: 0:00:00||"
     ]
    },
    {
     "name": "stderr",
     "output_type": "stream",
     "text": [
      "\r",
      "Episode 4|Iteration 95|reward:  510.0|last_reward_at:   92|Elapsed Time: 0:00:00||"
     ]
    },
    {
     "name": "stderr",
     "output_type": "stream",
     "text": [
      "\r",
      "Episode 4|Iteration 95|reward:  510.0|last_reward_at:   95|Elapsed Time: 0:00:00||"
     ]
    },
    {
     "name": "stderr",
     "output_type": "stream",
     "text": [
      "\r",
      "Episode 4|Iteration 97|reward:  521.0|last_reward_at:   95|Elapsed Time: 0:00:00||"
     ]
    },
    {
     "name": "stderr",
     "output_type": "stream",
     "text": [
      "\r",
      "Episode 4|Iteration 97|reward:  521.0|last_reward_at:   97|Elapsed Time: 0:00:00||"
     ]
    },
    {
     "name": "stderr",
     "output_type": "stream",
     "text": [
      "\r",
      "Episode 4|Iteration 104|reward:  525.0|last_reward_at:   97|Elapsed Time: 0:00:00||"
     ]
    },
    {
     "name": "stderr",
     "output_type": "stream",
     "text": [
      "\r",
      "Episode 4|Iteration 104|reward:  525.0|last_reward_at:  104|Elapsed Time: 0:00:00||"
     ]
    },
    {
     "name": "stderr",
     "output_type": "stream",
     "text": [
      "\r",
      "Episode 4|Iteration 106|reward:  534.0|last_reward_at:  104|Elapsed Time: 0:00:00||"
     ]
    },
    {
     "name": "stderr",
     "output_type": "stream",
     "text": [
      "\r",
      "Episode 4|Iteration 106|reward:  534.0|last_reward_at:  106|Elapsed Time: 0:00:00||"
     ]
    },
    {
     "name": "stderr",
     "output_type": "stream",
     "text": [
      "\r",
      "Episode 4|Iteration 114|reward:  634.0|last_reward_at:  106|Elapsed Time: 0:00:00||"
     ]
    },
    {
     "name": "stderr",
     "output_type": "stream",
     "text": [
      "\r",
      "Episode 4|Iteration 114|reward:  634.0|last_reward_at:  114|Elapsed Time: 0:00:00||"
     ]
    },
    {
     "name": "stderr",
     "output_type": "stream",
     "text": [
      "\r",
      "Episode 4|Iteration 137|reward:  636.0|last_reward_at:  114|Elapsed Time: 0:00:00||"
     ]
    },
    {
     "name": "stderr",
     "output_type": "stream",
     "text": [
      "\r",
      "Episode 4|Iteration 137|reward:  636.0|last_reward_at:  137|Elapsed Time: 0:00:00||"
     ]
    },
    {
     "name": "stderr",
     "output_type": "stream",
     "text": [
      "\r",
      "Episode 4|Iteration 142|reward:  647.0|last_reward_at:  137|Elapsed Time: 0:00:00||"
     ]
    },
    {
     "name": "stderr",
     "output_type": "stream",
     "text": [
      "\r",
      "Episode 4|Iteration 142|reward:  647.0|last_reward_at:  142|Elapsed Time: 0:00:00||"
     ]
    },
    {
     "name": "stderr",
     "output_type": "stream",
     "text": [
      "\r",
      "Episode 4|Iteration 157|reward:  655.0|last_reward_at:  142|Elapsed Time: 0:00:00||"
     ]
    },
    {
     "name": "stderr",
     "output_type": "stream",
     "text": [
      "\r",
      "Episode 4|Iteration 157|reward:  655.0|last_reward_at:  157|Elapsed Time: 0:00:00||"
     ]
    },
    {
     "name": "stderr",
     "output_type": "stream",
     "text": [
      "\r",
      "Episode 4|Iteration 161|reward:  664.0|last_reward_at:  157|Elapsed Time: 0:00:00||"
     ]
    },
    {
     "name": "stderr",
     "output_type": "stream",
     "text": [
      "\r",
      "Episode 4|Iteration 161|reward:  664.0|last_reward_at:  161|Elapsed Time: 0:00:00||"
     ]
    },
    {
     "name": "stderr",
     "output_type": "stream",
     "text": [
      "\r",
      "Episode 4|Iteration 164|reward:  670.0|last_reward_at:  161|Elapsed Time: 0:00:00||"
     ]
    },
    {
     "name": "stderr",
     "output_type": "stream",
     "text": [
      "\r",
      "Episode 4|Iteration 164|reward:  670.0|last_reward_at:  164|Elapsed Time: 0:00:00||"
     ]
    },
    {
     "name": "stderr",
     "output_type": "stream",
     "text": [
      "\r",
      "Episode 4|Iteration 166|reward:  770.0|last_reward_at:  164|Elapsed Time: 0:00:00||"
     ]
    },
    {
     "name": "stderr",
     "output_type": "stream",
     "text": [
      "\r",
      "Episode 4|Iteration 166|reward:  770.0|last_reward_at:  166|Elapsed Time: 0:00:00||"
     ]
    },
    {
     "name": "stderr",
     "output_type": "stream",
     "text": [
      "\r",
      "Episode 4|Iteration 171|reward: 5770.0|last_reward_at:  166|Elapsed Time: 0:00:00||"
     ]
    },
    {
     "name": "stderr",
     "output_type": "stream",
     "text": [
      "\r",
      "Episode 4|Iteration 171|reward: 5770.0|last_reward_at:  171|Elapsed Time: 0:00:00||"
     ]
    },
    {
     "name": "stderr",
     "output_type": "stream",
     "text": [
      "\n"
     ]
    },
    {
     "name": "stdout",
     "output_type": "stream",
     "text": [
      "  Episode 4 ended at t=171 \n",
      "  Breakdown [Reward/NoReward (Success rate)]\n",
      "    explore-local: 11/54 (0.17)\n",
      "    explore-remote: 13/78 (0.14)\n",
      "    explore-connect: 0/0 (NaN)\n",
      "    exploit-local: 0/0 (NaN)\n",
      "    exploit-remote: 0/0 (NaN)\n",
      "    exploit-connect: 6/9 (0.40)\n",
      "  exploit deflected to exploration: 13\n",
      "  ## Episode: 5/10 'Credential lookups (ϵ-greedy)' ϵ=0.8291, \n"
     ]
    },
    {
     "name": "stderr",
     "output_type": "stream",
     "text": [
      "\r",
      "Episode 5|Iteration 0|reward: ------|last_reward_at: ----|Elapsed Time: 0:00:00||"
     ]
    },
    {
     "name": "stderr",
     "output_type": "stream",
     "text": [
      "\r",
      "Episode 5|Iteration 1|reward:    0.0|last_reward_at: ----|Elapsed Time: 0:00:00||"
     ]
    },
    {
     "name": "stderr",
     "output_type": "stream",
     "text": [
      "\r",
      "Episode 5|Iteration 12|reward:   14.0|last_reward_at: ----|Elapsed Time: 0:00:00||"
     ]
    },
    {
     "name": "stderr",
     "output_type": "stream",
     "text": [
      "\r",
      "Episode 5|Iteration 12|reward:   14.0|last_reward_at:   12|Elapsed Time: 0:00:00||"
     ]
    },
    {
     "name": "stderr",
     "output_type": "stream",
     "text": [
      "\r",
      "Episode 5|Iteration 14|reward:  114.0|last_reward_at:   12|Elapsed Time: 0:00:00||"
     ]
    },
    {
     "name": "stderr",
     "output_type": "stream",
     "text": [
      "\r",
      "Episode 5|Iteration 14|reward:  114.0|last_reward_at:   14|Elapsed Time: 0:00:00||"
     ]
    },
    {
     "name": "stderr",
     "output_type": "stream",
     "text": [
      "\r",
      "Episode 5|Iteration 15|reward:  125.0|last_reward_at:   14|Elapsed Time: 0:00:00||"
     ]
    },
    {
     "name": "stderr",
     "output_type": "stream",
     "text": [
      "\r",
      "Episode 5|Iteration 15|reward:  125.0|last_reward_at:   15|Elapsed Time: 0:00:00||"
     ]
    },
    {
     "name": "stderr",
     "output_type": "stream",
     "text": [
      "\r",
      "Episode 5|Iteration 16|reward:  127.0|last_reward_at:   15|Elapsed Time: 0:00:00||"
     ]
    },
    {
     "name": "stderr",
     "output_type": "stream",
     "text": [
      "\r",
      "Episode 5|Iteration 16|reward:  127.0|last_reward_at:   16|Elapsed Time: 0:00:00||"
     ]
    },
    {
     "name": "stderr",
     "output_type": "stream",
     "text": [
      "\r",
      "Episode 5|Iteration 17|reward:  133.0|last_reward_at:   16|Elapsed Time: 0:00:00||"
     ]
    },
    {
     "name": "stderr",
     "output_type": "stream",
     "text": [
      "\r",
      "Episode 5|Iteration 17|reward:  133.0|last_reward_at:   17|Elapsed Time: 0:00:00||"
     ]
    },
    {
     "name": "stderr",
     "output_type": "stream",
     "text": [
      "\r",
      "Episode 5|Iteration 18|reward:  142.0|last_reward_at:   17|Elapsed Time: 0:00:00||"
     ]
    },
    {
     "name": "stderr",
     "output_type": "stream",
     "text": [
      "\r",
      "Episode 5|Iteration 18|reward:  142.0|last_reward_at:   18|Elapsed Time: 0:00:00||"
     ]
    },
    {
     "name": "stderr",
     "output_type": "stream",
     "text": [
      "\r",
      "Episode 5|Iteration 19|reward:  242.0|last_reward_at:   18|Elapsed Time: 0:00:00||"
     ]
    },
    {
     "name": "stderr",
     "output_type": "stream",
     "text": [
      "\r",
      "Episode 5|Iteration 19|reward:  242.0|last_reward_at:   19|Elapsed Time: 0:00:00||"
     ]
    },
    {
     "name": "stderr",
     "output_type": "stream",
     "text": [
      "\r",
      "Episode 5|Iteration 20|reward:  248.0|last_reward_at:   19|Elapsed Time: 0:00:00||"
     ]
    },
    {
     "name": "stderr",
     "output_type": "stream",
     "text": [
      "\r",
      "Episode 5|Iteration 20|reward:  248.0|last_reward_at:   20|Elapsed Time: 0:00:00||"
     ]
    },
    {
     "name": "stderr",
     "output_type": "stream",
     "text": [
      "\r",
      "Episode 5|Iteration 21|reward:  250.0|last_reward_at:   20|Elapsed Time: 0:00:00||"
     ]
    },
    {
     "name": "stderr",
     "output_type": "stream",
     "text": [
      "\r",
      "Episode 5|Iteration 21|reward:  250.0|last_reward_at:   21|Elapsed Time: 0:00:00||"
     ]
    },
    {
     "name": "stderr",
     "output_type": "stream",
     "text": [
      "\r",
      "Episode 5|Iteration 54|reward:  250.0|last_reward_at:   21|Elapsed Time: 0:00:00||"
     ]
    },
    {
     "name": "stderr",
     "output_type": "stream",
     "text": [
      "\r",
      "Episode 5|Iteration 92|reward:  250.0|last_reward_at:   21|Elapsed Time: 0:00:00||"
     ]
    },
    {
     "name": "stderr",
     "output_type": "stream",
     "text": [
      "\r",
      "Episode 5|Iteration 118|reward:  264.0|last_reward_at:   21|Elapsed Time: 0:00:00||"
     ]
    },
    {
     "name": "stderr",
     "output_type": "stream",
     "text": [
      "\r",
      "Episode 5|Iteration 118|reward:  264.0|last_reward_at:  118|Elapsed Time: 0:00:00||"
     ]
    },
    {
     "name": "stderr",
     "output_type": "stream",
     "text": [
      "\r",
      "Episode 5|Iteration 120|reward:  268.0|last_reward_at:  118|Elapsed Time: 0:00:00||"
     ]
    },
    {
     "name": "stderr",
     "output_type": "stream",
     "text": [
      "\r",
      "Episode 5|Iteration 120|reward:  268.0|last_reward_at:  120|Elapsed Time: 0:00:00||"
     ]
    },
    {
     "name": "stderr",
     "output_type": "stream",
     "text": [
      "\r",
      "Episode 5|Iteration 122|reward:  368.0|last_reward_at:  120|Elapsed Time: 0:00:00||"
     ]
    },
    {
     "name": "stderr",
     "output_type": "stream",
     "text": [
      "\r",
      "Episode 5|Iteration 122|reward:  368.0|last_reward_at:  122|Elapsed Time: 0:00:00||"
     ]
    },
    {
     "name": "stderr",
     "output_type": "stream",
     "text": [
      "\r",
      "Episode 5|Iteration 134|reward:  374.0|last_reward_at:  122|Elapsed Time: 0:00:00||"
     ]
    },
    {
     "name": "stderr",
     "output_type": "stream",
     "text": [
      "\r",
      "Episode 5|Iteration 134|reward:  374.0|last_reward_at:  134|Elapsed Time: 0:00:00||"
     ]
    },
    {
     "name": "stderr",
     "output_type": "stream",
     "text": [
      "\r",
      "Episode 5|Iteration 135|reward:  388.0|last_reward_at:  134|Elapsed Time: 0:00:00||"
     ]
    },
    {
     "name": "stderr",
     "output_type": "stream",
     "text": [
      "\r",
      "Episode 5|Iteration 135|reward:  388.0|last_reward_at:  135|Elapsed Time: 0:00:00||"
     ]
    },
    {
     "name": "stderr",
     "output_type": "stream",
     "text": [
      "\r",
      "Episode 5|Iteration 137|reward:  396.0|last_reward_at:  135|Elapsed Time: 0:00:00||"
     ]
    },
    {
     "name": "stderr",
     "output_type": "stream",
     "text": [
      "\r",
      "Episode 5|Iteration 137|reward:  396.0|last_reward_at:  137|Elapsed Time: 0:00:00||"
     ]
    },
    {
     "name": "stderr",
     "output_type": "stream",
     "text": [
      "\r",
      "Episode 5|Iteration 140|reward:  496.0|last_reward_at:  137|Elapsed Time: 0:00:00||"
     ]
    },
    {
     "name": "stderr",
     "output_type": "stream",
     "text": [
      "\r",
      "Episode 5|Iteration 140|reward:  496.0|last_reward_at:  140|Elapsed Time: 0:00:00||"
     ]
    },
    {
     "name": "stderr",
     "output_type": "stream",
     "text": [
      "\r",
      "Episode 5|Iteration 142|reward:  498.0|last_reward_at:  140|Elapsed Time: 0:00:00||"
     ]
    },
    {
     "name": "stderr",
     "output_type": "stream",
     "text": [
      "\r",
      "Episode 5|Iteration 142|reward:  498.0|last_reward_at:  142|Elapsed Time: 0:00:00||"
     ]
    },
    {
     "name": "stderr",
     "output_type": "stream",
     "text": [
      "\r",
      "Episode 5|Iteration 149|reward:  504.0|last_reward_at:  142|Elapsed Time: 0:00:00||"
     ]
    },
    {
     "name": "stderr",
     "output_type": "stream",
     "text": [
      "\r",
      "Episode 5|Iteration 149|reward:  504.0|last_reward_at:  149|Elapsed Time: 0:00:00||"
     ]
    },
    {
     "name": "stderr",
     "output_type": "stream",
     "text": [
      "\r",
      "Episode 5|Iteration 151|reward:  515.0|last_reward_at:  149|Elapsed Time: 0:00:00||"
     ]
    },
    {
     "name": "stderr",
     "output_type": "stream",
     "text": [
      "\r",
      "Episode 5|Iteration 151|reward:  515.0|last_reward_at:  151|Elapsed Time: 0:00:00||"
     ]
    },
    {
     "name": "stderr",
     "output_type": "stream",
     "text": [
      "\r",
      "Episode 5|Iteration 158|reward:  517.0|last_reward_at:  151|Elapsed Time: 0:00:00||"
     ]
    },
    {
     "name": "stderr",
     "output_type": "stream",
     "text": [
      "\r",
      "Episode 5|Iteration 158|reward:  517.0|last_reward_at:  158|Elapsed Time: 0:00:00||"
     ]
    },
    {
     "name": "stderr",
     "output_type": "stream",
     "text": [
      "\r",
      "Episode 5|Iteration 161|reward: 5517.0|last_reward_at:  158|Elapsed Time: 0:00:00||"
     ]
    },
    {
     "name": "stderr",
     "output_type": "stream",
     "text": [
      "\r",
      "Episode 5|Iteration 161|reward: 5517.0|last_reward_at:  161|Elapsed Time: 0:00:00||"
     ]
    },
    {
     "name": "stderr",
     "output_type": "stream",
     "text": [
      "\n"
     ]
    },
    {
     "name": "stdout",
     "output_type": "stream",
     "text": [
      "  Episode 5 ended at t=161 \n",
      "  Breakdown [Reward/NoReward (Success rate)]\n",
      "    explore-local: 8/35 (0.19)\n",
      "    explore-remote: 9/88 (0.09)\n",
      "    explore-connect: 0/0 (NaN)\n",
      "    exploit-local: 0/0 (NaN)\n",
      "    exploit-remote: 0/0 (NaN)\n",
      "    exploit-connect: 4/17 (0.19)\n",
      "  exploit deflected to exploration: 18\n",
      "  ## Episode: 6/10 'Credential lookups (ϵ-greedy)' ϵ=0.8175, \n"
     ]
    },
    {
     "name": "stderr",
     "output_type": "stream",
     "text": [
      "\r",
      "Episode 6|Iteration 0|reward: ------|last_reward_at: ----|Elapsed Time: 0:00:00||"
     ]
    },
    {
     "name": "stderr",
     "output_type": "stream",
     "text": [
      "\r",
      "Episode 6|Iteration 1|reward:   14.0|last_reward_at: ----|Elapsed Time: 0:00:00||"
     ]
    },
    {
     "name": "stderr",
     "output_type": "stream",
     "text": [
      "\r",
      "Episode 6|Iteration 1|reward:   14.0|last_reward_at:    1|Elapsed Time: 0:00:00||"
     ]
    },
    {
     "name": "stderr",
     "output_type": "stream",
     "text": [
      "\r",
      "Episode 6|Iteration 3|reward:   16.0|last_reward_at:    1|Elapsed Time: 0:00:00||"
     ]
    },
    {
     "name": "stderr",
     "output_type": "stream",
     "text": [
      "\r",
      "Episode 6|Iteration 3|reward:   16.0|last_reward_at:    3|Elapsed Time: 0:00:00||"
     ]
    },
    {
     "name": "stderr",
     "output_type": "stream",
     "text": [
      "\r",
      "Episode 6|Iteration 6|reward:   20.0|last_reward_at:    3|Elapsed Time: 0:00:00||"
     ]
    },
    {
     "name": "stderr",
     "output_type": "stream",
     "text": [
      "\r",
      "Episode 6|Iteration 6|reward:   20.0|last_reward_at:    6|Elapsed Time: 0:00:00||"
     ]
    },
    {
     "name": "stderr",
     "output_type": "stream",
     "text": [
      "\r",
      "Episode 6|Iteration 14|reward:  120.0|last_reward_at:    6|Elapsed Time: 0:00:00||"
     ]
    },
    {
     "name": "stderr",
     "output_type": "stream",
     "text": [
      "\r",
      "Episode 6|Iteration 14|reward:  120.0|last_reward_at:   14|Elapsed Time: 0:00:00||"
     ]
    },
    {
     "name": "stderr",
     "output_type": "stream",
     "text": [
      "\r",
      "Episode 6|Iteration 39|reward:  134.0|last_reward_at:   14|Elapsed Time: 0:00:00||"
     ]
    },
    {
     "name": "stderr",
     "output_type": "stream",
     "text": [
      "\r",
      "Episode 6|Iteration 39|reward:  134.0|last_reward_at:   39|Elapsed Time: 0:00:00||"
     ]
    },
    {
     "name": "stderr",
     "output_type": "stream",
     "text": [
      "\r",
      "Episode 6|Iteration 42|reward:  142.0|last_reward_at:   39|Elapsed Time: 0:00:00||"
     ]
    },
    {
     "name": "stderr",
     "output_type": "stream",
     "text": [
      "\r",
      "Episode 6|Iteration 42|reward:  142.0|last_reward_at:   42|Elapsed Time: 0:00:00||"
     ]
    },
    {
     "name": "stderr",
     "output_type": "stream",
     "text": [
      "\r",
      "Episode 6|Iteration 45|reward:  242.0|last_reward_at:   42|Elapsed Time: 0:00:00||"
     ]
    },
    {
     "name": "stderr",
     "output_type": "stream",
     "text": [
      "\r",
      "Episode 6|Iteration 45|reward:  242.0|last_reward_at:   45|Elapsed Time: 0:00:00||"
     ]
    },
    {
     "name": "stderr",
     "output_type": "stream",
     "text": [
      "\r",
      "Episode 6|Iteration 50|reward:  248.0|last_reward_at:   45|Elapsed Time: 0:00:00||"
     ]
    },
    {
     "name": "stderr",
     "output_type": "stream",
     "text": [
      "\r",
      "Episode 6|Iteration 50|reward:  248.0|last_reward_at:   50|Elapsed Time: 0:00:00||"
     ]
    },
    {
     "name": "stderr",
     "output_type": "stream",
     "text": [
      "\r",
      "Episode 6|Iteration 64|reward:  254.0|last_reward_at:   50|Elapsed Time: 0:00:00||"
     ]
    },
    {
     "name": "stderr",
     "output_type": "stream",
     "text": [
      "\r",
      "Episode 6|Iteration 64|reward:  254.0|last_reward_at:   64|Elapsed Time: 0:00:00||"
     ]
    },
    {
     "name": "stderr",
     "output_type": "stream",
     "text": [
      "\r",
      "Episode 6|Iteration 71|reward:  265.0|last_reward_at:   64|Elapsed Time: 0:00:00||"
     ]
    },
    {
     "name": "stderr",
     "output_type": "stream",
     "text": [
      "\r",
      "Episode 6|Iteration 71|reward:  265.0|last_reward_at:   71|Elapsed Time: 0:00:00||"
     ]
    },
    {
     "name": "stderr",
     "output_type": "stream",
     "text": [
      "\r",
      "Episode 6|Iteration 73|reward:  267.0|last_reward_at:   71|Elapsed Time: 0:00:00||"
     ]
    },
    {
     "name": "stderr",
     "output_type": "stream",
     "text": [
      "\r",
      "Episode 6|Iteration 73|reward:  267.0|last_reward_at:   73|Elapsed Time: 0:00:00||"
     ]
    },
    {
     "name": "stderr",
     "output_type": "stream",
     "text": [
      "\r",
      "Episode 6|Iteration 89|reward:  271.0|last_reward_at:   73|Elapsed Time: 0:00:00||"
     ]
    },
    {
     "name": "stderr",
     "output_type": "stream",
     "text": [
      "\r",
      "Episode 6|Iteration 89|reward:  271.0|last_reward_at:   89|Elapsed Time: 0:00:00||"
     ]
    },
    {
     "name": "stderr",
     "output_type": "stream",
     "text": [
      "\r",
      "Episode 6|Iteration 98|reward:  280.0|last_reward_at:   89|Elapsed Time: 0:00:00||"
     ]
    },
    {
     "name": "stderr",
     "output_type": "stream",
     "text": [
      "\r",
      "Episode 6|Iteration 98|reward:  280.0|last_reward_at:   98|Elapsed Time: 0:00:00||"
     ]
    },
    {
     "name": "stderr",
     "output_type": "stream",
     "text": [
      "\r",
      "Episode 6|Iteration 103|reward:  380.0|last_reward_at:   98|Elapsed Time: 0:00:00||"
     ]
    },
    {
     "name": "stderr",
     "output_type": "stream",
     "text": [
      "\r",
      "Episode 6|Iteration 103|reward:  380.0|last_reward_at:  103|Elapsed Time: 0:00:00||"
     ]
    },
    {
     "name": "stderr",
     "output_type": "stream",
     "text": [
      "\r",
      "Episode 6|Iteration 126|reward:  391.0|last_reward_at:  103|Elapsed Time: 0:00:00||"
     ]
    },
    {
     "name": "stderr",
     "output_type": "stream",
     "text": [
      "\r",
      "Episode 6|Iteration 126|reward:  391.0|last_reward_at:  126|Elapsed Time: 0:00:00||"
     ]
    },
    {
     "name": "stderr",
     "output_type": "stream",
     "text": [
      "\r",
      "Episode 6|Iteration 131|reward:  397.0|last_reward_at:  126|Elapsed Time: 0:00:00||"
     ]
    },
    {
     "name": "stderr",
     "output_type": "stream",
     "text": [
      "\r",
      "Episode 6|Iteration 131|reward:  397.0|last_reward_at:  131|Elapsed Time: 0:00:00||"
     ]
    },
    {
     "name": "stderr",
     "output_type": "stream",
     "text": [
      "\r",
      "Episode 6|Iteration 138|reward:  406.0|last_reward_at:  131|Elapsed Time: 0:00:00||"
     ]
    },
    {
     "name": "stderr",
     "output_type": "stream",
     "text": [
      "\r",
      "Episode 6|Iteration 138|reward:  406.0|last_reward_at:  138|Elapsed Time: 0:00:00||"
     ]
    },
    {
     "name": "stderr",
     "output_type": "stream",
     "text": [
      "\r",
      "Episode 6|Iteration 149|reward:  414.0|last_reward_at:  138|Elapsed Time: 0:00:00||"
     ]
    },
    {
     "name": "stderr",
     "output_type": "stream",
     "text": [
      "\r",
      "Episode 6|Iteration 149|reward:  414.0|last_reward_at:  149|Elapsed Time: 0:00:00||"
     ]
    },
    {
     "name": "stderr",
     "output_type": "stream",
     "text": [
      "\r",
      "Episode 6|Iteration 178|reward:  514.0|last_reward_at:  149|Elapsed Time: 0:00:00||"
     ]
    },
    {
     "name": "stderr",
     "output_type": "stream",
     "text": [
      "\r",
      "Episode 6|Iteration 178|reward:  514.0|last_reward_at:  178|Elapsed Time: 0:00:00||"
     ]
    },
    {
     "name": "stderr",
     "output_type": "stream",
     "text": [
      "\r",
      "Episode 6|Iteration 206|reward:  514.0|last_reward_at:  178|Elapsed Time: 0:00:00||"
     ]
    },
    {
     "name": "stderr",
     "output_type": "stream",
     "text": [
      "\r",
      "Episode 6|Iteration 214|reward:  528.0|last_reward_at:  178|Elapsed Time: 0:00:00||"
     ]
    },
    {
     "name": "stderr",
     "output_type": "stream",
     "text": [
      "\r",
      "Episode 6|Iteration 214|reward:  528.0|last_reward_at:  214|Elapsed Time: 0:00:00||"
     ]
    },
    {
     "name": "stderr",
     "output_type": "stream",
     "text": [
      "\r",
      "Episode 6|Iteration 215|reward:  530.0|last_reward_at:  214|Elapsed Time: 0:00:00||"
     ]
    },
    {
     "name": "stderr",
     "output_type": "stream",
     "text": [
      "\r",
      "Episode 6|Iteration 215|reward:  530.0|last_reward_at:  215|Elapsed Time: 0:00:00||"
     ]
    },
    {
     "name": "stderr",
     "output_type": "stream",
     "text": [
      "\r",
      "Episode 6|Iteration 220|reward:  630.0|last_reward_at:  215|Elapsed Time: 0:00:00||"
     ]
    },
    {
     "name": "stderr",
     "output_type": "stream",
     "text": [
      "\r",
      "Episode 6|Iteration 220|reward:  630.0|last_reward_at:  220|Elapsed Time: 0:00:00||"
     ]
    },
    {
     "name": "stderr",
     "output_type": "stream",
     "text": [
      "\r",
      "Episode 6|Iteration 229|reward:  641.0|last_reward_at:  220|Elapsed Time: 0:00:00||"
     ]
    },
    {
     "name": "stderr",
     "output_type": "stream",
     "text": [
      "\r",
      "Episode 6|Iteration 229|reward:  641.0|last_reward_at:  229|Elapsed Time: 0:00:00||"
     ]
    },
    {
     "name": "stderr",
     "output_type": "stream",
     "text": [
      "\r",
      "Episode 6|Iteration 235|reward:  649.0|last_reward_at:  229|Elapsed Time: 0:00:00||"
     ]
    },
    {
     "name": "stderr",
     "output_type": "stream",
     "text": [
      "\r",
      "Episode 6|Iteration 235|reward:  649.0|last_reward_at:  235|Elapsed Time: 0:00:00||"
     ]
    },
    {
     "name": "stderr",
     "output_type": "stream",
     "text": [
      "\r",
      "Episode 6|Iteration 241|reward: 5649.0|last_reward_at:  235|Elapsed Time: 0:00:00||"
     ]
    },
    {
     "name": "stderr",
     "output_type": "stream",
     "text": [
      "\r",
      "Episode 6|Iteration 241|reward: 5649.0|last_reward_at:  241|Elapsed Time: 0:00:00||"
     ]
    },
    {
     "name": "stderr",
     "output_type": "stream",
     "text": [
      "\n"
     ]
    },
    {
     "name": "stdout",
     "output_type": "stream",
     "text": [
      "  Episode 6 ended at t=241 \n",
      "  Breakdown [Reward/NoReward (Success rate)]\n",
      "    explore-local: 9/71 (0.11)\n",
      "    explore-remote: 11/130 (0.08)\n",
      "    explore-connect: 0/0 (NaN)\n",
      "    exploit-local: 0/0 (NaN)\n",
      "    exploit-remote: 0/0 (NaN)\n",
      "    exploit-connect: 5/15 (0.25)\n",
      "  exploit deflected to exploration: 20\n",
      "  ## Episode: 7/10 'Credential lookups (ϵ-greedy)' ϵ=0.8004, \n"
     ]
    },
    {
     "name": "stderr",
     "output_type": "stream",
     "text": [
      "\r",
      "Episode 7|Iteration 0|reward: ------|last_reward_at: ----|Elapsed Time: 0:00:00||"
     ]
    },
    {
     "name": "stderr",
     "output_type": "stream",
     "text": [
      "\r",
      "Episode 7|Iteration 1|reward:    0.0|last_reward_at: ----|Elapsed Time: 0:00:00||"
     ]
    },
    {
     "name": "stderr",
     "output_type": "stream",
     "text": [
      "\r",
      "Episode 7|Iteration 12|reward:   14.0|last_reward_at: ----|Elapsed Time: 0:00:00||"
     ]
    },
    {
     "name": "stderr",
     "output_type": "stream",
     "text": [
      "\r",
      "Episode 7|Iteration 12|reward:   14.0|last_reward_at:   12|Elapsed Time: 0:00:00||"
     ]
    },
    {
     "name": "stderr",
     "output_type": "stream",
     "text": [
      "\r",
      "Episode 7|Iteration 17|reward:  114.0|last_reward_at:   12|Elapsed Time: 0:00:00||"
     ]
    },
    {
     "name": "stderr",
     "output_type": "stream",
     "text": [
      "\r",
      "Episode 7|Iteration 17|reward:  114.0|last_reward_at:   17|Elapsed Time: 0:00:00||"
     ]
    },
    {
     "name": "stderr",
     "output_type": "stream",
     "text": [
      "\r",
      "Episode 7|Iteration 23|reward:  116.0|last_reward_at:   17|Elapsed Time: 0:00:00||"
     ]
    },
    {
     "name": "stderr",
     "output_type": "stream",
     "text": [
      "\r",
      "Episode 7|Iteration 23|reward:  116.0|last_reward_at:   23|Elapsed Time: 0:00:00||"
     ]
    },
    {
     "name": "stderr",
     "output_type": "stream",
     "text": [
      "\r",
      "Episode 7|Iteration 25|reward:  118.0|last_reward_at:   23|Elapsed Time: 0:00:00||"
     ]
    },
    {
     "name": "stderr",
     "output_type": "stream",
     "text": [
      "\r",
      "Episode 7|Iteration 25|reward:  118.0|last_reward_at:   25|Elapsed Time: 0:00:00||"
     ]
    },
    {
     "name": "stderr",
     "output_type": "stream",
     "text": [
      "\r",
      "Episode 7|Iteration 31|reward:  132.0|last_reward_at:   25|Elapsed Time: 0:00:00||"
     ]
    },
    {
     "name": "stderr",
     "output_type": "stream",
     "text": [
      "\r",
      "Episode 7|Iteration 31|reward:  132.0|last_reward_at:   31|Elapsed Time: 0:00:00||"
     ]
    },
    {
     "name": "stderr",
     "output_type": "stream",
     "text": [
      "\r",
      "Episode 7|Iteration 33|reward:  138.0|last_reward_at:   31|Elapsed Time: 0:00:00||"
     ]
    },
    {
     "name": "stderr",
     "output_type": "stream",
     "text": [
      "\r",
      "Episode 7|Iteration 33|reward:  138.0|last_reward_at:   33|Elapsed Time: 0:00:00||"
     ]
    },
    {
     "name": "stderr",
     "output_type": "stream",
     "text": [
      "\r",
      "Episode 7|Iteration 36|reward:  144.0|last_reward_at:   33|Elapsed Time: 0:00:00||"
     ]
    },
    {
     "name": "stderr",
     "output_type": "stream",
     "text": [
      "\r",
      "Episode 7|Iteration 36|reward:  144.0|last_reward_at:   36|Elapsed Time: 0:00:00||"
     ]
    },
    {
     "name": "stderr",
     "output_type": "stream",
     "text": [
      "\r",
      "Episode 7|Iteration 38|reward:  244.0|last_reward_at:   36|Elapsed Time: 0:00:00||"
     ]
    },
    {
     "name": "stderr",
     "output_type": "stream",
     "text": [
      "\r",
      "Episode 7|Iteration 38|reward:  244.0|last_reward_at:   38|Elapsed Time: 0:00:00||"
     ]
    },
    {
     "name": "stderr",
     "output_type": "stream",
     "text": [
      "\r",
      "Episode 7|Iteration 39|reward:  258.0|last_reward_at:   38|Elapsed Time: 0:00:00||"
     ]
    },
    {
     "name": "stderr",
     "output_type": "stream",
     "text": [
      "\r",
      "Episode 7|Iteration 39|reward:  258.0|last_reward_at:   39|Elapsed Time: 0:00:00||"
     ]
    },
    {
     "name": "stderr",
     "output_type": "stream",
     "text": [
      "\r",
      "Episode 7|Iteration 42|reward:  264.0|last_reward_at:   39|Elapsed Time: 0:00:00||"
     ]
    },
    {
     "name": "stderr",
     "output_type": "stream",
     "text": [
      "\r",
      "Episode 7|Iteration 42|reward:  264.0|last_reward_at:   42|Elapsed Time: 0:00:00||"
     ]
    },
    {
     "name": "stderr",
     "output_type": "stream",
     "text": [
      "\r",
      "Episode 7|Iteration 49|reward:  266.0|last_reward_at:   42|Elapsed Time: 0:00:00||"
     ]
    },
    {
     "name": "stderr",
     "output_type": "stream",
     "text": [
      "\r",
      "Episode 7|Iteration 49|reward:  266.0|last_reward_at:   49|Elapsed Time: 0:00:00||"
     ]
    },
    {
     "name": "stderr",
     "output_type": "stream",
     "text": [
      "\r",
      "Episode 7|Iteration 56|reward:  366.0|last_reward_at:   49|Elapsed Time: 0:00:00||"
     ]
    },
    {
     "name": "stderr",
     "output_type": "stream",
     "text": [
      "\r",
      "Episode 7|Iteration 56|reward:  366.0|last_reward_at:   56|Elapsed Time: 0:00:00||"
     ]
    },
    {
     "name": "stderr",
     "output_type": "stream",
     "text": [
      "\r",
      "Episode 7|Iteration 63|reward:  380.0|last_reward_at:   56|Elapsed Time: 0:00:00||"
     ]
    },
    {
     "name": "stderr",
     "output_type": "stream",
     "text": [
      "\r",
      "Episode 7|Iteration 63|reward:  380.0|last_reward_at:   63|Elapsed Time: 0:00:00||"
     ]
    },
    {
     "name": "stderr",
     "output_type": "stream",
     "text": [
      "\r",
      "Episode 7|Iteration 66|reward:  480.0|last_reward_at:   63|Elapsed Time: 0:00:00||"
     ]
    },
    {
     "name": "stderr",
     "output_type": "stream",
     "text": [
      "\r",
      "Episode 7|Iteration 66|reward:  480.0|last_reward_at:   66|Elapsed Time: 0:00:00||"
     ]
    },
    {
     "name": "stderr",
     "output_type": "stream",
     "text": [
      "\r",
      "Episode 7|Iteration 74|reward:  482.0|last_reward_at:   66|Elapsed Time: 0:00:00||"
     ]
    },
    {
     "name": "stderr",
     "output_type": "stream",
     "text": [
      "\r",
      "Episode 7|Iteration 74|reward:  482.0|last_reward_at:   74|Elapsed Time: 0:00:00||"
     ]
    },
    {
     "name": "stderr",
     "output_type": "stream",
     "text": [
      "\r",
      "Episode 7|Iteration 75|reward:  488.0|last_reward_at:   74|Elapsed Time: 0:00:00||"
     ]
    },
    {
     "name": "stderr",
     "output_type": "stream",
     "text": [
      "\r",
      "Episode 7|Iteration 75|reward:  488.0|last_reward_at:   75|Elapsed Time: 0:00:00||"
     ]
    },
    {
     "name": "stderr",
     "output_type": "stream",
     "text": [
      "\r",
      "Episode 7|Iteration 85|reward:  494.0|last_reward_at:   75|Elapsed Time: 0:00:00||"
     ]
    },
    {
     "name": "stderr",
     "output_type": "stream",
     "text": [
      "\r",
      "Episode 7|Iteration 85|reward:  494.0|last_reward_at:   85|Elapsed Time: 0:00:00||"
     ]
    },
    {
     "name": "stderr",
     "output_type": "stream",
     "text": [
      "\r",
      "Episode 7|Iteration 99|reward:  505.0|last_reward_at:   85|Elapsed Time: 0:00:00||"
     ]
    },
    {
     "name": "stderr",
     "output_type": "stream",
     "text": [
      "\r",
      "Episode 7|Iteration 99|reward:  505.0|last_reward_at:   99|Elapsed Time: 0:00:00||"
     ]
    },
    {
     "name": "stderr",
     "output_type": "stream",
     "text": [
      "\r",
      "Episode 7|Iteration 100|reward:  507.0|last_reward_at:   99|Elapsed Time: 0:00:00||"
     ]
    },
    {
     "name": "stderr",
     "output_type": "stream",
     "text": [
      "\r",
      "Episode 7|Iteration 100|reward:  507.0|last_reward_at:  100|Elapsed Time: 0:00:00||"
     ]
    },
    {
     "name": "stderr",
     "output_type": "stream",
     "text": [
      "\r",
      "Episode 7|Iteration 102|reward:  513.0|last_reward_at:  100|Elapsed Time: 0:00:00||"
     ]
    },
    {
     "name": "stderr",
     "output_type": "stream",
     "text": [
      "\r",
      "Episode 7|Iteration 102|reward:  513.0|last_reward_at:  102|Elapsed Time: 0:00:00||"
     ]
    },
    {
     "name": "stderr",
     "output_type": "stream",
     "text": [
      "\r",
      "Episode 7|Iteration 109|reward:  517.0|last_reward_at:  102|Elapsed Time: 0:00:00||"
     ]
    },
    {
     "name": "stderr",
     "output_type": "stream",
     "text": [
      "\r",
      "Episode 7|Iteration 109|reward:  517.0|last_reward_at:  109|Elapsed Time: 0:00:00||"
     ]
    },
    {
     "name": "stderr",
     "output_type": "stream",
     "text": [
      "\r",
      "Episode 7|Iteration 110|reward:  523.0|last_reward_at:  109|Elapsed Time: 0:00:00||"
     ]
    },
    {
     "name": "stderr",
     "output_type": "stream",
     "text": [
      "\r",
      "Episode 7|Iteration 110|reward:  523.0|last_reward_at:  110|Elapsed Time: 0:00:00||"
     ]
    },
    {
     "name": "stderr",
     "output_type": "stream",
     "text": [
      "\r",
      "Episode 7|Iteration 137|reward:  523.0|last_reward_at:  110|Elapsed Time: 0:00:00||"
     ]
    },
    {
     "name": "stderr",
     "output_type": "stream",
     "text": [
      "\r",
      "Episode 7|Iteration 157|reward:  532.0|last_reward_at:  110|Elapsed Time: 0:00:00||"
     ]
    },
    {
     "name": "stderr",
     "output_type": "stream",
     "text": [
      "\r",
      "Episode 7|Iteration 157|reward:  532.0|last_reward_at:  157|Elapsed Time: 0:00:00||"
     ]
    },
    {
     "name": "stderr",
     "output_type": "stream",
     "text": [
      "\r",
      "Episode 7|Iteration 162|reward:  632.0|last_reward_at:  157|Elapsed Time: 0:00:00||"
     ]
    },
    {
     "name": "stderr",
     "output_type": "stream",
     "text": [
      "\r",
      "Episode 7|Iteration 162|reward:  632.0|last_reward_at:  162|Elapsed Time: 0:00:00||"
     ]
    },
    {
     "name": "stderr",
     "output_type": "stream",
     "text": [
      "\r",
      "Episode 7|Iteration 190|reward:  632.0|last_reward_at:  162|Elapsed Time: 0:00:00||"
     ]
    },
    {
     "name": "stderr",
     "output_type": "stream",
     "text": [
      "\r",
      "Episode 7|Iteration 213|reward:  632.0|last_reward_at:  162|Elapsed Time: 0:00:00||"
     ]
    },
    {
     "name": "stderr",
     "output_type": "stream",
     "text": [
      "\r",
      "Episode 7|Iteration 233|reward:  646.0|last_reward_at:  162|Elapsed Time: 0:00:00||"
     ]
    },
    {
     "name": "stderr",
     "output_type": "stream",
     "text": [
      "\r",
      "Episode 7|Iteration 233|reward:  646.0|last_reward_at:  233|Elapsed Time: 0:00:00||"
     ]
    },
    {
     "name": "stderr",
     "output_type": "stream",
     "text": [
      "\r",
      "Episode 7|Iteration 237|reward:  746.0|last_reward_at:  233|Elapsed Time: 0:00:00||"
     ]
    },
    {
     "name": "stderr",
     "output_type": "stream",
     "text": [
      "\r",
      "Episode 7|Iteration 237|reward:  746.0|last_reward_at:  237|Elapsed Time: 0:00:00||"
     ]
    },
    {
     "name": "stderr",
     "output_type": "stream",
     "text": [
      "\r",
      "Episode 7|Iteration 240|reward:  752.0|last_reward_at:  237|Elapsed Time: 0:00:00||"
     ]
    },
    {
     "name": "stderr",
     "output_type": "stream",
     "text": [
      "\r",
      "Episode 7|Iteration 240|reward:  752.0|last_reward_at:  240|Elapsed Time: 0:00:00||"
     ]
    },
    {
     "name": "stderr",
     "output_type": "stream",
     "text": [
      "\r",
      "Episode 7|Iteration 257|reward:  763.0|last_reward_at:  240|Elapsed Time: 0:00:00||"
     ]
    },
    {
     "name": "stderr",
     "output_type": "stream",
     "text": [
      "\r",
      "Episode 7|Iteration 257|reward:  763.0|last_reward_at:  257|Elapsed Time: 0:00:00||"
     ]
    },
    {
     "name": "stderr",
     "output_type": "stream",
     "text": [
      "\r",
      "Episode 7|Iteration 269|reward:  769.0|last_reward_at:  257|Elapsed Time: 0:00:00||"
     ]
    },
    {
     "name": "stderr",
     "output_type": "stream",
     "text": [
      "\r",
      "Episode 7|Iteration 269|reward:  769.0|last_reward_at:  269|Elapsed Time: 0:00:00||"
     ]
    },
    {
     "name": "stderr",
     "output_type": "stream",
     "text": [
      "\r",
      "Episode 7|Iteration 296|reward: 5769.0|last_reward_at:  269|Elapsed Time: 0:00:00||"
     ]
    },
    {
     "name": "stderr",
     "output_type": "stream",
     "text": [
      "\r",
      "Episode 7|Iteration 296|reward: 5769.0|last_reward_at:  296|Elapsed Time: 0:00:00||"
     ]
    },
    {
     "name": "stderr",
     "output_type": "stream",
     "text": [
      "\n"
     ]
    },
    {
     "name": "stdout",
     "output_type": "stream",
     "text": [
      "  Episode 7 ended at t=296 \n",
      "  Breakdown [Reward/NoReward (Success rate)]\n",
      "    explore-local: 11/111 (0.09)\n",
      "    explore-remote: 13/126 (0.09)\n",
      "    explore-connect: 0/0 (NaN)\n",
      "    exploit-local: 0/0 (NaN)\n",
      "    exploit-remote: 0/0 (NaN)\n",
      "    exploit-connect: 6/29 (0.17)\n",
      "  exploit deflected to exploration: 26\n",
      "  ## Episode: 8/10 'Credential lookups (ϵ-greedy)' ϵ=0.7799, \n"
     ]
    },
    {
     "name": "stderr",
     "output_type": "stream",
     "text": [
      "\r",
      "Episode 8|Iteration 0|reward: ------|last_reward_at: ----|Elapsed Time: 0:00:00||"
     ]
    },
    {
     "name": "stderr",
     "output_type": "stream",
     "text": [
      "\r",
      "Episode 8|Iteration 1|reward:   14.0|last_reward_at: ----|Elapsed Time: 0:00:00||"
     ]
    },
    {
     "name": "stderr",
     "output_type": "stream",
     "text": [
      "\r",
      "Episode 8|Iteration 1|reward:   14.0|last_reward_at:    1|Elapsed Time: 0:00:00||"
     ]
    },
    {
     "name": "stderr",
     "output_type": "stream",
     "text": [
      "\r",
      "Episode 8|Iteration 2|reward:  114.0|last_reward_at:    1|Elapsed Time: 0:00:00||"
     ]
    },
    {
     "name": "stderr",
     "output_type": "stream",
     "text": [
      "\r",
      "Episode 8|Iteration 2|reward:  114.0|last_reward_at:    2|Elapsed Time: 0:00:00||"
     ]
    },
    {
     "name": "stderr",
     "output_type": "stream",
     "text": [
      "\r",
      "Episode 8|Iteration 6|reward:  116.0|last_reward_at:    2|Elapsed Time: 0:00:00||"
     ]
    },
    {
     "name": "stderr",
     "output_type": "stream",
     "text": [
      "\r",
      "Episode 8|Iteration 6|reward:  116.0|last_reward_at:    6|Elapsed Time: 0:00:00||"
     ]
    },
    {
     "name": "stderr",
     "output_type": "stream",
     "text": [
      "\r",
      "Episode 8|Iteration 27|reward:  118.0|last_reward_at:    6|Elapsed Time: 0:00:00||"
     ]
    },
    {
     "name": "stderr",
     "output_type": "stream",
     "text": [
      "\r",
      "Episode 8|Iteration 27|reward:  118.0|last_reward_at:   27|Elapsed Time: 0:00:00||"
     ]
    },
    {
     "name": "stderr",
     "output_type": "stream",
     "text": [
      "\r",
      "Episode 8|Iteration 33|reward:  132.0|last_reward_at:   27|Elapsed Time: 0:00:00||"
     ]
    },
    {
     "name": "stderr",
     "output_type": "stream",
     "text": [
      "\r",
      "Episode 8|Iteration 33|reward:  132.0|last_reward_at:   33|Elapsed Time: 0:00:00||"
     ]
    },
    {
     "name": "stderr",
     "output_type": "stream",
     "text": [
      "\r",
      "Episode 8|Iteration 36|reward:  138.0|last_reward_at:   33|Elapsed Time: 0:00:00||"
     ]
    },
    {
     "name": "stderr",
     "output_type": "stream",
     "text": [
      "\r",
      "Episode 8|Iteration 36|reward:  138.0|last_reward_at:   36|Elapsed Time: 0:00:00||"
     ]
    },
    {
     "name": "stderr",
     "output_type": "stream",
     "text": [
      "\r",
      "Episode 8|Iteration 37|reward:  238.0|last_reward_at:   36|Elapsed Time: 0:00:00||"
     ]
    },
    {
     "name": "stderr",
     "output_type": "stream",
     "text": [
      "\r",
      "Episode 8|Iteration 37|reward:  238.0|last_reward_at:   37|Elapsed Time: 0:00:00||"
     ]
    },
    {
     "name": "stderr",
     "output_type": "stream",
     "text": [
      "\r",
      "Episode 8|Iteration 48|reward:  244.0|last_reward_at:   37|Elapsed Time: 0:00:00||"
     ]
    },
    {
     "name": "stderr",
     "output_type": "stream",
     "text": [
      "\r",
      "Episode 8|Iteration 48|reward:  244.0|last_reward_at:   48|Elapsed Time: 0:00:00||"
     ]
    },
    {
     "name": "stderr",
     "output_type": "stream",
     "text": [
      "\r",
      "Episode 8|Iteration 49|reward:  250.0|last_reward_at:   48|Elapsed Time: 0:00:00||"
     ]
    },
    {
     "name": "stderr",
     "output_type": "stream",
     "text": [
      "\r",
      "Episode 8|Iteration 49|reward:  250.0|last_reward_at:   49|Elapsed Time: 0:00:00||"
     ]
    },
    {
     "name": "stderr",
     "output_type": "stream",
     "text": [
      "\r",
      "Episode 8|Iteration 55|reward:  264.0|last_reward_at:   49|Elapsed Time: 0:00:00||"
     ]
    },
    {
     "name": "stderr",
     "output_type": "stream",
     "text": [
      "\r",
      "Episode 8|Iteration 55|reward:  264.0|last_reward_at:   55|Elapsed Time: 0:00:00||"
     ]
    },
    {
     "name": "stderr",
     "output_type": "stream",
     "text": [
      "\r",
      "Episode 8|Iteration 57|reward:  364.0|last_reward_at:   55|Elapsed Time: 0:00:00||"
     ]
    },
    {
     "name": "stderr",
     "output_type": "stream",
     "text": [
      "\r",
      "Episode 8|Iteration 57|reward:  364.0|last_reward_at:   57|Elapsed Time: 0:00:00||"
     ]
    },
    {
     "name": "stderr",
     "output_type": "stream",
     "text": [
      "\r",
      "Episode 8|Iteration 61|reward:  375.0|last_reward_at:   57|Elapsed Time: 0:00:00||"
     ]
    },
    {
     "name": "stderr",
     "output_type": "stream",
     "text": [
      "\r",
      "Episode 8|Iteration 61|reward:  375.0|last_reward_at:   61|Elapsed Time: 0:00:00||"
     ]
    },
    {
     "name": "stderr",
     "output_type": "stream",
     "text": [
      "\r",
      "Episode 8|Iteration 66|reward:  377.0|last_reward_at:   61|Elapsed Time: 0:00:00||"
     ]
    },
    {
     "name": "stderr",
     "output_type": "stream",
     "text": [
      "\r",
      "Episode 8|Iteration 66|reward:  377.0|last_reward_at:   66|Elapsed Time: 0:00:00||"
     ]
    },
    {
     "name": "stderr",
     "output_type": "stream",
     "text": [
      "\r",
      "Episode 8|Iteration 70|reward:  383.0|last_reward_at:   66|Elapsed Time: 0:00:00||"
     ]
    },
    {
     "name": "stderr",
     "output_type": "stream",
     "text": [
      "\r",
      "Episode 8|Iteration 70|reward:  383.0|last_reward_at:   70|Elapsed Time: 0:00:00||"
     ]
    },
    {
     "name": "stderr",
     "output_type": "stream",
     "text": [
      "\r",
      "Episode 8|Iteration 74|reward:  392.0|last_reward_at:   70|Elapsed Time: 0:00:00||"
     ]
    },
    {
     "name": "stderr",
     "output_type": "stream",
     "text": [
      "\r",
      "Episode 8|Iteration 74|reward:  392.0|last_reward_at:   74|Elapsed Time: 0:00:00||"
     ]
    },
    {
     "name": "stderr",
     "output_type": "stream",
     "text": [
      "\r",
      "Episode 8|Iteration 76|reward:  492.0|last_reward_at:   74|Elapsed Time: 0:00:00||"
     ]
    },
    {
     "name": "stderr",
     "output_type": "stream",
     "text": [
      "\r",
      "Episode 8|Iteration 76|reward:  492.0|last_reward_at:   76|Elapsed Time: 0:00:00||"
     ]
    },
    {
     "name": "stderr",
     "output_type": "stream",
     "text": [
      "\r",
      "Episode 8|Iteration 92|reward:  494.0|last_reward_at:   76|Elapsed Time: 0:00:00||"
     ]
    },
    {
     "name": "stderr",
     "output_type": "stream",
     "text": [
      "\r",
      "Episode 8|Iteration 92|reward:  494.0|last_reward_at:   92|Elapsed Time: 0:00:00||"
     ]
    },
    {
     "name": "stderr",
     "output_type": "stream",
     "text": [
      "\r",
      "Episode 8|Iteration 122|reward:  494.0|last_reward_at:   92|Elapsed Time: 0:00:00||"
     ]
    },
    {
     "name": "stderr",
     "output_type": "stream",
     "text": [
      "\r",
      "Episode 8|Iteration 145|reward:  494.0|last_reward_at:   92|Elapsed Time: 0:00:00||"
     ]
    },
    {
     "name": "stderr",
     "output_type": "stream",
     "text": [
      "\r",
      "Episode 8|Iteration 151|reward:  505.0|last_reward_at:   92|Elapsed Time: 0:00:00||"
     ]
    },
    {
     "name": "stderr",
     "output_type": "stream",
     "text": [
      "\r",
      "Episode 8|Iteration 151|reward:  505.0|last_reward_at:  151|Elapsed Time: 0:00:00||"
     ]
    },
    {
     "name": "stderr",
     "output_type": "stream",
     "text": [
      "\r",
      "Episode 8|Iteration 154|reward:  511.0|last_reward_at:  151|Elapsed Time: 0:00:00||"
     ]
    },
    {
     "name": "stderr",
     "output_type": "stream",
     "text": [
      "\r",
      "Episode 8|Iteration 154|reward:  511.0|last_reward_at:  154|Elapsed Time: 0:00:00||"
     ]
    },
    {
     "name": "stderr",
     "output_type": "stream",
     "text": [
      "\r",
      "Episode 8|Iteration 156|reward:  513.0|last_reward_at:  154|Elapsed Time: 0:00:00||"
     ]
    },
    {
     "name": "stderr",
     "output_type": "stream",
     "text": [
      "\r",
      "Episode 8|Iteration 156|reward:  513.0|last_reward_at:  156|Elapsed Time: 0:00:00||"
     ]
    },
    {
     "name": "stderr",
     "output_type": "stream",
     "text": [
      "\r",
      "Episode 8|Iteration 183|reward:  513.0|last_reward_at:  156|Elapsed Time: 0:00:00||"
     ]
    },
    {
     "name": "stderr",
     "output_type": "stream",
     "text": [
      "\r",
      "Episode 8|Iteration 191|reward:  517.0|last_reward_at:  156|Elapsed Time: 0:00:00||"
     ]
    },
    {
     "name": "stderr",
     "output_type": "stream",
     "text": [
      "\r",
      "Episode 8|Iteration 191|reward:  517.0|last_reward_at:  191|Elapsed Time: 0:00:00||"
     ]
    },
    {
     "name": "stderr",
     "output_type": "stream",
     "text": [
      "\r",
      "Episode 8|Iteration 208|reward:  523.0|last_reward_at:  191|Elapsed Time: 0:00:00||"
     ]
    },
    {
     "name": "stderr",
     "output_type": "stream",
     "text": [
      "\r",
      "Episode 8|Iteration 208|reward:  523.0|last_reward_at:  208|Elapsed Time: 0:00:00||"
     ]
    },
    {
     "name": "stderr",
     "output_type": "stream",
     "text": [
      "\r",
      "Episode 8|Iteration 244|reward:  523.0|last_reward_at:  208|Elapsed Time: 0:00:00||"
     ]
    },
    {
     "name": "stderr",
     "output_type": "stream",
     "text": [
      "\r",
      "Episode 8|Iteration 265|reward:  532.0|last_reward_at:  208|Elapsed Time: 0:00:00||"
     ]
    },
    {
     "name": "stderr",
     "output_type": "stream",
     "text": [
      "\r",
      "Episode 8|Iteration 265|reward:  532.0|last_reward_at:  265|Elapsed Time: 0:00:00||"
     ]
    },
    {
     "name": "stderr",
     "output_type": "stream",
     "text": [
      "\r",
      "Episode 8|Iteration 269|reward:  632.0|last_reward_at:  265|Elapsed Time: 0:00:00||"
     ]
    },
    {
     "name": "stderr",
     "output_type": "stream",
     "text": [
      "\r",
      "Episode 8|Iteration 269|reward:  632.0|last_reward_at:  269|Elapsed Time: 0:00:00||"
     ]
    },
    {
     "name": "stderr",
     "output_type": "stream",
     "text": [
      "\r",
      "Episode 8|Iteration 274|reward:  646.0|last_reward_at:  269|Elapsed Time: 0:00:00||"
     ]
    },
    {
     "name": "stderr",
     "output_type": "stream",
     "text": [
      "\r",
      "Episode 8|Iteration 274|reward:  646.0|last_reward_at:  274|Elapsed Time: 0:00:00||"
     ]
    },
    {
     "name": "stderr",
     "output_type": "stream",
     "text": [
      "\r",
      "Episode 8|Iteration 284|reward:  654.0|last_reward_at:  274|Elapsed Time: 0:00:00||"
     ]
    },
    {
     "name": "stderr",
     "output_type": "stream",
     "text": [
      "\r",
      "Episode 8|Iteration 284|reward:  654.0|last_reward_at:  284|Elapsed Time: 0:00:00||"
     ]
    },
    {
     "name": "stderr",
     "output_type": "stream",
     "text": [
      "\r",
      "Episode 8|Iteration 289|reward:  754.0|last_reward_at:  284|Elapsed Time: 0:00:00||"
     ]
    },
    {
     "name": "stderr",
     "output_type": "stream",
     "text": [
      "\r",
      "Episode 8|Iteration 289|reward:  754.0|last_reward_at:  289|Elapsed Time: 0:00:00||"
     ]
    },
    {
     "name": "stderr",
     "output_type": "stream",
     "text": [
      "\r",
      "Episode 8|Iteration 311|reward:  765.0|last_reward_at:  289|Elapsed Time: 0:00:00||"
     ]
    },
    {
     "name": "stderr",
     "output_type": "stream",
     "text": [
      "\r",
      "Episode 8|Iteration 311|reward:  765.0|last_reward_at:  311|Elapsed Time: 0:00:00||"
     ]
    },
    {
     "name": "stderr",
     "output_type": "stream",
     "text": [
      "\r",
      "Episode 8|Iteration 330|reward:  769.0|last_reward_at:  311|Elapsed Time: 0:00:00||"
     ]
    },
    {
     "name": "stderr",
     "output_type": "stream",
     "text": [
      "\r",
      "Episode 8|Iteration 330|reward:  769.0|last_reward_at:  330|Elapsed Time: 0:00:00||"
     ]
    },
    {
     "name": "stderr",
     "output_type": "stream",
     "text": [
      "\r",
      "Episode 8|Iteration 340|reward:  771.0|last_reward_at:  330|Elapsed Time: 0:00:00||"
     ]
    },
    {
     "name": "stderr",
     "output_type": "stream",
     "text": [
      "\r",
      "Episode 8|Iteration 340|reward:  771.0|last_reward_at:  340|Elapsed Time: 0:00:00||"
     ]
    },
    {
     "name": "stderr",
     "output_type": "stream",
     "text": [
      "\r",
      "Episode 8|Iteration 352|reward:  777.0|last_reward_at:  340|Elapsed Time: 0:00:00||"
     ]
    },
    {
     "name": "stderr",
     "output_type": "stream",
     "text": [
      "\r",
      "Episode 8|Iteration 352|reward:  777.0|last_reward_at:  352|Elapsed Time: 0:00:00||"
     ]
    },
    {
     "name": "stderr",
     "output_type": "stream",
     "text": [
      "\r",
      "Episode 8|Iteration 366|reward: 5777.0|last_reward_at:  352|Elapsed Time: 0:00:00||"
     ]
    },
    {
     "name": "stderr",
     "output_type": "stream",
     "text": [
      "\r",
      "Episode 8|Iteration 366|reward: 5777.0|last_reward_at:  366|Elapsed Time: 0:00:00||"
     ]
    },
    {
     "name": "stderr",
     "output_type": "stream",
     "text": [
      "\n"
     ]
    },
    {
     "name": "stdout",
     "output_type": "stream",
     "text": [
      "  Episode 8 ended at t=366 \n",
      "  Breakdown [Reward/NoReward (Success rate)]\n",
      "    explore-local: 12/102 (0.11)\n",
      "    explore-remote: 14/177 (0.07)\n",
      "    explore-connect: 0/0 (NaN)\n",
      "    exploit-local: 0/0 (NaN)\n",
      "    exploit-remote: 0/0 (NaN)\n",
      "    exploit-connect: 6/55 (0.10)\n",
      "  exploit deflected to exploration: 13\n",
      "  ## Episode: 9/10 'Credential lookups (ϵ-greedy)' ϵ=0.7555, \n"
     ]
    },
    {
     "name": "stderr",
     "output_type": "stream",
     "text": [
      "\r",
      "Episode 9|Iteration 0|reward: ------|last_reward_at: ----|Elapsed Time: 0:00:00||"
     ]
    },
    {
     "name": "stderr",
     "output_type": "stream",
     "text": [
      "\r",
      "Episode 9|Iteration 1|reward:    0.0|last_reward_at: ----|Elapsed Time: 0:00:00||"
     ]
    },
    {
     "name": "stderr",
     "output_type": "stream",
     "text": [
      "\r",
      "Episode 9|Iteration 12|reward:   14.0|last_reward_at: ----|Elapsed Time: 0:00:00||"
     ]
    },
    {
     "name": "stderr",
     "output_type": "stream",
     "text": [
      "\r",
      "Episode 9|Iteration 12|reward:   14.0|last_reward_at:   12|Elapsed Time: 0:00:00||"
     ]
    },
    {
     "name": "stderr",
     "output_type": "stream",
     "text": [
      "\r",
      "Episode 9|Iteration 14|reward:   18.0|last_reward_at:   12|Elapsed Time: 0:00:00||"
     ]
    },
    {
     "name": "stderr",
     "output_type": "stream",
     "text": [
      "\r",
      "Episode 9|Iteration 14|reward:   18.0|last_reward_at:   14|Elapsed Time: 0:00:00||"
     ]
    },
    {
     "name": "stderr",
     "output_type": "stream",
     "text": [
      "\r",
      "Episode 9|Iteration 16|reward:  118.0|last_reward_at:   14|Elapsed Time: 0:00:00||"
     ]
    },
    {
     "name": "stderr",
     "output_type": "stream",
     "text": [
      "\r",
      "Episode 9|Iteration 16|reward:  118.0|last_reward_at:   16|Elapsed Time: 0:00:00||"
     ]
    },
    {
     "name": "stderr",
     "output_type": "stream",
     "text": [
      "\r",
      "Episode 9|Iteration 21|reward:  120.0|last_reward_at:   16|Elapsed Time: 0:00:00||"
     ]
    },
    {
     "name": "stderr",
     "output_type": "stream",
     "text": [
      "\r",
      "Episode 9|Iteration 21|reward:  120.0|last_reward_at:   21|Elapsed Time: 0:00:00||"
     ]
    },
    {
     "name": "stderr",
     "output_type": "stream",
     "text": [
      "\r",
      "Episode 9|Iteration 31|reward:  134.0|last_reward_at:   21|Elapsed Time: 0:00:00||"
     ]
    },
    {
     "name": "stderr",
     "output_type": "stream",
     "text": [
      "\r",
      "Episode 9|Iteration 31|reward:  134.0|last_reward_at:   31|Elapsed Time: 0:00:00||"
     ]
    },
    {
     "name": "stderr",
     "output_type": "stream",
     "text": [
      "\r",
      "Episode 9|Iteration 33|reward:  142.0|last_reward_at:   31|Elapsed Time: 0:00:00||"
     ]
    },
    {
     "name": "stderr",
     "output_type": "stream",
     "text": [
      "\r",
      "Episode 9|Iteration 33|reward:  142.0|last_reward_at:   33|Elapsed Time: 0:00:00||"
     ]
    },
    {
     "name": "stderr",
     "output_type": "stream",
     "text": [
      "\r",
      "Episode 9|Iteration 36|reward:  242.0|last_reward_at:   33|Elapsed Time: 0:00:00||"
     ]
    },
    {
     "name": "stderr",
     "output_type": "stream",
     "text": [
      "\r",
      "Episode 9|Iteration 36|reward:  242.0|last_reward_at:   36|Elapsed Time: 0:00:00||"
     ]
    },
    {
     "name": "stderr",
     "output_type": "stream",
     "text": [
      "\r",
      "Episode 9|Iteration 40|reward:  253.0|last_reward_at:   36|Elapsed Time: 0:00:00||"
     ]
    },
    {
     "name": "stderr",
     "output_type": "stream",
     "text": [
      "\r",
      "Episode 9|Iteration 40|reward:  253.0|last_reward_at:   40|Elapsed Time: 0:00:00||"
     ]
    },
    {
     "name": "stderr",
     "output_type": "stream",
     "text": [
      "\r",
      "Episode 9|Iteration 42|reward:  259.0|last_reward_at:   40|Elapsed Time: 0:00:00||"
     ]
    },
    {
     "name": "stderr",
     "output_type": "stream",
     "text": [
      "\r",
      "Episode 9|Iteration 42|reward:  259.0|last_reward_at:   42|Elapsed Time: 0:00:00||"
     ]
    },
    {
     "name": "stderr",
     "output_type": "stream",
     "text": [
      "\r",
      "Episode 9|Iteration 47|reward:  268.0|last_reward_at:   42|Elapsed Time: 0:00:00||"
     ]
    },
    {
     "name": "stderr",
     "output_type": "stream",
     "text": [
      "\r",
      "Episode 9|Iteration 47|reward:  268.0|last_reward_at:   47|Elapsed Time: 0:00:00||"
     ]
    },
    {
     "name": "stderr",
     "output_type": "stream",
     "text": [
      "\r",
      "Episode 9|Iteration 49|reward:  272.0|last_reward_at:   47|Elapsed Time: 0:00:00||"
     ]
    },
    {
     "name": "stderr",
     "output_type": "stream",
     "text": [
      "\r",
      "Episode 9|Iteration 49|reward:  272.0|last_reward_at:   49|Elapsed Time: 0:00:00||"
     ]
    },
    {
     "name": "stderr",
     "output_type": "stream",
     "text": [
      "\r",
      "Episode 9|Iteration 52|reward:  278.0|last_reward_at:   49|Elapsed Time: 0:00:00||"
     ]
    },
    {
     "name": "stderr",
     "output_type": "stream",
     "text": [
      "\r",
      "Episode 9|Iteration 52|reward:  278.0|last_reward_at:   52|Elapsed Time: 0:00:00||"
     ]
    },
    {
     "name": "stderr",
     "output_type": "stream",
     "text": [
      "\r",
      "Episode 9|Iteration 54|reward:  378.0|last_reward_at:   52|Elapsed Time: 0:00:00||"
     ]
    },
    {
     "name": "stderr",
     "output_type": "stream",
     "text": [
      "\r",
      "Episode 9|Iteration 54|reward:  378.0|last_reward_at:   54|Elapsed Time: 0:00:00||"
     ]
    },
    {
     "name": "stderr",
     "output_type": "stream",
     "text": [
      "\r",
      "Episode 9|Iteration 56|reward:  380.0|last_reward_at:   54|Elapsed Time: 0:00:00||"
     ]
    },
    {
     "name": "stderr",
     "output_type": "stream",
     "text": [
      "\r",
      "Episode 9|Iteration 56|reward:  380.0|last_reward_at:   56|Elapsed Time: 0:00:00||"
     ]
    },
    {
     "name": "stderr",
     "output_type": "stream",
     "text": [
      "\r",
      "Episode 9|Iteration 63|reward:  394.0|last_reward_at:   56|Elapsed Time: 0:00:00||"
     ]
    },
    {
     "name": "stderr",
     "output_type": "stream",
     "text": [
      "\r",
      "Episode 9|Iteration 63|reward:  394.0|last_reward_at:   63|Elapsed Time: 0:00:00||"
     ]
    },
    {
     "name": "stderr",
     "output_type": "stream",
     "text": [
      "\r",
      "Episode 9|Iteration 64|reward:  402.0|last_reward_at:   63|Elapsed Time: 0:00:00||"
     ]
    },
    {
     "name": "stderr",
     "output_type": "stream",
     "text": [
      "\r",
      "Episode 9|Iteration 64|reward:  402.0|last_reward_at:   64|Elapsed Time: 0:00:00||"
     ]
    },
    {
     "name": "stderr",
     "output_type": "stream",
     "text": [
      "\r",
      "Episode 9|Iteration 69|reward:  502.0|last_reward_at:   64|Elapsed Time: 0:00:00||"
     ]
    },
    {
     "name": "stderr",
     "output_type": "stream",
     "text": [
      "\r",
      "Episode 9|Iteration 69|reward:  502.0|last_reward_at:   69|Elapsed Time: 0:00:00||"
     ]
    },
    {
     "name": "stderr",
     "output_type": "stream",
     "text": [
      "\r",
      "Episode 9|Iteration 70|reward:  513.0|last_reward_at:   69|Elapsed Time: 0:00:00||"
     ]
    },
    {
     "name": "stderr",
     "output_type": "stream",
     "text": [
      "\r",
      "Episode 9|Iteration 70|reward:  513.0|last_reward_at:   70|Elapsed Time: 0:00:00||"
     ]
    },
    {
     "name": "stderr",
     "output_type": "stream",
     "text": [
      "\r",
      "Episode 9|Iteration 76|reward:  515.0|last_reward_at:   70|Elapsed Time: 0:00:00||"
     ]
    },
    {
     "name": "stderr",
     "output_type": "stream",
     "text": [
      "\r",
      "Episode 9|Iteration 76|reward:  515.0|last_reward_at:   76|Elapsed Time: 0:00:00||"
     ]
    },
    {
     "name": "stderr",
     "output_type": "stream",
     "text": [
      "\r",
      "Episode 9|Iteration 78|reward:  524.0|last_reward_at:   76|Elapsed Time: 0:00:00||"
     ]
    },
    {
     "name": "stderr",
     "output_type": "stream",
     "text": [
      "\r",
      "Episode 9|Iteration 78|reward:  524.0|last_reward_at:   78|Elapsed Time: 0:00:00||"
     ]
    },
    {
     "name": "stderr",
     "output_type": "stream",
     "text": [
      "\r",
      "Episode 9|Iteration 81|reward:  528.0|last_reward_at:   78|Elapsed Time: 0:00:00||"
     ]
    },
    {
     "name": "stderr",
     "output_type": "stream",
     "text": [
      "\r",
      "Episode 9|Iteration 81|reward:  528.0|last_reward_at:   81|Elapsed Time: 0:00:00||"
     ]
    },
    {
     "name": "stderr",
     "output_type": "stream",
     "text": [
      "\r",
      "Episode 9|Iteration 86|reward:  534.0|last_reward_at:   81|Elapsed Time: 0:00:00||"
     ]
    },
    {
     "name": "stderr",
     "output_type": "stream",
     "text": [
      "\r",
      "Episode 9|Iteration 86|reward:  534.0|last_reward_at:   86|Elapsed Time: 0:00:00||"
     ]
    },
    {
     "name": "stderr",
     "output_type": "stream",
     "text": [
      "\r",
      "Episode 9|Iteration 88|reward:  634.0|last_reward_at:   86|Elapsed Time: 0:00:00||"
     ]
    },
    {
     "name": "stderr",
     "output_type": "stream",
     "text": [
      "\r",
      "Episode 9|Iteration 88|reward:  634.0|last_reward_at:   88|Elapsed Time: 0:00:00||"
     ]
    },
    {
     "name": "stderr",
     "output_type": "stream",
     "text": [
      "\r",
      "Episode 9|Iteration 91|reward:  648.0|last_reward_at:   88|Elapsed Time: 0:00:00||"
     ]
    },
    {
     "name": "stderr",
     "output_type": "stream",
     "text": [
      "\r",
      "Episode 9|Iteration 91|reward:  648.0|last_reward_at:   91|Elapsed Time: 0:00:00||"
     ]
    },
    {
     "name": "stderr",
     "output_type": "stream",
     "text": [
      "\r",
      "Episode 9|Iteration 94|reward:  748.0|last_reward_at:   91|Elapsed Time: 0:00:00||"
     ]
    },
    {
     "name": "stderr",
     "output_type": "stream",
     "text": [
      "\r",
      "Episode 9|Iteration 94|reward:  748.0|last_reward_at:   94|Elapsed Time: 0:00:00||"
     ]
    },
    {
     "name": "stderr",
     "output_type": "stream",
     "text": [
      "\r",
      "Episode 9|Iteration 107|reward:  754.0|last_reward_at:   94|Elapsed Time: 0:00:00||"
     ]
    },
    {
     "name": "stderr",
     "output_type": "stream",
     "text": [
      "\r",
      "Episode 9|Iteration 107|reward:  754.0|last_reward_at:  107|Elapsed Time: 0:00:00||"
     ]
    },
    {
     "name": "stderr",
     "output_type": "stream",
     "text": [
      "\r",
      "Episode 9|Iteration 117|reward:  768.0|last_reward_at:  107|Elapsed Time: 0:00:00||"
     ]
    },
    {
     "name": "stderr",
     "output_type": "stream",
     "text": [
      "\r",
      "Episode 9|Iteration 117|reward:  768.0|last_reward_at:  117|Elapsed Time: 0:00:00||"
     ]
    },
    {
     "name": "stderr",
     "output_type": "stream",
     "text": [
      "\r",
      "Episode 9|Iteration 119|reward:  868.0|last_reward_at:  117|Elapsed Time: 0:00:00||"
     ]
    },
    {
     "name": "stderr",
     "output_type": "stream",
     "text": [
      "\r",
      "Episode 9|Iteration 119|reward:  868.0|last_reward_at:  119|Elapsed Time: 0:00:00||"
     ]
    },
    {
     "name": "stderr",
     "output_type": "stream",
     "text": [
      "\r",
      "Episode 9|Iteration 126|reward:  870.0|last_reward_at:  119|Elapsed Time: 0:00:00||"
     ]
    },
    {
     "name": "stderr",
     "output_type": "stream",
     "text": [
      "\r",
      "Episode 9|Iteration 126|reward:  870.0|last_reward_at:  126|Elapsed Time: 0:00:00||"
     ]
    },
    {
     "name": "stderr",
     "output_type": "stream",
     "text": [
      "\r",
      "Episode 9|Iteration 127|reward:  876.0|last_reward_at:  126|Elapsed Time: 0:00:00||"
     ]
    },
    {
     "name": "stderr",
     "output_type": "stream",
     "text": [
      "\r",
      "Episode 9|Iteration 127|reward:  876.0|last_reward_at:  127|Elapsed Time: 0:00:00||"
     ]
    },
    {
     "name": "stderr",
     "output_type": "stream",
     "text": [
      "\r",
      "Episode 9|Iteration 141|reward:  882.0|last_reward_at:  127|Elapsed Time: 0:00:00||"
     ]
    },
    {
     "name": "stderr",
     "output_type": "stream",
     "text": [
      "\r",
      "Episode 9|Iteration 141|reward:  882.0|last_reward_at:  141|Elapsed Time: 0:00:00||"
     ]
    },
    {
     "name": "stderr",
     "output_type": "stream",
     "text": [
      "\r",
      "Episode 9|Iteration 145|reward:  884.0|last_reward_at:  141|Elapsed Time: 0:00:00||"
     ]
    },
    {
     "name": "stderr",
     "output_type": "stream",
     "text": [
      "\r",
      "Episode 9|Iteration 145|reward:  884.0|last_reward_at:  145|Elapsed Time: 0:00:00||"
     ]
    },
    {
     "name": "stderr",
     "output_type": "stream",
     "text": [
      "\r",
      "Episode 9|Iteration 146|reward: 5884.0|last_reward_at:  145|Elapsed Time: 0:00:00||"
     ]
    },
    {
     "name": "stderr",
     "output_type": "stream",
     "text": [
      "\r",
      "Episode 9|Iteration 146|reward: 5884.0|last_reward_at:  146|Elapsed Time: 0:00:00||"
     ]
    },
    {
     "name": "stderr",
     "output_type": "stream",
     "text": [
      "\n"
     ]
    },
    {
     "name": "stdout",
     "output_type": "stream",
     "text": [
      "  Episode 9 ended at t=146 \n",
      "  Breakdown [Reward/NoReward (Success rate)]\n",
      "    explore-local: 13/35 (0.27)\n",
      "    explore-remote: 13/61 (0.18)\n",
      "    explore-connect: 0/0 (NaN)\n",
      "    exploit-local: 0/0 (NaN)\n",
      "    exploit-remote: 0/0 (NaN)\n",
      "    exploit-connect: 7/17 (0.29)\n",
      "  exploit deflected to exploration: 10\n",
      "  ## Episode: 10/10 'Credential lookups (ϵ-greedy)' ϵ=0.7460, \n"
     ]
    },
    {
     "name": "stderr",
     "output_type": "stream",
     "text": [
      "\r",
      "Episode 10|Iteration 0|reward: ------|last_reward_at: ----|Elapsed Time: 0:00:00||"
     ]
    },
    {
     "name": "stderr",
     "output_type": "stream",
     "text": [
      "\r",
      "Episode 10|Iteration 1|reward:    0.0|last_reward_at: ----|Elapsed Time: 0:00:00||"
     ]
    },
    {
     "name": "stderr",
     "output_type": "stream",
     "text": [
      "\r",
      "Episode 10|Iteration 13|reward:   14.0|last_reward_at: ----|Elapsed Time: 0:00:00||"
     ]
    },
    {
     "name": "stderr",
     "output_type": "stream",
     "text": [
      "\r",
      "Episode 10|Iteration 13|reward:   14.0|last_reward_at:   13|Elapsed Time: 0:00:00||"
     ]
    },
    {
     "name": "stderr",
     "output_type": "stream",
     "text": [
      "\r",
      "Episode 10|Iteration 14|reward:   16.0|last_reward_at:   13|Elapsed Time: 0:00:00||"
     ]
    },
    {
     "name": "stderr",
     "output_type": "stream",
     "text": [
      "\r",
      "Episode 10|Iteration 14|reward:   16.0|last_reward_at:   14|Elapsed Time: 0:00:00||"
     ]
    },
    {
     "name": "stderr",
     "output_type": "stream",
     "text": [
      "\r",
      "Episode 10|Iteration 17|reward:  116.0|last_reward_at:   14|Elapsed Time: 0:00:00||"
     ]
    },
    {
     "name": "stderr",
     "output_type": "stream",
     "text": [
      "\r",
      "Episode 10|Iteration 17|reward:  116.0|last_reward_at:   17|Elapsed Time: 0:00:00||"
     ]
    },
    {
     "name": "stderr",
     "output_type": "stream",
     "text": [
      "\r",
      "Episode 10|Iteration 22|reward:  130.0|last_reward_at:   17|Elapsed Time: 0:00:00||"
     ]
    },
    {
     "name": "stderr",
     "output_type": "stream",
     "text": [
      "\r",
      "Episode 10|Iteration 22|reward:  130.0|last_reward_at:   22|Elapsed Time: 0:00:00||"
     ]
    },
    {
     "name": "stderr",
     "output_type": "stream",
     "text": [
      "\r",
      "Episode 10|Iteration 24|reward:  136.0|last_reward_at:   22|Elapsed Time: 0:00:00||"
     ]
    },
    {
     "name": "stderr",
     "output_type": "stream",
     "text": [
      "\r",
      "Episode 10|Iteration 24|reward:  136.0|last_reward_at:   24|Elapsed Time: 0:00:00||"
     ]
    },
    {
     "name": "stderr",
     "output_type": "stream",
     "text": [
      "\r",
      "Episode 10|Iteration 28|reward:  144.0|last_reward_at:   24|Elapsed Time: 0:00:00||"
     ]
    },
    {
     "name": "stderr",
     "output_type": "stream",
     "text": [
      "\r",
      "Episode 10|Iteration 28|reward:  144.0|last_reward_at:   28|Elapsed Time: 0:00:00||"
     ]
    },
    {
     "name": "stderr",
     "output_type": "stream",
     "text": [
      "\r",
      "Episode 10|Iteration 29|reward:  244.0|last_reward_at:   28|Elapsed Time: 0:00:00||"
     ]
    },
    {
     "name": "stderr",
     "output_type": "stream",
     "text": [
      "\r",
      "Episode 10|Iteration 29|reward:  244.0|last_reward_at:   29|Elapsed Time: 0:00:00||"
     ]
    },
    {
     "name": "stderr",
     "output_type": "stream",
     "text": [
      "\r",
      "Episode 10|Iteration 31|reward:  255.0|last_reward_at:   29|Elapsed Time: 0:00:00||"
     ]
    },
    {
     "name": "stderr",
     "output_type": "stream",
     "text": [
      "\r",
      "Episode 10|Iteration 31|reward:  255.0|last_reward_at:   31|Elapsed Time: 0:00:00||"
     ]
    },
    {
     "name": "stderr",
     "output_type": "stream",
     "text": [
      "\r",
      "Episode 10|Iteration 37|reward:  261.0|last_reward_at:   31|Elapsed Time: 0:00:00||"
     ]
    },
    {
     "name": "stderr",
     "output_type": "stream",
     "text": [
      "\r",
      "Episode 10|Iteration 37|reward:  261.0|last_reward_at:   37|Elapsed Time: 0:00:00||"
     ]
    },
    {
     "name": "stderr",
     "output_type": "stream",
     "text": [
      "\r",
      "Episode 10|Iteration 38|reward:  263.0|last_reward_at:   37|Elapsed Time: 0:00:00||"
     ]
    },
    {
     "name": "stderr",
     "output_type": "stream",
     "text": [
      "\r",
      "Episode 10|Iteration 38|reward:  263.0|last_reward_at:   38|Elapsed Time: 0:00:00||"
     ]
    },
    {
     "name": "stderr",
     "output_type": "stream",
     "text": [
      "\r",
      "Episode 10|Iteration 44|reward:  272.0|last_reward_at:   38|Elapsed Time: 0:00:00||"
     ]
    },
    {
     "name": "stderr",
     "output_type": "stream",
     "text": [
      "\r",
      "Episode 10|Iteration 44|reward:  272.0|last_reward_at:   44|Elapsed Time: 0:00:00||"
     ]
    },
    {
     "name": "stderr",
     "output_type": "stream",
     "text": [
      "\r",
      "Episode 10|Iteration 46|reward:  372.0|last_reward_at:   44|Elapsed Time: 0:00:00||"
     ]
    },
    {
     "name": "stderr",
     "output_type": "stream",
     "text": [
      "\r",
      "Episode 10|Iteration 46|reward:  372.0|last_reward_at:   46|Elapsed Time: 0:00:00||"
     ]
    },
    {
     "name": "stderr",
     "output_type": "stream",
     "text": [
      "\r",
      "Episode 10|Iteration 49|reward:  374.0|last_reward_at:   46|Elapsed Time: 0:00:00||"
     ]
    },
    {
     "name": "stderr",
     "output_type": "stream",
     "text": [
      "\r",
      "Episode 10|Iteration 49|reward:  374.0|last_reward_at:   49|Elapsed Time: 0:00:00||"
     ]
    },
    {
     "name": "stderr",
     "output_type": "stream",
     "text": [
      "\r",
      "Episode 10|Iteration 50|reward:  376.0|last_reward_at:   49|Elapsed Time: 0:00:00||"
     ]
    },
    {
     "name": "stderr",
     "output_type": "stream",
     "text": [
      "\r",
      "Episode 10|Iteration 50|reward:  376.0|last_reward_at:   50|Elapsed Time: 0:00:00||"
     ]
    },
    {
     "name": "stderr",
     "output_type": "stream",
     "text": [
      "\r",
      "Episode 10|Iteration 69|reward:  387.0|last_reward_at:   50|Elapsed Time: 0:00:00||"
     ]
    },
    {
     "name": "stderr",
     "output_type": "stream",
     "text": [
      "\r",
      "Episode 10|Iteration 69|reward:  387.0|last_reward_at:   69|Elapsed Time: 0:00:00||"
     ]
    },
    {
     "name": "stderr",
     "output_type": "stream",
     "text": [
      "\r",
      "Episode 10|Iteration 79|reward:  395.0|last_reward_at:   69|Elapsed Time: 0:00:00||"
     ]
    },
    {
     "name": "stderr",
     "output_type": "stream",
     "text": [
      "\r",
      "Episode 10|Iteration 79|reward:  395.0|last_reward_at:   79|Elapsed Time: 0:00:00||"
     ]
    },
    {
     "name": "stderr",
     "output_type": "stream",
     "text": [
      "\r",
      "Episode 10|Iteration 102|reward:  401.0|last_reward_at:   79|Elapsed Time: 0:00:00||"
     ]
    },
    {
     "name": "stderr",
     "output_type": "stream",
     "text": [
      "\r",
      "Episode 10|Iteration 102|reward:  401.0|last_reward_at:  102|Elapsed Time: 0:00:00||"
     ]
    },
    {
     "name": "stderr",
     "output_type": "stream",
     "text": [
      "\r",
      "Episode 10|Iteration 137|reward:  401.0|last_reward_at:  102|Elapsed Time: 0:00:00||"
     ]
    },
    {
     "name": "stderr",
     "output_type": "stream",
     "text": [
      "\r",
      "Episode 10|Iteration 168|reward:  401.0|last_reward_at:  102|Elapsed Time: 0:00:00||"
     ]
    },
    {
     "name": "stderr",
     "output_type": "stream",
     "text": [
      "\r",
      "Episode 10|Iteration 193|reward:  410.0|last_reward_at:  102|Elapsed Time: 0:00:00||"
     ]
    },
    {
     "name": "stderr",
     "output_type": "stream",
     "text": [
      "\r",
      "Episode 10|Iteration 193|reward:  410.0|last_reward_at:  193|Elapsed Time: 0:00:00||"
     ]
    },
    {
     "name": "stderr",
     "output_type": "stream",
     "text": [
      "\r",
      "Episode 10|Iteration 198|reward:  510.0|last_reward_at:  193|Elapsed Time: 0:00:00||"
     ]
    },
    {
     "name": "stderr",
     "output_type": "stream",
     "text": [
      "\r",
      "Episode 10|Iteration 198|reward:  510.0|last_reward_at:  198|Elapsed Time: 0:00:00||"
     ]
    },
    {
     "name": "stderr",
     "output_type": "stream",
     "text": [
      "\r",
      "Episode 10|Iteration 221|reward:  510.0|last_reward_at:  198|Elapsed Time: 0:00:00||"
     ]
    },
    {
     "name": "stderr",
     "output_type": "stream",
     "text": [
      "\r",
      "Episode 10|Iteration 221|reward: 5510.0|last_reward_at:  198|Elapsed Time: 0:00:00||"
     ]
    },
    {
     "name": "stderr",
     "output_type": "stream",
     "text": [
      "\r",
      "Episode 10|Iteration 221|reward: 5510.0|last_reward_at:  221|Elapsed Time: 0:00:00||"
     ]
    },
    {
     "name": "stderr",
     "output_type": "stream",
     "text": [
      "\n"
     ]
    },
    {
     "name": "stdout",
     "output_type": "stream",
     "text": [
      "  Episode 10 ended at t=221 \n",
      "  Breakdown [Reward/NoReward (Success rate)]\n",
      "    explore-local: 7/60 (0.10)\n",
      "    explore-remote: 9/105 (0.08)\n",
      "    explore-connect: 0/0 (NaN)\n",
      "    exploit-local: 0/0 (NaN)\n",
      "    exploit-remote: 0/0 (NaN)\n",
      "    exploit-connect: 4/36 (0.10)\n",
      "  exploit deflected to exploration: 23\n",
      "simulation ended\n"
     ]
    },
    {
     "data": {
      "image/png": "[encoded data removed]",
      "text/plain": [
       "<Figure size 640x480 with 1 Axes>"
      ]
     },
     "metadata": {},
     "output_type": "display_data"
    }
   ],
   "source": [
    "credlookup_run = learner.epsilon_greedy_search(\n",
    "    cyberbattlechain_defender,\n",
    "    ep,\n",
    "    learner=rca.CredentialCacheExploiter(),\n",
    "    episode_count=10,\n",
    "    iteration_count=iteration_count,\n",
    "    epsilon=0.90,\n",
    "    render=False,\n",
    "    epsilon_exponential_decay=10000,\n",
    "    epsilon_minimum=0.10,\n",
    "    verbosity=Verbosity.Quiet,\n",
    "    title=\"Credential lookups (ϵ-greedy)\",\n",
    ")"
   ]
  },
  {
   "cell_type": "code",
   "execution_count": 9,
   "id": "2a990dc4",
   "metadata": {
    "execution": {
     "iopub.execute_input": "2024-08-08T07:07:59.615514Z",
     "iopub.status.busy": "2024-08-08T07:07:59.614905Z",
     "iopub.status.idle": "2024-08-08T07:08:00.033101Z",
     "shell.execute_reply": "2024-08-08T07:08:00.032078Z"
    },
    "papermill": {
     "duration": 0.497941,
     "end_time": "2024-08-08T07:08:00.034921",
     "exception": false,
     "start_time": "2024-08-08T07:07:59.536980",
     "status": "completed"
    },
    "tags": []
   },
   "outputs": [
    {
     "data": {
      "image/png": "[encoded data removed]",
      "text/plain": [
       "<Figure size 1000x800 with 1 Axes>"
      ]
     },
     "metadata": {},
     "output_type": "display_data"
    }
   ],
   "source": [
    "# Plots\n",
    "all_runs = [credlookup_run, dqn_with_defender, dql_exploit_run]\n",
    "p.plot_averaged_cummulative_rewards(all_runs=all_runs, title=f\"Attacker agents vs Basic Defender -- rewards\\n env={cyberbattlechain_defender.name}, episodes={training_episode_count}\", save_at=os.path.join(plots_dir, \"withdefender-cumreward.png\"))\n",
    "# p.plot_episodes_length(all_runs)\n",
    "p.plot_averaged_availability(title=f\"Attacker agents vs Basic Defender -- availability\\n env={cyberbattlechain_defender.name}, episodes={training_episode_count}\", all_runs=all_runs, show=False)"
   ]
  }
 ],
 "metadata": {
  "jupytext": {
   "cell_metadata_filter": "tags,-all",
   "cell_metadata_json": true
  },
  "kernelspec": {
   "display_name": "Python 3 (ipykernel)",
   "language": "python",
   "name": "python3"
  },
  "language_info": {
   "codemirror_mode": {
    "name": "ipython",
    "version": 3
   },
   "file_extension": ".py",
   "mimetype": "text/x-python",
   "name": "python",
   "nbconvert_exporter": "python",
   "pygments_lexer": "ipython3",
   "version": "3.9.19"
  },
  "papermill": {
   "default_parameters": {},
   "duration": 59.047658,
   "end_time": "2024-08-08T07:08:01.143605",
   "environment_variables": {},
   "exception": null,
   "input_path": "-",
   "output_path": "notebooks/output/benchmark/notebook_withdefender.ipynb",
   "parameters": {
    "plots_dir": "notebooks/output/benchmark/plots"
   },
   "start_time": "2024-08-08T07:07:02.095947",
   "version": "2.3.3"
  }
 },
 "nbformat": 4,
 "nbformat_minor": 5
}