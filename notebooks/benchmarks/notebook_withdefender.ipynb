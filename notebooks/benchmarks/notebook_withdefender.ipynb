{
 "cells": [
  {
   "cell_type": "code",
   "execution_count": 1,
   "id": "30d5ee2f-8458-4aa4-8eb7-f7116e46e54f",
   "metadata": {
    "execution": {
     "iopub.execute_input": "2024-08-07T22:35:45.907131Z",
     "iopub.status.busy": "2024-08-07T22:35:45.906728Z",
     "iopub.status.idle": "2024-08-07T22:35:45.918524Z",
     "shell.execute_reply": "2024-08-07T22:35:45.917551Z"
    },
    "papermill": {
     "duration": 0.017357,
     "end_time": "2024-08-07T22:35:45.920168",
     "exception": false,
     "start_time": "2024-08-07T22:35:45.902811",
     "status": "completed"
    },
    "tags": []
   },
   "outputs": [
    {
     "data": {
      "text/plain": [
       "'Attacker agent benchmark comparison in presence of a basic defender\\n\\nThis notebooks can be run directly from VSCode, to generate a\\ntraditional Jupyter Notebook to open in your browser\\n you can run the VSCode command `Export Currenty Python File As Jupyter Notebook`.\\n'"
      ]
     },
     "execution_count": 1,
     "metadata": {},
     "output_type": "execute_result"
    }
   ],
   "source": [
    "# Copyright (c) Microsoft Corporation.\n",
    "# Licensed under the MIT License.\n",
    "\n",
    "\"\"\"Attacker agent benchmark comparison in presence of a basic defender\n",
    "\n",
    "This notebooks can be run directly from VSCode, to generate a\n",
    "traditional Jupyter Notebook to open in your browser\n",
    " you can run the VSCode command `Export Currenty Python File As Jupyter Notebook`.\n",
    "\"\"\""
   ]
  },
  {
   "cell_type": "code",
   "execution_count": 2,
   "id": "macro-definition",
   "metadata": {
    "execution": {
     "iopub.execute_input": "2024-08-07T22:35:45.925811Z",
     "iopub.status.busy": "2024-08-07T22:35:45.925451Z",
     "iopub.status.idle": "2024-08-07T22:35:48.441217Z",
     "shell.execute_reply": "2024-08-07T22:35:48.440134Z"
    },
    "lines_to_next_cell": 2,
    "papermill": {
     "duration": 2.520815,
     "end_time": "2024-08-07T22:35:48.443344",
     "exception": false,
     "start_time": "2024-08-07T22:35:45.922529",
     "status": "completed"
    },
    "tags": []
   },
   "outputs": [],
   "source": [
    "import sys\n",
    "import os\n",
    "import logging\n",
    "import gymnasium as gym\n",
    "import importlib\n",
    "import cyberbattle.agents.baseline.learner as learner\n",
    "import cyberbattle.agents.baseline.plotting as p\n",
    "import cyberbattle.agents.baseline.agent_wrapper as w\n",
    "import cyberbattle.agents.baseline.agent_dql as dqla\n",
    "import cyberbattle.agents.baseline.agent_randomcredlookup as rca\n",
    "from cyberbattle.agents.baseline.agent_wrapper import Verbosity\n",
    "from cyberbattle._env.defender import ScanAndReimageCompromisedMachines\n",
    "from cyberbattle._env.cyberbattle_env import AttackerGoal, DefenderConstraint, CyberBattleEnv\n",
    "from typing import cast\n",
    "\n",
    "importlib.reload(learner)\n",
    "importlib.reload(p)\n",
    "importlib.reload(p)\n",
    "\n",
    "logging.basicConfig(stream=sys.stdout, level=logging.ERROR, format=\"%(levelname)s: %(message)s\")\n",
    "%matplotlib inline"
   ]
  },
  {
   "cell_type": "code",
   "execution_count": 3,
   "id": "ebc111fa",
   "metadata": {
    "execution": {
     "iopub.execute_input": "2024-08-07T22:35:48.449885Z",
     "iopub.status.busy": "2024-08-07T22:35:48.449180Z",
     "iopub.status.idle": "2024-08-07T22:35:48.455055Z",
     "shell.execute_reply": "2024-08-07T22:35:48.453578Z"
    },
    "papermill": {
     "duration": 0.010786,
     "end_time": "2024-08-07T22:35:48.456856",
     "exception": false,
     "start_time": "2024-08-07T22:35:48.446070",
     "status": "completed"
    },
    "tags": [
     "parameters"
    ]
   },
   "outputs": [],
   "source": [
    "iteration_count = 600\n",
    "training_episode_count = 10\n",
    "plots_dir = \"output/plots\""
   ]
  },
  {
   "cell_type": "code",
   "execution_count": 4,
   "id": "7fa06170",
   "metadata": {
    "execution": {
     "iopub.execute_input": "2024-08-07T22:35:48.464334Z",
     "iopub.status.busy": "2024-08-07T22:35:48.463168Z",
     "iopub.status.idle": "2024-08-07T22:35:48.468856Z",
     "shell.execute_reply": "2024-08-07T22:35:48.467878Z"
    },
    "papermill": {
     "duration": 0.010619,
     "end_time": "2024-08-07T22:35:48.470403",
     "exception": false,
     "start_time": "2024-08-07T22:35:48.459784",
     "status": "completed"
    },
    "tags": [
     "injected-parameters"
    ]
   },
   "outputs": [],
   "source": [
    "# Parameters\n",
    "plots_dir = \"notebooks/output/benchmark/plots\"\n"
   ]
  },
  {
   "cell_type": "code",
   "execution_count": 5,
   "id": "6af25d6a",
   "metadata": {
    "execution": {
     "iopub.execute_input": "2024-08-07T22:35:48.476644Z",
     "iopub.status.busy": "2024-08-07T22:35:48.476021Z",
     "iopub.status.idle": "2024-08-07T22:35:48.493615Z",
     "shell.execute_reply": "2024-08-07T22:35:48.492403Z"
    },
    "papermill": {
     "duration": 0.022558,
     "end_time": "2024-08-07T22:35:48.495350",
     "exception": false,
     "start_time": "2024-08-07T22:35:48.472792",
     "status": "completed"
    },
    "tags": []
   },
   "outputs": [
    {
     "name": "stderr",
     "output_type": "stream",
     "text": [
      "/home/wblum/miniconda3/envs/cybersim/lib/python3.9/site-packages/gymnasium/envs/registration.py:481: UserWarning: \u001b[33mWARN: The environment creator metadata doesn't include `render_modes`, contains: ['render.modes']\u001b[0m\n",
      "  logger.warn(\n"
     ]
    }
   ],
   "source": [
    "gym_env = gym.make(\n",
    "    \"CyberBattleChain-v0\",\n",
    "    size=10,\n",
    "    attacker_goal=AttackerGoal(own_atleast=0, own_atleast_percent=1.0),\n",
    "    defender_constraint=DefenderConstraint(maintain_sla=0.80),\n",
    "    defender_agent=ScanAndReimageCompromisedMachines(probability=0.6, scan_capacity=2, scan_frequency=5),\n",
    ").unwrapped\n",
    "\n",
    "cyberbattlechain_defender = cast(CyberBattleEnv, gym_env)\n",
    "assert isinstance(cyberbattlechain_defender, CyberBattleEnv)\n",
    "\n",
    "\n",
    "ep = w.EnvironmentBounds.of_identifiers(maximum_total_credentials=22, maximum_node_count=22, identifiers=cyberbattlechain_defender.identifiers)"
   ]
  },
  {
   "cell_type": "code",
   "execution_count": 6,
   "id": "floating-cambridge",
   "metadata": {
    "execution": {
     "iopub.execute_input": "2024-08-07T22:35:48.501518Z",
     "iopub.status.busy": "2024-08-07T22:35:48.500961Z",
     "iopub.status.idle": "2024-08-07T22:36:19.045977Z",
     "shell.execute_reply": "2024-08-07T22:36:19.044883Z"
    },
    "lines_to_next_cell": 2,
    "papermill": {
     "duration": 30.550038,
     "end_time": "2024-08-07T22:36:19.047582",
     "exception": false,
     "start_time": "2024-08-07T22:35:48.497544",
     "status": "completed"
    },
    "tags": []
   },
   "outputs": [
    {
     "name": "stdout",
     "output_type": "stream",
     "text": [
      "###### DQL\n",
      "Learning with: episode_count=10,iteration_count=600,ϵ=0.9,ϵ_min=0.1, ϵ_expdecay=5000,γ=0.15, lr=0.01, replaymemory=10000,\n",
      "batch=256, target_update=5\n",
      "  ## Episode: 1/10 'DQL' ϵ=0.9000, γ=0.15, lr=0.01, replaymemory=10000,\n",
      "batch=256, target_update=5\n"
     ]
    },
    {
     "name": "stderr",
     "output_type": "stream",
     "text": [
      "\r",
      "Episode 1|Iteration 0|reward: ------|last_reward_at: ----|Elapsed Time: 0:00:00||"
     ]
    },
    {
     "name": "stderr",
     "output_type": "stream",
     "text": [
      "\r",
      "Episode 1|Iteration 1|reward:   14.0|last_reward_at: ----|Elapsed Time: 0:00:00||"
     ]
    },
    {
     "name": "stderr",
     "output_type": "stream",
     "text": [
      "\r",
      "Episode 1|Iteration 1|reward:   14.0|last_reward_at:    1|Elapsed Time: 0:00:00||"
     ]
    },
    {
     "name": "stderr",
     "output_type": "stream",
     "text": [
      "\r",
      "Episode 1|Iteration 3|reward:   16.0|last_reward_at:    1|Elapsed Time: 0:00:00||"
     ]
    },
    {
     "name": "stderr",
     "output_type": "stream",
     "text": [
      "\r",
      "Episode 1|Iteration 3|reward:   16.0|last_reward_at:    3|Elapsed Time: 0:00:00||"
     ]
    },
    {
     "name": "stderr",
     "output_type": "stream",
     "text": [
      "\r",
      "Episode 1|Iteration 6|reward:   20.0|last_reward_at:    3|Elapsed Time: 0:00:00||"
     ]
    },
    {
     "name": "stderr",
     "output_type": "stream",
     "text": [
      "\r",
      "Episode 1|Iteration 6|reward:   20.0|last_reward_at:    6|Elapsed Time: 0:00:00||"
     ]
    },
    {
     "name": "stderr",
     "output_type": "stream",
     "text": [
      "/home/wblum/CyberBattleSim/cyberbattle/agents/baseline/agent_dql.py:408: UserWarning: Creating a tensor from a list of numpy.ndarrays is extremely slow. Please consider converting the list to a single numpy.ndarray with numpy.array() before converting to a tensor. (Triggered internally at ../torch/csrc/utils/tensor_new.cpp:275.)\n",
      "  state_batch = torch.tensor(states_to_consider).to(device)\n",
      "\r",
      "Episode 1|Iteration 53|reward:  120.0|last_reward_at:    6|Elapsed Time: 0:00:00||"
     ]
    },
    {
     "name": "stderr",
     "output_type": "stream",
     "text": [
      "\r",
      "Episode 1|Iteration 53|reward:  120.0|last_reward_at:   53|Elapsed Time: 0:00:00||"
     ]
    },
    {
     "name": "stderr",
     "output_type": "stream",
     "text": [
      "\r",
      "Episode 1|Iteration 54|reward:  131.0|last_reward_at:   53|Elapsed Time: 0:00:00||"
     ]
    },
    {
     "name": "stderr",
     "output_type": "stream",
     "text": [
      "\r",
      "Episode 1|Iteration 54|reward:  131.0|last_reward_at:   54|Elapsed Time: 0:00:00||"
     ]
    },
    {
     "name": "stderr",
     "output_type": "stream",
     "text": [
      "\r",
      "Episode 1|Iteration 56|reward:  140.0|last_reward_at:   54|Elapsed Time: 0:00:00||"
     ]
    },
    {
     "name": "stderr",
     "output_type": "stream",
     "text": [
      "\r",
      "Episode 1|Iteration 56|reward:  140.0|last_reward_at:   56|Elapsed Time: 0:00:00||"
     ]
    },
    {
     "name": "stderr",
     "output_type": "stream",
     "text": [
      "\r",
      "Episode 1|Iteration 60|reward:  148.0|last_reward_at:   56|Elapsed Time: 0:00:00||"
     ]
    },
    {
     "name": "stderr",
     "output_type": "stream",
     "text": [
      "\r",
      "Episode 1|Iteration 60|reward:  148.0|last_reward_at:   60|Elapsed Time: 0:00:00||"
     ]
    },
    {
     "name": "stderr",
     "output_type": "stream",
     "text": [
      "\r",
      "Episode 1|Iteration 64|reward:  154.0|last_reward_at:   60|Elapsed Time: 0:00:00||"
     ]
    },
    {
     "name": "stderr",
     "output_type": "stream",
     "text": [
      "\r",
      "Episode 1|Iteration 64|reward:  154.0|last_reward_at:   64|Elapsed Time: 0:00:00||"
     ]
    },
    {
     "name": "stderr",
     "output_type": "stream",
     "text": [
      "\r",
      "Episode 1|Iteration 107|reward:  154.0|last_reward_at:   64|Elapsed Time: 0:00:00||"
     ]
    },
    {
     "name": "stderr",
     "output_type": "stream",
     "text": [
      "\r",
      "Episode 1|Iteration 145|reward:  154.0|last_reward_at:   64|Elapsed Time: 0:00:00||"
     ]
    },
    {
     "name": "stderr",
     "output_type": "stream",
     "text": [
      "\r",
      "Episode 1|Iteration 175|reward:  154.0|last_reward_at:   64|Elapsed Time: 0:00:00||"
     ]
    },
    {
     "name": "stderr",
     "output_type": "stream",
     "text": [
      "\r",
      "Episode 1|Iteration 213|reward:  154.0|last_reward_at:   64|Elapsed Time: 0:00:00||"
     ]
    },
    {
     "name": "stderr",
     "output_type": "stream",
     "text": [
      "\r",
      "Episode 1|Iteration 251|reward:  154.0|last_reward_at:   64|Elapsed Time: 0:00:00||"
     ]
    },
    {
     "name": "stderr",
     "output_type": "stream",
     "text": [
      "\r",
      "Episode 1|Iteration 259|reward:  154.0|last_reward_at:   64|Elapsed Time: 0:00:00||"
     ]
    },
    {
     "name": "stderr",
     "output_type": "stream",
     "text": [
      "\r",
      "Episode 1|Iteration 264|reward:  154.0|last_reward_at:   64|Elapsed Time: 0:00:00||"
     ]
    },
    {
     "name": "stderr",
     "output_type": "stream",
     "text": [
      "\r",
      "Episode 1|Iteration 270|reward:  154.0|last_reward_at:   64|Elapsed Time: 0:00:00||"
     ]
    },
    {
     "name": "stderr",
     "output_type": "stream",
     "text": [
      "\r",
      "Episode 1|Iteration 279|reward:  154.0|last_reward_at:   64|Elapsed Time: 0:00:00||"
     ]
    },
    {
     "name": "stderr",
     "output_type": "stream",
     "text": [
      "\r",
      "Episode 1|Iteration 288|reward:  154.0|last_reward_at:   64|Elapsed Time: 0:00:00||"
     ]
    },
    {
     "name": "stderr",
     "output_type": "stream",
     "text": [
      "\r",
      "Episode 1|Iteration 297|reward:  154.0|last_reward_at:   64|Elapsed Time: 0:00:00||"
     ]
    },
    {
     "name": "stderr",
     "output_type": "stream",
     "text": [
      "\r",
      "Episode 1|Iteration 304|reward:  154.0|last_reward_at:   64|Elapsed Time: 0:00:01||"
     ]
    },
    {
     "name": "stderr",
     "output_type": "stream",
     "text": [
      "\r",
      "Episode 1|Iteration 312|reward:  154.0|last_reward_at:   64|Elapsed Time: 0:00:01||"
     ]
    },
    {
     "name": "stderr",
     "output_type": "stream",
     "text": [
      "\r",
      "Episode 1|Iteration 319|reward:  154.0|last_reward_at:   64|Elapsed Time: 0:00:01||"
     ]
    },
    {
     "name": "stderr",
     "output_type": "stream",
     "text": [
      "\r",
      "Episode 1|Iteration 327|reward:  154.0|last_reward_at:   64|Elapsed Time: 0:00:01||"
     ]
    },
    {
     "name": "stderr",
     "output_type": "stream",
     "text": [
      "\r",
      "Episode 1|Iteration 328|reward:  254.0|last_reward_at:   64|Elapsed Time: 0:00:01||"
     ]
    },
    {
     "name": "stderr",
     "output_type": "stream",
     "text": [
      "\r",
      "Episode 1|Iteration 328|reward:  254.0|last_reward_at:  328|Elapsed Time: 0:00:01||"
     ]
    },
    {
     "name": "stderr",
     "output_type": "stream",
     "text": [
      "\r",
      "Episode 1|Iteration 330|reward:  268.0|last_reward_at:  328|Elapsed Time: 0:00:01||"
     ]
    },
    {
     "name": "stderr",
     "output_type": "stream",
     "text": [
      "\r",
      "Episode 1|Iteration 330|reward:  268.0|last_reward_at:  330|Elapsed Time: 0:00:01||"
     ]
    },
    {
     "name": "stderr",
     "output_type": "stream",
     "text": [
      "\r",
      "Episode 1|Iteration 332|reward:  272.0|last_reward_at:  330|Elapsed Time: 0:00:01||"
     ]
    },
    {
     "name": "stderr",
     "output_type": "stream",
     "text": [
      "\r",
      "Episode 1|Iteration 332|reward:  272.0|last_reward_at:  332|Elapsed Time: 0:00:01||"
     ]
    },
    {
     "name": "stderr",
     "output_type": "stream",
     "text": [
      "\r",
      "Episode 1|Iteration 341|reward:  274.0|last_reward_at:  332|Elapsed Time: 0:00:01||"
     ]
    },
    {
     "name": "stderr",
     "output_type": "stream",
     "text": [
      "\r",
      "Episode 1|Iteration 341|reward:  274.0|last_reward_at:  341|Elapsed Time: 0:00:01||"
     ]
    },
    {
     "name": "stderr",
     "output_type": "stream",
     "text": [
      "\r",
      "Episode 1|Iteration 350|reward:  274.0|last_reward_at:  341|Elapsed Time: 0:00:01||"
     ]
    },
    {
     "name": "stderr",
     "output_type": "stream",
     "text": [
      "\r",
      "Episode 1|Iteration 357|reward:  274.0|last_reward_at:  341|Elapsed Time: 0:00:01||"
     ]
    },
    {
     "name": "stderr",
     "output_type": "stream",
     "text": [
      "\r",
      "Episode 1|Iteration 365|reward:  274.0|last_reward_at:  341|Elapsed Time: 0:00:01||"
     ]
    },
    {
     "name": "stderr",
     "output_type": "stream",
     "text": [
      "\r",
      "Episode 1|Iteration 373|reward:  274.0|last_reward_at:  341|Elapsed Time: 0:00:01||"
     ]
    },
    {
     "name": "stderr",
     "output_type": "stream",
     "text": [
      "\r",
      "Episode 1|Iteration 376|reward:  280.0|last_reward_at:  341|Elapsed Time: 0:00:01||"
     ]
    },
    {
     "name": "stderr",
     "output_type": "stream",
     "text": [
      "\r",
      "Episode 1|Iteration 376|reward:  280.0|last_reward_at:  376|Elapsed Time: 0:00:01||"
     ]
    },
    {
     "name": "stderr",
     "output_type": "stream",
     "text": [
      "\r",
      "Episode 1|Iteration 385|reward:  280.0|last_reward_at:  376|Elapsed Time: 0:00:02||"
     ]
    },
    {
     "name": "stderr",
     "output_type": "stream",
     "text": [
      "\r",
      "Episode 1|Iteration 393|reward:  280.0|last_reward_at:  376|Elapsed Time: 0:00:02||"
     ]
    },
    {
     "name": "stderr",
     "output_type": "stream",
     "text": [
      "\r",
      "Episode 1|Iteration 402|reward:  280.0|last_reward_at:  376|Elapsed Time: 0:00:02||"
     ]
    },
    {
     "name": "stderr",
     "output_type": "stream",
     "text": [
      "\r",
      "Episode 1|Iteration 411|reward:  280.0|last_reward_at:  376|Elapsed Time: 0:00:02||"
     ]
    },
    {
     "name": "stderr",
     "output_type": "stream",
     "text": [
      "\r",
      "Episode 1|Iteration 418|reward:  280.0|last_reward_at:  376|Elapsed Time: 0:00:02||"
     ]
    },
    {
     "name": "stderr",
     "output_type": "stream",
     "text": [
      "\r",
      "Episode 1|Iteration 426|reward:  280.0|last_reward_at:  376|Elapsed Time: 0:00:02||"
     ]
    },
    {
     "name": "stderr",
     "output_type": "stream",
     "text": [
      "\r",
      "Episode 1|Iteration 433|reward:  280.0|last_reward_at:  376|Elapsed Time: 0:00:02||"
     ]
    },
    {
     "name": "stderr",
     "output_type": "stream",
     "text": [
      "\r",
      "Episode 1|Iteration 441|reward:  280.0|last_reward_at:  376|Elapsed Time: 0:00:02||"
     ]
    },
    {
     "name": "stderr",
     "output_type": "stream",
     "text": [
      "\r",
      "Episode 1|Iteration 449|reward:  280.0|last_reward_at:  376|Elapsed Time: 0:00:02||"
     ]
    },
    {
     "name": "stderr",
     "output_type": "stream",
     "text": [
      "\r",
      "Episode 1|Iteration 456|reward:  280.0|last_reward_at:  376|Elapsed Time: 0:00:02||"
     ]
    },
    {
     "name": "stderr",
     "output_type": "stream",
     "text": [
      "\r",
      "Episode 1|Iteration 463|reward:  280.0|last_reward_at:  376|Elapsed Time: 0:00:02||"
     ]
    },
    {
     "name": "stderr",
     "output_type": "stream",
     "text": [
      "\r",
      "Episode 1|Iteration 471|reward:  280.0|last_reward_at:  376|Elapsed Time: 0:00:03||"
     ]
    },
    {
     "name": "stderr",
     "output_type": "stream",
     "text": [
      "\r",
      "Episode 1|Iteration 471|reward:  380.0|last_reward_at:  376|Elapsed Time: 0:00:03||"
     ]
    },
    {
     "name": "stderr",
     "output_type": "stream",
     "text": [
      "\r",
      "Episode 1|Iteration 471|reward:  380.0|last_reward_at:  471|Elapsed Time: 0:00:03||"
     ]
    },
    {
     "name": "stderr",
     "output_type": "stream",
     "text": [
      "\r",
      "Episode 1|Iteration 479|reward:  380.0|last_reward_at:  471|Elapsed Time: 0:00:03||"
     ]
    },
    {
     "name": "stderr",
     "output_type": "stream",
     "text": [
      "\r",
      "Episode 1|Iteration 482|reward:  391.0|last_reward_at:  471|Elapsed Time: 0:00:03||"
     ]
    },
    {
     "name": "stderr",
     "output_type": "stream",
     "text": [
      "\r",
      "Episode 1|Iteration 482|reward:  391.0|last_reward_at:  482|Elapsed Time: 0:00:03||"
     ]
    },
    {
     "name": "stderr",
     "output_type": "stream",
     "text": [
      "\r",
      "Episode 1|Iteration 487|reward:  391.0|last_reward_at:  482|Elapsed Time: 0:00:03||"
     ]
    },
    {
     "name": "stderr",
     "output_type": "stream",
     "text": [
      "\r",
      "Episode 1|Iteration 493|reward:  397.0|last_reward_at:  482|Elapsed Time: 0:00:03||"
     ]
    },
    {
     "name": "stderr",
     "output_type": "stream",
     "text": [
      "\r",
      "Episode 1|Iteration 493|reward:  397.0|last_reward_at:  493|Elapsed Time: 0:00:03||"
     ]
    },
    {
     "name": "stderr",
     "output_type": "stream",
     "text": [
      "\r",
      "Episode 1|Iteration 502|reward:  397.0|last_reward_at:  493|Elapsed Time: 0:00:03||"
     ]
    },
    {
     "name": "stderr",
     "output_type": "stream",
     "text": [
      "\r",
      "Episode 1|Iteration 509|reward:  397.0|last_reward_at:  493|Elapsed Time: 0:00:03||"
     ]
    },
    {
     "name": "stderr",
     "output_type": "stream",
     "text": [
      "\r",
      "Episode 1|Iteration 517|reward:  397.0|last_reward_at:  493|Elapsed Time: 0:00:03||"
     ]
    },
    {
     "name": "stderr",
     "output_type": "stream",
     "text": [
      "\r",
      "Episode 1|Iteration 520|reward:  406.0|last_reward_at:  493|Elapsed Time: 0:00:03||"
     ]
    },
    {
     "name": "stderr",
     "output_type": "stream",
     "text": [
      "\r",
      "Episode 1|Iteration 520|reward:  406.0|last_reward_at:  520|Elapsed Time: 0:00:03||"
     ]
    },
    {
     "name": "stderr",
     "output_type": "stream",
     "text": [
      "\r",
      "Episode 1|Iteration 525|reward:  406.0|last_reward_at:  520|Elapsed Time: 0:00:03||"
     ]
    },
    {
     "name": "stderr",
     "output_type": "stream",
     "text": [
      "\r",
      "Episode 1|Iteration 531|reward:  414.0|last_reward_at:  520|Elapsed Time: 0:00:03||"
     ]
    },
    {
     "name": "stderr",
     "output_type": "stream",
     "text": [
      "\r",
      "Episode 1|Iteration 531|reward:  414.0|last_reward_at:  531|Elapsed Time: 0:00:03||"
     ]
    },
    {
     "name": "stderr",
     "output_type": "stream",
     "text": [
      "\r",
      "Episode 1|Iteration 540|reward:  414.0|last_reward_at:  531|Elapsed Time: 0:00:03||"
     ]
    },
    {
     "name": "stderr",
     "output_type": "stream",
     "text": [
      "\r",
      "Episode 1|Iteration 547|reward:  414.0|last_reward_at:  531|Elapsed Time: 0:00:03||"
     ]
    },
    {
     "name": "stderr",
     "output_type": "stream",
     "text": [
      "\r",
      "Episode 1|Iteration 554|reward:  414.0|last_reward_at:  531|Elapsed Time: 0:00:04||"
     ]
    },
    {
     "name": "stderr",
     "output_type": "stream",
     "text": [
      "\r",
      "Episode 1|Iteration 562|reward:  414.0|last_reward_at:  531|Elapsed Time: 0:00:04||"
     ]
    },
    {
     "name": "stderr",
     "output_type": "stream",
     "text": [
      "\r",
      "Episode 1|Iteration 570|reward:  414.0|last_reward_at:  531|Elapsed Time: 0:00:04||"
     ]
    },
    {
     "name": "stderr",
     "output_type": "stream",
     "text": [
      "\r",
      "Episode 1|Iteration 578|reward:  414.0|last_reward_at:  531|Elapsed Time: 0:00:04||"
     ]
    },
    {
     "name": "stderr",
     "output_type": "stream",
     "text": [
      "\r",
      "Episode 1|Iteration 585|reward:  414.0|last_reward_at:  531|Elapsed Time: 0:00:04||"
     ]
    },
    {
     "name": "stderr",
     "output_type": "stream",
     "text": [
      "\r",
      "Episode 1|Iteration 593|reward:  414.0|last_reward_at:  531|Elapsed Time: 0:00:04||"
     ]
    },
    {
     "name": "stderr",
     "output_type": "stream",
     "text": [
      "\r",
      "Episode 1|Iteration 600|reward:  414.0|last_reward_at:  531|Elapsed Time: 0:00:04||"
     ]
    },
    {
     "name": "stderr",
     "output_type": "stream",
     "text": [
      "\r",
      "Episode 1|Iteration 600|reward:  414.0|last_reward_at:  531|Elapsed Time: 0:00:04||"
     ]
    },
    {
     "name": "stderr",
     "output_type": "stream",
     "text": [
      "\n"
     ]
    },
    {
     "name": "stdout",
     "output_type": "stream",
     "text": [
      "  Episode 1 stopped at t=600 \n",
      "  Breakdown [Reward/NoReward (Success rate)]\n",
      "    explore-local: 4/77 (0.05)\n",
      "    explore-remote: 8/220 (0.04)\n",
      "    explore-connect: 2/217 (0.01)\n",
      "    exploit-local: 3/6 (0.33)\n",
      "    exploit-remote: 0/13 (0.00)\n",
      "    exploit-connect: 1/49 (0.02)\n",
      "  exploit deflected to exploration: 8\n",
      "  ## Episode: 2/10 'DQL' ϵ=0.8097, γ=0.15, lr=0.01, replaymemory=10000,\n",
      "batch=256, target_update=5\n"
     ]
    },
    {
     "name": "stderr",
     "output_type": "stream",
     "text": [
      "\r",
      "Episode 2|Iteration 0|reward: ------|last_reward_at: ----|Elapsed Time: 0:00:00||"
     ]
    },
    {
     "name": "stderr",
     "output_type": "stream",
     "text": [
      "\r",
      "Episode 2|Iteration 1|reward:    0.0|last_reward_at: ----|Elapsed Time: 0:00:00||"
     ]
    },
    {
     "name": "stderr",
     "output_type": "stream",
     "text": [
      "\r",
      "Episode 2|Iteration 3|reward:   14.0|last_reward_at: ----|Elapsed Time: 0:00:00||"
     ]
    },
    {
     "name": "stderr",
     "output_type": "stream",
     "text": [
      "\r",
      "Episode 2|Iteration 3|reward:   14.0|last_reward_at:    3|Elapsed Time: 0:00:00||"
     ]
    },
    {
     "name": "stderr",
     "output_type": "stream",
     "text": [
      "\r",
      "Episode 2|Iteration 12|reward:   18.0|last_reward_at:    3|Elapsed Time: 0:00:00||"
     ]
    },
    {
     "name": "stderr",
     "output_type": "stream",
     "text": [
      "\r",
      "Episode 2|Iteration 12|reward:   18.0|last_reward_at:   12|Elapsed Time: 0:00:00||"
     ]
    },
    {
     "name": "stderr",
     "output_type": "stream",
     "text": [
      "\r",
      "Episode 2|Iteration 13|reward:  118.0|last_reward_at:   12|Elapsed Time: 0:00:00||"
     ]
    },
    {
     "name": "stderr",
     "output_type": "stream",
     "text": [
      "\r",
      "Episode 2|Iteration 13|reward:  118.0|last_reward_at:   13|Elapsed Time: 0:00:00||"
     ]
    },
    {
     "name": "stderr",
     "output_type": "stream",
     "text": [
      "\r",
      "Episode 2|Iteration 14|reward:  120.0|last_reward_at:   13|Elapsed Time: 0:00:00||"
     ]
    },
    {
     "name": "stderr",
     "output_type": "stream",
     "text": [
      "\r",
      "Episode 2|Iteration 14|reward:  120.0|last_reward_at:   14|Elapsed Time: 0:00:00||"
     ]
    },
    {
     "name": "stderr",
     "output_type": "stream",
     "text": [
      "\r",
      "Episode 2|Iteration 15|reward:  131.0|last_reward_at:   14|Elapsed Time: 0:00:00||"
     ]
    },
    {
     "name": "stderr",
     "output_type": "stream",
     "text": [
      "\r",
      "Episode 2|Iteration 15|reward:  131.0|last_reward_at:   15|Elapsed Time: 0:00:00||"
     ]
    },
    {
     "name": "stderr",
     "output_type": "stream",
     "text": [
      "\r",
      "Episode 2|Iteration 22|reward:  140.0|last_reward_at:   15|Elapsed Time: 0:00:00||"
     ]
    },
    {
     "name": "stderr",
     "output_type": "stream",
     "text": [
      "\r",
      "Episode 2|Iteration 22|reward:  140.0|last_reward_at:   22|Elapsed Time: 0:00:00||"
     ]
    },
    {
     "name": "stderr",
     "output_type": "stream",
     "text": [
      "\r",
      "Episode 2|Iteration 23|reward:  146.0|last_reward_at:   22|Elapsed Time: 0:00:00||"
     ]
    },
    {
     "name": "stderr",
     "output_type": "stream",
     "text": [
      "\r",
      "Episode 2|Iteration 23|reward:  146.0|last_reward_at:   23|Elapsed Time: 0:00:00||"
     ]
    },
    {
     "name": "stderr",
     "output_type": "stream",
     "text": [
      "\r",
      "Episode 2|Iteration 28|reward:  154.0|last_reward_at:   23|Elapsed Time: 0:00:00||"
     ]
    },
    {
     "name": "stderr",
     "output_type": "stream",
     "text": [
      "\r",
      "Episode 2|Iteration 28|reward:  154.0|last_reward_at:   28|Elapsed Time: 0:00:00||"
     ]
    },
    {
     "name": "stderr",
     "output_type": "stream",
     "text": [
      "\r",
      "Episode 2|Iteration 36|reward:  154.0|last_reward_at:   28|Elapsed Time: 0:00:00||"
     ]
    },
    {
     "name": "stderr",
     "output_type": "stream",
     "text": [
      "\r",
      "Episode 2|Iteration 45|reward:  154.0|last_reward_at:   28|Elapsed Time: 0:00:00||"
     ]
    },
    {
     "name": "stderr",
     "output_type": "stream",
     "text": [
      "\r",
      "Episode 2|Iteration 54|reward:  154.0|last_reward_at:   28|Elapsed Time: 0:00:00||"
     ]
    },
    {
     "name": "stderr",
     "output_type": "stream",
     "text": [
      "\r",
      "Episode 2|Iteration 61|reward:  154.0|last_reward_at:   28|Elapsed Time: 0:00:00||"
     ]
    },
    {
     "name": "stderr",
     "output_type": "stream",
     "text": [
      "\r",
      "Episode 2|Iteration 69|reward:  154.0|last_reward_at:   28|Elapsed Time: 0:00:00||"
     ]
    },
    {
     "name": "stderr",
     "output_type": "stream",
     "text": [
      "\r",
      "Episode 2|Iteration 76|reward:  154.0|last_reward_at:   28|Elapsed Time: 0:00:00||"
     ]
    },
    {
     "name": "stderr",
     "output_type": "stream",
     "text": [
      "\r",
      "Episode 2|Iteration 84|reward:  154.0|last_reward_at:   28|Elapsed Time: 0:00:01||"
     ]
    },
    {
     "name": "stderr",
     "output_type": "stream",
     "text": [
      "\r",
      "Episode 2|Iteration 91|reward:  254.0|last_reward_at:   28|Elapsed Time: 0:00:01||"
     ]
    },
    {
     "name": "stderr",
     "output_type": "stream",
     "text": [
      "\r",
      "Episode 2|Iteration 91|reward:  254.0|last_reward_at:   91|Elapsed Time: 0:00:01||"
     ]
    },
    {
     "name": "stderr",
     "output_type": "stream",
     "text": [
      "\r",
      "Episode 2|Iteration 92|reward:  268.0|last_reward_at:   91|Elapsed Time: 0:00:01||"
     ]
    },
    {
     "name": "stderr",
     "output_type": "stream",
     "text": [
      "\r",
      "Episode 2|Iteration 92|reward:  268.0|last_reward_at:   92|Elapsed Time: 0:00:01||"
     ]
    },
    {
     "name": "stderr",
     "output_type": "stream",
     "text": [
      "\r",
      "Episode 2|Iteration 93|reward:  272.0|last_reward_at:   92|Elapsed Time: 0:00:01||"
     ]
    },
    {
     "name": "stderr",
     "output_type": "stream",
     "text": [
      "\r",
      "Episode 2|Iteration 93|reward:  272.0|last_reward_at:   93|Elapsed Time: 0:00:01||"
     ]
    },
    {
     "name": "stderr",
     "output_type": "stream",
     "text": [
      "\r",
      "Episode 2|Iteration 99|reward:  272.0|last_reward_at:   93|Elapsed Time: 0:00:01||"
     ]
    },
    {
     "name": "stderr",
     "output_type": "stream",
     "text": [
      "\r",
      "Episode 2|Iteration 103|reward:  372.0|last_reward_at:   93|Elapsed Time: 0:00:01||"
     ]
    },
    {
     "name": "stderr",
     "output_type": "stream",
     "text": [
      "\r",
      "Episode 2|Iteration 103|reward:  372.0|last_reward_at:  103|Elapsed Time: 0:00:01||"
     ]
    },
    {
     "name": "stderr",
     "output_type": "stream",
     "text": [
      "\r",
      "Episode 2|Iteration 105|reward:  378.0|last_reward_at:  103|Elapsed Time: 0:00:01||"
     ]
    },
    {
     "name": "stderr",
     "output_type": "stream",
     "text": [
      "\r",
      "Episode 2|Iteration 105|reward:  378.0|last_reward_at:  105|Elapsed Time: 0:00:01||"
     ]
    },
    {
     "name": "stderr",
     "output_type": "stream",
     "text": [
      "\r",
      "Episode 2|Iteration 113|reward:  378.0|last_reward_at:  105|Elapsed Time: 0:00:01||"
     ]
    },
    {
     "name": "stderr",
     "output_type": "stream",
     "text": [
      "\r",
      "Episode 2|Iteration 122|reward:  378.0|last_reward_at:  105|Elapsed Time: 0:00:01||"
     ]
    },
    {
     "name": "stderr",
     "output_type": "stream",
     "text": [
      "\r",
      "Episode 2|Iteration 122|reward:  389.0|last_reward_at:  105|Elapsed Time: 0:00:01||"
     ]
    },
    {
     "name": "stderr",
     "output_type": "stream",
     "text": [
      "\r",
      "Episode 2|Iteration 122|reward:  389.0|last_reward_at:  122|Elapsed Time: 0:00:01||"
     ]
    },
    {
     "name": "stderr",
     "output_type": "stream",
     "text": [
      "\r",
      "Episode 2|Iteration 123|reward:  395.0|last_reward_at:  122|Elapsed Time: 0:00:01||"
     ]
    },
    {
     "name": "stderr",
     "output_type": "stream",
     "text": [
      "\r",
      "Episode 2|Iteration 123|reward:  395.0|last_reward_at:  123|Elapsed Time: 0:00:01||"
     ]
    },
    {
     "name": "stderr",
     "output_type": "stream",
     "text": [
      "\r",
      "Episode 2|Iteration 126|reward:  404.0|last_reward_at:  123|Elapsed Time: 0:00:01||"
     ]
    },
    {
     "name": "stderr",
     "output_type": "stream",
     "text": [
      "\r",
      "Episode 2|Iteration 126|reward:  404.0|last_reward_at:  126|Elapsed Time: 0:00:01||"
     ]
    },
    {
     "name": "stderr",
     "output_type": "stream",
     "text": [
      "\r",
      "Episode 2|Iteration 135|reward:  404.0|last_reward_at:  126|Elapsed Time: 0:00:01||"
     ]
    },
    {
     "name": "stderr",
     "output_type": "stream",
     "text": [
      "\r",
      "Episode 2|Iteration 136|reward:  412.0|last_reward_at:  126|Elapsed Time: 0:00:01||"
     ]
    },
    {
     "name": "stderr",
     "output_type": "stream",
     "text": [
      "\r",
      "Episode 2|Iteration 136|reward:  412.0|last_reward_at:  136|Elapsed Time: 0:00:01||"
     ]
    },
    {
     "name": "stderr",
     "output_type": "stream",
     "text": [
      "\r",
      "Episode 2|Iteration 145|reward:  412.0|last_reward_at:  136|Elapsed Time: 0:00:01||"
     ]
    },
    {
     "name": "stderr",
     "output_type": "stream",
     "text": [
      "\r",
      "Episode 2|Iteration 152|reward:  412.0|last_reward_at:  136|Elapsed Time: 0:00:01||"
     ]
    },
    {
     "name": "stderr",
     "output_type": "stream",
     "text": [
      "\r",
      "Episode 2|Iteration 152|reward:  512.0|last_reward_at:  136|Elapsed Time: 0:00:01||"
     ]
    },
    {
     "name": "stderr",
     "output_type": "stream",
     "text": [
      "\r",
      "Episode 2|Iteration 152|reward:  512.0|last_reward_at:  152|Elapsed Time: 0:00:01||"
     ]
    },
    {
     "name": "stderr",
     "output_type": "stream",
     "text": [
      "\r",
      "Episode 2|Iteration 158|reward:  526.0|last_reward_at:  152|Elapsed Time: 0:00:02||"
     ]
    },
    {
     "name": "stderr",
     "output_type": "stream",
     "text": [
      "\r",
      "Episode 2|Iteration 158|reward:  526.0|last_reward_at:  158|Elapsed Time: 0:00:02||"
     ]
    },
    {
     "name": "stderr",
     "output_type": "stream",
     "text": [
      "\r",
      "Episode 2|Iteration 166|reward:  532.0|last_reward_at:  158|Elapsed Time: 0:00:02||"
     ]
    },
    {
     "name": "stderr",
     "output_type": "stream",
     "text": [
      "\r",
      "Episode 2|Iteration 166|reward:  532.0|last_reward_at:  166|Elapsed Time: 0:00:02||"
     ]
    },
    {
     "name": "stderr",
     "output_type": "stream",
     "text": [
      "\r",
      "Episode 2|Iteration 167|reward:  632.0|last_reward_at:  166|Elapsed Time: 0:00:02||"
     ]
    },
    {
     "name": "stderr",
     "output_type": "stream",
     "text": [
      "\r",
      "Episode 2|Iteration 167|reward:  632.0|last_reward_at:  167|Elapsed Time: 0:00:02||"
     ]
    },
    {
     "name": "stderr",
     "output_type": "stream",
     "text": [
      "\r",
      "Episode 2|Iteration 170|reward:  634.0|last_reward_at:  167|Elapsed Time: 0:00:02||"
     ]
    },
    {
     "name": "stderr",
     "output_type": "stream",
     "text": [
      "\r",
      "Episode 2|Iteration 170|reward:  634.0|last_reward_at:  170|Elapsed Time: 0:00:02||"
     ]
    },
    {
     "name": "stderr",
     "output_type": "stream",
     "text": [
      "\r",
      "Episode 2|Iteration 175|reward:  634.0|last_reward_at:  170|Elapsed Time: 0:00:02||"
     ]
    },
    {
     "name": "stderr",
     "output_type": "stream",
     "text": [
      "\r",
      "Episode 2|Iteration 178|reward:  645.0|last_reward_at:  170|Elapsed Time: 0:00:02||"
     ]
    },
    {
     "name": "stderr",
     "output_type": "stream",
     "text": [
      "\r",
      "Episode 2|Iteration 178|reward:  645.0|last_reward_at:  178|Elapsed Time: 0:00:02||"
     ]
    },
    {
     "name": "stderr",
     "output_type": "stream",
     "text": [
      "\r",
      "Episode 2|Iteration 185|reward:  654.0|last_reward_at:  178|Elapsed Time: 0:00:02||"
     ]
    },
    {
     "name": "stderr",
     "output_type": "stream",
     "text": [
      "\r",
      "Episode 2|Iteration 185|reward:  654.0|last_reward_at:  185|Elapsed Time: 0:00:02||"
     ]
    },
    {
     "name": "stderr",
     "output_type": "stream",
     "text": [
      "\r",
      "Episode 2|Iteration 187|reward:  656.0|last_reward_at:  185|Elapsed Time: 0:00:02||"
     ]
    },
    {
     "name": "stderr",
     "output_type": "stream",
     "text": [
      "\r",
      "Episode 2|Iteration 187|reward:  656.0|last_reward_at:  187|Elapsed Time: 0:00:02||"
     ]
    },
    {
     "name": "stderr",
     "output_type": "stream",
     "text": [
      "\r",
      "Episode 2|Iteration 190|reward:  664.0|last_reward_at:  187|Elapsed Time: 0:00:02||"
     ]
    },
    {
     "name": "stderr",
     "output_type": "stream",
     "text": [
      "\r",
      "Episode 2|Iteration 190|reward:  664.0|last_reward_at:  190|Elapsed Time: 0:00:02||"
     ]
    },
    {
     "name": "stderr",
     "output_type": "stream",
     "text": [
      "\r",
      "Episode 2|Iteration 191|reward: 5664.0|last_reward_at:  190|Elapsed Time: 0:00:02||"
     ]
    },
    {
     "name": "stderr",
     "output_type": "stream",
     "text": [
      "\r",
      "Episode 2|Iteration 191|reward: 5664.0|last_reward_at:  191|Elapsed Time: 0:00:02||"
     ]
    },
    {
     "name": "stderr",
     "output_type": "stream",
     "text": [
      "\n"
     ]
    },
    {
     "name": "stdout",
     "output_type": "stream",
     "text": [
      "  Episode 2 ended at t=191 \n",
      "  Breakdown [Reward/NoReward (Success rate)]\n",
      "    explore-local: 3/28 (0.10)\n",
      "    explore-remote: 10/57 (0.15)\n",
      "    explore-connect: 1/64 (0.02)\n",
      "    exploit-local: 8/8 (0.50)\n",
      "    exploit-remote: 0/0 (NaN)\n",
      "    exploit-connect: 5/7 (0.42)\n",
      "  exploit deflected to exploration: 2\n",
      "  ## Episode: 3/10 'DQL' ϵ=0.7831, γ=0.15, lr=0.01, replaymemory=10000,\n",
      "batch=256, target_update=5\n"
     ]
    },
    {
     "name": "stderr",
     "output_type": "stream",
     "text": [
      "\r",
      "Episode 3|Iteration 0|reward: ------|last_reward_at: ----|Elapsed Time: 0:00:00||"
     ]
    },
    {
     "name": "stderr",
     "output_type": "stream",
     "text": [
      "\r",
      "Episode 3|Iteration 1|reward:   14.0|last_reward_at: ----|Elapsed Time: 0:00:00||"
     ]
    },
    {
     "name": "stderr",
     "output_type": "stream",
     "text": [
      "\r",
      "Episode 3|Iteration 1|reward:   14.0|last_reward_at:    1|Elapsed Time: 0:00:00||"
     ]
    },
    {
     "name": "stderr",
     "output_type": "stream",
     "text": [
      "\r",
      "Episode 3|Iteration 2|reward:  114.0|last_reward_at:    1|Elapsed Time: 0:00:00||"
     ]
    },
    {
     "name": "stderr",
     "output_type": "stream",
     "text": [
      "\r",
      "Episode 3|Iteration 2|reward:  114.0|last_reward_at:    2|Elapsed Time: 0:00:00||"
     ]
    },
    {
     "name": "stderr",
     "output_type": "stream",
     "text": [
      "\r",
      "Episode 3|Iteration 4|reward:  125.0|last_reward_at:    2|Elapsed Time: 0:00:00||"
     ]
    },
    {
     "name": "stderr",
     "output_type": "stream",
     "text": [
      "\r",
      "Episode 3|Iteration 4|reward:  125.0|last_reward_at:    4|Elapsed Time: 0:00:00||"
     ]
    },
    {
     "name": "stderr",
     "output_type": "stream",
     "text": [
      "\r",
      "Episode 3|Iteration 6|reward:  134.0|last_reward_at:    4|Elapsed Time: 0:00:00||"
     ]
    },
    {
     "name": "stderr",
     "output_type": "stream",
     "text": [
      "\r",
      "Episode 3|Iteration 6|reward:  134.0|last_reward_at:    6|Elapsed Time: 0:00:00||"
     ]
    },
    {
     "name": "stderr",
     "output_type": "stream",
     "text": [
      "\r",
      "Episode 3|Iteration 15|reward:  142.0|last_reward_at:    6|Elapsed Time: 0:00:00||"
     ]
    },
    {
     "name": "stderr",
     "output_type": "stream",
     "text": [
      "\r",
      "Episode 3|Iteration 15|reward:  142.0|last_reward_at:   15|Elapsed Time: 0:00:00||"
     ]
    },
    {
     "name": "stderr",
     "output_type": "stream",
     "text": [
      "\r",
      "Episode 3|Iteration 20|reward:  148.0|last_reward_at:   15|Elapsed Time: 0:00:00||"
     ]
    },
    {
     "name": "stderr",
     "output_type": "stream",
     "text": [
      "\r",
      "Episode 3|Iteration 20|reward:  148.0|last_reward_at:   20|Elapsed Time: 0:00:00||"
     ]
    },
    {
     "name": "stderr",
     "output_type": "stream",
     "text": [
      "\r",
      "Episode 3|Iteration 21|reward:  150.0|last_reward_at:   20|Elapsed Time: 0:00:00||"
     ]
    },
    {
     "name": "stderr",
     "output_type": "stream",
     "text": [
      "\r",
      "Episode 3|Iteration 21|reward:  150.0|last_reward_at:   21|Elapsed Time: 0:00:00||"
     ]
    },
    {
     "name": "stderr",
     "output_type": "stream",
     "text": [
      "\r",
      "Episode 3|Iteration 29|reward:  150.0|last_reward_at:   21|Elapsed Time: 0:00:00||"
     ]
    },
    {
     "name": "stderr",
     "output_type": "stream",
     "text": [
      "\r",
      "Episode 3|Iteration 34|reward:  250.0|last_reward_at:   21|Elapsed Time: 0:00:00||"
     ]
    },
    {
     "name": "stderr",
     "output_type": "stream",
     "text": [
      "\r",
      "Episode 3|Iteration 34|reward:  250.0|last_reward_at:   34|Elapsed Time: 0:00:00||"
     ]
    },
    {
     "name": "stderr",
     "output_type": "stream",
     "text": [
      "\r",
      "Episode 3|Iteration 35|reward:  264.0|last_reward_at:   34|Elapsed Time: 0:00:00||"
     ]
    },
    {
     "name": "stderr",
     "output_type": "stream",
     "text": [
      "\r",
      "Episode 3|Iteration 35|reward:  264.0|last_reward_at:   35|Elapsed Time: 0:00:00||"
     ]
    },
    {
     "name": "stderr",
     "output_type": "stream",
     "text": [
      "\r",
      "Episode 3|Iteration 37|reward:  364.0|last_reward_at:   35|Elapsed Time: 0:00:00||"
     ]
    },
    {
     "name": "stderr",
     "output_type": "stream",
     "text": [
      "\r",
      "Episode 3|Iteration 37|reward:  364.0|last_reward_at:   37|Elapsed Time: 0:00:00||"
     ]
    },
    {
     "name": "stderr",
     "output_type": "stream",
     "text": [
      "\r",
      "Episode 3|Iteration 39|reward:  375.0|last_reward_at:   37|Elapsed Time: 0:00:00||"
     ]
    },
    {
     "name": "stderr",
     "output_type": "stream",
     "text": [
      "\r",
      "Episode 3|Iteration 39|reward:  375.0|last_reward_at:   39|Elapsed Time: 0:00:00||"
     ]
    },
    {
     "name": "stderr",
     "output_type": "stream",
     "text": [
      "\r",
      "Episode 3|Iteration 41|reward:  384.0|last_reward_at:   39|Elapsed Time: 0:00:00||"
     ]
    },
    {
     "name": "stderr",
     "output_type": "stream",
     "text": [
      "\r",
      "Episode 3|Iteration 41|reward:  384.0|last_reward_at:   41|Elapsed Time: 0:00:00||"
     ]
    },
    {
     "name": "stderr",
     "output_type": "stream",
     "text": [
      "\r",
      "Episode 3|Iteration 42|reward:  484.0|last_reward_at:   41|Elapsed Time: 0:00:00||"
     ]
    },
    {
     "name": "stderr",
     "output_type": "stream",
     "text": [
      "\r",
      "Episode 3|Iteration 42|reward:  484.0|last_reward_at:   42|Elapsed Time: 0:00:00||"
     ]
    },
    {
     "name": "stderr",
     "output_type": "stream",
     "text": [
      "\r",
      "Episode 3|Iteration 50|reward:  490.0|last_reward_at:   42|Elapsed Time: 0:00:00||"
     ]
    },
    {
     "name": "stderr",
     "output_type": "stream",
     "text": [
      "\r",
      "Episode 3|Iteration 50|reward:  490.0|last_reward_at:   50|Elapsed Time: 0:00:00||"
     ]
    },
    {
     "name": "stderr",
     "output_type": "stream",
     "text": [
      "\r",
      "Episode 3|Iteration 53|reward:  504.0|last_reward_at:   50|Elapsed Time: 0:00:00||"
     ]
    },
    {
     "name": "stderr",
     "output_type": "stream",
     "text": [
      "\r",
      "Episode 3|Iteration 53|reward:  504.0|last_reward_at:   53|Elapsed Time: 0:00:00||"
     ]
    },
    {
     "name": "stderr",
     "output_type": "stream",
     "text": [
      "\r",
      "Episode 3|Iteration 54|reward:  508.0|last_reward_at:   53|Elapsed Time: 0:00:00||"
     ]
    },
    {
     "name": "stderr",
     "output_type": "stream",
     "text": [
      "\r",
      "Episode 3|Iteration 54|reward:  508.0|last_reward_at:   54|Elapsed Time: 0:00:00||"
     ]
    },
    {
     "name": "stderr",
     "output_type": "stream",
     "text": [
      "\r",
      "Episode 3|Iteration 56|reward:  608.0|last_reward_at:   54|Elapsed Time: 0:00:00||"
     ]
    },
    {
     "name": "stderr",
     "output_type": "stream",
     "text": [
      "\r",
      "Episode 3|Iteration 56|reward:  608.0|last_reward_at:   56|Elapsed Time: 0:00:00||"
     ]
    },
    {
     "name": "stderr",
     "output_type": "stream",
     "text": [
      "\r",
      "Episode 3|Iteration 57|reward:  619.0|last_reward_at:   56|Elapsed Time: 0:00:00||"
     ]
    },
    {
     "name": "stderr",
     "output_type": "stream",
     "text": [
      "\r",
      "Episode 3|Iteration 57|reward:  619.0|last_reward_at:   57|Elapsed Time: 0:00:00||"
     ]
    },
    {
     "name": "stderr",
     "output_type": "stream",
     "text": [
      "\r",
      "Episode 3|Iteration 60|reward:  628.0|last_reward_at:   57|Elapsed Time: 0:00:00||"
     ]
    },
    {
     "name": "stderr",
     "output_type": "stream",
     "text": [
      "\r",
      "Episode 3|Iteration 60|reward:  628.0|last_reward_at:   60|Elapsed Time: 0:00:00||"
     ]
    },
    {
     "name": "stderr",
     "output_type": "stream",
     "text": [
      "\r",
      "Episode 3|Iteration 68|reward:  634.0|last_reward_at:   60|Elapsed Time: 0:00:00||"
     ]
    },
    {
     "name": "stderr",
     "output_type": "stream",
     "text": [
      "\r",
      "Episode 3|Iteration 68|reward:  634.0|last_reward_at:   68|Elapsed Time: 0:00:00||"
     ]
    },
    {
     "name": "stderr",
     "output_type": "stream",
     "text": [
      "\r",
      "Episode 3|Iteration 76|reward:  634.0|last_reward_at:   68|Elapsed Time: 0:00:00||"
     ]
    },
    {
     "name": "stderr",
     "output_type": "stream",
     "text": [
      "\r",
      "Episode 3|Iteration 79|reward:  636.0|last_reward_at:   68|Elapsed Time: 0:00:01||"
     ]
    },
    {
     "name": "stderr",
     "output_type": "stream",
     "text": [
      "\r",
      "Episode 3|Iteration 79|reward:  636.0|last_reward_at:   79|Elapsed Time: 0:00:01||"
     ]
    },
    {
     "name": "stderr",
     "output_type": "stream",
     "text": [
      "\r",
      "Episode 3|Iteration 84|reward:  636.0|last_reward_at:   79|Elapsed Time: 0:00:01||"
     ]
    },
    {
     "name": "stderr",
     "output_type": "stream",
     "text": [
      "\r",
      "Episode 3|Iteration 86|reward:  638.0|last_reward_at:   79|Elapsed Time: 0:00:01||"
     ]
    },
    {
     "name": "stderr",
     "output_type": "stream",
     "text": [
      "\r",
      "Episode 3|Iteration 86|reward:  638.0|last_reward_at:   86|Elapsed Time: 0:00:01||"
     ]
    },
    {
     "name": "stderr",
     "output_type": "stream",
     "text": [
      "\r",
      "Episode 3|Iteration 90|reward:  644.0|last_reward_at:   86|Elapsed Time: 0:00:01||"
     ]
    },
    {
     "name": "stderr",
     "output_type": "stream",
     "text": [
      "\r",
      "Episode 3|Iteration 90|reward:  644.0|last_reward_at:   90|Elapsed Time: 0:00:01||"
     ]
    },
    {
     "name": "stderr",
     "output_type": "stream",
     "text": [
      "\r",
      "Episode 3|Iteration 98|reward:  644.0|last_reward_at:   90|Elapsed Time: 0:00:01||"
     ]
    },
    {
     "name": "stderr",
     "output_type": "stream",
     "text": [
      "\r",
      "Episode 3|Iteration 101|reward: 5644.0|last_reward_at:   90|Elapsed Time: 0:00:01||"
     ]
    },
    {
     "name": "stderr",
     "output_type": "stream",
     "text": [
      "\r",
      "Episode 3|Iteration 101|reward: 5644.0|last_reward_at:  101|Elapsed Time: 0:00:01||"
     ]
    },
    {
     "name": "stderr",
     "output_type": "stream",
     "text": [
      "\n"
     ]
    },
    {
     "name": "stdout",
     "output_type": "stream",
     "text": [
      "  Episode 3 ended at t=101 \n",
      "  Breakdown [Reward/NoReward (Success rate)]\n",
      "    explore-local: 1/21 (0.05)\n",
      "    explore-remote: 6/15 (0.29)\n",
      "    explore-connect: 3/26 (0.10)\n",
      "    exploit-local: 9/1 (0.90)\n",
      "    exploit-remote: 2/9 (0.18)\n",
      "    exploit-connect: 3/5 (0.38)\n",
      "  exploit deflected to exploration: 0\n",
      "  ## Episode: 4/10 'DQL' ϵ=0.7694, γ=0.15, lr=0.01, replaymemory=10000,\n",
      "batch=256, target_update=5\n"
     ]
    },
    {
     "name": "stderr",
     "output_type": "stream",
     "text": [
      "\r",
      "Episode 4|Iteration 0|reward: ------|last_reward_at: ----|Elapsed Time: 0:00:00||"
     ]
    },
    {
     "name": "stderr",
     "output_type": "stream",
     "text": [
      "\r",
      "Episode 4|Iteration 1|reward:   14.0|last_reward_at: ----|Elapsed Time: 0:00:00||"
     ]
    },
    {
     "name": "stderr",
     "output_type": "stream",
     "text": [
      "\r",
      "Episode 4|Iteration 1|reward:   14.0|last_reward_at:    1|Elapsed Time: 0:00:00||"
     ]
    },
    {
     "name": "stderr",
     "output_type": "stream",
     "text": [
      "\r",
      "Episode 4|Iteration 2|reward:  114.0|last_reward_at:    1|Elapsed Time: 0:00:00||"
     ]
    },
    {
     "name": "stderr",
     "output_type": "stream",
     "text": [
      "\r",
      "Episode 4|Iteration 2|reward:  114.0|last_reward_at:    2|Elapsed Time: 0:00:00||"
     ]
    },
    {
     "name": "stderr",
     "output_type": "stream",
     "text": [
      "\r",
      "Episode 4|Iteration 5|reward:  116.0|last_reward_at:    2|Elapsed Time: 0:00:00||"
     ]
    },
    {
     "name": "stderr",
     "output_type": "stream",
     "text": [
      "\r",
      "Episode 4|Iteration 5|reward:  116.0|last_reward_at:    5|Elapsed Time: 0:00:00||"
     ]
    },
    {
     "name": "stderr",
     "output_type": "stream",
     "text": [
      "\r",
      "Episode 4|Iteration 9|reward:  127.0|last_reward_at:    5|Elapsed Time: 0:00:00||"
     ]
    },
    {
     "name": "stderr",
     "output_type": "stream",
     "text": [
      "\r",
      "Episode 4|Iteration 9|reward:  127.0|last_reward_at:    9|Elapsed Time: 0:00:00||"
     ]
    },
    {
     "name": "stderr",
     "output_type": "stream",
     "text": [
      "\r",
      "Episode 4|Iteration 10|reward:  133.0|last_reward_at:    9|Elapsed Time: 0:00:00||"
     ]
    },
    {
     "name": "stderr",
     "output_type": "stream",
     "text": [
      "\r",
      "Episode 4|Iteration 10|reward:  133.0|last_reward_at:   10|Elapsed Time: 0:00:00||"
     ]
    },
    {
     "name": "stderr",
     "output_type": "stream",
     "text": [
      "\r",
      "Episode 4|Iteration 13|reward:  142.0|last_reward_at:   10|Elapsed Time: 0:00:00||"
     ]
    },
    {
     "name": "stderr",
     "output_type": "stream",
     "text": [
      "\r",
      "Episode 4|Iteration 13|reward:  142.0|last_reward_at:   13|Elapsed Time: 0:00:00||"
     ]
    },
    {
     "name": "stderr",
     "output_type": "stream",
     "text": [
      "\r",
      "Episode 4|Iteration 22|reward:  142.0|last_reward_at:   13|Elapsed Time: 0:00:00||"
     ]
    },
    {
     "name": "stderr",
     "output_type": "stream",
     "text": [
      "\r",
      "Episode 4|Iteration 24|reward:  242.0|last_reward_at:   13|Elapsed Time: 0:00:00||"
     ]
    },
    {
     "name": "stderr",
     "output_type": "stream",
     "text": [
      "\r",
      "Episode 4|Iteration 24|reward:  242.0|last_reward_at:   24|Elapsed Time: 0:00:00||"
     ]
    },
    {
     "name": "stderr",
     "output_type": "stream",
     "text": [
      "\r",
      "Episode 4|Iteration 26|reward:  256.0|last_reward_at:   24|Elapsed Time: 0:00:00||"
     ]
    },
    {
     "name": "stderr",
     "output_type": "stream",
     "text": [
      "\r",
      "Episode 4|Iteration 26|reward:  256.0|last_reward_at:   26|Elapsed Time: 0:00:00||"
     ]
    },
    {
     "name": "stderr",
     "output_type": "stream",
     "text": [
      "\r",
      "Episode 4|Iteration 29|reward:  356.0|last_reward_at:   26|Elapsed Time: 0:00:00||"
     ]
    },
    {
     "name": "stderr",
     "output_type": "stream",
     "text": [
      "\r",
      "Episode 4|Iteration 29|reward:  356.0|last_reward_at:   29|Elapsed Time: 0:00:00||"
     ]
    },
    {
     "name": "stderr",
     "output_type": "stream",
     "text": [
      "\r",
      "Episode 4|Iteration 30|reward:  370.0|last_reward_at:   29|Elapsed Time: 0:00:00||"
     ]
    },
    {
     "name": "stderr",
     "output_type": "stream",
     "text": [
      "\r",
      "Episode 4|Iteration 30|reward:  370.0|last_reward_at:   30|Elapsed Time: 0:00:00||"
     ]
    },
    {
     "name": "stderr",
     "output_type": "stream",
     "text": [
      "\r",
      "Episode 4|Iteration 32|reward:  372.0|last_reward_at:   30|Elapsed Time: 0:00:00||"
     ]
    },
    {
     "name": "stderr",
     "output_type": "stream",
     "text": [
      "\r",
      "Episode 4|Iteration 32|reward:  372.0|last_reward_at:   32|Elapsed Time: 0:00:00||"
     ]
    },
    {
     "name": "stderr",
     "output_type": "stream",
     "text": [
      "\r",
      "Episode 4|Iteration 34|reward:  472.0|last_reward_at:   32|Elapsed Time: 0:00:00||"
     ]
    },
    {
     "name": "stderr",
     "output_type": "stream",
     "text": [
      "\r",
      "Episode 4|Iteration 34|reward:  472.0|last_reward_at:   34|Elapsed Time: 0:00:00||"
     ]
    },
    {
     "name": "stderr",
     "output_type": "stream",
     "text": [
      "\r",
      "Episode 4|Iteration 38|reward:  472.0|last_reward_at:   34|Elapsed Time: 0:00:00||"
     ]
    },
    {
     "name": "stderr",
     "output_type": "stream",
     "text": [
      "\r",
      "Episode 4|Iteration 46|reward:  472.0|last_reward_at:   34|Elapsed Time: 0:00:00||"
     ]
    },
    {
     "name": "stderr",
     "output_type": "stream",
     "text": [
      "\r",
      "Episode 4|Iteration 53|reward:  472.0|last_reward_at:   34|Elapsed Time: 0:00:00||"
     ]
    },
    {
     "name": "stderr",
     "output_type": "stream",
     "text": [
      "\r",
      "Episode 4|Iteration 55|reward:  478.0|last_reward_at:   34|Elapsed Time: 0:00:00||"
     ]
    },
    {
     "name": "stderr",
     "output_type": "stream",
     "text": [
      "\r",
      "Episode 4|Iteration 55|reward:  478.0|last_reward_at:   55|Elapsed Time: 0:00:00||"
     ]
    },
    {
     "name": "stderr",
     "output_type": "stream",
     "text": [
      "\r",
      "Episode 4|Iteration 57|reward:  480.0|last_reward_at:   55|Elapsed Time: 0:00:00||"
     ]
    },
    {
     "name": "stderr",
     "output_type": "stream",
     "text": [
      "\r",
      "Episode 4|Iteration 57|reward:  480.0|last_reward_at:   57|Elapsed Time: 0:00:00||"
     ]
    },
    {
     "name": "stderr",
     "output_type": "stream",
     "text": [
      "\r",
      "Episode 4|Iteration 64|reward:  482.0|last_reward_at:   57|Elapsed Time: 0:00:00||"
     ]
    },
    {
     "name": "stderr",
     "output_type": "stream",
     "text": [
      "\r",
      "Episode 4|Iteration 64|reward:  482.0|last_reward_at:   64|Elapsed Time: 0:00:00||"
     ]
    },
    {
     "name": "stderr",
     "output_type": "stream",
     "text": [
      "\r",
      "Episode 4|Iteration 67|reward:  488.0|last_reward_at:   64|Elapsed Time: 0:00:00||"
     ]
    },
    {
     "name": "stderr",
     "output_type": "stream",
     "text": [
      "\r",
      "Episode 4|Iteration 67|reward:  488.0|last_reward_at:   67|Elapsed Time: 0:00:00||"
     ]
    },
    {
     "name": "stderr",
     "output_type": "stream",
     "text": [
      "\r",
      "Episode 4|Iteration 73|reward:  502.0|last_reward_at:   67|Elapsed Time: 0:00:00||"
     ]
    },
    {
     "name": "stderr",
     "output_type": "stream",
     "text": [
      "\r",
      "Episode 4|Iteration 73|reward:  502.0|last_reward_at:   73|Elapsed Time: 0:00:00||"
     ]
    },
    {
     "name": "stderr",
     "output_type": "stream",
     "text": [
      "\r",
      "Episode 4|Iteration 82|reward:  502.0|last_reward_at:   73|Elapsed Time: 0:00:01||"
     ]
    },
    {
     "name": "stderr",
     "output_type": "stream",
     "text": [
      "\r",
      "Episode 4|Iteration 86|reward:  508.0|last_reward_at:   73|Elapsed Time: 0:00:01||"
     ]
    },
    {
     "name": "stderr",
     "output_type": "stream",
     "text": [
      "\r",
      "Episode 4|Iteration 86|reward:  508.0|last_reward_at:   86|Elapsed Time: 0:00:01||"
     ]
    },
    {
     "name": "stderr",
     "output_type": "stream",
     "text": [
      "\r",
      "Episode 4|Iteration 92|reward:  508.0|last_reward_at:   86|Elapsed Time: 0:00:01||"
     ]
    },
    {
     "name": "stderr",
     "output_type": "stream",
     "text": [
      "\r",
      "Episode 4|Iteration 99|reward:  508.0|last_reward_at:   86|Elapsed Time: 0:00:01||"
     ]
    },
    {
     "name": "stderr",
     "output_type": "stream",
     "text": [
      "\r",
      "Episode 4|Iteration 101|reward: 5508.0|last_reward_at:   86|Elapsed Time: 0:00:01||"
     ]
    },
    {
     "name": "stderr",
     "output_type": "stream",
     "text": [
      "\r",
      "Episode 4|Iteration 101|reward: 5508.0|last_reward_at:  101|Elapsed Time: 0:00:01||"
     ]
    },
    {
     "name": "stderr",
     "output_type": "stream",
     "text": [
      "\n"
     ]
    },
    {
     "name": "stdout",
     "output_type": "stream",
     "text": [
      "  Episode 4 ended at t=101 \n",
      "  Breakdown [Reward/NoReward (Success rate)]\n",
      "    explore-local: 4/17 (0.19)\n",
      "    explore-remote: 7/18 (0.28)\n",
      "    explore-connect: 0/33 (0.00)\n",
      "    exploit-local: 3/3 (0.50)\n",
      "    exploit-remote: 0/1 (0.00)\n",
      "    exploit-connect: 5/10 (0.33)\n",
      "  exploit deflected to exploration: 1\n",
      "  ## Episode: 5/10 'DQL' ϵ=0.7560, γ=0.15, lr=0.01, replaymemory=10000,\n",
      "batch=256, target_update=5\n"
     ]
    },
    {
     "name": "stderr",
     "output_type": "stream",
     "text": [
      "\r",
      "Episode 5|Iteration 0|reward: ------|last_reward_at: ----|Elapsed Time: 0:00:00||"
     ]
    },
    {
     "name": "stderr",
     "output_type": "stream",
     "text": [
      "\r",
      "Episode 5|Iteration 1|reward:    0.0|last_reward_at: ----|Elapsed Time: 0:00:00||"
     ]
    },
    {
     "name": "stderr",
     "output_type": "stream",
     "text": [
      "\r",
      "Episode 5|Iteration 8|reward:    0.0|last_reward_at: ----|Elapsed Time: 0:00:00||"
     ]
    },
    {
     "name": "stderr",
     "output_type": "stream",
     "text": [
      "\r",
      "Episode 5|Iteration 11|reward:   14.0|last_reward_at: ----|Elapsed Time: 0:00:00||"
     ]
    },
    {
     "name": "stderr",
     "output_type": "stream",
     "text": [
      "\r",
      "Episode 5|Iteration 11|reward:   14.0|last_reward_at:   11|Elapsed Time: 0:00:00||"
     ]
    },
    {
     "name": "stderr",
     "output_type": "stream",
     "text": [
      "\r",
      "Episode 5|Iteration 16|reward:   14.0|last_reward_at:   11|Elapsed Time: 0:00:00||"
     ]
    },
    {
     "name": "stderr",
     "output_type": "stream",
     "text": [
      "\r",
      "Episode 5|Iteration 17|reward:   18.0|last_reward_at:   11|Elapsed Time: 0:00:00||"
     ]
    },
    {
     "name": "stderr",
     "output_type": "stream",
     "text": [
      "\r",
      "Episode 5|Iteration 17|reward:   18.0|last_reward_at:   17|Elapsed Time: 0:00:00||"
     ]
    },
    {
     "name": "stderr",
     "output_type": "stream",
     "text": [
      "\r",
      "Episode 5|Iteration 19|reward:  118.0|last_reward_at:   17|Elapsed Time: 0:00:00||"
     ]
    },
    {
     "name": "stderr",
     "output_type": "stream",
     "text": [
      "\r",
      "Episode 5|Iteration 19|reward:  118.0|last_reward_at:   19|Elapsed Time: 0:00:00||"
     ]
    },
    {
     "name": "stderr",
     "output_type": "stream",
     "text": [
      "\r",
      "Episode 5|Iteration 22|reward:  132.0|last_reward_at:   19|Elapsed Time: 0:00:00||"
     ]
    },
    {
     "name": "stderr",
     "output_type": "stream",
     "text": [
      "\r",
      "Episode 5|Iteration 22|reward:  132.0|last_reward_at:   22|Elapsed Time: 0:00:00||"
     ]
    },
    {
     "name": "stderr",
     "output_type": "stream",
     "text": [
      "\r",
      "Episode 5|Iteration 29|reward:  134.0|last_reward_at:   22|Elapsed Time: 0:00:00||"
     ]
    },
    {
     "name": "stderr",
     "output_type": "stream",
     "text": [
      "\r",
      "Episode 5|Iteration 29|reward:  134.0|last_reward_at:   29|Elapsed Time: 0:00:00||"
     ]
    },
    {
     "name": "stderr",
     "output_type": "stream",
     "text": [
      "\r",
      "Episode 5|Iteration 35|reward:  234.0|last_reward_at:   29|Elapsed Time: 0:00:00||"
     ]
    },
    {
     "name": "stderr",
     "output_type": "stream",
     "text": [
      "\r",
      "Episode 5|Iteration 35|reward:  234.0|last_reward_at:   35|Elapsed Time: 0:00:00||"
     ]
    },
    {
     "name": "stderr",
     "output_type": "stream",
     "text": [
      "\r",
      "Episode 5|Iteration 38|reward:  240.0|last_reward_at:   35|Elapsed Time: 0:00:00||"
     ]
    },
    {
     "name": "stderr",
     "output_type": "stream",
     "text": [
      "\r",
      "Episode 5|Iteration 38|reward:  240.0|last_reward_at:   38|Elapsed Time: 0:00:00||"
     ]
    },
    {
     "name": "stderr",
     "output_type": "stream",
     "text": [
      "\r",
      "Episode 5|Iteration 40|reward:  254.0|last_reward_at:   38|Elapsed Time: 0:00:00||"
     ]
    },
    {
     "name": "stderr",
     "output_type": "stream",
     "text": [
      "\r",
      "Episode 5|Iteration 40|reward:  254.0|last_reward_at:   40|Elapsed Time: 0:00:00||"
     ]
    },
    {
     "name": "stderr",
     "output_type": "stream",
     "text": [
      "\r",
      "Episode 5|Iteration 41|reward:  354.0|last_reward_at:   40|Elapsed Time: 0:00:00||"
     ]
    },
    {
     "name": "stderr",
     "output_type": "stream",
     "text": [
      "\r",
      "Episode 5|Iteration 41|reward:  354.0|last_reward_at:   41|Elapsed Time: 0:00:00||"
     ]
    },
    {
     "name": "stderr",
     "output_type": "stream",
     "text": [
      "\r",
      "Episode 5|Iteration 43|reward:  360.0|last_reward_at:   41|Elapsed Time: 0:00:00||"
     ]
    },
    {
     "name": "stderr",
     "output_type": "stream",
     "text": [
      "\r",
      "Episode 5|Iteration 43|reward:  360.0|last_reward_at:   43|Elapsed Time: 0:00:00||"
     ]
    },
    {
     "name": "stderr",
     "output_type": "stream",
     "text": [
      "\r",
      "Episode 5|Iteration 44|reward:  374.0|last_reward_at:   43|Elapsed Time: 0:00:00||"
     ]
    },
    {
     "name": "stderr",
     "output_type": "stream",
     "text": [
      "\r",
      "Episode 5|Iteration 44|reward:  374.0|last_reward_at:   44|Elapsed Time: 0:00:00||"
     ]
    },
    {
     "name": "stderr",
     "output_type": "stream",
     "text": [
      "\r",
      "Episode 5|Iteration 47|reward:  474.0|last_reward_at:   44|Elapsed Time: 0:00:00||"
     ]
    },
    {
     "name": "stderr",
     "output_type": "stream",
     "text": [
      "\r",
      "Episode 5|Iteration 47|reward:  474.0|last_reward_at:   47|Elapsed Time: 0:00:00||"
     ]
    },
    {
     "name": "stderr",
     "output_type": "stream",
     "text": [
      "\r",
      "Episode 5|Iteration 48|reward:  480.0|last_reward_at:   47|Elapsed Time: 0:00:00||"
     ]
    },
    {
     "name": "stderr",
     "output_type": "stream",
     "text": [
      "\r",
      "Episode 5|Iteration 48|reward:  480.0|last_reward_at:   48|Elapsed Time: 0:00:00||"
     ]
    },
    {
     "name": "stderr",
     "output_type": "stream",
     "text": [
      "\r",
      "Episode 5|Iteration 54|reward:  480.0|last_reward_at:   48|Elapsed Time: 0:00:00||"
     ]
    },
    {
     "name": "stderr",
     "output_type": "stream",
     "text": [
      "\r",
      "Episode 5|Iteration 60|reward:  482.0|last_reward_at:   48|Elapsed Time: 0:00:00||"
     ]
    },
    {
     "name": "stderr",
     "output_type": "stream",
     "text": [
      "\r",
      "Episode 5|Iteration 60|reward:  482.0|last_reward_at:   60|Elapsed Time: 0:00:00||"
     ]
    },
    {
     "name": "stderr",
     "output_type": "stream",
     "text": [
      "\r",
      "Episode 5|Iteration 68|reward:  488.0|last_reward_at:   60|Elapsed Time: 0:00:00||"
     ]
    },
    {
     "name": "stderr",
     "output_type": "stream",
     "text": [
      "\r",
      "Episode 5|Iteration 68|reward:  488.0|last_reward_at:   68|Elapsed Time: 0:00:00||"
     ]
    },
    {
     "name": "stderr",
     "output_type": "stream",
     "text": [
      "\r",
      "Episode 5|Iteration 69|reward:  494.0|last_reward_at:   68|Elapsed Time: 0:00:00||"
     ]
    },
    {
     "name": "stderr",
     "output_type": "stream",
     "text": [
      "\r",
      "Episode 5|Iteration 69|reward:  494.0|last_reward_at:   69|Elapsed Time: 0:00:00||"
     ]
    },
    {
     "name": "stderr",
     "output_type": "stream",
     "text": [
      "\r",
      "Episode 5|Iteration 76|reward:  494.0|last_reward_at:   69|Elapsed Time: 0:00:00||"
     ]
    },
    {
     "name": "stderr",
     "output_type": "stream",
     "text": [
      "\r",
      "Episode 5|Iteration 77|reward:  508.0|last_reward_at:   69|Elapsed Time: 0:00:01||"
     ]
    },
    {
     "name": "stderr",
     "output_type": "stream",
     "text": [
      "\r",
      "Episode 5|Iteration 77|reward:  508.0|last_reward_at:   77|Elapsed Time: 0:00:01||"
     ]
    },
    {
     "name": "stderr",
     "output_type": "stream",
     "text": [
      "\r",
      "Episode 5|Iteration 80|reward:  512.0|last_reward_at:   77|Elapsed Time: 0:00:01||"
     ]
    },
    {
     "name": "stderr",
     "output_type": "stream",
     "text": [
      "\r",
      "Episode 5|Iteration 80|reward:  512.0|last_reward_at:   80|Elapsed Time: 0:00:01||"
     ]
    },
    {
     "name": "stderr",
     "output_type": "stream",
     "text": [
      "\r",
      "Episode 5|Iteration 82|reward:  612.0|last_reward_at:   80|Elapsed Time: 0:00:01||"
     ]
    },
    {
     "name": "stderr",
     "output_type": "stream",
     "text": [
      "\r",
      "Episode 5|Iteration 82|reward:  612.0|last_reward_at:   82|Elapsed Time: 0:00:01||"
     ]
    },
    {
     "name": "stderr",
     "output_type": "stream",
     "text": [
      "\r",
      "Episode 5|Iteration 85|reward:  614.0|last_reward_at:   82|Elapsed Time: 0:00:01||"
     ]
    },
    {
     "name": "stderr",
     "output_type": "stream",
     "text": [
      "\r",
      "Episode 5|Iteration 85|reward:  614.0|last_reward_at:   85|Elapsed Time: 0:00:01||"
     ]
    },
    {
     "name": "stderr",
     "output_type": "stream",
     "text": [
      "\r",
      "Episode 5|Iteration 86|reward:  625.0|last_reward_at:   85|Elapsed Time: 0:00:01||"
     ]
    },
    {
     "name": "stderr",
     "output_type": "stream",
     "text": [
      "\r",
      "Episode 5|Iteration 86|reward:  625.0|last_reward_at:   86|Elapsed Time: 0:00:01||"
     ]
    },
    {
     "name": "stderr",
     "output_type": "stream",
     "text": [
      "\r",
      "Episode 5|Iteration 92|reward:  625.0|last_reward_at:   86|Elapsed Time: 0:00:01||"
     ]
    },
    {
     "name": "stderr",
     "output_type": "stream",
     "text": [
      "\r",
      "Episode 5|Iteration 98|reward:  634.0|last_reward_at:   86|Elapsed Time: 0:00:01||"
     ]
    },
    {
     "name": "stderr",
     "output_type": "stream",
     "text": [
      "\r",
      "Episode 5|Iteration 98|reward:  634.0|last_reward_at:   98|Elapsed Time: 0:00:01||"
     ]
    },
    {
     "name": "stderr",
     "output_type": "stream",
     "text": [
      "\r",
      "Episode 5|Iteration 99|reward:  636.0|last_reward_at:   98|Elapsed Time: 0:00:01||"
     ]
    },
    {
     "name": "stderr",
     "output_type": "stream",
     "text": [
      "\r",
      "Episode 5|Iteration 99|reward:  636.0|last_reward_at:   99|Elapsed Time: 0:00:01||"
     ]
    },
    {
     "name": "stderr",
     "output_type": "stream",
     "text": [
      "\r",
      "Episode 5|Iteration 105|reward:  736.0|last_reward_at:   99|Elapsed Time: 0:00:01||"
     ]
    },
    {
     "name": "stderr",
     "output_type": "stream",
     "text": [
      "\r",
      "Episode 5|Iteration 105|reward:  736.0|last_reward_at:  105|Elapsed Time: 0:00:01||"
     ]
    },
    {
     "name": "stderr",
     "output_type": "stream",
     "text": [
      "\r",
      "Episode 5|Iteration 106|reward:  742.0|last_reward_at:  105|Elapsed Time: 0:00:01||"
     ]
    },
    {
     "name": "stderr",
     "output_type": "stream",
     "text": [
      "\r",
      "Episode 5|Iteration 106|reward:  742.0|last_reward_at:  106|Elapsed Time: 0:00:01||"
     ]
    },
    {
     "name": "stderr",
     "output_type": "stream",
     "text": [
      "\r",
      "Episode 5|Iteration 107|reward:  756.0|last_reward_at:  106|Elapsed Time: 0:00:01||"
     ]
    },
    {
     "name": "stderr",
     "output_type": "stream",
     "text": [
      "\r",
      "Episode 5|Iteration 107|reward:  756.0|last_reward_at:  107|Elapsed Time: 0:00:01||"
     ]
    },
    {
     "name": "stderr",
     "output_type": "stream",
     "text": [
      "\r",
      "Episode 5|Iteration 113|reward:  762.0|last_reward_at:  107|Elapsed Time: 0:00:01||"
     ]
    },
    {
     "name": "stderr",
     "output_type": "stream",
     "text": [
      "\r",
      "Episode 5|Iteration 113|reward:  762.0|last_reward_at:  113|Elapsed Time: 0:00:01||"
     ]
    },
    {
     "name": "stderr",
     "output_type": "stream",
     "text": [
      "\r",
      "Episode 5|Iteration 119|reward:  764.0|last_reward_at:  113|Elapsed Time: 0:00:01||"
     ]
    },
    {
     "name": "stderr",
     "output_type": "stream",
     "text": [
      "\r",
      "Episode 5|Iteration 119|reward:  764.0|last_reward_at:  119|Elapsed Time: 0:00:01||"
     ]
    },
    {
     "name": "stderr",
     "output_type": "stream",
     "text": [
      "\r",
      "Episode 5|Iteration 128|reward:  764.0|last_reward_at:  119|Elapsed Time: 0:00:01||"
     ]
    },
    {
     "name": "stderr",
     "output_type": "stream",
     "text": [
      "\r",
      "Episode 5|Iteration 134|reward:  770.0|last_reward_at:  119|Elapsed Time: 0:00:01||"
     ]
    },
    {
     "name": "stderr",
     "output_type": "stream",
     "text": [
      "\r",
      "Episode 5|Iteration 134|reward:  770.0|last_reward_at:  134|Elapsed Time: 0:00:01||"
     ]
    },
    {
     "name": "stderr",
     "output_type": "stream",
     "text": [
      "\r",
      "Episode 5|Iteration 141|reward:  774.0|last_reward_at:  134|Elapsed Time: 0:00:01||"
     ]
    },
    {
     "name": "stderr",
     "output_type": "stream",
     "text": [
      "\r",
      "Episode 5|Iteration 141|reward:  774.0|last_reward_at:  141|Elapsed Time: 0:00:01||"
     ]
    },
    {
     "name": "stderr",
     "output_type": "stream",
     "text": [
      "\r",
      "Episode 5|Iteration 150|reward:  774.0|last_reward_at:  141|Elapsed Time: 0:00:02||"
     ]
    },
    {
     "name": "stderr",
     "output_type": "stream",
     "text": [
      "\r",
      "Episode 5|Iteration 158|reward:  774.0|last_reward_at:  141|Elapsed Time: 0:00:02||"
     ]
    },
    {
     "name": "stderr",
     "output_type": "stream",
     "text": [
      "\r",
      "Episode 5|Iteration 166|reward:  774.0|last_reward_at:  141|Elapsed Time: 0:00:02||"
     ]
    },
    {
     "name": "stderr",
     "output_type": "stream",
     "text": [
      "\r",
      "Episode 5|Iteration 174|reward:  774.0|last_reward_at:  141|Elapsed Time: 0:00:02||"
     ]
    },
    {
     "name": "stderr",
     "output_type": "stream",
     "text": [
      "\r",
      "Episode 5|Iteration 182|reward:  774.0|last_reward_at:  141|Elapsed Time: 0:00:02||"
     ]
    },
    {
     "name": "stderr",
     "output_type": "stream",
     "text": [
      "\r",
      "Episode 5|Iteration 190|reward:  774.0|last_reward_at:  141|Elapsed Time: 0:00:02||"
     ]
    },
    {
     "name": "stderr",
     "output_type": "stream",
     "text": [
      "\r",
      "Episode 5|Iteration 198|reward:  774.0|last_reward_at:  141|Elapsed Time: 0:00:02||"
     ]
    },
    {
     "name": "stderr",
     "output_type": "stream",
     "text": [
      "\r",
      "Episode 5|Iteration 205|reward:  774.0|last_reward_at:  141|Elapsed Time: 0:00:02||"
     ]
    },
    {
     "name": "stderr",
     "output_type": "stream",
     "text": [
      "\r",
      "Episode 5|Iteration 213|reward:  774.0|last_reward_at:  141|Elapsed Time: 0:00:02||"
     ]
    },
    {
     "name": "stderr",
     "output_type": "stream",
     "text": [
      "\r",
      "Episode 5|Iteration 220|reward:  774.0|last_reward_at:  141|Elapsed Time: 0:00:02||"
     ]
    },
    {
     "name": "stderr",
     "output_type": "stream",
     "text": [
      "\r",
      "Episode 5|Iteration 222|reward:  780.0|last_reward_at:  141|Elapsed Time: 0:00:02||"
     ]
    },
    {
     "name": "stderr",
     "output_type": "stream",
     "text": [
      "\r",
      "Episode 5|Iteration 222|reward:  780.0|last_reward_at:  222|Elapsed Time: 0:00:02||"
     ]
    },
    {
     "name": "stderr",
     "output_type": "stream",
     "text": [
      "\r",
      "Episode 5|Iteration 228|reward:  780.0|last_reward_at:  222|Elapsed Time: 0:00:03||"
     ]
    },
    {
     "name": "stderr",
     "output_type": "stream",
     "text": [
      "\r",
      "Episode 5|Iteration 235|reward:  780.0|last_reward_at:  222|Elapsed Time: 0:00:03||"
     ]
    },
    {
     "name": "stderr",
     "output_type": "stream",
     "text": [
      "\r",
      "Episode 5|Iteration 243|reward:  780.0|last_reward_at:  222|Elapsed Time: 0:00:03||"
     ]
    },
    {
     "name": "stderr",
     "output_type": "stream",
     "text": [
      "\r",
      "Episode 5|Iteration 251|reward:  780.0|last_reward_at:  222|Elapsed Time: 0:00:03||"
     ]
    },
    {
     "name": "stderr",
     "output_type": "stream",
     "text": [
      "\r",
      "Episode 5|Iteration 259|reward:  780.0|last_reward_at:  222|Elapsed Time: 0:00:03||"
     ]
    },
    {
     "name": "stderr",
     "output_type": "stream",
     "text": [
      "\r",
      "Episode 5|Iteration 266|reward:  780.0|last_reward_at:  222|Elapsed Time: 0:00:03||"
     ]
    },
    {
     "name": "stderr",
     "output_type": "stream",
     "text": [
      "\r",
      "Episode 5|Iteration 274|reward:  780.0|last_reward_at:  222|Elapsed Time: 0:00:03||"
     ]
    },
    {
     "name": "stderr",
     "output_type": "stream",
     "text": [
      "\r",
      "Episode 5|Iteration 282|reward:  780.0|last_reward_at:  222|Elapsed Time: 0:00:03||"
     ]
    },
    {
     "name": "stderr",
     "output_type": "stream",
     "text": [
      "\r",
      "Episode 5|Iteration 289|reward:  780.0|last_reward_at:  222|Elapsed Time: 0:00:03||"
     ]
    },
    {
     "name": "stderr",
     "output_type": "stream",
     "text": [
      "\r",
      "Episode 5|Iteration 296|reward:  780.0|last_reward_at:  222|Elapsed Time: 0:00:03||"
     ]
    },
    {
     "name": "stderr",
     "output_type": "stream",
     "text": [
      "\r",
      "Episode 5|Iteration 304|reward:  780.0|last_reward_at:  222|Elapsed Time: 0:00:03||"
     ]
    },
    {
     "name": "stderr",
     "output_type": "stream",
     "text": [
      "\r",
      "Episode 5|Iteration 311|reward:  780.0|last_reward_at:  222|Elapsed Time: 0:00:04||"
     ]
    },
    {
     "name": "stderr",
     "output_type": "stream",
     "text": [
      "\r",
      "Episode 5|Iteration 319|reward:  780.0|last_reward_at:  222|Elapsed Time: 0:00:04||"
     ]
    },
    {
     "name": "stderr",
     "output_type": "stream",
     "text": [
      "\r",
      "Episode 5|Iteration 327|reward:  780.0|last_reward_at:  222|Elapsed Time: 0:00:04||"
     ]
    },
    {
     "name": "stderr",
     "output_type": "stream",
     "text": [
      "\r",
      "Episode 5|Iteration 334|reward:  780.0|last_reward_at:  222|Elapsed Time: 0:00:04||"
     ]
    },
    {
     "name": "stderr",
     "output_type": "stream",
     "text": [
      "\r",
      "Episode 5|Iteration 342|reward:  780.0|last_reward_at:  222|Elapsed Time: 0:00:04||"
     ]
    },
    {
     "name": "stderr",
     "output_type": "stream",
     "text": [
      "\r",
      "Episode 5|Iteration 350|reward:  780.0|last_reward_at:  222|Elapsed Time: 0:00:04||"
     ]
    },
    {
     "name": "stderr",
     "output_type": "stream",
     "text": [
      "\r",
      "Episode 5|Iteration 357|reward:  780.0|last_reward_at:  222|Elapsed Time: 0:00:04||"
     ]
    },
    {
     "name": "stderr",
     "output_type": "stream",
     "text": [
      "\r",
      "Episode 5|Iteration 365|reward:  780.0|last_reward_at:  222|Elapsed Time: 0:00:04||"
     ]
    },
    {
     "name": "stderr",
     "output_type": "stream",
     "text": [
      "\r",
      "Episode 5|Iteration 373|reward:  780.0|last_reward_at:  222|Elapsed Time: 0:00:04||"
     ]
    },
    {
     "name": "stderr",
     "output_type": "stream",
     "text": [
      "\r",
      "Episode 5|Iteration 380|reward:  780.0|last_reward_at:  222|Elapsed Time: 0:00:04||"
     ]
    },
    {
     "name": "stderr",
     "output_type": "stream",
     "text": [
      "\r",
      "Episode 5|Iteration 387|reward:  780.0|last_reward_at:  222|Elapsed Time: 0:00:05||"
     ]
    },
    {
     "name": "stderr",
     "output_type": "stream",
     "text": [
      "\r",
      "Episode 5|Iteration 395|reward:  780.0|last_reward_at:  222|Elapsed Time: 0:00:05||"
     ]
    },
    {
     "name": "stderr",
     "output_type": "stream",
     "text": [
      "\r",
      "Episode 5|Iteration 403|reward:  780.0|last_reward_at:  222|Elapsed Time: 0:00:05||"
     ]
    },
    {
     "name": "stderr",
     "output_type": "stream",
     "text": [
      "\r",
      "Episode 5|Iteration 410|reward:  780.0|last_reward_at:  222|Elapsed Time: 0:00:05||"
     ]
    },
    {
     "name": "stderr",
     "output_type": "stream",
     "text": [
      "\r",
      "Episode 5|Iteration 418|reward:  780.0|last_reward_at:  222|Elapsed Time: 0:00:05||"
     ]
    },
    {
     "name": "stderr",
     "output_type": "stream",
     "text": [
      "\r",
      "Episode 5|Iteration 426|reward:  780.0|last_reward_at:  222|Elapsed Time: 0:00:05||"
     ]
    },
    {
     "name": "stderr",
     "output_type": "stream",
     "text": [
      "\r",
      "Episode 5|Iteration 433|reward:  780.0|last_reward_at:  222|Elapsed Time: 0:00:05||"
     ]
    },
    {
     "name": "stderr",
     "output_type": "stream",
     "text": [
      "\r",
      "Episode 5|Iteration 441|reward:  780.0|last_reward_at:  222|Elapsed Time: 0:00:05||"
     ]
    },
    {
     "name": "stderr",
     "output_type": "stream",
     "text": [
      "\r",
      "Episode 5|Iteration 442|reward:  786.0|last_reward_at:  222|Elapsed Time: 0:00:05||"
     ]
    },
    {
     "name": "stderr",
     "output_type": "stream",
     "text": [
      "\r",
      "Episode 5|Iteration 442|reward:  786.0|last_reward_at:  442|Elapsed Time: 0:00:05||"
     ]
    },
    {
     "name": "stderr",
     "output_type": "stream",
     "text": [
      "\r",
      "Episode 5|Iteration 449|reward:  786.0|last_reward_at:  442|Elapsed Time: 0:00:05||"
     ]
    },
    {
     "name": "stderr",
     "output_type": "stream",
     "text": [
      "\r",
      "Episode 5|Iteration 456|reward:  786.0|last_reward_at:  442|Elapsed Time: 0:00:05||"
     ]
    },
    {
     "name": "stderr",
     "output_type": "stream",
     "text": [
      "\r",
      "Episode 5|Iteration 463|reward:  786.0|last_reward_at:  442|Elapsed Time: 0:00:05||"
     ]
    },
    {
     "name": "stderr",
     "output_type": "stream",
     "text": [
      "\r",
      "Episode 5|Iteration 468|reward:  792.0|last_reward_at:  442|Elapsed Time: 0:00:06||"
     ]
    },
    {
     "name": "stderr",
     "output_type": "stream",
     "text": [
      "\r",
      "Episode 5|Iteration 468|reward:  792.0|last_reward_at:  468|Elapsed Time: 0:00:06||"
     ]
    },
    {
     "name": "stderr",
     "output_type": "stream",
     "text": [
      "\r",
      "Episode 5|Iteration 476|reward:  792.0|last_reward_at:  468|Elapsed Time: 0:00:06||"
     ]
    },
    {
     "name": "stderr",
     "output_type": "stream",
     "text": [
      "\r",
      "Episode 5|Iteration 484|reward:  792.0|last_reward_at:  468|Elapsed Time: 0:00:06||"
     ]
    },
    {
     "name": "stderr",
     "output_type": "stream",
     "text": [
      "\r",
      "Episode 5|Iteration 492|reward:  792.0|last_reward_at:  468|Elapsed Time: 0:00:06||"
     ]
    },
    {
     "name": "stderr",
     "output_type": "stream",
     "text": [
      "\r",
      "Episode 5|Iteration 500|reward:  792.0|last_reward_at:  468|Elapsed Time: 0:00:06||"
     ]
    },
    {
     "name": "stderr",
     "output_type": "stream",
     "text": [
      "\r",
      "Episode 5|Iteration 508|reward:  792.0|last_reward_at:  468|Elapsed Time: 0:00:06||"
     ]
    },
    {
     "name": "stderr",
     "output_type": "stream",
     "text": [
      "\r",
      "Episode 5|Iteration 516|reward:  792.0|last_reward_at:  468|Elapsed Time: 0:00:06||"
     ]
    },
    {
     "name": "stderr",
     "output_type": "stream",
     "text": [
      "\r",
      "Episode 5|Iteration 525|reward:  792.0|last_reward_at:  468|Elapsed Time: 0:00:06||"
     ]
    },
    {
     "name": "stderr",
     "output_type": "stream",
     "text": [
      "\r",
      "Episode 5|Iteration 532|reward:  792.0|last_reward_at:  468|Elapsed Time: 0:00:06||"
     ]
    },
    {
     "name": "stderr",
     "output_type": "stream",
     "text": [
      "\r",
      "Episode 5|Iteration 539|reward:  792.0|last_reward_at:  468|Elapsed Time: 0:00:06||"
     ]
    },
    {
     "name": "stderr",
     "output_type": "stream",
     "text": [
      "\r",
      "Episode 5|Iteration 547|reward:  792.0|last_reward_at:  468|Elapsed Time: 0:00:07||"
     ]
    },
    {
     "name": "stderr",
     "output_type": "stream",
     "text": [
      "\r",
      "Episode 5|Iteration 554|reward:  792.0|last_reward_at:  468|Elapsed Time: 0:00:07||"
     ]
    },
    {
     "name": "stderr",
     "output_type": "stream",
     "text": [
      "\r",
      "Episode 5|Iteration 562|reward:  792.0|last_reward_at:  468|Elapsed Time: 0:00:07||"
     ]
    },
    {
     "name": "stderr",
     "output_type": "stream",
     "text": [
      "\r",
      "Episode 5|Iteration 570|reward:  792.0|last_reward_at:  468|Elapsed Time: 0:00:07||"
     ]
    },
    {
     "name": "stderr",
     "output_type": "stream",
     "text": [
      "\r",
      "Episode 5|Iteration 577|reward:  792.0|last_reward_at:  468|Elapsed Time: 0:00:07||"
     ]
    },
    {
     "name": "stderr",
     "output_type": "stream",
     "text": [
      "\r",
      "Episode 5|Iteration 585|reward:  792.0|last_reward_at:  468|Elapsed Time: 0:00:07||"
     ]
    },
    {
     "name": "stderr",
     "output_type": "stream",
     "text": [
      "\r",
      "Episode 5|Iteration 592|reward:  792.0|last_reward_at:  468|Elapsed Time: 0:00:07||"
     ]
    },
    {
     "name": "stderr",
     "output_type": "stream",
     "text": [
      "\r",
      "Episode 5|Iteration 600|reward:  792.0|last_reward_at:  468|Elapsed Time: 0:00:07||"
     ]
    },
    {
     "name": "stderr",
     "output_type": "stream",
     "text": [
      "\r",
      "Episode 5|Iteration 600|reward:  792.0|last_reward_at:  468|Elapsed Time: 0:00:07||"
     ]
    },
    {
     "name": "stderr",
     "output_type": "stream",
     "text": [
      "\n"
     ]
    },
    {
     "name": "stdout",
     "output_type": "stream",
     "text": [
      "  Episode 5 stopped at t=600 \n",
      "  Breakdown [Reward/NoReward (Success rate)]\n",
      "    explore-local: 6/108 (0.05)\n",
      "    explore-remote: 11/131 (0.08)\n",
      "    explore-connect: 0/162 (0.00)\n",
      "    exploit-local: 7/13 (0.35)\n",
      "    exploit-remote: 3/125 (0.02)\n",
      "    exploit-connect: 6/28 (0.18)\n",
      "  exploit deflected to exploration: 1\n",
      "  ## Episode: 6/10 'DQL' ϵ=0.6818, γ=0.15, lr=0.01, replaymemory=10000,\n",
      "batch=256, target_update=5\n"
     ]
    },
    {
     "name": "stderr",
     "output_type": "stream",
     "text": [
      "\r",
      "Episode 6|Iteration 0|reward: ------|last_reward_at: ----|Elapsed Time: 0:00:00||"
     ]
    },
    {
     "name": "stderr",
     "output_type": "stream",
     "text": [
      "\r",
      "Episode 6|Iteration 1|reward:    0.0|last_reward_at: ----|Elapsed Time: 0:00:00||"
     ]
    },
    {
     "name": "stderr",
     "output_type": "stream",
     "text": [
      "\r",
      "Episode 6|Iteration 2|reward:   14.0|last_reward_at: ----|Elapsed Time: 0:00:00||"
     ]
    },
    {
     "name": "stderr",
     "output_type": "stream",
     "text": [
      "\r",
      "Episode 6|Iteration 2|reward:   14.0|last_reward_at:    2|Elapsed Time: 0:00:00||"
     ]
    },
    {
     "name": "stderr",
     "output_type": "stream",
     "text": [
      "\r",
      "Episode 6|Iteration 3|reward:   18.0|last_reward_at:    2|Elapsed Time: 0:00:00||"
     ]
    },
    {
     "name": "stderr",
     "output_type": "stream",
     "text": [
      "\r",
      "Episode 6|Iteration 3|reward:   18.0|last_reward_at:    3|Elapsed Time: 0:00:00||"
     ]
    },
    {
     "name": "stderr",
     "output_type": "stream",
     "text": [
      "\r",
      "Episode 6|Iteration 5|reward:  118.0|last_reward_at:    3|Elapsed Time: 0:00:00||"
     ]
    },
    {
     "name": "stderr",
     "output_type": "stream",
     "text": [
      "\r",
      "Episode 6|Iteration 5|reward:  118.0|last_reward_at:    5|Elapsed Time: 0:00:00||"
     ]
    },
    {
     "name": "stderr",
     "output_type": "stream",
     "text": [
      "\r",
      "Episode 6|Iteration 7|reward:  132.0|last_reward_at:    5|Elapsed Time: 0:00:00||"
     ]
    },
    {
     "name": "stderr",
     "output_type": "stream",
     "text": [
      "\r",
      "Episode 6|Iteration 7|reward:  132.0|last_reward_at:    7|Elapsed Time: 0:00:00||"
     ]
    },
    {
     "name": "stderr",
     "output_type": "stream",
     "text": [
      "\r",
      "Episode 6|Iteration 10|reward:  232.0|last_reward_at:    7|Elapsed Time: 0:00:00||"
     ]
    },
    {
     "name": "stderr",
     "output_type": "stream",
     "text": [
      "\r",
      "Episode 6|Iteration 10|reward:  232.0|last_reward_at:   10|Elapsed Time: 0:00:00||"
     ]
    },
    {
     "name": "stderr",
     "output_type": "stream",
     "text": [
      "\r",
      "Episode 6|Iteration 11|reward:  246.0|last_reward_at:   10|Elapsed Time: 0:00:00||"
     ]
    },
    {
     "name": "stderr",
     "output_type": "stream",
     "text": [
      "\r",
      "Episode 6|Iteration 11|reward:  246.0|last_reward_at:   11|Elapsed Time: 0:00:00||"
     ]
    },
    {
     "name": "stderr",
     "output_type": "stream",
     "text": [
      "\r",
      "Episode 6|Iteration 12|reward:  248.0|last_reward_at:   11|Elapsed Time: 0:00:00||"
     ]
    },
    {
     "name": "stderr",
     "output_type": "stream",
     "text": [
      "\r",
      "Episode 6|Iteration 12|reward:  248.0|last_reward_at:   12|Elapsed Time: 0:00:00||"
     ]
    },
    {
     "name": "stderr",
     "output_type": "stream",
     "text": [
      "\r",
      "Episode 6|Iteration 16|reward:  348.0|last_reward_at:   12|Elapsed Time: 0:00:00||"
     ]
    },
    {
     "name": "stderr",
     "output_type": "stream",
     "text": [
      "\r",
      "Episode 6|Iteration 16|reward:  348.0|last_reward_at:   16|Elapsed Time: 0:00:00||"
     ]
    },
    {
     "name": "stderr",
     "output_type": "stream",
     "text": [
      "\r",
      "Episode 6|Iteration 18|reward:  350.0|last_reward_at:   16|Elapsed Time: 0:00:00||"
     ]
    },
    {
     "name": "stderr",
     "output_type": "stream",
     "text": [
      "\r",
      "Episode 6|Iteration 18|reward:  350.0|last_reward_at:   18|Elapsed Time: 0:00:00||"
     ]
    },
    {
     "name": "stderr",
     "output_type": "stream",
     "text": [
      "\r",
      "Episode 6|Iteration 23|reward:  350.0|last_reward_at:   18|Elapsed Time: 0:00:00||"
     ]
    },
    {
     "name": "stderr",
     "output_type": "stream",
     "text": [
      "\r",
      "Episode 6|Iteration 23|reward:  364.0|last_reward_at:   18|Elapsed Time: 0:00:00||"
     ]
    },
    {
     "name": "stderr",
     "output_type": "stream",
     "text": [
      "\r",
      "Episode 6|Iteration 23|reward:  364.0|last_reward_at:   23|Elapsed Time: 0:00:00||"
     ]
    },
    {
     "name": "stderr",
     "output_type": "stream",
     "text": [
      "\r",
      "Episode 6|Iteration 25|reward:  464.0|last_reward_at:   23|Elapsed Time: 0:00:00||"
     ]
    },
    {
     "name": "stderr",
     "output_type": "stream",
     "text": [
      "\r",
      "Episode 6|Iteration 25|reward:  464.0|last_reward_at:   25|Elapsed Time: 0:00:00||"
     ]
    },
    {
     "name": "stderr",
     "output_type": "stream",
     "text": [
      "\r",
      "Episode 6|Iteration 28|reward:  478.0|last_reward_at:   25|Elapsed Time: 0:00:00||"
     ]
    },
    {
     "name": "stderr",
     "output_type": "stream",
     "text": [
      "\r",
      "Episode 6|Iteration 28|reward:  478.0|last_reward_at:   28|Elapsed Time: 0:00:00||"
     ]
    },
    {
     "name": "stderr",
     "output_type": "stream",
     "text": [
      "\r",
      "Episode 6|Iteration 30|reward:  484.0|last_reward_at:   28|Elapsed Time: 0:00:00||"
     ]
    },
    {
     "name": "stderr",
     "output_type": "stream",
     "text": [
      "\r",
      "Episode 6|Iteration 30|reward:  484.0|last_reward_at:   30|Elapsed Time: 0:00:00||"
     ]
    },
    {
     "name": "stderr",
     "output_type": "stream",
     "text": [
      "\r",
      "Episode 6|Iteration 31|reward:  584.0|last_reward_at:   30|Elapsed Time: 0:00:00||"
     ]
    },
    {
     "name": "stderr",
     "output_type": "stream",
     "text": [
      "\r",
      "Episode 6|Iteration 31|reward:  584.0|last_reward_at:   31|Elapsed Time: 0:00:00||"
     ]
    },
    {
     "name": "stderr",
     "output_type": "stream",
     "text": [
      "\r",
      "Episode 6|Iteration 32|reward:  598.0|last_reward_at:   31|Elapsed Time: 0:00:00||"
     ]
    },
    {
     "name": "stderr",
     "output_type": "stream",
     "text": [
      "\r",
      "Episode 6|Iteration 32|reward:  598.0|last_reward_at:   32|Elapsed Time: 0:00:00||"
     ]
    },
    {
     "name": "stderr",
     "output_type": "stream",
     "text": [
      "\r",
      "Episode 6|Iteration 33|reward:  698.0|last_reward_at:   32|Elapsed Time: 0:00:00||"
     ]
    },
    {
     "name": "stderr",
     "output_type": "stream",
     "text": [
      "\r",
      "Episode 6|Iteration 33|reward:  698.0|last_reward_at:   33|Elapsed Time: 0:00:00||"
     ]
    },
    {
     "name": "stderr",
     "output_type": "stream",
     "text": [
      "\r",
      "Episode 6|Iteration 34|reward:  712.0|last_reward_at:   33|Elapsed Time: 0:00:00||"
     ]
    },
    {
     "name": "stderr",
     "output_type": "stream",
     "text": [
      "\r",
      "Episode 6|Iteration 34|reward:  712.0|last_reward_at:   34|Elapsed Time: 0:00:00||"
     ]
    },
    {
     "name": "stderr",
     "output_type": "stream",
     "text": [
      "\r",
      "Episode 6|Iteration 35|reward:  812.0|last_reward_at:   34|Elapsed Time: 0:00:00||"
     ]
    },
    {
     "name": "stderr",
     "output_type": "stream",
     "text": [
      "\r",
      "Episode 6|Iteration 35|reward:  812.0|last_reward_at:   35|Elapsed Time: 0:00:00||"
     ]
    },
    {
     "name": "stderr",
     "output_type": "stream",
     "text": [
      "\r",
      "Episode 6|Iteration 40|reward:  826.0|last_reward_at:   35|Elapsed Time: 0:00:00||"
     ]
    },
    {
     "name": "stderr",
     "output_type": "stream",
     "text": [
      "\r",
      "Episode 6|Iteration 40|reward:  826.0|last_reward_at:   40|Elapsed Time: 0:00:00||"
     ]
    },
    {
     "name": "stderr",
     "output_type": "stream",
     "text": [
      "\r",
      "Episode 6|Iteration 41|reward:  926.0|last_reward_at:   40|Elapsed Time: 0:00:00||"
     ]
    },
    {
     "name": "stderr",
     "output_type": "stream",
     "text": [
      "\r",
      "Episode 6|Iteration 41|reward:  926.0|last_reward_at:   41|Elapsed Time: 0:00:00||"
     ]
    },
    {
     "name": "stderr",
     "output_type": "stream",
     "text": [
      "\r",
      "Episode 6|Iteration 42|reward:  940.0|last_reward_at:   41|Elapsed Time: 0:00:00||"
     ]
    },
    {
     "name": "stderr",
     "output_type": "stream",
     "text": [
      "\r",
      "Episode 6|Iteration 42|reward:  940.0|last_reward_at:   42|Elapsed Time: 0:00:00||"
     ]
    },
    {
     "name": "stderr",
     "output_type": "stream",
     "text": [
      "\r",
      "Episode 6|Iteration 44|reward: 1040.0|last_reward_at:   42|Elapsed Time: 0:00:00||"
     ]
    },
    {
     "name": "stderr",
     "output_type": "stream",
     "text": [
      "\r",
      "Episode 6|Iteration 44|reward: 1040.0|last_reward_at:   44|Elapsed Time: 0:00:00||"
     ]
    },
    {
     "name": "stderr",
     "output_type": "stream",
     "text": [
      "\r",
      "Episode 6|Iteration 45|reward: 1042.0|last_reward_at:   44|Elapsed Time: 0:00:00||"
     ]
    },
    {
     "name": "stderr",
     "output_type": "stream",
     "text": [
      "\r",
      "Episode 6|Iteration 45|reward: 1042.0|last_reward_at:   45|Elapsed Time: 0:00:00||"
     ]
    },
    {
     "name": "stderr",
     "output_type": "stream",
     "text": [
      "\r",
      "Episode 6|Iteration 46|reward: 1056.0|last_reward_at:   45|Elapsed Time: 0:00:00||"
     ]
    },
    {
     "name": "stderr",
     "output_type": "stream",
     "text": [
      "\r",
      "Episode 6|Iteration 46|reward: 1056.0|last_reward_at:   46|Elapsed Time: 0:00:00||"
     ]
    },
    {
     "name": "stderr",
     "output_type": "stream",
     "text": [
      "\r",
      "Episode 6|Iteration 47|reward: 1156.0|last_reward_at:   46|Elapsed Time: 0:00:00||"
     ]
    },
    {
     "name": "stderr",
     "output_type": "stream",
     "text": [
      "\r",
      "Episode 6|Iteration 47|reward: 1156.0|last_reward_at:   47|Elapsed Time: 0:00:00||"
     ]
    },
    {
     "name": "stderr",
     "output_type": "stream",
     "text": [
      "\r",
      "Episode 6|Iteration 49|reward: 1170.0|last_reward_at:   47|Elapsed Time: 0:00:00||"
     ]
    },
    {
     "name": "stderr",
     "output_type": "stream",
     "text": [
      "\r",
      "Episode 6|Iteration 49|reward: 1170.0|last_reward_at:   49|Elapsed Time: 0:00:00||"
     ]
    },
    {
     "name": "stderr",
     "output_type": "stream",
     "text": [
      "\r",
      "Episode 6|Iteration 52|reward: 2170.0|last_reward_at:   49|Elapsed Time: 0:00:00||"
     ]
    },
    {
     "name": "stderr",
     "output_type": "stream",
     "text": [
      "\r",
      "Episode 6|Iteration 52|reward: 2170.0|last_reward_at:   52|Elapsed Time: 0:00:00||"
     ]
    },
    {
     "name": "stderr",
     "output_type": "stream",
     "text": [
      "\r",
      "Episode 6|Iteration 58|reward: 2176.0|last_reward_at:   52|Elapsed Time: 0:00:00||"
     ]
    },
    {
     "name": "stderr",
     "output_type": "stream",
     "text": [
      "\r",
      "Episode 6|Iteration 58|reward: 2176.0|last_reward_at:   58|Elapsed Time: 0:00:00||"
     ]
    },
    {
     "name": "stderr",
     "output_type": "stream",
     "text": [
      "\r",
      "Episode 6|Iteration 64|reward: 2176.0|last_reward_at:   58|Elapsed Time: 0:00:01||"
     ]
    },
    {
     "name": "stderr",
     "output_type": "stream",
     "text": [
      "\r",
      "Episode 6|Iteration 66|reward: 7176.0|last_reward_at:   58|Elapsed Time: 0:00:01||"
     ]
    },
    {
     "name": "stderr",
     "output_type": "stream",
     "text": [
      "\r",
      "Episode 6|Iteration 66|reward: 7176.0|last_reward_at:   66|Elapsed Time: 0:00:01||"
     ]
    },
    {
     "name": "stderr",
     "output_type": "stream",
     "text": [
      "\n"
     ]
    },
    {
     "name": "stdout",
     "output_type": "stream",
     "text": [
      "  Episode 6 ended at t=66 \n",
      "  Breakdown [Reward/NoReward (Success rate)]\n",
      "    explore-local: 1/8 (0.11)\n",
      "    explore-remote: 6/12 (0.33)\n",
      "    explore-connect: 0/10 (0.00)\n",
      "    exploit-local: 10/1 (0.91)\n",
      "    exploit-remote: 0/0 (NaN)\n",
      "    exploit-connect: 12/6 (0.67)\n",
      "  exploit deflected to exploration: 0\n",
      "  ## Episode: 7/10 'DQL' ϵ=0.6742, γ=0.15, lr=0.01, replaymemory=10000,\n",
      "batch=256, target_update=5\n"
     ]
    },
    {
     "name": "stderr",
     "output_type": "stream",
     "text": [
      "\r",
      "Episode 7|Iteration 0|reward: ------|last_reward_at: ----|Elapsed Time: 0:00:00||"
     ]
    },
    {
     "name": "stderr",
     "output_type": "stream",
     "text": [
      "\r",
      "Episode 7|Iteration 1|reward:   14.0|last_reward_at: ----|Elapsed Time: 0:00:00||"
     ]
    },
    {
     "name": "stderr",
     "output_type": "stream",
     "text": [
      "\r",
      "Episode 7|Iteration 1|reward:   14.0|last_reward_at:    1|Elapsed Time: 0:00:00||"
     ]
    },
    {
     "name": "stderr",
     "output_type": "stream",
     "text": [
      "\r",
      "Episode 7|Iteration 6|reward:  114.0|last_reward_at:    1|Elapsed Time: 0:00:00||"
     ]
    },
    {
     "name": "stderr",
     "output_type": "stream",
     "text": [
      "\r",
      "Episode 7|Iteration 6|reward:  114.0|last_reward_at:    6|Elapsed Time: 0:00:00||"
     ]
    },
    {
     "name": "stderr",
     "output_type": "stream",
     "text": [
      "\r",
      "Episode 7|Iteration 11|reward:  128.0|last_reward_at:    6|Elapsed Time: 0:00:00||"
     ]
    },
    {
     "name": "stderr",
     "output_type": "stream",
     "text": [
      "\r",
      "Episode 7|Iteration 11|reward:  128.0|last_reward_at:   11|Elapsed Time: 0:00:00||"
     ]
    },
    {
     "name": "stderr",
     "output_type": "stream",
     "text": [
      "\r",
      "Episode 7|Iteration 12|reward:  228.0|last_reward_at:   11|Elapsed Time: 0:00:00||"
     ]
    },
    {
     "name": "stderr",
     "output_type": "stream",
     "text": [
      "\r",
      "Episode 7|Iteration 12|reward:  228.0|last_reward_at:   12|Elapsed Time: 0:00:00||"
     ]
    },
    {
     "name": "stderr",
     "output_type": "stream",
     "text": [
      "\r",
      "Episode 7|Iteration 13|reward:  242.0|last_reward_at:   12|Elapsed Time: 0:00:00||"
     ]
    },
    {
     "name": "stderr",
     "output_type": "stream",
     "text": [
      "\r",
      "Episode 7|Iteration 13|reward:  242.0|last_reward_at:   13|Elapsed Time: 0:00:00||"
     ]
    },
    {
     "name": "stderr",
     "output_type": "stream",
     "text": [
      "\r",
      "Episode 7|Iteration 14|reward:  244.0|last_reward_at:   13|Elapsed Time: 0:00:00||"
     ]
    },
    {
     "name": "stderr",
     "output_type": "stream",
     "text": [
      "\r",
      "Episode 7|Iteration 14|reward:  244.0|last_reward_at:   14|Elapsed Time: 0:00:00||"
     ]
    },
    {
     "name": "stderr",
     "output_type": "stream",
     "text": [
      "\r",
      "Episode 7|Iteration 17|reward:  344.0|last_reward_at:   14|Elapsed Time: 0:00:00||"
     ]
    },
    {
     "name": "stderr",
     "output_type": "stream",
     "text": [
      "\r",
      "Episode 7|Iteration 17|reward:  344.0|last_reward_at:   17|Elapsed Time: 0:00:00||"
     ]
    },
    {
     "name": "stderr",
     "output_type": "stream",
     "text": [
      "\r",
      "Episode 7|Iteration 18|reward:  350.0|last_reward_at:   17|Elapsed Time: 0:00:00||"
     ]
    },
    {
     "name": "stderr",
     "output_type": "stream",
     "text": [
      "\r",
      "Episode 7|Iteration 18|reward:  350.0|last_reward_at:   18|Elapsed Time: 0:00:00||"
     ]
    },
    {
     "name": "stderr",
     "output_type": "stream",
     "text": [
      "\r",
      "Episode 7|Iteration 20|reward:  356.0|last_reward_at:   18|Elapsed Time: 0:00:00||"
     ]
    },
    {
     "name": "stderr",
     "output_type": "stream",
     "text": [
      "\r",
      "Episode 7|Iteration 20|reward:  356.0|last_reward_at:   20|Elapsed Time: 0:00:00||"
     ]
    },
    {
     "name": "stderr",
     "output_type": "stream",
     "text": [
      "\r",
      "Episode 7|Iteration 21|reward:  370.0|last_reward_at:   20|Elapsed Time: 0:00:00||"
     ]
    },
    {
     "name": "stderr",
     "output_type": "stream",
     "text": [
      "\r",
      "Episode 7|Iteration 21|reward:  370.0|last_reward_at:   21|Elapsed Time: 0:00:00||"
     ]
    },
    {
     "name": "stderr",
     "output_type": "stream",
     "text": [
      "\r",
      "Episode 7|Iteration 25|reward:  376.0|last_reward_at:   21|Elapsed Time: 0:00:00||"
     ]
    },
    {
     "name": "stderr",
     "output_type": "stream",
     "text": [
      "\r",
      "Episode 7|Iteration 25|reward:  376.0|last_reward_at:   25|Elapsed Time: 0:00:00||"
     ]
    },
    {
     "name": "stderr",
     "output_type": "stream",
     "text": [
      "\r",
      "Episode 7|Iteration 26|reward: 5376.0|last_reward_at:   25|Elapsed Time: 0:00:00||"
     ]
    },
    {
     "name": "stderr",
     "output_type": "stream",
     "text": [
      "\r",
      "Episode 7|Iteration 26|reward: 5376.0|last_reward_at:   26|Elapsed Time: 0:00:00||"
     ]
    },
    {
     "name": "stderr",
     "output_type": "stream",
     "text": [
      "\n"
     ]
    },
    {
     "name": "stdout",
     "output_type": "stream",
     "text": [
      "  Episode 7 ended at t=26 \n",
      "  Breakdown [Reward/NoReward (Success rate)]\n",
      "    explore-local: 3/1 (0.75)\n",
      "    explore-remote: 2/4 (0.33)\n",
      "    explore-connect: 1/7 (0.12)\n",
      "    exploit-local: 3/0 (1.00)\n",
      "    exploit-remote: 0/0 (NaN)\n",
      "    exploit-connect: 3/2 (0.60)\n",
      "  exploit deflected to exploration: 0\n",
      "  ## Episode: 8/10 'DQL' ϵ=0.6712, γ=0.15, lr=0.01, replaymemory=10000,\n",
      "batch=256, target_update=5\n"
     ]
    },
    {
     "name": "stderr",
     "output_type": "stream",
     "text": [
      "\r",
      "Episode 8|Iteration 0|reward: ------|last_reward_at: ----|Elapsed Time: 0:00:00||"
     ]
    },
    {
     "name": "stderr",
     "output_type": "stream",
     "text": [
      "\r",
      "Episode 8|Iteration 1|reward:    0.0|last_reward_at: ----|Elapsed Time: 0:00:00||"
     ]
    },
    {
     "name": "stderr",
     "output_type": "stream",
     "text": [
      "\r",
      "Episode 8|Iteration 2|reward:   14.0|last_reward_at: ----|Elapsed Time: 0:00:00||"
     ]
    },
    {
     "name": "stderr",
     "output_type": "stream",
     "text": [
      "\r",
      "Episode 8|Iteration 2|reward:   14.0|last_reward_at:    2|Elapsed Time: 0:00:00||"
     ]
    },
    {
     "name": "stderr",
     "output_type": "stream",
     "text": [
      "\r",
      "Episode 8|Iteration 3|reward:  114.0|last_reward_at:    2|Elapsed Time: 0:00:00||"
     ]
    },
    {
     "name": "stderr",
     "output_type": "stream",
     "text": [
      "\r",
      "Episode 8|Iteration 3|reward:  114.0|last_reward_at:    3|Elapsed Time: 0:00:00||"
     ]
    },
    {
     "name": "stderr",
     "output_type": "stream",
     "text": [
      "\r",
      "Episode 8|Iteration 4|reward:  128.0|last_reward_at:    3|Elapsed Time: 0:00:00||"
     ]
    },
    {
     "name": "stderr",
     "output_type": "stream",
     "text": [
      "\r",
      "Episode 8|Iteration 4|reward:  128.0|last_reward_at:    4|Elapsed Time: 0:00:00||"
     ]
    },
    {
     "name": "stderr",
     "output_type": "stream",
     "text": [
      "\r",
      "Episode 8|Iteration 6|reward:  134.0|last_reward_at:    4|Elapsed Time: 0:00:00||"
     ]
    },
    {
     "name": "stderr",
     "output_type": "stream",
     "text": [
      "\r",
      "Episode 8|Iteration 6|reward:  134.0|last_reward_at:    6|Elapsed Time: 0:00:00||"
     ]
    },
    {
     "name": "stderr",
     "output_type": "stream",
     "text": [
      "\r",
      "Episode 8|Iteration 7|reward:  142.0|last_reward_at:    6|Elapsed Time: 0:00:00||"
     ]
    },
    {
     "name": "stderr",
     "output_type": "stream",
     "text": [
      "\r",
      "Episode 8|Iteration 7|reward:  142.0|last_reward_at:    7|Elapsed Time: 0:00:00||"
     ]
    },
    {
     "name": "stderr",
     "output_type": "stream",
     "text": [
      "\r",
      "Episode 8|Iteration 9|reward:  242.0|last_reward_at:    7|Elapsed Time: 0:00:00||"
     ]
    },
    {
     "name": "stderr",
     "output_type": "stream",
     "text": [
      "\r",
      "Episode 8|Iteration 9|reward:  242.0|last_reward_at:    9|Elapsed Time: 0:00:00||"
     ]
    },
    {
     "name": "stderr",
     "output_type": "stream",
     "text": [
      "\r",
      "Episode 8|Iteration 14|reward:  256.0|last_reward_at:    9|Elapsed Time: 0:00:00||"
     ]
    },
    {
     "name": "stderr",
     "output_type": "stream",
     "text": [
      "\r",
      "Episode 8|Iteration 14|reward:  256.0|last_reward_at:   14|Elapsed Time: 0:00:00||"
     ]
    },
    {
     "name": "stderr",
     "output_type": "stream",
     "text": [
      "\r",
      "Episode 8|Iteration 15|reward:  262.0|last_reward_at:   14|Elapsed Time: 0:00:00||"
     ]
    },
    {
     "name": "stderr",
     "output_type": "stream",
     "text": [
      "\r",
      "Episode 8|Iteration 15|reward:  262.0|last_reward_at:   15|Elapsed Time: 0:00:00||"
     ]
    },
    {
     "name": "stderr",
     "output_type": "stream",
     "text": [
      "\r",
      "Episode 8|Iteration 16|reward:  362.0|last_reward_at:   15|Elapsed Time: 0:00:00||"
     ]
    },
    {
     "name": "stderr",
     "output_type": "stream",
     "text": [
      "\r",
      "Episode 8|Iteration 16|reward:  362.0|last_reward_at:   16|Elapsed Time: 0:00:00||"
     ]
    },
    {
     "name": "stderr",
     "output_type": "stream",
     "text": [
      "\r",
      "Episode 8|Iteration 17|reward:  364.0|last_reward_at:   16|Elapsed Time: 0:00:00||"
     ]
    },
    {
     "name": "stderr",
     "output_type": "stream",
     "text": [
      "\r",
      "Episode 8|Iteration 17|reward:  364.0|last_reward_at:   17|Elapsed Time: 0:00:00||"
     ]
    },
    {
     "name": "stderr",
     "output_type": "stream",
     "text": [
      "\r",
      "Episode 8|Iteration 18|reward:  366.0|last_reward_at:   17|Elapsed Time: 0:00:00||"
     ]
    },
    {
     "name": "stderr",
     "output_type": "stream",
     "text": [
      "\r",
      "Episode 8|Iteration 18|reward:  366.0|last_reward_at:   18|Elapsed Time: 0:00:00||"
     ]
    },
    {
     "name": "stderr",
     "output_type": "stream",
     "text": [
      "\r",
      "Episode 8|Iteration 19|reward:  380.0|last_reward_at:   18|Elapsed Time: 0:00:00||"
     ]
    },
    {
     "name": "stderr",
     "output_type": "stream",
     "text": [
      "\r",
      "Episode 8|Iteration 19|reward:  380.0|last_reward_at:   19|Elapsed Time: 0:00:00||"
     ]
    },
    {
     "name": "stderr",
     "output_type": "stream",
     "text": [
      "\r",
      "Episode 8|Iteration 20|reward:  480.0|last_reward_at:   19|Elapsed Time: 0:00:00||"
     ]
    },
    {
     "name": "stderr",
     "output_type": "stream",
     "text": [
      "\r",
      "Episode 8|Iteration 20|reward:  480.0|last_reward_at:   20|Elapsed Time: 0:00:00||"
     ]
    },
    {
     "name": "stderr",
     "output_type": "stream",
     "text": [
      "\r",
      "Episode 8|Iteration 25|reward:  494.0|last_reward_at:   20|Elapsed Time: 0:00:00||"
     ]
    },
    {
     "name": "stderr",
     "output_type": "stream",
     "text": [
      "\r",
      "Episode 8|Iteration 25|reward:  494.0|last_reward_at:   25|Elapsed Time: 0:00:00||"
     ]
    },
    {
     "name": "stderr",
     "output_type": "stream",
     "text": [
      "\r",
      "Episode 8|Iteration 26|reward:  594.0|last_reward_at:   25|Elapsed Time: 0:00:00||"
     ]
    },
    {
     "name": "stderr",
     "output_type": "stream",
     "text": [
      "\r",
      "Episode 8|Iteration 26|reward:  594.0|last_reward_at:   26|Elapsed Time: 0:00:00||"
     ]
    },
    {
     "name": "stderr",
     "output_type": "stream",
     "text": [
      "\r",
      "Episode 8|Iteration 27|reward:  608.0|last_reward_at:   26|Elapsed Time: 0:00:00||"
     ]
    },
    {
     "name": "stderr",
     "output_type": "stream",
     "text": [
      "\r",
      "Episode 8|Iteration 27|reward:  608.0|last_reward_at:   27|Elapsed Time: 0:00:00||"
     ]
    },
    {
     "name": "stderr",
     "output_type": "stream",
     "text": [
      "\r",
      "Episode 8|Iteration 30|reward:  708.0|last_reward_at:   27|Elapsed Time: 0:00:00||"
     ]
    },
    {
     "name": "stderr",
     "output_type": "stream",
     "text": [
      "\r",
      "Episode 8|Iteration 30|reward:  708.0|last_reward_at:   30|Elapsed Time: 0:00:00||"
     ]
    },
    {
     "name": "stderr",
     "output_type": "stream",
     "text": [
      "\r",
      "Episode 8|Iteration 33|reward:  714.0|last_reward_at:   30|Elapsed Time: 0:00:00||"
     ]
    },
    {
     "name": "stderr",
     "output_type": "stream",
     "text": [
      "\r",
      "Episode 8|Iteration 33|reward:  714.0|last_reward_at:   33|Elapsed Time: 0:00:00||"
     ]
    },
    {
     "name": "stderr",
     "output_type": "stream",
     "text": [
      "\r",
      "Episode 8|Iteration 35|reward:  720.0|last_reward_at:   33|Elapsed Time: 0:00:00||"
     ]
    },
    {
     "name": "stderr",
     "output_type": "stream",
     "text": [
      "\r",
      "Episode 8|Iteration 35|reward:  720.0|last_reward_at:   35|Elapsed Time: 0:00:00||"
     ]
    },
    {
     "name": "stderr",
     "output_type": "stream",
     "text": [
      "\r",
      "Episode 8|Iteration 37|reward:  734.0|last_reward_at:   35|Elapsed Time: 0:00:00||"
     ]
    },
    {
     "name": "stderr",
     "output_type": "stream",
     "text": [
      "\r",
      "Episode 8|Iteration 37|reward:  734.0|last_reward_at:   37|Elapsed Time: 0:00:00||"
     ]
    },
    {
     "name": "stderr",
     "output_type": "stream",
     "text": [
      "\r",
      "Episode 8|Iteration 42|reward:  834.0|last_reward_at:   37|Elapsed Time: 0:00:00||"
     ]
    },
    {
     "name": "stderr",
     "output_type": "stream",
     "text": [
      "\r",
      "Episode 8|Iteration 42|reward:  834.0|last_reward_at:   42|Elapsed Time: 0:00:00||"
     ]
    },
    {
     "name": "stderr",
     "output_type": "stream",
     "text": [
      "\r",
      "Episode 8|Iteration 45|reward:  848.0|last_reward_at:   42|Elapsed Time: 0:00:00||"
     ]
    },
    {
     "name": "stderr",
     "output_type": "stream",
     "text": [
      "\r",
      "Episode 8|Iteration 45|reward:  848.0|last_reward_at:   45|Elapsed Time: 0:00:00||"
     ]
    },
    {
     "name": "stderr",
     "output_type": "stream",
     "text": [
      "\r",
      "Episode 8|Iteration 46|reward: 5848.0|last_reward_at:   45|Elapsed Time: 0:00:00||"
     ]
    },
    {
     "name": "stderr",
     "output_type": "stream",
     "text": [
      "\r",
      "Episode 8|Iteration 46|reward: 5848.0|last_reward_at:   46|Elapsed Time: 0:00:00||"
     ]
    },
    {
     "name": "stderr",
     "output_type": "stream",
     "text": [
      "\n"
     ]
    },
    {
     "name": "stdout",
     "output_type": "stream",
     "text": [
      "  Episode 8 ended at t=46 \n",
      "  Breakdown [Reward/NoReward (Success rate)]\n",
      "    explore-local: 3/5 (0.38)\n",
      "    explore-remote: 5/5 (0.50)\n",
      "    explore-connect: 1/12 (0.08)\n",
      "    exploit-local: 7/0 (1.00)\n",
      "    exploit-remote: 0/0 (NaN)\n",
      "    exploit-connect: 7/1 (0.88)\n",
      "  exploit deflected to exploration: 0\n",
      "  ## Episode: 9/10 'DQL' ϵ=0.6660, γ=0.15, lr=0.01, replaymemory=10000,\n",
      "batch=256, target_update=5\n"
     ]
    },
    {
     "name": "stderr",
     "output_type": "stream",
     "text": [
      "\r",
      "Episode 9|Iteration 0|reward: ------|last_reward_at: ----|Elapsed Time: 0:00:00||"
     ]
    },
    {
     "name": "stderr",
     "output_type": "stream",
     "text": [
      "\r",
      "Episode 9|Iteration 1|reward:    0.0|last_reward_at: ----|Elapsed Time: 0:00:00||"
     ]
    },
    {
     "name": "stderr",
     "output_type": "stream",
     "text": [
      "\r",
      "Episode 9|Iteration 8|reward:    0.0|last_reward_at: ----|Elapsed Time: 0:00:00||"
     ]
    },
    {
     "name": "stderr",
     "output_type": "stream",
     "text": [
      "\r",
      "Episode 9|Iteration 8|reward:   14.0|last_reward_at: ----|Elapsed Time: 0:00:00||"
     ]
    },
    {
     "name": "stderr",
     "output_type": "stream",
     "text": [
      "\r",
      "Episode 9|Iteration 8|reward:   14.0|last_reward_at:    8|Elapsed Time: 0:00:00||"
     ]
    },
    {
     "name": "stderr",
     "output_type": "stream",
     "text": [
      "\r",
      "Episode 9|Iteration 10|reward:   16.0|last_reward_at:    8|Elapsed Time: 0:00:00||"
     ]
    },
    {
     "name": "stderr",
     "output_type": "stream",
     "text": [
      "\r",
      "Episode 9|Iteration 10|reward:   16.0|last_reward_at:   10|Elapsed Time: 0:00:00||"
     ]
    },
    {
     "name": "stderr",
     "output_type": "stream",
     "text": [
      "\r",
      "Episode 9|Iteration 12|reward:  116.0|last_reward_at:   10|Elapsed Time: 0:00:00||"
     ]
    },
    {
     "name": "stderr",
     "output_type": "stream",
     "text": [
      "\r",
      "Episode 9|Iteration 12|reward:  116.0|last_reward_at:   12|Elapsed Time: 0:00:00||"
     ]
    },
    {
     "name": "stderr",
     "output_type": "stream",
     "text": [
      "\r",
      "Episode 9|Iteration 22|reward:  118.0|last_reward_at:   12|Elapsed Time: 0:00:00||"
     ]
    },
    {
     "name": "stderr",
     "output_type": "stream",
     "text": [
      "\r",
      "Episode 9|Iteration 22|reward:  118.0|last_reward_at:   22|Elapsed Time: 0:00:00||"
     ]
    },
    {
     "name": "stderr",
     "output_type": "stream",
     "text": [
      "\r",
      "Episode 9|Iteration 24|reward:  132.0|last_reward_at:   22|Elapsed Time: 0:00:00||"
     ]
    },
    {
     "name": "stderr",
     "output_type": "stream",
     "text": [
      "\r",
      "Episode 9|Iteration 24|reward:  132.0|last_reward_at:   24|Elapsed Time: 0:00:00||"
     ]
    },
    {
     "name": "stderr",
     "output_type": "stream",
     "text": [
      "\r",
      "Episode 9|Iteration 31|reward:  132.0|last_reward_at:   24|Elapsed Time: 0:00:00||"
     ]
    },
    {
     "name": "stderr",
     "output_type": "stream",
     "text": [
      "\r",
      "Episode 9|Iteration 38|reward:  132.0|last_reward_at:   24|Elapsed Time: 0:00:00||"
     ]
    },
    {
     "name": "stderr",
     "output_type": "stream",
     "text": [
      "\r",
      "Episode 9|Iteration 46|reward:  132.0|last_reward_at:   24|Elapsed Time: 0:00:00||"
     ]
    },
    {
     "name": "stderr",
     "output_type": "stream",
     "text": [
      "\r",
      "Episode 9|Iteration 50|reward:  138.0|last_reward_at:   24|Elapsed Time: 0:00:00||"
     ]
    },
    {
     "name": "stderr",
     "output_type": "stream",
     "text": [
      "\r",
      "Episode 9|Iteration 50|reward:  138.0|last_reward_at:   50|Elapsed Time: 0:00:00||"
     ]
    },
    {
     "name": "stderr",
     "output_type": "stream",
     "text": [
      "\r",
      "Episode 9|Iteration 58|reward:  144.0|last_reward_at:   50|Elapsed Time: 0:00:00||"
     ]
    },
    {
     "name": "stderr",
     "output_type": "stream",
     "text": [
      "\r",
      "Episode 9|Iteration 58|reward:  144.0|last_reward_at:   58|Elapsed Time: 0:00:00||"
     ]
    },
    {
     "name": "stderr",
     "output_type": "stream",
     "text": [
      "\r",
      "Episode 9|Iteration 68|reward:  144.0|last_reward_at:   58|Elapsed Time: 0:00:00||"
     ]
    },
    {
     "name": "stderr",
     "output_type": "stream",
     "text": [
      "\r",
      "Episode 9|Iteration 76|reward:  144.0|last_reward_at:   58|Elapsed Time: 0:00:00||"
     ]
    },
    {
     "name": "stderr",
     "output_type": "stream",
     "text": [
      "\r",
      "Episode 9|Iteration 84|reward:  144.0|last_reward_at:   58|Elapsed Time: 0:00:00||"
     ]
    },
    {
     "name": "stderr",
     "output_type": "stream",
     "text": [
      "\r",
      "Episode 9|Iteration 92|reward:  144.0|last_reward_at:   58|Elapsed Time: 0:00:01||"
     ]
    },
    {
     "name": "stderr",
     "output_type": "stream",
     "text": [
      "\r",
      "Episode 9|Iteration 92|reward:  152.0|last_reward_at:   58|Elapsed Time: 0:00:01||"
     ]
    },
    {
     "name": "stderr",
     "output_type": "stream",
     "text": [
      "\r",
      "Episode 9|Iteration 92|reward:  152.0|last_reward_at:   92|Elapsed Time: 0:00:01||"
     ]
    },
    {
     "name": "stderr",
     "output_type": "stream",
     "text": [
      "\r",
      "Episode 9|Iteration 99|reward:  152.0|last_reward_at:   92|Elapsed Time: 0:00:01||"
     ]
    },
    {
     "name": "stderr",
     "output_type": "stream",
     "text": [
      "\r",
      "Episode 9|Iteration 107|reward:  152.0|last_reward_at:   92|Elapsed Time: 0:00:01||"
     ]
    },
    {
     "name": "stderr",
     "output_type": "stream",
     "text": [
      "\r",
      "Episode 9|Iteration 114|reward:  152.0|last_reward_at:   92|Elapsed Time: 0:00:01||"
     ]
    },
    {
     "name": "stderr",
     "output_type": "stream",
     "text": [
      "\r",
      "Episode 9|Iteration 121|reward:  152.0|last_reward_at:   92|Elapsed Time: 0:00:01||"
     ]
    },
    {
     "name": "stderr",
     "output_type": "stream",
     "text": [
      "\r",
      "Episode 9|Iteration 129|reward:  152.0|last_reward_at:   92|Elapsed Time: 0:00:01||"
     ]
    },
    {
     "name": "stderr",
     "output_type": "stream",
     "text": [
      "\r",
      "Episode 9|Iteration 137|reward:  152.0|last_reward_at:   92|Elapsed Time: 0:00:01||"
     ]
    },
    {
     "name": "stderr",
     "output_type": "stream",
     "text": [
      "\r",
      "Episode 9|Iteration 144|reward:  152.0|last_reward_at:   92|Elapsed Time: 0:00:01||"
     ]
    },
    {
     "name": "stderr",
     "output_type": "stream",
     "text": [
      "\r",
      "Episode 9|Iteration 149|reward:  252.0|last_reward_at:   92|Elapsed Time: 0:00:01||"
     ]
    },
    {
     "name": "stderr",
     "output_type": "stream",
     "text": [
      "\r",
      "Episode 9|Iteration 149|reward:  252.0|last_reward_at:  149|Elapsed Time: 0:00:01||"
     ]
    },
    {
     "name": "stderr",
     "output_type": "stream",
     "text": [
      "\r",
      "Episode 9|Iteration 150|reward:  266.0|last_reward_at:  149|Elapsed Time: 0:00:01||"
     ]
    },
    {
     "name": "stderr",
     "output_type": "stream",
     "text": [
      "\r",
      "Episode 9|Iteration 150|reward:  266.0|last_reward_at:  150|Elapsed Time: 0:00:01||"
     ]
    },
    {
     "name": "stderr",
     "output_type": "stream",
     "text": [
      "\r",
      "Episode 9|Iteration 159|reward:  270.0|last_reward_at:  150|Elapsed Time: 0:00:01||"
     ]
    },
    {
     "name": "stderr",
     "output_type": "stream",
     "text": [
      "\r",
      "Episode 9|Iteration 159|reward:  270.0|last_reward_at:  159|Elapsed Time: 0:00:01||"
     ]
    },
    {
     "name": "stderr",
     "output_type": "stream",
     "text": [
      "\r",
      "Episode 9|Iteration 167|reward:  270.0|last_reward_at:  159|Elapsed Time: 0:00:01||"
     ]
    },
    {
     "name": "stderr",
     "output_type": "stream",
     "text": [
      "\r",
      "Episode 9|Iteration 175|reward:  270.0|last_reward_at:  159|Elapsed Time: 0:00:02||"
     ]
    },
    {
     "name": "stderr",
     "output_type": "stream",
     "text": [
      "\r",
      "Episode 9|Iteration 183|reward:  270.0|last_reward_at:  159|Elapsed Time: 0:00:02||"
     ]
    },
    {
     "name": "stderr",
     "output_type": "stream",
     "text": [
      "\r",
      "Episode 9|Iteration 185|reward:  370.0|last_reward_at:  159|Elapsed Time: 0:00:02||"
     ]
    },
    {
     "name": "stderr",
     "output_type": "stream",
     "text": [
      "\r",
      "Episode 9|Iteration 185|reward:  370.0|last_reward_at:  185|Elapsed Time: 0:00:02||"
     ]
    },
    {
     "name": "stderr",
     "output_type": "stream",
     "text": [
      "\r",
      "Episode 9|Iteration 190|reward:  370.0|last_reward_at:  185|Elapsed Time: 0:00:02||"
     ]
    },
    {
     "name": "stderr",
     "output_type": "stream",
     "text": [
      "\r",
      "Episode 9|Iteration 198|reward:  370.0|last_reward_at:  185|Elapsed Time: 0:00:02||"
     ]
    },
    {
     "name": "stderr",
     "output_type": "stream",
     "text": [
      "\r",
      "Episode 9|Iteration 206|reward:  370.0|last_reward_at:  185|Elapsed Time: 0:00:02||"
     ]
    },
    {
     "name": "stderr",
     "output_type": "stream",
     "text": [
      "\r",
      "Episode 9|Iteration 210|reward:  372.0|last_reward_at:  185|Elapsed Time: 0:00:02||"
     ]
    },
    {
     "name": "stderr",
     "output_type": "stream",
     "text": [
      "\r",
      "Episode 9|Iteration 210|reward:  372.0|last_reward_at:  210|Elapsed Time: 0:00:02||"
     ]
    },
    {
     "name": "stderr",
     "output_type": "stream",
     "text": [
      "\r",
      "Episode 9|Iteration 217|reward:  386.0|last_reward_at:  210|Elapsed Time: 0:00:02||"
     ]
    },
    {
     "name": "stderr",
     "output_type": "stream",
     "text": [
      "\r",
      "Episode 9|Iteration 217|reward:  386.0|last_reward_at:  217|Elapsed Time: 0:00:02||"
     ]
    },
    {
     "name": "stderr",
     "output_type": "stream",
     "text": [
      "\r",
      "Episode 9|Iteration 220|reward:  392.0|last_reward_at:  217|Elapsed Time: 0:00:02||"
     ]
    },
    {
     "name": "stderr",
     "output_type": "stream",
     "text": [
      "\r",
      "Episode 9|Iteration 220|reward:  392.0|last_reward_at:  220|Elapsed Time: 0:00:02||"
     ]
    },
    {
     "name": "stderr",
     "output_type": "stream",
     "text": [
      "\r",
      "Episode 9|Iteration 227|reward:  398.0|last_reward_at:  220|Elapsed Time: 0:00:02||"
     ]
    },
    {
     "name": "stderr",
     "output_type": "stream",
     "text": [
      "\r",
      "Episode 9|Iteration 227|reward:  398.0|last_reward_at:  227|Elapsed Time: 0:00:02||"
     ]
    },
    {
     "name": "stderr",
     "output_type": "stream",
     "text": [
      "\r",
      "Episode 9|Iteration 236|reward:  398.0|last_reward_at:  227|Elapsed Time: 0:00:02||"
     ]
    },
    {
     "name": "stderr",
     "output_type": "stream",
     "text": [
      "\r",
      "Episode 9|Iteration 240|reward:  406.0|last_reward_at:  227|Elapsed Time: 0:00:02||"
     ]
    },
    {
     "name": "stderr",
     "output_type": "stream",
     "text": [
      "\r",
      "Episode 9|Iteration 240|reward:  406.0|last_reward_at:  240|Elapsed Time: 0:00:02||"
     ]
    },
    {
     "name": "stderr",
     "output_type": "stream",
     "text": [
      "\r",
      "Episode 9|Iteration 250|reward:  406.0|last_reward_at:  240|Elapsed Time: 0:00:02||"
     ]
    },
    {
     "name": "stderr",
     "output_type": "stream",
     "text": [
      "\r",
      "Episode 9|Iteration 259|reward:  406.0|last_reward_at:  240|Elapsed Time: 0:00:03||"
     ]
    },
    {
     "name": "stderr",
     "output_type": "stream",
     "text": [
      "\r",
      "Episode 9|Iteration 265|reward:  406.0|last_reward_at:  240|Elapsed Time: 0:00:03||"
     ]
    },
    {
     "name": "stderr",
     "output_type": "stream",
     "text": [
      "\r",
      "Episode 9|Iteration 273|reward:  406.0|last_reward_at:  240|Elapsed Time: 0:00:03||"
     ]
    },
    {
     "name": "stderr",
     "output_type": "stream",
     "text": [
      "\r",
      "Episode 9|Iteration 281|reward:  406.0|last_reward_at:  240|Elapsed Time: 0:00:03||"
     ]
    },
    {
     "name": "stderr",
     "output_type": "stream",
     "text": [
      "\r",
      "Episode 9|Iteration 289|reward:  406.0|last_reward_at:  240|Elapsed Time: 0:00:03||"
     ]
    },
    {
     "name": "stderr",
     "output_type": "stream",
     "text": [
      "\r",
      "Episode 9|Iteration 296|reward:  406.0|last_reward_at:  240|Elapsed Time: 0:00:03||"
     ]
    },
    {
     "name": "stderr",
     "output_type": "stream",
     "text": [
      "\r",
      "Episode 9|Iteration 304|reward:  406.0|last_reward_at:  240|Elapsed Time: 0:00:03||"
     ]
    },
    {
     "name": "stderr",
     "output_type": "stream",
     "text": [
      "\r",
      "Episode 9|Iteration 311|reward:  406.0|last_reward_at:  240|Elapsed Time: 0:00:03||"
     ]
    },
    {
     "name": "stderr",
     "output_type": "stream",
     "text": [
      "\r",
      "Episode 9|Iteration 319|reward:  406.0|last_reward_at:  240|Elapsed Time: 0:00:03||"
     ]
    },
    {
     "name": "stderr",
     "output_type": "stream",
     "text": [
      "\r",
      "Episode 9|Iteration 327|reward:  406.0|last_reward_at:  240|Elapsed Time: 0:00:03||"
     ]
    },
    {
     "name": "stderr",
     "output_type": "stream",
     "text": [
      "\r",
      "Episode 9|Iteration 334|reward:  406.0|last_reward_at:  240|Elapsed Time: 0:00:04||"
     ]
    },
    {
     "name": "stderr",
     "output_type": "stream",
     "text": [
      "\r",
      "Episode 9|Iteration 342|reward:  406.0|last_reward_at:  240|Elapsed Time: 0:00:04||"
     ]
    },
    {
     "name": "stderr",
     "output_type": "stream",
     "text": [
      "\r",
      "Episode 9|Iteration 349|reward:  406.0|last_reward_at:  240|Elapsed Time: 0:00:04||"
     ]
    },
    {
     "name": "stderr",
     "output_type": "stream",
     "text": [
      "\r",
      "Episode 9|Iteration 356|reward:  406.0|last_reward_at:  240|Elapsed Time: 0:00:04||"
     ]
    },
    {
     "name": "stderr",
     "output_type": "stream",
     "text": [
      "\r",
      "Episode 9|Iteration 365|reward:  406.0|last_reward_at:  240|Elapsed Time: 0:00:04||"
     ]
    },
    {
     "name": "stderr",
     "output_type": "stream",
     "text": [
      "\r",
      "Episode 9|Iteration 373|reward:  406.0|last_reward_at:  240|Elapsed Time: 0:00:04||"
     ]
    },
    {
     "name": "stderr",
     "output_type": "stream",
     "text": [
      "\r",
      "Episode 9|Iteration 380|reward:  406.0|last_reward_at:  240|Elapsed Time: 0:00:04||"
     ]
    },
    {
     "name": "stderr",
     "output_type": "stream",
     "text": [
      "\r",
      "Episode 9|Iteration 387|reward:  406.0|last_reward_at:  240|Elapsed Time: 0:00:04||"
     ]
    },
    {
     "name": "stderr",
     "output_type": "stream",
     "text": [
      "\r",
      "Episode 9|Iteration 393|reward:  506.0|last_reward_at:  240|Elapsed Time: 0:00:04||"
     ]
    },
    {
     "name": "stderr",
     "output_type": "stream",
     "text": [
      "\r",
      "Episode 9|Iteration 393|reward:  506.0|last_reward_at:  393|Elapsed Time: 0:00:04||"
     ]
    },
    {
     "name": "stderr",
     "output_type": "stream",
     "text": [
      "\r",
      "Episode 9|Iteration 394|reward:  520.0|last_reward_at:  393|Elapsed Time: 0:00:04||"
     ]
    },
    {
     "name": "stderr",
     "output_type": "stream",
     "text": [
      "\r",
      "Episode 9|Iteration 394|reward:  520.0|last_reward_at:  394|Elapsed Time: 0:00:04||"
     ]
    },
    {
     "name": "stderr",
     "output_type": "stream",
     "text": [
      "\r",
      "Episode 9|Iteration 403|reward:  520.0|last_reward_at:  394|Elapsed Time: 0:00:04||"
     ]
    },
    {
     "name": "stderr",
     "output_type": "stream",
     "text": [
      "\r",
      "Episode 9|Iteration 403|reward:  620.0|last_reward_at:  394|Elapsed Time: 0:00:04||"
     ]
    },
    {
     "name": "stderr",
     "output_type": "stream",
     "text": [
      "\r",
      "Episode 9|Iteration 403|reward:  620.0|last_reward_at:  403|Elapsed Time: 0:00:04||"
     ]
    },
    {
     "name": "stderr",
     "output_type": "stream",
     "text": [
      "\r",
      "Episode 9|Iteration 411|reward:  620.0|last_reward_at:  403|Elapsed Time: 0:00:05||"
     ]
    },
    {
     "name": "stderr",
     "output_type": "stream",
     "text": [
      "\r",
      "Episode 9|Iteration 412|reward:  634.0|last_reward_at:  403|Elapsed Time: 0:00:05||"
     ]
    },
    {
     "name": "stderr",
     "output_type": "stream",
     "text": [
      "\r",
      "Episode 9|Iteration 412|reward:  634.0|last_reward_at:  412|Elapsed Time: 0:00:05||"
     ]
    },
    {
     "name": "stderr",
     "output_type": "stream",
     "text": [
      "\r",
      "Episode 9|Iteration 418|reward:  634.0|last_reward_at:  412|Elapsed Time: 0:00:05||"
     ]
    },
    {
     "name": "stderr",
     "output_type": "stream",
     "text": [
      "\r",
      "Episode 9|Iteration 426|reward:  634.0|last_reward_at:  412|Elapsed Time: 0:00:05||"
     ]
    },
    {
     "name": "stderr",
     "output_type": "stream",
     "text": [
      "\r",
      "Episode 9|Iteration 433|reward:  634.0|last_reward_at:  412|Elapsed Time: 0:00:05||"
     ]
    },
    {
     "name": "stderr",
     "output_type": "stream",
     "text": [
      "\r",
      "Episode 9|Iteration 441|reward:  634.0|last_reward_at:  412|Elapsed Time: 0:00:05||"
     ]
    },
    {
     "name": "stderr",
     "output_type": "stream",
     "text": [
      "\r",
      "Episode 9|Iteration 446|reward:  636.0|last_reward_at:  412|Elapsed Time: 0:00:05||"
     ]
    },
    {
     "name": "stderr",
     "output_type": "stream",
     "text": [
      "\r",
      "Episode 9|Iteration 446|reward:  636.0|last_reward_at:  446|Elapsed Time: 0:00:05||"
     ]
    },
    {
     "name": "stderr",
     "output_type": "stream",
     "text": [
      "\r",
      "Episode 9|Iteration 448|reward:  638.0|last_reward_at:  446|Elapsed Time: 0:00:05||"
     ]
    },
    {
     "name": "stderr",
     "output_type": "stream",
     "text": [
      "\r",
      "Episode 9|Iteration 448|reward:  638.0|last_reward_at:  448|Elapsed Time: 0:00:05||"
     ]
    },
    {
     "name": "stderr",
     "output_type": "stream",
     "text": [
      "\r",
      "Episode 9|Iteration 450|reward:  738.0|last_reward_at:  448|Elapsed Time: 0:00:05||"
     ]
    },
    {
     "name": "stderr",
     "output_type": "stream",
     "text": [
      "\r",
      "Episode 9|Iteration 450|reward:  738.0|last_reward_at:  450|Elapsed Time: 0:00:05||"
     ]
    },
    {
     "name": "stderr",
     "output_type": "stream",
     "text": [
      "\r",
      "Episode 9|Iteration 456|reward:  738.0|last_reward_at:  450|Elapsed Time: 0:00:05||"
     ]
    },
    {
     "name": "stderr",
     "output_type": "stream",
     "text": [
      "\r",
      "Episode 9|Iteration 457|reward:  738.0|last_reward_at:  450|Elapsed Time: 0:00:05||"
     ]
    },
    {
     "name": "stderr",
     "output_type": "stream",
     "text": [
      "\r",
      "Episode 9|Iteration 458|reward:  752.0|last_reward_at:  450|Elapsed Time: 0:00:05||"
     ]
    },
    {
     "name": "stderr",
     "output_type": "stream",
     "text": [
      "\r",
      "Episode 9|Iteration 458|reward:  752.0|last_reward_at:  458|Elapsed Time: 0:00:05||"
     ]
    },
    {
     "name": "stderr",
     "output_type": "stream",
     "text": [
      "\r",
      "Episode 9|Iteration 464|reward:  752.0|last_reward_at:  458|Elapsed Time: 0:00:05||"
     ]
    },
    {
     "name": "stderr",
     "output_type": "stream",
     "text": [
      "\r",
      "Episode 9|Iteration 468|reward:  852.0|last_reward_at:  458|Elapsed Time: 0:00:05||"
     ]
    },
    {
     "name": "stderr",
     "output_type": "stream",
     "text": [
      "\r",
      "Episode 9|Iteration 468|reward:  852.0|last_reward_at:  468|Elapsed Time: 0:00:05||"
     ]
    },
    {
     "name": "stderr",
     "output_type": "stream",
     "text": [
      "\r",
      "Episode 9|Iteration 470|reward:  852.0|last_reward_at:  468|Elapsed Time: 0:00:05||"
     ]
    },
    {
     "name": "stderr",
     "output_type": "stream",
     "text": [
      "\r",
      "Episode 9|Iteration 473|reward:  858.0|last_reward_at:  468|Elapsed Time: 0:00:06||"
     ]
    },
    {
     "name": "stderr",
     "output_type": "stream",
     "text": [
      "\r",
      "Episode 9|Iteration 473|reward:  858.0|last_reward_at:  473|Elapsed Time: 0:00:06||"
     ]
    },
    {
     "name": "stderr",
     "output_type": "stream",
     "text": [
      "\r",
      "Episode 9|Iteration 474|reward:  864.0|last_reward_at:  473|Elapsed Time: 0:00:06||"
     ]
    },
    {
     "name": "stderr",
     "output_type": "stream",
     "text": [
      "\r",
      "Episode 9|Iteration 474|reward:  864.0|last_reward_at:  474|Elapsed Time: 0:00:06||"
     ]
    },
    {
     "name": "stderr",
     "output_type": "stream",
     "text": [
      "\r",
      "Episode 9|Iteration 476|reward:  870.0|last_reward_at:  474|Elapsed Time: 0:00:06||"
     ]
    },
    {
     "name": "stderr",
     "output_type": "stream",
     "text": [
      "\r",
      "Episode 9|Iteration 476|reward:  870.0|last_reward_at:  476|Elapsed Time: 0:00:06||"
     ]
    },
    {
     "name": "stderr",
     "output_type": "stream",
     "text": [
      "\r",
      "Episode 9|Iteration 483|reward:  870.0|last_reward_at:  476|Elapsed Time: 0:00:06||"
     ]
    },
    {
     "name": "stderr",
     "output_type": "stream",
     "text": [
      "\r",
      "Episode 9|Iteration 484|reward:  872.0|last_reward_at:  476|Elapsed Time: 0:00:06||"
     ]
    },
    {
     "name": "stderr",
     "output_type": "stream",
     "text": [
      "\r",
      "Episode 9|Iteration 484|reward:  872.0|last_reward_at:  484|Elapsed Time: 0:00:06||"
     ]
    },
    {
     "name": "stderr",
     "output_type": "stream",
     "text": [
      "\r",
      "Episode 9|Iteration 491|reward:  886.0|last_reward_at:  484|Elapsed Time: 0:00:06||"
     ]
    },
    {
     "name": "stderr",
     "output_type": "stream",
     "text": [
      "\r",
      "Episode 9|Iteration 491|reward:  886.0|last_reward_at:  491|Elapsed Time: 0:00:06||"
     ]
    },
    {
     "name": "stderr",
     "output_type": "stream",
     "text": [
      "\r",
      "Episode 9|Iteration 496|reward:  892.0|last_reward_at:  491|Elapsed Time: 0:00:06||"
     ]
    },
    {
     "name": "stderr",
     "output_type": "stream",
     "text": [
      "\r",
      "Episode 9|Iteration 496|reward:  892.0|last_reward_at:  496|Elapsed Time: 0:00:06||"
     ]
    },
    {
     "name": "stderr",
     "output_type": "stream",
     "text": [
      "\r",
      "Episode 9|Iteration 502|reward:  892.0|last_reward_at:  496|Elapsed Time: 0:00:06||"
     ]
    },
    {
     "name": "stderr",
     "output_type": "stream",
     "text": [
      "\r",
      "Episode 9|Iteration 508|reward:  892.0|last_reward_at:  496|Elapsed Time: 0:00:06||"
     ]
    },
    {
     "name": "stderr",
     "output_type": "stream",
     "text": [
      "\r",
      "Episode 9|Iteration 516|reward:  992.0|last_reward_at:  496|Elapsed Time: 0:00:06||"
     ]
    },
    {
     "name": "stderr",
     "output_type": "stream",
     "text": [
      "\r",
      "Episode 9|Iteration 516|reward:  992.0|last_reward_at:  516|Elapsed Time: 0:00:06||"
     ]
    },
    {
     "name": "stderr",
     "output_type": "stream",
     "text": [
      "\r",
      "Episode 9|Iteration 520|reward:  998.0|last_reward_at:  516|Elapsed Time: 0:00:06||"
     ]
    },
    {
     "name": "stderr",
     "output_type": "stream",
     "text": [
      "\r",
      "Episode 9|Iteration 520|reward:  998.0|last_reward_at:  520|Elapsed Time: 0:00:06||"
     ]
    },
    {
     "name": "stderr",
     "output_type": "stream",
     "text": [
      "\r",
      "Episode 9|Iteration 525|reward:  998.0|last_reward_at:  520|Elapsed Time: 0:00:06||"
     ]
    },
    {
     "name": "stderr",
     "output_type": "stream",
     "text": [
      "\r",
      "Episode 9|Iteration 525|reward: 1012.0|last_reward_at:  520|Elapsed Time: 0:00:06||"
     ]
    },
    {
     "name": "stderr",
     "output_type": "stream",
     "text": [
      "\r",
      "Episode 9|Iteration 525|reward: 1012.0|last_reward_at:  525|Elapsed Time: 0:00:06||"
     ]
    },
    {
     "name": "stderr",
     "output_type": "stream",
     "text": [
      "\r",
      "Episode 9|Iteration 528|reward: 1112.0|last_reward_at:  525|Elapsed Time: 0:00:06||"
     ]
    },
    {
     "name": "stderr",
     "output_type": "stream",
     "text": [
      "\r",
      "Episode 9|Iteration 528|reward: 1112.0|last_reward_at:  528|Elapsed Time: 0:00:06||"
     ]
    },
    {
     "name": "stderr",
     "output_type": "stream",
     "text": [
      "\r",
      "Episode 9|Iteration 532|reward: 1126.0|last_reward_at:  528|Elapsed Time: 0:00:06||"
     ]
    },
    {
     "name": "stderr",
     "output_type": "stream",
     "text": [
      "\r",
      "Episode 9|Iteration 532|reward: 1126.0|last_reward_at:  532|Elapsed Time: 0:00:06||"
     ]
    },
    {
     "name": "stderr",
     "output_type": "stream",
     "text": [
      "\r",
      "Episode 9|Iteration 536|reward: 6126.0|last_reward_at:  532|Elapsed Time: 0:00:07||"
     ]
    },
    {
     "name": "stderr",
     "output_type": "stream",
     "text": [
      "\r",
      "Episode 9|Iteration 536|reward: 6126.0|last_reward_at:  536|Elapsed Time: 0:00:07||"
     ]
    },
    {
     "name": "stderr",
     "output_type": "stream",
     "text": [
      "\n"
     ]
    },
    {
     "name": "stdout",
     "output_type": "stream",
     "text": [
      "  Episode 9 ended at t=536 \n",
      "  Breakdown [Reward/NoReward (Success rate)]\n",
      "    explore-local: 5/65 (0.07)\n",
      "    explore-remote: 11/135 (0.08)\n",
      "    explore-connect: 0/140 (0.00)\n",
      "    exploit-local: 11/37 (0.23)\n",
      "    exploit-remote: 2/30 (0.06)\n",
      "    exploit-connect: 9/91 (0.09)\n",
      "  exploit deflected to exploration: 3\n",
      "  ## Episode: 10/10 'DQL' ϵ=0.6085, γ=0.15, lr=0.01, replaymemory=10000,\n",
      "batch=256, target_update=5\n"
     ]
    },
    {
     "name": "stderr",
     "output_type": "stream",
     "text": [
      "\r",
      "Episode 10|Iteration 0|reward: ------|last_reward_at: ----|Elapsed Time: 0:00:00||"
     ]
    },
    {
     "name": "stderr",
     "output_type": "stream",
     "text": [
      "\r",
      "Episode 10|Iteration 1|reward:   14.0|last_reward_at: ----|Elapsed Time: 0:00:00||"
     ]
    },
    {
     "name": "stderr",
     "output_type": "stream",
     "text": [
      "\r",
      "Episode 10|Iteration 1|reward:   14.0|last_reward_at:    1|Elapsed Time: 0:00:00||"
     ]
    },
    {
     "name": "stderr",
     "output_type": "stream",
     "text": [
      "\r",
      "Episode 10|Iteration 2|reward:  114.0|last_reward_at:    1|Elapsed Time: 0:00:00||"
     ]
    },
    {
     "name": "stderr",
     "output_type": "stream",
     "text": [
      "\r",
      "Episode 10|Iteration 2|reward:  114.0|last_reward_at:    2|Elapsed Time: 0:00:00||"
     ]
    },
    {
     "name": "stderr",
     "output_type": "stream",
     "text": [
      "\r",
      "Episode 10|Iteration 3|reward:  116.0|last_reward_at:    2|Elapsed Time: 0:00:00||"
     ]
    },
    {
     "name": "stderr",
     "output_type": "stream",
     "text": [
      "\r",
      "Episode 10|Iteration 3|reward:  116.0|last_reward_at:    3|Elapsed Time: 0:00:00||"
     ]
    },
    {
     "name": "stderr",
     "output_type": "stream",
     "text": [
      "\r",
      "Episode 10|Iteration 4|reward:  130.0|last_reward_at:    3|Elapsed Time: 0:00:00||"
     ]
    },
    {
     "name": "stderr",
     "output_type": "stream",
     "text": [
      "\r",
      "Episode 10|Iteration 4|reward:  130.0|last_reward_at:    4|Elapsed Time: 0:00:00||"
     ]
    },
    {
     "name": "stderr",
     "output_type": "stream",
     "text": [
      "\r",
      "Episode 10|Iteration 7|reward:  230.0|last_reward_at:    4|Elapsed Time: 0:00:00||"
     ]
    },
    {
     "name": "stderr",
     "output_type": "stream",
     "text": [
      "\r",
      "Episode 10|Iteration 7|reward:  230.0|last_reward_at:    7|Elapsed Time: 0:00:00||"
     ]
    },
    {
     "name": "stderr",
     "output_type": "stream",
     "text": [
      "\r",
      "Episode 10|Iteration 9|reward:  236.0|last_reward_at:    7|Elapsed Time: 0:00:00||"
     ]
    },
    {
     "name": "stderr",
     "output_type": "stream",
     "text": [
      "\r",
      "Episode 10|Iteration 9|reward:  236.0|last_reward_at:    9|Elapsed Time: 0:00:00||"
     ]
    },
    {
     "name": "stderr",
     "output_type": "stream",
     "text": [
      "\r",
      "Episode 10|Iteration 10|reward:  250.0|last_reward_at:    9|Elapsed Time: 0:00:00||"
     ]
    },
    {
     "name": "stderr",
     "output_type": "stream",
     "text": [
      "\r",
      "Episode 10|Iteration 10|reward:  250.0|last_reward_at:   10|Elapsed Time: 0:00:00||"
     ]
    },
    {
     "name": "stderr",
     "output_type": "stream",
     "text": [
      "\r",
      "Episode 10|Iteration 13|reward:  350.0|last_reward_at:   10|Elapsed Time: 0:00:00||"
     ]
    },
    {
     "name": "stderr",
     "output_type": "stream",
     "text": [
      "\r",
      "Episode 10|Iteration 13|reward:  350.0|last_reward_at:   13|Elapsed Time: 0:00:00||"
     ]
    },
    {
     "name": "stderr",
     "output_type": "stream",
     "text": [
      "\r",
      "Episode 10|Iteration 15|reward:  361.0|last_reward_at:   13|Elapsed Time: 0:00:00||"
     ]
    },
    {
     "name": "stderr",
     "output_type": "stream",
     "text": [
      "\r",
      "Episode 10|Iteration 15|reward:  361.0|last_reward_at:   15|Elapsed Time: 0:00:00||"
     ]
    },
    {
     "name": "stderr",
     "output_type": "stream",
     "text": [
      "\r",
      "Episode 10|Iteration 16|reward:  363.0|last_reward_at:   15|Elapsed Time: 0:00:00||"
     ]
    },
    {
     "name": "stderr",
     "output_type": "stream",
     "text": [
      "\r",
      "Episode 10|Iteration 16|reward:  363.0|last_reward_at:   16|Elapsed Time: 0:00:00||"
     ]
    },
    {
     "name": "stderr",
     "output_type": "stream",
     "text": [
      "\r",
      "Episode 10|Iteration 18|reward:  372.0|last_reward_at:   16|Elapsed Time: 0:00:00||"
     ]
    },
    {
     "name": "stderr",
     "output_type": "stream",
     "text": [
      "\r",
      "Episode 10|Iteration 18|reward:  372.0|last_reward_at:   18|Elapsed Time: 0:00:00||"
     ]
    },
    {
     "name": "stderr",
     "output_type": "stream",
     "text": [
      "\r",
      "Episode 10|Iteration 19|reward:  472.0|last_reward_at:   18|Elapsed Time: 0:00:00||"
     ]
    },
    {
     "name": "stderr",
     "output_type": "stream",
     "text": [
      "\r",
      "Episode 10|Iteration 19|reward:  472.0|last_reward_at:   19|Elapsed Time: 0:00:00||"
     ]
    },
    {
     "name": "stderr",
     "output_type": "stream",
     "text": [
      "\r",
      "Episode 10|Iteration 20|reward:  486.0|last_reward_at:   19|Elapsed Time: 0:00:00||"
     ]
    },
    {
     "name": "stderr",
     "output_type": "stream",
     "text": [
      "\r",
      "Episode 10|Iteration 20|reward:  486.0|last_reward_at:   20|Elapsed Time: 0:00:00||"
     ]
    },
    {
     "name": "stderr",
     "output_type": "stream",
     "text": [
      "\r",
      "Episode 10|Iteration 23|reward:  492.0|last_reward_at:   20|Elapsed Time: 0:00:00||"
     ]
    },
    {
     "name": "stderr",
     "output_type": "stream",
     "text": [
      "\r",
      "Episode 10|Iteration 23|reward:  492.0|last_reward_at:   23|Elapsed Time: 0:00:00||"
     ]
    },
    {
     "name": "stderr",
     "output_type": "stream",
     "text": [
      "\r",
      "Episode 10|Iteration 28|reward:  592.0|last_reward_at:   23|Elapsed Time: 0:00:00||"
     ]
    },
    {
     "name": "stderr",
     "output_type": "stream",
     "text": [
      "\r",
      "Episode 10|Iteration 28|reward:  592.0|last_reward_at:   28|Elapsed Time: 0:00:00||"
     ]
    },
    {
     "name": "stderr",
     "output_type": "stream",
     "text": [
      "\r",
      "Episode 10|Iteration 30|reward:  603.0|last_reward_at:   28|Elapsed Time: 0:00:00||"
     ]
    },
    {
     "name": "stderr",
     "output_type": "stream",
     "text": [
      "\r",
      "Episode 10|Iteration 30|reward:  603.0|last_reward_at:   30|Elapsed Time: 0:00:00||"
     ]
    },
    {
     "name": "stderr",
     "output_type": "stream",
     "text": [
      "\r",
      "Episode 10|Iteration 38|reward:  603.0|last_reward_at:   30|Elapsed Time: 0:00:00||"
     ]
    },
    {
     "name": "stderr",
     "output_type": "stream",
     "text": [
      "\r",
      "Episode 10|Iteration 39|reward:  609.0|last_reward_at:   30|Elapsed Time: 0:00:00||"
     ]
    },
    {
     "name": "stderr",
     "output_type": "stream",
     "text": [
      "\r",
      "Episode 10|Iteration 39|reward:  609.0|last_reward_at:   39|Elapsed Time: 0:00:00||"
     ]
    },
    {
     "name": "stderr",
     "output_type": "stream",
     "text": [
      "\r",
      "Episode 10|Iteration 40|reward:  618.0|last_reward_at:   39|Elapsed Time: 0:00:00||"
     ]
    },
    {
     "name": "stderr",
     "output_type": "stream",
     "text": [
      "\r",
      "Episode 10|Iteration 40|reward:  618.0|last_reward_at:   40|Elapsed Time: 0:00:00||"
     ]
    },
    {
     "name": "stderr",
     "output_type": "stream",
     "text": [
      "\r",
      "Episode 10|Iteration 41|reward:  718.0|last_reward_at:   40|Elapsed Time: 0:00:00||"
     ]
    },
    {
     "name": "stderr",
     "output_type": "stream",
     "text": [
      "\r",
      "Episode 10|Iteration 41|reward:  718.0|last_reward_at:   41|Elapsed Time: 0:00:00||"
     ]
    },
    {
     "name": "stderr",
     "output_type": "stream",
     "text": [
      "\r",
      "Episode 10|Iteration 42|reward:  732.0|last_reward_at:   41|Elapsed Time: 0:00:00||"
     ]
    },
    {
     "name": "stderr",
     "output_type": "stream",
     "text": [
      "\r",
      "Episode 10|Iteration 42|reward:  732.0|last_reward_at:   42|Elapsed Time: 0:00:00||"
     ]
    },
    {
     "name": "stderr",
     "output_type": "stream",
     "text": [
      "\r",
      "Episode 10|Iteration 45|reward:  832.0|last_reward_at:   42|Elapsed Time: 0:00:00||"
     ]
    },
    {
     "name": "stderr",
     "output_type": "stream",
     "text": [
      "\r",
      "Episode 10|Iteration 45|reward:  832.0|last_reward_at:   45|Elapsed Time: 0:00:00||"
     ]
    },
    {
     "name": "stderr",
     "output_type": "stream",
     "text": [
      "\r",
      "Episode 10|Iteration 46|reward:  838.0|last_reward_at:   45|Elapsed Time: 0:00:00||"
     ]
    },
    {
     "name": "stderr",
     "output_type": "stream",
     "text": [
      "\r",
      "Episode 10|Iteration 46|reward:  838.0|last_reward_at:   46|Elapsed Time: 0:00:00||"
     ]
    },
    {
     "name": "stderr",
     "output_type": "stream",
     "text": [
      "\r",
      "Episode 10|Iteration 47|reward:  852.0|last_reward_at:   46|Elapsed Time: 0:00:00||"
     ]
    },
    {
     "name": "stderr",
     "output_type": "stream",
     "text": [
      "\r",
      "Episode 10|Iteration 47|reward:  852.0|last_reward_at:   47|Elapsed Time: 0:00:00||"
     ]
    },
    {
     "name": "stderr",
     "output_type": "stream",
     "text": [
      "\r",
      "Episode 10|Iteration 49|reward:  858.0|last_reward_at:   47|Elapsed Time: 0:00:00||"
     ]
    },
    {
     "name": "stderr",
     "output_type": "stream",
     "text": [
      "\r",
      "Episode 10|Iteration 49|reward:  858.0|last_reward_at:   49|Elapsed Time: 0:00:00||"
     ]
    },
    {
     "name": "stderr",
     "output_type": "stream",
     "text": [
      "\r",
      "Episode 10|Iteration 52|reward:  864.0|last_reward_at:   49|Elapsed Time: 0:00:00||"
     ]
    },
    {
     "name": "stderr",
     "output_type": "stream",
     "text": [
      "\r",
      "Episode 10|Iteration 52|reward:  864.0|last_reward_at:   52|Elapsed Time: 0:00:00||"
     ]
    },
    {
     "name": "stderr",
     "output_type": "stream",
     "text": [
      "\r",
      "Episode 10|Iteration 60|reward:  864.0|last_reward_at:   52|Elapsed Time: 0:00:00||"
     ]
    },
    {
     "name": "stderr",
     "output_type": "stream",
     "text": [
      "\r",
      "Episode 10|Iteration 65|reward:  866.0|last_reward_at:   52|Elapsed Time: 0:00:01||"
     ]
    },
    {
     "name": "stderr",
     "output_type": "stream",
     "text": [
      "\r",
      "Episode 10|Iteration 65|reward:  866.0|last_reward_at:   65|Elapsed Time: 0:00:01||"
     ]
    },
    {
     "name": "stderr",
     "output_type": "stream",
     "text": [
      "\r",
      "Episode 10|Iteration 67|reward:  868.0|last_reward_at:   65|Elapsed Time: 0:00:01||"
     ]
    },
    {
     "name": "stderr",
     "output_type": "stream",
     "text": [
      "\r",
      "Episode 10|Iteration 67|reward:  868.0|last_reward_at:   67|Elapsed Time: 0:00:01||"
     ]
    },
    {
     "name": "stderr",
     "output_type": "stream",
     "text": [
      "\r",
      "Episode 10|Iteration 70|reward:  874.0|last_reward_at:   67|Elapsed Time: 0:00:01||"
     ]
    },
    {
     "name": "stderr",
     "output_type": "stream",
     "text": [
      "\r",
      "Episode 10|Iteration 70|reward:  874.0|last_reward_at:   70|Elapsed Time: 0:00:01||"
     ]
    },
    {
     "name": "stderr",
     "output_type": "stream",
     "text": [
      "\r",
      "Episode 10|Iteration 76|reward:  874.0|last_reward_at:   70|Elapsed Time: 0:00:01||"
     ]
    },
    {
     "name": "stderr",
     "output_type": "stream",
     "text": [
      "\r",
      "Episode 10|Iteration 81|reward:  874.0|last_reward_at:   70|Elapsed Time: 0:00:01||"
     ]
    },
    {
     "name": "stderr",
     "output_type": "stream",
     "text": [
      "\r",
      "Episode 10|Iteration 84|reward:  876.0|last_reward_at:   70|Elapsed Time: 0:00:01||"
     ]
    },
    {
     "name": "stderr",
     "output_type": "stream",
     "text": [
      "\r",
      "Episode 10|Iteration 84|reward:  876.0|last_reward_at:   84|Elapsed Time: 0:00:01||"
     ]
    },
    {
     "name": "stderr",
     "output_type": "stream",
     "text": [
      "\r",
      "Episode 10|Iteration 90|reward:  876.0|last_reward_at:   84|Elapsed Time: 0:00:01||"
     ]
    },
    {
     "name": "stderr",
     "output_type": "stream",
     "text": [
      "\r",
      "Episode 10|Iteration 97|reward:  876.0|last_reward_at:   84|Elapsed Time: 0:00:01||"
     ]
    },
    {
     "name": "stderr",
     "output_type": "stream",
     "text": [
      "\r",
      "Episode 10|Iteration 104|reward:  884.0|last_reward_at:   84|Elapsed Time: 0:00:01||"
     ]
    },
    {
     "name": "stderr",
     "output_type": "stream",
     "text": [
      "\r",
      "Episode 10|Iteration 104|reward:  884.0|last_reward_at:  104|Elapsed Time: 0:00:01||"
     ]
    },
    {
     "name": "stderr",
     "output_type": "stream",
     "text": [
      "\r",
      "Episode 10|Iteration 107|reward:  886.0|last_reward_at:  104|Elapsed Time: 0:00:01||"
     ]
    },
    {
     "name": "stderr",
     "output_type": "stream",
     "text": [
      "\r",
      "Episode 10|Iteration 107|reward:  886.0|last_reward_at:  107|Elapsed Time: 0:00:01||"
     ]
    },
    {
     "name": "stderr",
     "output_type": "stream",
     "text": [
      "\r",
      "Episode 10|Iteration 111|reward:  888.0|last_reward_at:  107|Elapsed Time: 0:00:01||"
     ]
    },
    {
     "name": "stderr",
     "output_type": "stream",
     "text": [
      "\r",
      "Episode 10|Iteration 111|reward:  888.0|last_reward_at:  111|Elapsed Time: 0:00:01||"
     ]
    },
    {
     "name": "stderr",
     "output_type": "stream",
     "text": [
      "\r",
      "Episode 10|Iteration 119|reward:  888.0|last_reward_at:  111|Elapsed Time: 0:00:01||"
     ]
    },
    {
     "name": "stderr",
     "output_type": "stream",
     "text": [
      "\r",
      "Episode 10|Iteration 121|reward:  988.0|last_reward_at:  111|Elapsed Time: 0:00:01||"
     ]
    },
    {
     "name": "stderr",
     "output_type": "stream",
     "text": [
      "\r",
      "Episode 10|Iteration 121|reward:  988.0|last_reward_at:  121|Elapsed Time: 0:00:01||"
     ]
    },
    {
     "name": "stderr",
     "output_type": "stream",
     "text": [
      "\r",
      "Episode 10|Iteration 122|reward: 1002.0|last_reward_at:  121|Elapsed Time: 0:00:01||"
     ]
    },
    {
     "name": "stderr",
     "output_type": "stream",
     "text": [
      "\r",
      "Episode 10|Iteration 122|reward: 1002.0|last_reward_at:  122|Elapsed Time: 0:00:01||"
     ]
    },
    {
     "name": "stderr",
     "output_type": "stream",
     "text": [
      "\r",
      "Episode 10|Iteration 125|reward: 1102.0|last_reward_at:  122|Elapsed Time: 0:00:02||"
     ]
    },
    {
     "name": "stderr",
     "output_type": "stream",
     "text": [
      "\r",
      "Episode 10|Iteration 125|reward: 1102.0|last_reward_at:  125|Elapsed Time: 0:00:02||"
     ]
    },
    {
     "name": "stderr",
     "output_type": "stream",
     "text": [
      "\r",
      "Episode 10|Iteration 126|reward: 1116.0|last_reward_at:  125|Elapsed Time: 0:00:02||"
     ]
    },
    {
     "name": "stderr",
     "output_type": "stream",
     "text": [
      "\r",
      "Episode 10|Iteration 126|reward: 1116.0|last_reward_at:  126|Elapsed Time: 0:00:02||"
     ]
    },
    {
     "name": "stderr",
     "output_type": "stream",
     "text": [
      "\r",
      "Episode 10|Iteration 129|reward: 1216.0|last_reward_at:  126|Elapsed Time: 0:00:02||"
     ]
    },
    {
     "name": "stderr",
     "output_type": "stream",
     "text": [
      "\r",
      "Episode 10|Iteration 129|reward: 1216.0|last_reward_at:  129|Elapsed Time: 0:00:02||"
     ]
    },
    {
     "name": "stderr",
     "output_type": "stream",
     "text": [
      "\r",
      "Episode 10|Iteration 130|reward: 1218.0|last_reward_at:  129|Elapsed Time: 0:00:02||"
     ]
    },
    {
     "name": "stderr",
     "output_type": "stream",
     "text": [
      "\r",
      "Episode 10|Iteration 130|reward: 1218.0|last_reward_at:  130|Elapsed Time: 0:00:02||"
     ]
    },
    {
     "name": "stderr",
     "output_type": "stream",
     "text": [
      "\r",
      "Episode 10|Iteration 131|reward: 1232.0|last_reward_at:  130|Elapsed Time: 0:00:02||"
     ]
    },
    {
     "name": "stderr",
     "output_type": "stream",
     "text": [
      "\r",
      "Episode 10|Iteration 131|reward: 1232.0|last_reward_at:  131|Elapsed Time: 0:00:02||"
     ]
    },
    {
     "name": "stderr",
     "output_type": "stream",
     "text": [
      "\r",
      "Episode 10|Iteration 136|reward: 2232.0|last_reward_at:  131|Elapsed Time: 0:00:02||"
     ]
    },
    {
     "name": "stderr",
     "output_type": "stream",
     "text": [
      "\r",
      "Episode 10|Iteration 136|reward: 2232.0|last_reward_at:  136|Elapsed Time: 0:00:02||"
     ]
    },
    {
     "name": "stderr",
     "output_type": "stream",
     "text": [
      "\r",
      "Episode 10|Iteration 142|reward: 2232.0|last_reward_at:  136|Elapsed Time: 0:00:02||"
     ]
    },
    {
     "name": "stderr",
     "output_type": "stream",
     "text": [
      "\r",
      "Episode 10|Iteration 149|reward: 2232.0|last_reward_at:  136|Elapsed Time: 0:00:02||"
     ]
    },
    {
     "name": "stderr",
     "output_type": "stream",
     "text": [
      "\r",
      "Episode 10|Iteration 152|reward: 2238.0|last_reward_at:  136|Elapsed Time: 0:00:02||"
     ]
    },
    {
     "name": "stderr",
     "output_type": "stream",
     "text": [
      "\r",
      "Episode 10|Iteration 152|reward: 2238.0|last_reward_at:  152|Elapsed Time: 0:00:02||"
     ]
    },
    {
     "name": "stderr",
     "output_type": "stream",
     "text": [
      "\r",
      "Episode 10|Iteration 159|reward: 2238.0|last_reward_at:  152|Elapsed Time: 0:00:02||"
     ]
    },
    {
     "name": "stderr",
     "output_type": "stream",
     "text": [
      "\r",
      "Episode 10|Iteration 160|reward: 2244.0|last_reward_at:  152|Elapsed Time: 0:00:02||"
     ]
    },
    {
     "name": "stderr",
     "output_type": "stream",
     "text": [
      "\r",
      "Episode 10|Iteration 160|reward: 2244.0|last_reward_at:  160|Elapsed Time: 0:00:02||"
     ]
    },
    {
     "name": "stderr",
     "output_type": "stream",
     "text": [
      "\r",
      "Episode 10|Iteration 161|reward: 2250.0|last_reward_at:  160|Elapsed Time: 0:00:02||"
     ]
    },
    {
     "name": "stderr",
     "output_type": "stream",
     "text": [
      "\r",
      "Episode 10|Iteration 161|reward: 2250.0|last_reward_at:  161|Elapsed Time: 0:00:02||"
     ]
    },
    {
     "name": "stderr",
     "output_type": "stream",
     "text": [
      "\r",
      "Episode 10|Iteration 164|reward: 2256.0|last_reward_at:  161|Elapsed Time: 0:00:02||"
     ]
    },
    {
     "name": "stderr",
     "output_type": "stream",
     "text": [
      "\r",
      "Episode 10|Iteration 164|reward: 2256.0|last_reward_at:  164|Elapsed Time: 0:00:02||"
     ]
    },
    {
     "name": "stderr",
     "output_type": "stream",
     "text": [
      "\r",
      "Episode 10|Iteration 166|reward: 7256.0|last_reward_at:  164|Elapsed Time: 0:00:02||"
     ]
    },
    {
     "name": "stderr",
     "output_type": "stream",
     "text": [
      "\r",
      "Episode 10|Iteration 166|reward: 7256.0|last_reward_at:  166|Elapsed Time: 0:00:02||"
     ]
    },
    {
     "name": "stderr",
     "output_type": "stream",
     "text": [
      "\n"
     ]
    },
    {
     "name": "stdout",
     "output_type": "stream",
     "text": [
      "  Episode 10 ended at t=166 \n",
      "  Breakdown [Reward/NoReward (Success rate)]\n",
      "    explore-local: 5/20 (0.20)\n",
      "    explore-remote: 17/26 (0.40)\n",
      "    explore-connect: 1/31 (0.03)\n",
      "    exploit-local: 11/17 (0.39)\n",
      "    exploit-remote: 0/0 (NaN)\n",
      "    exploit-connect: 11/27 (0.29)\n",
      "  exploit deflected to exploration: 0\n",
      "simulation ended\n"
     ]
    },
    {
     "data": {
      "image/png": "[encoded data removed]",
      "text/plain": [
       "<Figure size 640x480 with 1 Axes>"
      ]
     },
     "metadata": {},
     "output_type": "display_data"
    }
   ],
   "source": [
    "dqn_with_defender = learner.epsilon_greedy_search(\n",
    "    cyberbattle_gym_env=cyberbattlechain_defender,\n",
    "    environment_properties=ep,\n",
    "    learner=dqla.DeepQLearnerPolicy(ep=ep, gamma=0.15, replay_memory_size=10000, target_update=5, batch_size=256, learning_rate=0.01),\n",
    "    episode_count=training_episode_count,\n",
    "    iteration_count=iteration_count,\n",
    "    epsilon=0.90,\n",
    "    render=False,\n",
    "    epsilon_exponential_decay=5000,\n",
    "    epsilon_minimum=0.10,\n",
    "    verbosity=Verbosity.Quiet,\n",
    "    title=\"DQL\",\n",
    ")"
   ]
  },
  {
   "cell_type": "code",
   "execution_count": 7,
   "id": "billion-transport",
   "metadata": {
    "execution": {
     "iopub.execute_input": "2024-08-07T22:36:19.113488Z",
     "iopub.status.busy": "2024-08-07T22:36:19.112292Z",
     "iopub.status.idle": "2024-08-07T22:36:40.879312Z",
     "shell.execute_reply": "2024-08-07T22:36:40.878365Z"
    },
    "papermill": {
     "duration": 21.801523,
     "end_time": "2024-08-07T22:36:40.880931",
     "exception": false,
     "start_time": "2024-08-07T22:36:19.079408",
     "status": "completed"
    },
    "tags": []
   },
   "outputs": [
    {
     "name": "stdout",
     "output_type": "stream",
     "text": [
      "###### Exploiting DQL\n",
      "Learning with: episode_count=10,iteration_count=600,ϵ=0.0,ϵ_min=0.0, γ=0.15, lr=0.01, replaymemory=10000,\n",
      "batch=256, target_update=5\n",
      "  ## Episode: 1/10 'Exploiting DQL' ϵ=0.0000, γ=0.15, lr=0.01, replaymemory=10000,\n",
      "batch=256, target_update=5\n"
     ]
    },
    {
     "name": "stderr",
     "output_type": "stream",
     "text": [
      "\r",
      "Episode 1|Iteration 0|reward: ------|last_reward_at: ----|Elapsed Time: 0:00:00||"
     ]
    },
    {
     "name": "stderr",
     "output_type": "stream",
     "text": [
      "\r",
      "Episode 1|Iteration 1|reward:   14.0|last_reward_at: ----|Elapsed Time: 0:00:00||"
     ]
    },
    {
     "name": "stderr",
     "output_type": "stream",
     "text": [
      "\r",
      "Episode 1|Iteration 1|reward:   14.0|last_reward_at:    1|Elapsed Time: 0:00:00||"
     ]
    },
    {
     "name": "stderr",
     "output_type": "stream",
     "text": [
      "\r",
      "Episode 1|Iteration 2|reward:  114.0|last_reward_at:    1|Elapsed Time: 0:00:00||"
     ]
    },
    {
     "name": "stderr",
     "output_type": "stream",
     "text": [
      "\r",
      "Episode 1|Iteration 2|reward:  114.0|last_reward_at:    2|Elapsed Time: 0:00:00||"
     ]
    },
    {
     "name": "stderr",
     "output_type": "stream",
     "text": [
      "\r",
      "Episode 1|Iteration 3|reward:  128.0|last_reward_at:    2|Elapsed Time: 0:00:00||"
     ]
    },
    {
     "name": "stderr",
     "output_type": "stream",
     "text": [
      "\r",
      "Episode 1|Iteration 3|reward:  128.0|last_reward_at:    3|Elapsed Time: 0:00:00||"
     ]
    },
    {
     "name": "stderr",
     "output_type": "stream",
     "text": [
      "\r",
      "Episode 1|Iteration 4|reward:  130.0|last_reward_at:    3|Elapsed Time: 0:00:00||"
     ]
    },
    {
     "name": "stderr",
     "output_type": "stream",
     "text": [
      "\r",
      "Episode 1|Iteration 4|reward:  130.0|last_reward_at:    4|Elapsed Time: 0:00:00||"
     ]
    },
    {
     "name": "stderr",
     "output_type": "stream",
     "text": [
      "\r",
      "Episode 1|Iteration 8|reward:  130.0|last_reward_at:    4|Elapsed Time: 0:00:00||"
     ]
    },
    {
     "name": "stderr",
     "output_type": "stream",
     "text": [
      "\r",
      "Episode 1|Iteration 9|reward:  138.0|last_reward_at:    4|Elapsed Time: 0:00:00||"
     ]
    },
    {
     "name": "stderr",
     "output_type": "stream",
     "text": [
      "\r",
      "Episode 1|Iteration 9|reward:  138.0|last_reward_at:    9|Elapsed Time: 0:00:00||"
     ]
    },
    {
     "name": "stderr",
     "output_type": "stream",
     "text": [
      "\r",
      "Episode 1|Iteration 10|reward:  238.0|last_reward_at:    9|Elapsed Time: 0:00:00||"
     ]
    },
    {
     "name": "stderr",
     "output_type": "stream",
     "text": [
      "\r",
      "Episode 1|Iteration 10|reward:  238.0|last_reward_at:   10|Elapsed Time: 0:00:00||"
     ]
    },
    {
     "name": "stderr",
     "output_type": "stream",
     "text": [
      "\r",
      "Episode 1|Iteration 11|reward:  252.0|last_reward_at:   10|Elapsed Time: 0:00:00||"
     ]
    },
    {
     "name": "stderr",
     "output_type": "stream",
     "text": [
      "\r",
      "Episode 1|Iteration 11|reward:  252.0|last_reward_at:   11|Elapsed Time: 0:00:00||"
     ]
    },
    {
     "name": "stderr",
     "output_type": "stream",
     "text": [
      "\r",
      "Episode 1|Iteration 12|reward:  352.0|last_reward_at:   11|Elapsed Time: 0:00:00||"
     ]
    },
    {
     "name": "stderr",
     "output_type": "stream",
     "text": [
      "\r",
      "Episode 1|Iteration 12|reward:  352.0|last_reward_at:   12|Elapsed Time: 0:00:00||"
     ]
    },
    {
     "name": "stderr",
     "output_type": "stream",
     "text": [
      "\r",
      "Episode 1|Iteration 13|reward:  366.0|last_reward_at:   12|Elapsed Time: 0:00:00||"
     ]
    },
    {
     "name": "stderr",
     "output_type": "stream",
     "text": [
      "\r",
      "Episode 1|Iteration 13|reward:  366.0|last_reward_at:   13|Elapsed Time: 0:00:00||"
     ]
    },
    {
     "name": "stderr",
     "output_type": "stream",
     "text": [
      "\r",
      "Episode 1|Iteration 14|reward:  466.0|last_reward_at:   13|Elapsed Time: 0:00:00||"
     ]
    },
    {
     "name": "stderr",
     "output_type": "stream",
     "text": [
      "\r",
      "Episode 1|Iteration 14|reward:  466.0|last_reward_at:   14|Elapsed Time: 0:00:00||"
     ]
    },
    {
     "name": "stderr",
     "output_type": "stream",
     "text": [
      "\r",
      "Episode 1|Iteration 15|reward:  480.0|last_reward_at:   14|Elapsed Time: 0:00:00||"
     ]
    },
    {
     "name": "stderr",
     "output_type": "stream",
     "text": [
      "\r",
      "Episode 1|Iteration 15|reward:  480.0|last_reward_at:   15|Elapsed Time: 0:00:00||"
     ]
    },
    {
     "name": "stderr",
     "output_type": "stream",
     "text": [
      "\r",
      "Episode 1|Iteration 20|reward:  580.0|last_reward_at:   15|Elapsed Time: 0:00:00||"
     ]
    },
    {
     "name": "stderr",
     "output_type": "stream",
     "text": [
      "\r",
      "Episode 1|Iteration 20|reward:  580.0|last_reward_at:   20|Elapsed Time: 0:00:00||"
     ]
    },
    {
     "name": "stderr",
     "output_type": "stream",
     "text": [
      "\r",
      "Episode 1|Iteration 21|reward:  594.0|last_reward_at:   20|Elapsed Time: 0:00:00||"
     ]
    },
    {
     "name": "stderr",
     "output_type": "stream",
     "text": [
      "\r",
      "Episode 1|Iteration 21|reward:  594.0|last_reward_at:   21|Elapsed Time: 0:00:00||"
     ]
    },
    {
     "name": "stderr",
     "output_type": "stream",
     "text": [
      "\r",
      "Episode 1|Iteration 23|reward:  694.0|last_reward_at:   21|Elapsed Time: 0:00:00||"
     ]
    },
    {
     "name": "stderr",
     "output_type": "stream",
     "text": [
      "\r",
      "Episode 1|Iteration 23|reward:  694.0|last_reward_at:   23|Elapsed Time: 0:00:00||"
     ]
    },
    {
     "name": "stderr",
     "output_type": "stream",
     "text": [
      "\r",
      "Episode 1|Iteration 24|reward:  708.0|last_reward_at:   23|Elapsed Time: 0:00:00||"
     ]
    },
    {
     "name": "stderr",
     "output_type": "stream",
     "text": [
      "\r",
      "Episode 1|Iteration 24|reward:  708.0|last_reward_at:   24|Elapsed Time: 0:00:00||"
     ]
    },
    {
     "name": "stderr",
     "output_type": "stream",
     "text": [
      "\r",
      "Episode 1|Iteration 25|reward:  808.0|last_reward_at:   24|Elapsed Time: 0:00:00||"
     ]
    },
    {
     "name": "stderr",
     "output_type": "stream",
     "text": [
      "\r",
      "Episode 1|Iteration 25|reward:  808.0|last_reward_at:   25|Elapsed Time: 0:00:00||"
     ]
    },
    {
     "name": "stderr",
     "output_type": "stream",
     "text": [
      "\r",
      "Episode 1|Iteration 26|reward:  822.0|last_reward_at:   25|Elapsed Time: 0:00:00||"
     ]
    },
    {
     "name": "stderr",
     "output_type": "stream",
     "text": [
      "\r",
      "Episode 1|Iteration 26|reward:  822.0|last_reward_at:   26|Elapsed Time: 0:00:00||"
     ]
    },
    {
     "name": "stderr",
     "output_type": "stream",
     "text": [
      "\r",
      "Episode 1|Iteration 31|reward:  822.0|last_reward_at:   26|Elapsed Time: 0:00:00||"
     ]
    },
    {
     "name": "stderr",
     "output_type": "stream",
     "text": [
      "\r",
      "Episode 1|Iteration 32|reward:  828.0|last_reward_at:   26|Elapsed Time: 0:00:00||"
     ]
    },
    {
     "name": "stderr",
     "output_type": "stream",
     "text": [
      "\r",
      "Episode 1|Iteration 32|reward:  828.0|last_reward_at:   32|Elapsed Time: 0:00:00||"
     ]
    },
    {
     "name": "stderr",
     "output_type": "stream",
     "text": [
      "\r",
      "Episode 1|Iteration 36|reward: 5828.0|last_reward_at:   32|Elapsed Time: 0:00:00||"
     ]
    },
    {
     "name": "stderr",
     "output_type": "stream",
     "text": [
      "\r",
      "Episode 1|Iteration 36|reward: 5828.0|last_reward_at:   36|Elapsed Time: 0:00:00||"
     ]
    },
    {
     "name": "stderr",
     "output_type": "stream",
     "text": [
      "\n"
     ]
    },
    {
     "name": "stdout",
     "output_type": "stream",
     "text": [
      "  Episode 1 ended at t=36 \n",
      "  Breakdown [Reward/NoReward (Success rate)]\n",
      "    explore-local: 0/0 (NaN)\n",
      "    explore-remote: 1/0 (1.00)\n",
      "    explore-connect: 0/0 (NaN)\n",
      "    exploit-local: 9/1 (0.90)\n",
      "    exploit-remote: 1/1 (0.50)\n",
      "    exploit-connect: 8/15 (0.35)\n",
      "  exploit deflected to exploration: 1\n",
      "  ## Episode: 2/10 'Exploiting DQL' ϵ=0.0000, γ=0.15, lr=0.01, replaymemory=10000,\n",
      "batch=256, target_update=5\n"
     ]
    },
    {
     "name": "stderr",
     "output_type": "stream",
     "text": [
      "\r",
      "Episode 2|Iteration 0|reward: ------|last_reward_at: ----|Elapsed Time: 0:00:00||"
     ]
    },
    {
     "name": "stderr",
     "output_type": "stream",
     "text": [
      "\r",
      "Episode 2|Iteration 1|reward:   14.0|last_reward_at: ----|Elapsed Time: 0:00:00||"
     ]
    },
    {
     "name": "stderr",
     "output_type": "stream",
     "text": [
      "\r",
      "Episode 2|Iteration 1|reward:   14.0|last_reward_at:    1|Elapsed Time: 0:00:00||"
     ]
    },
    {
     "name": "stderr",
     "output_type": "stream",
     "text": [
      "\r",
      "Episode 2|Iteration 2|reward:  114.0|last_reward_at:    1|Elapsed Time: 0:00:00||"
     ]
    },
    {
     "name": "stderr",
     "output_type": "stream",
     "text": [
      "\r",
      "Episode 2|Iteration 2|reward:  114.0|last_reward_at:    2|Elapsed Time: 0:00:00||"
     ]
    },
    {
     "name": "stderr",
     "output_type": "stream",
     "text": [
      "\r",
      "Episode 2|Iteration 3|reward:  128.0|last_reward_at:    2|Elapsed Time: 0:00:00||"
     ]
    },
    {
     "name": "stderr",
     "output_type": "stream",
     "text": [
      "\r",
      "Episode 2|Iteration 3|reward:  128.0|last_reward_at:    3|Elapsed Time: 0:00:00||"
     ]
    },
    {
     "name": "stderr",
     "output_type": "stream",
     "text": [
      "\r",
      "Episode 2|Iteration 4|reward:  228.0|last_reward_at:    3|Elapsed Time: 0:00:00||"
     ]
    },
    {
     "name": "stderr",
     "output_type": "stream",
     "text": [
      "\r",
      "Episode 2|Iteration 4|reward:  228.0|last_reward_at:    4|Elapsed Time: 0:00:00||"
     ]
    },
    {
     "name": "stderr",
     "output_type": "stream",
     "text": [
      "\r",
      "Episode 2|Iteration 5|reward:  242.0|last_reward_at:    4|Elapsed Time: 0:00:00||"
     ]
    },
    {
     "name": "stderr",
     "output_type": "stream",
     "text": [
      "\r",
      "Episode 2|Iteration 5|reward:  242.0|last_reward_at:    5|Elapsed Time: 0:00:00||"
     ]
    },
    {
     "name": "stderr",
     "output_type": "stream",
     "text": [
      "\r",
      "Episode 2|Iteration 6|reward:  342.0|last_reward_at:    5|Elapsed Time: 0:00:00||"
     ]
    },
    {
     "name": "stderr",
     "output_type": "stream",
     "text": [
      "\r",
      "Episode 2|Iteration 6|reward:  342.0|last_reward_at:    6|Elapsed Time: 0:00:00||"
     ]
    },
    {
     "name": "stderr",
     "output_type": "stream",
     "text": [
      "\r",
      "Episode 2|Iteration 7|reward:  356.0|last_reward_at:    6|Elapsed Time: 0:00:00||"
     ]
    },
    {
     "name": "stderr",
     "output_type": "stream",
     "text": [
      "\r",
      "Episode 2|Iteration 7|reward:  356.0|last_reward_at:    7|Elapsed Time: 0:00:00||"
     ]
    },
    {
     "name": "stderr",
     "output_type": "stream",
     "text": [
      "\r",
      "Episode 2|Iteration 8|reward:  456.0|last_reward_at:    7|Elapsed Time: 0:00:00||"
     ]
    },
    {
     "name": "stderr",
     "output_type": "stream",
     "text": [
      "\r",
      "Episode 2|Iteration 8|reward:  456.0|last_reward_at:    8|Elapsed Time: 0:00:00||"
     ]
    },
    {
     "name": "stderr",
     "output_type": "stream",
     "text": [
      "\r",
      "Episode 2|Iteration 9|reward:  470.0|last_reward_at:    8|Elapsed Time: 0:00:00||"
     ]
    },
    {
     "name": "stderr",
     "output_type": "stream",
     "text": [
      "\r",
      "Episode 2|Iteration 9|reward:  470.0|last_reward_at:    9|Elapsed Time: 0:00:00||"
     ]
    },
    {
     "name": "stderr",
     "output_type": "stream",
     "text": [
      "\r",
      "Episode 2|Iteration 10|reward:  570.0|last_reward_at:    9|Elapsed Time: 0:00:00||"
     ]
    },
    {
     "name": "stderr",
     "output_type": "stream",
     "text": [
      "\r",
      "Episode 2|Iteration 10|reward:  570.0|last_reward_at:   10|Elapsed Time: 0:00:00||"
     ]
    },
    {
     "name": "stderr",
     "output_type": "stream",
     "text": [
      "\r",
      "Episode 2|Iteration 11|reward:  584.0|last_reward_at:   10|Elapsed Time: 0:00:00||"
     ]
    },
    {
     "name": "stderr",
     "output_type": "stream",
     "text": [
      "\r",
      "Episode 2|Iteration 11|reward:  584.0|last_reward_at:   11|Elapsed Time: 0:00:00||"
     ]
    },
    {
     "name": "stderr",
     "output_type": "stream",
     "text": [
      "\r",
      "Episode 2|Iteration 13|reward:  590.0|last_reward_at:   11|Elapsed Time: 0:00:00||"
     ]
    },
    {
     "name": "stderr",
     "output_type": "stream",
     "text": [
      "\r",
      "Episode 2|Iteration 13|reward:  590.0|last_reward_at:   13|Elapsed Time: 0:00:00||"
     ]
    },
    {
     "name": "stderr",
     "output_type": "stream",
     "text": [
      "\r",
      "Episode 2|Iteration 19|reward:  590.0|last_reward_at:   13|Elapsed Time: 0:00:00||"
     ]
    },
    {
     "name": "stderr",
     "output_type": "stream",
     "text": [
      "\r",
      "Episode 2|Iteration 23|reward:  590.0|last_reward_at:   13|Elapsed Time: 0:00:00||"
     ]
    },
    {
     "name": "stderr",
     "output_type": "stream",
     "text": [
      "\r",
      "Episode 2|Iteration 29|reward:  590.0|last_reward_at:   13|Elapsed Time: 0:00:00||"
     ]
    },
    {
     "name": "stderr",
     "output_type": "stream",
     "text": [
      "\r",
      "Episode 2|Iteration 33|reward:  590.0|last_reward_at:   13|Elapsed Time: 0:00:00||"
     ]
    },
    {
     "name": "stderr",
     "output_type": "stream",
     "text": [
      "\r",
      "Episode 2|Iteration 36|reward:  690.0|last_reward_at:   13|Elapsed Time: 0:00:00||"
     ]
    },
    {
     "name": "stderr",
     "output_type": "stream",
     "text": [
      "\r",
      "Episode 2|Iteration 36|reward:  690.0|last_reward_at:   36|Elapsed Time: 0:00:00||"
     ]
    },
    {
     "name": "stderr",
     "output_type": "stream",
     "text": [
      "\r",
      "Episode 2|Iteration 38|reward:  704.0|last_reward_at:   36|Elapsed Time: 0:00:00||"
     ]
    },
    {
     "name": "stderr",
     "output_type": "stream",
     "text": [
      "\r",
      "Episode 2|Iteration 38|reward:  704.0|last_reward_at:   38|Elapsed Time: 0:00:00||"
     ]
    },
    {
     "name": "stderr",
     "output_type": "stream",
     "text": [
      "\r",
      "Episode 2|Iteration 44|reward:  804.0|last_reward_at:   38|Elapsed Time: 0:00:00||"
     ]
    },
    {
     "name": "stderr",
     "output_type": "stream",
     "text": [
      "\r",
      "Episode 2|Iteration 44|reward:  804.0|last_reward_at:   44|Elapsed Time: 0:00:00||"
     ]
    },
    {
     "name": "stderr",
     "output_type": "stream",
     "text": [
      "\r",
      "Episode 2|Iteration 45|reward:  818.0|last_reward_at:   44|Elapsed Time: 0:00:00||"
     ]
    },
    {
     "name": "stderr",
     "output_type": "stream",
     "text": [
      "\r",
      "Episode 2|Iteration 45|reward:  818.0|last_reward_at:   45|Elapsed Time: 0:00:00||"
     ]
    },
    {
     "name": "stderr",
     "output_type": "stream",
     "text": [
      "\r",
      "Episode 2|Iteration 46|reward:  918.0|last_reward_at:   45|Elapsed Time: 0:00:00||"
     ]
    },
    {
     "name": "stderr",
     "output_type": "stream",
     "text": [
      "\r",
      "Episode 2|Iteration 46|reward:  918.0|last_reward_at:   46|Elapsed Time: 0:00:00||"
     ]
    },
    {
     "name": "stderr",
     "output_type": "stream",
     "text": [
      "\r",
      "Episode 2|Iteration 47|reward:  932.0|last_reward_at:   46|Elapsed Time: 0:00:00||"
     ]
    },
    {
     "name": "stderr",
     "output_type": "stream",
     "text": [
      "\r",
      "Episode 2|Iteration 47|reward:  932.0|last_reward_at:   47|Elapsed Time: 0:00:00||"
     ]
    },
    {
     "name": "stderr",
     "output_type": "stream",
     "text": [
      "\r",
      "Episode 2|Iteration 48|reward: 1032.0|last_reward_at:   47|Elapsed Time: 0:00:00||"
     ]
    },
    {
     "name": "stderr",
     "output_type": "stream",
     "text": [
      "\r",
      "Episode 2|Iteration 48|reward: 1032.0|last_reward_at:   48|Elapsed Time: 0:00:00||"
     ]
    },
    {
     "name": "stderr",
     "output_type": "stream",
     "text": [
      "\r",
      "Episode 2|Iteration 49|reward: 1046.0|last_reward_at:   48|Elapsed Time: 0:00:01||"
     ]
    },
    {
     "name": "stderr",
     "output_type": "stream",
     "text": [
      "\r",
      "Episode 2|Iteration 49|reward: 1046.0|last_reward_at:   49|Elapsed Time: 0:00:01||"
     ]
    },
    {
     "name": "stderr",
     "output_type": "stream",
     "text": [
      "\r",
      "Episode 2|Iteration 50|reward: 1146.0|last_reward_at:   49|Elapsed Time: 0:00:01||"
     ]
    },
    {
     "name": "stderr",
     "output_type": "stream",
     "text": [
      "\r",
      "Episode 2|Iteration 50|reward: 1146.0|last_reward_at:   50|Elapsed Time: 0:00:01||"
     ]
    },
    {
     "name": "stderr",
     "output_type": "stream",
     "text": [
      "\r",
      "Episode 2|Iteration 51|reward: 1160.0|last_reward_at:   50|Elapsed Time: 0:00:01||"
     ]
    },
    {
     "name": "stderr",
     "output_type": "stream",
     "text": [
      "\r",
      "Episode 2|Iteration 51|reward: 1160.0|last_reward_at:   51|Elapsed Time: 0:00:01||"
     ]
    },
    {
     "name": "stderr",
     "output_type": "stream",
     "text": [
      "\r",
      "Episode 2|Iteration 52|reward: 2160.0|last_reward_at:   51|Elapsed Time: 0:00:01||"
     ]
    },
    {
     "name": "stderr",
     "output_type": "stream",
     "text": [
      "\r",
      "Episode 2|Iteration 52|reward: 2160.0|last_reward_at:   52|Elapsed Time: 0:00:01||"
     ]
    },
    {
     "name": "stderr",
     "output_type": "stream",
     "text": [
      "\r",
      "Episode 2|Iteration 53|reward: 2162.0|last_reward_at:   52|Elapsed Time: 0:00:01||"
     ]
    },
    {
     "name": "stderr",
     "output_type": "stream",
     "text": [
      "\r",
      "Episode 2|Iteration 53|reward: 2162.0|last_reward_at:   53|Elapsed Time: 0:00:01||"
     ]
    },
    {
     "name": "stderr",
     "output_type": "stream",
     "text": [
      "\r",
      "Episode 2|Iteration 54|reward: 2168.0|last_reward_at:   53|Elapsed Time: 0:00:01||"
     ]
    },
    {
     "name": "stderr",
     "output_type": "stream",
     "text": [
      "\r",
      "Episode 2|Iteration 54|reward: 2168.0|last_reward_at:   54|Elapsed Time: 0:00:01||"
     ]
    },
    {
     "name": "stderr",
     "output_type": "stream",
     "text": [
      "\r",
      "Episode 2|Iteration 55|reward: 2168.0|last_reward_at:   54|Elapsed Time: 0:00:01||"
     ]
    },
    {
     "name": "stderr",
     "output_type": "stream",
     "text": [
      "\r",
      "Episode 2|Iteration 61|reward: 2168.0|last_reward_at:   54|Elapsed Time: 0:00:01||"
     ]
    },
    {
     "name": "stderr",
     "output_type": "stream",
     "text": [
      "\r",
      "Episode 2|Iteration 67|reward: 2168.0|last_reward_at:   54|Elapsed Time: 0:00:01||"
     ]
    },
    {
     "name": "stderr",
     "output_type": "stream",
     "text": [
      "\r",
      "Episode 2|Iteration 74|reward: 2168.0|last_reward_at:   54|Elapsed Time: 0:00:01||"
     ]
    },
    {
     "name": "stderr",
     "output_type": "stream",
     "text": [
      "\r",
      "Episode 2|Iteration 80|reward: 2168.0|last_reward_at:   54|Elapsed Time: 0:00:01||"
     ]
    },
    {
     "name": "stderr",
     "output_type": "stream",
     "text": [
      "\r",
      "Episode 2|Iteration 81|reward: 7168.0|last_reward_at:   54|Elapsed Time: 0:00:01||"
     ]
    },
    {
     "name": "stderr",
     "output_type": "stream",
     "text": [
      "\r",
      "Episode 2|Iteration 81|reward: 7168.0|last_reward_at:   81|Elapsed Time: 0:00:01||"
     ]
    },
    {
     "name": "stderr",
     "output_type": "stream",
     "text": [
      "\n"
     ]
    },
    {
     "name": "stdout",
     "output_type": "stream",
     "text": [
      "  Episode 2 ended at t=81 \n",
      "  Breakdown [Reward/NoReward (Success rate)]\n",
      "    explore-local: 0/0 (NaN)\n",
      "    explore-remote: 1/0 (1.00)\n",
      "    explore-connect: 0/1 (0.00)\n",
      "    exploit-local: 12/15 (0.44)\n",
      "    exploit-remote: 1/0 (1.00)\n",
      "    exploit-connect: 12/39 (0.24)\n",
      "  exploit deflected to exploration: 2\n",
      "  ## Episode: 3/10 'Exploiting DQL' ϵ=0.0000, γ=0.15, lr=0.01, replaymemory=10000,\n",
      "batch=256, target_update=5\n"
     ]
    },
    {
     "name": "stderr",
     "output_type": "stream",
     "text": [
      "\r",
      "Episode 3|Iteration 0|reward: ------|last_reward_at: ----|Elapsed Time: 0:00:00||"
     ]
    },
    {
     "name": "stderr",
     "output_type": "stream",
     "text": [
      "\r",
      "Episode 3|Iteration 1|reward:   14.0|last_reward_at: ----|Elapsed Time: 0:00:00||"
     ]
    },
    {
     "name": "stderr",
     "output_type": "stream",
     "text": [
      "\r",
      "Episode 3|Iteration 1|reward:   14.0|last_reward_at:    1|Elapsed Time: 0:00:00||"
     ]
    },
    {
     "name": "stderr",
     "output_type": "stream",
     "text": [
      "\r",
      "Episode 3|Iteration 2|reward:  114.0|last_reward_at:    1|Elapsed Time: 0:00:00||"
     ]
    },
    {
     "name": "stderr",
     "output_type": "stream",
     "text": [
      "\r",
      "Episode 3|Iteration 2|reward:  114.0|last_reward_at:    2|Elapsed Time: 0:00:00||"
     ]
    },
    {
     "name": "stderr",
     "output_type": "stream",
     "text": [
      "\r",
      "Episode 3|Iteration 3|reward:  128.0|last_reward_at:    2|Elapsed Time: 0:00:00||"
     ]
    },
    {
     "name": "stderr",
     "output_type": "stream",
     "text": [
      "\r",
      "Episode 3|Iteration 3|reward:  128.0|last_reward_at:    3|Elapsed Time: 0:00:00||"
     ]
    },
    {
     "name": "stderr",
     "output_type": "stream",
     "text": [
      "\r",
      "Episode 3|Iteration 4|reward:  228.0|last_reward_at:    3|Elapsed Time: 0:00:00||"
     ]
    },
    {
     "name": "stderr",
     "output_type": "stream",
     "text": [
      "\r",
      "Episode 3|Iteration 4|reward:  228.0|last_reward_at:    4|Elapsed Time: 0:00:00||"
     ]
    },
    {
     "name": "stderr",
     "output_type": "stream",
     "text": [
      "\r",
      "Episode 3|Iteration 5|reward:  242.0|last_reward_at:    4|Elapsed Time: 0:00:00||"
     ]
    },
    {
     "name": "stderr",
     "output_type": "stream",
     "text": [
      "\r",
      "Episode 3|Iteration 5|reward:  242.0|last_reward_at:    5|Elapsed Time: 0:00:00||"
     ]
    },
    {
     "name": "stderr",
     "output_type": "stream",
     "text": [
      "\r",
      "Episode 3|Iteration 7|reward:  342.0|last_reward_at:    5|Elapsed Time: 0:00:00||"
     ]
    },
    {
     "name": "stderr",
     "output_type": "stream",
     "text": [
      "\r",
      "Episode 3|Iteration 7|reward:  342.0|last_reward_at:    7|Elapsed Time: 0:00:00||"
     ]
    },
    {
     "name": "stderr",
     "output_type": "stream",
     "text": [
      "\r",
      "Episode 3|Iteration 9|reward:  356.0|last_reward_at:    7|Elapsed Time: 0:00:00||"
     ]
    },
    {
     "name": "stderr",
     "output_type": "stream",
     "text": [
      "\r",
      "Episode 3|Iteration 9|reward:  356.0|last_reward_at:    9|Elapsed Time: 0:00:00||"
     ]
    },
    {
     "name": "stderr",
     "output_type": "stream",
     "text": [
      "\r",
      "Episode 3|Iteration 13|reward:  456.0|last_reward_at:    9|Elapsed Time: 0:00:00||"
     ]
    },
    {
     "name": "stderr",
     "output_type": "stream",
     "text": [
      "\r",
      "Episode 3|Iteration 13|reward:  456.0|last_reward_at:   13|Elapsed Time: 0:00:00||"
     ]
    },
    {
     "name": "stderr",
     "output_type": "stream",
     "text": [
      "\r",
      "Episode 3|Iteration 14|reward:  470.0|last_reward_at:   13|Elapsed Time: 0:00:00||"
     ]
    },
    {
     "name": "stderr",
     "output_type": "stream",
     "text": [
      "\r",
      "Episode 3|Iteration 14|reward:  470.0|last_reward_at:   14|Elapsed Time: 0:00:00||"
     ]
    },
    {
     "name": "stderr",
     "output_type": "stream",
     "text": [
      "\r",
      "Episode 3|Iteration 15|reward:  570.0|last_reward_at:   14|Elapsed Time: 0:00:00||"
     ]
    },
    {
     "name": "stderr",
     "output_type": "stream",
     "text": [
      "\r",
      "Episode 3|Iteration 15|reward:  570.0|last_reward_at:   15|Elapsed Time: 0:00:00||"
     ]
    },
    {
     "name": "stderr",
     "output_type": "stream",
     "text": [
      "\r",
      "Episode 3|Iteration 16|reward:  584.0|last_reward_at:   15|Elapsed Time: 0:00:00||"
     ]
    },
    {
     "name": "stderr",
     "output_type": "stream",
     "text": [
      "\r",
      "Episode 3|Iteration 16|reward:  584.0|last_reward_at:   16|Elapsed Time: 0:00:00||"
     ]
    },
    {
     "name": "stderr",
     "output_type": "stream",
     "text": [
      "\r",
      "Episode 3|Iteration 22|reward:  584.0|last_reward_at:   16|Elapsed Time: 0:00:00||"
     ]
    },
    {
     "name": "stderr",
     "output_type": "stream",
     "text": [
      "\r",
      "Episode 3|Iteration 29|reward:  584.0|last_reward_at:   16|Elapsed Time: 0:00:00||"
     ]
    },
    {
     "name": "stderr",
     "output_type": "stream",
     "text": [
      "\r",
      "Episode 3|Iteration 30|reward:  590.0|last_reward_at:   16|Elapsed Time: 0:00:00||"
     ]
    },
    {
     "name": "stderr",
     "output_type": "stream",
     "text": [
      "\r",
      "Episode 3|Iteration 30|reward:  590.0|last_reward_at:   30|Elapsed Time: 0:00:00||"
     ]
    },
    {
     "name": "stderr",
     "output_type": "stream",
     "text": [
      "\r",
      "Episode 3|Iteration 33|reward:  690.0|last_reward_at:   30|Elapsed Time: 0:00:00||"
     ]
    },
    {
     "name": "stderr",
     "output_type": "stream",
     "text": [
      "\r",
      "Episode 3|Iteration 33|reward:  690.0|last_reward_at:   33|Elapsed Time: 0:00:00||"
     ]
    },
    {
     "name": "stderr",
     "output_type": "stream",
     "text": [
      "\r",
      "Episode 3|Iteration 35|reward:  704.0|last_reward_at:   33|Elapsed Time: 0:00:00||"
     ]
    },
    {
     "name": "stderr",
     "output_type": "stream",
     "text": [
      "\r",
      "Episode 3|Iteration 35|reward:  704.0|last_reward_at:   35|Elapsed Time: 0:00:00||"
     ]
    },
    {
     "name": "stderr",
     "output_type": "stream",
     "text": [
      "\r",
      "Episode 3|Iteration 37|reward:  804.0|last_reward_at:   35|Elapsed Time: 0:00:00||"
     ]
    },
    {
     "name": "stderr",
     "output_type": "stream",
     "text": [
      "\r",
      "Episode 3|Iteration 37|reward:  804.0|last_reward_at:   37|Elapsed Time: 0:00:00||"
     ]
    },
    {
     "name": "stderr",
     "output_type": "stream",
     "text": [
      "\r",
      "Episode 3|Iteration 39|reward:  818.0|last_reward_at:   37|Elapsed Time: 0:00:00||"
     ]
    },
    {
     "name": "stderr",
     "output_type": "stream",
     "text": [
      "\r",
      "Episode 3|Iteration 39|reward:  818.0|last_reward_at:   39|Elapsed Time: 0:00:00||"
     ]
    },
    {
     "name": "stderr",
     "output_type": "stream",
     "text": [
      "\r",
      "Episode 3|Iteration 46|reward:  818.0|last_reward_at:   39|Elapsed Time: 0:00:00||"
     ]
    },
    {
     "name": "stderr",
     "output_type": "stream",
     "text": [
      "\r",
      "Episode 3|Iteration 51|reward:  818.0|last_reward_at:   39|Elapsed Time: 0:00:00||"
     ]
    },
    {
     "name": "stderr",
     "output_type": "stream",
     "text": [
      "\r",
      "Episode 3|Iteration 57|reward:  918.0|last_reward_at:   39|Elapsed Time: 0:00:01||"
     ]
    },
    {
     "name": "stderr",
     "output_type": "stream",
     "text": [
      "\r",
      "Episode 3|Iteration 57|reward:  918.0|last_reward_at:   57|Elapsed Time: 0:00:01||"
     ]
    },
    {
     "name": "stderr",
     "output_type": "stream",
     "text": [
      "\r",
      "Episode 3|Iteration 58|reward:  932.0|last_reward_at:   57|Elapsed Time: 0:00:01||"
     ]
    },
    {
     "name": "stderr",
     "output_type": "stream",
     "text": [
      "\r",
      "Episode 3|Iteration 58|reward:  932.0|last_reward_at:   58|Elapsed Time: 0:00:01||"
     ]
    },
    {
     "name": "stderr",
     "output_type": "stream",
     "text": [
      "\r",
      "Episode 3|Iteration 59|reward: 1032.0|last_reward_at:   58|Elapsed Time: 0:00:01||"
     ]
    },
    {
     "name": "stderr",
     "output_type": "stream",
     "text": [
      "\r",
      "Episode 3|Iteration 59|reward: 1032.0|last_reward_at:   59|Elapsed Time: 0:00:01||"
     ]
    },
    {
     "name": "stderr",
     "output_type": "stream",
     "text": [
      "\r",
      "Episode 3|Iteration 61|reward: 1046.0|last_reward_at:   59|Elapsed Time: 0:00:01||"
     ]
    },
    {
     "name": "stderr",
     "output_type": "stream",
     "text": [
      "\r",
      "Episode 3|Iteration 61|reward: 1046.0|last_reward_at:   61|Elapsed Time: 0:00:01||"
     ]
    },
    {
     "name": "stderr",
     "output_type": "stream",
     "text": [
      "\r",
      "Episode 3|Iteration 68|reward: 1046.0|last_reward_at:   61|Elapsed Time: 0:00:01||"
     ]
    },
    {
     "name": "stderr",
     "output_type": "stream",
     "text": [
      "\r",
      "Episode 3|Iteration 71|reward: 6046.0|last_reward_at:   61|Elapsed Time: 0:00:01||"
     ]
    },
    {
     "name": "stderr",
     "output_type": "stream",
     "text": [
      "\r",
      "Episode 3|Iteration 71|reward: 6046.0|last_reward_at:   71|Elapsed Time: 0:00:01||"
     ]
    },
    {
     "name": "stderr",
     "output_type": "stream",
     "text": [
      "\n"
     ]
    },
    {
     "name": "stdout",
     "output_type": "stream",
     "text": [
      "  Episode 3 ended at t=71 \n",
      "  Breakdown [Reward/NoReward (Success rate)]\n",
      "    explore-local: 0/0 (NaN)\n",
      "    explore-remote: 0/0 (NaN)\n",
      "    explore-connect: 0/0 (NaN)\n",
      "    exploit-local: 11/2 (0.85)\n",
      "    exploit-remote: 0/2 (0.00)\n",
      "    exploit-connect: 10/46 (0.18)\n",
      "  exploit deflected to exploration: 0\n",
      "  ## Episode: 4/10 'Exploiting DQL' ϵ=0.0000, γ=0.15, lr=0.01, replaymemory=10000,\n",
      "batch=256, target_update=5\n"
     ]
    },
    {
     "name": "stderr",
     "output_type": "stream",
     "text": [
      "\r",
      "Episode 4|Iteration 0|reward: ------|last_reward_at: ----|Elapsed Time: 0:00:00||"
     ]
    },
    {
     "name": "stderr",
     "output_type": "stream",
     "text": [
      "\r",
      "Episode 4|Iteration 1|reward:   14.0|last_reward_at: ----|Elapsed Time: 0:00:00||"
     ]
    },
    {
     "name": "stderr",
     "output_type": "stream",
     "text": [
      "\r",
      "Episode 4|Iteration 1|reward:   14.0|last_reward_at:    1|Elapsed Time: 0:00:00||"
     ]
    },
    {
     "name": "stderr",
     "output_type": "stream",
     "text": [
      "\r",
      "Episode 4|Iteration 2|reward:  114.0|last_reward_at:    1|Elapsed Time: 0:00:00||"
     ]
    },
    {
     "name": "stderr",
     "output_type": "stream",
     "text": [
      "\r",
      "Episode 4|Iteration 2|reward:  114.0|last_reward_at:    2|Elapsed Time: 0:00:00||"
     ]
    },
    {
     "name": "stderr",
     "output_type": "stream",
     "text": [
      "\r",
      "Episode 4|Iteration 3|reward:  128.0|last_reward_at:    2|Elapsed Time: 0:00:00||"
     ]
    },
    {
     "name": "stderr",
     "output_type": "stream",
     "text": [
      "\r",
      "Episode 4|Iteration 3|reward:  128.0|last_reward_at:    3|Elapsed Time: 0:00:00||"
     ]
    },
    {
     "name": "stderr",
     "output_type": "stream",
     "text": [
      "\r",
      "Episode 4|Iteration 4|reward:  228.0|last_reward_at:    3|Elapsed Time: 0:00:00||"
     ]
    },
    {
     "name": "stderr",
     "output_type": "stream",
     "text": [
      "\r",
      "Episode 4|Iteration 4|reward:  228.0|last_reward_at:    4|Elapsed Time: 0:00:00||"
     ]
    },
    {
     "name": "stderr",
     "output_type": "stream",
     "text": [
      "\r",
      "Episode 4|Iteration 5|reward:  242.0|last_reward_at:    4|Elapsed Time: 0:00:00||"
     ]
    },
    {
     "name": "stderr",
     "output_type": "stream",
     "text": [
      "\r",
      "Episode 4|Iteration 5|reward:  242.0|last_reward_at:    5|Elapsed Time: 0:00:00||"
     ]
    },
    {
     "name": "stderr",
     "output_type": "stream",
     "text": [
      "\r",
      "Episode 4|Iteration 11|reward:  242.0|last_reward_at:    5|Elapsed Time: 0:00:00||"
     ]
    },
    {
     "name": "stderr",
     "output_type": "stream",
     "text": [
      "\r",
      "Episode 4|Iteration 16|reward:  242.0|last_reward_at:    5|Elapsed Time: 0:00:00||"
     ]
    },
    {
     "name": "stderr",
     "output_type": "stream",
     "text": [
      "\r",
      "Episode 4|Iteration 23|reward:  242.0|last_reward_at:    5|Elapsed Time: 0:00:00||"
     ]
    },
    {
     "name": "stderr",
     "output_type": "stream",
     "text": [
      "\r",
      "Episode 4|Iteration 27|reward:  342.0|last_reward_at:    5|Elapsed Time: 0:00:00||"
     ]
    },
    {
     "name": "stderr",
     "output_type": "stream",
     "text": [
      "\r",
      "Episode 4|Iteration 27|reward:  342.0|last_reward_at:   27|Elapsed Time: 0:00:00||"
     ]
    },
    {
     "name": "stderr",
     "output_type": "stream",
     "text": [
      "\r",
      "Episode 4|Iteration 28|reward:  356.0|last_reward_at:   27|Elapsed Time: 0:00:00||"
     ]
    },
    {
     "name": "stderr",
     "output_type": "stream",
     "text": [
      "\r",
      "Episode 4|Iteration 28|reward:  356.0|last_reward_at:   28|Elapsed Time: 0:00:00||"
     ]
    },
    {
     "name": "stderr",
     "output_type": "stream",
     "text": [
      "\r",
      "Episode 4|Iteration 29|reward:  456.0|last_reward_at:   28|Elapsed Time: 0:00:00||"
     ]
    },
    {
     "name": "stderr",
     "output_type": "stream",
     "text": [
      "\r",
      "Episode 4|Iteration 29|reward:  456.0|last_reward_at:   29|Elapsed Time: 0:00:00||"
     ]
    },
    {
     "name": "stderr",
     "output_type": "stream",
     "text": [
      "\r",
      "Episode 4|Iteration 30|reward:  470.0|last_reward_at:   29|Elapsed Time: 0:00:00||"
     ]
    },
    {
     "name": "stderr",
     "output_type": "stream",
     "text": [
      "\r",
      "Episode 4|Iteration 30|reward:  470.0|last_reward_at:   30|Elapsed Time: 0:00:00||"
     ]
    },
    {
     "name": "stderr",
     "output_type": "stream",
     "text": [
      "\r",
      "Episode 4|Iteration 38|reward:  470.0|last_reward_at:   30|Elapsed Time: 0:00:00||"
     ]
    },
    {
     "name": "stderr",
     "output_type": "stream",
     "text": [
      "\r",
      "Episode 4|Iteration 46|reward:  470.0|last_reward_at:   30|Elapsed Time: 0:00:00||"
     ]
    },
    {
     "name": "stderr",
     "output_type": "stream",
     "text": [
      "\r",
      "Episode 4|Iteration 54|reward:  470.0|last_reward_at:   30|Elapsed Time: 0:00:00||"
     ]
    },
    {
     "name": "stderr",
     "output_type": "stream",
     "text": [
      "\r",
      "Episode 4|Iteration 58|reward:  570.0|last_reward_at:   30|Elapsed Time: 0:00:00||"
     ]
    },
    {
     "name": "stderr",
     "output_type": "stream",
     "text": [
      "\r",
      "Episode 4|Iteration 58|reward:  570.0|last_reward_at:   58|Elapsed Time: 0:00:00||"
     ]
    },
    {
     "name": "stderr",
     "output_type": "stream",
     "text": [
      "\r",
      "Episode 4|Iteration 66|reward:  584.0|last_reward_at:   58|Elapsed Time: 0:00:00||"
     ]
    },
    {
     "name": "stderr",
     "output_type": "stream",
     "text": [
      "\r",
      "Episode 4|Iteration 66|reward:  584.0|last_reward_at:   66|Elapsed Time: 0:00:00||"
     ]
    },
    {
     "name": "stderr",
     "output_type": "stream",
     "text": [
      "\r",
      "Episode 4|Iteration 70|reward:  590.0|last_reward_at:   66|Elapsed Time: 0:00:01||"
     ]
    },
    {
     "name": "stderr",
     "output_type": "stream",
     "text": [
      "\r",
      "Episode 4|Iteration 70|reward:  590.0|last_reward_at:   70|Elapsed Time: 0:00:01||"
     ]
    },
    {
     "name": "stderr",
     "output_type": "stream",
     "text": [
      "\r",
      "Episode 4|Iteration 71|reward:  690.0|last_reward_at:   70|Elapsed Time: 0:00:01||"
     ]
    },
    {
     "name": "stderr",
     "output_type": "stream",
     "text": [
      "\r",
      "Episode 4|Iteration 71|reward:  690.0|last_reward_at:   71|Elapsed Time: 0:00:01||"
     ]
    },
    {
     "name": "stderr",
     "output_type": "stream",
     "text": [
      "\r",
      "Episode 4|Iteration 72|reward:  704.0|last_reward_at:   71|Elapsed Time: 0:00:01||"
     ]
    },
    {
     "name": "stderr",
     "output_type": "stream",
     "text": [
      "\r",
      "Episode 4|Iteration 72|reward:  704.0|last_reward_at:   72|Elapsed Time: 0:00:01||"
     ]
    },
    {
     "name": "stderr",
     "output_type": "stream",
     "text": [
      "\r",
      "Episode 4|Iteration 73|reward:  804.0|last_reward_at:   72|Elapsed Time: 0:00:01||"
     ]
    },
    {
     "name": "stderr",
     "output_type": "stream",
     "text": [
      "\r",
      "Episode 4|Iteration 73|reward:  804.0|last_reward_at:   73|Elapsed Time: 0:00:01||"
     ]
    },
    {
     "name": "stderr",
     "output_type": "stream",
     "text": [
      "\r",
      "Episode 4|Iteration 74|reward:  818.0|last_reward_at:   73|Elapsed Time: 0:00:01||"
     ]
    },
    {
     "name": "stderr",
     "output_type": "stream",
     "text": [
      "\r",
      "Episode 4|Iteration 74|reward:  818.0|last_reward_at:   74|Elapsed Time: 0:00:01||"
     ]
    },
    {
     "name": "stderr",
     "output_type": "stream",
     "text": [
      "\r",
      "Episode 4|Iteration 80|reward:  818.0|last_reward_at:   74|Elapsed Time: 0:00:01||"
     ]
    },
    {
     "name": "stderr",
     "output_type": "stream",
     "text": [
      "\r",
      "Episode 4|Iteration 84|reward:  818.0|last_reward_at:   74|Elapsed Time: 0:00:01||"
     ]
    },
    {
     "name": "stderr",
     "output_type": "stream",
     "text": [
      "\r",
      "Episode 4|Iteration 86|reward:  818.0|last_reward_at:   74|Elapsed Time: 0:00:01||"
     ]
    },
    {
     "name": "stderr",
     "output_type": "stream",
     "text": [
      "\r",
      "Episode 4|Iteration 91|reward: 5818.0|last_reward_at:   74|Elapsed Time: 0:00:01||"
     ]
    },
    {
     "name": "stderr",
     "output_type": "stream",
     "text": [
      "\r",
      "Episode 4|Iteration 91|reward: 5818.0|last_reward_at:   91|Elapsed Time: 0:00:01||"
     ]
    },
    {
     "name": "stderr",
     "output_type": "stream",
     "text": [
      "\n"
     ]
    },
    {
     "name": "stdout",
     "output_type": "stream",
     "text": [
      "  Episode 4 ended at t=91 \n",
      "  Breakdown [Reward/NoReward (Success rate)]\n",
      "    explore-local: 0/0 (NaN)\n",
      "    explore-remote: 0/0 (NaN)\n",
      "    explore-connect: 0/0 (NaN)\n",
      "    exploit-local: 9/9 (0.50)\n",
      "    exploit-remote: 0/0 (NaN)\n",
      "    exploit-connect: 8/65 (0.11)\n",
      "  exploit deflected to exploration: 0\n",
      "  ## Episode: 5/10 'Exploiting DQL' ϵ=0.0000, γ=0.15, lr=0.01, replaymemory=10000,\n",
      "batch=256, target_update=5\n"
     ]
    },
    {
     "name": "stderr",
     "output_type": "stream",
     "text": [
      "\r",
      "Episode 5|Iteration 0|reward: ------|last_reward_at: ----|Elapsed Time: 0:00:00||"
     ]
    },
    {
     "name": "stderr",
     "output_type": "stream",
     "text": [
      "\r",
      "Episode 5|Iteration 1|reward:   14.0|last_reward_at: ----|Elapsed Time: 0:00:00||"
     ]
    },
    {
     "name": "stderr",
     "output_type": "stream",
     "text": [
      "\r",
      "Episode 5|Iteration 1|reward:   14.0|last_reward_at:    1|Elapsed Time: 0:00:00||"
     ]
    },
    {
     "name": "stderr",
     "output_type": "stream",
     "text": [
      "\r",
      "Episode 5|Iteration 2|reward:  114.0|last_reward_at:    1|Elapsed Time: 0:00:00||"
     ]
    },
    {
     "name": "stderr",
     "output_type": "stream",
     "text": [
      "\r",
      "Episode 5|Iteration 2|reward:  114.0|last_reward_at:    2|Elapsed Time: 0:00:00||"
     ]
    },
    {
     "name": "stderr",
     "output_type": "stream",
     "text": [
      "\r",
      "Episode 5|Iteration 3|reward:  128.0|last_reward_at:    2|Elapsed Time: 0:00:00||"
     ]
    },
    {
     "name": "stderr",
     "output_type": "stream",
     "text": [
      "\r",
      "Episode 5|Iteration 3|reward:  128.0|last_reward_at:    3|Elapsed Time: 0:00:00||"
     ]
    },
    {
     "name": "stderr",
     "output_type": "stream",
     "text": [
      "\r",
      "Episode 5|Iteration 4|reward:  228.0|last_reward_at:    3|Elapsed Time: 0:00:00||"
     ]
    },
    {
     "name": "stderr",
     "output_type": "stream",
     "text": [
      "\r",
      "Episode 5|Iteration 4|reward:  228.0|last_reward_at:    4|Elapsed Time: 0:00:00||"
     ]
    },
    {
     "name": "stderr",
     "output_type": "stream",
     "text": [
      "\r",
      "Episode 5|Iteration 5|reward:  242.0|last_reward_at:    4|Elapsed Time: 0:00:00||"
     ]
    },
    {
     "name": "stderr",
     "output_type": "stream",
     "text": [
      "\r",
      "Episode 5|Iteration 5|reward:  242.0|last_reward_at:    5|Elapsed Time: 0:00:00||"
     ]
    },
    {
     "name": "stderr",
     "output_type": "stream",
     "text": [
      "\r",
      "Episode 5|Iteration 6|reward:  342.0|last_reward_at:    5|Elapsed Time: 0:00:00||"
     ]
    },
    {
     "name": "stderr",
     "output_type": "stream",
     "text": [
      "\r",
      "Episode 5|Iteration 6|reward:  342.0|last_reward_at:    6|Elapsed Time: 0:00:00||"
     ]
    },
    {
     "name": "stderr",
     "output_type": "stream",
     "text": [
      "\r",
      "Episode 5|Iteration 7|reward:  356.0|last_reward_at:    6|Elapsed Time: 0:00:00||"
     ]
    },
    {
     "name": "stderr",
     "output_type": "stream",
     "text": [
      "\r",
      "Episode 5|Iteration 7|reward:  356.0|last_reward_at:    7|Elapsed Time: 0:00:00||"
     ]
    },
    {
     "name": "stderr",
     "output_type": "stream",
     "text": [
      "\r",
      "Episode 5|Iteration 8|reward:  456.0|last_reward_at:    7|Elapsed Time: 0:00:00||"
     ]
    },
    {
     "name": "stderr",
     "output_type": "stream",
     "text": [
      "\r",
      "Episode 5|Iteration 8|reward:  456.0|last_reward_at:    8|Elapsed Time: 0:00:00||"
     ]
    },
    {
     "name": "stderr",
     "output_type": "stream",
     "text": [
      "\r",
      "Episode 5|Iteration 9|reward:  470.0|last_reward_at:    8|Elapsed Time: 0:00:00||"
     ]
    },
    {
     "name": "stderr",
     "output_type": "stream",
     "text": [
      "\r",
      "Episode 5|Iteration 9|reward:  470.0|last_reward_at:    9|Elapsed Time: 0:00:00||"
     ]
    },
    {
     "name": "stderr",
     "output_type": "stream",
     "text": [
      "\r",
      "Episode 5|Iteration 16|reward:  470.0|last_reward_at:    9|Elapsed Time: 0:00:00||"
     ]
    },
    {
     "name": "stderr",
     "output_type": "stream",
     "text": [
      "\r",
      "Episode 5|Iteration 23|reward:  470.0|last_reward_at:    9|Elapsed Time: 0:00:00||"
     ]
    },
    {
     "name": "stderr",
     "output_type": "stream",
     "text": [
      "\r",
      "Episode 5|Iteration 28|reward:  470.0|last_reward_at:    9|Elapsed Time: 0:00:00||"
     ]
    },
    {
     "name": "stderr",
     "output_type": "stream",
     "text": [
      "\r",
      "Episode 5|Iteration 34|reward:  470.0|last_reward_at:    9|Elapsed Time: 0:00:00||"
     ]
    },
    {
     "name": "stderr",
     "output_type": "stream",
     "text": [
      "\r",
      "Episode 5|Iteration 38|reward:  470.0|last_reward_at:    9|Elapsed Time: 0:00:00||"
     ]
    },
    {
     "name": "stderr",
     "output_type": "stream",
     "text": [
      "\r",
      "Episode 5|Iteration 44|reward:  470.0|last_reward_at:    9|Elapsed Time: 0:00:00||"
     ]
    },
    {
     "name": "stderr",
     "output_type": "stream",
     "text": [
      "\r",
      "Episode 5|Iteration 51|reward:  470.0|last_reward_at:    9|Elapsed Time: 0:00:00||"
     ]
    },
    {
     "name": "stderr",
     "output_type": "stream",
     "text": [
      "\r",
      "Episode 5|Iteration 52|reward:  570.0|last_reward_at:    9|Elapsed Time: 0:00:00||"
     ]
    },
    {
     "name": "stderr",
     "output_type": "stream",
     "text": [
      "\r",
      "Episode 5|Iteration 52|reward:  570.0|last_reward_at:   52|Elapsed Time: 0:00:00||"
     ]
    },
    {
     "name": "stderr",
     "output_type": "stream",
     "text": [
      "\r",
      "Episode 5|Iteration 58|reward:  570.0|last_reward_at:   52|Elapsed Time: 0:00:00||"
     ]
    },
    {
     "name": "stderr",
     "output_type": "stream",
     "text": [
      "\r",
      "Episode 5|Iteration 65|reward:  570.0|last_reward_at:   52|Elapsed Time: 0:00:01||"
     ]
    },
    {
     "name": "stderr",
     "output_type": "stream",
     "text": [
      "\r",
      "Episode 5|Iteration 69|reward:  570.0|last_reward_at:   52|Elapsed Time: 0:00:01||"
     ]
    },
    {
     "name": "stderr",
     "output_type": "stream",
     "text": [
      "\r",
      "Episode 5|Iteration 75|reward:  570.0|last_reward_at:   52|Elapsed Time: 0:00:01||"
     ]
    },
    {
     "name": "stderr",
     "output_type": "stream",
     "text": [
      "\r",
      "Episode 5|Iteration 78|reward:  584.0|last_reward_at:   52|Elapsed Time: 0:00:01||"
     ]
    },
    {
     "name": "stderr",
     "output_type": "stream",
     "text": [
      "\r",
      "Episode 5|Iteration 78|reward:  584.0|last_reward_at:   78|Elapsed Time: 0:00:01||"
     ]
    },
    {
     "name": "stderr",
     "output_type": "stream",
     "text": [
      "\r",
      "Episode 5|Iteration 79|reward:  590.0|last_reward_at:   78|Elapsed Time: 0:00:01||"
     ]
    },
    {
     "name": "stderr",
     "output_type": "stream",
     "text": [
      "\r",
      "Episode 5|Iteration 79|reward:  590.0|last_reward_at:   79|Elapsed Time: 0:00:01||"
     ]
    },
    {
     "name": "stderr",
     "output_type": "stream",
     "text": [
      "\r",
      "Episode 5|Iteration 84|reward:  590.0|last_reward_at:   79|Elapsed Time: 0:00:01||"
     ]
    },
    {
     "name": "stderr",
     "output_type": "stream",
     "text": [
      "\r",
      "Episode 5|Iteration 89|reward:  690.0|last_reward_at:   79|Elapsed Time: 0:00:01||"
     ]
    },
    {
     "name": "stderr",
     "output_type": "stream",
     "text": [
      "\r",
      "Episode 5|Iteration 89|reward:  690.0|last_reward_at:   89|Elapsed Time: 0:00:01||"
     ]
    },
    {
     "name": "stderr",
     "output_type": "stream",
     "text": [
      "\r",
      "Episode 5|Iteration 96|reward:  690.0|last_reward_at:   89|Elapsed Time: 0:00:01||"
     ]
    },
    {
     "name": "stderr",
     "output_type": "stream",
     "text": [
      "\r",
      "Episode 5|Iteration 102|reward:  690.0|last_reward_at:   89|Elapsed Time: 0:00:01||"
     ]
    },
    {
     "name": "stderr",
     "output_type": "stream",
     "text": [
      "\r",
      "Episode 5|Iteration 106|reward:  704.0|last_reward_at:   89|Elapsed Time: 0:00:01||"
     ]
    },
    {
     "name": "stderr",
     "output_type": "stream",
     "text": [
      "\r",
      "Episode 5|Iteration 106|reward:  704.0|last_reward_at:  106|Elapsed Time: 0:00:01||"
     ]
    },
    {
     "name": "stderr",
     "output_type": "stream",
     "text": [
      "\r",
      "Episode 5|Iteration 113|reward:  704.0|last_reward_at:  106|Elapsed Time: 0:00:01||"
     ]
    },
    {
     "name": "stderr",
     "output_type": "stream",
     "text": [
      "\r",
      "Episode 5|Iteration 119|reward:  704.0|last_reward_at:  106|Elapsed Time: 0:00:01||"
     ]
    },
    {
     "name": "stderr",
     "output_type": "stream",
     "text": [
      "\r",
      "Episode 5|Iteration 125|reward:  704.0|last_reward_at:  106|Elapsed Time: 0:00:02||"
     ]
    },
    {
     "name": "stderr",
     "output_type": "stream",
     "text": [
      "\r",
      "Episode 5|Iteration 130|reward:  704.0|last_reward_at:  106|Elapsed Time: 0:00:02||"
     ]
    },
    {
     "name": "stderr",
     "output_type": "stream",
     "text": [
      "\r",
      "Episode 5|Iteration 136|reward:  704.0|last_reward_at:  106|Elapsed Time: 0:00:02||"
     ]
    },
    {
     "name": "stderr",
     "output_type": "stream",
     "text": [
      "\r",
      "Episode 5|Iteration 143|reward:  704.0|last_reward_at:  106|Elapsed Time: 0:00:02||"
     ]
    },
    {
     "name": "stderr",
     "output_type": "stream",
     "text": [
      "\r",
      "Episode 5|Iteration 150|reward:  704.0|last_reward_at:  106|Elapsed Time: 0:00:02||"
     ]
    },
    {
     "name": "stderr",
     "output_type": "stream",
     "text": [
      "\r",
      "Episode 5|Iteration 157|reward:  704.0|last_reward_at:  106|Elapsed Time: 0:00:02||"
     ]
    },
    {
     "name": "stderr",
     "output_type": "stream",
     "text": [
      "\r",
      "Episode 5|Iteration 164|reward:  704.0|last_reward_at:  106|Elapsed Time: 0:00:02||"
     ]
    },
    {
     "name": "stderr",
     "output_type": "stream",
     "text": [
      "\r",
      "Episode 5|Iteration 171|reward:  704.0|last_reward_at:  106|Elapsed Time: 0:00:02||"
     ]
    },
    {
     "name": "stderr",
     "output_type": "stream",
     "text": [
      "\r",
      "Episode 5|Iteration 178|reward:  704.0|last_reward_at:  106|Elapsed Time: 0:00:02||"
     ]
    },
    {
     "name": "stderr",
     "output_type": "stream",
     "text": [
      "\r",
      "Episode 5|Iteration 183|reward:  704.0|last_reward_at:  106|Elapsed Time: 0:00:02||"
     ]
    },
    {
     "name": "stderr",
     "output_type": "stream",
     "text": [
      "\r",
      "Episode 5|Iteration 190|reward:  704.0|last_reward_at:  106|Elapsed Time: 0:00:03||"
     ]
    },
    {
     "name": "stderr",
     "output_type": "stream",
     "text": [
      "\r",
      "Episode 5|Iteration 196|reward:  704.0|last_reward_at:  106|Elapsed Time: 0:00:03||"
     ]
    },
    {
     "name": "stderr",
     "output_type": "stream",
     "text": [
      "\r",
      "Episode 5|Iteration 203|reward:  704.0|last_reward_at:  106|Elapsed Time: 0:00:03||"
     ]
    },
    {
     "name": "stderr",
     "output_type": "stream",
     "text": [
      "\r",
      "Episode 5|Iteration 209|reward:  704.0|last_reward_at:  106|Elapsed Time: 0:00:03||"
     ]
    },
    {
     "name": "stderr",
     "output_type": "stream",
     "text": [
      "\r",
      "Episode 5|Iteration 217|reward:  704.0|last_reward_at:  106|Elapsed Time: 0:00:03||"
     ]
    },
    {
     "name": "stderr",
     "output_type": "stream",
     "text": [
      "\r",
      "Episode 5|Iteration 225|reward:  704.0|last_reward_at:  106|Elapsed Time: 0:00:03||"
     ]
    },
    {
     "name": "stderr",
     "output_type": "stream",
     "text": [
      "\r",
      "Episode 5|Iteration 232|reward:  704.0|last_reward_at:  106|Elapsed Time: 0:00:03||"
     ]
    },
    {
     "name": "stderr",
     "output_type": "stream",
     "text": [
      "\r",
      "Episode 5|Iteration 239|reward:  704.0|last_reward_at:  106|Elapsed Time: 0:00:03||"
     ]
    },
    {
     "name": "stderr",
     "output_type": "stream",
     "text": [
      "\r",
      "Episode 5|Iteration 244|reward:  704.0|last_reward_at:  106|Elapsed Time: 0:00:03||"
     ]
    },
    {
     "name": "stderr",
     "output_type": "stream",
     "text": [
      "\r",
      "Episode 5|Iteration 250|reward:  704.0|last_reward_at:  106|Elapsed Time: 0:00:03||"
     ]
    },
    {
     "name": "stderr",
     "output_type": "stream",
     "text": [
      "\r",
      "Episode 5|Iteration 257|reward:  704.0|last_reward_at:  106|Elapsed Time: 0:00:04||"
     ]
    },
    {
     "name": "stderr",
     "output_type": "stream",
     "text": [
      "\r",
      "Episode 5|Iteration 265|reward:  704.0|last_reward_at:  106|Elapsed Time: 0:00:04||"
     ]
    },
    {
     "name": "stderr",
     "output_type": "stream",
     "text": [
      "\r",
      "Episode 5|Iteration 273|reward:  704.0|last_reward_at:  106|Elapsed Time: 0:00:04||"
     ]
    },
    {
     "name": "stderr",
     "output_type": "stream",
     "text": [
      "\r",
      "Episode 5|Iteration 281|reward:  704.0|last_reward_at:  106|Elapsed Time: 0:00:04||"
     ]
    },
    {
     "name": "stderr",
     "output_type": "stream",
     "text": [
      "\r",
      "Episode 5|Iteration 289|reward:  704.0|last_reward_at:  106|Elapsed Time: 0:00:04||"
     ]
    },
    {
     "name": "stderr",
     "output_type": "stream",
     "text": [
      "\r",
      "Episode 5|Iteration 296|reward: 5704.0|last_reward_at:  106|Elapsed Time: 0:00:04||"
     ]
    },
    {
     "name": "stderr",
     "output_type": "stream",
     "text": [
      "\r",
      "Episode 5|Iteration 296|reward: 5704.0|last_reward_at:  296|Elapsed Time: 0:00:04||"
     ]
    },
    {
     "name": "stderr",
     "output_type": "stream",
     "text": [
      "\n"
     ]
    },
    {
     "name": "stdout",
     "output_type": "stream",
     "text": [
      "  Episode 5 ended at t=296 \n",
      "  Breakdown [Reward/NoReward (Success rate)]\n",
      "    explore-local: 0/0 (NaN)\n",
      "    explore-remote: 0/0 (NaN)\n",
      "    explore-connect: 0/0 (NaN)\n",
      "    exploit-local: 8/1 (0.89)\n",
      "    exploit-remote: 0/0 (NaN)\n",
      "    exploit-connect: 7/280 (0.02)\n",
      "  exploit deflected to exploration: 0\n",
      "  ## Episode: 6/10 'Exploiting DQL' ϵ=0.0000, γ=0.15, lr=0.01, replaymemory=10000,\n",
      "batch=256, target_update=5\n"
     ]
    },
    {
     "name": "stderr",
     "output_type": "stream",
     "text": [
      "\r",
      "Episode 6|Iteration 0|reward: ------|last_reward_at: ----|Elapsed Time: 0:00:00||"
     ]
    },
    {
     "name": "stderr",
     "output_type": "stream",
     "text": [
      "\r",
      "Episode 6|Iteration 1|reward:   14.0|last_reward_at: ----|Elapsed Time: 0:00:00||"
     ]
    },
    {
     "name": "stderr",
     "output_type": "stream",
     "text": [
      "\r",
      "Episode 6|Iteration 1|reward:   14.0|last_reward_at:    1|Elapsed Time: 0:00:00||"
     ]
    },
    {
     "name": "stderr",
     "output_type": "stream",
     "text": [
      "\r",
      "Episode 6|Iteration 2|reward:  114.0|last_reward_at:    1|Elapsed Time: 0:00:00||"
     ]
    },
    {
     "name": "stderr",
     "output_type": "stream",
     "text": [
      "\r",
      "Episode 6|Iteration 2|reward:  114.0|last_reward_at:    2|Elapsed Time: 0:00:00||"
     ]
    },
    {
     "name": "stderr",
     "output_type": "stream",
     "text": [
      "\r",
      "Episode 6|Iteration 3|reward:  128.0|last_reward_at:    2|Elapsed Time: 0:00:00||"
     ]
    },
    {
     "name": "stderr",
     "output_type": "stream",
     "text": [
      "\r",
      "Episode 6|Iteration 3|reward:  128.0|last_reward_at:    3|Elapsed Time: 0:00:00||"
     ]
    },
    {
     "name": "stderr",
     "output_type": "stream",
     "text": [
      "\r",
      "Episode 6|Iteration 4|reward:  228.0|last_reward_at:    3|Elapsed Time: 0:00:00||"
     ]
    },
    {
     "name": "stderr",
     "output_type": "stream",
     "text": [
      "\r",
      "Episode 6|Iteration 4|reward:  228.0|last_reward_at:    4|Elapsed Time: 0:00:00||"
     ]
    },
    {
     "name": "stderr",
     "output_type": "stream",
     "text": [
      "\r",
      "Episode 6|Iteration 5|reward:  242.0|last_reward_at:    4|Elapsed Time: 0:00:00||"
     ]
    },
    {
     "name": "stderr",
     "output_type": "stream",
     "text": [
      "\r",
      "Episode 6|Iteration 5|reward:  242.0|last_reward_at:    5|Elapsed Time: 0:00:00||"
     ]
    },
    {
     "name": "stderr",
     "output_type": "stream",
     "text": [
      "\r",
      "Episode 6|Iteration 7|reward:  342.0|last_reward_at:    5|Elapsed Time: 0:00:00||"
     ]
    },
    {
     "name": "stderr",
     "output_type": "stream",
     "text": [
      "\r",
      "Episode 6|Iteration 7|reward:  342.0|last_reward_at:    7|Elapsed Time: 0:00:00||"
     ]
    },
    {
     "name": "stderr",
     "output_type": "stream",
     "text": [
      "\r",
      "Episode 6|Iteration 8|reward:  353.0|last_reward_at:    7|Elapsed Time: 0:00:00||"
     ]
    },
    {
     "name": "stderr",
     "output_type": "stream",
     "text": [
      "\r",
      "Episode 6|Iteration 8|reward:  353.0|last_reward_at:    8|Elapsed Time: 0:00:00||"
     ]
    },
    {
     "name": "stderr",
     "output_type": "stream",
     "text": [
      "\r",
      "Episode 6|Iteration 15|reward:  353.0|last_reward_at:    8|Elapsed Time: 0:00:00||"
     ]
    },
    {
     "name": "stderr",
     "output_type": "stream",
     "text": [
      "\r",
      "Episode 6|Iteration 16|reward:  362.0|last_reward_at:    8|Elapsed Time: 0:00:00||"
     ]
    },
    {
     "name": "stderr",
     "output_type": "stream",
     "text": [
      "\r",
      "Episode 6|Iteration 16|reward:  362.0|last_reward_at:   16|Elapsed Time: 0:00:00||"
     ]
    },
    {
     "name": "stderr",
     "output_type": "stream",
     "text": [
      "\r",
      "Episode 6|Iteration 20|reward:  462.0|last_reward_at:   16|Elapsed Time: 0:00:00||"
     ]
    },
    {
     "name": "stderr",
     "output_type": "stream",
     "text": [
      "\r",
      "Episode 6|Iteration 20|reward:  462.0|last_reward_at:   20|Elapsed Time: 0:00:00||"
     ]
    },
    {
     "name": "stderr",
     "output_type": "stream",
     "text": [
      "\r",
      "Episode 6|Iteration 21|reward:  476.0|last_reward_at:   20|Elapsed Time: 0:00:00||"
     ]
    },
    {
     "name": "stderr",
     "output_type": "stream",
     "text": [
      "\r",
      "Episode 6|Iteration 21|reward:  476.0|last_reward_at:   21|Elapsed Time: 0:00:00||"
     ]
    },
    {
     "name": "stderr",
     "output_type": "stream",
     "text": [
      "\r",
      "Episode 6|Iteration 24|reward:  576.0|last_reward_at:   21|Elapsed Time: 0:00:00||"
     ]
    },
    {
     "name": "stderr",
     "output_type": "stream",
     "text": [
      "\r",
      "Episode 6|Iteration 24|reward:  576.0|last_reward_at:   24|Elapsed Time: 0:00:00||"
     ]
    },
    {
     "name": "stderr",
     "output_type": "stream",
     "text": [
      "\r",
      "Episode 6|Iteration 25|reward:  590.0|last_reward_at:   24|Elapsed Time: 0:00:00||"
     ]
    },
    {
     "name": "stderr",
     "output_type": "stream",
     "text": [
      "\r",
      "Episode 6|Iteration 25|reward:  590.0|last_reward_at:   25|Elapsed Time: 0:00:00||"
     ]
    },
    {
     "name": "stderr",
     "output_type": "stream",
     "text": [
      "\r",
      "Episode 6|Iteration 30|reward:  690.0|last_reward_at:   25|Elapsed Time: 0:00:00||"
     ]
    },
    {
     "name": "stderr",
     "output_type": "stream",
     "text": [
      "\r",
      "Episode 6|Iteration 30|reward:  690.0|last_reward_at:   30|Elapsed Time: 0:00:00||"
     ]
    },
    {
     "name": "stderr",
     "output_type": "stream",
     "text": [
      "\r",
      "Episode 6|Iteration 31|reward:  704.0|last_reward_at:   30|Elapsed Time: 0:00:00||"
     ]
    },
    {
     "name": "stderr",
     "output_type": "stream",
     "text": [
      "\r",
      "Episode 6|Iteration 31|reward:  704.0|last_reward_at:   31|Elapsed Time: 0:00:00||"
     ]
    },
    {
     "name": "stderr",
     "output_type": "stream",
     "text": [
      "\r",
      "Episode 6|Iteration 33|reward:  804.0|last_reward_at:   31|Elapsed Time: 0:00:00||"
     ]
    },
    {
     "name": "stderr",
     "output_type": "stream",
     "text": [
      "\r",
      "Episode 6|Iteration 33|reward:  804.0|last_reward_at:   33|Elapsed Time: 0:00:00||"
     ]
    },
    {
     "name": "stderr",
     "output_type": "stream",
     "text": [
      "\r",
      "Episode 6|Iteration 36|reward:  818.0|last_reward_at:   33|Elapsed Time: 0:00:00||"
     ]
    },
    {
     "name": "stderr",
     "output_type": "stream",
     "text": [
      "\r",
      "Episode 6|Iteration 36|reward:  818.0|last_reward_at:   36|Elapsed Time: 0:00:00||"
     ]
    },
    {
     "name": "stderr",
     "output_type": "stream",
     "text": [
      "\r",
      "Episode 6|Iteration 40|reward:  824.0|last_reward_at:   36|Elapsed Time: 0:00:00||"
     ]
    },
    {
     "name": "stderr",
     "output_type": "stream",
     "text": [
      "\r",
      "Episode 6|Iteration 40|reward:  824.0|last_reward_at:   40|Elapsed Time: 0:00:00||"
     ]
    },
    {
     "name": "stderr",
     "output_type": "stream",
     "text": [
      "\r",
      "Episode 6|Iteration 46|reward:  824.0|last_reward_at:   40|Elapsed Time: 0:00:00||"
     ]
    },
    {
     "name": "stderr",
     "output_type": "stream",
     "text": [
      "\r",
      "Episode 6|Iteration 46|reward: 5824.0|last_reward_at:   40|Elapsed Time: 0:00:00||"
     ]
    },
    {
     "name": "stderr",
     "output_type": "stream",
     "text": [
      "\r",
      "Episode 6|Iteration 46|reward: 5824.0|last_reward_at:   46|Elapsed Time: 0:00:00||"
     ]
    },
    {
     "name": "stderr",
     "output_type": "stream",
     "text": [
      "\n"
     ]
    },
    {
     "name": "stdout",
     "output_type": "stream",
     "text": [
      "  Episode 6 ended at t=46 \n",
      "  Breakdown [Reward/NoReward (Success rate)]\n",
      "    explore-local: 1/0 (1.00)\n",
      "    explore-remote: 0/0 (NaN)\n",
      "    explore-connect: 0/0 (NaN)\n",
      "    exploit-local: 9/4 (0.69)\n",
      "    exploit-remote: 0/0 (NaN)\n",
      "    exploit-connect: 8/24 (0.25)\n",
      "  exploit deflected to exploration: 1\n",
      "  ## Episode: 7/10 'Exploiting DQL' ϵ=0.0000, γ=0.15, lr=0.01, replaymemory=10000,\n",
      "batch=256, target_update=5\n"
     ]
    },
    {
     "name": "stderr",
     "output_type": "stream",
     "text": [
      "\r",
      "Episode 7|Iteration 0|reward: ------|last_reward_at: ----|Elapsed Time: 0:00:00||"
     ]
    },
    {
     "name": "stderr",
     "output_type": "stream",
     "text": [
      "\r",
      "Episode 7|Iteration 1|reward:   14.0|last_reward_at: ----|Elapsed Time: 0:00:00||"
     ]
    },
    {
     "name": "stderr",
     "output_type": "stream",
     "text": [
      "\r",
      "Episode 7|Iteration 1|reward:   14.0|last_reward_at:    1|Elapsed Time: 0:00:00||"
     ]
    },
    {
     "name": "stderr",
     "output_type": "stream",
     "text": [
      "\r",
      "Episode 7|Iteration 2|reward:  114.0|last_reward_at:    1|Elapsed Time: 0:00:00||"
     ]
    },
    {
     "name": "stderr",
     "output_type": "stream",
     "text": [
      "\r",
      "Episode 7|Iteration 2|reward:  114.0|last_reward_at:    2|Elapsed Time: 0:00:00||"
     ]
    },
    {
     "name": "stderr",
     "output_type": "stream",
     "text": [
      "\r",
      "Episode 7|Iteration 3|reward:  128.0|last_reward_at:    2|Elapsed Time: 0:00:00||"
     ]
    },
    {
     "name": "stderr",
     "output_type": "stream",
     "text": [
      "\r",
      "Episode 7|Iteration 3|reward:  128.0|last_reward_at:    3|Elapsed Time: 0:00:00||"
     ]
    },
    {
     "name": "stderr",
     "output_type": "stream",
     "text": [
      "\r",
      "Episode 7|Iteration 4|reward:  228.0|last_reward_at:    3|Elapsed Time: 0:00:00||"
     ]
    },
    {
     "name": "stderr",
     "output_type": "stream",
     "text": [
      "\r",
      "Episode 7|Iteration 4|reward:  228.0|last_reward_at:    4|Elapsed Time: 0:00:00||"
     ]
    },
    {
     "name": "stderr",
     "output_type": "stream",
     "text": [
      "\r",
      "Episode 7|Iteration 5|reward:  242.0|last_reward_at:    4|Elapsed Time: 0:00:00||"
     ]
    },
    {
     "name": "stderr",
     "output_type": "stream",
     "text": [
      "\r",
      "Episode 7|Iteration 5|reward:  242.0|last_reward_at:    5|Elapsed Time: 0:00:00||"
     ]
    },
    {
     "name": "stderr",
     "output_type": "stream",
     "text": [
      "\r",
      "Episode 7|Iteration 6|reward:  342.0|last_reward_at:    5|Elapsed Time: 0:00:00||"
     ]
    },
    {
     "name": "stderr",
     "output_type": "stream",
     "text": [
      "\r",
      "Episode 7|Iteration 6|reward:  342.0|last_reward_at:    6|Elapsed Time: 0:00:00||"
     ]
    },
    {
     "name": "stderr",
     "output_type": "stream",
     "text": [
      "\r",
      "Episode 7|Iteration 7|reward:  356.0|last_reward_at:    6|Elapsed Time: 0:00:00||"
     ]
    },
    {
     "name": "stderr",
     "output_type": "stream",
     "text": [
      "\r",
      "Episode 7|Iteration 7|reward:  356.0|last_reward_at:    7|Elapsed Time: 0:00:00||"
     ]
    },
    {
     "name": "stderr",
     "output_type": "stream",
     "text": [
      "\r",
      "Episode 7|Iteration 8|reward:  456.0|last_reward_at:    7|Elapsed Time: 0:00:00||"
     ]
    },
    {
     "name": "stderr",
     "output_type": "stream",
     "text": [
      "\r",
      "Episode 7|Iteration 8|reward:  456.0|last_reward_at:    8|Elapsed Time: 0:00:00||"
     ]
    },
    {
     "name": "stderr",
     "output_type": "stream",
     "text": [
      "\r",
      "Episode 7|Iteration 10|reward:  470.0|last_reward_at:    8|Elapsed Time: 0:00:00||"
     ]
    },
    {
     "name": "stderr",
     "output_type": "stream",
     "text": [
      "\r",
      "Episode 7|Iteration 10|reward:  470.0|last_reward_at:   10|Elapsed Time: 0:00:00||"
     ]
    },
    {
     "name": "stderr",
     "output_type": "stream",
     "text": [
      "\r",
      "Episode 7|Iteration 11|reward:  570.0|last_reward_at:   10|Elapsed Time: 0:00:00||"
     ]
    },
    {
     "name": "stderr",
     "output_type": "stream",
     "text": [
      "\r",
      "Episode 7|Iteration 11|reward:  570.0|last_reward_at:   11|Elapsed Time: 0:00:00||"
     ]
    },
    {
     "name": "stderr",
     "output_type": "stream",
     "text": [
      "\r",
      "Episode 7|Iteration 14|reward:  584.0|last_reward_at:   11|Elapsed Time: 0:00:00||"
     ]
    },
    {
     "name": "stderr",
     "output_type": "stream",
     "text": [
      "\r",
      "Episode 7|Iteration 14|reward:  584.0|last_reward_at:   14|Elapsed Time: 0:00:00||"
     ]
    },
    {
     "name": "stderr",
     "output_type": "stream",
     "text": [
      "\r",
      "Episode 7|Iteration 15|reward:  684.0|last_reward_at:   14|Elapsed Time: 0:00:00||"
     ]
    },
    {
     "name": "stderr",
     "output_type": "stream",
     "text": [
      "\r",
      "Episode 7|Iteration 15|reward:  684.0|last_reward_at:   15|Elapsed Time: 0:00:00||"
     ]
    },
    {
     "name": "stderr",
     "output_type": "stream",
     "text": [
      "\r",
      "Episode 7|Iteration 18|reward:  698.0|last_reward_at:   15|Elapsed Time: 0:00:00||"
     ]
    },
    {
     "name": "stderr",
     "output_type": "stream",
     "text": [
      "\r",
      "Episode 7|Iteration 18|reward:  698.0|last_reward_at:   18|Elapsed Time: 0:00:00||"
     ]
    },
    {
     "name": "stderr",
     "output_type": "stream",
     "text": [
      "\r",
      "Episode 7|Iteration 20|reward:  798.0|last_reward_at:   18|Elapsed Time: 0:00:00||"
     ]
    },
    {
     "name": "stderr",
     "output_type": "stream",
     "text": [
      "\r",
      "Episode 7|Iteration 20|reward:  798.0|last_reward_at:   20|Elapsed Time: 0:00:00||"
     ]
    },
    {
     "name": "stderr",
     "output_type": "stream",
     "text": [
      "\r",
      "Episode 7|Iteration 24|reward:  812.0|last_reward_at:   20|Elapsed Time: 0:00:00||"
     ]
    },
    {
     "name": "stderr",
     "output_type": "stream",
     "text": [
      "\r",
      "Episode 7|Iteration 24|reward:  812.0|last_reward_at:   24|Elapsed Time: 0:00:00||"
     ]
    },
    {
     "name": "stderr",
     "output_type": "stream",
     "text": [
      "\r",
      "Episode 7|Iteration 25|reward:  912.0|last_reward_at:   24|Elapsed Time: 0:00:00||"
     ]
    },
    {
     "name": "stderr",
     "output_type": "stream",
     "text": [
      "\r",
      "Episode 7|Iteration 25|reward:  912.0|last_reward_at:   25|Elapsed Time: 0:00:00||"
     ]
    },
    {
     "name": "stderr",
     "output_type": "stream",
     "text": [
      "\r",
      "Episode 7|Iteration 26|reward:  926.0|last_reward_at:   25|Elapsed Time: 0:00:00||"
     ]
    },
    {
     "name": "stderr",
     "output_type": "stream",
     "text": [
      "\r",
      "Episode 7|Iteration 26|reward:  926.0|last_reward_at:   26|Elapsed Time: 0:00:00||"
     ]
    },
    {
     "name": "stderr",
     "output_type": "stream",
     "text": [
      "\r",
      "Episode 7|Iteration 27|reward: 1026.0|last_reward_at:   26|Elapsed Time: 0:00:00||"
     ]
    },
    {
     "name": "stderr",
     "output_type": "stream",
     "text": [
      "\r",
      "Episode 7|Iteration 27|reward: 1026.0|last_reward_at:   27|Elapsed Time: 0:00:00||"
     ]
    },
    {
     "name": "stderr",
     "output_type": "stream",
     "text": [
      "\r",
      "Episode 7|Iteration 35|reward: 1026.0|last_reward_at:   27|Elapsed Time: 0:00:00||"
     ]
    },
    {
     "name": "stderr",
     "output_type": "stream",
     "text": [
      "\r",
      "Episode 7|Iteration 38|reward: 1028.0|last_reward_at:   27|Elapsed Time: 0:00:00||"
     ]
    },
    {
     "name": "stderr",
     "output_type": "stream",
     "text": [
      "\r",
      "Episode 7|Iteration 38|reward: 1028.0|last_reward_at:   38|Elapsed Time: 0:00:00||"
     ]
    },
    {
     "name": "stderr",
     "output_type": "stream",
     "text": [
      "\r",
      "Episode 7|Iteration 40|reward: 1042.0|last_reward_at:   38|Elapsed Time: 0:00:00||"
     ]
    },
    {
     "name": "stderr",
     "output_type": "stream",
     "text": [
      "\r",
      "Episode 7|Iteration 40|reward: 1042.0|last_reward_at:   40|Elapsed Time: 0:00:00||"
     ]
    },
    {
     "name": "stderr",
     "output_type": "stream",
     "text": [
      "\r",
      "Episode 7|Iteration 41|reward: 1142.0|last_reward_at:   40|Elapsed Time: 0:00:00||"
     ]
    },
    {
     "name": "stderr",
     "output_type": "stream",
     "text": [
      "\r",
      "Episode 7|Iteration 41|reward: 1142.0|last_reward_at:   41|Elapsed Time: 0:00:00||"
     ]
    },
    {
     "name": "stderr",
     "output_type": "stream",
     "text": [
      "\r",
      "Episode 7|Iteration 42|reward: 1156.0|last_reward_at:   41|Elapsed Time: 0:00:00||"
     ]
    },
    {
     "name": "stderr",
     "output_type": "stream",
     "text": [
      "\r",
      "Episode 7|Iteration 42|reward: 1156.0|last_reward_at:   42|Elapsed Time: 0:00:00||"
     ]
    },
    {
     "name": "stderr",
     "output_type": "stream",
     "text": [
      "\r",
      "Episode 7|Iteration 43|reward: 2156.0|last_reward_at:   42|Elapsed Time: 0:00:00||"
     ]
    },
    {
     "name": "stderr",
     "output_type": "stream",
     "text": [
      "\r",
      "Episode 7|Iteration 43|reward: 2156.0|last_reward_at:   43|Elapsed Time: 0:00:00||"
     ]
    },
    {
     "name": "stderr",
     "output_type": "stream",
     "text": [
      "\r",
      "Episode 7|Iteration 49|reward: 2156.0|last_reward_at:   43|Elapsed Time: 0:00:00||"
     ]
    },
    {
     "name": "stderr",
     "output_type": "stream",
     "text": [
      "\r",
      "Episode 7|Iteration 54|reward: 2156.0|last_reward_at:   43|Elapsed Time: 0:00:00||"
     ]
    },
    {
     "name": "stderr",
     "output_type": "stream",
     "text": [
      "\r",
      "Episode 7|Iteration 56|reward: 7156.0|last_reward_at:   43|Elapsed Time: 0:00:01||"
     ]
    },
    {
     "name": "stderr",
     "output_type": "stream",
     "text": [
      "\r",
      "Episode 7|Iteration 56|reward: 7156.0|last_reward_at:   56|Elapsed Time: 0:00:01||"
     ]
    },
    {
     "name": "stderr",
     "output_type": "stream",
     "text": [
      "\n"
     ]
    },
    {
     "name": "stdout",
     "output_type": "stream",
     "text": [
      "  Episode 7 ended at t=56 \n",
      "  Breakdown [Reward/NoReward (Success rate)]\n",
      "    explore-local: 0/0 (NaN)\n",
      "    explore-remote: 0/0 (NaN)\n",
      "    explore-connect: 0/0 (NaN)\n",
      "    exploit-local: 11/2 (0.85)\n",
      "    exploit-remote: 1/0 (1.00)\n",
      "    exploit-connect: 12/30 (0.29)\n",
      "  exploit deflected to exploration: 0\n",
      "  ## Episode: 8/10 'Exploiting DQL' ϵ=0.0000, γ=0.15, lr=0.01, replaymemory=10000,\n",
      "batch=256, target_update=5\n"
     ]
    },
    {
     "name": "stderr",
     "output_type": "stream",
     "text": [
      "\r",
      "Episode 8|Iteration 0|reward: ------|last_reward_at: ----|Elapsed Time: 0:00:00||"
     ]
    },
    {
     "name": "stderr",
     "output_type": "stream",
     "text": [
      "\r",
      "Episode 8|Iteration 1|reward:   14.0|last_reward_at: ----|Elapsed Time: 0:00:00||"
     ]
    },
    {
     "name": "stderr",
     "output_type": "stream",
     "text": [
      "\r",
      "Episode 8|Iteration 1|reward:   14.0|last_reward_at:    1|Elapsed Time: 0:00:00||"
     ]
    },
    {
     "name": "stderr",
     "output_type": "stream",
     "text": [
      "\r",
      "Episode 8|Iteration 2|reward:  114.0|last_reward_at:    1|Elapsed Time: 0:00:00||"
     ]
    },
    {
     "name": "stderr",
     "output_type": "stream",
     "text": [
      "\r",
      "Episode 8|Iteration 2|reward:  114.0|last_reward_at:    2|Elapsed Time: 0:00:00||"
     ]
    },
    {
     "name": "stderr",
     "output_type": "stream",
     "text": [
      "\r",
      "Episode 8|Iteration 3|reward:  128.0|last_reward_at:    2|Elapsed Time: 0:00:00||"
     ]
    },
    {
     "name": "stderr",
     "output_type": "stream",
     "text": [
      "\r",
      "Episode 8|Iteration 3|reward:  128.0|last_reward_at:    3|Elapsed Time: 0:00:00||"
     ]
    },
    {
     "name": "stderr",
     "output_type": "stream",
     "text": [
      "\r",
      "Episode 8|Iteration 4|reward:  228.0|last_reward_at:    3|Elapsed Time: 0:00:00||"
     ]
    },
    {
     "name": "stderr",
     "output_type": "stream",
     "text": [
      "\r",
      "Episode 8|Iteration 4|reward:  228.0|last_reward_at:    4|Elapsed Time: 0:00:00||"
     ]
    },
    {
     "name": "stderr",
     "output_type": "stream",
     "text": [
      "\r",
      "Episode 8|Iteration 5|reward:  242.0|last_reward_at:    4|Elapsed Time: 0:00:00||"
     ]
    },
    {
     "name": "stderr",
     "output_type": "stream",
     "text": [
      "\r",
      "Episode 8|Iteration 5|reward:  242.0|last_reward_at:    5|Elapsed Time: 0:00:00||"
     ]
    },
    {
     "name": "stderr",
     "output_type": "stream",
     "text": [
      "\r",
      "Episode 8|Iteration 6|reward:  342.0|last_reward_at:    5|Elapsed Time: 0:00:00||"
     ]
    },
    {
     "name": "stderr",
     "output_type": "stream",
     "text": [
      "\r",
      "Episode 8|Iteration 6|reward:  342.0|last_reward_at:    6|Elapsed Time: 0:00:00||"
     ]
    },
    {
     "name": "stderr",
     "output_type": "stream",
     "text": [
      "\r",
      "Episode 8|Iteration 7|reward:  356.0|last_reward_at:    6|Elapsed Time: 0:00:00||"
     ]
    },
    {
     "name": "stderr",
     "output_type": "stream",
     "text": [
      "\r",
      "Episode 8|Iteration 7|reward:  356.0|last_reward_at:    7|Elapsed Time: 0:00:00||"
     ]
    },
    {
     "name": "stderr",
     "output_type": "stream",
     "text": [
      "\r",
      "Episode 8|Iteration 8|reward:  456.0|last_reward_at:    7|Elapsed Time: 0:00:00||"
     ]
    },
    {
     "name": "stderr",
     "output_type": "stream",
     "text": [
      "\r",
      "Episode 8|Iteration 8|reward:  456.0|last_reward_at:    8|Elapsed Time: 0:00:00||"
     ]
    },
    {
     "name": "stderr",
     "output_type": "stream",
     "text": [
      "\r",
      "Episode 8|Iteration 9|reward:  470.0|last_reward_at:    8|Elapsed Time: 0:00:00||"
     ]
    },
    {
     "name": "stderr",
     "output_type": "stream",
     "text": [
      "\r",
      "Episode 8|Iteration 9|reward:  470.0|last_reward_at:    9|Elapsed Time: 0:00:00||"
     ]
    },
    {
     "name": "stderr",
     "output_type": "stream",
     "text": [
      "\r",
      "Episode 8|Iteration 10|reward:  570.0|last_reward_at:    9|Elapsed Time: 0:00:00||"
     ]
    },
    {
     "name": "stderr",
     "output_type": "stream",
     "text": [
      "\r",
      "Episode 8|Iteration 10|reward:  570.0|last_reward_at:   10|Elapsed Time: 0:00:00||"
     ]
    },
    {
     "name": "stderr",
     "output_type": "stream",
     "text": [
      "\r",
      "Episode 8|Iteration 13|reward:  581.0|last_reward_at:   10|Elapsed Time: 0:00:00||"
     ]
    },
    {
     "name": "stderr",
     "output_type": "stream",
     "text": [
      "\r",
      "Episode 8|Iteration 13|reward:  581.0|last_reward_at:   13|Elapsed Time: 0:00:00||"
     ]
    },
    {
     "name": "stderr",
     "output_type": "stream",
     "text": [
      "\r",
      "Episode 8|Iteration 16|reward: 5581.0|last_reward_at:   13|Elapsed Time: 0:00:00||"
     ]
    },
    {
     "name": "stderr",
     "output_type": "stream",
     "text": [
      "\r",
      "Episode 8|Iteration 16|reward: 5581.0|last_reward_at:   16|Elapsed Time: 0:00:00||"
     ]
    },
    {
     "name": "stderr",
     "output_type": "stream",
     "text": [
      "\n"
     ]
    },
    {
     "name": "stdout",
     "output_type": "stream",
     "text": [
      "  Episode 8 ended at t=16 \n",
      "  Breakdown [Reward/NoReward (Success rate)]\n",
      "    explore-local: 0/0 (NaN)\n",
      "    explore-remote: 0/0 (NaN)\n",
      "    explore-connect: 0/0 (NaN)\n",
      "    exploit-local: 6/1 (0.86)\n",
      "    exploit-remote: 0/0 (NaN)\n",
      "    exploit-connect: 6/3 (0.67)\n",
      "  exploit deflected to exploration: 0\n",
      "  ## Episode: 9/10 'Exploiting DQL' ϵ=0.0000, γ=0.15, lr=0.01, replaymemory=10000,\n",
      "batch=256, target_update=5\n"
     ]
    },
    {
     "name": "stderr",
     "output_type": "stream",
     "text": [
      "\r",
      "Episode 9|Iteration 0|reward: ------|last_reward_at: ----|Elapsed Time: 0:00:00||"
     ]
    },
    {
     "name": "stderr",
     "output_type": "stream",
     "text": [
      "\r",
      "Episode 9|Iteration 1|reward:   14.0|last_reward_at: ----|Elapsed Time: 0:00:00||"
     ]
    },
    {
     "name": "stderr",
     "output_type": "stream",
     "text": [
      "\r",
      "Episode 9|Iteration 1|reward:   14.0|last_reward_at:    1|Elapsed Time: 0:00:00||"
     ]
    },
    {
     "name": "stderr",
     "output_type": "stream",
     "text": [
      "\r",
      "Episode 9|Iteration 2|reward:  114.0|last_reward_at:    1|Elapsed Time: 0:00:00||"
     ]
    },
    {
     "name": "stderr",
     "output_type": "stream",
     "text": [
      "\r",
      "Episode 9|Iteration 2|reward:  114.0|last_reward_at:    2|Elapsed Time: 0:00:00||"
     ]
    },
    {
     "name": "stderr",
     "output_type": "stream",
     "text": [
      "\r",
      "Episode 9|Iteration 3|reward:  128.0|last_reward_at:    2|Elapsed Time: 0:00:00||"
     ]
    },
    {
     "name": "stderr",
     "output_type": "stream",
     "text": [
      "\r",
      "Episode 9|Iteration 3|reward:  128.0|last_reward_at:    3|Elapsed Time: 0:00:00||"
     ]
    },
    {
     "name": "stderr",
     "output_type": "stream",
     "text": [
      "\r",
      "Episode 9|Iteration 4|reward:  228.0|last_reward_at:    3|Elapsed Time: 0:00:00||"
     ]
    },
    {
     "name": "stderr",
     "output_type": "stream",
     "text": [
      "\r",
      "Episode 9|Iteration 4|reward:  228.0|last_reward_at:    4|Elapsed Time: 0:00:00||"
     ]
    },
    {
     "name": "stderr",
     "output_type": "stream",
     "text": [
      "\r",
      "Episode 9|Iteration 5|reward:  242.0|last_reward_at:    4|Elapsed Time: 0:00:00||"
     ]
    },
    {
     "name": "stderr",
     "output_type": "stream",
     "text": [
      "\r",
      "Episode 9|Iteration 5|reward:  242.0|last_reward_at:    5|Elapsed Time: 0:00:00||"
     ]
    },
    {
     "name": "stderr",
     "output_type": "stream",
     "text": [
      "\r",
      "Episode 9|Iteration 6|reward:  342.0|last_reward_at:    5|Elapsed Time: 0:00:00||"
     ]
    },
    {
     "name": "stderr",
     "output_type": "stream",
     "text": [
      "\r",
      "Episode 9|Iteration 6|reward:  342.0|last_reward_at:    6|Elapsed Time: 0:00:00||"
     ]
    },
    {
     "name": "stderr",
     "output_type": "stream",
     "text": [
      "\r",
      "Episode 9|Iteration 7|reward:  356.0|last_reward_at:    6|Elapsed Time: 0:00:00||"
     ]
    },
    {
     "name": "stderr",
     "output_type": "stream",
     "text": [
      "\r",
      "Episode 9|Iteration 7|reward:  356.0|last_reward_at:    7|Elapsed Time: 0:00:00||"
     ]
    },
    {
     "name": "stderr",
     "output_type": "stream",
     "text": [
      "\r",
      "Episode 9|Iteration 8|reward:  456.0|last_reward_at:    7|Elapsed Time: 0:00:00||"
     ]
    },
    {
     "name": "stderr",
     "output_type": "stream",
     "text": [
      "\r",
      "Episode 9|Iteration 8|reward:  456.0|last_reward_at:    8|Elapsed Time: 0:00:00||"
     ]
    },
    {
     "name": "stderr",
     "output_type": "stream",
     "text": [
      "\r",
      "Episode 9|Iteration 9|reward:  470.0|last_reward_at:    8|Elapsed Time: 0:00:00||"
     ]
    },
    {
     "name": "stderr",
     "output_type": "stream",
     "text": [
      "\r",
      "Episode 9|Iteration 9|reward:  470.0|last_reward_at:    9|Elapsed Time: 0:00:00||"
     ]
    },
    {
     "name": "stderr",
     "output_type": "stream",
     "text": [
      "\r",
      "Episode 9|Iteration 10|reward:  570.0|last_reward_at:    9|Elapsed Time: 0:00:00||"
     ]
    },
    {
     "name": "stderr",
     "output_type": "stream",
     "text": [
      "\r",
      "Episode 9|Iteration 10|reward:  570.0|last_reward_at:   10|Elapsed Time: 0:00:00||"
     ]
    },
    {
     "name": "stderr",
     "output_type": "stream",
     "text": [
      "\r",
      "Episode 9|Iteration 11|reward:  572.0|last_reward_at:   10|Elapsed Time: 0:00:00||"
     ]
    },
    {
     "name": "stderr",
     "output_type": "stream",
     "text": [
      "\r",
      "Episode 9|Iteration 11|reward:  572.0|last_reward_at:   11|Elapsed Time: 0:00:00||"
     ]
    },
    {
     "name": "stderr",
     "output_type": "stream",
     "text": [
      "\r",
      "Episode 9|Iteration 13|reward:  586.0|last_reward_at:   11|Elapsed Time: 0:00:00||"
     ]
    },
    {
     "name": "stderr",
     "output_type": "stream",
     "text": [
      "\r",
      "Episode 9|Iteration 13|reward:  586.0|last_reward_at:   13|Elapsed Time: 0:00:00||"
     ]
    },
    {
     "name": "stderr",
     "output_type": "stream",
     "text": [
      "\r",
      "Episode 9|Iteration 16|reward:  586.0|last_reward_at:   13|Elapsed Time: 0:00:00||"
     ]
    },
    {
     "name": "stderr",
     "output_type": "stream",
     "text": [
      "\r",
      "Episode 9|Iteration 17|reward:  686.0|last_reward_at:   13|Elapsed Time: 0:00:00||"
     ]
    },
    {
     "name": "stderr",
     "output_type": "stream",
     "text": [
      "\r",
      "Episode 9|Iteration 17|reward:  686.0|last_reward_at:   17|Elapsed Time: 0:00:00||"
     ]
    },
    {
     "name": "stderr",
     "output_type": "stream",
     "text": [
      "\r",
      "Episode 9|Iteration 18|reward:  700.0|last_reward_at:   17|Elapsed Time: 0:00:00||"
     ]
    },
    {
     "name": "stderr",
     "output_type": "stream",
     "text": [
      "\r",
      "Episode 9|Iteration 18|reward:  700.0|last_reward_at:   18|Elapsed Time: 0:00:00||"
     ]
    },
    {
     "name": "stderr",
     "output_type": "stream",
     "text": [
      "\r",
      "Episode 9|Iteration 19|reward:  800.0|last_reward_at:   18|Elapsed Time: 0:00:00||"
     ]
    },
    {
     "name": "stderr",
     "output_type": "stream",
     "text": [
      "\r",
      "Episode 9|Iteration 19|reward:  800.0|last_reward_at:   19|Elapsed Time: 0:00:00||"
     ]
    },
    {
     "name": "stderr",
     "output_type": "stream",
     "text": [
      "\r",
      "Episode 9|Iteration 20|reward:  814.0|last_reward_at:   19|Elapsed Time: 0:00:00||"
     ]
    },
    {
     "name": "stderr",
     "output_type": "stream",
     "text": [
      "\r",
      "Episode 9|Iteration 20|reward:  814.0|last_reward_at:   20|Elapsed Time: 0:00:00||"
     ]
    },
    {
     "name": "stderr",
     "output_type": "stream",
     "text": [
      "\r",
      "Episode 9|Iteration 21|reward:  914.0|last_reward_at:   20|Elapsed Time: 0:00:00||"
     ]
    },
    {
     "name": "stderr",
     "output_type": "stream",
     "text": [
      "\r",
      "Episode 9|Iteration 21|reward:  914.0|last_reward_at:   21|Elapsed Time: 0:00:00||"
     ]
    },
    {
     "name": "stderr",
     "output_type": "stream",
     "text": [
      "\r",
      "Episode 9|Iteration 22|reward:  928.0|last_reward_at:   21|Elapsed Time: 0:00:00||"
     ]
    },
    {
     "name": "stderr",
     "output_type": "stream",
     "text": [
      "\r",
      "Episode 9|Iteration 22|reward:  928.0|last_reward_at:   22|Elapsed Time: 0:00:00||"
     ]
    },
    {
     "name": "stderr",
     "output_type": "stream",
     "text": [
      "\r",
      "Episode 9|Iteration 23|reward: 1028.0|last_reward_at:   22|Elapsed Time: 0:00:00||"
     ]
    },
    {
     "name": "stderr",
     "output_type": "stream",
     "text": [
      "\r",
      "Episode 9|Iteration 23|reward: 1028.0|last_reward_at:   23|Elapsed Time: 0:00:00||"
     ]
    },
    {
     "name": "stderr",
     "output_type": "stream",
     "text": [
      "\r",
      "Episode 9|Iteration 24|reward: 1042.0|last_reward_at:   23|Elapsed Time: 0:00:00||"
     ]
    },
    {
     "name": "stderr",
     "output_type": "stream",
     "text": [
      "\r",
      "Episode 9|Iteration 24|reward: 1042.0|last_reward_at:   24|Elapsed Time: 0:00:00||"
     ]
    },
    {
     "name": "stderr",
     "output_type": "stream",
     "text": [
      "\r",
      "Episode 9|Iteration 25|reward: 1142.0|last_reward_at:   24|Elapsed Time: 0:00:00||"
     ]
    },
    {
     "name": "stderr",
     "output_type": "stream",
     "text": [
      "\r",
      "Episode 9|Iteration 25|reward: 1142.0|last_reward_at:   25|Elapsed Time: 0:00:00||"
     ]
    },
    {
     "name": "stderr",
     "output_type": "stream",
     "text": [
      "\r",
      "Episode 9|Iteration 26|reward: 1142.0|last_reward_at:   25|Elapsed Time: 0:00:00||"
     ]
    },
    {
     "name": "stderr",
     "output_type": "stream",
     "text": [
      "\r",
      "Episode 9|Iteration 31|reward: 1142.0|last_reward_at:   25|Elapsed Time: 0:00:00||"
     ]
    },
    {
     "name": "stderr",
     "output_type": "stream",
     "text": [
      "\r",
      "Episode 9|Iteration 36|reward: 1142.0|last_reward_at:   25|Elapsed Time: 0:00:00||"
     ]
    },
    {
     "name": "stderr",
     "output_type": "stream",
     "text": [
      "\r",
      "Episode 9|Iteration 42|reward: 1142.0|last_reward_at:   25|Elapsed Time: 0:00:01||"
     ]
    },
    {
     "name": "stderr",
     "output_type": "stream",
     "text": [
      "\r",
      "Episode 9|Iteration 46|reward: 1142.0|last_reward_at:   25|Elapsed Time: 0:00:01||"
     ]
    },
    {
     "name": "stderr",
     "output_type": "stream",
     "text": [
      "\r",
      "Episode 9|Iteration 52|reward: 1142.0|last_reward_at:   25|Elapsed Time: 0:00:01||"
     ]
    },
    {
     "name": "stderr",
     "output_type": "stream",
     "text": [
      "\r",
      "Episode 9|Iteration 59|reward: 1142.0|last_reward_at:   25|Elapsed Time: 0:00:01||"
     ]
    },
    {
     "name": "stderr",
     "output_type": "stream",
     "text": [
      "\r",
      "Episode 9|Iteration 61|reward: 6142.0|last_reward_at:   25|Elapsed Time: 0:00:01||"
     ]
    },
    {
     "name": "stderr",
     "output_type": "stream",
     "text": [
      "\r",
      "Episode 9|Iteration 61|reward: 6142.0|last_reward_at:   61|Elapsed Time: 0:00:01||"
     ]
    },
    {
     "name": "stderr",
     "output_type": "stream",
     "text": [
      "\n"
     ]
    },
    {
     "name": "stdout",
     "output_type": "stream",
     "text": [
      "  Episode 9 ended at t=61 \n",
      "  Breakdown [Reward/NoReward (Success rate)]\n",
      "    explore-local: 0/0 (NaN)\n",
      "    explore-remote: 0/0 (NaN)\n",
      "    explore-connect: 0/0 (NaN)\n",
      "    exploit-local: 10/2 (0.83)\n",
      "    exploit-remote: 1/0 (1.00)\n",
      "    exploit-connect: 11/37 (0.23)\n",
      "  exploit deflected to exploration: 0\n",
      "  ## Episode: 10/10 'Exploiting DQL' ϵ=0.0000, γ=0.15, lr=0.01, replaymemory=10000,\n",
      "batch=256, target_update=5\n"
     ]
    },
    {
     "name": "stderr",
     "output_type": "stream",
     "text": [
      "\r",
      "Episode 10|Iteration 0|reward: ------|last_reward_at: ----|Elapsed Time: 0:00:00||"
     ]
    },
    {
     "name": "stderr",
     "output_type": "stream",
     "text": [
      "\r",
      "Episode 10|Iteration 1|reward:   14.0|last_reward_at: ----|Elapsed Time: 0:00:00||"
     ]
    },
    {
     "name": "stderr",
     "output_type": "stream",
     "text": [
      "\r",
      "Episode 10|Iteration 1|reward:   14.0|last_reward_at:    1|Elapsed Time: 0:00:00||"
     ]
    },
    {
     "name": "stderr",
     "output_type": "stream",
     "text": [
      "\r",
      "Episode 10|Iteration 2|reward:  114.0|last_reward_at:    1|Elapsed Time: 0:00:00||"
     ]
    },
    {
     "name": "stderr",
     "output_type": "stream",
     "text": [
      "\r",
      "Episode 10|Iteration 2|reward:  114.0|last_reward_at:    2|Elapsed Time: 0:00:00||"
     ]
    },
    {
     "name": "stderr",
     "output_type": "stream",
     "text": [
      "\r",
      "Episode 10|Iteration 3|reward:  128.0|last_reward_at:    2|Elapsed Time: 0:00:00||"
     ]
    },
    {
     "name": "stderr",
     "output_type": "stream",
     "text": [
      "\r",
      "Episode 10|Iteration 3|reward:  128.0|last_reward_at:    3|Elapsed Time: 0:00:00||"
     ]
    },
    {
     "name": "stderr",
     "output_type": "stream",
     "text": [
      "\r",
      "Episode 10|Iteration 4|reward:  228.0|last_reward_at:    3|Elapsed Time: 0:00:00||"
     ]
    },
    {
     "name": "stderr",
     "output_type": "stream",
     "text": [
      "\r",
      "Episode 10|Iteration 4|reward:  228.0|last_reward_at:    4|Elapsed Time: 0:00:00||"
     ]
    },
    {
     "name": "stderr",
     "output_type": "stream",
     "text": [
      "\r",
      "Episode 10|Iteration 5|reward:  242.0|last_reward_at:    4|Elapsed Time: 0:00:00||"
     ]
    },
    {
     "name": "stderr",
     "output_type": "stream",
     "text": [
      "\r",
      "Episode 10|Iteration 5|reward:  242.0|last_reward_at:    5|Elapsed Time: 0:00:00||"
     ]
    },
    {
     "name": "stderr",
     "output_type": "stream",
     "text": [
      "\r",
      "Episode 10|Iteration 6|reward:  342.0|last_reward_at:    5|Elapsed Time: 0:00:00||"
     ]
    },
    {
     "name": "stderr",
     "output_type": "stream",
     "text": [
      "\r",
      "Episode 10|Iteration 6|reward:  342.0|last_reward_at:    6|Elapsed Time: 0:00:00||"
     ]
    },
    {
     "name": "stderr",
     "output_type": "stream",
     "text": [
      "\r",
      "Episode 10|Iteration 7|reward:  356.0|last_reward_at:    6|Elapsed Time: 0:00:00||"
     ]
    },
    {
     "name": "stderr",
     "output_type": "stream",
     "text": [
      "\r",
      "Episode 10|Iteration 7|reward:  356.0|last_reward_at:    7|Elapsed Time: 0:00:00||"
     ]
    },
    {
     "name": "stderr",
     "output_type": "stream",
     "text": [
      "\r",
      "Episode 10|Iteration 8|reward:  456.0|last_reward_at:    7|Elapsed Time: 0:00:00||"
     ]
    },
    {
     "name": "stderr",
     "output_type": "stream",
     "text": [
      "\r",
      "Episode 10|Iteration 8|reward:  456.0|last_reward_at:    8|Elapsed Time: 0:00:00||"
     ]
    },
    {
     "name": "stderr",
     "output_type": "stream",
     "text": [
      "\r",
      "Episode 10|Iteration 9|reward:  470.0|last_reward_at:    8|Elapsed Time: 0:00:00||"
     ]
    },
    {
     "name": "stderr",
     "output_type": "stream",
     "text": [
      "\r",
      "Episode 10|Iteration 9|reward:  470.0|last_reward_at:    9|Elapsed Time: 0:00:00||"
     ]
    },
    {
     "name": "stderr",
     "output_type": "stream",
     "text": [
      "\r",
      "Episode 10|Iteration 10|reward:  570.0|last_reward_at:    9|Elapsed Time: 0:00:00||"
     ]
    },
    {
     "name": "stderr",
     "output_type": "stream",
     "text": [
      "\r",
      "Episode 10|Iteration 10|reward:  570.0|last_reward_at:   10|Elapsed Time: 0:00:00||"
     ]
    },
    {
     "name": "stderr",
     "output_type": "stream",
     "text": [
      "\r",
      "Episode 10|Iteration 16|reward:  570.0|last_reward_at:   10|Elapsed Time: 0:00:00||"
     ]
    },
    {
     "name": "stderr",
     "output_type": "stream",
     "text": [
      "\r",
      "Episode 10|Iteration 17|reward:  576.0|last_reward_at:   10|Elapsed Time: 0:00:00||"
     ]
    },
    {
     "name": "stderr",
     "output_type": "stream",
     "text": [
      "\r",
      "Episode 10|Iteration 17|reward:  576.0|last_reward_at:   17|Elapsed Time: 0:00:00||"
     ]
    },
    {
     "name": "stderr",
     "output_type": "stream",
     "text": [
      "\r",
      "Episode 10|Iteration 20|reward:  578.0|last_reward_at:   17|Elapsed Time: 0:00:00||"
     ]
    },
    {
     "name": "stderr",
     "output_type": "stream",
     "text": [
      "\r",
      "Episode 10|Iteration 20|reward:  578.0|last_reward_at:   20|Elapsed Time: 0:00:00||"
     ]
    },
    {
     "name": "stderr",
     "output_type": "stream",
     "text": [
      "\r",
      "Episode 10|Iteration 28|reward:  578.0|last_reward_at:   20|Elapsed Time: 0:00:00||"
     ]
    },
    {
     "name": "stderr",
     "output_type": "stream",
     "text": [
      "\r",
      "Episode 10|Iteration 35|reward:  578.0|last_reward_at:   20|Elapsed Time: 0:00:00||"
     ]
    },
    {
     "name": "stderr",
     "output_type": "stream",
     "text": [
      "\r",
      "Episode 10|Iteration 42|reward:  578.0|last_reward_at:   20|Elapsed Time: 0:00:00||"
     ]
    },
    {
     "name": "stderr",
     "output_type": "stream",
     "text": [
      "\r",
      "Episode 10|Iteration 49|reward:  578.0|last_reward_at:   20|Elapsed Time: 0:00:00||"
     ]
    },
    {
     "name": "stderr",
     "output_type": "stream",
     "text": [
      "\r",
      "Episode 10|Iteration 54|reward:  578.0|last_reward_at:   20|Elapsed Time: 0:00:00||"
     ]
    },
    {
     "name": "stderr",
     "output_type": "stream",
     "text": [
      "\r",
      "Episode 10|Iteration 61|reward:  578.0|last_reward_at:   20|Elapsed Time: 0:00:00||"
     ]
    },
    {
     "name": "stderr",
     "output_type": "stream",
     "text": [
      "\r",
      "Episode 10|Iteration 68|reward:  578.0|last_reward_at:   20|Elapsed Time: 0:00:00||"
     ]
    },
    {
     "name": "stderr",
     "output_type": "stream",
     "text": [
      "\r",
      "Episode 10|Iteration 76|reward:  578.0|last_reward_at:   20|Elapsed Time: 0:00:01||"
     ]
    },
    {
     "name": "stderr",
     "output_type": "stream",
     "text": [
      "\r",
      "Episode 10|Iteration 84|reward:  578.0|last_reward_at:   20|Elapsed Time: 0:00:01||"
     ]
    },
    {
     "name": "stderr",
     "output_type": "stream",
     "text": [
      "\r",
      "Episode 10|Iteration 90|reward:  578.0|last_reward_at:   20|Elapsed Time: 0:00:01||"
     ]
    },
    {
     "name": "stderr",
     "output_type": "stream",
     "text": [
      "\r",
      "Episode 10|Iteration 97|reward:  578.0|last_reward_at:   20|Elapsed Time: 0:00:01||"
     ]
    },
    {
     "name": "stderr",
     "output_type": "stream",
     "text": [
      "\r",
      "Episode 10|Iteration 104|reward:  578.0|last_reward_at:   20|Elapsed Time: 0:00:01||"
     ]
    },
    {
     "name": "stderr",
     "output_type": "stream",
     "text": [
      "\r",
      "Episode 10|Iteration 111|reward:  578.0|last_reward_at:   20|Elapsed Time: 0:00:01||"
     ]
    },
    {
     "name": "stderr",
     "output_type": "stream",
     "text": [
      "\r",
      "Episode 10|Iteration 119|reward:  578.0|last_reward_at:   20|Elapsed Time: 0:00:01||"
     ]
    },
    {
     "name": "stderr",
     "output_type": "stream",
     "text": [
      "\r",
      "Episode 10|Iteration 127|reward:  578.0|last_reward_at:   20|Elapsed Time: 0:00:01||"
     ]
    },
    {
     "name": "stderr",
     "output_type": "stream",
     "text": [
      "\r",
      "Episode 10|Iteration 136|reward:  578.0|last_reward_at:   20|Elapsed Time: 0:00:01||"
     ]
    },
    {
     "name": "stderr",
     "output_type": "stream",
     "text": [
      "\r",
      "Episode 10|Iteration 144|reward:  578.0|last_reward_at:   20|Elapsed Time: 0:00:01||"
     ]
    },
    {
     "name": "stderr",
     "output_type": "stream",
     "text": [
      "\r",
      "Episode 10|Iteration 152|reward:  578.0|last_reward_at:   20|Elapsed Time: 0:00:02||"
     ]
    },
    {
     "name": "stderr",
     "output_type": "stream",
     "text": [
      "\r",
      "Episode 10|Iteration 159|reward:  578.0|last_reward_at:   20|Elapsed Time: 0:00:02||"
     ]
    },
    {
     "name": "stderr",
     "output_type": "stream",
     "text": [
      "\r",
      "Episode 10|Iteration 167|reward:  578.0|last_reward_at:   20|Elapsed Time: 0:00:02||"
     ]
    },
    {
     "name": "stderr",
     "output_type": "stream",
     "text": [
      "\r",
      "Episode 10|Iteration 175|reward:  578.0|last_reward_at:   20|Elapsed Time: 0:00:02||"
     ]
    },
    {
     "name": "stderr",
     "output_type": "stream",
     "text": [
      "\r",
      "Episode 10|Iteration 182|reward:  578.0|last_reward_at:   20|Elapsed Time: 0:00:02||"
     ]
    },
    {
     "name": "stderr",
     "output_type": "stream",
     "text": [
      "\r",
      "Episode 10|Iteration 190|reward:  578.0|last_reward_at:   20|Elapsed Time: 0:00:02||"
     ]
    },
    {
     "name": "stderr",
     "output_type": "stream",
     "text": [
      "\r",
      "Episode 10|Iteration 197|reward:  578.0|last_reward_at:   20|Elapsed Time: 0:00:02||"
     ]
    },
    {
     "name": "stderr",
     "output_type": "stream",
     "text": [
      "\r",
      "Episode 10|Iteration 205|reward:  578.0|last_reward_at:   20|Elapsed Time: 0:00:02||"
     ]
    },
    {
     "name": "stderr",
     "output_type": "stream",
     "text": [
      "\r",
      "Episode 10|Iteration 213|reward:  578.0|last_reward_at:   20|Elapsed Time: 0:00:02||"
     ]
    },
    {
     "name": "stderr",
     "output_type": "stream",
     "text": [
      "\r",
      "Episode 10|Iteration 220|reward:  578.0|last_reward_at:   20|Elapsed Time: 0:00:02||"
     ]
    },
    {
     "name": "stderr",
     "output_type": "stream",
     "text": [
      "\r",
      "Episode 10|Iteration 228|reward:  578.0|last_reward_at:   20|Elapsed Time: 0:00:03||"
     ]
    },
    {
     "name": "stderr",
     "output_type": "stream",
     "text": [
      "\r",
      "Episode 10|Iteration 236|reward:  578.0|last_reward_at:   20|Elapsed Time: 0:00:03||"
     ]
    },
    {
     "name": "stderr",
     "output_type": "stream",
     "text": [
      "\r",
      "Episode 10|Iteration 244|reward:  578.0|last_reward_at:   20|Elapsed Time: 0:00:03||"
     ]
    },
    {
     "name": "stderr",
     "output_type": "stream",
     "text": [
      "\r",
      "Episode 10|Iteration 251|reward:  578.0|last_reward_at:   20|Elapsed Time: 0:00:03||"
     ]
    },
    {
     "name": "stderr",
     "output_type": "stream",
     "text": [
      "\r",
      "Episode 10|Iteration 258|reward:  578.0|last_reward_at:   20|Elapsed Time: 0:00:03||"
     ]
    },
    {
     "name": "stderr",
     "output_type": "stream",
     "text": [
      "\r",
      "Episode 10|Iteration 266|reward:  578.0|last_reward_at:   20|Elapsed Time: 0:00:03||"
     ]
    },
    {
     "name": "stderr",
     "output_type": "stream",
     "text": [
      "\r",
      "Episode 10|Iteration 273|reward:  578.0|last_reward_at:   20|Elapsed Time: 0:00:03||"
     ]
    },
    {
     "name": "stderr",
     "output_type": "stream",
     "text": [
      "\r",
      "Episode 10|Iteration 281|reward:  578.0|last_reward_at:   20|Elapsed Time: 0:00:03||"
     ]
    },
    {
     "name": "stderr",
     "output_type": "stream",
     "text": [
      "\r",
      "Episode 10|Iteration 289|reward:  578.0|last_reward_at:   20|Elapsed Time: 0:00:03||"
     ]
    },
    {
     "name": "stderr",
     "output_type": "stream",
     "text": [
      "\r",
      "Episode 10|Iteration 295|reward:  578.0|last_reward_at:   20|Elapsed Time: 0:00:03||"
     ]
    },
    {
     "name": "stderr",
     "output_type": "stream",
     "text": [
      "\r",
      "Episode 10|Iteration 303|reward:  578.0|last_reward_at:   20|Elapsed Time: 0:00:04||"
     ]
    },
    {
     "name": "stderr",
     "output_type": "stream",
     "text": [
      "\r",
      "Episode 10|Iteration 311|reward:  578.0|last_reward_at:   20|Elapsed Time: 0:00:04||"
     ]
    },
    {
     "name": "stderr",
     "output_type": "stream",
     "text": [
      "\r",
      "Episode 10|Iteration 319|reward:  578.0|last_reward_at:   20|Elapsed Time: 0:00:04||"
     ]
    },
    {
     "name": "stderr",
     "output_type": "stream",
     "text": [
      "\r",
      "Episode 10|Iteration 327|reward:  578.0|last_reward_at:   20|Elapsed Time: 0:00:04||"
     ]
    },
    {
     "name": "stderr",
     "output_type": "stream",
     "text": [
      "\r",
      "Episode 10|Iteration 334|reward:  578.0|last_reward_at:   20|Elapsed Time: 0:00:04||"
     ]
    },
    {
     "name": "stderr",
     "output_type": "stream",
     "text": [
      "\r",
      "Episode 10|Iteration 342|reward:  578.0|last_reward_at:   20|Elapsed Time: 0:00:04||"
     ]
    },
    {
     "name": "stderr",
     "output_type": "stream",
     "text": [
      "\r",
      "Episode 10|Iteration 350|reward:  578.0|last_reward_at:   20|Elapsed Time: 0:00:04||"
     ]
    },
    {
     "name": "stderr",
     "output_type": "stream",
     "text": [
      "\r",
      "Episode 10|Iteration 357|reward:  578.0|last_reward_at:   20|Elapsed Time: 0:00:04||"
     ]
    },
    {
     "name": "stderr",
     "output_type": "stream",
     "text": [
      "\r",
      "Episode 10|Iteration 365|reward:  578.0|last_reward_at:   20|Elapsed Time: 0:00:04||"
     ]
    },
    {
     "name": "stderr",
     "output_type": "stream",
     "text": [
      "\r",
      "Episode 10|Iteration 373|reward:  578.0|last_reward_at:   20|Elapsed Time: 0:00:04||"
     ]
    },
    {
     "name": "stderr",
     "output_type": "stream",
     "text": [
      "\r",
      "Episode 10|Iteration 380|reward:  578.0|last_reward_at:   20|Elapsed Time: 0:00:05||"
     ]
    },
    {
     "name": "stderr",
     "output_type": "stream",
     "text": [
      "\r",
      "Episode 10|Iteration 388|reward:  578.0|last_reward_at:   20|Elapsed Time: 0:00:05||"
     ]
    },
    {
     "name": "stderr",
     "output_type": "stream",
     "text": [
      "\r",
      "Episode 10|Iteration 395|reward:  578.0|last_reward_at:   20|Elapsed Time: 0:00:05||"
     ]
    },
    {
     "name": "stderr",
     "output_type": "stream",
     "text": [
      "\r",
      "Episode 10|Iteration 403|reward:  578.0|last_reward_at:   20|Elapsed Time: 0:00:05||"
     ]
    },
    {
     "name": "stderr",
     "output_type": "stream",
     "text": [
      "\r",
      "Episode 10|Iteration 411|reward:  578.0|last_reward_at:   20|Elapsed Time: 0:00:05||"
     ]
    },
    {
     "name": "stderr",
     "output_type": "stream",
     "text": [
      "\r",
      "Episode 10|Iteration 417|reward:  578.0|last_reward_at:   20|Elapsed Time: 0:00:05||"
     ]
    },
    {
     "name": "stderr",
     "output_type": "stream",
     "text": [
      "\r",
      "Episode 10|Iteration 425|reward:  578.0|last_reward_at:   20|Elapsed Time: 0:00:05||"
     ]
    },
    {
     "name": "stderr",
     "output_type": "stream",
     "text": [
      "\r",
      "Episode 10|Iteration 433|reward:  578.0|last_reward_at:   20|Elapsed Time: 0:00:05||"
     ]
    },
    {
     "name": "stderr",
     "output_type": "stream",
     "text": [
      "\r",
      "Episode 10|Iteration 436|reward:  584.0|last_reward_at:   20|Elapsed Time: 0:00:05||"
     ]
    },
    {
     "name": "stderr",
     "output_type": "stream",
     "text": [
      "\r",
      "Episode 10|Iteration 436|reward:  584.0|last_reward_at:  436|Elapsed Time: 0:00:05||"
     ]
    },
    {
     "name": "stderr",
     "output_type": "stream",
     "text": [
      "\r",
      "Episode 10|Iteration 437|reward:  590.0|last_reward_at:  436|Elapsed Time: 0:00:05||"
     ]
    },
    {
     "name": "stderr",
     "output_type": "stream",
     "text": [
      "\r",
      "Episode 10|Iteration 437|reward:  590.0|last_reward_at:  437|Elapsed Time: 0:00:05||"
     ]
    },
    {
     "name": "stderr",
     "output_type": "stream",
     "text": [
      "\r",
      "Episode 10|Iteration 438|reward:  592.0|last_reward_at:  437|Elapsed Time: 0:00:05||"
     ]
    },
    {
     "name": "stderr",
     "output_type": "stream",
     "text": [
      "\r",
      "Episode 10|Iteration 438|reward:  592.0|last_reward_at:  438|Elapsed Time: 0:00:05||"
     ]
    },
    {
     "name": "stderr",
     "output_type": "stream",
     "text": [
      "\r",
      "Episode 10|Iteration 446|reward:  592.0|last_reward_at:  438|Elapsed Time: 0:00:05||"
     ]
    },
    {
     "name": "stderr",
     "output_type": "stream",
     "text": [
      "\r",
      "Episode 10|Iteration 453|reward:  592.0|last_reward_at:  438|Elapsed Time: 0:00:06||"
     ]
    },
    {
     "name": "stderr",
     "output_type": "stream",
     "text": [
      "\r",
      "Episode 10|Iteration 460|reward:  592.0|last_reward_at:  438|Elapsed Time: 0:00:06||"
     ]
    },
    {
     "name": "stderr",
     "output_type": "stream",
     "text": [
      "\r",
      "Episode 10|Iteration 463|reward:  594.0|last_reward_at:  438|Elapsed Time: 0:00:06||"
     ]
    },
    {
     "name": "stderr",
     "output_type": "stream",
     "text": [
      "\r",
      "Episode 10|Iteration 463|reward:  594.0|last_reward_at:  463|Elapsed Time: 0:00:06||"
     ]
    },
    {
     "name": "stderr",
     "output_type": "stream",
     "text": [
      "\r",
      "Episode 10|Iteration 468|reward:  596.0|last_reward_at:  463|Elapsed Time: 0:00:06||"
     ]
    },
    {
     "name": "stderr",
     "output_type": "stream",
     "text": [
      "\r",
      "Episode 10|Iteration 468|reward:  596.0|last_reward_at:  468|Elapsed Time: 0:00:06||"
     ]
    },
    {
     "name": "stderr",
     "output_type": "stream",
     "text": [
      "\r",
      "Episode 10|Iteration 477|reward:  596.0|last_reward_at:  468|Elapsed Time: 0:00:06||"
     ]
    },
    {
     "name": "stderr",
     "output_type": "stream",
     "text": [
      "\r",
      "Episode 10|Iteration 485|reward:  596.0|last_reward_at:  468|Elapsed Time: 0:00:06||"
     ]
    },
    {
     "name": "stderr",
     "output_type": "stream",
     "text": [
      "\r",
      "Episode 10|Iteration 493|reward:  596.0|last_reward_at:  468|Elapsed Time: 0:00:06||"
     ]
    },
    {
     "name": "stderr",
     "output_type": "stream",
     "text": [
      "\r",
      "Episode 10|Iteration 501|reward:  596.0|last_reward_at:  468|Elapsed Time: 0:00:06||"
     ]
    },
    {
     "name": "stderr",
     "output_type": "stream",
     "text": [
      "\r",
      "Episode 10|Iteration 509|reward:  596.0|last_reward_at:  468|Elapsed Time: 0:00:06||"
     ]
    },
    {
     "name": "stderr",
     "output_type": "stream",
     "text": [
      "\r",
      "Episode 10|Iteration 517|reward:  596.0|last_reward_at:  468|Elapsed Time: 0:00:06||"
     ]
    },
    {
     "name": "stderr",
     "output_type": "stream",
     "text": [
      "\r",
      "Episode 10|Iteration 525|reward:  596.0|last_reward_at:  468|Elapsed Time: 0:00:06||"
     ]
    },
    {
     "name": "stderr",
     "output_type": "stream",
     "text": [
      "\r",
      "Episode 10|Iteration 532|reward:  596.0|last_reward_at:  468|Elapsed Time: 0:00:07||"
     ]
    },
    {
     "name": "stderr",
     "output_type": "stream",
     "text": [
      "\r",
      "Episode 10|Iteration 540|reward:  596.0|last_reward_at:  468|Elapsed Time: 0:00:07||"
     ]
    },
    {
     "name": "stderr",
     "output_type": "stream",
     "text": [
      "\r",
      "Episode 10|Iteration 547|reward:  596.0|last_reward_at:  468|Elapsed Time: 0:00:07||"
     ]
    },
    {
     "name": "stderr",
     "output_type": "stream",
     "text": [
      "\r",
      "Episode 10|Iteration 554|reward:  596.0|last_reward_at:  468|Elapsed Time: 0:00:07||"
     ]
    },
    {
     "name": "stderr",
     "output_type": "stream",
     "text": [
      "\r",
      "Episode 10|Iteration 561|reward:  596.0|last_reward_at:  468|Elapsed Time: 0:00:07||"
     ]
    },
    {
     "name": "stderr",
     "output_type": "stream",
     "text": [
      "\r",
      "Episode 10|Iteration 569|reward:  596.0|last_reward_at:  468|Elapsed Time: 0:00:07||"
     ]
    },
    {
     "name": "stderr",
     "output_type": "stream",
     "text": [
      "\r",
      "Episode 10|Iteration 578|reward:  596.0|last_reward_at:  468|Elapsed Time: 0:00:07||"
     ]
    },
    {
     "name": "stderr",
     "output_type": "stream",
     "text": [
      "\r",
      "Episode 10|Iteration 585|reward:  596.0|last_reward_at:  468|Elapsed Time: 0:00:07||"
     ]
    },
    {
     "name": "stderr",
     "output_type": "stream",
     "text": [
      "\r",
      "Episode 10|Iteration 593|reward:  596.0|last_reward_at:  468|Elapsed Time: 0:00:07||"
     ]
    },
    {
     "name": "stderr",
     "output_type": "stream",
     "text": [
      "\r",
      "Episode 10|Iteration 600|reward:  596.0|last_reward_at:  468|Elapsed Time: 0:00:07||"
     ]
    },
    {
     "name": "stderr",
     "output_type": "stream",
     "text": [
      "\r",
      "Episode 10|Iteration 600|reward:  596.0|last_reward_at:  468|Elapsed Time: 0:00:07||"
     ]
    },
    {
     "name": "stderr",
     "output_type": "stream",
     "text": [
      "\n"
     ]
    },
    {
     "name": "stdout",
     "output_type": "stream",
     "text": [
      "  Episode 10 stopped at t=600 \n",
      "  Breakdown [Reward/NoReward (Success rate)]\n",
      "    explore-local: 0/0 (NaN)\n",
      "    explore-remote: 0/0 (NaN)\n",
      "    explore-connect: 0/0 (NaN)\n",
      "    exploit-local: 5/1 (0.83)\n",
      "    exploit-remote: 7/27 (0.21)\n",
      "    exploit-connect: 5/555 (0.01)\n",
      "  exploit deflected to exploration: 0\n",
      "simulation ended\n"
     ]
    },
    {
     "data": {
      "image/png": "[encoded data removed]",
      "text/plain": [
       "<Figure size 640x480 with 1 Axes>"
      ]
     },
     "metadata": {},
     "output_type": "display_data"
    }
   ],
   "source": [
    "dql_exploit_run = learner.epsilon_greedy_search(\n",
    "    cyberbattlechain_defender,\n",
    "    ep,\n",
    "    learner=dqn_with_defender[\"learner\"],\n",
    "    episode_count=training_episode_count,\n",
    "    iteration_count=iteration_count,\n",
    "    epsilon=0.0,  # 0.35,\n",
    "    render=False,\n",
    "    # render_last_episode_rewards_to='images/chain10',\n",
    "    verbosity=Verbosity.Quiet,\n",
    "    title=\"Exploiting DQL\",\n",
    ")"
   ]
  },
  {
   "cell_type": "code",
   "execution_count": 8,
   "id": "canadian-newton",
   "metadata": {
    "execution": {
     "iopub.execute_input": "2024-08-07T22:36:40.987525Z",
     "iopub.status.busy": "2024-08-07T22:36:40.986905Z",
     "iopub.status.idle": "2024-08-07T22:36:48.862076Z",
     "shell.execute_reply": "2024-08-07T22:36:48.861038Z"
    },
    "lines_to_next_cell": 2,
    "papermill": {
     "duration": 7.930658,
     "end_time": "2024-08-07T22:36:48.863840",
     "exception": false,
     "start_time": "2024-08-07T22:36:40.933182",
     "status": "completed"
    },
    "tags": []
   },
   "outputs": [
    {
     "name": "stdout",
     "output_type": "stream",
     "text": [
      "###### Credential lookups (ϵ-greedy)\n",
      "Learning with: episode_count=10,iteration_count=600,ϵ=0.9,ϵ_min=0.1, ϵ_expdecay=10000,\n",
      "  ## Episode: 1/10 'Credential lookups (ϵ-greedy)' ϵ=0.9000, \n"
     ]
    },
    {
     "name": "stderr",
     "output_type": "stream",
     "text": [
      "\r",
      "Episode 1|Iteration 0|reward: ------|last_reward_at: ----|Elapsed Time: 0:00:00||"
     ]
    },
    {
     "name": "stderr",
     "output_type": "stream",
     "text": [
      "\r",
      "Episode 1|Iteration 1|reward:    0.0|last_reward_at: ----|Elapsed Time: 0:00:00||"
     ]
    },
    {
     "name": "stderr",
     "output_type": "stream",
     "text": [
      "\r",
      "Episode 1|Iteration 4|reward:   14.0|last_reward_at: ----|Elapsed Time: 0:00:00||"
     ]
    },
    {
     "name": "stderr",
     "output_type": "stream",
     "text": [
      "\r",
      "Episode 1|Iteration 4|reward:   14.0|last_reward_at:    4|Elapsed Time: 0:00:00||"
     ]
    },
    {
     "name": "stderr",
     "output_type": "stream",
     "text": [
      "\r",
      "Episode 1|Iteration 5|reward:   16.0|last_reward_at:    4|Elapsed Time: 0:00:00||"
     ]
    },
    {
     "name": "stderr",
     "output_type": "stream",
     "text": [
      "\r",
      "Episode 1|Iteration 5|reward:   16.0|last_reward_at:    5|Elapsed Time: 0:00:00||"
     ]
    },
    {
     "name": "stderr",
     "output_type": "stream",
     "text": [
      "\r",
      "Episode 1|Iteration 7|reward:  116.0|last_reward_at:    5|Elapsed Time: 0:00:00||"
     ]
    },
    {
     "name": "stderr",
     "output_type": "stream",
     "text": [
      "\r",
      "Episode 1|Iteration 7|reward:  116.0|last_reward_at:    7|Elapsed Time: 0:00:00||"
     ]
    },
    {
     "name": "stderr",
     "output_type": "stream",
     "text": [
      "\r",
      "Episode 1|Iteration 8|reward:  127.0|last_reward_at:    7|Elapsed Time: 0:00:00||"
     ]
    },
    {
     "name": "stderr",
     "output_type": "stream",
     "text": [
      "\r",
      "Episode 1|Iteration 8|reward:  127.0|last_reward_at:    8|Elapsed Time: 0:00:00||"
     ]
    },
    {
     "name": "stderr",
     "output_type": "stream",
     "text": [
      "\r",
      "Episode 1|Iteration 12|reward:  136.0|last_reward_at:    8|Elapsed Time: 0:00:00||"
     ]
    },
    {
     "name": "stderr",
     "output_type": "stream",
     "text": [
      "\r",
      "Episode 1|Iteration 12|reward:  136.0|last_reward_at:   12|Elapsed Time: 0:00:00||"
     ]
    },
    {
     "name": "stderr",
     "output_type": "stream",
     "text": [
      "\r",
      "Episode 1|Iteration 16|reward:  144.0|last_reward_at:   12|Elapsed Time: 0:00:00||"
     ]
    },
    {
     "name": "stderr",
     "output_type": "stream",
     "text": [
      "\r",
      "Episode 1|Iteration 16|reward:  144.0|last_reward_at:   16|Elapsed Time: 0:00:00||"
     ]
    },
    {
     "name": "stderr",
     "output_type": "stream",
     "text": [
      "\r",
      "Episode 1|Iteration 18|reward:  146.0|last_reward_at:   16|Elapsed Time: 0:00:00||"
     ]
    },
    {
     "name": "stderr",
     "output_type": "stream",
     "text": [
      "\r",
      "Episode 1|Iteration 18|reward:  146.0|last_reward_at:   18|Elapsed Time: 0:00:00||"
     ]
    },
    {
     "name": "stderr",
     "output_type": "stream",
     "text": [
      "\r",
      "Episode 1|Iteration 20|reward:  246.0|last_reward_at:   18|Elapsed Time: 0:00:00||"
     ]
    },
    {
     "name": "stderr",
     "output_type": "stream",
     "text": [
      "\r",
      "Episode 1|Iteration 20|reward:  246.0|last_reward_at:   20|Elapsed Time: 0:00:00||"
     ]
    },
    {
     "name": "stderr",
     "output_type": "stream",
     "text": [
      "\r",
      "Episode 1|Iteration 32|reward:  260.0|last_reward_at:   20|Elapsed Time: 0:00:00||"
     ]
    },
    {
     "name": "stderr",
     "output_type": "stream",
     "text": [
      "\r",
      "Episode 1|Iteration 32|reward:  260.0|last_reward_at:   32|Elapsed Time: 0:00:00||"
     ]
    },
    {
     "name": "stderr",
     "output_type": "stream",
     "text": [
      "\r",
      "Episode 1|Iteration 33|reward:  262.0|last_reward_at:   32|Elapsed Time: 0:00:00||"
     ]
    },
    {
     "name": "stderr",
     "output_type": "stream",
     "text": [
      "\r",
      "Episode 1|Iteration 33|reward:  262.0|last_reward_at:   33|Elapsed Time: 0:00:00||"
     ]
    },
    {
     "name": "stderr",
     "output_type": "stream",
     "text": [
      "\r",
      "Episode 1|Iteration 44|reward:  266.0|last_reward_at:   33|Elapsed Time: 0:00:00||"
     ]
    },
    {
     "name": "stderr",
     "output_type": "stream",
     "text": [
      "\r",
      "Episode 1|Iteration 44|reward:  266.0|last_reward_at:   44|Elapsed Time: 0:00:00||"
     ]
    },
    {
     "name": "stderr",
     "output_type": "stream",
     "text": [
      "\r",
      "Episode 1|Iteration 47|reward:  272.0|last_reward_at:   44|Elapsed Time: 0:00:00||"
     ]
    },
    {
     "name": "stderr",
     "output_type": "stream",
     "text": [
      "\r",
      "Episode 1|Iteration 47|reward:  272.0|last_reward_at:   47|Elapsed Time: 0:00:00||"
     ]
    },
    {
     "name": "stderr",
     "output_type": "stream",
     "text": [
      "\r",
      "Episode 1|Iteration 50|reward:  372.0|last_reward_at:   47|Elapsed Time: 0:00:00||"
     ]
    },
    {
     "name": "stderr",
     "output_type": "stream",
     "text": [
      "\r",
      "Episode 1|Iteration 50|reward:  372.0|last_reward_at:   50|Elapsed Time: 0:00:00||"
     ]
    },
    {
     "name": "stderr",
     "output_type": "stream",
     "text": [
      "\r",
      "Episode 1|Iteration 65|reward:  383.0|last_reward_at:   50|Elapsed Time: 0:00:00||"
     ]
    },
    {
     "name": "stderr",
     "output_type": "stream",
     "text": [
      "\r",
      "Episode 1|Iteration 65|reward:  383.0|last_reward_at:   65|Elapsed Time: 0:00:00||"
     ]
    },
    {
     "name": "stderr",
     "output_type": "stream",
     "text": [
      "\r",
      "Episode 1|Iteration 74|reward:  391.0|last_reward_at:   65|Elapsed Time: 0:00:00||"
     ]
    },
    {
     "name": "stderr",
     "output_type": "stream",
     "text": [
      "\r",
      "Episode 1|Iteration 74|reward:  391.0|last_reward_at:   74|Elapsed Time: 0:00:00||"
     ]
    },
    {
     "name": "stderr",
     "output_type": "stream",
     "text": [
      "\r",
      "Episode 1|Iteration 80|reward:  400.0|last_reward_at:   74|Elapsed Time: 0:00:00||"
     ]
    },
    {
     "name": "stderr",
     "output_type": "stream",
     "text": [
      "\r",
      "Episode 1|Iteration 80|reward:  400.0|last_reward_at:   80|Elapsed Time: 0:00:00||"
     ]
    },
    {
     "name": "stderr",
     "output_type": "stream",
     "text": [
      "\r",
      "Episode 1|Iteration 81|reward:  406.0|last_reward_at:   80|Elapsed Time: 0:00:00||"
     ]
    },
    {
     "name": "stderr",
     "output_type": "stream",
     "text": [
      "\r",
      "Episode 1|Iteration 81|reward:  406.0|last_reward_at:   81|Elapsed Time: 0:00:00||"
     ]
    },
    {
     "name": "stderr",
     "output_type": "stream",
     "text": [
      "\r",
      "Episode 1|Iteration 92|reward:  506.0|last_reward_at:   81|Elapsed Time: 0:00:00||"
     ]
    },
    {
     "name": "stderr",
     "output_type": "stream",
     "text": [
      "\r",
      "Episode 1|Iteration 92|reward:  506.0|last_reward_at:   92|Elapsed Time: 0:00:00||"
     ]
    },
    {
     "name": "stderr",
     "output_type": "stream",
     "text": [
      "\r",
      "Episode 1|Iteration 122|reward:  506.0|last_reward_at:   92|Elapsed Time: 0:00:00||"
     ]
    },
    {
     "name": "stderr",
     "output_type": "stream",
     "text": [
      "\r",
      "Episode 1|Iteration 129|reward:  517.0|last_reward_at:   92|Elapsed Time: 0:00:00||"
     ]
    },
    {
     "name": "stderr",
     "output_type": "stream",
     "text": [
      "\r",
      "Episode 1|Iteration 129|reward:  517.0|last_reward_at:  129|Elapsed Time: 0:00:00||"
     ]
    },
    {
     "name": "stderr",
     "output_type": "stream",
     "text": [
      "\r",
      "Episode 1|Iteration 137|reward:  521.0|last_reward_at:  129|Elapsed Time: 0:00:00||"
     ]
    },
    {
     "name": "stderr",
     "output_type": "stream",
     "text": [
      "\r",
      "Episode 1|Iteration 137|reward:  521.0|last_reward_at:  137|Elapsed Time: 0:00:00||"
     ]
    },
    {
     "name": "stderr",
     "output_type": "stream",
     "text": [
      "\r",
      "Episode 1|Iteration 143|reward:  530.0|last_reward_at:  137|Elapsed Time: 0:00:00||"
     ]
    },
    {
     "name": "stderr",
     "output_type": "stream",
     "text": [
      "\r",
      "Episode 1|Iteration 143|reward:  530.0|last_reward_at:  143|Elapsed Time: 0:00:00||"
     ]
    },
    {
     "name": "stderr",
     "output_type": "stream",
     "text": [
      "\r",
      "Episode 1|Iteration 161|reward:  532.0|last_reward_at:  143|Elapsed Time: 0:00:00||"
     ]
    },
    {
     "name": "stderr",
     "output_type": "stream",
     "text": [
      "\r",
      "Episode 1|Iteration 161|reward:  532.0|last_reward_at:  161|Elapsed Time: 0:00:00||"
     ]
    },
    {
     "name": "stderr",
     "output_type": "stream",
     "text": [
      "\r",
      "Episode 1|Iteration 164|reward:  632.0|last_reward_at:  161|Elapsed Time: 0:00:00||"
     ]
    },
    {
     "name": "stderr",
     "output_type": "stream",
     "text": [
      "\r",
      "Episode 1|Iteration 164|reward:  632.0|last_reward_at:  164|Elapsed Time: 0:00:00||"
     ]
    },
    {
     "name": "stderr",
     "output_type": "stream",
     "text": [
      "\r",
      "Episode 1|Iteration 172|reward:  643.0|last_reward_at:  164|Elapsed Time: 0:00:00||"
     ]
    },
    {
     "name": "stderr",
     "output_type": "stream",
     "text": [
      "\r",
      "Episode 1|Iteration 172|reward:  643.0|last_reward_at:  172|Elapsed Time: 0:00:00||"
     ]
    },
    {
     "name": "stderr",
     "output_type": "stream",
     "text": [
      "\r",
      "Episode 1|Iteration 173|reward:  649.0|last_reward_at:  172|Elapsed Time: 0:00:00||"
     ]
    },
    {
     "name": "stderr",
     "output_type": "stream",
     "text": [
      "\r",
      "Episode 1|Iteration 173|reward:  649.0|last_reward_at:  173|Elapsed Time: 0:00:00||"
     ]
    },
    {
     "name": "stderr",
     "output_type": "stream",
     "text": [
      "\r",
      "Episode 1|Iteration 181|reward:  655.0|last_reward_at:  173|Elapsed Time: 0:00:00||"
     ]
    },
    {
     "name": "stderr",
     "output_type": "stream",
     "text": [
      "\r",
      "Episode 1|Iteration 181|reward:  655.0|last_reward_at:  181|Elapsed Time: 0:00:00||"
     ]
    },
    {
     "name": "stderr",
     "output_type": "stream",
     "text": [
      "\r",
      "Episode 1|Iteration 185|reward:  663.0|last_reward_at:  181|Elapsed Time: 0:00:00||"
     ]
    },
    {
     "name": "stderr",
     "output_type": "stream",
     "text": [
      "\r",
      "Episode 1|Iteration 185|reward:  663.0|last_reward_at:  185|Elapsed Time: 0:00:00||"
     ]
    },
    {
     "name": "stderr",
     "output_type": "stream",
     "text": [
      "\r",
      "Episode 1|Iteration 213|reward:  672.0|last_reward_at:  185|Elapsed Time: 0:00:00||"
     ]
    },
    {
     "name": "stderr",
     "output_type": "stream",
     "text": [
      "\r",
      "Episode 1|Iteration 213|reward:  672.0|last_reward_at:  213|Elapsed Time: 0:00:00||"
     ]
    },
    {
     "name": "stderr",
     "output_type": "stream",
     "text": [
      "\r",
      "Episode 1|Iteration 224|reward:  772.0|last_reward_at:  213|Elapsed Time: 0:00:00||"
     ]
    },
    {
     "name": "stderr",
     "output_type": "stream",
     "text": [
      "\r",
      "Episode 1|Iteration 224|reward:  772.0|last_reward_at:  224|Elapsed Time: 0:00:00||"
     ]
    },
    {
     "name": "stderr",
     "output_type": "stream",
     "text": [
      "\r",
      "Episode 1|Iteration 227|reward:  786.0|last_reward_at:  224|Elapsed Time: 0:00:00||"
     ]
    },
    {
     "name": "stderr",
     "output_type": "stream",
     "text": [
      "\r",
      "Episode 1|Iteration 227|reward:  786.0|last_reward_at:  227|Elapsed Time: 0:00:00||"
     ]
    },
    {
     "name": "stderr",
     "output_type": "stream",
     "text": [
      "\r",
      "Episode 1|Iteration 233|reward:  790.0|last_reward_at:  227|Elapsed Time: 0:00:00||"
     ]
    },
    {
     "name": "stderr",
     "output_type": "stream",
     "text": [
      "\r",
      "Episode 1|Iteration 233|reward:  790.0|last_reward_at:  233|Elapsed Time: 0:00:00||"
     ]
    },
    {
     "name": "stderr",
     "output_type": "stream",
     "text": [
      "\r",
      "Episode 1|Iteration 253|reward:  792.0|last_reward_at:  233|Elapsed Time: 0:00:00||"
     ]
    },
    {
     "name": "stderr",
     "output_type": "stream",
     "text": [
      "\r",
      "Episode 1|Iteration 253|reward:  792.0|last_reward_at:  253|Elapsed Time: 0:00:00||"
     ]
    },
    {
     "name": "stderr",
     "output_type": "stream",
     "text": [
      "\r",
      "Episode 1|Iteration 282|reward:  792.0|last_reward_at:  253|Elapsed Time: 0:00:00||"
     ]
    },
    {
     "name": "stderr",
     "output_type": "stream",
     "text": [
      "\r",
      "Episode 1|Iteration 287|reward:  798.0|last_reward_at:  253|Elapsed Time: 0:00:00||"
     ]
    },
    {
     "name": "stderr",
     "output_type": "stream",
     "text": [
      "\r",
      "Episode 1|Iteration 287|reward:  798.0|last_reward_at:  287|Elapsed Time: 0:00:00||"
     ]
    },
    {
     "name": "stderr",
     "output_type": "stream",
     "text": [
      "\r",
      "Episode 1|Iteration 289|reward:  898.0|last_reward_at:  287|Elapsed Time: 0:00:00||"
     ]
    },
    {
     "name": "stderr",
     "output_type": "stream",
     "text": [
      "\r",
      "Episode 1|Iteration 289|reward:  898.0|last_reward_at:  289|Elapsed Time: 0:00:00||"
     ]
    },
    {
     "name": "stderr",
     "output_type": "stream",
     "text": [
      "\r",
      "Episode 1|Iteration 312|reward:  898.0|last_reward_at:  289|Elapsed Time: 0:00:00||"
     ]
    },
    {
     "name": "stderr",
     "output_type": "stream",
     "text": [
      "\r",
      "Episode 1|Iteration 336|reward:  912.0|last_reward_at:  289|Elapsed Time: 0:00:00||"
     ]
    },
    {
     "name": "stderr",
     "output_type": "stream",
     "text": [
      "\r",
      "Episode 1|Iteration 336|reward:  912.0|last_reward_at:  336|Elapsed Time: 0:00:00||"
     ]
    },
    {
     "name": "stderr",
     "output_type": "stream",
     "text": [
      "\r",
      "Episode 1|Iteration 365|reward:  912.0|last_reward_at:  336|Elapsed Time: 0:00:00||"
     ]
    },
    {
     "name": "stderr",
     "output_type": "stream",
     "text": [
      "\r",
      "Episode 1|Iteration 373|reward:  918.0|last_reward_at:  336|Elapsed Time: 0:00:00||"
     ]
    },
    {
     "name": "stderr",
     "output_type": "stream",
     "text": [
      "\r",
      "Episode 1|Iteration 373|reward:  918.0|last_reward_at:  373|Elapsed Time: 0:00:00||"
     ]
    },
    {
     "name": "stderr",
     "output_type": "stream",
     "text": [
      "\r",
      "Episode 1|Iteration 374|reward:  924.0|last_reward_at:  373|Elapsed Time: 0:00:00||"
     ]
    },
    {
     "name": "stderr",
     "output_type": "stream",
     "text": [
      "\r",
      "Episode 1|Iteration 374|reward:  924.0|last_reward_at:  374|Elapsed Time: 0:00:00||"
     ]
    },
    {
     "name": "stderr",
     "output_type": "stream",
     "text": [
      "\r",
      "Episode 1|Iteration 403|reward:  924.0|last_reward_at:  374|Elapsed Time: 0:00:00||"
     ]
    },
    {
     "name": "stderr",
     "output_type": "stream",
     "text": [
      "\r",
      "Episode 1|Iteration 435|reward: 1024.0|last_reward_at:  374|Elapsed Time: 0:00:00||"
     ]
    },
    {
     "name": "stderr",
     "output_type": "stream",
     "text": [
      "\r",
      "Episode 1|Iteration 435|reward: 1024.0|last_reward_at:  435|Elapsed Time: 0:00:00||"
     ]
    },
    {
     "name": "stderr",
     "output_type": "stream",
     "text": [
      "\r",
      "Episode 1|Iteration 438|reward: 1038.0|last_reward_at:  435|Elapsed Time: 0:00:00||"
     ]
    },
    {
     "name": "stderr",
     "output_type": "stream",
     "text": [
      "\r",
      "Episode 1|Iteration 438|reward: 1038.0|last_reward_at:  438|Elapsed Time: 0:00:00||"
     ]
    },
    {
     "name": "stderr",
     "output_type": "stream",
     "text": [
      "\r",
      "Episode 1|Iteration 443|reward: 1042.0|last_reward_at:  438|Elapsed Time: 0:00:00||"
     ]
    },
    {
     "name": "stderr",
     "output_type": "stream",
     "text": [
      "\r",
      "Episode 1|Iteration 443|reward: 1042.0|last_reward_at:  443|Elapsed Time: 0:00:00||"
     ]
    },
    {
     "name": "stderr",
     "output_type": "stream",
     "text": [
      "\r",
      "Episode 1|Iteration 473|reward: 1142.0|last_reward_at:  443|Elapsed Time: 0:00:00||"
     ]
    },
    {
     "name": "stderr",
     "output_type": "stream",
     "text": [
      "\r",
      "Episode 1|Iteration 473|reward: 1142.0|last_reward_at:  473|Elapsed Time: 0:00:00||"
     ]
    },
    {
     "name": "stderr",
     "output_type": "stream",
     "text": [
      "\r",
      "Episode 1|Iteration 494|reward: 1142.0|last_reward_at:  473|Elapsed Time: 0:00:01||"
     ]
    },
    {
     "name": "stderr",
     "output_type": "stream",
     "text": [
      "\r",
      "Episode 1|Iteration 495|reward: 1156.0|last_reward_at:  473|Elapsed Time: 0:00:01||"
     ]
    },
    {
     "name": "stderr",
     "output_type": "stream",
     "text": [
      "\r",
      "Episode 1|Iteration 495|reward: 1156.0|last_reward_at:  495|Elapsed Time: 0:00:01||"
     ]
    },
    {
     "name": "stderr",
     "output_type": "stream",
     "text": [
      "\r",
      "Episode 1|Iteration 517|reward: 1156.0|last_reward_at:  495|Elapsed Time: 0:00:01||"
     ]
    },
    {
     "name": "stderr",
     "output_type": "stream",
     "text": [
      "\r",
      "Episode 1|Iteration 520|reward: 1162.0|last_reward_at:  495|Elapsed Time: 0:00:01||"
     ]
    },
    {
     "name": "stderr",
     "output_type": "stream",
     "text": [
      "\r",
      "Episode 1|Iteration 520|reward: 1162.0|last_reward_at:  520|Elapsed Time: 0:00:01||"
     ]
    },
    {
     "name": "stderr",
     "output_type": "stream",
     "text": [
      "\r",
      "Episode 1|Iteration 523|reward: 1168.0|last_reward_at:  520|Elapsed Time: 0:00:01||"
     ]
    },
    {
     "name": "stderr",
     "output_type": "stream",
     "text": [
      "\r",
      "Episode 1|Iteration 523|reward: 1168.0|last_reward_at:  523|Elapsed Time: 0:00:01||"
     ]
    },
    {
     "name": "stderr",
     "output_type": "stream",
     "text": [
      "\r",
      "Episode 1|Iteration 526|reward: 6168.0|last_reward_at:  523|Elapsed Time: 0:00:01||"
     ]
    },
    {
     "name": "stderr",
     "output_type": "stream",
     "text": [
      "\r",
      "Episode 1|Iteration 526|reward: 6168.0|last_reward_at:  526|Elapsed Time: 0:00:01||"
     ]
    },
    {
     "name": "stderr",
     "output_type": "stream",
     "text": [
      "\n"
     ]
    },
    {
     "name": "stdout",
     "output_type": "stream",
     "text": [
      "  Episode 1 ended at t=526 \n",
      "  Breakdown [Reward/NoReward (Success rate)]\n",
      "    explore-local: 18/171 (0.10)\n",
      "    explore-remote: 18/271 (0.06)\n",
      "    explore-connect: 0/0 (NaN)\n",
      "    exploit-local: 0/0 (NaN)\n",
      "    exploit-remote: 0/0 (NaN)\n",
      "    exploit-connect: 9/39 (0.19)\n",
      "  exploit deflected to exploration: 14\n",
      "  ## Episode: 2/10 'Credential lookups (ϵ-greedy)' ϵ=0.8591, \n"
     ]
    },
    {
     "name": "stderr",
     "output_type": "stream",
     "text": [
      "\r",
      "Episode 2|Iteration 0|reward: ------|last_reward_at: ----|Elapsed Time: 0:00:00||"
     ]
    },
    {
     "name": "stderr",
     "output_type": "stream",
     "text": [
      "\r",
      "Episode 2|Iteration 1|reward:    0.0|last_reward_at: ----|Elapsed Time: 0:00:00||"
     ]
    },
    {
     "name": "stderr",
     "output_type": "stream",
     "text": [
      "\r",
      "Episode 2|Iteration 4|reward:   14.0|last_reward_at: ----|Elapsed Time: 0:00:00||"
     ]
    },
    {
     "name": "stderr",
     "output_type": "stream",
     "text": [
      "\r",
      "Episode 2|Iteration 4|reward:   14.0|last_reward_at:    4|Elapsed Time: 0:00:00||"
     ]
    },
    {
     "name": "stderr",
     "output_type": "stream",
     "text": [
      "\r",
      "Episode 2|Iteration 6|reward:   16.0|last_reward_at:    4|Elapsed Time: 0:00:00||"
     ]
    },
    {
     "name": "stderr",
     "output_type": "stream",
     "text": [
      "\r",
      "Episode 2|Iteration 6|reward:   16.0|last_reward_at:    6|Elapsed Time: 0:00:00||"
     ]
    },
    {
     "name": "stderr",
     "output_type": "stream",
     "text": [
      "\r",
      "Episode 2|Iteration 10|reward:   20.0|last_reward_at:    6|Elapsed Time: 0:00:00||"
     ]
    },
    {
     "name": "stderr",
     "output_type": "stream",
     "text": [
      "\r",
      "Episode 2|Iteration 10|reward:   20.0|last_reward_at:   10|Elapsed Time: 0:00:00||"
     ]
    },
    {
     "name": "stderr",
     "output_type": "stream",
     "text": [
      "\r",
      "Episode 2|Iteration 12|reward:  120.0|last_reward_at:   10|Elapsed Time: 0:00:00||"
     ]
    },
    {
     "name": "stderr",
     "output_type": "stream",
     "text": [
      "\r",
      "Episode 2|Iteration 12|reward:  120.0|last_reward_at:   12|Elapsed Time: 0:00:00||"
     ]
    },
    {
     "name": "stderr",
     "output_type": "stream",
     "text": [
      "\r",
      "Episode 2|Iteration 22|reward:  134.0|last_reward_at:   12|Elapsed Time: 0:00:00||"
     ]
    },
    {
     "name": "stderr",
     "output_type": "stream",
     "text": [
      "\r",
      "Episode 2|Iteration 22|reward:  134.0|last_reward_at:   22|Elapsed Time: 0:00:00||"
     ]
    },
    {
     "name": "stderr",
     "output_type": "stream",
     "text": [
      "\r",
      "Episode 2|Iteration 24|reward:  234.0|last_reward_at:   22|Elapsed Time: 0:00:00||"
     ]
    },
    {
     "name": "stderr",
     "output_type": "stream",
     "text": [
      "\r",
      "Episode 2|Iteration 24|reward:  234.0|last_reward_at:   24|Elapsed Time: 0:00:00||"
     ]
    },
    {
     "name": "stderr",
     "output_type": "stream",
     "text": [
      "\r",
      "Episode 2|Iteration 42|reward:  240.0|last_reward_at:   24|Elapsed Time: 0:00:00||"
     ]
    },
    {
     "name": "stderr",
     "output_type": "stream",
     "text": [
      "\r",
      "Episode 2|Iteration 42|reward:  240.0|last_reward_at:   42|Elapsed Time: 0:00:00||"
     ]
    },
    {
     "name": "stderr",
     "output_type": "stream",
     "text": [
      "\r",
      "Episode 2|Iteration 45|reward:  246.0|last_reward_at:   42|Elapsed Time: 0:00:00||"
     ]
    },
    {
     "name": "stderr",
     "output_type": "stream",
     "text": [
      "\r",
      "Episode 2|Iteration 45|reward:  246.0|last_reward_at:   45|Elapsed Time: 0:00:00||"
     ]
    },
    {
     "name": "stderr",
     "output_type": "stream",
     "text": [
      "\r",
      "Episode 2|Iteration 76|reward:  246.0|last_reward_at:   45|Elapsed Time: 0:00:00||"
     ]
    },
    {
     "name": "stderr",
     "output_type": "stream",
     "text": [
      "\r",
      "Episode 2|Iteration 81|reward:  257.0|last_reward_at:   45|Elapsed Time: 0:00:00||"
     ]
    },
    {
     "name": "stderr",
     "output_type": "stream",
     "text": [
      "\r",
      "Episode 2|Iteration 81|reward:  257.0|last_reward_at:   81|Elapsed Time: 0:00:00||"
     ]
    },
    {
     "name": "stderr",
     "output_type": "stream",
     "text": [
      "\r",
      "Episode 2|Iteration 90|reward:  259.0|last_reward_at:   81|Elapsed Time: 0:00:00||"
     ]
    },
    {
     "name": "stderr",
     "output_type": "stream",
     "text": [
      "\r",
      "Episode 2|Iteration 90|reward:  259.0|last_reward_at:   90|Elapsed Time: 0:00:00||"
     ]
    },
    {
     "name": "stderr",
     "output_type": "stream",
     "text": [
      "\r",
      "Episode 2|Iteration 108|reward:  263.0|last_reward_at:   90|Elapsed Time: 0:00:00||"
     ]
    },
    {
     "name": "stderr",
     "output_type": "stream",
     "text": [
      "\r",
      "Episode 2|Iteration 108|reward:  263.0|last_reward_at:  108|Elapsed Time: 0:00:00||"
     ]
    },
    {
     "name": "stderr",
     "output_type": "stream",
     "text": [
      "\r",
      "Episode 2|Iteration 145|reward:  263.0|last_reward_at:  108|Elapsed Time: 0:00:00||"
     ]
    },
    {
     "name": "stderr",
     "output_type": "stream",
     "text": [
      "\r",
      "Episode 2|Iteration 148|reward:  272.0|last_reward_at:  108|Elapsed Time: 0:00:00||"
     ]
    },
    {
     "name": "stderr",
     "output_type": "stream",
     "text": [
      "\r",
      "Episode 2|Iteration 148|reward:  272.0|last_reward_at:  148|Elapsed Time: 0:00:00||"
     ]
    },
    {
     "name": "stderr",
     "output_type": "stream",
     "text": [
      "\r",
      "Episode 2|Iteration 162|reward:  372.0|last_reward_at:  148|Elapsed Time: 0:00:00||"
     ]
    },
    {
     "name": "stderr",
     "output_type": "stream",
     "text": [
      "\r",
      "Episode 2|Iteration 162|reward:  372.0|last_reward_at:  162|Elapsed Time: 0:00:00||"
     ]
    },
    {
     "name": "stderr",
     "output_type": "stream",
     "text": [
      "\r",
      "Episode 2|Iteration 167|reward:  378.0|last_reward_at:  162|Elapsed Time: 0:00:00||"
     ]
    },
    {
     "name": "stderr",
     "output_type": "stream",
     "text": [
      "\r",
      "Episode 2|Iteration 167|reward:  378.0|last_reward_at:  167|Elapsed Time: 0:00:00||"
     ]
    },
    {
     "name": "stderr",
     "output_type": "stream",
     "text": [
      "\r",
      "Episode 2|Iteration 183|reward:  392.0|last_reward_at:  167|Elapsed Time: 0:00:00||"
     ]
    },
    {
     "name": "stderr",
     "output_type": "stream",
     "text": [
      "\r",
      "Episode 2|Iteration 183|reward:  392.0|last_reward_at:  183|Elapsed Time: 0:00:00||"
     ]
    },
    {
     "name": "stderr",
     "output_type": "stream",
     "text": [
      "\r",
      "Episode 2|Iteration 186|reward:  398.0|last_reward_at:  183|Elapsed Time: 0:00:00||"
     ]
    },
    {
     "name": "stderr",
     "output_type": "stream",
     "text": [
      "\r",
      "Episode 2|Iteration 186|reward:  398.0|last_reward_at:  186|Elapsed Time: 0:00:00||"
     ]
    },
    {
     "name": "stderr",
     "output_type": "stream",
     "text": [
      "\r",
      "Episode 2|Iteration 191|reward:  406.0|last_reward_at:  186|Elapsed Time: 0:00:00||"
     ]
    },
    {
     "name": "stderr",
     "output_type": "stream",
     "text": [
      "\r",
      "Episode 2|Iteration 191|reward:  406.0|last_reward_at:  191|Elapsed Time: 0:00:00||"
     ]
    },
    {
     "name": "stderr",
     "output_type": "stream",
     "text": [
      "\r",
      "Episode 2|Iteration 193|reward:  412.0|last_reward_at:  191|Elapsed Time: 0:00:00||"
     ]
    },
    {
     "name": "stderr",
     "output_type": "stream",
     "text": [
      "\r",
      "Episode 2|Iteration 193|reward:  412.0|last_reward_at:  193|Elapsed Time: 0:00:00||"
     ]
    },
    {
     "name": "stderr",
     "output_type": "stream",
     "text": [
      "\r",
      "Episode 2|Iteration 236|reward:  412.0|last_reward_at:  193|Elapsed Time: 0:00:00||"
     ]
    },
    {
     "name": "stderr",
     "output_type": "stream",
     "text": [
      "\r",
      "Episode 2|Iteration 240|reward:  512.0|last_reward_at:  193|Elapsed Time: 0:00:00||"
     ]
    },
    {
     "name": "stderr",
     "output_type": "stream",
     "text": [
      "\r",
      "Episode 2|Iteration 240|reward:  512.0|last_reward_at:  240|Elapsed Time: 0:00:00||"
     ]
    },
    {
     "name": "stderr",
     "output_type": "stream",
     "text": [
      "\r",
      "Episode 2|Iteration 269|reward:  523.0|last_reward_at:  240|Elapsed Time: 0:00:00||"
     ]
    },
    {
     "name": "stderr",
     "output_type": "stream",
     "text": [
      "\r",
      "Episode 2|Iteration 269|reward:  523.0|last_reward_at:  269|Elapsed Time: 0:00:00||"
     ]
    },
    {
     "name": "stderr",
     "output_type": "stream",
     "text": [
      "\r",
      "Episode 2|Iteration 284|reward:  527.0|last_reward_at:  269|Elapsed Time: 0:00:00||"
     ]
    },
    {
     "name": "stderr",
     "output_type": "stream",
     "text": [
      "\r",
      "Episode 2|Iteration 284|reward:  527.0|last_reward_at:  284|Elapsed Time: 0:00:00||"
     ]
    },
    {
     "name": "stderr",
     "output_type": "stream",
     "text": [
      "\r",
      "Episode 2|Iteration 319|reward:  527.0|last_reward_at:  284|Elapsed Time: 0:00:00||"
     ]
    },
    {
     "name": "stderr",
     "output_type": "stream",
     "text": [
      "\r",
      "Episode 2|Iteration 346|reward:  529.0|last_reward_at:  284|Elapsed Time: 0:00:00||"
     ]
    },
    {
     "name": "stderr",
     "output_type": "stream",
     "text": [
      "\r",
      "Episode 2|Iteration 346|reward:  529.0|last_reward_at:  346|Elapsed Time: 0:00:00||"
     ]
    },
    {
     "name": "stderr",
     "output_type": "stream",
     "text": [
      "\r",
      "Episode 2|Iteration 380|reward:  529.0|last_reward_at:  346|Elapsed Time: 0:00:00||"
     ]
    },
    {
     "name": "stderr",
     "output_type": "stream",
     "text": [
      "\r",
      "Episode 2|Iteration 411|reward:  529.0|last_reward_at:  346|Elapsed Time: 0:00:00||"
     ]
    },
    {
     "name": "stderr",
     "output_type": "stream",
     "text": [
      "\r",
      "Episode 2|Iteration 433|reward:  529.0|last_reward_at:  346|Elapsed Time: 0:00:00||"
     ]
    },
    {
     "name": "stderr",
     "output_type": "stream",
     "text": [
      "\r",
      "Episode 2|Iteration 464|reward:  529.0|last_reward_at:  346|Elapsed Time: 0:00:00||"
     ]
    },
    {
     "name": "stderr",
     "output_type": "stream",
     "text": [
      "\r",
      "Episode 2|Iteration 494|reward:  529.0|last_reward_at:  346|Elapsed Time: 0:00:00||"
     ]
    },
    {
     "name": "stderr",
     "output_type": "stream",
     "text": [
      "\r",
      "Episode 2|Iteration 494|reward:  538.0|last_reward_at:  346|Elapsed Time: 0:00:00||"
     ]
    },
    {
     "name": "stderr",
     "output_type": "stream",
     "text": [
      "\r",
      "Episode 2|Iteration 494|reward:  538.0|last_reward_at:  494|Elapsed Time: 0:00:00||"
     ]
    },
    {
     "name": "stderr",
     "output_type": "stream",
     "text": [
      "\r",
      "Episode 2|Iteration 506|reward:  638.0|last_reward_at:  494|Elapsed Time: 0:00:00||"
     ]
    },
    {
     "name": "stderr",
     "output_type": "stream",
     "text": [
      "\r",
      "Episode 2|Iteration 506|reward:  638.0|last_reward_at:  506|Elapsed Time: 0:00:00||"
     ]
    },
    {
     "name": "stderr",
     "output_type": "stream",
     "text": [
      "\r",
      "Episode 2|Iteration 510|reward:  649.0|last_reward_at:  506|Elapsed Time: 0:00:00||"
     ]
    },
    {
     "name": "stderr",
     "output_type": "stream",
     "text": [
      "\r",
      "Episode 2|Iteration 510|reward:  649.0|last_reward_at:  510|Elapsed Time: 0:00:00||"
     ]
    },
    {
     "name": "stderr",
     "output_type": "stream",
     "text": [
      "\r",
      "Episode 2|Iteration 521|reward:  657.0|last_reward_at:  510|Elapsed Time: 0:00:00||"
     ]
    },
    {
     "name": "stderr",
     "output_type": "stream",
     "text": [
      "\r",
      "Episode 2|Iteration 521|reward:  657.0|last_reward_at:  521|Elapsed Time: 0:00:00||"
     ]
    },
    {
     "name": "stderr",
     "output_type": "stream",
     "text": [
      "\r",
      "Episode 2|Iteration 531|reward: 5657.0|last_reward_at:  521|Elapsed Time: 0:00:00||"
     ]
    },
    {
     "name": "stderr",
     "output_type": "stream",
     "text": [
      "\r",
      "Episode 2|Iteration 531|reward: 5657.0|last_reward_at:  531|Elapsed Time: 0:00:00||"
     ]
    },
    {
     "name": "stderr",
     "output_type": "stream",
     "text": [
      "\n"
     ]
    },
    {
     "name": "stdout",
     "output_type": "stream",
     "text": [
      "  Episode 2 ended at t=531 \n",
      "  Breakdown [Reward/NoReward (Success rate)]\n",
      "    explore-local: 11/128 (0.08)\n",
      "    explore-remote: 11/294 (0.04)\n",
      "    explore-connect: 0/0 (NaN)\n",
      "    exploit-local: 0/0 (NaN)\n",
      "    exploit-remote: 0/0 (NaN)\n",
      "    exploit-connect: 5/82 (0.06)\n",
      "  exploit deflected to exploration: 9\n",
      "  ## Episode: 3/10 'Credential lookups (ϵ-greedy)' ϵ=0.8198, \n"
     ]
    },
    {
     "name": "stderr",
     "output_type": "stream",
     "text": [
      "\r",
      "Episode 3|Iteration 0|reward: ------|last_reward_at: ----|Elapsed Time: 0:00:00||"
     ]
    },
    {
     "name": "stderr",
     "output_type": "stream",
     "text": [
      "\r",
      "Episode 3|Iteration 1|reward:    0.0|last_reward_at: ----|Elapsed Time: 0:00:00||"
     ]
    },
    {
     "name": "stderr",
     "output_type": "stream",
     "text": [
      "\r",
      "Episode 3|Iteration 9|reward:   14.0|last_reward_at: ----|Elapsed Time: 0:00:00||"
     ]
    },
    {
     "name": "stderr",
     "output_type": "stream",
     "text": [
      "\r",
      "Episode 3|Iteration 9|reward:   14.0|last_reward_at:    9|Elapsed Time: 0:00:00||"
     ]
    },
    {
     "name": "stderr",
     "output_type": "stream",
     "text": [
      "\r",
      "Episode 3|Iteration 10|reward:  114.0|last_reward_at:    9|Elapsed Time: 0:00:00||"
     ]
    },
    {
     "name": "stderr",
     "output_type": "stream",
     "text": [
      "\r",
      "Episode 3|Iteration 10|reward:  114.0|last_reward_at:   10|Elapsed Time: 0:00:00||"
     ]
    },
    {
     "name": "stderr",
     "output_type": "stream",
     "text": [
      "\r",
      "Episode 3|Iteration 11|reward:  116.0|last_reward_at:   10|Elapsed Time: 0:00:00||"
     ]
    },
    {
     "name": "stderr",
     "output_type": "stream",
     "text": [
      "\r",
      "Episode 3|Iteration 11|reward:  116.0|last_reward_at:   11|Elapsed Time: 0:00:00||"
     ]
    },
    {
     "name": "stderr",
     "output_type": "stream",
     "text": [
      "\r",
      "Episode 3|Iteration 13|reward:  130.0|last_reward_at:   11|Elapsed Time: 0:00:00||"
     ]
    },
    {
     "name": "stderr",
     "output_type": "stream",
     "text": [
      "\r",
      "Episode 3|Iteration 13|reward:  130.0|last_reward_at:   13|Elapsed Time: 0:00:00||"
     ]
    },
    {
     "name": "stderr",
     "output_type": "stream",
     "text": [
      "\r",
      "Episode 3|Iteration 15|reward:  138.0|last_reward_at:   13|Elapsed Time: 0:00:00||"
     ]
    },
    {
     "name": "stderr",
     "output_type": "stream",
     "text": [
      "\r",
      "Episode 3|Iteration 15|reward:  138.0|last_reward_at:   15|Elapsed Time: 0:00:00||"
     ]
    },
    {
     "name": "stderr",
     "output_type": "stream",
     "text": [
      "\r",
      "Episode 3|Iteration 16|reward:  238.0|last_reward_at:   15|Elapsed Time: 0:00:00||"
     ]
    },
    {
     "name": "stderr",
     "output_type": "stream",
     "text": [
      "\r",
      "Episode 3|Iteration 16|reward:  238.0|last_reward_at:   16|Elapsed Time: 0:00:00||"
     ]
    },
    {
     "name": "stderr",
     "output_type": "stream",
     "text": [
      "\r",
      "Episode 3|Iteration 17|reward:  244.0|last_reward_at:   16|Elapsed Time: 0:00:00||"
     ]
    },
    {
     "name": "stderr",
     "output_type": "stream",
     "text": [
      "\r",
      "Episode 3|Iteration 17|reward:  244.0|last_reward_at:   17|Elapsed Time: 0:00:00||"
     ]
    },
    {
     "name": "stderr",
     "output_type": "stream",
     "text": [
      "\r",
      "Episode 3|Iteration 42|reward:  258.0|last_reward_at:   17|Elapsed Time: 0:00:00||"
     ]
    },
    {
     "name": "stderr",
     "output_type": "stream",
     "text": [
      "\r",
      "Episode 3|Iteration 42|reward:  258.0|last_reward_at:   42|Elapsed Time: 0:00:00||"
     ]
    },
    {
     "name": "stderr",
     "output_type": "stream",
     "text": [
      "\r",
      "Episode 3|Iteration 44|reward:  262.0|last_reward_at:   42|Elapsed Time: 0:00:00||"
     ]
    },
    {
     "name": "stderr",
     "output_type": "stream",
     "text": [
      "\r",
      "Episode 3|Iteration 44|reward:  262.0|last_reward_at:   44|Elapsed Time: 0:00:00||"
     ]
    },
    {
     "name": "stderr",
     "output_type": "stream",
     "text": [
      "\r",
      "Episode 3|Iteration 46|reward:  362.0|last_reward_at:   44|Elapsed Time: 0:00:00||"
     ]
    },
    {
     "name": "stderr",
     "output_type": "stream",
     "text": [
      "\r",
      "Episode 3|Iteration 46|reward:  362.0|last_reward_at:   46|Elapsed Time: 0:00:00||"
     ]
    },
    {
     "name": "stderr",
     "output_type": "stream",
     "text": [
      "\r",
      "Episode 3|Iteration 49|reward:  376.0|last_reward_at:   46|Elapsed Time: 0:00:00||"
     ]
    },
    {
     "name": "stderr",
     "output_type": "stream",
     "text": [
      "\r",
      "Episode 3|Iteration 49|reward:  376.0|last_reward_at:   49|Elapsed Time: 0:00:00||"
     ]
    },
    {
     "name": "stderr",
     "output_type": "stream",
     "text": [
      "\r",
      "Episode 3|Iteration 50|reward:  476.0|last_reward_at:   49|Elapsed Time: 0:00:00||"
     ]
    },
    {
     "name": "stderr",
     "output_type": "stream",
     "text": [
      "\r",
      "Episode 3|Iteration 50|reward:  476.0|last_reward_at:   50|Elapsed Time: 0:00:00||"
     ]
    },
    {
     "name": "stderr",
     "output_type": "stream",
     "text": [
      "\r",
      "Episode 3|Iteration 55|reward:  478.0|last_reward_at:   50|Elapsed Time: 0:00:00||"
     ]
    },
    {
     "name": "stderr",
     "output_type": "stream",
     "text": [
      "\r",
      "Episode 3|Iteration 55|reward:  478.0|last_reward_at:   55|Elapsed Time: 0:00:00||"
     ]
    },
    {
     "name": "stderr",
     "output_type": "stream",
     "text": [
      "\r",
      "Episode 3|Iteration 56|reward:  484.0|last_reward_at:   55|Elapsed Time: 0:00:00||"
     ]
    },
    {
     "name": "stderr",
     "output_type": "stream",
     "text": [
      "\r",
      "Episode 3|Iteration 56|reward:  484.0|last_reward_at:   56|Elapsed Time: 0:00:00||"
     ]
    },
    {
     "name": "stderr",
     "output_type": "stream",
     "text": [
      "\r",
      "Episode 3|Iteration 60|reward:  498.0|last_reward_at:   56|Elapsed Time: 0:00:00||"
     ]
    },
    {
     "name": "stderr",
     "output_type": "stream",
     "text": [
      "\r",
      "Episode 3|Iteration 60|reward:  498.0|last_reward_at:   60|Elapsed Time: 0:00:00||"
     ]
    },
    {
     "name": "stderr",
     "output_type": "stream",
     "text": [
      "\r",
      "Episode 3|Iteration 66|reward:  502.0|last_reward_at:   60|Elapsed Time: 0:00:00||"
     ]
    },
    {
     "name": "stderr",
     "output_type": "stream",
     "text": [
      "\r",
      "Episode 3|Iteration 66|reward:  502.0|last_reward_at:   66|Elapsed Time: 0:00:00||"
     ]
    },
    {
     "name": "stderr",
     "output_type": "stream",
     "text": [
      "\r",
      "Episode 3|Iteration 73|reward:  602.0|last_reward_at:   66|Elapsed Time: 0:00:00||"
     ]
    },
    {
     "name": "stderr",
     "output_type": "stream",
     "text": [
      "\r",
      "Episode 3|Iteration 73|reward:  602.0|last_reward_at:   73|Elapsed Time: 0:00:00||"
     ]
    },
    {
     "name": "stderr",
     "output_type": "stream",
     "text": [
      "\r",
      "Episode 3|Iteration 75|reward:  608.0|last_reward_at:   73|Elapsed Time: 0:00:00||"
     ]
    },
    {
     "name": "stderr",
     "output_type": "stream",
     "text": [
      "\r",
      "Episode 3|Iteration 75|reward:  608.0|last_reward_at:   75|Elapsed Time: 0:00:00||"
     ]
    },
    {
     "name": "stderr",
     "output_type": "stream",
     "text": [
      "\r",
      "Episode 3|Iteration 78|reward:  610.0|last_reward_at:   75|Elapsed Time: 0:00:00||"
     ]
    },
    {
     "name": "stderr",
     "output_type": "stream",
     "text": [
      "\r",
      "Episode 3|Iteration 78|reward:  610.0|last_reward_at:   78|Elapsed Time: 0:00:00||"
     ]
    },
    {
     "name": "stderr",
     "output_type": "stream",
     "text": [
      "\r",
      "Episode 3|Iteration 79|reward:  612.0|last_reward_at:   78|Elapsed Time: 0:00:00||"
     ]
    },
    {
     "name": "stderr",
     "output_type": "stream",
     "text": [
      "\r",
      "Episode 3|Iteration 79|reward:  612.0|last_reward_at:   79|Elapsed Time: 0:00:00||"
     ]
    },
    {
     "name": "stderr",
     "output_type": "stream",
     "text": [
      "\r",
      "Episode 3|Iteration 97|reward:  618.0|last_reward_at:   79|Elapsed Time: 0:00:00||"
     ]
    },
    {
     "name": "stderr",
     "output_type": "stream",
     "text": [
      "\r",
      "Episode 3|Iteration 97|reward:  618.0|last_reward_at:   97|Elapsed Time: 0:00:00||"
     ]
    },
    {
     "name": "stderr",
     "output_type": "stream",
     "text": [
      "\r",
      "Episode 3|Iteration 101|reward:  632.0|last_reward_at:   97|Elapsed Time: 0:00:00||"
     ]
    },
    {
     "name": "stderr",
     "output_type": "stream",
     "text": [
      "\r",
      "Episode 3|Iteration 101|reward:  632.0|last_reward_at:  101|Elapsed Time: 0:00:00||"
     ]
    },
    {
     "name": "stderr",
     "output_type": "stream",
     "text": [
      "\r",
      "Episode 3|Iteration 105|reward:  638.0|last_reward_at:  101|Elapsed Time: 0:00:00||"
     ]
    },
    {
     "name": "stderr",
     "output_type": "stream",
     "text": [
      "\r",
      "Episode 3|Iteration 105|reward:  638.0|last_reward_at:  105|Elapsed Time: 0:00:00||"
     ]
    },
    {
     "name": "stderr",
     "output_type": "stream",
     "text": [
      "\r",
      "Episode 3|Iteration 106|reward:  738.0|last_reward_at:  105|Elapsed Time: 0:00:00||"
     ]
    },
    {
     "name": "stderr",
     "output_type": "stream",
     "text": [
      "\r",
      "Episode 3|Iteration 106|reward:  738.0|last_reward_at:  106|Elapsed Time: 0:00:00||"
     ]
    },
    {
     "name": "stderr",
     "output_type": "stream",
     "text": [
      "\r",
      "Episode 3|Iteration 125|reward:  744.0|last_reward_at:  106|Elapsed Time: 0:00:00||"
     ]
    },
    {
     "name": "stderr",
     "output_type": "stream",
     "text": [
      "\r",
      "Episode 3|Iteration 125|reward:  744.0|last_reward_at:  125|Elapsed Time: 0:00:00||"
     ]
    },
    {
     "name": "stderr",
     "output_type": "stream",
     "text": [
      "\r",
      "Episode 3|Iteration 129|reward:  750.0|last_reward_at:  125|Elapsed Time: 0:00:00||"
     ]
    },
    {
     "name": "stderr",
     "output_type": "stream",
     "text": [
      "\r",
      "Episode 3|Iteration 129|reward:  750.0|last_reward_at:  129|Elapsed Time: 0:00:00||"
     ]
    },
    {
     "name": "stderr",
     "output_type": "stream",
     "text": [
      "\r",
      "Episode 3|Iteration 133|reward:  756.0|last_reward_at:  129|Elapsed Time: 0:00:00||"
     ]
    },
    {
     "name": "stderr",
     "output_type": "stream",
     "text": [
      "\r",
      "Episode 3|Iteration 133|reward:  756.0|last_reward_at:  133|Elapsed Time: 0:00:00||"
     ]
    },
    {
     "name": "stderr",
     "output_type": "stream",
     "text": [
      "\r",
      "Episode 3|Iteration 160|reward:  756.0|last_reward_at:  133|Elapsed Time: 0:00:00||"
     ]
    },
    {
     "name": "stderr",
     "output_type": "stream",
     "text": [
      "\r",
      "Episode 3|Iteration 172|reward:  762.0|last_reward_at:  133|Elapsed Time: 0:00:00||"
     ]
    },
    {
     "name": "stderr",
     "output_type": "stream",
     "text": [
      "\r",
      "Episode 3|Iteration 172|reward:  762.0|last_reward_at:  172|Elapsed Time: 0:00:00||"
     ]
    },
    {
     "name": "stderr",
     "output_type": "stream",
     "text": [
      "\r",
      "Episode 3|Iteration 190|reward:  768.0|last_reward_at:  172|Elapsed Time: 0:00:00||"
     ]
    },
    {
     "name": "stderr",
     "output_type": "stream",
     "text": [
      "\r",
      "Episode 3|Iteration 190|reward:  768.0|last_reward_at:  190|Elapsed Time: 0:00:00||"
     ]
    },
    {
     "name": "stderr",
     "output_type": "stream",
     "text": [
      "\r",
      "Episode 3|Iteration 191|reward:  779.0|last_reward_at:  190|Elapsed Time: 0:00:00||"
     ]
    },
    {
     "name": "stderr",
     "output_type": "stream",
     "text": [
      "\r",
      "Episode 3|Iteration 191|reward:  779.0|last_reward_at:  191|Elapsed Time: 0:00:00||"
     ]
    },
    {
     "name": "stderr",
     "output_type": "stream",
     "text": [
      "\r",
      "Episode 3|Iteration 194|reward:  788.0|last_reward_at:  191|Elapsed Time: 0:00:00||"
     ]
    },
    {
     "name": "stderr",
     "output_type": "stream",
     "text": [
      "\r",
      "Episode 3|Iteration 194|reward:  788.0|last_reward_at:  194|Elapsed Time: 0:00:00||"
     ]
    },
    {
     "name": "stderr",
     "output_type": "stream",
     "text": [
      "\r",
      "Episode 3|Iteration 198|reward:  792.0|last_reward_at:  194|Elapsed Time: 0:00:00||"
     ]
    },
    {
     "name": "stderr",
     "output_type": "stream",
     "text": [
      "\r",
      "Episode 3|Iteration 198|reward:  792.0|last_reward_at:  198|Elapsed Time: 0:00:00||"
     ]
    },
    {
     "name": "stderr",
     "output_type": "stream",
     "text": [
      "\r",
      "Episode 3|Iteration 202|reward:  892.0|last_reward_at:  198|Elapsed Time: 0:00:00||"
     ]
    },
    {
     "name": "stderr",
     "output_type": "stream",
     "text": [
      "\r",
      "Episode 3|Iteration 202|reward:  892.0|last_reward_at:  202|Elapsed Time: 0:00:00||"
     ]
    },
    {
     "name": "stderr",
     "output_type": "stream",
     "text": [
      "\r",
      "Episode 3|Iteration 210|reward:  894.0|last_reward_at:  202|Elapsed Time: 0:00:00||"
     ]
    },
    {
     "name": "stderr",
     "output_type": "stream",
     "text": [
      "\r",
      "Episode 3|Iteration 210|reward:  894.0|last_reward_at:  210|Elapsed Time: 0:00:00||"
     ]
    },
    {
     "name": "stderr",
     "output_type": "stream",
     "text": [
      "\r",
      "Episode 3|Iteration 236|reward:  894.0|last_reward_at:  210|Elapsed Time: 0:00:00||"
     ]
    },
    {
     "name": "stderr",
     "output_type": "stream",
     "text": [
      "\r",
      "Episode 3|Iteration 259|reward:  894.0|last_reward_at:  210|Elapsed Time: 0:00:00||"
     ]
    },
    {
     "name": "stderr",
     "output_type": "stream",
     "text": [
      "\r",
      "Episode 3|Iteration 282|reward:  894.0|last_reward_at:  210|Elapsed Time: 0:00:00||"
     ]
    },
    {
     "name": "stderr",
     "output_type": "stream",
     "text": [
      "\r",
      "Episode 3|Iteration 283|reward:  905.0|last_reward_at:  210|Elapsed Time: 0:00:00||"
     ]
    },
    {
     "name": "stderr",
     "output_type": "stream",
     "text": [
      "\r",
      "Episode 3|Iteration 283|reward:  905.0|last_reward_at:  283|Elapsed Time: 0:00:00||"
     ]
    },
    {
     "name": "stderr",
     "output_type": "stream",
     "text": [
      "\r",
      "Episode 3|Iteration 296|reward: 5905.0|last_reward_at:  283|Elapsed Time: 0:00:00||"
     ]
    },
    {
     "name": "stderr",
     "output_type": "stream",
     "text": [
      "\r",
      "Episode 3|Iteration 296|reward: 5905.0|last_reward_at:  296|Elapsed Time: 0:00:00||"
     ]
    },
    {
     "name": "stderr",
     "output_type": "stream",
     "text": [
      "\n"
     ]
    },
    {
     "name": "stdout",
     "output_type": "stream",
     "text": [
      "  Episode 3 ended at t=296 \n",
      "  Breakdown [Reward/NoReward (Success rate)]\n",
      "    explore-local: 15/78 (0.16)\n",
      "    explore-remote: 14/140 (0.09)\n",
      "    explore-connect: 0/0 (NaN)\n",
      "    exploit-local: 0/0 (NaN)\n",
      "    exploit-remote: 0/0 (NaN)\n",
      "    exploit-connect: 7/42 (0.14)\n",
      "  exploit deflected to exploration: 11\n",
      "  ## Episode: 4/10 'Credential lookups (ϵ-greedy)' ϵ=0.7988, \n"
     ]
    },
    {
     "name": "stderr",
     "output_type": "stream",
     "text": [
      "\r",
      "Episode 4|Iteration 0|reward: ------|last_reward_at: ----|Elapsed Time: 0:00:00||"
     ]
    },
    {
     "name": "stderr",
     "output_type": "stream",
     "text": [
      "\r",
      "Episode 4|Iteration 1|reward:    0.0|last_reward_at: ----|Elapsed Time: 0:00:00||"
     ]
    },
    {
     "name": "stderr",
     "output_type": "stream",
     "text": [
      "\r",
      "Episode 4|Iteration 35|reward:   14.0|last_reward_at: ----|Elapsed Time: 0:00:00||"
     ]
    },
    {
     "name": "stderr",
     "output_type": "stream",
     "text": [
      "\r",
      "Episode 4|Iteration 35|reward:   14.0|last_reward_at:   35|Elapsed Time: 0:00:00||"
     ]
    },
    {
     "name": "stderr",
     "output_type": "stream",
     "text": [
      "\r",
      "Episode 4|Iteration 36|reward:   18.0|last_reward_at:   35|Elapsed Time: 0:00:00||"
     ]
    },
    {
     "name": "stderr",
     "output_type": "stream",
     "text": [
      "\r",
      "Episode 4|Iteration 36|reward:   18.0|last_reward_at:   36|Elapsed Time: 0:00:00||"
     ]
    },
    {
     "name": "stderr",
     "output_type": "stream",
     "text": [
      "\r",
      "Episode 4|Iteration 38|reward:  118.0|last_reward_at:   36|Elapsed Time: 0:00:00||"
     ]
    },
    {
     "name": "stderr",
     "output_type": "stream",
     "text": [
      "\r",
      "Episode 4|Iteration 38|reward:  118.0|last_reward_at:   38|Elapsed Time: 0:00:00||"
     ]
    },
    {
     "name": "stderr",
     "output_type": "stream",
     "text": [
      "\r",
      "Episode 4|Iteration 46|reward:  129.0|last_reward_at:   38|Elapsed Time: 0:00:00||"
     ]
    },
    {
     "name": "stderr",
     "output_type": "stream",
     "text": [
      "\r",
      "Episode 4|Iteration 46|reward:  129.0|last_reward_at:   46|Elapsed Time: 0:00:00||"
     ]
    },
    {
     "name": "stderr",
     "output_type": "stream",
     "text": [
      "\r",
      "Episode 4|Iteration 48|reward:  135.0|last_reward_at:   46|Elapsed Time: 0:00:00||"
     ]
    },
    {
     "name": "stderr",
     "output_type": "stream",
     "text": [
      "\r",
      "Episode 4|Iteration 48|reward:  135.0|last_reward_at:   48|Elapsed Time: 0:00:00||"
     ]
    },
    {
     "name": "stderr",
     "output_type": "stream",
     "text": [
      "\r",
      "Episode 4|Iteration 49|reward:  137.0|last_reward_at:   48|Elapsed Time: 0:00:00||"
     ]
    },
    {
     "name": "stderr",
     "output_type": "stream",
     "text": [
      "\r",
      "Episode 4|Iteration 49|reward:  137.0|last_reward_at:   49|Elapsed Time: 0:00:00||"
     ]
    },
    {
     "name": "stderr",
     "output_type": "stream",
     "text": [
      "\r",
      "Episode 4|Iteration 64|reward:  146.0|last_reward_at:   49|Elapsed Time: 0:00:00||"
     ]
    },
    {
     "name": "stderr",
     "output_type": "stream",
     "text": [
      "\r",
      "Episode 4|Iteration 64|reward:  146.0|last_reward_at:   64|Elapsed Time: 0:00:00||"
     ]
    },
    {
     "name": "stderr",
     "output_type": "stream",
     "text": [
      "\r",
      "Episode 4|Iteration 68|reward:  246.0|last_reward_at:   64|Elapsed Time: 0:00:00||"
     ]
    },
    {
     "name": "stderr",
     "output_type": "stream",
     "text": [
      "\r",
      "Episode 4|Iteration 68|reward:  246.0|last_reward_at:   68|Elapsed Time: 0:00:00||"
     ]
    },
    {
     "name": "stderr",
     "output_type": "stream",
     "text": [
      "\r",
      "Episode 4|Iteration 77|reward:  260.0|last_reward_at:   68|Elapsed Time: 0:00:00||"
     ]
    },
    {
     "name": "stderr",
     "output_type": "stream",
     "text": [
      "\r",
      "Episode 4|Iteration 77|reward:  260.0|last_reward_at:   77|Elapsed Time: 0:00:00||"
     ]
    },
    {
     "name": "stderr",
     "output_type": "stream",
     "text": [
      "\r",
      "Episode 4|Iteration 82|reward:  262.0|last_reward_at:   77|Elapsed Time: 0:00:00||"
     ]
    },
    {
     "name": "stderr",
     "output_type": "stream",
     "text": [
      "\r",
      "Episode 4|Iteration 82|reward:  262.0|last_reward_at:   82|Elapsed Time: 0:00:00||"
     ]
    },
    {
     "name": "stderr",
     "output_type": "stream",
     "text": [
      "\r",
      "Episode 4|Iteration 88|reward:  362.0|last_reward_at:   82|Elapsed Time: 0:00:00||"
     ]
    },
    {
     "name": "stderr",
     "output_type": "stream",
     "text": [
      "\r",
      "Episode 4|Iteration 88|reward:  362.0|last_reward_at:   88|Elapsed Time: 0:00:00||"
     ]
    },
    {
     "name": "stderr",
     "output_type": "stream",
     "text": [
      "\r",
      "Episode 4|Iteration 93|reward:  364.0|last_reward_at:   88|Elapsed Time: 0:00:00||"
     ]
    },
    {
     "name": "stderr",
     "output_type": "stream",
     "text": [
      "\r",
      "Episode 4|Iteration 93|reward:  364.0|last_reward_at:   93|Elapsed Time: 0:00:00||"
     ]
    },
    {
     "name": "stderr",
     "output_type": "stream",
     "text": [
      "\r",
      "Episode 4|Iteration 105|reward:  378.0|last_reward_at:   93|Elapsed Time: 0:00:00||"
     ]
    },
    {
     "name": "stderr",
     "output_type": "stream",
     "text": [
      "\r",
      "Episode 4|Iteration 105|reward:  378.0|last_reward_at:  105|Elapsed Time: 0:00:00||"
     ]
    },
    {
     "name": "stderr",
     "output_type": "stream",
     "text": [
      "\r",
      "Episode 4|Iteration 107|reward:  384.0|last_reward_at:  105|Elapsed Time: 0:00:00||"
     ]
    },
    {
     "name": "stderr",
     "output_type": "stream",
     "text": [
      "\r",
      "Episode 4|Iteration 107|reward:  384.0|last_reward_at:  107|Elapsed Time: 0:00:00||"
     ]
    },
    {
     "name": "stderr",
     "output_type": "stream",
     "text": [
      "\r",
      "Episode 4|Iteration 114|reward:  390.0|last_reward_at:  107|Elapsed Time: 0:00:00||"
     ]
    },
    {
     "name": "stderr",
     "output_type": "stream",
     "text": [
      "\r",
      "Episode 4|Iteration 114|reward:  390.0|last_reward_at:  114|Elapsed Time: 0:00:00||"
     ]
    },
    {
     "name": "stderr",
     "output_type": "stream",
     "text": [
      "\r",
      "Episode 4|Iteration 115|reward:  396.0|last_reward_at:  114|Elapsed Time: 0:00:00||"
     ]
    },
    {
     "name": "stderr",
     "output_type": "stream",
     "text": [
      "\r",
      "Episode 4|Iteration 115|reward:  396.0|last_reward_at:  115|Elapsed Time: 0:00:00||"
     ]
    },
    {
     "name": "stderr",
     "output_type": "stream",
     "text": [
      "\r",
      "Episode 4|Iteration 121|reward:  402.0|last_reward_at:  115|Elapsed Time: 0:00:00||"
     ]
    },
    {
     "name": "stderr",
     "output_type": "stream",
     "text": [
      "\r",
      "Episode 4|Iteration 121|reward:  402.0|last_reward_at:  121|Elapsed Time: 0:00:00||"
     ]
    },
    {
     "name": "stderr",
     "output_type": "stream",
     "text": [
      "\r",
      "Episode 4|Iteration 122|reward:  502.0|last_reward_at:  121|Elapsed Time: 0:00:00||"
     ]
    },
    {
     "name": "stderr",
     "output_type": "stream",
     "text": [
      "\r",
      "Episode 4|Iteration 122|reward:  502.0|last_reward_at:  122|Elapsed Time: 0:00:00||"
     ]
    },
    {
     "name": "stderr",
     "output_type": "stream",
     "text": [
      "\r",
      "Episode 4|Iteration 131|reward:  513.0|last_reward_at:  122|Elapsed Time: 0:00:00||"
     ]
    },
    {
     "name": "stderr",
     "output_type": "stream",
     "text": [
      "\r",
      "Episode 4|Iteration 131|reward:  513.0|last_reward_at:  131|Elapsed Time: 0:00:00||"
     ]
    },
    {
     "name": "stderr",
     "output_type": "stream",
     "text": [
      "\r",
      "Episode 4|Iteration 140|reward:  515.0|last_reward_at:  131|Elapsed Time: 0:00:00||"
     ]
    },
    {
     "name": "stderr",
     "output_type": "stream",
     "text": [
      "\r",
      "Episode 4|Iteration 140|reward:  515.0|last_reward_at:  140|Elapsed Time: 0:00:00||"
     ]
    },
    {
     "name": "stderr",
     "output_type": "stream",
     "text": [
      "\r",
      "Episode 4|Iteration 149|reward:  524.0|last_reward_at:  140|Elapsed Time: 0:00:00||"
     ]
    },
    {
     "name": "stderr",
     "output_type": "stream",
     "text": [
      "\r",
      "Episode 4|Iteration 149|reward:  524.0|last_reward_at:  149|Elapsed Time: 0:00:00||"
     ]
    },
    {
     "name": "stderr",
     "output_type": "stream",
     "text": [
      "\r",
      "Episode 4|Iteration 152|reward:  528.0|last_reward_at:  149|Elapsed Time: 0:00:00||"
     ]
    },
    {
     "name": "stderr",
     "output_type": "stream",
     "text": [
      "\r",
      "Episode 4|Iteration 152|reward:  528.0|last_reward_at:  152|Elapsed Time: 0:00:00||"
     ]
    },
    {
     "name": "stderr",
     "output_type": "stream",
     "text": [
      "\r",
      "Episode 4|Iteration 158|reward:  628.0|last_reward_at:  152|Elapsed Time: 0:00:00||"
     ]
    },
    {
     "name": "stderr",
     "output_type": "stream",
     "text": [
      "\r",
      "Episode 4|Iteration 158|reward:  628.0|last_reward_at:  158|Elapsed Time: 0:00:00||"
     ]
    },
    {
     "name": "stderr",
     "output_type": "stream",
     "text": [
      "\r",
      "Episode 4|Iteration 173|reward:  634.0|last_reward_at:  158|Elapsed Time: 0:00:00||"
     ]
    },
    {
     "name": "stderr",
     "output_type": "stream",
     "text": [
      "\r",
      "Episode 4|Iteration 173|reward:  634.0|last_reward_at:  173|Elapsed Time: 0:00:00||"
     ]
    },
    {
     "name": "stderr",
     "output_type": "stream",
     "text": [
      "\r",
      "Episode 4|Iteration 198|reward:  634.0|last_reward_at:  173|Elapsed Time: 0:00:00||"
     ]
    },
    {
     "name": "stderr",
     "output_type": "stream",
     "text": [
      "\r",
      "Episode 4|Iteration 236|reward:  634.0|last_reward_at:  173|Elapsed Time: 0:00:00||"
     ]
    },
    {
     "name": "stderr",
     "output_type": "stream",
     "text": [
      "\r",
      "Episode 4|Iteration 243|reward:  645.0|last_reward_at:  173|Elapsed Time: 0:00:00||"
     ]
    },
    {
     "name": "stderr",
     "output_type": "stream",
     "text": [
      "\r",
      "Episode 4|Iteration 243|reward:  645.0|last_reward_at:  243|Elapsed Time: 0:00:00||"
     ]
    },
    {
     "name": "stderr",
     "output_type": "stream",
     "text": [
      "\r",
      "Episode 4|Iteration 248|reward:  653.0|last_reward_at:  243|Elapsed Time: 0:00:00||"
     ]
    },
    {
     "name": "stderr",
     "output_type": "stream",
     "text": [
      "\r",
      "Episode 4|Iteration 248|reward:  653.0|last_reward_at:  248|Elapsed Time: 0:00:00||"
     ]
    },
    {
     "name": "stderr",
     "output_type": "stream",
     "text": [
      "\r",
      "Episode 4|Iteration 251|reward:  662.0|last_reward_at:  248|Elapsed Time: 0:00:00||"
     ]
    },
    {
     "name": "stderr",
     "output_type": "stream",
     "text": [
      "\r",
      "Episode 4|Iteration 251|reward:  662.0|last_reward_at:  251|Elapsed Time: 0:00:00||"
     ]
    },
    {
     "name": "stderr",
     "output_type": "stream",
     "text": [
      "\r",
      "Episode 4|Iteration 253|reward:  762.0|last_reward_at:  251|Elapsed Time: 0:00:00||"
     ]
    },
    {
     "name": "stderr",
     "output_type": "stream",
     "text": [
      "\r",
      "Episode 4|Iteration 253|reward:  762.0|last_reward_at:  253|Elapsed Time: 0:00:00||"
     ]
    },
    {
     "name": "stderr",
     "output_type": "stream",
     "text": [
      "\r",
      "Episode 4|Iteration 256|reward:  768.0|last_reward_at:  253|Elapsed Time: 0:00:00||"
     ]
    },
    {
     "name": "stderr",
     "output_type": "stream",
     "text": [
      "\r",
      "Episode 4|Iteration 256|reward:  768.0|last_reward_at:  256|Elapsed Time: 0:00:00||"
     ]
    },
    {
     "name": "stderr",
     "output_type": "stream",
     "text": [
      "\r",
      "Episode 4|Iteration 269|reward:  779.0|last_reward_at:  256|Elapsed Time: 0:00:00||"
     ]
    },
    {
     "name": "stderr",
     "output_type": "stream",
     "text": [
      "\r",
      "Episode 4|Iteration 269|reward:  779.0|last_reward_at:  269|Elapsed Time: 0:00:00||"
     ]
    },
    {
     "name": "stderr",
     "output_type": "stream",
     "text": [
      "\r",
      "Episode 4|Iteration 282|reward:  783.0|last_reward_at:  269|Elapsed Time: 0:00:00||"
     ]
    },
    {
     "name": "stderr",
     "output_type": "stream",
     "text": [
      "\r",
      "Episode 4|Iteration 282|reward:  783.0|last_reward_at:  282|Elapsed Time: 0:00:00||"
     ]
    },
    {
     "name": "stderr",
     "output_type": "stream",
     "text": [
      "\r",
      "Episode 4|Iteration 287|reward:  792.0|last_reward_at:  282|Elapsed Time: 0:00:00||"
     ]
    },
    {
     "name": "stderr",
     "output_type": "stream",
     "text": [
      "\r",
      "Episode 4|Iteration 287|reward:  792.0|last_reward_at:  287|Elapsed Time: 0:00:00||"
     ]
    },
    {
     "name": "stderr",
     "output_type": "stream",
     "text": [
      "\r",
      "Episode 4|Iteration 289|reward:  892.0|last_reward_at:  287|Elapsed Time: 0:00:00||"
     ]
    },
    {
     "name": "stderr",
     "output_type": "stream",
     "text": [
      "\r",
      "Episode 4|Iteration 289|reward:  892.0|last_reward_at:  289|Elapsed Time: 0:00:00||"
     ]
    },
    {
     "name": "stderr",
     "output_type": "stream",
     "text": [
      "\r",
      "Episode 4|Iteration 312|reward:  892.0|last_reward_at:  289|Elapsed Time: 0:00:00||"
     ]
    },
    {
     "name": "stderr",
     "output_type": "stream",
     "text": [
      "\r",
      "Episode 4|Iteration 316|reward:  894.0|last_reward_at:  289|Elapsed Time: 0:00:00||"
     ]
    },
    {
     "name": "stderr",
     "output_type": "stream",
     "text": [
      "\r",
      "Episode 4|Iteration 316|reward:  894.0|last_reward_at:  316|Elapsed Time: 0:00:00||"
     ]
    },
    {
     "name": "stderr",
     "output_type": "stream",
     "text": [
      "\r",
      "Episode 4|Iteration 342|reward:  894.0|last_reward_at:  316|Elapsed Time: 0:00:00||"
     ]
    },
    {
     "name": "stderr",
     "output_type": "stream",
     "text": [
      "\r",
      "Episode 4|Iteration 356|reward:  908.0|last_reward_at:  316|Elapsed Time: 0:00:00||"
     ]
    },
    {
     "name": "stderr",
     "output_type": "stream",
     "text": [
      "\r",
      "Episode 4|Iteration 356|reward:  908.0|last_reward_at:  356|Elapsed Time: 0:00:00||"
     ]
    },
    {
     "name": "stderr",
     "output_type": "stream",
     "text": [
      "\r",
      "Episode 4|Iteration 366|reward:  914.0|last_reward_at:  356|Elapsed Time: 0:00:00||"
     ]
    },
    {
     "name": "stderr",
     "output_type": "stream",
     "text": [
      "\r",
      "Episode 4|Iteration 366|reward:  914.0|last_reward_at:  366|Elapsed Time: 0:00:00||"
     ]
    },
    {
     "name": "stderr",
     "output_type": "stream",
     "text": [
      "\r",
      "Episode 4|Iteration 371|reward:  922.0|last_reward_at:  366|Elapsed Time: 0:00:00||"
     ]
    },
    {
     "name": "stderr",
     "output_type": "stream",
     "text": [
      "\r",
      "Episode 4|Iteration 371|reward:  922.0|last_reward_at:  371|Elapsed Time: 0:00:00||"
     ]
    },
    {
     "name": "stderr",
     "output_type": "stream",
     "text": [
      "\r",
      "Episode 4|Iteration 380|reward: 1022.0|last_reward_at:  371|Elapsed Time: 0:00:00||"
     ]
    },
    {
     "name": "stderr",
     "output_type": "stream",
     "text": [
      "\r",
      "Episode 4|Iteration 380|reward: 1022.0|last_reward_at:  380|Elapsed Time: 0:00:00||"
     ]
    },
    {
     "name": "stderr",
     "output_type": "stream",
     "text": [
      "\r",
      "Episode 4|Iteration 403|reward: 1022.0|last_reward_at:  380|Elapsed Time: 0:00:00||"
     ]
    },
    {
     "name": "stderr",
     "output_type": "stream",
     "text": [
      "\r",
      "Episode 4|Iteration 415|reward: 1028.0|last_reward_at:  380|Elapsed Time: 0:00:00||"
     ]
    },
    {
     "name": "stderr",
     "output_type": "stream",
     "text": [
      "\r",
      "Episode 4|Iteration 415|reward: 1028.0|last_reward_at:  415|Elapsed Time: 0:00:00||"
     ]
    },
    {
     "name": "stderr",
     "output_type": "stream",
     "text": [
      "\r",
      "Episode 4|Iteration 433|reward: 1028.0|last_reward_at:  415|Elapsed Time: 0:00:00||"
     ]
    },
    {
     "name": "stderr",
     "output_type": "stream",
     "text": [
      "\r",
      "Episode 4|Iteration 456|reward: 1028.0|last_reward_at:  415|Elapsed Time: 0:00:01||"
     ]
    },
    {
     "name": "stderr",
     "output_type": "stream",
     "text": [
      "\r",
      "Episode 4|Iteration 479|reward: 1028.0|last_reward_at:  415|Elapsed Time: 0:00:01||"
     ]
    },
    {
     "name": "stderr",
     "output_type": "stream",
     "text": [
      "\r",
      "Episode 4|Iteration 481|reward: 6028.0|last_reward_at:  415|Elapsed Time: 0:00:01||"
     ]
    },
    {
     "name": "stderr",
     "output_type": "stream",
     "text": [
      "\r",
      "Episode 4|Iteration 481|reward: 6028.0|last_reward_at:  481|Elapsed Time: 0:00:01||"
     ]
    },
    {
     "name": "stderr",
     "output_type": "stream",
     "text": [
      "\n"
     ]
    },
    {
     "name": "stdout",
     "output_type": "stream",
     "text": [
      "  Episode 4 ended at t=481 \n",
      "  Breakdown [Reward/NoReward (Success rate)]\n",
      "    explore-local: 15/130 (0.10)\n",
      "    explore-remote: 17/251 (0.06)\n",
      "    explore-connect: 0/0 (NaN)\n",
      "    exploit-local: 0/0 (NaN)\n",
      "    exploit-remote: 0/0 (NaN)\n",
      "    exploit-connect: 8/60 (0.12)\n",
      "  exploit deflected to exploration: 35\n",
      "  ## Episode: 5/10 'Credential lookups (ϵ-greedy)' ϵ=0.7660, \n"
     ]
    },
    {
     "name": "stderr",
     "output_type": "stream",
     "text": [
      "\r",
      "Episode 5|Iteration 0|reward: ------|last_reward_at: ----|Elapsed Time: 0:00:00||"
     ]
    },
    {
     "name": "stderr",
     "output_type": "stream",
     "text": [
      "\r",
      "Episode 5|Iteration 1|reward:   14.0|last_reward_at: ----|Elapsed Time: 0:00:00||"
     ]
    },
    {
     "name": "stderr",
     "output_type": "stream",
     "text": [
      "\r",
      "Episode 5|Iteration 1|reward:   14.0|last_reward_at:    1|Elapsed Time: 0:00:00||"
     ]
    },
    {
     "name": "stderr",
     "output_type": "stream",
     "text": [
      "\r",
      "Episode 5|Iteration 3|reward:  114.0|last_reward_at:    1|Elapsed Time: 0:00:00||"
     ]
    },
    {
     "name": "stderr",
     "output_type": "stream",
     "text": [
      "\r",
      "Episode 5|Iteration 3|reward:  114.0|last_reward_at:    3|Elapsed Time: 0:00:00||"
     ]
    },
    {
     "name": "stderr",
     "output_type": "stream",
     "text": [
      "\r",
      "Episode 5|Iteration 4|reward:  116.0|last_reward_at:    3|Elapsed Time: 0:00:00||"
     ]
    },
    {
     "name": "stderr",
     "output_type": "stream",
     "text": [
      "\r",
      "Episode 5|Iteration 4|reward:  116.0|last_reward_at:    4|Elapsed Time: 0:00:00||"
     ]
    },
    {
     "name": "stderr",
     "output_type": "stream",
     "text": [
      "\r",
      "Episode 5|Iteration 24|reward:  118.0|last_reward_at:    4|Elapsed Time: 0:00:00||"
     ]
    },
    {
     "name": "stderr",
     "output_type": "stream",
     "text": [
      "\r",
      "Episode 5|Iteration 24|reward:  118.0|last_reward_at:   24|Elapsed Time: 0:00:00||"
     ]
    },
    {
     "name": "stderr",
     "output_type": "stream",
     "text": [
      "\r",
      "Episode 5|Iteration 37|reward:  132.0|last_reward_at:   24|Elapsed Time: 0:00:00||"
     ]
    },
    {
     "name": "stderr",
     "output_type": "stream",
     "text": [
      "\r",
      "Episode 5|Iteration 37|reward:  132.0|last_reward_at:   37|Elapsed Time: 0:00:00||"
     ]
    },
    {
     "name": "stderr",
     "output_type": "stream",
     "text": [
      "\r",
      "Episode 5|Iteration 39|reward:  232.0|last_reward_at:   37|Elapsed Time: 0:00:00||"
     ]
    },
    {
     "name": "stderr",
     "output_type": "stream",
     "text": [
      "\r",
      "Episode 5|Iteration 39|reward:  232.0|last_reward_at:   39|Elapsed Time: 0:00:00||"
     ]
    },
    {
     "name": "stderr",
     "output_type": "stream",
     "text": [
      "\r",
      "Episode 5|Iteration 58|reward:  238.0|last_reward_at:   39|Elapsed Time: 0:00:00||"
     ]
    },
    {
     "name": "stderr",
     "output_type": "stream",
     "text": [
      "\r",
      "Episode 5|Iteration 58|reward:  238.0|last_reward_at:   58|Elapsed Time: 0:00:00||"
     ]
    },
    {
     "name": "stderr",
     "output_type": "stream",
     "text": [
      "\r",
      "Episode 5|Iteration 61|reward:  244.0|last_reward_at:   58|Elapsed Time: 0:00:00||"
     ]
    },
    {
     "name": "stderr",
     "output_type": "stream",
     "text": [
      "\r",
      "Episode 5|Iteration 61|reward:  244.0|last_reward_at:   61|Elapsed Time: 0:00:00||"
     ]
    },
    {
     "name": "stderr",
     "output_type": "stream",
     "text": [
      "\r",
      "Episode 5|Iteration 62|reward:  250.0|last_reward_at:   61|Elapsed Time: 0:00:00||"
     ]
    },
    {
     "name": "stderr",
     "output_type": "stream",
     "text": [
      "\r",
      "Episode 5|Iteration 62|reward:  250.0|last_reward_at:   62|Elapsed Time: 0:00:00||"
     ]
    },
    {
     "name": "stderr",
     "output_type": "stream",
     "text": [
      "\r",
      "Episode 5|Iteration 86|reward:  264.0|last_reward_at:   62|Elapsed Time: 0:00:00||"
     ]
    },
    {
     "name": "stderr",
     "output_type": "stream",
     "text": [
      "\r",
      "Episode 5|Iteration 86|reward:  264.0|last_reward_at:   86|Elapsed Time: 0:00:00||"
     ]
    },
    {
     "name": "stderr",
     "output_type": "stream",
     "text": [
      "\r",
      "Episode 5|Iteration 87|reward:  364.0|last_reward_at:   86|Elapsed Time: 0:00:00||"
     ]
    },
    {
     "name": "stderr",
     "output_type": "stream",
     "text": [
      "\r",
      "Episode 5|Iteration 87|reward:  364.0|last_reward_at:   87|Elapsed Time: 0:00:00||"
     ]
    },
    {
     "name": "stderr",
     "output_type": "stream",
     "text": [
      "\r",
      "Episode 5|Iteration 90|reward:  366.0|last_reward_at:   87|Elapsed Time: 0:00:00||"
     ]
    },
    {
     "name": "stderr",
     "output_type": "stream",
     "text": [
      "\r",
      "Episode 5|Iteration 90|reward:  366.0|last_reward_at:   90|Elapsed Time: 0:00:00||"
     ]
    },
    {
     "name": "stderr",
     "output_type": "stream",
     "text": [
      "\r",
      "Episode 5|Iteration 91|reward:  372.0|last_reward_at:   90|Elapsed Time: 0:00:00||"
     ]
    },
    {
     "name": "stderr",
     "output_type": "stream",
     "text": [
      "\r",
      "Episode 5|Iteration 91|reward:  372.0|last_reward_at:   91|Elapsed Time: 0:00:00||"
     ]
    },
    {
     "name": "stderr",
     "output_type": "stream",
     "text": [
      "\r",
      "Episode 5|Iteration 98|reward:  374.0|last_reward_at:   91|Elapsed Time: 0:00:00||"
     ]
    },
    {
     "name": "stderr",
     "output_type": "stream",
     "text": [
      "\r",
      "Episode 5|Iteration 98|reward:  374.0|last_reward_at:   98|Elapsed Time: 0:00:00||"
     ]
    },
    {
     "name": "stderr",
     "output_type": "stream",
     "text": [
      "\r",
      "Episode 5|Iteration 103|reward:  385.0|last_reward_at:   98|Elapsed Time: 0:00:00||"
     ]
    },
    {
     "name": "stderr",
     "output_type": "stream",
     "text": [
      "\r",
      "Episode 5|Iteration 103|reward:  385.0|last_reward_at:  103|Elapsed Time: 0:00:00||"
     ]
    },
    {
     "name": "stderr",
     "output_type": "stream",
     "text": [
      "\r",
      "Episode 5|Iteration 110|reward:  391.0|last_reward_at:  103|Elapsed Time: 0:00:00||"
     ]
    },
    {
     "name": "stderr",
     "output_type": "stream",
     "text": [
      "\r",
      "Episode 5|Iteration 110|reward:  391.0|last_reward_at:  110|Elapsed Time: 0:00:00||"
     ]
    },
    {
     "name": "stderr",
     "output_type": "stream",
     "text": [
      "\r",
      "Episode 5|Iteration 112|reward:  399.0|last_reward_at:  110|Elapsed Time: 0:00:00||"
     ]
    },
    {
     "name": "stderr",
     "output_type": "stream",
     "text": [
      "\r",
      "Episode 5|Iteration 112|reward:  399.0|last_reward_at:  112|Elapsed Time: 0:00:00||"
     ]
    },
    {
     "name": "stderr",
     "output_type": "stream",
     "text": [
      "\r",
      "Episode 5|Iteration 122|reward:  408.0|last_reward_at:  112|Elapsed Time: 0:00:00||"
     ]
    },
    {
     "name": "stderr",
     "output_type": "stream",
     "text": [
      "\r",
      "Episode 5|Iteration 122|reward:  408.0|last_reward_at:  122|Elapsed Time: 0:00:00||"
     ]
    },
    {
     "name": "stderr",
     "output_type": "stream",
     "text": [
      "\r",
      "Episode 5|Iteration 163|reward:  508.0|last_reward_at:  122|Elapsed Time: 0:00:00||"
     ]
    },
    {
     "name": "stderr",
     "output_type": "stream",
     "text": [
      "\r",
      "Episode 5|Iteration 163|reward:  508.0|last_reward_at:  163|Elapsed Time: 0:00:00||"
     ]
    },
    {
     "name": "stderr",
     "output_type": "stream",
     "text": [
      "\r",
      "Episode 5|Iteration 172|reward:  522.0|last_reward_at:  163|Elapsed Time: 0:00:00||"
     ]
    },
    {
     "name": "stderr",
     "output_type": "stream",
     "text": [
      "\r",
      "Episode 5|Iteration 172|reward:  522.0|last_reward_at:  172|Elapsed Time: 0:00:00||"
     ]
    },
    {
     "name": "stderr",
     "output_type": "stream",
     "text": [
      "\r",
      "Episode 5|Iteration 178|reward:  622.0|last_reward_at:  172|Elapsed Time: 0:00:00||"
     ]
    },
    {
     "name": "stderr",
     "output_type": "stream",
     "text": [
      "\r",
      "Episode 5|Iteration 178|reward:  622.0|last_reward_at:  178|Elapsed Time: 0:00:00||"
     ]
    },
    {
     "name": "stderr",
     "output_type": "stream",
     "text": [
      "\r",
      "Episode 5|Iteration 181|reward:  624.0|last_reward_at:  178|Elapsed Time: 0:00:00||"
     ]
    },
    {
     "name": "stderr",
     "output_type": "stream",
     "text": [
      "\r",
      "Episode 5|Iteration 181|reward:  624.0|last_reward_at:  181|Elapsed Time: 0:00:00||"
     ]
    },
    {
     "name": "stderr",
     "output_type": "stream",
     "text": [
      "\r",
      "Episode 5|Iteration 206|reward:  624.0|last_reward_at:  181|Elapsed Time: 0:00:00||"
     ]
    },
    {
     "name": "stderr",
     "output_type": "stream",
     "text": [
      "\r",
      "Episode 5|Iteration 207|reward:  635.0|last_reward_at:  181|Elapsed Time: 0:00:00||"
     ]
    },
    {
     "name": "stderr",
     "output_type": "stream",
     "text": [
      "\r",
      "Episode 5|Iteration 207|reward:  635.0|last_reward_at:  207|Elapsed Time: 0:00:00||"
     ]
    },
    {
     "name": "stderr",
     "output_type": "stream",
     "text": [
      "\r",
      "Episode 5|Iteration 225|reward:  641.0|last_reward_at:  207|Elapsed Time: 0:00:00||"
     ]
    },
    {
     "name": "stderr",
     "output_type": "stream",
     "text": [
      "\r",
      "Episode 5|Iteration 225|reward:  641.0|last_reward_at:  225|Elapsed Time: 0:00:00||"
     ]
    },
    {
     "name": "stderr",
     "output_type": "stream",
     "text": [
      "\r",
      "Episode 5|Iteration 242|reward:  650.0|last_reward_at:  225|Elapsed Time: 0:00:00||"
     ]
    },
    {
     "name": "stderr",
     "output_type": "stream",
     "text": [
      "\r",
      "Episode 5|Iteration 242|reward:  650.0|last_reward_at:  242|Elapsed Time: 0:00:00||"
     ]
    },
    {
     "name": "stderr",
     "output_type": "stream",
     "text": [
      "\r",
      "Episode 5|Iteration 244|reward:  658.0|last_reward_at:  242|Elapsed Time: 0:00:00||"
     ]
    },
    {
     "name": "stderr",
     "output_type": "stream",
     "text": [
      "\r",
      "Episode 5|Iteration 244|reward:  658.0|last_reward_at:  244|Elapsed Time: 0:00:00||"
     ]
    },
    {
     "name": "stderr",
     "output_type": "stream",
     "text": [
      "\r",
      "Episode 5|Iteration 274|reward:  658.0|last_reward_at:  244|Elapsed Time: 0:00:00||"
     ]
    },
    {
     "name": "stderr",
     "output_type": "stream",
     "text": [
      "\r",
      "Episode 5|Iteration 274|reward:  758.0|last_reward_at:  244|Elapsed Time: 0:00:00||"
     ]
    },
    {
     "name": "stderr",
     "output_type": "stream",
     "text": [
      "\r",
      "Episode 5|Iteration 274|reward:  758.0|last_reward_at:  274|Elapsed Time: 0:00:00||"
     ]
    },
    {
     "name": "stderr",
     "output_type": "stream",
     "text": [
      "\r",
      "Episode 5|Iteration 292|reward:  760.0|last_reward_at:  274|Elapsed Time: 0:00:00||"
     ]
    },
    {
     "name": "stderr",
     "output_type": "stream",
     "text": [
      "\r",
      "Episode 5|Iteration 292|reward:  760.0|last_reward_at:  292|Elapsed Time: 0:00:00||"
     ]
    },
    {
     "name": "stderr",
     "output_type": "stream",
     "text": [
      "\r",
      "Episode 5|Iteration 296|reward:  771.0|last_reward_at:  292|Elapsed Time: 0:00:00||"
     ]
    },
    {
     "name": "stderr",
     "output_type": "stream",
     "text": [
      "\r",
      "Episode 5|Iteration 296|reward:  771.0|last_reward_at:  296|Elapsed Time: 0:00:00||"
     ]
    },
    {
     "name": "stderr",
     "output_type": "stream",
     "text": [
      "\r",
      "Episode 5|Iteration 297|reward:  775.0|last_reward_at:  296|Elapsed Time: 0:00:00||"
     ]
    },
    {
     "name": "stderr",
     "output_type": "stream",
     "text": [
      "\r",
      "Episode 5|Iteration 297|reward:  775.0|last_reward_at:  297|Elapsed Time: 0:00:00||"
     ]
    },
    {
     "name": "stderr",
     "output_type": "stream",
     "text": [
      "\r",
      "Episode 5|Iteration 307|reward:  781.0|last_reward_at:  297|Elapsed Time: 0:00:00||"
     ]
    },
    {
     "name": "stderr",
     "output_type": "stream",
     "text": [
      "\r",
      "Episode 5|Iteration 307|reward:  781.0|last_reward_at:  307|Elapsed Time: 0:00:00||"
     ]
    },
    {
     "name": "stderr",
     "output_type": "stream",
     "text": [
      "\r",
      "Episode 5|Iteration 318|reward:  790.0|last_reward_at:  307|Elapsed Time: 0:00:00||"
     ]
    },
    {
     "name": "stderr",
     "output_type": "stream",
     "text": [
      "\r",
      "Episode 5|Iteration 318|reward:  790.0|last_reward_at:  318|Elapsed Time: 0:00:00||"
     ]
    },
    {
     "name": "stderr",
     "output_type": "stream",
     "text": [
      "\r",
      "Episode 5|Iteration 324|reward:  890.0|last_reward_at:  318|Elapsed Time: 0:00:00||"
     ]
    },
    {
     "name": "stderr",
     "output_type": "stream",
     "text": [
      "\r",
      "Episode 5|Iteration 324|reward:  890.0|last_reward_at:  324|Elapsed Time: 0:00:00||"
     ]
    },
    {
     "name": "stderr",
     "output_type": "stream",
     "text": [
      "\r",
      "Episode 5|Iteration 346|reward:  892.0|last_reward_at:  324|Elapsed Time: 0:00:00||"
     ]
    },
    {
     "name": "stderr",
     "output_type": "stream",
     "text": [
      "\r",
      "Episode 5|Iteration 346|reward:  892.0|last_reward_at:  346|Elapsed Time: 0:00:00||"
     ]
    },
    {
     "name": "stderr",
     "output_type": "stream",
     "text": [
      "\r",
      "Episode 5|Iteration 348|reward:  903.0|last_reward_at:  346|Elapsed Time: 0:00:00||"
     ]
    },
    {
     "name": "stderr",
     "output_type": "stream",
     "text": [
      "\r",
      "Episode 5|Iteration 348|reward:  903.0|last_reward_at:  348|Elapsed Time: 0:00:00||"
     ]
    },
    {
     "name": "stderr",
     "output_type": "stream",
     "text": [
      "\r",
      "Episode 5|Iteration 373|reward:  903.0|last_reward_at:  348|Elapsed Time: 0:00:00||"
     ]
    },
    {
     "name": "stderr",
     "output_type": "stream",
     "text": [
      "\r",
      "Episode 5|Iteration 377|reward:  909.0|last_reward_at:  348|Elapsed Time: 0:00:00||"
     ]
    },
    {
     "name": "stderr",
     "output_type": "stream",
     "text": [
      "\r",
      "Episode 5|Iteration 377|reward:  909.0|last_reward_at:  377|Elapsed Time: 0:00:00||"
     ]
    },
    {
     "name": "stderr",
     "output_type": "stream",
     "text": [
      "\r",
      "Episode 5|Iteration 394|reward:  918.0|last_reward_at:  377|Elapsed Time: 0:00:00||"
     ]
    },
    {
     "name": "stderr",
     "output_type": "stream",
     "text": [
      "\r",
      "Episode 5|Iteration 394|reward:  918.0|last_reward_at:  394|Elapsed Time: 0:00:00||"
     ]
    },
    {
     "name": "stderr",
     "output_type": "stream",
     "text": [
      "\r",
      "Episode 5|Iteration 398|reward:  926.0|last_reward_at:  394|Elapsed Time: 0:00:00||"
     ]
    },
    {
     "name": "stderr",
     "output_type": "stream",
     "text": [
      "\r",
      "Episode 5|Iteration 398|reward:  926.0|last_reward_at:  398|Elapsed Time: 0:00:00||"
     ]
    },
    {
     "name": "stderr",
     "output_type": "stream",
     "text": [
      "\r",
      "Episode 5|Iteration 403|reward: 1026.0|last_reward_at:  398|Elapsed Time: 0:00:00||"
     ]
    },
    {
     "name": "stderr",
     "output_type": "stream",
     "text": [
      "\r",
      "Episode 5|Iteration 403|reward: 1026.0|last_reward_at:  403|Elapsed Time: 0:00:00||"
     ]
    },
    {
     "name": "stderr",
     "output_type": "stream",
     "text": [
      "\r",
      "Episode 5|Iteration 406|reward: 6026.0|last_reward_at:  403|Elapsed Time: 0:00:00||"
     ]
    },
    {
     "name": "stderr",
     "output_type": "stream",
     "text": [
      "\r",
      "Episode 5|Iteration 406|reward: 6026.0|last_reward_at:  406|Elapsed Time: 0:00:00||"
     ]
    },
    {
     "name": "stderr",
     "output_type": "stream",
     "text": [
      "\n"
     ]
    },
    {
     "name": "stdout",
     "output_type": "stream",
     "text": [
      "  Episode 5 ended at t=406 \n",
      "  Breakdown [Reward/NoReward (Success rate)]\n",
      "    explore-local: 16/118 (0.12)\n",
      "    explore-remote: 16/183 (0.08)\n",
      "    explore-connect: 0/0 (NaN)\n",
      "    exploit-local: 0/0 (NaN)\n",
      "    exploit-remote: 0/0 (NaN)\n",
      "    exploit-connect: 8/65 (0.11)\n",
      "  exploit deflected to exploration: 22\n",
      "  ## Episode: 6/10 'Credential lookups (ϵ-greedy)' ϵ=0.7395, \n"
     ]
    },
    {
     "name": "stderr",
     "output_type": "stream",
     "text": [
      "\r",
      "Episode 6|Iteration 0|reward: ------|last_reward_at: ----|Elapsed Time: 0:00:00||"
     ]
    },
    {
     "name": "stderr",
     "output_type": "stream",
     "text": [
      "\r",
      "Episode 6|Iteration 1|reward:    0.0|last_reward_at: ----|Elapsed Time: 0:00:00||"
     ]
    },
    {
     "name": "stderr",
     "output_type": "stream",
     "text": [
      "\r",
      "Episode 6|Iteration 21|reward:   14.0|last_reward_at: ----|Elapsed Time: 0:00:00||"
     ]
    },
    {
     "name": "stderr",
     "output_type": "stream",
     "text": [
      "\r",
      "Episode 6|Iteration 21|reward:   14.0|last_reward_at:   21|Elapsed Time: 0:00:00||"
     ]
    },
    {
     "name": "stderr",
     "output_type": "stream",
     "text": [
      "\r",
      "Episode 6|Iteration 22|reward:   16.0|last_reward_at:   21|Elapsed Time: 0:00:00||"
     ]
    },
    {
     "name": "stderr",
     "output_type": "stream",
     "text": [
      "\r",
      "Episode 6|Iteration 22|reward:   16.0|last_reward_at:   22|Elapsed Time: 0:00:00||"
     ]
    },
    {
     "name": "stderr",
     "output_type": "stream",
     "text": [
      "\r",
      "Episode 6|Iteration 23|reward:   20.0|last_reward_at:   22|Elapsed Time: 0:00:00||"
     ]
    },
    {
     "name": "stderr",
     "output_type": "stream",
     "text": [
      "\r",
      "Episode 6|Iteration 23|reward:   20.0|last_reward_at:   23|Elapsed Time: 0:00:00||"
     ]
    },
    {
     "name": "stderr",
     "output_type": "stream",
     "text": [
      "\r",
      "Episode 6|Iteration 27|reward:  120.0|last_reward_at:   23|Elapsed Time: 0:00:00||"
     ]
    },
    {
     "name": "stderr",
     "output_type": "stream",
     "text": [
      "\r",
      "Episode 6|Iteration 27|reward:  120.0|last_reward_at:   27|Elapsed Time: 0:00:00||"
     ]
    },
    {
     "name": "stderr",
     "output_type": "stream",
     "text": [
      "\r",
      "Episode 6|Iteration 51|reward:  134.0|last_reward_at:   27|Elapsed Time: 0:00:00||"
     ]
    },
    {
     "name": "stderr",
     "output_type": "stream",
     "text": [
      "\r",
      "Episode 6|Iteration 51|reward:  134.0|last_reward_at:   51|Elapsed Time: 0:00:00||"
     ]
    },
    {
     "name": "stderr",
     "output_type": "stream",
     "text": [
      "\r",
      "Episode 6|Iteration 52|reward:  142.0|last_reward_at:   51|Elapsed Time: 0:00:00||"
     ]
    },
    {
     "name": "stderr",
     "output_type": "stream",
     "text": [
      "\r",
      "Episode 6|Iteration 52|reward:  142.0|last_reward_at:   52|Elapsed Time: 0:00:00||"
     ]
    },
    {
     "name": "stderr",
     "output_type": "stream",
     "text": [
      "\r",
      "Episode 6|Iteration 56|reward:  242.0|last_reward_at:   52|Elapsed Time: 0:00:00||"
     ]
    },
    {
     "name": "stderr",
     "output_type": "stream",
     "text": [
      "\r",
      "Episode 6|Iteration 56|reward:  242.0|last_reward_at:   56|Elapsed Time: 0:00:00||"
     ]
    },
    {
     "name": "stderr",
     "output_type": "stream",
     "text": [
      "\r",
      "Episode 6|Iteration 58|reward:  256.0|last_reward_at:   56|Elapsed Time: 0:00:00||"
     ]
    },
    {
     "name": "stderr",
     "output_type": "stream",
     "text": [
      "\r",
      "Episode 6|Iteration 58|reward:  256.0|last_reward_at:   58|Elapsed Time: 0:00:00||"
     ]
    },
    {
     "name": "stderr",
     "output_type": "stream",
     "text": [
      "\r",
      "Episode 6|Iteration 60|reward:  262.0|last_reward_at:   58|Elapsed Time: 0:00:00||"
     ]
    },
    {
     "name": "stderr",
     "output_type": "stream",
     "text": [
      "\r",
      "Episode 6|Iteration 60|reward:  262.0|last_reward_at:   60|Elapsed Time: 0:00:00||"
     ]
    },
    {
     "name": "stderr",
     "output_type": "stream",
     "text": [
      "\r",
      "Episode 6|Iteration 61|reward:  266.0|last_reward_at:   60|Elapsed Time: 0:00:00||"
     ]
    },
    {
     "name": "stderr",
     "output_type": "stream",
     "text": [
      "\r",
      "Episode 6|Iteration 61|reward:  266.0|last_reward_at:   61|Elapsed Time: 0:00:00||"
     ]
    },
    {
     "name": "stderr",
     "output_type": "stream",
     "text": [
      "\r",
      "Episode 6|Iteration 62|reward:  366.0|last_reward_at:   61|Elapsed Time: 0:00:00||"
     ]
    },
    {
     "name": "stderr",
     "output_type": "stream",
     "text": [
      "\r",
      "Episode 6|Iteration 62|reward:  366.0|last_reward_at:   62|Elapsed Time: 0:00:00||"
     ]
    },
    {
     "name": "stderr",
     "output_type": "stream",
     "text": [
      "\r",
      "Episode 6|Iteration 71|reward:  368.0|last_reward_at:   62|Elapsed Time: 0:00:00||"
     ]
    },
    {
     "name": "stderr",
     "output_type": "stream",
     "text": [
      "\r",
      "Episode 6|Iteration 71|reward:  368.0|last_reward_at:   71|Elapsed Time: 0:00:00||"
     ]
    },
    {
     "name": "stderr",
     "output_type": "stream",
     "text": [
      "\r",
      "Episode 6|Iteration 72|reward:  382.0|last_reward_at:   71|Elapsed Time: 0:00:00||"
     ]
    },
    {
     "name": "stderr",
     "output_type": "stream",
     "text": [
      "\r",
      "Episode 6|Iteration 72|reward:  382.0|last_reward_at:   72|Elapsed Time: 0:00:00||"
     ]
    },
    {
     "name": "stderr",
     "output_type": "stream",
     "text": [
      "\r",
      "Episode 6|Iteration 74|reward:  482.0|last_reward_at:   72|Elapsed Time: 0:00:00||"
     ]
    },
    {
     "name": "stderr",
     "output_type": "stream",
     "text": [
      "\r",
      "Episode 6|Iteration 74|reward:  482.0|last_reward_at:   74|Elapsed Time: 0:00:00||"
     ]
    },
    {
     "name": "stderr",
     "output_type": "stream",
     "text": [
      "\r",
      "Episode 6|Iteration 77|reward:  488.0|last_reward_at:   74|Elapsed Time: 0:00:00||"
     ]
    },
    {
     "name": "stderr",
     "output_type": "stream",
     "text": [
      "\r",
      "Episode 6|Iteration 77|reward:  488.0|last_reward_at:   77|Elapsed Time: 0:00:00||"
     ]
    },
    {
     "name": "stderr",
     "output_type": "stream",
     "text": [
      "\r",
      "Episode 6|Iteration 79|reward:  494.0|last_reward_at:   77|Elapsed Time: 0:00:00||"
     ]
    },
    {
     "name": "stderr",
     "output_type": "stream",
     "text": [
      "\r",
      "Episode 6|Iteration 79|reward:  494.0|last_reward_at:   79|Elapsed Time: 0:00:00||"
     ]
    },
    {
     "name": "stderr",
     "output_type": "stream",
     "text": [
      "\r",
      "Episode 6|Iteration 85|reward:  500.0|last_reward_at:   79|Elapsed Time: 0:00:00||"
     ]
    },
    {
     "name": "stderr",
     "output_type": "stream",
     "text": [
      "\r",
      "Episode 6|Iteration 85|reward:  500.0|last_reward_at:   85|Elapsed Time: 0:00:00||"
     ]
    },
    {
     "name": "stderr",
     "output_type": "stream",
     "text": [
      "\r",
      "Episode 6|Iteration 105|reward:  514.0|last_reward_at:   85|Elapsed Time: 0:00:00||"
     ]
    },
    {
     "name": "stderr",
     "output_type": "stream",
     "text": [
      "\r",
      "Episode 6|Iteration 105|reward:  514.0|last_reward_at:  105|Elapsed Time: 0:00:00||"
     ]
    },
    {
     "name": "stderr",
     "output_type": "stream",
     "text": [
      "\r",
      "Episode 6|Iteration 112|reward:  614.0|last_reward_at:  105|Elapsed Time: 0:00:00||"
     ]
    },
    {
     "name": "stderr",
     "output_type": "stream",
     "text": [
      "\r",
      "Episode 6|Iteration 112|reward:  614.0|last_reward_at:  112|Elapsed Time: 0:00:00||"
     ]
    },
    {
     "name": "stderr",
     "output_type": "stream",
     "text": [
      "\r",
      "Episode 6|Iteration 129|reward:  616.0|last_reward_at:  112|Elapsed Time: 0:00:00||"
     ]
    },
    {
     "name": "stderr",
     "output_type": "stream",
     "text": [
      "\r",
      "Episode 6|Iteration 129|reward:  616.0|last_reward_at:  129|Elapsed Time: 0:00:00||"
     ]
    },
    {
     "name": "stderr",
     "output_type": "stream",
     "text": [
      "\r",
      "Episode 6|Iteration 130|reward:  630.0|last_reward_at:  129|Elapsed Time: 0:00:00||"
     ]
    },
    {
     "name": "stderr",
     "output_type": "stream",
     "text": [
      "\r",
      "Episode 6|Iteration 130|reward:  630.0|last_reward_at:  130|Elapsed Time: 0:00:00||"
     ]
    },
    {
     "name": "stderr",
     "output_type": "stream",
     "text": [
      "\r",
      "Episode 6|Iteration 135|reward:  730.0|last_reward_at:  130|Elapsed Time: 0:00:00||"
     ]
    },
    {
     "name": "stderr",
     "output_type": "stream",
     "text": [
      "\r",
      "Episode 6|Iteration 135|reward:  730.0|last_reward_at:  135|Elapsed Time: 0:00:00||"
     ]
    },
    {
     "name": "stderr",
     "output_type": "stream",
     "text": [
      "\r",
      "Episode 6|Iteration 137|reward:  736.0|last_reward_at:  135|Elapsed Time: 0:00:00||"
     ]
    },
    {
     "name": "stderr",
     "output_type": "stream",
     "text": [
      "\r",
      "Episode 6|Iteration 137|reward:  736.0|last_reward_at:  137|Elapsed Time: 0:00:00||"
     ]
    },
    {
     "name": "stderr",
     "output_type": "stream",
     "text": [
      "\r",
      "Episode 6|Iteration 138|reward:  738.0|last_reward_at:  137|Elapsed Time: 0:00:00||"
     ]
    },
    {
     "name": "stderr",
     "output_type": "stream",
     "text": [
      "\r",
      "Episode 6|Iteration 138|reward:  738.0|last_reward_at:  138|Elapsed Time: 0:00:00||"
     ]
    },
    {
     "name": "stderr",
     "output_type": "stream",
     "text": [
      "\r",
      "Episode 6|Iteration 154|reward:  744.0|last_reward_at:  138|Elapsed Time: 0:00:00||"
     ]
    },
    {
     "name": "stderr",
     "output_type": "stream",
     "text": [
      "\r",
      "Episode 6|Iteration 154|reward:  744.0|last_reward_at:  154|Elapsed Time: 0:00:00||"
     ]
    },
    {
     "name": "stderr",
     "output_type": "stream",
     "text": [
      "\r",
      "Episode 6|Iteration 175|reward:  744.0|last_reward_at:  154|Elapsed Time: 0:00:00||"
     ]
    },
    {
     "name": "stderr",
     "output_type": "stream",
     "text": [
      "\r",
      "Episode 6|Iteration 181|reward:  758.0|last_reward_at:  154|Elapsed Time: 0:00:00||"
     ]
    },
    {
     "name": "stderr",
     "output_type": "stream",
     "text": [
      "\r",
      "Episode 6|Iteration 181|reward:  758.0|last_reward_at:  181|Elapsed Time: 0:00:00||"
     ]
    },
    {
     "name": "stderr",
     "output_type": "stream",
     "text": [
      "\r",
      "Episode 6|Iteration 185|reward:  858.0|last_reward_at:  181|Elapsed Time: 0:00:00||"
     ]
    },
    {
     "name": "stderr",
     "output_type": "stream",
     "text": [
      "\r",
      "Episode 6|Iteration 185|reward:  858.0|last_reward_at:  185|Elapsed Time: 0:00:00||"
     ]
    },
    {
     "name": "stderr",
     "output_type": "stream",
     "text": [
      "\r",
      "Episode 6|Iteration 186|reward: 5858.0|last_reward_at:  185|Elapsed Time: 0:00:00||"
     ]
    },
    {
     "name": "stderr",
     "output_type": "stream",
     "text": [
      "\r",
      "Episode 6|Iteration 186|reward: 5858.0|last_reward_at:  186|Elapsed Time: 0:00:00||"
     ]
    },
    {
     "name": "stderr",
     "output_type": "stream",
     "text": [
      "\n"
     ]
    },
    {
     "name": "stdout",
     "output_type": "stream",
     "text": [
      "  Episode 6 ended at t=186 \n",
      "  Breakdown [Reward/NoReward (Success rate)]\n",
      "    explore-local: 9/42 (0.18)\n",
      "    explore-remote: 12/91 (0.12)\n",
      "    explore-connect: 0/0 (NaN)\n",
      "    exploit-local: 0/0 (NaN)\n",
      "    exploit-remote: 0/0 (NaN)\n",
      "    exploit-connect: 7/25 (0.22)\n",
      "  exploit deflected to exploration: 20\n",
      "  ## Episode: 7/10 'Credential lookups (ϵ-greedy)' ϵ=0.7277, \n"
     ]
    },
    {
     "name": "stderr",
     "output_type": "stream",
     "text": [
      "\r",
      "Episode 7|Iteration 0|reward: ------|last_reward_at: ----|Elapsed Time: 0:00:00||"
     ]
    },
    {
     "name": "stderr",
     "output_type": "stream",
     "text": [
      "\r",
      "Episode 7|Iteration 1|reward:   14.0|last_reward_at: ----|Elapsed Time: 0:00:00||"
     ]
    },
    {
     "name": "stderr",
     "output_type": "stream",
     "text": [
      "\r",
      "Episode 7|Iteration 1|reward:   14.0|last_reward_at:    1|Elapsed Time: 0:00:00||"
     ]
    },
    {
     "name": "stderr",
     "output_type": "stream",
     "text": [
      "\r",
      "Episode 7|Iteration 2|reward:  114.0|last_reward_at:    1|Elapsed Time: 0:00:00||"
     ]
    },
    {
     "name": "stderr",
     "output_type": "stream",
     "text": [
      "\r",
      "Episode 7|Iteration 2|reward:  114.0|last_reward_at:    2|Elapsed Time: 0:00:00||"
     ]
    },
    {
     "name": "stderr",
     "output_type": "stream",
     "text": [
      "\r",
      "Episode 7|Iteration 5|reward:  116.0|last_reward_at:    2|Elapsed Time: 0:00:00||"
     ]
    },
    {
     "name": "stderr",
     "output_type": "stream",
     "text": [
      "\r",
      "Episode 7|Iteration 5|reward:  116.0|last_reward_at:    5|Elapsed Time: 0:00:00||"
     ]
    },
    {
     "name": "stderr",
     "output_type": "stream",
     "text": [
      "\r",
      "Episode 7|Iteration 7|reward:  118.0|last_reward_at:    5|Elapsed Time: 0:00:00||"
     ]
    },
    {
     "name": "stderr",
     "output_type": "stream",
     "text": [
      "\r",
      "Episode 7|Iteration 7|reward:  118.0|last_reward_at:    7|Elapsed Time: 0:00:00||"
     ]
    },
    {
     "name": "stderr",
     "output_type": "stream",
     "text": [
      "\r",
      "Episode 7|Iteration 18|reward:  132.0|last_reward_at:    7|Elapsed Time: 0:00:00||"
     ]
    },
    {
     "name": "stderr",
     "output_type": "stream",
     "text": [
      "\r",
      "Episode 7|Iteration 18|reward:  132.0|last_reward_at:   18|Elapsed Time: 0:00:00||"
     ]
    },
    {
     "name": "stderr",
     "output_type": "stream",
     "text": [
      "\r",
      "Episode 7|Iteration 23|reward:  232.0|last_reward_at:   18|Elapsed Time: 0:00:00||"
     ]
    },
    {
     "name": "stderr",
     "output_type": "stream",
     "text": [
      "\r",
      "Episode 7|Iteration 23|reward:  232.0|last_reward_at:   23|Elapsed Time: 0:00:00||"
     ]
    },
    {
     "name": "stderr",
     "output_type": "stream",
     "text": [
      "\r",
      "Episode 7|Iteration 25|reward:  246.0|last_reward_at:   23|Elapsed Time: 0:00:00||"
     ]
    },
    {
     "name": "stderr",
     "output_type": "stream",
     "text": [
      "\r",
      "Episode 7|Iteration 25|reward:  246.0|last_reward_at:   25|Elapsed Time: 0:00:00||"
     ]
    },
    {
     "name": "stderr",
     "output_type": "stream",
     "text": [
      "\r",
      "Episode 7|Iteration 30|reward:  250.0|last_reward_at:   25|Elapsed Time: 0:00:00||"
     ]
    },
    {
     "name": "stderr",
     "output_type": "stream",
     "text": [
      "\r",
      "Episode 7|Iteration 30|reward:  250.0|last_reward_at:   30|Elapsed Time: 0:00:00||"
     ]
    },
    {
     "name": "stderr",
     "output_type": "stream",
     "text": [
      "\r",
      "Episode 7|Iteration 32|reward:  350.0|last_reward_at:   30|Elapsed Time: 0:00:00||"
     ]
    },
    {
     "name": "stderr",
     "output_type": "stream",
     "text": [
      "\r",
      "Episode 7|Iteration 32|reward:  350.0|last_reward_at:   32|Elapsed Time: 0:00:00||"
     ]
    },
    {
     "name": "stderr",
     "output_type": "stream",
     "text": [
      "\r",
      "Episode 7|Iteration 35|reward:  356.0|last_reward_at:   32|Elapsed Time: 0:00:00||"
     ]
    },
    {
     "name": "stderr",
     "output_type": "stream",
     "text": [
      "\r",
      "Episode 7|Iteration 35|reward:  356.0|last_reward_at:   35|Elapsed Time: 0:00:00||"
     ]
    },
    {
     "name": "stderr",
     "output_type": "stream",
     "text": [
      "\r",
      "Episode 7|Iteration 36|reward:  362.0|last_reward_at:   35|Elapsed Time: 0:00:00||"
     ]
    },
    {
     "name": "stderr",
     "output_type": "stream",
     "text": [
      "\r",
      "Episode 7|Iteration 36|reward:  362.0|last_reward_at:   36|Elapsed Time: 0:00:00||"
     ]
    },
    {
     "name": "stderr",
     "output_type": "stream",
     "text": [
      "\r",
      "Episode 7|Iteration 37|reward:  368.0|last_reward_at:   36|Elapsed Time: 0:00:00||"
     ]
    },
    {
     "name": "stderr",
     "output_type": "stream",
     "text": [
      "\r",
      "Episode 7|Iteration 37|reward:  368.0|last_reward_at:   37|Elapsed Time: 0:00:00||"
     ]
    },
    {
     "name": "stderr",
     "output_type": "stream",
     "text": [
      "\r",
      "Episode 7|Iteration 38|reward:  374.0|last_reward_at:   37|Elapsed Time: 0:00:00||"
     ]
    },
    {
     "name": "stderr",
     "output_type": "stream",
     "text": [
      "\r",
      "Episode 7|Iteration 38|reward:  374.0|last_reward_at:   38|Elapsed Time: 0:00:00||"
     ]
    },
    {
     "name": "stderr",
     "output_type": "stream",
     "text": [
      "\r",
      "Episode 7|Iteration 69|reward:  374.0|last_reward_at:   38|Elapsed Time: 0:00:00||"
     ]
    },
    {
     "name": "stderr",
     "output_type": "stream",
     "text": [
      "\r",
      "Episode 7|Iteration 93|reward:  376.0|last_reward_at:   38|Elapsed Time: 0:00:00||"
     ]
    },
    {
     "name": "stderr",
     "output_type": "stream",
     "text": [
      "\r",
      "Episode 7|Iteration 93|reward:  376.0|last_reward_at:   93|Elapsed Time: 0:00:00||"
     ]
    },
    {
     "name": "stderr",
     "output_type": "stream",
     "text": [
      "\r",
      "Episode 7|Iteration 96|reward:  387.0|last_reward_at:   93|Elapsed Time: 0:00:00||"
     ]
    },
    {
     "name": "stderr",
     "output_type": "stream",
     "text": [
      "\r",
      "Episode 7|Iteration 96|reward:  387.0|last_reward_at:   96|Elapsed Time: 0:00:00||"
     ]
    },
    {
     "name": "stderr",
     "output_type": "stream",
     "text": [
      "\r",
      "Episode 7|Iteration 97|reward:  396.0|last_reward_at:   96|Elapsed Time: 0:00:00||"
     ]
    },
    {
     "name": "stderr",
     "output_type": "stream",
     "text": [
      "\r",
      "Episode 7|Iteration 97|reward:  396.0|last_reward_at:   97|Elapsed Time: 0:00:00||"
     ]
    },
    {
     "name": "stderr",
     "output_type": "stream",
     "text": [
      "\r",
      "Episode 7|Iteration 98|reward:  496.0|last_reward_at:   97|Elapsed Time: 0:00:00||"
     ]
    },
    {
     "name": "stderr",
     "output_type": "stream",
     "text": [
      "\r",
      "Episode 7|Iteration 98|reward:  496.0|last_reward_at:   98|Elapsed Time: 0:00:00||"
     ]
    },
    {
     "name": "stderr",
     "output_type": "stream",
     "text": [
      "\r",
      "Episode 7|Iteration 103|reward:  502.0|last_reward_at:   98|Elapsed Time: 0:00:00||"
     ]
    },
    {
     "name": "stderr",
     "output_type": "stream",
     "text": [
      "\r",
      "Episode 7|Iteration 103|reward:  502.0|last_reward_at:  103|Elapsed Time: 0:00:00||"
     ]
    },
    {
     "name": "stderr",
     "output_type": "stream",
     "text": [
      "\r",
      "Episode 7|Iteration 112|reward:  513.0|last_reward_at:  103|Elapsed Time: 0:00:00||"
     ]
    },
    {
     "name": "stderr",
     "output_type": "stream",
     "text": [
      "\r",
      "Episode 7|Iteration 112|reward:  513.0|last_reward_at:  112|Elapsed Time: 0:00:00||"
     ]
    },
    {
     "name": "stderr",
     "output_type": "stream",
     "text": [
      "\r",
      "Episode 7|Iteration 140|reward:  519.0|last_reward_at:  112|Elapsed Time: 0:00:00||"
     ]
    },
    {
     "name": "stderr",
     "output_type": "stream",
     "text": [
      "\r",
      "Episode 7|Iteration 140|reward:  519.0|last_reward_at:  140|Elapsed Time: 0:00:00||"
     ]
    },
    {
     "name": "stderr",
     "output_type": "stream",
     "text": [
      "\r",
      "Episode 7|Iteration 144|reward:  523.0|last_reward_at:  140|Elapsed Time: 0:00:00||"
     ]
    },
    {
     "name": "stderr",
     "output_type": "stream",
     "text": [
      "\r",
      "Episode 7|Iteration 144|reward:  523.0|last_reward_at:  144|Elapsed Time: 0:00:00||"
     ]
    },
    {
     "name": "stderr",
     "output_type": "stream",
     "text": [
      "\r",
      "Episode 7|Iteration 151|reward:  525.0|last_reward_at:  144|Elapsed Time: 0:00:00||"
     ]
    },
    {
     "name": "stderr",
     "output_type": "stream",
     "text": [
      "\r",
      "Episode 7|Iteration 151|reward:  525.0|last_reward_at:  151|Elapsed Time: 0:00:00||"
     ]
    },
    {
     "name": "stderr",
     "output_type": "stream",
     "text": [
      "\r",
      "Episode 7|Iteration 183|reward:  525.0|last_reward_at:  151|Elapsed Time: 0:00:00||"
     ]
    },
    {
     "name": "stderr",
     "output_type": "stream",
     "text": [
      "\r",
      "Episode 7|Iteration 199|reward:  534.0|last_reward_at:  151|Elapsed Time: 0:00:00||"
     ]
    },
    {
     "name": "stderr",
     "output_type": "stream",
     "text": [
      "\r",
      "Episode 7|Iteration 199|reward:  534.0|last_reward_at:  199|Elapsed Time: 0:00:00||"
     ]
    },
    {
     "name": "stderr",
     "output_type": "stream",
     "text": [
      "\r",
      "Episode 7|Iteration 202|reward:  634.0|last_reward_at:  199|Elapsed Time: 0:00:00||"
     ]
    },
    {
     "name": "stderr",
     "output_type": "stream",
     "text": [
      "\r",
      "Episode 7|Iteration 202|reward:  634.0|last_reward_at:  202|Elapsed Time: 0:00:00||"
     ]
    },
    {
     "name": "stderr",
     "output_type": "stream",
     "text": [
      "\r",
      "Episode 7|Iteration 220|reward:  645.0|last_reward_at:  202|Elapsed Time: 0:00:00||"
     ]
    },
    {
     "name": "stderr",
     "output_type": "stream",
     "text": [
      "\r",
      "Episode 7|Iteration 220|reward:  645.0|last_reward_at:  220|Elapsed Time: 0:00:00||"
     ]
    },
    {
     "name": "stderr",
     "output_type": "stream",
     "text": [
      "\r",
      "Episode 7|Iteration 236|reward:  654.0|last_reward_at:  220|Elapsed Time: 0:00:00||"
     ]
    },
    {
     "name": "stderr",
     "output_type": "stream",
     "text": [
      "\r",
      "Episode 7|Iteration 236|reward:  654.0|last_reward_at:  236|Elapsed Time: 0:00:00||"
     ]
    },
    {
     "name": "stderr",
     "output_type": "stream",
     "text": [
      "\r",
      "Episode 7|Iteration 239|reward:  754.0|last_reward_at:  236|Elapsed Time: 0:00:00||"
     ]
    },
    {
     "name": "stderr",
     "output_type": "stream",
     "text": [
      "\r",
      "Episode 7|Iteration 239|reward:  754.0|last_reward_at:  239|Elapsed Time: 0:00:00||"
     ]
    },
    {
     "name": "stderr",
     "output_type": "stream",
     "text": [
      "\r",
      "Episode 7|Iteration 248|reward:  760.0|last_reward_at:  239|Elapsed Time: 0:00:00||"
     ]
    },
    {
     "name": "stderr",
     "output_type": "stream",
     "text": [
      "\r",
      "Episode 7|Iteration 248|reward:  760.0|last_reward_at:  248|Elapsed Time: 0:00:00||"
     ]
    },
    {
     "name": "stderr",
     "output_type": "stream",
     "text": [
      "\r",
      "Episode 7|Iteration 272|reward:  774.0|last_reward_at:  248|Elapsed Time: 0:00:00||"
     ]
    },
    {
     "name": "stderr",
     "output_type": "stream",
     "text": [
      "\r",
      "Episode 7|Iteration 272|reward:  774.0|last_reward_at:  272|Elapsed Time: 0:00:00||"
     ]
    },
    {
     "name": "stderr",
     "output_type": "stream",
     "text": [
      "\r",
      "Episode 7|Iteration 273|reward:  874.0|last_reward_at:  272|Elapsed Time: 0:00:00||"
     ]
    },
    {
     "name": "stderr",
     "output_type": "stream",
     "text": [
      "\r",
      "Episode 7|Iteration 273|reward:  874.0|last_reward_at:  273|Elapsed Time: 0:00:00||"
     ]
    },
    {
     "name": "stderr",
     "output_type": "stream",
     "text": [
      "\r",
      "Episode 7|Iteration 297|reward:  874.0|last_reward_at:  273|Elapsed Time: 0:00:00||"
     ]
    },
    {
     "name": "stderr",
     "output_type": "stream",
     "text": [
      "\r",
      "Episode 7|Iteration 297|reward:  876.0|last_reward_at:  273|Elapsed Time: 0:00:00||"
     ]
    },
    {
     "name": "stderr",
     "output_type": "stream",
     "text": [
      "\r",
      "Episode 7|Iteration 297|reward:  876.0|last_reward_at:  297|Elapsed Time: 0:00:00||"
     ]
    },
    {
     "name": "stderr",
     "output_type": "stream",
     "text": [
      "\r",
      "Episode 7|Iteration 303|reward:  882.0|last_reward_at:  297|Elapsed Time: 0:00:00||"
     ]
    },
    {
     "name": "stderr",
     "output_type": "stream",
     "text": [
      "\r",
      "Episode 7|Iteration 303|reward:  882.0|last_reward_at:  303|Elapsed Time: 0:00:00||"
     ]
    },
    {
     "name": "stderr",
     "output_type": "stream",
     "text": [
      "\r",
      "Episode 7|Iteration 304|reward:  884.0|last_reward_at:  303|Elapsed Time: 0:00:00||"
     ]
    },
    {
     "name": "stderr",
     "output_type": "stream",
     "text": [
      "\r",
      "Episode 7|Iteration 304|reward:  884.0|last_reward_at:  304|Elapsed Time: 0:00:00||"
     ]
    },
    {
     "name": "stderr",
     "output_type": "stream",
     "text": [
      "\r",
      "Episode 7|Iteration 327|reward:  884.0|last_reward_at:  304|Elapsed Time: 0:00:00||"
     ]
    },
    {
     "name": "stderr",
     "output_type": "stream",
     "text": [
      "\r",
      "Episode 7|Iteration 336|reward:  890.0|last_reward_at:  304|Elapsed Time: 0:00:00||"
     ]
    },
    {
     "name": "stderr",
     "output_type": "stream",
     "text": [
      "\r",
      "Episode 7|Iteration 336|reward:  890.0|last_reward_at:  336|Elapsed Time: 0:00:00||"
     ]
    },
    {
     "name": "stderr",
     "output_type": "stream",
     "text": [
      "\r",
      "Episode 7|Iteration 341|reward: 5890.0|last_reward_at:  336|Elapsed Time: 0:00:00||"
     ]
    },
    {
     "name": "stderr",
     "output_type": "stream",
     "text": [
      "\r",
      "Episode 7|Iteration 341|reward: 5890.0|last_reward_at:  341|Elapsed Time: 0:00:00||"
     ]
    },
    {
     "name": "stderr",
     "output_type": "stream",
     "text": [
      "\n"
     ]
    },
    {
     "name": "stdout",
     "output_type": "stream",
     "text": [
      "  Episode 7 ended at t=341 \n",
      "  Breakdown [Reward/NoReward (Success rate)]\n",
      "    explore-local: 13/100 (0.12)\n",
      "    explore-remote: 14/140 (0.09)\n",
      "    explore-connect: 0/0 (NaN)\n",
      "    exploit-local: 0/0 (NaN)\n",
      "    exploit-remote: 0/0 (NaN)\n",
      "    exploit-connect: 8/66 (0.11)\n",
      "  exploit deflected to exploration: 29\n",
      "  ## Episode: 8/10 'Credential lookups (ϵ-greedy)' ϵ=0.7067, \n"
     ]
    },
    {
     "name": "stderr",
     "output_type": "stream",
     "text": [
      "\r",
      "Episode 8|Iteration 0|reward: ------|last_reward_at: ----|Elapsed Time: 0:00:00||"
     ]
    },
    {
     "name": "stderr",
     "output_type": "stream",
     "text": [
      "\r",
      "Episode 8|Iteration 1|reward:   14.0|last_reward_at: ----|Elapsed Time: 0:00:00||"
     ]
    },
    {
     "name": "stderr",
     "output_type": "stream",
     "text": [
      "\r",
      "Episode 8|Iteration 1|reward:   14.0|last_reward_at:    1|Elapsed Time: 0:00:00||"
     ]
    },
    {
     "name": "stderr",
     "output_type": "stream",
     "text": [
      "\r",
      "Episode 8|Iteration 3|reward:   16.0|last_reward_at:    1|Elapsed Time: 0:00:00||"
     ]
    },
    {
     "name": "stderr",
     "output_type": "stream",
     "text": [
      "\r",
      "Episode 8|Iteration 3|reward:   16.0|last_reward_at:    3|Elapsed Time: 0:00:00||"
     ]
    },
    {
     "name": "stderr",
     "output_type": "stream",
     "text": [
      "\r",
      "Episode 8|Iteration 4|reward:   20.0|last_reward_at:    3|Elapsed Time: 0:00:00||"
     ]
    },
    {
     "name": "stderr",
     "output_type": "stream",
     "text": [
      "\r",
      "Episode 8|Iteration 4|reward:   20.0|last_reward_at:    4|Elapsed Time: 0:00:00||"
     ]
    },
    {
     "name": "stderr",
     "output_type": "stream",
     "text": [
      "\r",
      "Episode 8|Iteration 5|reward:  120.0|last_reward_at:    4|Elapsed Time: 0:00:00||"
     ]
    },
    {
     "name": "stderr",
     "output_type": "stream",
     "text": [
      "\r",
      "Episode 8|Iteration 5|reward:  120.0|last_reward_at:    5|Elapsed Time: 0:00:00||"
     ]
    },
    {
     "name": "stderr",
     "output_type": "stream",
     "text": [
      "\r",
      "Episode 8|Iteration 7|reward:  131.0|last_reward_at:    5|Elapsed Time: 0:00:00||"
     ]
    },
    {
     "name": "stderr",
     "output_type": "stream",
     "text": [
      "\r",
      "Episode 8|Iteration 7|reward:  131.0|last_reward_at:    7|Elapsed Time: 0:00:00||"
     ]
    },
    {
     "name": "stderr",
     "output_type": "stream",
     "text": [
      "\r",
      "Episode 8|Iteration 10|reward:  140.0|last_reward_at:    7|Elapsed Time: 0:00:00||"
     ]
    },
    {
     "name": "stderr",
     "output_type": "stream",
     "text": [
      "\r",
      "Episode 8|Iteration 10|reward:  140.0|last_reward_at:   10|Elapsed Time: 0:00:00||"
     ]
    },
    {
     "name": "stderr",
     "output_type": "stream",
     "text": [
      "\r",
      "Episode 8|Iteration 13|reward:  240.0|last_reward_at:   10|Elapsed Time: 0:00:00||"
     ]
    },
    {
     "name": "stderr",
     "output_type": "stream",
     "text": [
      "\r",
      "Episode 8|Iteration 13|reward:  240.0|last_reward_at:   13|Elapsed Time: 0:00:00||"
     ]
    },
    {
     "name": "stderr",
     "output_type": "stream",
     "text": [
      "\r",
      "Episode 8|Iteration 19|reward:  246.0|last_reward_at:   13|Elapsed Time: 0:00:00||"
     ]
    },
    {
     "name": "stderr",
     "output_type": "stream",
     "text": [
      "\r",
      "Episode 8|Iteration 19|reward:  246.0|last_reward_at:   19|Elapsed Time: 0:00:00||"
     ]
    },
    {
     "name": "stderr",
     "output_type": "stream",
     "text": [
      "\r",
      "Episode 8|Iteration 23|reward:  260.0|last_reward_at:   19|Elapsed Time: 0:00:00||"
     ]
    },
    {
     "name": "stderr",
     "output_type": "stream",
     "text": [
      "\r",
      "Episode 8|Iteration 23|reward:  260.0|last_reward_at:   23|Elapsed Time: 0:00:00||"
     ]
    },
    {
     "name": "stderr",
     "output_type": "stream",
     "text": [
      "\r",
      "Episode 8|Iteration 26|reward:  264.0|last_reward_at:   23|Elapsed Time: 0:00:00||"
     ]
    },
    {
     "name": "stderr",
     "output_type": "stream",
     "text": [
      "\r",
      "Episode 8|Iteration 26|reward:  264.0|last_reward_at:   26|Elapsed Time: 0:00:00||"
     ]
    },
    {
     "name": "stderr",
     "output_type": "stream",
     "text": [
      "\r",
      "Episode 8|Iteration 27|reward:  266.0|last_reward_at:   26|Elapsed Time: 0:00:00||"
     ]
    },
    {
     "name": "stderr",
     "output_type": "stream",
     "text": [
      "\r",
      "Episode 8|Iteration 27|reward:  266.0|last_reward_at:   27|Elapsed Time: 0:00:00||"
     ]
    },
    {
     "name": "stderr",
     "output_type": "stream",
     "text": [
      "\r",
      "Episode 8|Iteration 30|reward:  366.0|last_reward_at:   27|Elapsed Time: 0:00:00||"
     ]
    },
    {
     "name": "stderr",
     "output_type": "stream",
     "text": [
      "\r",
      "Episode 8|Iteration 30|reward:  366.0|last_reward_at:   30|Elapsed Time: 0:00:00||"
     ]
    },
    {
     "name": "stderr",
     "output_type": "stream",
     "text": [
      "\r",
      "Episode 8|Iteration 33|reward:  380.0|last_reward_at:   30|Elapsed Time: 0:00:00||"
     ]
    },
    {
     "name": "stderr",
     "output_type": "stream",
     "text": [
      "\r",
      "Episode 8|Iteration 33|reward:  380.0|last_reward_at:   33|Elapsed Time: 0:00:00||"
     ]
    },
    {
     "name": "stderr",
     "output_type": "stream",
     "text": [
      "\r",
      "Episode 8|Iteration 38|reward:  480.0|last_reward_at:   33|Elapsed Time: 0:00:00||"
     ]
    },
    {
     "name": "stderr",
     "output_type": "stream",
     "text": [
      "\r",
      "Episode 8|Iteration 38|reward:  480.0|last_reward_at:   38|Elapsed Time: 0:00:00||"
     ]
    },
    {
     "name": "stderr",
     "output_type": "stream",
     "text": [
      "\r",
      "Episode 8|Iteration 44|reward:  486.0|last_reward_at:   38|Elapsed Time: 0:00:00||"
     ]
    },
    {
     "name": "stderr",
     "output_type": "stream",
     "text": [
      "\r",
      "Episode 8|Iteration 44|reward:  486.0|last_reward_at:   44|Elapsed Time: 0:00:00||"
     ]
    },
    {
     "name": "stderr",
     "output_type": "stream",
     "text": [
      "\r",
      "Episode 8|Iteration 54|reward:  492.0|last_reward_at:   44|Elapsed Time: 0:00:00||"
     ]
    },
    {
     "name": "stderr",
     "output_type": "stream",
     "text": [
      "\r",
      "Episode 8|Iteration 54|reward:  492.0|last_reward_at:   54|Elapsed Time: 0:00:00||"
     ]
    },
    {
     "name": "stderr",
     "output_type": "stream",
     "text": [
      "\r",
      "Episode 8|Iteration 70|reward:  498.0|last_reward_at:   54|Elapsed Time: 0:00:00||"
     ]
    },
    {
     "name": "stderr",
     "output_type": "stream",
     "text": [
      "\r",
      "Episode 8|Iteration 70|reward:  498.0|last_reward_at:   70|Elapsed Time: 0:00:00||"
     ]
    },
    {
     "name": "stderr",
     "output_type": "stream",
     "text": [
      "\r",
      "Episode 8|Iteration 74|reward:  504.0|last_reward_at:   70|Elapsed Time: 0:00:00||"
     ]
    },
    {
     "name": "stderr",
     "output_type": "stream",
     "text": [
      "\r",
      "Episode 8|Iteration 74|reward:  504.0|last_reward_at:   74|Elapsed Time: 0:00:00||"
     ]
    },
    {
     "name": "stderr",
     "output_type": "stream",
     "text": [
      "\r",
      "Episode 8|Iteration 92|reward:  504.0|last_reward_at:   74|Elapsed Time: 0:00:00||"
     ]
    },
    {
     "name": "stderr",
     "output_type": "stream",
     "text": [
      "\r",
      "Episode 8|Iteration 109|reward:  515.0|last_reward_at:   74|Elapsed Time: 0:00:00||"
     ]
    },
    {
     "name": "stderr",
     "output_type": "stream",
     "text": [
      "\r",
      "Episode 8|Iteration 109|reward:  515.0|last_reward_at:  109|Elapsed Time: 0:00:00||"
     ]
    },
    {
     "name": "stderr",
     "output_type": "stream",
     "text": [
      "\r",
      "Episode 8|Iteration 132|reward:  519.0|last_reward_at:  109|Elapsed Time: 0:00:00||"
     ]
    },
    {
     "name": "stderr",
     "output_type": "stream",
     "text": [
      "\r",
      "Episode 8|Iteration 132|reward:  519.0|last_reward_at:  132|Elapsed Time: 0:00:00||"
     ]
    },
    {
     "name": "stderr",
     "output_type": "stream",
     "text": [
      "\r",
      "Episode 8|Iteration 136|reward:  525.0|last_reward_at:  132|Elapsed Time: 0:00:00||"
     ]
    },
    {
     "name": "stderr",
     "output_type": "stream",
     "text": [
      "\r",
      "Episode 8|Iteration 136|reward:  525.0|last_reward_at:  136|Elapsed Time: 0:00:00||"
     ]
    },
    {
     "name": "stderr",
     "output_type": "stream",
     "text": [
      "\r",
      "Episode 8|Iteration 159|reward:  534.0|last_reward_at:  136|Elapsed Time: 0:00:00||"
     ]
    },
    {
     "name": "stderr",
     "output_type": "stream",
     "text": [
      "\r",
      "Episode 8|Iteration 159|reward:  534.0|last_reward_at:  159|Elapsed Time: 0:00:00||"
     ]
    },
    {
     "name": "stderr",
     "output_type": "stream",
     "text": [
      "\r",
      "Episode 8|Iteration 160|reward:  634.0|last_reward_at:  159|Elapsed Time: 0:00:00||"
     ]
    },
    {
     "name": "stderr",
     "output_type": "stream",
     "text": [
      "\r",
      "Episode 8|Iteration 160|reward:  634.0|last_reward_at:  160|Elapsed Time: 0:00:00||"
     ]
    },
    {
     "name": "stderr",
     "output_type": "stream",
     "text": [
      "\r",
      "Episode 8|Iteration 176|reward: 5634.0|last_reward_at:  160|Elapsed Time: 0:00:00||"
     ]
    },
    {
     "name": "stderr",
     "output_type": "stream",
     "text": [
      "\r",
      "Episode 8|Iteration 176|reward: 5634.0|last_reward_at:  176|Elapsed Time: 0:00:00||"
     ]
    },
    {
     "name": "stderr",
     "output_type": "stream",
     "text": [
      "\n"
     ]
    },
    {
     "name": "stdout",
     "output_type": "stream",
     "text": [
      "  Episode 8 ended at t=176 \n",
      "  Breakdown [Reward/NoReward (Success rate)]\n",
      "    explore-local: 9/53 (0.15)\n",
      "    explore-remote: 10/60 (0.14)\n",
      "    explore-connect: 0/0 (NaN)\n",
      "    exploit-local: 0/0 (NaN)\n",
      "    exploit-remote: 0/0 (NaN)\n",
      "    exploit-connect: 5/39 (0.11)\n",
      "  exploit deflected to exploration: 14\n",
      "  ## Episode: 9/10 'Credential lookups (ϵ-greedy)' ϵ=0.6961, \n"
     ]
    },
    {
     "name": "stderr",
     "output_type": "stream",
     "text": [
      "\r",
      "Episode 9|Iteration 0|reward: ------|last_reward_at: ----|Elapsed Time: 0:00:00||"
     ]
    },
    {
     "name": "stderr",
     "output_type": "stream",
     "text": [
      "\r",
      "Episode 9|Iteration 1|reward:    0.0|last_reward_at: ----|Elapsed Time: 0:00:00||"
     ]
    },
    {
     "name": "stderr",
     "output_type": "stream",
     "text": [
      "\r",
      "Episode 9|Iteration 10|reward:   14.0|last_reward_at: ----|Elapsed Time: 0:00:00||"
     ]
    },
    {
     "name": "stderr",
     "output_type": "stream",
     "text": [
      "\r",
      "Episode 9|Iteration 10|reward:   14.0|last_reward_at:   10|Elapsed Time: 0:00:00||"
     ]
    },
    {
     "name": "stderr",
     "output_type": "stream",
     "text": [
      "\r",
      "Episode 9|Iteration 13|reward:  114.0|last_reward_at:   10|Elapsed Time: 0:00:00||"
     ]
    },
    {
     "name": "stderr",
     "output_type": "stream",
     "text": [
      "\r",
      "Episode 9|Iteration 13|reward:  114.0|last_reward_at:   13|Elapsed Time: 0:00:00||"
     ]
    },
    {
     "name": "stderr",
     "output_type": "stream",
     "text": [
      "\r",
      "Episode 9|Iteration 15|reward:  116.0|last_reward_at:   13|Elapsed Time: 0:00:00||"
     ]
    },
    {
     "name": "stderr",
     "output_type": "stream",
     "text": [
      "\r",
      "Episode 9|Iteration 15|reward:  116.0|last_reward_at:   15|Elapsed Time: 0:00:00||"
     ]
    },
    {
     "name": "stderr",
     "output_type": "stream",
     "text": [
      "\r",
      "Episode 9|Iteration 16|reward:  127.0|last_reward_at:   15|Elapsed Time: 0:00:00||"
     ]
    },
    {
     "name": "stderr",
     "output_type": "stream",
     "text": [
      "\r",
      "Episode 9|Iteration 16|reward:  127.0|last_reward_at:   16|Elapsed Time: 0:00:00||"
     ]
    },
    {
     "name": "stderr",
     "output_type": "stream",
     "text": [
      "\r",
      "Episode 9|Iteration 19|reward:  136.0|last_reward_at:   16|Elapsed Time: 0:00:00||"
     ]
    },
    {
     "name": "stderr",
     "output_type": "stream",
     "text": [
      "\r",
      "Episode 9|Iteration 19|reward:  136.0|last_reward_at:   19|Elapsed Time: 0:00:00||"
     ]
    },
    {
     "name": "stderr",
     "output_type": "stream",
     "text": [
      "\r",
      "Episode 9|Iteration 20|reward:  236.0|last_reward_at:   19|Elapsed Time: 0:00:00||"
     ]
    },
    {
     "name": "stderr",
     "output_type": "stream",
     "text": [
      "\r",
      "Episode 9|Iteration 20|reward:  236.0|last_reward_at:   20|Elapsed Time: 0:00:00||"
     ]
    },
    {
     "name": "stderr",
     "output_type": "stream",
     "text": [
      "\r",
      "Episode 9|Iteration 21|reward:  238.0|last_reward_at:   20|Elapsed Time: 0:00:00||"
     ]
    },
    {
     "name": "stderr",
     "output_type": "stream",
     "text": [
      "\r",
      "Episode 9|Iteration 21|reward:  238.0|last_reward_at:   21|Elapsed Time: 0:00:00||"
     ]
    },
    {
     "name": "stderr",
     "output_type": "stream",
     "text": [
      "\r",
      "Episode 9|Iteration 22|reward:  249.0|last_reward_at:   21|Elapsed Time: 0:00:00||"
     ]
    },
    {
     "name": "stderr",
     "output_type": "stream",
     "text": [
      "\r",
      "Episode 9|Iteration 22|reward:  249.0|last_reward_at:   22|Elapsed Time: 0:00:00||"
     ]
    },
    {
     "name": "stderr",
     "output_type": "stream",
     "text": [
      "\r",
      "Episode 9|Iteration 23|reward:  253.0|last_reward_at:   22|Elapsed Time: 0:00:00||"
     ]
    },
    {
     "name": "stderr",
     "output_type": "stream",
     "text": [
      "\r",
      "Episode 9|Iteration 23|reward:  253.0|last_reward_at:   23|Elapsed Time: 0:00:00||"
     ]
    },
    {
     "name": "stderr",
     "output_type": "stream",
     "text": [
      "\r",
      "Episode 9|Iteration 26|reward:  259.0|last_reward_at:   23|Elapsed Time: 0:00:00||"
     ]
    },
    {
     "name": "stderr",
     "output_type": "stream",
     "text": [
      "\r",
      "Episode 9|Iteration 26|reward:  259.0|last_reward_at:   26|Elapsed Time: 0:00:00||"
     ]
    },
    {
     "name": "stderr",
     "output_type": "stream",
     "text": [
      "\r",
      "Episode 9|Iteration 46|reward:  261.0|last_reward_at:   26|Elapsed Time: 0:00:00||"
     ]
    },
    {
     "name": "stderr",
     "output_type": "stream",
     "text": [
      "\r",
      "Episode 9|Iteration 46|reward:  261.0|last_reward_at:   46|Elapsed Time: 0:00:00||"
     ]
    },
    {
     "name": "stderr",
     "output_type": "stream",
     "text": [
      "\r",
      "Episode 9|Iteration 51|reward:  270.0|last_reward_at:   46|Elapsed Time: 0:00:00||"
     ]
    },
    {
     "name": "stderr",
     "output_type": "stream",
     "text": [
      "\r",
      "Episode 9|Iteration 51|reward:  270.0|last_reward_at:   51|Elapsed Time: 0:00:00||"
     ]
    },
    {
     "name": "stderr",
     "output_type": "stream",
     "text": [
      "\r",
      "Episode 9|Iteration 52|reward:  370.0|last_reward_at:   51|Elapsed Time: 0:00:00||"
     ]
    },
    {
     "name": "stderr",
     "output_type": "stream",
     "text": [
      "\r",
      "Episode 9|Iteration 52|reward:  370.0|last_reward_at:   52|Elapsed Time: 0:00:00||"
     ]
    },
    {
     "name": "stderr",
     "output_type": "stream",
     "text": [
      "\r",
      "Episode 9|Iteration 56|reward:  381.0|last_reward_at:   52|Elapsed Time: 0:00:00||"
     ]
    },
    {
     "name": "stderr",
     "output_type": "stream",
     "text": [
      "\r",
      "Episode 9|Iteration 56|reward:  381.0|last_reward_at:   56|Elapsed Time: 0:00:00||"
     ]
    },
    {
     "name": "stderr",
     "output_type": "stream",
     "text": [
      "\r",
      "Episode 9|Iteration 58|reward:  389.0|last_reward_at:   56|Elapsed Time: 0:00:00||"
     ]
    },
    {
     "name": "stderr",
     "output_type": "stream",
     "text": [
      "\r",
      "Episode 9|Iteration 58|reward:  389.0|last_reward_at:   58|Elapsed Time: 0:00:00||"
     ]
    },
    {
     "name": "stderr",
     "output_type": "stream",
     "text": [
      "\r",
      "Episode 9|Iteration 60|reward:  395.0|last_reward_at:   58|Elapsed Time: 0:00:00||"
     ]
    },
    {
     "name": "stderr",
     "output_type": "stream",
     "text": [
      "\r",
      "Episode 9|Iteration 60|reward:  395.0|last_reward_at:   60|Elapsed Time: 0:00:00||"
     ]
    },
    {
     "name": "stderr",
     "output_type": "stream",
     "text": [
      "\r",
      "Episode 9|Iteration 92|reward:  395.0|last_reward_at:   60|Elapsed Time: 0:00:00||"
     ]
    },
    {
     "name": "stderr",
     "output_type": "stream",
     "text": [
      "\r",
      "Episode 9|Iteration 97|reward:  401.0|last_reward_at:   60|Elapsed Time: 0:00:00||"
     ]
    },
    {
     "name": "stderr",
     "output_type": "stream",
     "text": [
      "\r",
      "Episode 9|Iteration 97|reward:  401.0|last_reward_at:   97|Elapsed Time: 0:00:00||"
     ]
    },
    {
     "name": "stderr",
     "output_type": "stream",
     "text": [
      "\r",
      "Episode 9|Iteration 103|reward:  410.0|last_reward_at:   97|Elapsed Time: 0:00:00||"
     ]
    },
    {
     "name": "stderr",
     "output_type": "stream",
     "text": [
      "\r",
      "Episode 9|Iteration 103|reward:  410.0|last_reward_at:  103|Elapsed Time: 0:00:00||"
     ]
    },
    {
     "name": "stderr",
     "output_type": "stream",
     "text": [
      "\r",
      "Episode 9|Iteration 104|reward:  510.0|last_reward_at:  103|Elapsed Time: 0:00:00||"
     ]
    },
    {
     "name": "stderr",
     "output_type": "stream",
     "text": [
      "\r",
      "Episode 9|Iteration 104|reward:  510.0|last_reward_at:  104|Elapsed Time: 0:00:00||"
     ]
    },
    {
     "name": "stderr",
     "output_type": "stream",
     "text": [
      "\r",
      "Episode 9|Iteration 130|reward:  510.0|last_reward_at:  104|Elapsed Time: 0:00:00||"
     ]
    },
    {
     "name": "stderr",
     "output_type": "stream",
     "text": [
      "\r",
      "Episode 9|Iteration 141|reward:  521.0|last_reward_at:  104|Elapsed Time: 0:00:00||"
     ]
    },
    {
     "name": "stderr",
     "output_type": "stream",
     "text": [
      "\r",
      "Episode 9|Iteration 141|reward:  521.0|last_reward_at:  141|Elapsed Time: 0:00:00||"
     ]
    },
    {
     "name": "stderr",
     "output_type": "stream",
     "text": [
      "\r",
      "Episode 9|Iteration 149|reward:  523.0|last_reward_at:  141|Elapsed Time: 0:00:00||"
     ]
    },
    {
     "name": "stderr",
     "output_type": "stream",
     "text": [
      "\r",
      "Episode 9|Iteration 149|reward:  523.0|last_reward_at:  149|Elapsed Time: 0:00:00||"
     ]
    },
    {
     "name": "stderr",
     "output_type": "stream",
     "text": [
      "\r",
      "Episode 9|Iteration 158|reward:  527.0|last_reward_at:  149|Elapsed Time: 0:00:00||"
     ]
    },
    {
     "name": "stderr",
     "output_type": "stream",
     "text": [
      "\r",
      "Episode 9|Iteration 158|reward:  527.0|last_reward_at:  158|Elapsed Time: 0:00:00||"
     ]
    },
    {
     "name": "stderr",
     "output_type": "stream",
     "text": [
      "\r",
      "Episode 9|Iteration 169|reward:  536.0|last_reward_at:  158|Elapsed Time: 0:00:00||"
     ]
    },
    {
     "name": "stderr",
     "output_type": "stream",
     "text": [
      "\r",
      "Episode 9|Iteration 169|reward:  536.0|last_reward_at:  169|Elapsed Time: 0:00:00||"
     ]
    },
    {
     "name": "stderr",
     "output_type": "stream",
     "text": [
      "\r",
      "Episode 9|Iteration 171|reward:  636.0|last_reward_at:  169|Elapsed Time: 0:00:00||"
     ]
    },
    {
     "name": "stderr",
     "output_type": "stream",
     "text": [
      "\r",
      "Episode 9|Iteration 171|reward:  636.0|last_reward_at:  171|Elapsed Time: 0:00:00||"
     ]
    },
    {
     "name": "stderr",
     "output_type": "stream",
     "text": [
      "\r",
      "Episode 9|Iteration 193|reward:  647.0|last_reward_at:  171|Elapsed Time: 0:00:00||"
     ]
    },
    {
     "name": "stderr",
     "output_type": "stream",
     "text": [
      "\r",
      "Episode 9|Iteration 193|reward:  647.0|last_reward_at:  193|Elapsed Time: 0:00:00||"
     ]
    },
    {
     "name": "stderr",
     "output_type": "stream",
     "text": [
      "\r",
      "Episode 9|Iteration 206|reward: 5647.0|last_reward_at:  193|Elapsed Time: 0:00:00||"
     ]
    },
    {
     "name": "stderr",
     "output_type": "stream",
     "text": [
      "\r",
      "Episode 9|Iteration 206|reward: 5647.0|last_reward_at:  206|Elapsed Time: 0:00:00||"
     ]
    },
    {
     "name": "stderr",
     "output_type": "stream",
     "text": [
      "\n"
     ]
    },
    {
     "name": "stdout",
     "output_type": "stream",
     "text": [
      "  Episode 9 ended at t=206 \n",
      "  Breakdown [Reward/NoReward (Success rate)]\n",
      "    explore-local: 10/46 (0.18)\n",
      "    explore-remote: 11/97 (0.10)\n",
      "    explore-connect: 0/0 (NaN)\n",
      "    exploit-local: 0/0 (NaN)\n",
      "    exploit-remote: 0/0 (NaN)\n",
      "    exploit-connect: 5/37 (0.12)\n",
      "  exploit deflected to exploration: 22\n",
      "  ## Episode: 10/10 'Credential lookups (ϵ-greedy)' ϵ=0.6839, \n"
     ]
    },
    {
     "name": "stderr",
     "output_type": "stream",
     "text": [
      "\r",
      "Episode 10|Iteration 0|reward: ------|last_reward_at: ----|Elapsed Time: 0:00:00||"
     ]
    },
    {
     "name": "stderr",
     "output_type": "stream",
     "text": [
      "\r",
      "Episode 10|Iteration 1|reward:    0.0|last_reward_at: ----|Elapsed Time: 0:00:00||"
     ]
    },
    {
     "name": "stderr",
     "output_type": "stream",
     "text": [
      "\r",
      "Episode 10|Iteration 2|reward:   14.0|last_reward_at: ----|Elapsed Time: 0:00:00||"
     ]
    },
    {
     "name": "stderr",
     "output_type": "stream",
     "text": [
      "\r",
      "Episode 10|Iteration 2|reward:   14.0|last_reward_at:    2|Elapsed Time: 0:00:00||"
     ]
    },
    {
     "name": "stderr",
     "output_type": "stream",
     "text": [
      "\r",
      "Episode 10|Iteration 4|reward:  114.0|last_reward_at:    2|Elapsed Time: 0:00:00||"
     ]
    },
    {
     "name": "stderr",
     "output_type": "stream",
     "text": [
      "\r",
      "Episode 10|Iteration 4|reward:  114.0|last_reward_at:    4|Elapsed Time: 0:00:00||"
     ]
    },
    {
     "name": "stderr",
     "output_type": "stream",
     "text": [
      "\r",
      "Episode 10|Iteration 5|reward:  116.0|last_reward_at:    4|Elapsed Time: 0:00:00||"
     ]
    },
    {
     "name": "stderr",
     "output_type": "stream",
     "text": [
      "\r",
      "Episode 10|Iteration 5|reward:  116.0|last_reward_at:    5|Elapsed Time: 0:00:00||"
     ]
    },
    {
     "name": "stderr",
     "output_type": "stream",
     "text": [
      "\r",
      "Episode 10|Iteration 7|reward:  130.0|last_reward_at:    5|Elapsed Time: 0:00:00||"
     ]
    },
    {
     "name": "stderr",
     "output_type": "stream",
     "text": [
      "\r",
      "Episode 10|Iteration 7|reward:  130.0|last_reward_at:    7|Elapsed Time: 0:00:00||"
     ]
    },
    {
     "name": "stderr",
     "output_type": "stream",
     "text": [
      "\r",
      "Episode 10|Iteration 8|reward:  136.0|last_reward_at:    7|Elapsed Time: 0:00:00||"
     ]
    },
    {
     "name": "stderr",
     "output_type": "stream",
     "text": [
      "\r",
      "Episode 10|Iteration 8|reward:  136.0|last_reward_at:    8|Elapsed Time: 0:00:00||"
     ]
    },
    {
     "name": "stderr",
     "output_type": "stream",
     "text": [
      "\r",
      "Episode 10|Iteration 10|reward:  236.0|last_reward_at:    8|Elapsed Time: 0:00:00||"
     ]
    },
    {
     "name": "stderr",
     "output_type": "stream",
     "text": [
      "\r",
      "Episode 10|Iteration 10|reward:  236.0|last_reward_at:   10|Elapsed Time: 0:00:00||"
     ]
    },
    {
     "name": "stderr",
     "output_type": "stream",
     "text": [
      "\r",
      "Episode 10|Iteration 12|reward:  242.0|last_reward_at:   10|Elapsed Time: 0:00:00||"
     ]
    },
    {
     "name": "stderr",
     "output_type": "stream",
     "text": [
      "\r",
      "Episode 10|Iteration 12|reward:  242.0|last_reward_at:   12|Elapsed Time: 0:00:00||"
     ]
    },
    {
     "name": "stderr",
     "output_type": "stream",
     "text": [
      "\r",
      "Episode 10|Iteration 18|reward:  244.0|last_reward_at:   12|Elapsed Time: 0:00:00||"
     ]
    },
    {
     "name": "stderr",
     "output_type": "stream",
     "text": [
      "\r",
      "Episode 10|Iteration 18|reward:  244.0|last_reward_at:   18|Elapsed Time: 0:00:00||"
     ]
    },
    {
     "name": "stderr",
     "output_type": "stream",
     "text": [
      "\r",
      "Episode 10|Iteration 38|reward:  258.0|last_reward_at:   18|Elapsed Time: 0:00:00||"
     ]
    },
    {
     "name": "stderr",
     "output_type": "stream",
     "text": [
      "\r",
      "Episode 10|Iteration 38|reward:  258.0|last_reward_at:   38|Elapsed Time: 0:00:00||"
     ]
    },
    {
     "name": "stderr",
     "output_type": "stream",
     "text": [
      "\r",
      "Episode 10|Iteration 39|reward:  260.0|last_reward_at:   38|Elapsed Time: 0:00:00||"
     ]
    },
    {
     "name": "stderr",
     "output_type": "stream",
     "text": [
      "\r",
      "Episode 10|Iteration 39|reward:  260.0|last_reward_at:   39|Elapsed Time: 0:00:00||"
     ]
    },
    {
     "name": "stderr",
     "output_type": "stream",
     "text": [
      "\r",
      "Episode 10|Iteration 41|reward:  360.0|last_reward_at:   39|Elapsed Time: 0:00:00||"
     ]
    },
    {
     "name": "stderr",
     "output_type": "stream",
     "text": [
      "\r",
      "Episode 10|Iteration 41|reward:  360.0|last_reward_at:   41|Elapsed Time: 0:00:00||"
     ]
    },
    {
     "name": "stderr",
     "output_type": "stream",
     "text": [
      "\r",
      "Episode 10|Iteration 52|reward:  374.0|last_reward_at:   41|Elapsed Time: 0:00:00||"
     ]
    },
    {
     "name": "stderr",
     "output_type": "stream",
     "text": [
      "\r",
      "Episode 10|Iteration 52|reward:  374.0|last_reward_at:   52|Elapsed Time: 0:00:00||"
     ]
    },
    {
     "name": "stderr",
     "output_type": "stream",
     "text": [
      "\r",
      "Episode 10|Iteration 53|reward:  474.0|last_reward_at:   52|Elapsed Time: 0:00:00||"
     ]
    },
    {
     "name": "stderr",
     "output_type": "stream",
     "text": [
      "\r",
      "Episode 10|Iteration 53|reward:  474.0|last_reward_at:   53|Elapsed Time: 0:00:00||"
     ]
    },
    {
     "name": "stderr",
     "output_type": "stream",
     "text": [
      "\r",
      "Episode 10|Iteration 54|reward:  476.0|last_reward_at:   53|Elapsed Time: 0:00:00||"
     ]
    },
    {
     "name": "stderr",
     "output_type": "stream",
     "text": [
      "\r",
      "Episode 10|Iteration 54|reward:  476.0|last_reward_at:   54|Elapsed Time: 0:00:00||"
     ]
    },
    {
     "name": "stderr",
     "output_type": "stream",
     "text": [
      "\r",
      "Episode 10|Iteration 57|reward:  482.0|last_reward_at:   54|Elapsed Time: 0:00:00||"
     ]
    },
    {
     "name": "stderr",
     "output_type": "stream",
     "text": [
      "\r",
      "Episode 10|Iteration 57|reward:  482.0|last_reward_at:   57|Elapsed Time: 0:00:00||"
     ]
    },
    {
     "name": "stderr",
     "output_type": "stream",
     "text": [
      "\r",
      "Episode 10|Iteration 65|reward:  496.0|last_reward_at:   57|Elapsed Time: 0:00:00||"
     ]
    },
    {
     "name": "stderr",
     "output_type": "stream",
     "text": [
      "\r",
      "Episode 10|Iteration 65|reward:  496.0|last_reward_at:   65|Elapsed Time: 0:00:00||"
     ]
    },
    {
     "name": "stderr",
     "output_type": "stream",
     "text": [
      "\r",
      "Episode 10|Iteration 66|reward:  596.0|last_reward_at:   65|Elapsed Time: 0:00:00||"
     ]
    },
    {
     "name": "stderr",
     "output_type": "stream",
     "text": [
      "\r",
      "Episode 10|Iteration 66|reward:  596.0|last_reward_at:   66|Elapsed Time: 0:00:00||"
     ]
    },
    {
     "name": "stderr",
     "output_type": "stream",
     "text": [
      "\r",
      "Episode 10|Iteration 73|reward:  602.0|last_reward_at:   66|Elapsed Time: 0:00:00||"
     ]
    },
    {
     "name": "stderr",
     "output_type": "stream",
     "text": [
      "\r",
      "Episode 10|Iteration 73|reward:  602.0|last_reward_at:   73|Elapsed Time: 0:00:00||"
     ]
    },
    {
     "name": "stderr",
     "output_type": "stream",
     "text": [
      "\r",
      "Episode 10|Iteration 86|reward:  613.0|last_reward_at:   73|Elapsed Time: 0:00:00||"
     ]
    },
    {
     "name": "stderr",
     "output_type": "stream",
     "text": [
      "\r",
      "Episode 10|Iteration 86|reward:  613.0|last_reward_at:   86|Elapsed Time: 0:00:00||"
     ]
    },
    {
     "name": "stderr",
     "output_type": "stream",
     "text": [
      "\r",
      "Episode 10|Iteration 96|reward:  615.0|last_reward_at:   86|Elapsed Time: 0:00:00||"
     ]
    },
    {
     "name": "stderr",
     "output_type": "stream",
     "text": [
      "\r",
      "Episode 10|Iteration 96|reward:  615.0|last_reward_at:   96|Elapsed Time: 0:00:00||"
     ]
    },
    {
     "name": "stderr",
     "output_type": "stream",
     "text": [
      "\r",
      "Episode 10|Iteration 102|reward:  621.0|last_reward_at:   96|Elapsed Time: 0:00:00||"
     ]
    },
    {
     "name": "stderr",
     "output_type": "stream",
     "text": [
      "\r",
      "Episode 10|Iteration 102|reward:  621.0|last_reward_at:  102|Elapsed Time: 0:00:00||"
     ]
    },
    {
     "name": "stderr",
     "output_type": "stream",
     "text": [
      "\r",
      "Episode 10|Iteration 110|reward:  623.0|last_reward_at:  102|Elapsed Time: 0:00:00||"
     ]
    },
    {
     "name": "stderr",
     "output_type": "stream",
     "text": [
      "\r",
      "Episode 10|Iteration 110|reward:  623.0|last_reward_at:  110|Elapsed Time: 0:00:00||"
     ]
    },
    {
     "name": "stderr",
     "output_type": "stream",
     "text": [
      "\r",
      "Episode 10|Iteration 123|reward:  629.0|last_reward_at:  110|Elapsed Time: 0:00:00||"
     ]
    },
    {
     "name": "stderr",
     "output_type": "stream",
     "text": [
      "\r",
      "Episode 10|Iteration 123|reward:  629.0|last_reward_at:  123|Elapsed Time: 0:00:00||"
     ]
    },
    {
     "name": "stderr",
     "output_type": "stream",
     "text": [
      "\r",
      "Episode 10|Iteration 124|reward:  635.0|last_reward_at:  123|Elapsed Time: 0:00:00||"
     ]
    },
    {
     "name": "stderr",
     "output_type": "stream",
     "text": [
      "\r",
      "Episode 10|Iteration 124|reward:  635.0|last_reward_at:  124|Elapsed Time: 0:00:00||"
     ]
    },
    {
     "name": "stderr",
     "output_type": "stream",
     "text": [
      "\r",
      "Episode 10|Iteration 127|reward:  643.0|last_reward_at:  124|Elapsed Time: 0:00:00||"
     ]
    },
    {
     "name": "stderr",
     "output_type": "stream",
     "text": [
      "\r",
      "Episode 10|Iteration 127|reward:  643.0|last_reward_at:  127|Elapsed Time: 0:00:00||"
     ]
    },
    {
     "name": "stderr",
     "output_type": "stream",
     "text": [
      "\r",
      "Episode 10|Iteration 146|reward:  652.0|last_reward_at:  127|Elapsed Time: 0:00:00||"
     ]
    },
    {
     "name": "stderr",
     "output_type": "stream",
     "text": [
      "\r",
      "Episode 10|Iteration 146|reward:  652.0|last_reward_at:  146|Elapsed Time: 0:00:00||"
     ]
    },
    {
     "name": "stderr",
     "output_type": "stream",
     "text": [
      "\r",
      "Episode 10|Iteration 148|reward:  752.0|last_reward_at:  146|Elapsed Time: 0:00:00||"
     ]
    },
    {
     "name": "stderr",
     "output_type": "stream",
     "text": [
      "\r",
      "Episode 10|Iteration 148|reward:  752.0|last_reward_at:  148|Elapsed Time: 0:00:00||"
     ]
    },
    {
     "name": "stderr",
     "output_type": "stream",
     "text": [
      "\r",
      "Episode 10|Iteration 161|reward: 5752.0|last_reward_at:  148|Elapsed Time: 0:00:00||"
     ]
    },
    {
     "name": "stderr",
     "output_type": "stream",
     "text": [
      "\r",
      "Episode 10|Iteration 161|reward: 5752.0|last_reward_at:  161|Elapsed Time: 0:00:00||"
     ]
    },
    {
     "name": "stderr",
     "output_type": "stream",
     "text": [
      "\n"
     ]
    },
    {
     "name": "stdout",
     "output_type": "stream",
     "text": [
      "  Episode 10 ended at t=161 \n",
      "  Breakdown [Reward/NoReward (Success rate)]\n",
      "    explore-local: 11/50 (0.18)\n",
      "    explore-remote: 11/45 (0.20)\n",
      "    explore-connect: 0/0 (NaN)\n",
      "    exploit-local: 0/0 (NaN)\n",
      "    exploit-remote: 0/0 (NaN)\n",
      "    exploit-connect: 6/38 (0.14)\n",
      "  exploit deflected to exploration: 12\n",
      "simulation ended\n"
     ]
    },
    {
     "data": {
      "image/png": "[encoded data removed]",
      "text/plain": [
       "<Figure size 640x480 with 1 Axes>"
      ]
     },
     "metadata": {},
     "output_type": "display_data"
    }
   ],
   "source": [
    "credlookup_run = learner.epsilon_greedy_search(\n",
    "    cyberbattlechain_defender,\n",
    "    ep,\n",
    "    learner=rca.CredentialCacheExploiter(),\n",
    "    episode_count=10,\n",
    "    iteration_count=iteration_count,\n",
    "    epsilon=0.90,\n",
    "    render=False,\n",
    "    epsilon_exponential_decay=10000,\n",
    "    epsilon_minimum=0.10,\n",
    "    verbosity=Verbosity.Quiet,\n",
    "    title=\"Credential lookups (ϵ-greedy)\",\n",
    ")"
   ]
  },
  {
   "cell_type": "code",
   "execution_count": 9,
   "id": "82e30774-7fcf-4230-a231-59808d40f2df",
   "metadata": {
    "execution": {
     "iopub.execute_input": "2024-08-07T22:36:49.028712Z",
     "iopub.status.busy": "2024-08-07T22:36:49.028076Z",
     "iopub.status.idle": "2024-08-07T22:36:49.488340Z",
     "shell.execute_reply": "2024-08-07T22:36:49.487094Z"
    },
    "papermill": {
     "duration": 0.54277,
     "end_time": "2024-08-07T22:36:49.489986",
     "exception": false,
     "start_time": "2024-08-07T22:36:48.947216",
     "status": "completed"
    },
    "tags": []
   },
   "outputs": [
    {
     "data": {
      "image/png": "[encoded data removed]",
      "text/plain": [
       "<Figure size 1000x800 with 1 Axes>"
      ]
     },
     "metadata": {},
     "output_type": "display_data"
    }
   ],
   "source": [
    "# Plots\n",
    "all_runs = [credlookup_run, dqn_with_defender, dql_exploit_run]\n",
    "p.plot_averaged_cummulative_rewards(all_runs=all_runs, title=f\"Attacker agents vs Basic Defender -- rewards\\n env={cyberbattlechain_defender.name}, episodes={training_episode_count}\", save_at=os.path.join(plots_dir, \"withdefender-cumreward.png\"))\n",
    "# p.plot_episodes_length(all_runs)\n",
    "p.plot_averaged_availability(title=f\"Attacker agents vs Basic Defender -- availability\\n env={cyberbattlechain_defender.name}, episodes={training_episode_count}\", all_runs=all_runs, show=False)"
   ]
  }
 ],
 "metadata": {
  "jupytext": {
   "cell_metadata_filter": "-all"
  },
  "kernelspec": {
   "display_name": "cybersim",
   "language": "python",
   "name": "python3"
  },
  "language_info": {
   "codemirror_mode": {
    "name": "ipython",
    "version": 3
   },
   "file_extension": ".py",
   "mimetype": "text/x-python",
   "name": "python",
   "nbconvert_exporter": "python",
   "pygments_lexer": "ipython3",
   "version": "3.9.19"
  },
  "papermill": {
   "default_parameters": {},
   "duration": 65.76973,
   "end_time": "2024-08-07T22:36:50.691241",
   "environment_variables": {},
   "exception": null,
   "input_path": "notebooks/notebook_withdefender.ipynb",
   "output_path": "notebooks/output/benchmark/notebook_withdefender.ipynb",
   "parameters": {
    "plots_dir": "notebooks/output/benchmark/plots"
   },
   "start_time": "2024-08-07T22:35:44.921511",
   "version": "2.3.3"
  }
 },
 "nbformat": 4,
 "nbformat_minor": 5
}